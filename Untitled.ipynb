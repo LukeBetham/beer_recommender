{
 "cells": [
  {
   "cell_type": "code",
   "execution_count": 1,
   "metadata": {
    "ExecuteTime": {
     "end_time": "2020-04-27T08:37:45.419524Z",
     "start_time": "2020-04-27T08:37:43.241395Z"
    }
   },
   "outputs": [],
   "source": [
    "import requests\n",
    "import bs4\n",
    "from bs4 import BeautifulSoup\n",
    "import pandas as pd\n",
    "import re\n",
    "from tqdm import tqdm_notebook\n",
    "import matplotlib.pyplot as plt\n",
    "import seaborn as sns"
   ]
  },
  {
   "cell_type": "code",
   "execution_count": 7,
   "metadata": {
    "ExecuteTime": {
     "end_time": "2020-04-27T08:51:00.855732Z",
     "start_time": "2020-04-27T08:51:00.664137Z"
    }
   },
   "outputs": [],
   "source": [
    "url_set = 'https://www.ratebeer.com/beer-ratings/0/{}/'\n",
    "r = requests.get(url_set)\n",
    "soup = BeautifulSoup(r.text, 'html.parser')"
   ]
  },
  {
   "cell_type": "code",
   "execution_count": 6,
   "metadata": {
    "ExecuteTime": {
     "end_time": "2020-04-27T08:49:23.471873Z",
     "start_time": "2020-04-27T08:49:23.464901Z"
    }
   },
   "outputs": [
    {
     "data": {
      "text/plain": [
       "'https://www.ratebeer.com/beer-ratings/0/2/'"
      ]
     },
     "execution_count": 6,
     "metadata": {},
     "output_type": "execute_result"
    }
   ],
   "source": [
    "for \n"
   ]
  },
  {
   "cell_type": "code",
   "execution_count": null,
   "metadata": {},
   "outputs": [],
   "source": [
    "\n",
    "def ratebeer_scraper(page_start=1, page_end=2, url_set=None):\n",
    "    \n",
    "    beer_name = []\n",
    "    beer_rating = []\n",
    "    brewery_name = []\n",
    "    location = []\n",
    "    review_content = []\n",
    "    reviewer_name = []\n",
    " \n",
    "    if url_set == None:\n",
    "        print(\"Need url to run\")\n",
    "        return\n",
    "\n",
    "    for x in tqdm_notebook(range(page_start, page_end + 1)):\n",
    "        url_format = url_set.format(x)\n",
    "        r = requests.get(url_format)\n",
    "        soup = BeautifulSoup(r.text, 'html.parser')\n",
    "        \n",
    "        for job in soup.find_all('div', attrs={'class':re.compile(r'^jobsearch-Serp.*unified.*')}):\n",
    "\n",
    "            try:\n",
    "                jobtitle.append(job.find('a', attrs={'class':'jobtitle turnstileLink'}).text.replace('\\n',''))\n",
    "                \n",
    "            except:\n",
    "                jobtitle.append(np.nan)\n",
    "\n",
    "            try:\n",
    "                company.append(job.find('span', attrs={'class':'company'}).text.replace('\\n',''))\n",
    "            except:\n",
    "                company.append(np.nan)\n",
    "\n",
    "            try:\n",
    "                rating.append(job.find('span', attrs={'class':'ratingsContent'}).text.replace('\\n',''))\n",
    "            except:\n",
    "                rating.append(np.nan)\n",
    "\n",
    "            try:\n",
    "                salary.append(job.find('span', attrs={'class':'salary no-wrap'}).text.replace('\\n',''))\n",
    "            except:\n",
    "                salary.append(np.nan)\n",
    "\n",
    "            try:\n",
    "                description.append(job.find('div', attrs={'class':'summary'}).text.replace('\\n',''))\n",
    "            except:\n",
    "                description.append(np.nan)\n",
    "\n",
    "            try:\n",
    "                date.append(job.find('span', attrs={'class':'date'}).text.replace('\\n',''))\n",
    "            except:\n",
    "                date.append(np.nan)\n",
    "                \n",
    "#             try:\n",
    "#                 location.append(job.find('span', attrs={'class':'location accessible-contrast-color-location'}).text)\n",
    "#             except:\n",
    "#                 location.append(np.nan)\n",
    "\n",
    "    jobz = pd.DataFrame({'job_title': jobtitle,\n",
    "                         'company': company,\n",
    "                        'rating': rating,\n",
    "                         'salary': salary,\n",
    "                        'description': description,\n",
    "                        'date': date,\n",
    "                         #'location':location,\n",
    "                        'category': category})\n",
    "    return jobz\n",
    "\n"
   ]
  }
 ],
 "metadata": {
  "kernelspec": {
   "display_name": "Python 3",
   "language": "python",
   "name": "python3"
  },
  "language_info": {
   "codemirror_mode": {
    "name": "ipython",
    "version": 3
   },
   "file_extension": ".py",
   "mimetype": "text/x-python",
   "name": "python",
   "nbconvert_exporter": "python",
   "pygments_lexer": "ipython3",
   "version": "3.7.1"
  },
  "toc": {
   "base_numbering": 1,
   "nav_menu": {},
   "number_sections": true,
   "sideBar": true,
   "skip_h1_title": false,
   "title_cell": "Table of Contents",
   "title_sidebar": "Contents",
   "toc_cell": false,
   "toc_position": {},
   "toc_section_display": true,
   "toc_window_display": false
  },
  "varInspector": {
   "cols": {
    "lenName": 16,
    "lenType": 16,
    "lenVar": 40
   },
   "kernels_config": {
    "python": {
     "delete_cmd_postfix": "",
     "delete_cmd_prefix": "del ",
     "library": "var_list.py",
     "varRefreshCmd": "print(var_dic_list())"
    },
    "r": {
     "delete_cmd_postfix": ") ",
     "delete_cmd_prefix": "rm(",
     "library": "var_list.r",
     "varRefreshCmd": "cat(var_dic_list()) "
    }
   },
   "types_to_exclude": [
    "module",
    "function",
    "builtin_function_or_method",
    "instance",
    "_Feature"
   ],
   "window_display": false
  }
 },
 "nbformat": 4,
 "nbformat_minor": 4
}
