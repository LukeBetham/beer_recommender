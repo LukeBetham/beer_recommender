{
 "cells": [
  {
   "cell_type": "code",
   "execution_count": 1,
   "metadata": {
    "ExecuteTime": {
     "end_time": "2020-05-12T08:37:08.944315Z",
     "start_time": "2020-05-12T08:37:06.375115Z"
    }
   },
   "outputs": [],
   "source": [
    "import pandas as pd\n",
    "from tqdm import tqdm_notebook\n",
    "import matplotlib.pyplot as plt\n",
    "import seaborn as sns\n",
    "import geopandas\n",
    "from geopy.geocoders import Nominatim"
   ]
  },
  {
   "cell_type": "markdown",
   "metadata": {},
   "source": [
    "## Geotagging the scraped Data"
   ]
  },
  {
   "cell_type": "code",
   "execution_count": 2,
   "metadata": {
    "ExecuteTime": {
     "end_time": "2020-05-12T08:37:09.126622Z",
     "start_time": "2020-05-12T08:37:08.997237Z"
    }
   },
   "outputs": [],
   "source": [
    "df = pd.read_csv('all_reviews.csv')\n",
    "locations_df = pd.read_csv('locations_geotagged.csv')"
   ]
  },
  {
   "cell_type": "code",
   "execution_count": 3,
   "metadata": {
    "ExecuteTime": {
     "end_time": "2020-05-12T08:37:10.069190Z",
     "start_time": "2020-05-12T08:37:10.032038Z"
    }
   },
   "outputs": [
    {
     "data": {
      "text/html": [
       "<div>\n",
       "<style scoped>\n",
       "    .dataframe tbody tr th:only-of-type {\n",
       "        vertical-align: middle;\n",
       "    }\n",
       "\n",
       "    .dataframe tbody tr th {\n",
       "        vertical-align: top;\n",
       "    }\n",
       "\n",
       "    .dataframe thead th {\n",
       "        text-align: right;\n",
       "    }\n",
       "</style>\n",
       "<table border=\"1\" class=\"dataframe\">\n",
       "  <thead>\n",
       "    <tr style=\"text-align: right;\">\n",
       "      <th></th>\n",
       "      <th>beer_name</th>\n",
       "      <th>beer_rating</th>\n",
       "      <th>brewery_location</th>\n",
       "      <th>brewery_name</th>\n",
       "      <th>review_content</th>\n",
       "      <th>reviewer_name</th>\n",
       "    </tr>\n",
       "  </thead>\n",
       "  <tbody>\n",
       "    <tr>\n",
       "      <th>0</th>\n",
       "      <td>St. Peter's Ruby Red Ale</td>\n",
       "      <td>3.3</td>\n",
       "      <td>Bungay, Suffolk</td>\n",
       "      <td>St. Peter's Brewery</td>\n",
       "      <td>Ruby color, offwhite coam. Aroma and taste: fl...</td>\n",
       "      <td>alex_leit</td>\n",
       "    </tr>\n",
       "    <tr>\n",
       "      <th>1</th>\n",
       "      <td>Shepherd Neame Spitfire (Bottle)</td>\n",
       "      <td>2.2</td>\n",
       "      <td>Faversham, Kent</td>\n",
       "      <td>Shepherd Neame</td>\n",
       "      <td>Disappointing show from the lads at ‘Britain’s...</td>\n",
       "      <td>shivermetimber.gray</td>\n",
       "    </tr>\n",
       "    <tr>\n",
       "      <th>2</th>\n",
       "      <td>Arbor Rocketman</td>\n",
       "      <td>3.8</td>\n",
       "      <td>Bristol, Gloucestershire</td>\n",
       "      <td>Arbor Ales</td>\n",
       "      <td>Puszka. Mętne o żółtym kolorze. Piana biała,ob...</td>\n",
       "      <td>MarcinG</td>\n",
       "    </tr>\n",
       "    <tr>\n",
       "      <th>3</th>\n",
       "      <td>Shepherd Neame India Pale Ale (Bottle)</td>\n",
       "      <td>3.4</td>\n",
       "      <td>Faversham, Kent</td>\n",
       "      <td>Shepherd Neame</td>\n",
       "      <td>Bottle. Amber with bronze color and white foam...</td>\n",
       "      <td>alex_leit</td>\n",
       "    </tr>\n",
       "    <tr>\n",
       "      <th>4</th>\n",
       "      <td>Shepherd Neame Christmas Ale</td>\n",
       "      <td>3.3</td>\n",
       "      <td>Faversham, Kent</td>\n",
       "      <td>Shepherd Neame</td>\n",
       "      <td>Bottle. Aroma: English hops and malts with tof...</td>\n",
       "      <td>alex_leit</td>\n",
       "    </tr>\n",
       "    <tr>\n",
       "      <th>...</th>\n",
       "      <td>...</td>\n",
       "      <td>...</td>\n",
       "      <td>...</td>\n",
       "      <td>...</td>\n",
       "      <td>...</td>\n",
       "      <td>...</td>\n",
       "    </tr>\n",
       "    <tr>\n",
       "      <th>20010</th>\n",
       "      <td>Old Milwaukee</td>\n",
       "      <td>4.4</td>\n",
       "      <td>+3</td>\n",
       "      <td>Pabst Brewing Company</td>\n",
       "      <td>for  the style example ,macro or craft ,i   co...</td>\n",
       "      <td>BreweryTaps48</td>\n",
       "    </tr>\n",
       "    <tr>\n",
       "      <th>20011</th>\n",
       "      <td>Three Weavers Expatriate IPA</td>\n",
       "      <td>2.0</td>\n",
       "      <td>-1.6</td>\n",
       "      <td>Three Weavers Brewing Co. (CANarchy Craft Brew...</td>\n",
       "      <td>Lemongrass nose, trace of DMS. Clear yellow, m...</td>\n",
       "      <td>obguthr</td>\n",
       "    </tr>\n",
       "    <tr>\n",
       "      <th>20012</th>\n",
       "      <td>Hatherwood Plunged Orange Pale Ale</td>\n",
       "      <td>5.0</td>\n",
       "      <td>+2</td>\n",
       "      <td>Lidl UK</td>\n",
       "      <td>I like it. It’s nice. I like it. It’s nice. I ...</td>\n",
       "      <td>MashTapper40</td>\n",
       "    </tr>\n",
       "    <tr>\n",
       "      <th>20013</th>\n",
       "      <td>Vox Populi Session Fruit Punch IPA</td>\n",
       "      <td>1.2</td>\n",
       "      <td>-2</td>\n",
       "      <td>Microbrasserie Vox Populi (Groupe Glutenberg)</td>\n",
       "      <td>Diacetyl. Greyish brown colour, clearly oxidiz...</td>\n",
       "      <td>john_bl</td>\n",
       "    </tr>\n",
       "    <tr>\n",
       "      <th>20014</th>\n",
       "      <td>Martens Gold</td>\n",
       "      <td>3.4</td>\n",
       "      <td>+1.6</td>\n",
       "      <td>Martens</td>\n",
       "      <td>500ml can from Malta. It is a very good summer...</td>\n",
       "      <td>dr.dod</td>\n",
       "    </tr>\n",
       "  </tbody>\n",
       "</table>\n",
       "<p>20015 rows × 6 columns</p>\n",
       "</div>"
      ],
      "text/plain": [
       "                                    beer_name  beer_rating  \\\n",
       "0                    St. Peter's Ruby Red Ale          3.3   \n",
       "1            Shepherd Neame Spitfire (Bottle)          2.2   \n",
       "2                             Arbor Rocketman          3.8   \n",
       "3      Shepherd Neame India Pale Ale (Bottle)          3.4   \n",
       "4                Shepherd Neame Christmas Ale          3.3   \n",
       "...                                       ...          ...   \n",
       "20010                           Old Milwaukee          4.4   \n",
       "20011            Three Weavers Expatriate IPA          2.0   \n",
       "20012      Hatherwood Plunged Orange Pale Ale          5.0   \n",
       "20013      Vox Populi Session Fruit Punch IPA          1.2   \n",
       "20014                            Martens Gold          3.4   \n",
       "\n",
       "               brewery_location  \\\n",
       "0               Bungay, Suffolk   \n",
       "1               Faversham, Kent   \n",
       "2      Bristol, Gloucestershire   \n",
       "3               Faversham, Kent   \n",
       "4               Faversham, Kent   \n",
       "...                         ...   \n",
       "20010                        +3   \n",
       "20011                      -1.6   \n",
       "20012                        +2   \n",
       "20013                        -2   \n",
       "20014                      +1.6   \n",
       "\n",
       "                                            brewery_name  \\\n",
       "0                                    St. Peter's Brewery   \n",
       "1                                         Shepherd Neame   \n",
       "2                                             Arbor Ales   \n",
       "3                                         Shepherd Neame   \n",
       "4                                         Shepherd Neame   \n",
       "...                                                  ...   \n",
       "20010                              Pabst Brewing Company   \n",
       "20011  Three Weavers Brewing Co. (CANarchy Craft Brew...   \n",
       "20012                                            Lidl UK   \n",
       "20013      Microbrasserie Vox Populi (Groupe Glutenberg)   \n",
       "20014                                            Martens   \n",
       "\n",
       "                                          review_content        reviewer_name  \n",
       "0      Ruby color, offwhite coam. Aroma and taste: fl...            alex_leit  \n",
       "1      Disappointing show from the lads at ‘Britain’s...  shivermetimber.gray  \n",
       "2      Puszka. Mętne o żółtym kolorze. Piana biała,ob...              MarcinG  \n",
       "3      Bottle. Amber with bronze color and white foam...            alex_leit  \n",
       "4      Bottle. Aroma: English hops and malts with tof...            alex_leit  \n",
       "...                                                  ...                  ...  \n",
       "20010  for  the style example ,macro or craft ,i   co...        BreweryTaps48  \n",
       "20011  Lemongrass nose, trace of DMS. Clear yellow, m...              obguthr  \n",
       "20012  I like it. It’s nice. I like it. It’s nice. I ...         MashTapper40  \n",
       "20013  Diacetyl. Greyish brown colour, clearly oxidiz...              john_bl  \n",
       "20014  500ml can from Malta. It is a very good summer...               dr.dod  \n",
       "\n",
       "[20015 rows x 6 columns]"
      ]
     },
     "execution_count": 3,
     "metadata": {},
     "output_type": "execute_result"
    }
   ],
   "source": [
    "df"
   ]
  },
  {
   "cell_type": "code",
   "execution_count": 4,
   "metadata": {
    "ExecuteTime": {
     "end_time": "2020-05-12T08:39:15.735229Z",
     "start_time": "2020-05-12T08:39:15.696673Z"
    }
   },
   "outputs": [
    {
     "data": {
      "text/html": [
       "<div>\n",
       "<style scoped>\n",
       "    .dataframe tbody tr th:only-of-type {\n",
       "        vertical-align: middle;\n",
       "    }\n",
       "\n",
       "    .dataframe tbody tr th {\n",
       "        vertical-align: top;\n",
       "    }\n",
       "\n",
       "    .dataframe thead th {\n",
       "        text-align: right;\n",
       "    }\n",
       "</style>\n",
       "<table border=\"1\" class=\"dataframe\">\n",
       "  <thead>\n",
       "    <tr style=\"text-align: right;\">\n",
       "      <th></th>\n",
       "      <th>locations</th>\n",
       "      <th>latitude</th>\n",
       "      <th>longitude</th>\n",
       "      <th>country</th>\n",
       "    </tr>\n",
       "  </thead>\n",
       "  <tbody>\n",
       "    <tr>\n",
       "      <th>0</th>\n",
       "      <td>Bungay, Suffolk</td>\n",
       "      <td>52.456225</td>\n",
       "      <td>1.437341</td>\n",
       "      <td>United Kingdom</td>\n",
       "    </tr>\n",
       "    <tr>\n",
       "      <th>1</th>\n",
       "      <td>Faversham, Kent</td>\n",
       "      <td>51.314409</td>\n",
       "      <td>0.891189</td>\n",
       "      <td>United Kingdom</td>\n",
       "    </tr>\n",
       "    <tr>\n",
       "      <th>2</th>\n",
       "      <td>Bristol, Gloucestershire</td>\n",
       "      <td>51.852767</td>\n",
       "      <td>-2.255369</td>\n",
       "      <td>United Kingdom</td>\n",
       "    </tr>\n",
       "    <tr>\n",
       "      <th>3</th>\n",
       "      <td>Round Rock, Texas</td>\n",
       "      <td>30.508235</td>\n",
       "      <td>-97.678893</td>\n",
       "      <td>United States of America</td>\n",
       "    </tr>\n",
       "    <tr>\n",
       "      <th>4</th>\n",
       "      <td>Brooklyn, New York</td>\n",
       "      <td>40.650104</td>\n",
       "      <td>-73.949582</td>\n",
       "      <td>United States of America</td>\n",
       "    </tr>\n",
       "    <tr>\n",
       "      <th>...</th>\n",
       "      <td>...</td>\n",
       "      <td>...</td>\n",
       "      <td>...</td>\n",
       "      <td>...</td>\n",
       "    </tr>\n",
       "    <tr>\n",
       "      <th>1378</th>\n",
       "      <td>Vielank, Mecklenburg-Vorpommern</td>\n",
       "      <td>53.235501</td>\n",
       "      <td>11.135182</td>\n",
       "      <td>Germany</td>\n",
       "    </tr>\n",
       "    <tr>\n",
       "      <th>1379</th>\n",
       "      <td>Baileys Harbor, Wisconsin</td>\n",
       "      <td>45.064993</td>\n",
       "      <td>-87.124274</td>\n",
       "      <td>United States of America</td>\n",
       "    </tr>\n",
       "    <tr>\n",
       "      <th>1380</th>\n",
       "      <td>Broomfield, Colorado</td>\n",
       "      <td>39.920383</td>\n",
       "      <td>-105.069146</td>\n",
       "      <td>United States of America</td>\n",
       "    </tr>\n",
       "    <tr>\n",
       "      <th>1381</th>\n",
       "      <td>Homerton, Greater London</td>\n",
       "      <td>51.547079</td>\n",
       "      <td>-0.043121</td>\n",
       "      <td>United Kingdom</td>\n",
       "    </tr>\n",
       "    <tr>\n",
       "      <th>1382</th>\n",
       "      <td>Berwyn, Pennsylvania</td>\n",
       "      <td>40.044831</td>\n",
       "      <td>-75.438805</td>\n",
       "      <td>United States of America</td>\n",
       "    </tr>\n",
       "  </tbody>\n",
       "</table>\n",
       "<p>1383 rows × 4 columns</p>\n",
       "</div>"
      ],
      "text/plain": [
       "                            locations   latitude   longitude  \\\n",
       "0                     Bungay, Suffolk  52.456225    1.437341   \n",
       "1                     Faversham, Kent  51.314409    0.891189   \n",
       "2            Bristol, Gloucestershire  51.852767   -2.255369   \n",
       "3                   Round Rock, Texas  30.508235  -97.678893   \n",
       "4                  Brooklyn, New York  40.650104  -73.949582   \n",
       "...                               ...        ...         ...   \n",
       "1378  Vielank, Mecklenburg-Vorpommern  53.235501   11.135182   \n",
       "1379        Baileys Harbor, Wisconsin  45.064993  -87.124274   \n",
       "1380             Broomfield, Colorado  39.920383 -105.069146   \n",
       "1381         Homerton, Greater London  51.547079   -0.043121   \n",
       "1382             Berwyn, Pennsylvania  40.044831  -75.438805   \n",
       "\n",
       "                       country  \n",
       "0               United Kingdom  \n",
       "1               United Kingdom  \n",
       "2               United Kingdom  \n",
       "3     United States of America  \n",
       "4     United States of America  \n",
       "...                        ...  \n",
       "1378                   Germany  \n",
       "1379  United States of America  \n",
       "1380  United States of America  \n",
       "1381            United Kingdom  \n",
       "1382  United States of America  \n",
       "\n",
       "[1383 rows x 4 columns]"
      ]
     },
     "execution_count": 4,
     "metadata": {},
     "output_type": "execute_result"
    }
   ],
   "source": [
    "locations_df"
   ]
  },
  {
   "cell_type": "code",
   "execution_count": null,
   "metadata": {},
   "outputs": [],
   "source": [
    "geolocator = Nominatim(user_agent=\"None\")"
   ]
  },
  {
   "cell_type": "code",
   "execution_count": 14,
   "metadata": {
    "ExecuteTime": {
     "end_time": "2020-04-28T16:39:46.332271Z",
     "start_time": "2020-04-28T16:39:46.327345Z"
    }
   },
   "outputs": [],
   "source": [
    "locations_new = locations_df"
   ]
  },
  {
   "cell_type": "code",
   "execution_count": 16,
   "metadata": {
    "ExecuteTime": {
     "end_time": "2020-04-28T16:43:45.125037Z",
     "start_time": "2020-04-28T16:43:45.114719Z"
    }
   },
   "outputs": [],
   "source": [
    "def tryconvert(x):\n",
    "        try:\n",
    "            return geolocator.geocode(x).latitude\n",
    "        except:\n",
    "            return None\n",
    "    "
   ]
  },
  {
   "cell_type": "code",
   "execution_count": 17,
   "metadata": {
    "ExecuteTime": {
     "end_time": "2020-04-28T16:55:45.789723Z",
     "start_time": "2020-04-28T16:43:58.640161Z"
    }
   },
   "outputs": [],
   "source": [
    "locations_df[\"latitude\"] = locations_df.locations.apply(lambda x: tryconvert(x))"
   ]
  },
  {
   "cell_type": "code",
   "execution_count": 18,
   "metadata": {
    "ExecuteTime": {
     "end_time": "2020-04-28T16:55:47.100456Z",
     "start_time": "2020-04-28T16:55:47.095871Z"
    }
   },
   "outputs": [],
   "source": [
    "def tryconvertlong(x):\n",
    "        try:\n",
    "            return geolocator.geocode(x).longitude\n",
    "        except:\n",
    "            return None"
   ]
  },
  {
   "cell_type": "code",
   "execution_count": 19,
   "metadata": {
    "ExecuteTime": {
     "end_time": "2020-04-28T17:07:58.960432Z",
     "start_time": "2020-04-28T16:55:47.241974Z"
    }
   },
   "outputs": [],
   "source": [
    "locations_df[\"longitude\"] = locations_df.locations.apply(lambda x: tryconvertlong(x))"
   ]
  },
  {
   "cell_type": "code",
   "execution_count": 20,
   "metadata": {
    "ExecuteTime": {
     "end_time": "2020-04-29T07:51:32.639356Z",
     "start_time": "2020-04-29T07:51:32.549372Z"
    }
   },
   "outputs": [
    {
     "data": {
      "text/html": [
       "<div>\n",
       "<style scoped>\n",
       "    .dataframe tbody tr th:only-of-type {\n",
       "        vertical-align: middle;\n",
       "    }\n",
       "\n",
       "    .dataframe tbody tr th {\n",
       "        vertical-align: top;\n",
       "    }\n",
       "\n",
       "    .dataframe thead th {\n",
       "        text-align: right;\n",
       "    }\n",
       "</style>\n",
       "<table border=\"1\" class=\"dataframe\">\n",
       "  <thead>\n",
       "    <tr style=\"text-align: right;\">\n",
       "      <th></th>\n",
       "      <th>locations</th>\n",
       "      <th>latitude</th>\n",
       "      <th>longitude</th>\n",
       "    </tr>\n",
       "  </thead>\n",
       "  <tbody>\n",
       "    <tr>\n",
       "      <th>0</th>\n",
       "      <td>Bungay, Suffolk</td>\n",
       "      <td>52.456225</td>\n",
       "      <td>1.437341</td>\n",
       "    </tr>\n",
       "    <tr>\n",
       "      <th>1</th>\n",
       "      <td>Faversham, Kent</td>\n",
       "      <td>51.314409</td>\n",
       "      <td>0.891189</td>\n",
       "    </tr>\n",
       "    <tr>\n",
       "      <th>2</th>\n",
       "      <td>Bristol, Gloucestershire</td>\n",
       "      <td>51.852767</td>\n",
       "      <td>-2.255369</td>\n",
       "    </tr>\n",
       "    <tr>\n",
       "      <th>3</th>\n",
       "      <td>Round Rock, Texas</td>\n",
       "      <td>30.508235</td>\n",
       "      <td>-97.678893</td>\n",
       "    </tr>\n",
       "    <tr>\n",
       "      <th>4</th>\n",
       "      <td>Brooklyn, New York</td>\n",
       "      <td>40.650104</td>\n",
       "      <td>-73.949582</td>\n",
       "    </tr>\n",
       "    <tr>\n",
       "      <th>...</th>\n",
       "      <td>...</td>\n",
       "      <td>...</td>\n",
       "      <td>...</td>\n",
       "    </tr>\n",
       "    <tr>\n",
       "      <th>1378</th>\n",
       "      <td>Vielank, Mecklenburg-Vorpommern</td>\n",
       "      <td>53.235501</td>\n",
       "      <td>11.135182</td>\n",
       "    </tr>\n",
       "    <tr>\n",
       "      <th>1379</th>\n",
       "      <td>Baileys Harbor, Wisconsin</td>\n",
       "      <td>45.064993</td>\n",
       "      <td>-87.124274</td>\n",
       "    </tr>\n",
       "    <tr>\n",
       "      <th>1380</th>\n",
       "      <td>Broomfield, Colorado</td>\n",
       "      <td>39.920383</td>\n",
       "      <td>-105.069146</td>\n",
       "    </tr>\n",
       "    <tr>\n",
       "      <th>1381</th>\n",
       "      <td>Homerton, Greater London</td>\n",
       "      <td>51.547079</td>\n",
       "      <td>-0.043121</td>\n",
       "    </tr>\n",
       "    <tr>\n",
       "      <th>1382</th>\n",
       "      <td>Berwyn, Pennsylvania</td>\n",
       "      <td>40.044831</td>\n",
       "      <td>-75.438805</td>\n",
       "    </tr>\n",
       "  </tbody>\n",
       "</table>\n",
       "<p>1383 rows × 3 columns</p>\n",
       "</div>"
      ],
      "text/plain": [
       "                            locations   latitude   longitude\n",
       "0                     Bungay, Suffolk  52.456225    1.437341\n",
       "1                     Faversham, Kent  51.314409    0.891189\n",
       "2            Bristol, Gloucestershire  51.852767   -2.255369\n",
       "3                   Round Rock, Texas  30.508235  -97.678893\n",
       "4                  Brooklyn, New York  40.650104  -73.949582\n",
       "...                               ...        ...         ...\n",
       "1378  Vielank, Mecklenburg-Vorpommern  53.235501   11.135182\n",
       "1379        Baileys Harbor, Wisconsin  45.064993  -87.124274\n",
       "1380             Broomfield, Colorado  39.920383 -105.069146\n",
       "1381         Homerton, Greater London  51.547079   -0.043121\n",
       "1382             Berwyn, Pennsylvania  40.044831  -75.438805\n",
       "\n",
       "[1383 rows x 3 columns]"
      ]
     },
     "execution_count": 20,
     "metadata": {},
     "output_type": "execute_result"
    }
   ],
   "source": [
    "locations_df"
   ]
  },
  {
   "cell_type": "code",
   "execution_count": 28,
   "metadata": {
    "ExecuteTime": {
     "end_time": "2020-04-29T09:55:38.384010Z",
     "start_time": "2020-04-29T09:44:37.694179Z"
    }
   },
   "outputs": [],
   "source": [
    "countries = []\n",
    "for row in locations_df.index:\n",
    "    try:\n",
    "        loc = geolocator.reverse([locations_df.iloc[row,1],locations_df.iloc[row,2]], language='en')\n",
    "        countries.append(loc.raw['address']['country'])\n",
    "    except:\n",
    "        countries.append(None)\n",
    "        \n",
    "    "
   ]
  },
  {
   "cell_type": "code",
   "execution_count": 29,
   "metadata": {
    "ExecuteTime": {
     "end_time": "2020-04-29T09:55:39.156272Z",
     "start_time": "2020-04-29T09:55:39.150779Z"
    }
   },
   "outputs": [],
   "source": [
    "locations_df['country'] = countries"
   ]
  },
  {
   "cell_type": "code",
   "execution_count": 31,
   "metadata": {
    "ExecuteTime": {
     "end_time": "2020-04-30T10:06:05.325043Z",
     "start_time": "2020-04-30T10:06:04.913606Z"
    }
   },
   "outputs": [],
   "source": [
    "locations_df.to_csv('locations_geotagged.csv',index=False)"
   ]
  },
  {
   "cell_type": "markdown",
   "metadata": {},
   "source": [
    "## Deal with Non-English Descriptions"
   ]
  },
  {
   "cell_type": "markdown",
   "metadata": {},
   "source": []
  },
  {
   "cell_type": "code",
   "execution_count": null,
   "metadata": {},
   "outputs": [],
   "source": []
  }
 ],
 "metadata": {
  "kernelspec": {
   "display_name": "Python 3",
   "language": "python",
   "name": "python3"
  },
  "language_info": {
   "codemirror_mode": {
    "name": "ipython",
    "version": 3
   },
   "file_extension": ".py",
   "mimetype": "text/x-python",
   "name": "python",
   "nbconvert_exporter": "python",
   "pygments_lexer": "ipython3",
   "version": "3.7.1"
  },
  "toc": {
   "base_numbering": 1,
   "nav_menu": {},
   "number_sections": true,
   "sideBar": true,
   "skip_h1_title": false,
   "title_cell": "Table of Contents",
   "title_sidebar": "Contents",
   "toc_cell": false,
   "toc_position": {},
   "toc_section_display": true,
   "toc_window_display": false
  },
  "varInspector": {
   "cols": {
    "lenName": 16,
    "lenType": 16,
    "lenVar": 40
   },
   "kernels_config": {
    "python": {
     "delete_cmd_postfix": "",
     "delete_cmd_prefix": "del ",
     "library": "var_list.py",
     "varRefreshCmd": "print(var_dic_list())"
    },
    "r": {
     "delete_cmd_postfix": ") ",
     "delete_cmd_prefix": "rm(",
     "library": "var_list.r",
     "varRefreshCmd": "cat(var_dic_list()) "
    }
   },
   "types_to_exclude": [
    "module",
    "function",
    "builtin_function_or_method",
    "instance",
    "_Feature"
   ],
   "window_display": false
  }
 },
 "nbformat": 4,
 "nbformat_minor": 4
}
