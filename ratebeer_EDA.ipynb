{
 "cells": [
  {
   "cell_type": "code",
   "execution_count": 1,
   "metadata": {
    "ExecuteTime": {
     "end_time": "2020-04-27T16:42:19.137529Z",
     "start_time": "2020-04-27T16:42:17.565974Z"
    }
   },
   "outputs": [],
   "source": [
    "import pandas as pd\n",
    "from tqdm import tqdm_notebook\n",
    "import matplotlib.pyplot as plt\n",
    "import seaborn as sns"
   ]
  },
  {
   "cell_type": "code",
   "execution_count": 17,
   "metadata": {
    "ExecuteTime": {
     "end_time": "2020-04-27T16:55:25.195817Z",
     "start_time": "2020-04-27T16:55:25.142351Z"
    }
   },
   "outputs": [],
   "source": [
    "df = pd.read_csv('all_reviews.csv')"
   ]
  },
  {
   "cell_type": "code",
   "execution_count": 18,
   "metadata": {
    "ExecuteTime": {
     "end_time": "2020-04-27T16:55:29.581323Z",
     "start_time": "2020-04-27T16:55:29.562140Z"
    }
   },
   "outputs": [
    {
     "data": {
      "text/html": [
       "<div>\n",
       "<style scoped>\n",
       "    .dataframe tbody tr th:only-of-type {\n",
       "        vertical-align: middle;\n",
       "    }\n",
       "\n",
       "    .dataframe tbody tr th {\n",
       "        vertical-align: top;\n",
       "    }\n",
       "\n",
       "    .dataframe thead th {\n",
       "        text-align: right;\n",
       "    }\n",
       "</style>\n",
       "<table border=\"1\" class=\"dataframe\">\n",
       "  <thead>\n",
       "    <tr style=\"text-align: right;\">\n",
       "      <th></th>\n",
       "      <th>beer_name</th>\n",
       "      <th>beer_rating</th>\n",
       "      <th>brewery_location</th>\n",
       "      <th>brewery_name</th>\n",
       "      <th>review_content</th>\n",
       "      <th>reviewer_name</th>\n",
       "    </tr>\n",
       "  </thead>\n",
       "  <tbody>\n",
       "    <tr>\n",
       "      <th>0</th>\n",
       "      <td>St. Peter's Ruby Red Ale</td>\n",
       "      <td>3.3</td>\n",
       "      <td>Bungay, Suffolk</td>\n",
       "      <td>St. Peter's Brewery</td>\n",
       "      <td>Ruby color, offwhite coam. Aroma and taste: fl...</td>\n",
       "      <td>alex_leit</td>\n",
       "    </tr>\n",
       "    <tr>\n",
       "      <th>1</th>\n",
       "      <td>Shepherd Neame Spitfire (Bottle)</td>\n",
       "      <td>2.2</td>\n",
       "      <td>Faversham, Kent</td>\n",
       "      <td>Shepherd Neame</td>\n",
       "      <td>Disappointing show from the lads at ‘Britain’s...</td>\n",
       "      <td>shivermetimber.gray</td>\n",
       "    </tr>\n",
       "    <tr>\n",
       "      <th>2</th>\n",
       "      <td>Arbor Rocketman</td>\n",
       "      <td>3.8</td>\n",
       "      <td>Bristol, Gloucestershire</td>\n",
       "      <td>Arbor Ales</td>\n",
       "      <td>Puszka. Mętne o żółtym kolorze. Piana biała,ob...</td>\n",
       "      <td>MarcinG</td>\n",
       "    </tr>\n",
       "    <tr>\n",
       "      <th>3</th>\n",
       "      <td>Shepherd Neame India Pale Ale (Bottle)</td>\n",
       "      <td>3.4</td>\n",
       "      <td>Faversham, Kent</td>\n",
       "      <td>Shepherd Neame</td>\n",
       "      <td>Bottle. Amber with bronze color and white foam...</td>\n",
       "      <td>alex_leit</td>\n",
       "    </tr>\n",
       "    <tr>\n",
       "      <th>4</th>\n",
       "      <td>Shepherd Neame Christmas Ale</td>\n",
       "      <td>3.3</td>\n",
       "      <td>Faversham, Kent</td>\n",
       "      <td>Shepherd Neame</td>\n",
       "      <td>Bottle. Aroma: English hops and malts with tof...</td>\n",
       "      <td>alex_leit</td>\n",
       "    </tr>\n",
       "    <tr>\n",
       "      <th>...</th>\n",
       "      <td>...</td>\n",
       "      <td>...</td>\n",
       "      <td>...</td>\n",
       "      <td>...</td>\n",
       "      <td>...</td>\n",
       "      <td>...</td>\n",
       "    </tr>\n",
       "    <tr>\n",
       "      <th>9275</th>\n",
       "      <td>LIC Beer Project Coded Tiles</td>\n",
       "      <td>3.7</td>\n",
       "      <td>Long Island City, New York</td>\n",
       "      <td>LIC Beer Project</td>\n",
       "      <td>473ml can. Hazy, dark yellow-ish, golden colou...</td>\n",
       "      <td>Idiosynkrasie</td>\n",
       "    </tr>\n",
       "    <tr>\n",
       "      <th>9276</th>\n",
       "      <td>Oshlag Kinky Camerise</td>\n",
       "      <td>3.6</td>\n",
       "      <td>Montréal, Quebec</td>\n",
       "      <td>Oshlag - Brasserie &amp; Distillerie (Groupe Glute...</td>\n",
       "      <td>Brown bottle, 750 ml, drunk at La cabane d'à c...</td>\n",
       "      <td>GRM</td>\n",
       "    </tr>\n",
       "    <tr>\n",
       "      <th>9277</th>\n",
       "      <td>Half Hours on Earth Open Country Joy</td>\n",
       "      <td>3.7</td>\n",
       "      <td>Seaforth, Ontario</td>\n",
       "      <td>Half Hours on Earth</td>\n",
       "      <td>(355ml can from the brewery webshop c/o Herbal...</td>\n",
       "      <td>neongolden</td>\n",
       "    </tr>\n",
       "    <tr>\n",
       "      <th>9278</th>\n",
       "      <td>Bedlam Turtle Recall</td>\n",
       "      <td>3.6</td>\n",
       "      <td>Plumpton Green, East Sussex</td>\n",
       "      <td>Bedlam Brewery</td>\n",
       "      <td>September 18, 2019 - with lagerloather, at Hac...</td>\n",
       "      <td>HogTownHarry</td>\n",
       "    </tr>\n",
       "    <tr>\n",
       "      <th>9279</th>\n",
       "      <td>Saints Row Forever, Forever-ever, Forever?</td>\n",
       "      <td>3.1</td>\n",
       "      <td>Rockville, Maryland</td>\n",
       "      <td>Saints Row Brewing Company</td>\n",
       "      <td>Poured from 12 oz. can. \\n\\nClear mahogany wit...</td>\n",
       "      <td>MadRobin</td>\n",
       "    </tr>\n",
       "  </tbody>\n",
       "</table>\n",
       "<p>9280 rows × 6 columns</p>\n",
       "</div>"
      ],
      "text/plain": [
       "                                       beer_name  beer_rating  \\\n",
       "0                       St. Peter's Ruby Red Ale          3.3   \n",
       "1               Shepherd Neame Spitfire (Bottle)          2.2   \n",
       "2                                Arbor Rocketman          3.8   \n",
       "3         Shepherd Neame India Pale Ale (Bottle)          3.4   \n",
       "4                  Shepherd Neame Christmas Ale           3.3   \n",
       "...                                          ...          ...   \n",
       "9275                LIC Beer Project Coded Tiles          3.7   \n",
       "9276                       Oshlag Kinky Camerise          3.6   \n",
       "9277        Half Hours on Earth Open Country Joy          3.7   \n",
       "9278                        Bedlam Turtle Recall          3.6   \n",
       "9279  Saints Row Forever, Forever-ever, Forever?          3.1   \n",
       "\n",
       "                 brewery_location  \\\n",
       "0                 Bungay, Suffolk   \n",
       "1                 Faversham, Kent   \n",
       "2        Bristol, Gloucestershire   \n",
       "3                 Faversham, Kent   \n",
       "4                 Faversham, Kent   \n",
       "...                           ...   \n",
       "9275   Long Island City, New York   \n",
       "9276             Montréal, Quebec   \n",
       "9277            Seaforth, Ontario   \n",
       "9278  Plumpton Green, East Sussex   \n",
       "9279          Rockville, Maryland   \n",
       "\n",
       "                                           brewery_name  \\\n",
       "0                                   St. Peter's Brewery   \n",
       "1                                        Shepherd Neame   \n",
       "2                                            Arbor Ales   \n",
       "3                                        Shepherd Neame   \n",
       "4                                        Shepherd Neame   \n",
       "...                                                 ...   \n",
       "9275                                   LIC Beer Project   \n",
       "9276  Oshlag - Brasserie & Distillerie (Groupe Glute...   \n",
       "9277                                Half Hours on Earth   \n",
       "9278                                     Bedlam Brewery   \n",
       "9279                         Saints Row Brewing Company   \n",
       "\n",
       "                                         review_content        reviewer_name  \n",
       "0     Ruby color, offwhite coam. Aroma and taste: fl...            alex_leit  \n",
       "1     Disappointing show from the lads at ‘Britain’s...  shivermetimber.gray  \n",
       "2     Puszka. Mętne o żółtym kolorze. Piana biała,ob...              MarcinG  \n",
       "3     Bottle. Amber with bronze color and white foam...            alex_leit  \n",
       "4     Bottle. Aroma: English hops and malts with tof...            alex_leit  \n",
       "...                                                 ...                  ...  \n",
       "9275  473ml can. Hazy, dark yellow-ish, golden colou...        Idiosynkrasie  \n",
       "9276  Brown bottle, 750 ml, drunk at La cabane d'à c...                  GRM  \n",
       "9277  (355ml can from the brewery webshop c/o Herbal...           neongolden  \n",
       "9278  September 18, 2019 - with lagerloather, at Hac...         HogTownHarry  \n",
       "9279  Poured from 12 oz. can. \\n\\nClear mahogany wit...             MadRobin  \n",
       "\n",
       "[9280 rows x 6 columns]"
      ]
     },
     "execution_count": 18,
     "metadata": {},
     "output_type": "execute_result"
    }
   ],
   "source": [
    "df"
   ]
  },
  {
   "cell_type": "code",
   "execution_count": null,
   "metadata": {},
   "outputs": [],
   "source": []
  }
 ],
 "metadata": {
  "kernelspec": {
   "display_name": "Python 3",
   "language": "python",
   "name": "python3"
  },
  "language_info": {
   "codemirror_mode": {
    "name": "ipython",
    "version": 3
   },
   "file_extension": ".py",
   "mimetype": "text/x-python",
   "name": "python",
   "nbconvert_exporter": "python",
   "pygments_lexer": "ipython3",
   "version": "3.7.1"
  },
  "toc": {
   "base_numbering": 1,
   "nav_menu": {},
   "number_sections": true,
   "sideBar": true,
   "skip_h1_title": false,
   "title_cell": "Table of Contents",
   "title_sidebar": "Contents",
   "toc_cell": false,
   "toc_position": {},
   "toc_section_display": true,
   "toc_window_display": false
  },
  "varInspector": {
   "cols": {
    "lenName": 16,
    "lenType": 16,
    "lenVar": 40
   },
   "kernels_config": {
    "python": {
     "delete_cmd_postfix": "",
     "delete_cmd_prefix": "del ",
     "library": "var_list.py",
     "varRefreshCmd": "print(var_dic_list())"
    },
    "r": {
     "delete_cmd_postfix": ") ",
     "delete_cmd_prefix": "rm(",
     "library": "var_list.r",
     "varRefreshCmd": "cat(var_dic_list()) "
    }
   },
   "types_to_exclude": [
    "module",
    "function",
    "builtin_function_or_method",
    "instance",
    "_Feature"
   ],
   "window_display": false
  }
 },
 "nbformat": 4,
 "nbformat_minor": 4
}
