{
 "cells": [
  {
   "cell_type": "code",
   "execution_count": 2,
   "metadata": {
    "ExecuteTime": {
     "end_time": "2020-05-13T09:07:39.983253Z",
     "start_time": "2020-05-13T09:07:38.021984Z"
    }
   },
   "outputs": [],
   "source": [
    "import pandas as pd\n",
    "from tqdm import tqdm_notebook\n",
    "import matplotlib.pyplot as plt\n",
    "import seaborn as sns\n",
    "import geopandas\n",
    "from geopy.geocoders import Nominatim"
   ]
  },
  {
   "cell_type": "markdown",
   "metadata": {},
   "source": [
    "## Geotagging the scraped Data"
   ]
  },
  {
   "cell_type": "code",
   "execution_count": 3,
   "metadata": {
    "ExecuteTime": {
     "end_time": "2020-05-13T09:07:40.172731Z",
     "start_time": "2020-05-13T09:07:40.025342Z"
    }
   },
   "outputs": [],
   "source": [
    "df = pd.read_csv('all_reviews.csv')\n",
    "locations_df = pd.read_csv('locations_geotagged.csv')"
   ]
  },
  {
   "cell_type": "code",
   "execution_count": 4,
   "metadata": {
    "ExecuteTime": {
     "end_time": "2020-05-13T09:07:40.284861Z",
     "start_time": "2020-05-13T09:07:40.244489Z"
    }
   },
   "outputs": [
    {
     "data": {
      "text/html": [
       "<div>\n",
       "<style scoped>\n",
       "    .dataframe tbody tr th:only-of-type {\n",
       "        vertical-align: middle;\n",
       "    }\n",
       "\n",
       "    .dataframe tbody tr th {\n",
       "        vertical-align: top;\n",
       "    }\n",
       "\n",
       "    .dataframe thead th {\n",
       "        text-align: right;\n",
       "    }\n",
       "</style>\n",
       "<table border=\"1\" class=\"dataframe\">\n",
       "  <thead>\n",
       "    <tr style=\"text-align: right;\">\n",
       "      <th></th>\n",
       "      <th>beer_name</th>\n",
       "      <th>beer_rating</th>\n",
       "      <th>brewery_location</th>\n",
       "      <th>brewery_name</th>\n",
       "      <th>review_content</th>\n",
       "      <th>reviewer_name</th>\n",
       "    </tr>\n",
       "  </thead>\n",
       "  <tbody>\n",
       "    <tr>\n",
       "      <th>0</th>\n",
       "      <td>St. Peter's Ruby Red Ale</td>\n",
       "      <td>3.3</td>\n",
       "      <td>Bungay, Suffolk</td>\n",
       "      <td>St. Peter's Brewery</td>\n",
       "      <td>Ruby color, offwhite coam. Aroma and taste: fl...</td>\n",
       "      <td>alex_leit</td>\n",
       "    </tr>\n",
       "    <tr>\n",
       "      <th>1</th>\n",
       "      <td>Shepherd Neame Spitfire (Bottle)</td>\n",
       "      <td>2.2</td>\n",
       "      <td>Faversham, Kent</td>\n",
       "      <td>Shepherd Neame</td>\n",
       "      <td>Disappointing show from the lads at ‘Britain’s...</td>\n",
       "      <td>shivermetimber.gray</td>\n",
       "    </tr>\n",
       "    <tr>\n",
       "      <th>2</th>\n",
       "      <td>Arbor Rocketman</td>\n",
       "      <td>3.8</td>\n",
       "      <td>Bristol, Gloucestershire</td>\n",
       "      <td>Arbor Ales</td>\n",
       "      <td>Puszka. Mętne o żółtym kolorze. Piana biała,ob...</td>\n",
       "      <td>MarcinG</td>\n",
       "    </tr>\n",
       "    <tr>\n",
       "      <th>3</th>\n",
       "      <td>Shepherd Neame India Pale Ale (Bottle)</td>\n",
       "      <td>3.4</td>\n",
       "      <td>Faversham, Kent</td>\n",
       "      <td>Shepherd Neame</td>\n",
       "      <td>Bottle. Amber with bronze color and white foam...</td>\n",
       "      <td>alex_leit</td>\n",
       "    </tr>\n",
       "    <tr>\n",
       "      <th>4</th>\n",
       "      <td>Shepherd Neame Christmas Ale</td>\n",
       "      <td>3.3</td>\n",
       "      <td>Faversham, Kent</td>\n",
       "      <td>Shepherd Neame</td>\n",
       "      <td>Bottle. Aroma: English hops and malts with tof...</td>\n",
       "      <td>alex_leit</td>\n",
       "    </tr>\n",
       "    <tr>\n",
       "      <th>...</th>\n",
       "      <td>...</td>\n",
       "      <td>...</td>\n",
       "      <td>...</td>\n",
       "      <td>...</td>\n",
       "      <td>...</td>\n",
       "      <td>...</td>\n",
       "    </tr>\n",
       "    <tr>\n",
       "      <th>20475</th>\n",
       "      <td>Wychwood Hobgoblin IPA (Keg and Bottle)</td>\n",
       "      <td>5.0</td>\n",
       "      <td>+1.8</td>\n",
       "      <td>Wychwood Brewery (Marston's)</td>\n",
       "      <td>İçimi kolay ve zengin aromalı güzel bir İngili...</td>\n",
       "      <td>purikss</td>\n",
       "    </tr>\n",
       "    <tr>\n",
       "      <th>20476</th>\n",
       "      <td>Fuller's Black Cab Stout (Pasteurised)</td>\n",
       "      <td>5.0</td>\n",
       "      <td>+1.5</td>\n",
       "      <td>Fuller's Brewery (Asahi)</td>\n",
       "      <td>Stout bira severler için özellikle fıcı altern...</td>\n",
       "      <td>purikss</td>\n",
       "    </tr>\n",
       "    <tr>\n",
       "      <th>20477</th>\n",
       "      <td>Fuller's Organic Honey Dew (Bottle)</td>\n",
       "      <td>5.0</td>\n",
       "      <td>+2</td>\n",
       "      <td>Fuller's Brewery (Asahi)</td>\n",
       "      <td>Gerçekten tatlı bira severleri için özellikle ...</td>\n",
       "      <td>purikss</td>\n",
       "    </tr>\n",
       "    <tr>\n",
       "      <th>20478</th>\n",
       "      <td>Ballantine Burton Ale</td>\n",
       "      <td>2.2</td>\n",
       "      <td>-1.5</td>\n",
       "      <td>Pabst Brewing Company</td>\n",
       "      <td>Bottle. Deep orange to crimson pour with a den...</td>\n",
       "      <td>BVery</td>\n",
       "    </tr>\n",
       "    <tr>\n",
       "      <th>20479</th>\n",
       "      <td>Old Milwaukee</td>\n",
       "      <td>4.4</td>\n",
       "      <td>+3</td>\n",
       "      <td>Pabst Brewing Company</td>\n",
       "      <td>for  the style example ,macro or craft ,i   co...</td>\n",
       "      <td>BreweryTaps48</td>\n",
       "    </tr>\n",
       "  </tbody>\n",
       "</table>\n",
       "<p>20480 rows × 6 columns</p>\n",
       "</div>"
      ],
      "text/plain": [
       "                                     beer_name  beer_rating  \\\n",
       "0                     St. Peter's Ruby Red Ale          3.3   \n",
       "1             Shepherd Neame Spitfire (Bottle)          2.2   \n",
       "2                              Arbor Rocketman          3.8   \n",
       "3       Shepherd Neame India Pale Ale (Bottle)          3.4   \n",
       "4                 Shepherd Neame Christmas Ale          3.3   \n",
       "...                                        ...          ...   \n",
       "20475  Wychwood Hobgoblin IPA (Keg and Bottle)          5.0   \n",
       "20476   Fuller's Black Cab Stout (Pasteurised)          5.0   \n",
       "20477      Fuller's Organic Honey Dew (Bottle)          5.0   \n",
       "20478                    Ballantine Burton Ale          2.2   \n",
       "20479                            Old Milwaukee          4.4   \n",
       "\n",
       "               brewery_location                  brewery_name  \\\n",
       "0               Bungay, Suffolk           St. Peter's Brewery   \n",
       "1               Faversham, Kent                Shepherd Neame   \n",
       "2      Bristol, Gloucestershire                    Arbor Ales   \n",
       "3               Faversham, Kent                Shepherd Neame   \n",
       "4               Faversham, Kent                Shepherd Neame   \n",
       "...                         ...                           ...   \n",
       "20475                      +1.8  Wychwood Brewery (Marston's)   \n",
       "20476                      +1.5      Fuller's Brewery (Asahi)   \n",
       "20477                        +2      Fuller's Brewery (Asahi)   \n",
       "20478                      -1.5         Pabst Brewing Company   \n",
       "20479                        +3         Pabst Brewing Company   \n",
       "\n",
       "                                          review_content        reviewer_name  \n",
       "0      Ruby color, offwhite coam. Aroma and taste: fl...            alex_leit  \n",
       "1      Disappointing show from the lads at ‘Britain’s...  shivermetimber.gray  \n",
       "2      Puszka. Mętne o żółtym kolorze. Piana biała,ob...              MarcinG  \n",
       "3      Bottle. Amber with bronze color and white foam...            alex_leit  \n",
       "4      Bottle. Aroma: English hops and malts with tof...            alex_leit  \n",
       "...                                                  ...                  ...  \n",
       "20475  İçimi kolay ve zengin aromalı güzel bir İngili...              purikss  \n",
       "20476  Stout bira severler için özellikle fıcı altern...              purikss  \n",
       "20477  Gerçekten tatlı bira severleri için özellikle ...              purikss  \n",
       "20478  Bottle. Deep orange to crimson pour with a den...                BVery  \n",
       "20479  for  the style example ,macro or craft ,i   co...        BreweryTaps48  \n",
       "\n",
       "[20480 rows x 6 columns]"
      ]
     },
     "execution_count": 4,
     "metadata": {},
     "output_type": "execute_result"
    }
   ],
   "source": [
    "df"
   ]
  },
  {
   "cell_type": "code",
   "execution_count": 5,
   "metadata": {
    "ExecuteTime": {
     "end_time": "2020-05-13T09:07:40.426676Z",
     "start_time": "2020-05-13T09:07:40.398006Z"
    }
   },
   "outputs": [
    {
     "data": {
      "text/html": [
       "<div>\n",
       "<style scoped>\n",
       "    .dataframe tbody tr th:only-of-type {\n",
       "        vertical-align: middle;\n",
       "    }\n",
       "\n",
       "    .dataframe tbody tr th {\n",
       "        vertical-align: top;\n",
       "    }\n",
       "\n",
       "    .dataframe thead th {\n",
       "        text-align: right;\n",
       "    }\n",
       "</style>\n",
       "<table border=\"1\" class=\"dataframe\">\n",
       "  <thead>\n",
       "    <tr style=\"text-align: right;\">\n",
       "      <th></th>\n",
       "      <th>locations</th>\n",
       "      <th>latitude</th>\n",
       "      <th>longitude</th>\n",
       "      <th>country</th>\n",
       "    </tr>\n",
       "  </thead>\n",
       "  <tbody>\n",
       "    <tr>\n",
       "      <th>0</th>\n",
       "      <td>Bungay, Suffolk</td>\n",
       "      <td>52.456225</td>\n",
       "      <td>1.437341</td>\n",
       "      <td>United Kingdom</td>\n",
       "    </tr>\n",
       "    <tr>\n",
       "      <th>1</th>\n",
       "      <td>Faversham, Kent</td>\n",
       "      <td>51.314409</td>\n",
       "      <td>0.891189</td>\n",
       "      <td>United Kingdom</td>\n",
       "    </tr>\n",
       "    <tr>\n",
       "      <th>2</th>\n",
       "      <td>Bristol, Gloucestershire</td>\n",
       "      <td>51.852767</td>\n",
       "      <td>-2.255369</td>\n",
       "      <td>United Kingdom</td>\n",
       "    </tr>\n",
       "    <tr>\n",
       "      <th>3</th>\n",
       "      <td>Round Rock, Texas</td>\n",
       "      <td>30.508235</td>\n",
       "      <td>-97.678893</td>\n",
       "      <td>United States of America</td>\n",
       "    </tr>\n",
       "    <tr>\n",
       "      <th>4</th>\n",
       "      <td>Brooklyn, New York</td>\n",
       "      <td>40.650104</td>\n",
       "      <td>-73.949582</td>\n",
       "      <td>United States of America</td>\n",
       "    </tr>\n",
       "    <tr>\n",
       "      <th>...</th>\n",
       "      <td>...</td>\n",
       "      <td>...</td>\n",
       "      <td>...</td>\n",
       "      <td>...</td>\n",
       "    </tr>\n",
       "    <tr>\n",
       "      <th>1378</th>\n",
       "      <td>Vielank, Mecklenburg-Vorpommern</td>\n",
       "      <td>53.235501</td>\n",
       "      <td>11.135182</td>\n",
       "      <td>Germany</td>\n",
       "    </tr>\n",
       "    <tr>\n",
       "      <th>1379</th>\n",
       "      <td>Baileys Harbor, Wisconsin</td>\n",
       "      <td>45.064993</td>\n",
       "      <td>-87.124274</td>\n",
       "      <td>United States of America</td>\n",
       "    </tr>\n",
       "    <tr>\n",
       "      <th>1380</th>\n",
       "      <td>Broomfield, Colorado</td>\n",
       "      <td>39.920383</td>\n",
       "      <td>-105.069146</td>\n",
       "      <td>United States of America</td>\n",
       "    </tr>\n",
       "    <tr>\n",
       "      <th>1381</th>\n",
       "      <td>Homerton, Greater London</td>\n",
       "      <td>51.547079</td>\n",
       "      <td>-0.043121</td>\n",
       "      <td>United Kingdom</td>\n",
       "    </tr>\n",
       "    <tr>\n",
       "      <th>1382</th>\n",
       "      <td>Berwyn, Pennsylvania</td>\n",
       "      <td>40.044831</td>\n",
       "      <td>-75.438805</td>\n",
       "      <td>United States of America</td>\n",
       "    </tr>\n",
       "  </tbody>\n",
       "</table>\n",
       "<p>1383 rows × 4 columns</p>\n",
       "</div>"
      ],
      "text/plain": [
       "                            locations   latitude   longitude  \\\n",
       "0                     Bungay, Suffolk  52.456225    1.437341   \n",
       "1                     Faversham, Kent  51.314409    0.891189   \n",
       "2            Bristol, Gloucestershire  51.852767   -2.255369   \n",
       "3                   Round Rock, Texas  30.508235  -97.678893   \n",
       "4                  Brooklyn, New York  40.650104  -73.949582   \n",
       "...                               ...        ...         ...   \n",
       "1378  Vielank, Mecklenburg-Vorpommern  53.235501   11.135182   \n",
       "1379        Baileys Harbor, Wisconsin  45.064993  -87.124274   \n",
       "1380             Broomfield, Colorado  39.920383 -105.069146   \n",
       "1381         Homerton, Greater London  51.547079   -0.043121   \n",
       "1382             Berwyn, Pennsylvania  40.044831  -75.438805   \n",
       "\n",
       "                       country  \n",
       "0               United Kingdom  \n",
       "1               United Kingdom  \n",
       "2               United Kingdom  \n",
       "3     United States of America  \n",
       "4     United States of America  \n",
       "...                        ...  \n",
       "1378                   Germany  \n",
       "1379  United States of America  \n",
       "1380  United States of America  \n",
       "1381            United Kingdom  \n",
       "1382  United States of America  \n",
       "\n",
       "[1383 rows x 4 columns]"
      ]
     },
     "execution_count": 5,
     "metadata": {},
     "output_type": "execute_result"
    }
   ],
   "source": [
    "locations_df"
   ]
  },
  {
   "cell_type": "code",
   "execution_count": 6,
   "metadata": {
    "ExecuteTime": {
     "end_time": "2020-05-13T09:07:43.575670Z",
     "start_time": "2020-05-13T09:07:43.559421Z"
    }
   },
   "outputs": [],
   "source": [
    "geolocator = Nominatim(user_agent=\"None\")"
   ]
  },
  {
   "cell_type": "code",
   "execution_count": 12,
   "metadata": {
    "ExecuteTime": {
     "end_time": "2020-05-13T09:11:36.078151Z",
     "start_time": "2020-05-13T09:11:36.049451Z"
    }
   },
   "outputs": [
    {
     "name": "stdout",
     "output_type": "stream",
     "text": [
      "610 new locations to search for!\n"
     ]
    }
   ],
   "source": [
    "locations_new = pd.DataFrame(df.brewery_location[~df.brewery_location.isin(locations_df.locations)].unique(),columns=['locations'])\n",
    "print(len(locations_new), \"new locations to search for!\")"
   ]
  },
  {
   "cell_type": "code",
   "execution_count": 13,
   "metadata": {
    "ExecuteTime": {
     "end_time": "2020-05-13T09:11:38.651140Z",
     "start_time": "2020-05-13T09:11:38.645795Z"
    },
    "code_folding": [
     0
    ]
   },
   "outputs": [],
   "source": [
    "def tryconvert(x):\n",
    "        try:\n",
    "            return geolocator.geocode(x).latitude\n",
    "        except:\n",
    "            return None\n",
    "    "
   ]
  },
  {
   "cell_type": "code",
   "execution_count": 14,
   "metadata": {
    "ExecuteTime": {
     "end_time": "2020-05-13T09:11:38.938406Z",
     "start_time": "2020-05-13T09:11:38.933952Z"
    },
    "code_folding": [
     0
    ]
   },
   "outputs": [],
   "source": [
    "def tryconvertlong(x):\n",
    "        try:\n",
    "            return geolocator.geocode(x).longitude\n",
    "        except:\n",
    "            return None"
   ]
  },
  {
   "cell_type": "code",
   "execution_count": 16,
   "metadata": {
    "ExecuteTime": {
     "end_time": "2020-05-13T09:17:06.741313Z",
     "start_time": "2020-05-13T09:12:00.601328Z"
    }
   },
   "outputs": [],
   "source": [
    "locations_new[\"latitude\"] = locations_new.locations.apply(lambda x: tryconvert(x))"
   ]
  },
  {
   "cell_type": "code",
   "execution_count": 17,
   "metadata": {
    "ExecuteTime": {
     "end_time": "2020-05-13T09:25:09.410069Z",
     "start_time": "2020-05-13T09:20:02.730884Z"
    }
   },
   "outputs": [],
   "source": [
    "locations_new[\"longitude\"] = locations_new.locations.apply(lambda x: tryconvertlong(x))"
   ]
  },
  {
   "cell_type": "code",
   "execution_count": 18,
   "metadata": {
    "ExecuteTime": {
     "end_time": "2020-05-13T12:48:09.460247Z",
     "start_time": "2020-05-13T12:48:09.284686Z"
    }
   },
   "outputs": [
    {
     "data": {
      "text/html": [
       "<div>\n",
       "<style scoped>\n",
       "    .dataframe tbody tr th:only-of-type {\n",
       "        vertical-align: middle;\n",
       "    }\n",
       "\n",
       "    .dataframe tbody tr th {\n",
       "        vertical-align: top;\n",
       "    }\n",
       "\n",
       "    .dataframe thead th {\n",
       "        text-align: right;\n",
       "    }\n",
       "</style>\n",
       "<table border=\"1\" class=\"dataframe\">\n",
       "  <thead>\n",
       "    <tr style=\"text-align: right;\">\n",
       "      <th></th>\n",
       "      <th>locations</th>\n",
       "      <th>latitude</th>\n",
       "      <th>longitude</th>\n",
       "    </tr>\n",
       "  </thead>\n",
       "  <tbody>\n",
       "    <tr>\n",
       "      <th>0</th>\n",
       "      <td>Dischingen, Baden-Württemberg</td>\n",
       "      <td>48.698674</td>\n",
       "      <td>10.357023</td>\n",
       "    </tr>\n",
       "    <tr>\n",
       "      <th>1</th>\n",
       "      <td>Alexandria, Virginia</td>\n",
       "      <td>38.805110</td>\n",
       "      <td>-77.047023</td>\n",
       "    </tr>\n",
       "    <tr>\n",
       "      <th>2</th>\n",
       "      <td>Ord, Nebraska</td>\n",
       "      <td>41.603343</td>\n",
       "      <td>-98.926199</td>\n",
       "    </tr>\n",
       "    <tr>\n",
       "      <th>3</th>\n",
       "      <td>Ohiowa, Nebraska</td>\n",
       "      <td>40.414436</td>\n",
       "      <td>-97.453000</td>\n",
       "    </tr>\n",
       "    <tr>\n",
       "      <th>4</th>\n",
       "      <td>Saint-Bruno-de-Montarville, Quebec</td>\n",
       "      <td>45.525616</td>\n",
       "      <td>-73.339180</td>\n",
       "    </tr>\n",
       "    <tr>\n",
       "      <th>...</th>\n",
       "      <td>...</td>\n",
       "      <td>...</td>\n",
       "      <td>...</td>\n",
       "    </tr>\n",
       "    <tr>\n",
       "      <th>605</th>\n",
       "      <td>Cheddar, Somerset</td>\n",
       "      <td>51.275259</td>\n",
       "      <td>-2.776637</td>\n",
       "    </tr>\n",
       "    <tr>\n",
       "      <th>606</th>\n",
       "      <td>Bradford-On-Avon, Wiltshire</td>\n",
       "      <td>51.346715</td>\n",
       "      <td>-2.250433</td>\n",
       "    </tr>\n",
       "    <tr>\n",
       "      <th>607</th>\n",
       "      <td>Harlow, Essex</td>\n",
       "      <td>51.767619</td>\n",
       "      <td>0.097489</td>\n",
       "    </tr>\n",
       "    <tr>\n",
       "      <th>608</th>\n",
       "      <td>Lewis Center, Ohio</td>\n",
       "      <td>40.198396</td>\n",
       "      <td>-83.010184</td>\n",
       "    </tr>\n",
       "    <tr>\n",
       "      <th>609</th>\n",
       "      <td>Wiesen, Bavaria</td>\n",
       "      <td>50.112193</td>\n",
       "      <td>9.366062</td>\n",
       "    </tr>\n",
       "  </tbody>\n",
       "</table>\n",
       "<p>610 rows × 3 columns</p>\n",
       "</div>"
      ],
      "text/plain": [
       "                              locations   latitude  longitude\n",
       "0         Dischingen, Baden-Württemberg  48.698674  10.357023\n",
       "1                  Alexandria, Virginia  38.805110 -77.047023\n",
       "2                         Ord, Nebraska  41.603343 -98.926199\n",
       "3                      Ohiowa, Nebraska  40.414436 -97.453000\n",
       "4    Saint-Bruno-de-Montarville, Quebec  45.525616 -73.339180\n",
       "..                                  ...        ...        ...\n",
       "605                   Cheddar, Somerset  51.275259  -2.776637\n",
       "606         Bradford-On-Avon, Wiltshire  51.346715  -2.250433\n",
       "607                       Harlow, Essex  51.767619   0.097489\n",
       "608                  Lewis Center, Ohio  40.198396 -83.010184\n",
       "609                     Wiesen, Bavaria  50.112193   9.366062\n",
       "\n",
       "[610 rows x 3 columns]"
      ]
     },
     "execution_count": 18,
     "metadata": {},
     "output_type": "execute_result"
    }
   ],
   "source": [
    "locations_new"
   ]
  },
  {
   "cell_type": "code",
   "execution_count": 19,
   "metadata": {
    "ExecuteTime": {
     "end_time": "2020-05-13T12:53:20.379317Z",
     "start_time": "2020-05-13T12:48:18.647247Z"
    }
   },
   "outputs": [],
   "source": [
    "countries = []\n",
    "for row in locations_new.index:\n",
    "    try:\n",
    "        loc = geolocator.reverse([locations_new.iloc[row,1],locations_new.iloc[row,2]], language='en')\n",
    "        countries.append(loc.raw['address']['country'])\n",
    "    except:\n",
    "        countries.append(None)\n",
    "        \n",
    "    "
   ]
  },
  {
   "cell_type": "code",
   "execution_count": 29,
   "metadata": {
    "ExecuteTime": {
     "end_time": "2020-04-29T09:55:39.156272Z",
     "start_time": "2020-04-29T09:55:39.150779Z"
    }
   },
   "outputs": [],
   "source": [
    "locations_new['country'] = countries"
   ]
  },
  {
   "cell_type": "code",
   "execution_count": null,
   "metadata": {},
   "outputs": [],
   "source": [
    "locations_new"
   ]
  },
  {
   "cell_type": "code",
   "execution_count": 31,
   "metadata": {
    "ExecuteTime": {
     "end_time": "2020-04-30T10:06:05.325043Z",
     "start_time": "2020-04-30T10:06:04.913606Z"
    }
   },
   "outputs": [],
   "source": [
    "locations_df = pd.concat([locations_df,locations_new])\n",
    "locations_df.to_csv('locations_geotagged.csv',index=False)"
   ]
  },
  {
   "cell_type": "markdown",
   "metadata": {},
   "source": [
    "## Deal with Non-English Descriptions"
   ]
  },
  {
   "cell_type": "markdown",
   "metadata": {},
   "source": []
  },
  {
   "cell_type": "code",
   "execution_count": null,
   "metadata": {},
   "outputs": [],
   "source": []
  }
 ],
 "metadata": {
  "kernelspec": {
   "display_name": "Python 3",
   "language": "python",
   "name": "python3"
  },
  "language_info": {
   "codemirror_mode": {
    "name": "ipython",
    "version": 3
   },
   "file_extension": ".py",
   "mimetype": "text/x-python",
   "name": "python",
   "nbconvert_exporter": "python",
   "pygments_lexer": "ipython3",
   "version": "3.7.1"
  },
  "toc": {
   "base_numbering": 1,
   "nav_menu": {},
   "number_sections": true,
   "sideBar": true,
   "skip_h1_title": false,
   "title_cell": "Table of Contents",
   "title_sidebar": "Contents",
   "toc_cell": false,
   "toc_position": {},
   "toc_section_display": true,
   "toc_window_display": false
  },
  "varInspector": {
   "cols": {
    "lenName": 16,
    "lenType": 16,
    "lenVar": 40
   },
   "kernels_config": {
    "python": {
     "delete_cmd_postfix": "",
     "delete_cmd_prefix": "del ",
     "library": "var_list.py",
     "varRefreshCmd": "print(var_dic_list())"
    },
    "r": {
     "delete_cmd_postfix": ") ",
     "delete_cmd_prefix": "rm(",
     "library": "var_list.r",
     "varRefreshCmd": "cat(var_dic_list()) "
    }
   },
   "types_to_exclude": [
    "module",
    "function",
    "builtin_function_or_method",
    "instance",
    "_Feature"
   ],
   "window_display": false
  }
 },
 "nbformat": 4,
 "nbformat_minor": 4
}
