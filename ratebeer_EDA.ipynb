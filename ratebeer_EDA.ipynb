{
 "cells": [
  {
   "cell_type": "code",
   "execution_count": 4,
   "metadata": {
    "ExecuteTime": {
     "end_time": "2020-04-28T16:34:18.542924Z",
     "start_time": "2020-04-28T16:34:18.538634Z"
    }
   },
   "outputs": [],
   "source": [
    "import pandas as pd\n",
    "from tqdm import tqdm_notebook\n",
    "import matplotlib.pyplot as plt\n",
    "import seaborn as sns\n",
    "import geopandas\n",
    "from geopy.geocoders import Nominatim"
   ]
  },
  {
   "cell_type": "code",
   "execution_count": 5,
   "metadata": {
    "ExecuteTime": {
     "end_time": "2020-04-28T16:34:18.852412Z",
     "start_time": "2020-04-28T16:34:18.797046Z"
    }
   },
   "outputs": [],
   "source": [
    "df = pd.read_csv('all_reviews.csv')"
   ]
  },
  {
   "cell_type": "code",
   "execution_count": 6,
   "metadata": {
    "ExecuteTime": {
     "end_time": "2020-04-28T16:34:19.293396Z",
     "start_time": "2020-04-28T16:34:19.265749Z"
    }
   },
   "outputs": [
    {
     "data": {
      "text/html": [
       "<div>\n",
       "<style scoped>\n",
       "    .dataframe tbody tr th:only-of-type {\n",
       "        vertical-align: middle;\n",
       "    }\n",
       "\n",
       "    .dataframe tbody tr th {\n",
       "        vertical-align: top;\n",
       "    }\n",
       "\n",
       "    .dataframe thead th {\n",
       "        text-align: right;\n",
       "    }\n",
       "</style>\n",
       "<table border=\"1\" class=\"dataframe\">\n",
       "  <thead>\n",
       "    <tr style=\"text-align: right;\">\n",
       "      <th></th>\n",
       "      <th>beer_name</th>\n",
       "      <th>beer_rating</th>\n",
       "      <th>brewery_location</th>\n",
       "      <th>brewery_name</th>\n",
       "      <th>review_content</th>\n",
       "      <th>reviewer_name</th>\n",
       "    </tr>\n",
       "  </thead>\n",
       "  <tbody>\n",
       "    <tr>\n",
       "      <th>0</th>\n",
       "      <td>St. Peter's Ruby Red Ale</td>\n",
       "      <td>3.3</td>\n",
       "      <td>Bungay, Suffolk</td>\n",
       "      <td>St. Peter's Brewery</td>\n",
       "      <td>Ruby color, offwhite coam. Aroma and taste: fl...</td>\n",
       "      <td>alex_leit</td>\n",
       "    </tr>\n",
       "    <tr>\n",
       "      <th>1</th>\n",
       "      <td>Shepherd Neame Spitfire (Bottle)</td>\n",
       "      <td>2.2</td>\n",
       "      <td>Faversham, Kent</td>\n",
       "      <td>Shepherd Neame</td>\n",
       "      <td>Disappointing show from the lads at ‘Britain’s...</td>\n",
       "      <td>shivermetimber.gray</td>\n",
       "    </tr>\n",
       "    <tr>\n",
       "      <th>2</th>\n",
       "      <td>Arbor Rocketman</td>\n",
       "      <td>3.8</td>\n",
       "      <td>Bristol, Gloucestershire</td>\n",
       "      <td>Arbor Ales</td>\n",
       "      <td>Puszka. Mętne o żółtym kolorze. Piana biała,ob...</td>\n",
       "      <td>MarcinG</td>\n",
       "    </tr>\n",
       "    <tr>\n",
       "      <th>3</th>\n",
       "      <td>Shepherd Neame India Pale Ale (Bottle)</td>\n",
       "      <td>3.4</td>\n",
       "      <td>Faversham, Kent</td>\n",
       "      <td>Shepherd Neame</td>\n",
       "      <td>Bottle. Amber with bronze color and white foam...</td>\n",
       "      <td>alex_leit</td>\n",
       "    </tr>\n",
       "    <tr>\n",
       "      <th>4</th>\n",
       "      <td>Shepherd Neame Christmas Ale</td>\n",
       "      <td>3.3</td>\n",
       "      <td>Faversham, Kent</td>\n",
       "      <td>Shepherd Neame</td>\n",
       "      <td>Bottle. Aroma: English hops and malts with tof...</td>\n",
       "      <td>alex_leit</td>\n",
       "    </tr>\n",
       "    <tr>\n",
       "      <th>...</th>\n",
       "      <td>...</td>\n",
       "      <td>...</td>\n",
       "      <td>...</td>\n",
       "      <td>...</td>\n",
       "      <td>...</td>\n",
       "      <td>...</td>\n",
       "    </tr>\n",
       "    <tr>\n",
       "      <th>9684</th>\n",
       "      <td>Port Orleans Bacchus Blonde</td>\n",
       "      <td>4.6</td>\n",
       "      <td>New Orleans, Louisiana</td>\n",
       "      <td>Port Orleans Brewing Company</td>\n",
       "      <td>Bacchus Blonde has a thick, soapy white head, ...</td>\n",
       "      <td>ronaldtheriot</td>\n",
       "    </tr>\n",
       "    <tr>\n",
       "      <th>9685</th>\n",
       "      <td>Harcos (Hungary)</td>\n",
       "      <td>2.7</td>\n",
       "      <td>Neckarsulm, Baden-Württemberg</td>\n",
       "      <td>Lidl Europe</td>\n",
       "      <td>I Tasted as B Lidl Warrior IPA /B /I Very good...</td>\n",
       "      <td>JorisPPattyn</td>\n",
       "    </tr>\n",
       "    <tr>\n",
       "      <th>9686</th>\n",
       "      <td>Deviant &amp; Dandy Lucid Dream</td>\n",
       "      <td>3.4</td>\n",
       "      <td>Homerton, Greater London</td>\n",
       "      <td>Deviant &amp; Dandy Brewery</td>\n",
       "      <td>Can from the Plumsteadshire online shop. Hazy ...</td>\n",
       "      <td>planky84</td>\n",
       "    </tr>\n",
       "    <tr>\n",
       "      <th>9687</th>\n",
       "      <td>League Night Lager</td>\n",
       "      <td>2.9</td>\n",
       "      <td>Baileys Harbor, Wisconsin</td>\n",
       "      <td>Door County Brewing Company</td>\n",
       "      <td>Light yellow pour with soda pop white head. Gr...</td>\n",
       "      <td>pkbites</td>\n",
       "    </tr>\n",
       "    <tr>\n",
       "      <th>9688</th>\n",
       "      <td>La Cabra Heapious</td>\n",
       "      <td>3.7</td>\n",
       "      <td>Berwyn, Pennsylvania</td>\n",
       "      <td>La Cabra Brewing</td>\n",
       "      <td>Hazy golden color with a medium white head tha...</td>\n",
       "      <td>egajdzis</td>\n",
       "    </tr>\n",
       "  </tbody>\n",
       "</table>\n",
       "<p>9689 rows × 6 columns</p>\n",
       "</div>"
      ],
      "text/plain": [
       "                                   beer_name  beer_rating  \\\n",
       "0                   St. Peter's Ruby Red Ale          3.3   \n",
       "1           Shepherd Neame Spitfire (Bottle)          2.2   \n",
       "2                            Arbor Rocketman          3.8   \n",
       "3     Shepherd Neame India Pale Ale (Bottle)          3.4   \n",
       "4              Shepherd Neame Christmas Ale           3.3   \n",
       "...                                      ...          ...   \n",
       "9684             Port Orleans Bacchus Blonde          4.6   \n",
       "9685                        Harcos (Hungary)          2.7   \n",
       "9686             Deviant & Dandy Lucid Dream          3.4   \n",
       "9687                      League Night Lager          2.9   \n",
       "9688                       La Cabra Heapious          3.7   \n",
       "\n",
       "                   brewery_location                  brewery_name  \\\n",
       "0                   Bungay, Suffolk           St. Peter's Brewery   \n",
       "1                   Faversham, Kent                Shepherd Neame   \n",
       "2          Bristol, Gloucestershire                    Arbor Ales   \n",
       "3                   Faversham, Kent                Shepherd Neame   \n",
       "4                   Faversham, Kent                Shepherd Neame   \n",
       "...                             ...                           ...   \n",
       "9684         New Orleans, Louisiana  Port Orleans Brewing Company   \n",
       "9685  Neckarsulm, Baden-Württemberg                   Lidl Europe   \n",
       "9686       Homerton, Greater London       Deviant & Dandy Brewery   \n",
       "9687      Baileys Harbor, Wisconsin   Door County Brewing Company   \n",
       "9688           Berwyn, Pennsylvania              La Cabra Brewing   \n",
       "\n",
       "                                         review_content        reviewer_name  \n",
       "0     Ruby color, offwhite coam. Aroma and taste: fl...            alex_leit  \n",
       "1     Disappointing show from the lads at ‘Britain’s...  shivermetimber.gray  \n",
       "2     Puszka. Mętne o żółtym kolorze. Piana biała,ob...              MarcinG  \n",
       "3     Bottle. Amber with bronze color and white foam...            alex_leit  \n",
       "4     Bottle. Aroma: English hops and malts with tof...            alex_leit  \n",
       "...                                                 ...                  ...  \n",
       "9684  Bacchus Blonde has a thick, soapy white head, ...        ronaldtheriot  \n",
       "9685  I Tasted as B Lidl Warrior IPA /B /I Very good...         JorisPPattyn  \n",
       "9686  Can from the Plumsteadshire online shop. Hazy ...             planky84  \n",
       "9687  Light yellow pour with soda pop white head. Gr...              pkbites  \n",
       "9688  Hazy golden color with a medium white head tha...             egajdzis  \n",
       "\n",
       "[9689 rows x 6 columns]"
      ]
     },
     "execution_count": 6,
     "metadata": {},
     "output_type": "execute_result"
    }
   ],
   "source": [
    "df"
   ]
  },
  {
   "cell_type": "code",
   "execution_count": null,
   "metadata": {},
   "outputs": [],
   "source": [
    "geolocator = Nominatim(user_agent=\"None\")"
   ]
  },
  {
   "cell_type": "code",
   "execution_count": 9,
   "metadata": {
    "ExecuteTime": {
     "end_time": "2020-04-28T16:36:21.282532Z",
     "start_time": "2020-04-28T16:36:21.107137Z"
    }
   },
   "outputs": [
    {
     "data": {
      "text/plain": [
       "52.4562248"
      ]
     },
     "execution_count": 9,
     "metadata": {},
     "output_type": "execute_result"
    }
   ],
   "source": [
    "geolocator.geocode(\"Bungay, Suffolk\").latitude"
   ]
  },
  {
   "cell_type": "code",
   "execution_count": 14,
   "metadata": {
    "ExecuteTime": {
     "end_time": "2020-04-28T16:39:46.332271Z",
     "start_time": "2020-04-28T16:39:46.327345Z"
    }
   },
   "outputs": [],
   "source": [
    "locations_df = pd.DataFrame(df['brewery_location'].unique(),columns=[\"locations\"])"
   ]
  },
  {
   "cell_type": "code",
   "execution_count": 16,
   "metadata": {
    "ExecuteTime": {
     "end_time": "2020-04-28T16:43:45.125037Z",
     "start_time": "2020-04-28T16:43:45.114719Z"
    }
   },
   "outputs": [],
   "source": [
    "def tryconvert(x):\n",
    "        try:\n",
    "            return geolocator.geocode(x).latitude\n",
    "        except:\n",
    "            return None\n",
    "    "
   ]
  },
  {
   "cell_type": "code",
   "execution_count": 17,
   "metadata": {
    "ExecuteTime": {
     "end_time": "2020-04-28T16:55:45.789723Z",
     "start_time": "2020-04-28T16:43:58.640161Z"
    }
   },
   "outputs": [],
   "source": [
    "locations_df[\"latitude\"] = locations_df.locations.apply(lambda x: tryconvert(x))"
   ]
  },
  {
   "cell_type": "code",
   "execution_count": 18,
   "metadata": {
    "ExecuteTime": {
     "end_time": "2020-04-28T16:55:47.100456Z",
     "start_time": "2020-04-28T16:55:47.095871Z"
    }
   },
   "outputs": [],
   "source": [
    "def tryconvertlong(x):\n",
    "        try:\n",
    "            return geolocator.geocode(x).longitude\n",
    "        except:\n",
    "            return None"
   ]
  },
  {
   "cell_type": "code",
   "execution_count": 19,
   "metadata": {
    "ExecuteTime": {
     "end_time": "2020-04-28T17:07:58.960432Z",
     "start_time": "2020-04-28T16:55:47.241974Z"
    }
   },
   "outputs": [],
   "source": [
    "locations_df[\"longitude\"] = locations_df.locations.apply(lambda x: tryconvertlong(x))"
   ]
  },
  {
   "cell_type": "code",
   "execution_count": null,
   "metadata": {},
   "outputs": [],
   "source": []
  }
 ],
 "metadata": {
  "kernelspec": {
   "display_name": "Python 3",
   "language": "python",
   "name": "python3"
  },
  "language_info": {
   "codemirror_mode": {
    "name": "ipython",
    "version": 3
   },
   "file_extension": ".py",
   "mimetype": "text/x-python",
   "name": "python",
   "nbconvert_exporter": "python",
   "pygments_lexer": "ipython3",
   "version": "3.7.1"
  },
  "toc": {
   "base_numbering": 1,
   "nav_menu": {},
   "number_sections": true,
   "sideBar": true,
   "skip_h1_title": false,
   "title_cell": "Table of Contents",
   "title_sidebar": "Contents",
   "toc_cell": false,
   "toc_position": {},
   "toc_section_display": true,
   "toc_window_display": false
  },
  "varInspector": {
   "cols": {
    "lenName": 16,
    "lenType": 16,
    "lenVar": 40
   },
   "kernels_config": {
    "python": {
     "delete_cmd_postfix": "",
     "delete_cmd_prefix": "del ",
     "library": "var_list.py",
     "varRefreshCmd": "print(var_dic_list())"
    },
    "r": {
     "delete_cmd_postfix": ") ",
     "delete_cmd_prefix": "rm(",
     "library": "var_list.r",
     "varRefreshCmd": "cat(var_dic_list()) "
    }
   },
   "types_to_exclude": [
    "module",
    "function",
    "builtin_function_or_method",
    "instance",
    "_Feature"
   ],
   "window_display": false
  }
 },
 "nbformat": 4,
 "nbformat_minor": 4
}
