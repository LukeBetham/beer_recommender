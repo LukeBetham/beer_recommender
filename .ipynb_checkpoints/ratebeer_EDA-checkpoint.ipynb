{
 "cells": [
  {
   "cell_type": "code",
   "execution_count": 20,
   "metadata": {
    "ExecuteTime": {
     "end_time": "2020-05-14T08:46:28.509985Z",
     "start_time": "2020-05-14T08:46:28.462998Z"
    }
   },
   "outputs": [],
   "source": [
    "import pandas as pd\n",
    "from tqdm import tqdm_notebook\n",
    "import matplotlib.pyplot as plt\n",
    "import seaborn as sns\n",
    "import geopandas\n",
    "from geopy.geocoders import Nominatim"
   ]
  },
  {
   "cell_type": "markdown",
   "metadata": {},
   "source": [
    "## Geotagging the scraped Data"
   ]
  },
  {
   "cell_type": "code",
   "execution_count": 21,
   "metadata": {
    "ExecuteTime": {
     "end_time": "2020-05-14T08:46:29.797017Z",
     "start_time": "2020-05-14T08:46:29.538859Z"
    }
   },
   "outputs": [],
   "source": [
    "df = pd.read_csv('all_reviews.csv')\n",
    "locations_df = pd.read_csv('locations_geotagged.csv')"
   ]
  },
  {
   "cell_type": "code",
   "execution_count": 22,
   "metadata": {
    "ExecuteTime": {
     "end_time": "2020-05-14T08:46:30.299243Z",
     "start_time": "2020-05-14T08:46:30.197294Z"
    }
   },
   "outputs": [
    {
     "data": {
      "text/html": [
       "<div>\n",
       "<style scoped>\n",
       "    .dataframe tbody tr th:only-of-type {\n",
       "        vertical-align: middle;\n",
       "    }\n",
       "\n",
       "    .dataframe tbody tr th {\n",
       "        vertical-align: top;\n",
       "    }\n",
       "\n",
       "    .dataframe thead th {\n",
       "        text-align: right;\n",
       "    }\n",
       "</style>\n",
       "<table border=\"1\" class=\"dataframe\">\n",
       "  <thead>\n",
       "    <tr style=\"text-align: right;\">\n",
       "      <th></th>\n",
       "      <th>beer_name</th>\n",
       "      <th>beer_rating</th>\n",
       "      <th>brewery_location</th>\n",
       "      <th>brewery_name</th>\n",
       "      <th>review_content</th>\n",
       "      <th>reviewer_name</th>\n",
       "    </tr>\n",
       "  </thead>\n",
       "  <tbody>\n",
       "    <tr>\n",
       "      <th>0</th>\n",
       "      <td>St. Peter's Ruby Red Ale</td>\n",
       "      <td>3.3</td>\n",
       "      <td>Bungay, Suffolk</td>\n",
       "      <td>St. Peter's Brewery</td>\n",
       "      <td>Ruby color, offwhite coam. Aroma and taste: fl...</td>\n",
       "      <td>alex_leit</td>\n",
       "    </tr>\n",
       "    <tr>\n",
       "      <th>1</th>\n",
       "      <td>Shepherd Neame Spitfire (Bottle)</td>\n",
       "      <td>2.2</td>\n",
       "      <td>Faversham, Kent</td>\n",
       "      <td>Shepherd Neame</td>\n",
       "      <td>Disappointing show from the lads at ‘Britain’s...</td>\n",
       "      <td>shivermetimber.gray</td>\n",
       "    </tr>\n",
       "    <tr>\n",
       "      <th>2</th>\n",
       "      <td>Arbor Rocketman</td>\n",
       "      <td>3.8</td>\n",
       "      <td>Bristol, Gloucestershire</td>\n",
       "      <td>Arbor Ales</td>\n",
       "      <td>Puszka. Mętne o żółtym kolorze. Piana biała,ob...</td>\n",
       "      <td>MarcinG</td>\n",
       "    </tr>\n",
       "    <tr>\n",
       "      <th>3</th>\n",
       "      <td>Shepherd Neame India Pale Ale (Bottle)</td>\n",
       "      <td>3.4</td>\n",
       "      <td>Faversham, Kent</td>\n",
       "      <td>Shepherd Neame</td>\n",
       "      <td>Bottle. Amber with bronze color and white foam...</td>\n",
       "      <td>alex_leit</td>\n",
       "    </tr>\n",
       "    <tr>\n",
       "      <th>4</th>\n",
       "      <td>Shepherd Neame Christmas Ale</td>\n",
       "      <td>3.3</td>\n",
       "      <td>Faversham, Kent</td>\n",
       "      <td>Shepherd Neame</td>\n",
       "      <td>Bottle. Aroma: English hops and malts with tof...</td>\n",
       "      <td>alex_leit</td>\n",
       "    </tr>\n",
       "    <tr>\n",
       "      <th>...</th>\n",
       "      <td>...</td>\n",
       "      <td>...</td>\n",
       "      <td>...</td>\n",
       "      <td>...</td>\n",
       "      <td>...</td>\n",
       "      <td>...</td>\n",
       "    </tr>\n",
       "    <tr>\n",
       "      <th>20785</th>\n",
       "      <td>Four Loko Sour Apple</td>\n",
       "      <td>3.1</td>\n",
       "      <td>+1.2</td>\n",
       "      <td>Drink Four Brewing Company ( Phusion Projects)</td>\n",
       "      <td>Very light green jolly rancher smell with a to...</td>\n",
       "      <td>geologyguy</td>\n",
       "    </tr>\n",
       "    <tr>\n",
       "      <th>20786</th>\n",
       "      <td>Dunedin Biere de Cafe (Coffee Brown)</td>\n",
       "      <td>1.7</td>\n",
       "      <td>-1.7</td>\n",
       "      <td>Dunedin Brewery</td>\n",
       "      <td>Draft at the brewery. Brown body, small beige ...</td>\n",
       "      <td>Tranquillity</td>\n",
       "    </tr>\n",
       "    <tr>\n",
       "      <th>20787</th>\n",
       "      <td>Wychwood Hobgoblin IPA (Keg and Bottle)</td>\n",
       "      <td>5.0</td>\n",
       "      <td>+1.8</td>\n",
       "      <td>Wychwood Brewery (Marston's)</td>\n",
       "      <td>İçimi kolay ve zengin aromalı güzel bir İngili...</td>\n",
       "      <td>purikss</td>\n",
       "    </tr>\n",
       "    <tr>\n",
       "      <th>20788</th>\n",
       "      <td>Fuller's Black Cab Stout (Pasteurised)</td>\n",
       "      <td>5.0</td>\n",
       "      <td>+1.5</td>\n",
       "      <td>Fuller's Brewery (Asahi)</td>\n",
       "      <td>Stout bira severler için özellikle fıcı altern...</td>\n",
       "      <td>purikss</td>\n",
       "    </tr>\n",
       "    <tr>\n",
       "      <th>20789</th>\n",
       "      <td>Fuller's Organic Honey Dew (Bottle)</td>\n",
       "      <td>5.0</td>\n",
       "      <td>+2</td>\n",
       "      <td>Fuller's Brewery (Asahi)</td>\n",
       "      <td>Gerçekten tatlı bira severleri için özellikle ...</td>\n",
       "      <td>purikss</td>\n",
       "    </tr>\n",
       "  </tbody>\n",
       "</table>\n",
       "<p>20790 rows × 6 columns</p>\n",
       "</div>"
      ],
      "text/plain": [
       "                                     beer_name  beer_rating  \\\n",
       "0                     St. Peter's Ruby Red Ale          3.3   \n",
       "1             Shepherd Neame Spitfire (Bottle)          2.2   \n",
       "2                              Arbor Rocketman          3.8   \n",
       "3       Shepherd Neame India Pale Ale (Bottle)          3.4   \n",
       "4                 Shepherd Neame Christmas Ale          3.3   \n",
       "...                                        ...          ...   \n",
       "20785                     Four Loko Sour Apple          3.1   \n",
       "20786     Dunedin Biere de Cafe (Coffee Brown)          1.7   \n",
       "20787  Wychwood Hobgoblin IPA (Keg and Bottle)          5.0   \n",
       "20788   Fuller's Black Cab Stout (Pasteurised)          5.0   \n",
       "20789      Fuller's Organic Honey Dew (Bottle)          5.0   \n",
       "\n",
       "               brewery_location  \\\n",
       "0               Bungay, Suffolk   \n",
       "1               Faversham, Kent   \n",
       "2      Bristol, Gloucestershire   \n",
       "3               Faversham, Kent   \n",
       "4               Faversham, Kent   \n",
       "...                         ...   \n",
       "20785                      +1.2   \n",
       "20786                      -1.7   \n",
       "20787                      +1.8   \n",
       "20788                      +1.5   \n",
       "20789                        +2   \n",
       "\n",
       "                                         brewery_name  \\\n",
       "0                                 St. Peter's Brewery   \n",
       "1                                      Shepherd Neame   \n",
       "2                                          Arbor Ales   \n",
       "3                                      Shepherd Neame   \n",
       "4                                      Shepherd Neame   \n",
       "...                                               ...   \n",
       "20785  Drink Four Brewing Company ( Phusion Projects)   \n",
       "20786                                 Dunedin Brewery   \n",
       "20787                    Wychwood Brewery (Marston's)   \n",
       "20788                        Fuller's Brewery (Asahi)   \n",
       "20789                        Fuller's Brewery (Asahi)   \n",
       "\n",
       "                                          review_content        reviewer_name  \n",
       "0      Ruby color, offwhite coam. Aroma and taste: fl...            alex_leit  \n",
       "1      Disappointing show from the lads at ‘Britain’s...  shivermetimber.gray  \n",
       "2      Puszka. Mętne o żółtym kolorze. Piana biała,ob...              MarcinG  \n",
       "3      Bottle. Amber with bronze color and white foam...            alex_leit  \n",
       "4      Bottle. Aroma: English hops and malts with tof...            alex_leit  \n",
       "...                                                  ...                  ...  \n",
       "20785  Very light green jolly rancher smell with a to...           geologyguy  \n",
       "20786  Draft at the brewery. Brown body, small beige ...         Tranquillity  \n",
       "20787  İçimi kolay ve zengin aromalı güzel bir İngili...              purikss  \n",
       "20788  Stout bira severler için özellikle fıcı altern...              purikss  \n",
       "20789  Gerçekten tatlı bira severleri için özellikle ...              purikss  \n",
       "\n",
       "[20790 rows x 6 columns]"
      ]
     },
     "execution_count": 22,
     "metadata": {},
     "output_type": "execute_result"
    }
   ],
   "source": [
    "df"
   ]
  },
  {
   "cell_type": "code",
   "execution_count": 23,
   "metadata": {
    "ExecuteTime": {
     "end_time": "2020-05-14T08:46:30.946652Z",
     "start_time": "2020-05-14T08:46:30.928510Z"
    }
   },
   "outputs": [
    {
     "data": {
      "text/html": [
       "<div>\n",
       "<style scoped>\n",
       "    .dataframe tbody tr th:only-of-type {\n",
       "        vertical-align: middle;\n",
       "    }\n",
       "\n",
       "    .dataframe tbody tr th {\n",
       "        vertical-align: top;\n",
       "    }\n",
       "\n",
       "    .dataframe thead th {\n",
       "        text-align: right;\n",
       "    }\n",
       "</style>\n",
       "<table border=\"1\" class=\"dataframe\">\n",
       "  <thead>\n",
       "    <tr style=\"text-align: right;\">\n",
       "      <th></th>\n",
       "      <th>locations</th>\n",
       "      <th>latitude</th>\n",
       "      <th>longitude</th>\n",
       "      <th>country</th>\n",
       "    </tr>\n",
       "  </thead>\n",
       "  <tbody>\n",
       "    <tr>\n",
       "      <th>0</th>\n",
       "      <td>Bungay, Suffolk</td>\n",
       "      <td>52.456225</td>\n",
       "      <td>1.437341</td>\n",
       "      <td>United Kingdom</td>\n",
       "    </tr>\n",
       "    <tr>\n",
       "      <th>1</th>\n",
       "      <td>Faversham, Kent</td>\n",
       "      <td>51.314409</td>\n",
       "      <td>0.891189</td>\n",
       "      <td>United Kingdom</td>\n",
       "    </tr>\n",
       "    <tr>\n",
       "      <th>2</th>\n",
       "      <td>Bristol, Gloucestershire</td>\n",
       "      <td>51.852767</td>\n",
       "      <td>-2.255369</td>\n",
       "      <td>United Kingdom</td>\n",
       "    </tr>\n",
       "    <tr>\n",
       "      <th>3</th>\n",
       "      <td>Round Rock, Texas</td>\n",
       "      <td>30.508235</td>\n",
       "      <td>-97.678893</td>\n",
       "      <td>United States of America</td>\n",
       "    </tr>\n",
       "    <tr>\n",
       "      <th>4</th>\n",
       "      <td>Brooklyn, New York</td>\n",
       "      <td>40.650104</td>\n",
       "      <td>-73.949582</td>\n",
       "      <td>United States of America</td>\n",
       "    </tr>\n",
       "    <tr>\n",
       "      <th>...</th>\n",
       "      <td>...</td>\n",
       "      <td>...</td>\n",
       "      <td>...</td>\n",
       "      <td>...</td>\n",
       "    </tr>\n",
       "    <tr>\n",
       "      <th>1378</th>\n",
       "      <td>Vielank, Mecklenburg-Vorpommern</td>\n",
       "      <td>53.235501</td>\n",
       "      <td>11.135182</td>\n",
       "      <td>Germany</td>\n",
       "    </tr>\n",
       "    <tr>\n",
       "      <th>1379</th>\n",
       "      <td>Baileys Harbor, Wisconsin</td>\n",
       "      <td>45.064993</td>\n",
       "      <td>-87.124274</td>\n",
       "      <td>United States of America</td>\n",
       "    </tr>\n",
       "    <tr>\n",
       "      <th>1380</th>\n",
       "      <td>Broomfield, Colorado</td>\n",
       "      <td>39.920383</td>\n",
       "      <td>-105.069146</td>\n",
       "      <td>United States of America</td>\n",
       "    </tr>\n",
       "    <tr>\n",
       "      <th>1381</th>\n",
       "      <td>Homerton, Greater London</td>\n",
       "      <td>51.547079</td>\n",
       "      <td>-0.043121</td>\n",
       "      <td>United Kingdom</td>\n",
       "    </tr>\n",
       "    <tr>\n",
       "      <th>1382</th>\n",
       "      <td>Berwyn, Pennsylvania</td>\n",
       "      <td>40.044831</td>\n",
       "      <td>-75.438805</td>\n",
       "      <td>United States of America</td>\n",
       "    </tr>\n",
       "  </tbody>\n",
       "</table>\n",
       "<p>1383 rows × 4 columns</p>\n",
       "</div>"
      ],
      "text/plain": [
       "                            locations   latitude   longitude  \\\n",
       "0                     Bungay, Suffolk  52.456225    1.437341   \n",
       "1                     Faversham, Kent  51.314409    0.891189   \n",
       "2            Bristol, Gloucestershire  51.852767   -2.255369   \n",
       "3                   Round Rock, Texas  30.508235  -97.678893   \n",
       "4                  Brooklyn, New York  40.650104  -73.949582   \n",
       "...                               ...        ...         ...   \n",
       "1378  Vielank, Mecklenburg-Vorpommern  53.235501   11.135182   \n",
       "1379        Baileys Harbor, Wisconsin  45.064993  -87.124274   \n",
       "1380             Broomfield, Colorado  39.920383 -105.069146   \n",
       "1381         Homerton, Greater London  51.547079   -0.043121   \n",
       "1382             Berwyn, Pennsylvania  40.044831  -75.438805   \n",
       "\n",
       "                       country  \n",
       "0               United Kingdom  \n",
       "1               United Kingdom  \n",
       "2               United Kingdom  \n",
       "3     United States of America  \n",
       "4     United States of America  \n",
       "...                        ...  \n",
       "1378                   Germany  \n",
       "1379  United States of America  \n",
       "1380  United States of America  \n",
       "1381            United Kingdom  \n",
       "1382  United States of America  \n",
       "\n",
       "[1383 rows x 4 columns]"
      ]
     },
     "execution_count": 23,
     "metadata": {},
     "output_type": "execute_result"
    }
   ],
   "source": [
    "locations_df"
   ]
  },
  {
   "cell_type": "code",
   "execution_count": 24,
   "metadata": {
    "ExecuteTime": {
     "end_time": "2020-05-14T08:46:34.466605Z",
     "start_time": "2020-05-14T08:46:34.419929Z"
    }
   },
   "outputs": [],
   "source": [
    "geolocator = Nominatim(user_agent=\"None\")"
   ]
  },
  {
   "cell_type": "code",
   "execution_count": 25,
   "metadata": {
    "ExecuteTime": {
     "end_time": "2020-05-14T08:46:36.116541Z",
     "start_time": "2020-05-14T08:46:36.068930Z"
    }
   },
   "outputs": [
    {
     "name": "stdout",
     "output_type": "stream",
     "text": [
      "638 new locations to search for!\n"
     ]
    }
   ],
   "source": [
    "locations_new = pd.DataFrame(df.brewery_location[~df.brewery_location.isin(locations_df.locations)].unique(),columns=['locations'])\n",
    "print(len(locations_new), \"new locations to search for!\")"
   ]
  },
  {
   "cell_type": "code",
   "execution_count": 26,
   "metadata": {
    "ExecuteTime": {
     "end_time": "2020-05-14T08:46:47.373279Z",
     "start_time": "2020-05-14T08:46:47.366098Z"
    },
    "code_folding": [
     0
    ]
   },
   "outputs": [],
   "source": [
    "def tryconvert(x):\n",
    "        try:\n",
    "            return geolocator.geocode(x).latitude\n",
    "        except:\n",
    "            return None\n",
    "    "
   ]
  },
  {
   "cell_type": "code",
   "execution_count": 27,
   "metadata": {
    "ExecuteTime": {
     "end_time": "2020-05-14T08:46:47.670902Z",
     "start_time": "2020-05-14T08:46:47.658140Z"
    },
    "code_folding": [
     0
    ]
   },
   "outputs": [],
   "source": [
    "def tryconvertlong(x):\n",
    "        try:\n",
    "            return geolocator.geocode(x).longitude\n",
    "        except:\n",
    "            return None"
   ]
  },
  {
   "cell_type": "code",
   "execution_count": 28,
   "metadata": {
    "ExecuteTime": {
     "end_time": "2020-05-14T08:52:10.923860Z",
     "start_time": "2020-05-14T08:46:50.390990Z"
    }
   },
   "outputs": [],
   "source": [
    "locations_new[\"latitude\"] = locations_new.locations.apply(lambda x: tryconvert(x))"
   ]
  },
  {
   "cell_type": "code",
   "execution_count": 29,
   "metadata": {
    "ExecuteTime": {
     "end_time": "2020-05-14T08:57:31.372529Z",
     "start_time": "2020-05-14T08:52:11.028250Z"
    }
   },
   "outputs": [],
   "source": [
    "locations_new[\"longitude\"] = locations_new.locations.apply(lambda x: tryconvertlong(x))"
   ]
  },
  {
   "cell_type": "code",
   "execution_count": 30,
   "metadata": {
    "ExecuteTime": {
     "end_time": "2020-05-14T08:57:31.494114Z",
     "start_time": "2020-05-14T08:57:31.482313Z"
    }
   },
   "outputs": [
    {
     "data": {
      "text/html": [
       "<div>\n",
       "<style scoped>\n",
       "    .dataframe tbody tr th:only-of-type {\n",
       "        vertical-align: middle;\n",
       "    }\n",
       "\n",
       "    .dataframe tbody tr th {\n",
       "        vertical-align: top;\n",
       "    }\n",
       "\n",
       "    .dataframe thead th {\n",
       "        text-align: right;\n",
       "    }\n",
       "</style>\n",
       "<table border=\"1\" class=\"dataframe\">\n",
       "  <thead>\n",
       "    <tr style=\"text-align: right;\">\n",
       "      <th></th>\n",
       "      <th>locations</th>\n",
       "      <th>latitude</th>\n",
       "      <th>longitude</th>\n",
       "    </tr>\n",
       "  </thead>\n",
       "  <tbody>\n",
       "    <tr>\n",
       "      <th>0</th>\n",
       "      <td>Dischingen, Baden-Württemberg</td>\n",
       "      <td>48.698674</td>\n",
       "      <td>10.357023</td>\n",
       "    </tr>\n",
       "    <tr>\n",
       "      <th>1</th>\n",
       "      <td>Alexandria, Virginia</td>\n",
       "      <td>38.805110</td>\n",
       "      <td>-77.047023</td>\n",
       "    </tr>\n",
       "    <tr>\n",
       "      <th>2</th>\n",
       "      <td>Ord, Nebraska</td>\n",
       "      <td>41.603343</td>\n",
       "      <td>-98.926199</td>\n",
       "    </tr>\n",
       "    <tr>\n",
       "      <th>3</th>\n",
       "      <td>Ohiowa, Nebraska</td>\n",
       "      <td>40.414436</td>\n",
       "      <td>-97.453000</td>\n",
       "    </tr>\n",
       "    <tr>\n",
       "      <th>4</th>\n",
       "      <td>Saint-Bruno-de-Montarville, Quebec</td>\n",
       "      <td>45.525616</td>\n",
       "      <td>-73.339180</td>\n",
       "    </tr>\n",
       "    <tr>\n",
       "      <th>...</th>\n",
       "      <td>...</td>\n",
       "      <td>...</td>\n",
       "      <td>...</td>\n",
       "    </tr>\n",
       "    <tr>\n",
       "      <th>633</th>\n",
       "      <td>King’s Bromley, Staffordshire</td>\n",
       "      <td>52.748947</td>\n",
       "      <td>-1.821020</td>\n",
       "    </tr>\n",
       "    <tr>\n",
       "      <th>634</th>\n",
       "      <td>Dunsden, Oxfordshire</td>\n",
       "      <td>51.488146</td>\n",
       "      <td>-0.937114</td>\n",
       "    </tr>\n",
       "    <tr>\n",
       "      <th>635</th>\n",
       "      <td>Bideford, Devon</td>\n",
       "      <td>51.010765</td>\n",
       "      <td>-4.199479</td>\n",
       "    </tr>\n",
       "    <tr>\n",
       "      <th>636</th>\n",
       "      <td>St. Marys, Pennsylvania</td>\n",
       "      <td>41.428043</td>\n",
       "      <td>-78.561127</td>\n",
       "    </tr>\n",
       "    <tr>\n",
       "      <th>637</th>\n",
       "      <td>Ahorntal-Hintergereuth, Bavaria</td>\n",
       "      <td>49.866228</td>\n",
       "      <td>11.451586</td>\n",
       "    </tr>\n",
       "  </tbody>\n",
       "</table>\n",
       "<p>638 rows × 3 columns</p>\n",
       "</div>"
      ],
      "text/plain": [
       "                              locations   latitude  longitude\n",
       "0         Dischingen, Baden-Württemberg  48.698674  10.357023\n",
       "1                  Alexandria, Virginia  38.805110 -77.047023\n",
       "2                         Ord, Nebraska  41.603343 -98.926199\n",
       "3                      Ohiowa, Nebraska  40.414436 -97.453000\n",
       "4    Saint-Bruno-de-Montarville, Quebec  45.525616 -73.339180\n",
       "..                                  ...        ...        ...\n",
       "633       King’s Bromley, Staffordshire  52.748947  -1.821020\n",
       "634                Dunsden, Oxfordshire  51.488146  -0.937114\n",
       "635                     Bideford, Devon  51.010765  -4.199479\n",
       "636             St. Marys, Pennsylvania  41.428043 -78.561127\n",
       "637     Ahorntal-Hintergereuth, Bavaria  49.866228  11.451586\n",
       "\n",
       "[638 rows x 3 columns]"
      ]
     },
     "execution_count": 30,
     "metadata": {},
     "output_type": "execute_result"
    }
   ],
   "source": [
    "locations_new"
   ]
  },
  {
   "cell_type": "code",
   "execution_count": 31,
   "metadata": {
    "ExecuteTime": {
     "end_time": "2020-05-14T09:02:47.135508Z",
     "start_time": "2020-05-14T08:57:31.585437Z"
    }
   },
   "outputs": [],
   "source": [
    "countries = []\n",
    "for row in locations_new.index:\n",
    "    try:\n",
    "        loc = geolocator.reverse([locations_new.iloc[row,1],locations_new.iloc[row,2]], language='en')\n",
    "        countries.append(loc.raw['address']['country'])\n",
    "    except:\n",
    "        countries.append(None)\n",
    "        \n",
    "    "
   ]
  },
  {
   "cell_type": "code",
   "execution_count": 32,
   "metadata": {
    "ExecuteTime": {
     "end_time": "2020-05-14T09:02:47.233351Z",
     "start_time": "2020-05-14T09:02:47.224531Z"
    }
   },
   "outputs": [],
   "source": [
    "locations_new['country'] = countries"
   ]
  },
  {
   "cell_type": "code",
   "execution_count": 33,
   "metadata": {
    "ExecuteTime": {
     "end_time": "2020-05-14T09:02:47.351247Z",
     "start_time": "2020-05-14T09:02:47.329935Z"
    }
   },
   "outputs": [
    {
     "data": {
      "text/html": [
       "<div>\n",
       "<style scoped>\n",
       "    .dataframe tbody tr th:only-of-type {\n",
       "        vertical-align: middle;\n",
       "    }\n",
       "\n",
       "    .dataframe tbody tr th {\n",
       "        vertical-align: top;\n",
       "    }\n",
       "\n",
       "    .dataframe thead th {\n",
       "        text-align: right;\n",
       "    }\n",
       "</style>\n",
       "<table border=\"1\" class=\"dataframe\">\n",
       "  <thead>\n",
       "    <tr style=\"text-align: right;\">\n",
       "      <th></th>\n",
       "      <th>locations</th>\n",
       "      <th>latitude</th>\n",
       "      <th>longitude</th>\n",
       "      <th>country</th>\n",
       "    </tr>\n",
       "  </thead>\n",
       "  <tbody>\n",
       "    <tr>\n",
       "      <th>0</th>\n",
       "      <td>Dischingen, Baden-Württemberg</td>\n",
       "      <td>48.698674</td>\n",
       "      <td>10.357023</td>\n",
       "      <td>Germany</td>\n",
       "    </tr>\n",
       "    <tr>\n",
       "      <th>1</th>\n",
       "      <td>Alexandria, Virginia</td>\n",
       "      <td>38.805110</td>\n",
       "      <td>-77.047023</td>\n",
       "      <td>United States of America</td>\n",
       "    </tr>\n",
       "    <tr>\n",
       "      <th>2</th>\n",
       "      <td>Ord, Nebraska</td>\n",
       "      <td>41.603343</td>\n",
       "      <td>-98.926199</td>\n",
       "      <td>United States of America</td>\n",
       "    </tr>\n",
       "    <tr>\n",
       "      <th>3</th>\n",
       "      <td>Ohiowa, Nebraska</td>\n",
       "      <td>40.414436</td>\n",
       "      <td>-97.453000</td>\n",
       "      <td>United States of America</td>\n",
       "    </tr>\n",
       "    <tr>\n",
       "      <th>4</th>\n",
       "      <td>Saint-Bruno-de-Montarville, Quebec</td>\n",
       "      <td>45.525616</td>\n",
       "      <td>-73.339180</td>\n",
       "      <td>Canada</td>\n",
       "    </tr>\n",
       "    <tr>\n",
       "      <th>...</th>\n",
       "      <td>...</td>\n",
       "      <td>...</td>\n",
       "      <td>...</td>\n",
       "      <td>...</td>\n",
       "    </tr>\n",
       "    <tr>\n",
       "      <th>633</th>\n",
       "      <td>King’s Bromley, Staffordshire</td>\n",
       "      <td>52.748947</td>\n",
       "      <td>-1.821020</td>\n",
       "      <td>United Kingdom</td>\n",
       "    </tr>\n",
       "    <tr>\n",
       "      <th>634</th>\n",
       "      <td>Dunsden, Oxfordshire</td>\n",
       "      <td>51.488146</td>\n",
       "      <td>-0.937114</td>\n",
       "      <td>United Kingdom</td>\n",
       "    </tr>\n",
       "    <tr>\n",
       "      <th>635</th>\n",
       "      <td>Bideford, Devon</td>\n",
       "      <td>51.010765</td>\n",
       "      <td>-4.199479</td>\n",
       "      <td>United Kingdom</td>\n",
       "    </tr>\n",
       "    <tr>\n",
       "      <th>636</th>\n",
       "      <td>St. Marys, Pennsylvania</td>\n",
       "      <td>41.428043</td>\n",
       "      <td>-78.561127</td>\n",
       "      <td>United States of America</td>\n",
       "    </tr>\n",
       "    <tr>\n",
       "      <th>637</th>\n",
       "      <td>Ahorntal-Hintergereuth, Bavaria</td>\n",
       "      <td>49.866228</td>\n",
       "      <td>11.451586</td>\n",
       "      <td>Germany</td>\n",
       "    </tr>\n",
       "  </tbody>\n",
       "</table>\n",
       "<p>638 rows × 4 columns</p>\n",
       "</div>"
      ],
      "text/plain": [
       "                              locations   latitude  longitude  \\\n",
       "0         Dischingen, Baden-Württemberg  48.698674  10.357023   \n",
       "1                  Alexandria, Virginia  38.805110 -77.047023   \n",
       "2                         Ord, Nebraska  41.603343 -98.926199   \n",
       "3                      Ohiowa, Nebraska  40.414436 -97.453000   \n",
       "4    Saint-Bruno-de-Montarville, Quebec  45.525616 -73.339180   \n",
       "..                                  ...        ...        ...   \n",
       "633       King’s Bromley, Staffordshire  52.748947  -1.821020   \n",
       "634                Dunsden, Oxfordshire  51.488146  -0.937114   \n",
       "635                     Bideford, Devon  51.010765  -4.199479   \n",
       "636             St. Marys, Pennsylvania  41.428043 -78.561127   \n",
       "637     Ahorntal-Hintergereuth, Bavaria  49.866228  11.451586   \n",
       "\n",
       "                      country  \n",
       "0                     Germany  \n",
       "1    United States of America  \n",
       "2    United States of America  \n",
       "3    United States of America  \n",
       "4                      Canada  \n",
       "..                        ...  \n",
       "633            United Kingdom  \n",
       "634            United Kingdom  \n",
       "635            United Kingdom  \n",
       "636  United States of America  \n",
       "637                   Germany  \n",
       "\n",
       "[638 rows x 4 columns]"
      ]
     },
     "execution_count": 33,
     "metadata": {},
     "output_type": "execute_result"
    }
   ],
   "source": [
    "locations_new"
   ]
  },
  {
   "cell_type": "code",
   "execution_count": 34,
   "metadata": {
    "ExecuteTime": {
     "end_time": "2020-05-14T09:02:48.019958Z",
     "start_time": "2020-05-14T09:02:48.008044Z"
    }
   },
   "outputs": [
    {
     "data": {
      "text/plain": [
       "638"
      ]
     },
     "execution_count": 34,
     "metadata": {},
     "output_type": "execute_result"
    }
   ],
   "source": [
    "len(pd.DataFrame(df.brewery_location[~df.brewery_location.isin(locations_df.locations)].unique(),columns=['locations']))\n"
   ]
  },
  {
   "cell_type": "code",
   "execution_count": 35,
   "metadata": {
    "ExecuteTime": {
     "end_time": "2020-05-14T09:02:48.169295Z",
     "start_time": "2020-05-14T09:02:48.124824Z"
    }
   },
   "outputs": [],
   "source": [
    "locations_df = pd.concat([locations_df,locations_new])\n",
    "locations_df.to_csv('locations_geotagged.csv',index=False)"
   ]
  },
  {
   "cell_type": "code",
   "execution_count": 36,
   "metadata": {
    "ExecuteTime": {
     "end_time": "2020-05-14T09:02:48.274794Z",
     "start_time": "2020-05-14T09:02:48.262552Z"
    }
   },
   "outputs": [
    {
     "data": {
      "text/plain": [
       "0"
      ]
     },
     "execution_count": 36,
     "metadata": {},
     "output_type": "execute_result"
    }
   ],
   "source": [
    "len(pd.DataFrame(df.brewery_location[~df.brewery_location.isin(locations_df.locations)].unique(),columns=['locations']))\n"
   ]
  },
  {
   "cell_type": "markdown",
   "metadata": {},
   "source": [
    "## Deal with Non-English Descriptions"
   ]
  },
  {
   "cell_type": "markdown",
   "metadata": {},
   "source": []
  },
  {
   "cell_type": "code",
   "execution_count": null,
   "metadata": {},
   "outputs": [],
   "source": []
  }
 ],
 "metadata": {
  "kernelspec": {
   "display_name": "Python 3",
   "language": "python",
   "name": "python3"
  },
  "language_info": {
   "codemirror_mode": {
    "name": "ipython",
    "version": 3
   },
   "file_extension": ".py",
   "mimetype": "text/x-python",
   "name": "python",
   "nbconvert_exporter": "python",
   "pygments_lexer": "ipython3",
   "version": "3.7.1"
  },
  "toc": {
   "base_numbering": 1,
   "nav_menu": {},
   "number_sections": true,
   "sideBar": true,
   "skip_h1_title": false,
   "title_cell": "Table of Contents",
   "title_sidebar": "Contents",
   "toc_cell": false,
   "toc_position": {},
   "toc_section_display": true,
   "toc_window_display": false
  },
  "varInspector": {
   "cols": {
    "lenName": 16,
    "lenType": 16,
    "lenVar": 40
   },
   "kernels_config": {
    "python": {
     "delete_cmd_postfix": "",
     "delete_cmd_prefix": "del ",
     "library": "var_list.py",
     "varRefreshCmd": "print(var_dic_list())"
    },
    "r": {
     "delete_cmd_postfix": ") ",
     "delete_cmd_prefix": "rm(",
     "library": "var_list.r",
     "varRefreshCmd": "cat(var_dic_list()) "
    }
   },
   "types_to_exclude": [
    "module",
    "function",
    "builtin_function_or_method",
    "instance",
    "_Feature"
   ],
   "window_display": false
  }
 },
 "nbformat": 4,
 "nbformat_minor": 4
}
