{
 "cells": [
  {
   "cell_type": "code",
   "execution_count": 4,
   "metadata": {
    "ExecuteTime": {
     "end_time": "2020-04-28T16:34:18.542924Z",
     "start_time": "2020-04-28T16:34:18.538634Z"
    }
   },
   "outputs": [],
   "source": [
    "import pandas as pd\n",
    "from tqdm import tqdm_notebook\n",
    "import matplotlib.pyplot as plt\n",
    "import seaborn as sns\n",
    "import geopandas\n",
    "from geopy.geocoders import Nominatim"
   ]
  },
  {
   "cell_type": "code",
   "execution_count": 5,
   "metadata": {
    "ExecuteTime": {
     "end_time": "2020-04-28T16:34:18.852412Z",
     "start_time": "2020-04-28T16:34:18.797046Z"
    }
   },
   "outputs": [],
   "source": [
    "df = pd.read_csv('all_reviews.csv')"
   ]
  },
  {
   "cell_type": "code",
   "execution_count": 6,
   "metadata": {
    "ExecuteTime": {
     "end_time": "2020-04-28T16:34:19.293396Z",
     "start_time": "2020-04-28T16:34:19.265749Z"
    }
   },
   "outputs": [
    {
     "data": {
      "text/html": [
       "<div>\n",
       "<style scoped>\n",
       "    .dataframe tbody tr th:only-of-type {\n",
       "        vertical-align: middle;\n",
       "    }\n",
       "\n",
       "    .dataframe tbody tr th {\n",
       "        vertical-align: top;\n",
       "    }\n",
       "\n",
       "    .dataframe thead th {\n",
       "        text-align: right;\n",
       "    }\n",
       "</style>\n",
       "<table border=\"1\" class=\"dataframe\">\n",
       "  <thead>\n",
       "    <tr style=\"text-align: right;\">\n",
       "      <th></th>\n",
       "      <th>beer_name</th>\n",
       "      <th>beer_rating</th>\n",
       "      <th>brewery_location</th>\n",
       "      <th>brewery_name</th>\n",
       "      <th>review_content</th>\n",
       "      <th>reviewer_name</th>\n",
       "    </tr>\n",
       "  </thead>\n",
       "  <tbody>\n",
       "    <tr>\n",
       "      <th>0</th>\n",
       "      <td>St. Peter's Ruby Red Ale</td>\n",
       "      <td>3.3</td>\n",
       "      <td>Bungay, Suffolk</td>\n",
       "      <td>St. Peter's Brewery</td>\n",
       "      <td>Ruby color, offwhite coam. Aroma and taste: fl...</td>\n",
       "      <td>alex_leit</td>\n",
       "    </tr>\n",
       "    <tr>\n",
       "      <th>1</th>\n",
       "      <td>Shepherd Neame Spitfire (Bottle)</td>\n",
       "      <td>2.2</td>\n",
       "      <td>Faversham, Kent</td>\n",
       "      <td>Shepherd Neame</td>\n",
       "      <td>Disappointing show from the lads at ‘Britain’s...</td>\n",
       "      <td>shivermetimber.gray</td>\n",
       "    </tr>\n",
       "    <tr>\n",
       "      <th>2</th>\n",
       "      <td>Arbor Rocketman</td>\n",
       "      <td>3.8</td>\n",
       "      <td>Bristol, Gloucestershire</td>\n",
       "      <td>Arbor Ales</td>\n",
       "      <td>Puszka. Mętne o żółtym kolorze. Piana biała,ob...</td>\n",
       "      <td>MarcinG</td>\n",
       "    </tr>\n",
       "    <tr>\n",
       "      <th>3</th>\n",
       "      <td>Shepherd Neame India Pale Ale (Bottle)</td>\n",
       "      <td>3.4</td>\n",
       "      <td>Faversham, Kent</td>\n",
       "      <td>Shepherd Neame</td>\n",
       "      <td>Bottle. Amber with bronze color and white foam...</td>\n",
       "      <td>alex_leit</td>\n",
       "    </tr>\n",
       "    <tr>\n",
       "      <th>4</th>\n",
       "      <td>Shepherd Neame Christmas Ale</td>\n",
       "      <td>3.3</td>\n",
       "      <td>Faversham, Kent</td>\n",
       "      <td>Shepherd Neame</td>\n",
       "      <td>Bottle. Aroma: English hops and malts with tof...</td>\n",
       "      <td>alex_leit</td>\n",
       "    </tr>\n",
       "    <tr>\n",
       "      <th>...</th>\n",
       "      <td>...</td>\n",
       "      <td>...</td>\n",
       "      <td>...</td>\n",
       "      <td>...</td>\n",
       "      <td>...</td>\n",
       "      <td>...</td>\n",
       "    </tr>\n",
       "    <tr>\n",
       "      <th>9684</th>\n",
       "      <td>Port Orleans Bacchus Blonde</td>\n",
       "      <td>4.6</td>\n",
       "      <td>New Orleans, Louisiana</td>\n",
       "      <td>Port Orleans Brewing Company</td>\n",
       "      <td>Bacchus Blonde has a thick, soapy white head, ...</td>\n",
       "      <td>ronaldtheriot</td>\n",
       "    </tr>\n",
       "    <tr>\n",
       "      <th>9685</th>\n",
       "      <td>Harcos (Hungary)</td>\n",
       "      <td>2.7</td>\n",
       "      <td>Neckarsulm, Baden-Württemberg</td>\n",
       "      <td>Lidl Europe</td>\n",
       "      <td>I Tasted as B Lidl Warrior IPA /B /I Very good...</td>\n",
       "      <td>JorisPPattyn</td>\n",
       "    </tr>\n",
       "    <tr>\n",
       "      <th>9686</th>\n",
       "      <td>Deviant &amp; Dandy Lucid Dream</td>\n",
       "      <td>3.4</td>\n",
       "      <td>Homerton, Greater London</td>\n",
       "      <td>Deviant &amp; Dandy Brewery</td>\n",
       "      <td>Can from the Plumsteadshire online shop. Hazy ...</td>\n",
       "      <td>planky84</td>\n",
       "    </tr>\n",
       "    <tr>\n",
       "      <th>9687</th>\n",
       "      <td>League Night Lager</td>\n",
       "      <td>2.9</td>\n",
       "      <td>Baileys Harbor, Wisconsin</td>\n",
       "      <td>Door County Brewing Company</td>\n",
       "      <td>Light yellow pour with soda pop white head. Gr...</td>\n",
       "      <td>pkbites</td>\n",
       "    </tr>\n",
       "    <tr>\n",
       "      <th>9688</th>\n",
       "      <td>La Cabra Heapious</td>\n",
       "      <td>3.7</td>\n",
       "      <td>Berwyn, Pennsylvania</td>\n",
       "      <td>La Cabra Brewing</td>\n",
       "      <td>Hazy golden color with a medium white head tha...</td>\n",
       "      <td>egajdzis</td>\n",
       "    </tr>\n",
       "  </tbody>\n",
       "</table>\n",
       "<p>9689 rows × 6 columns</p>\n",
       "</div>"
      ],
      "text/plain": [
       "                                   beer_name  beer_rating  \\\n",
       "0                   St. Peter's Ruby Red Ale          3.3   \n",
       "1           Shepherd Neame Spitfire (Bottle)          2.2   \n",
       "2                            Arbor Rocketman          3.8   \n",
       "3     Shepherd Neame India Pale Ale (Bottle)          3.4   \n",
       "4              Shepherd Neame Christmas Ale           3.3   \n",
       "...                                      ...          ...   \n",
       "9684             Port Orleans Bacchus Blonde          4.6   \n",
       "9685                        Harcos (Hungary)          2.7   \n",
       "9686             Deviant & Dandy Lucid Dream          3.4   \n",
       "9687                      League Night Lager          2.9   \n",
       "9688                       La Cabra Heapious          3.7   \n",
       "\n",
       "                   brewery_location                  brewery_name  \\\n",
       "0                   Bungay, Suffolk           St. Peter's Brewery   \n",
       "1                   Faversham, Kent                Shepherd Neame   \n",
       "2          Bristol, Gloucestershire                    Arbor Ales   \n",
       "3                   Faversham, Kent                Shepherd Neame   \n",
       "4                   Faversham, Kent                Shepherd Neame   \n",
       "...                             ...                           ...   \n",
       "9684         New Orleans, Louisiana  Port Orleans Brewing Company   \n",
       "9685  Neckarsulm, Baden-Württemberg                   Lidl Europe   \n",
       "9686       Homerton, Greater London       Deviant & Dandy Brewery   \n",
       "9687      Baileys Harbor, Wisconsin   Door County Brewing Company   \n",
       "9688           Berwyn, Pennsylvania              La Cabra Brewing   \n",
       "\n",
       "                                         review_content        reviewer_name  \n",
       "0     Ruby color, offwhite coam. Aroma and taste: fl...            alex_leit  \n",
       "1     Disappointing show from the lads at ‘Britain’s...  shivermetimber.gray  \n",
       "2     Puszka. Mętne o żółtym kolorze. Piana biała,ob...              MarcinG  \n",
       "3     Bottle. Amber with bronze color and white foam...            alex_leit  \n",
       "4     Bottle. Aroma: English hops and malts with tof...            alex_leit  \n",
       "...                                                 ...                  ...  \n",
       "9684  Bacchus Blonde has a thick, soapy white head, ...        ronaldtheriot  \n",
       "9685  I Tasted as B Lidl Warrior IPA /B /I Very good...         JorisPPattyn  \n",
       "9686  Can from the Plumsteadshire online shop. Hazy ...             planky84  \n",
       "9687  Light yellow pour with soda pop white head. Gr...              pkbites  \n",
       "9688  Hazy golden color with a medium white head tha...             egajdzis  \n",
       "\n",
       "[9689 rows x 6 columns]"
      ]
     },
     "execution_count": 6,
     "metadata": {},
     "output_type": "execute_result"
    }
   ],
   "source": [
    "df"
   ]
  },
  {
   "cell_type": "code",
   "execution_count": null,
   "metadata": {},
   "outputs": [],
   "source": []
  },
  {
   "cell_type": "code",
   "execution_count": 7,
   "metadata": {
    "ExecuteTime": {
     "end_time": "2020-04-28T16:35:03.597415Z",
     "start_time": "2020-04-28T16:35:03.435150Z"
    }
   },
   "outputs": [],
   "source": [
    "geolocator = Nominatim(user_agent=\"None\")\n",
    "location = geolocator.geocode(\"Bungay, Suffolk\")"
   ]
  },
  {
   "cell_type": "code",
   "execution_count": 8,
   "metadata": {
    "ExecuteTime": {
     "end_time": "2020-04-28T16:35:04.424361Z",
     "start_time": "2020-04-28T16:35:04.419680Z"
    }
   },
   "outputs": [
    {
     "data": {
      "text/plain": [
       "52.4562248"
      ]
     },
     "execution_count": 8,
     "metadata": {},
     "output_type": "execute_result"
    }
   ],
   "source": [
    "location.latitude"
   ]
  },
  {
   "cell_type": "code",
   "execution_count": 38,
   "metadata": {},
   "outputs": [
    {
     "name": "stdout",
     "output_type": "stream",
     "text": [
      "[nominatim] downloading data: Champ de Mars, Paris, France\n"
     ]
    }
   ],
   "source": [
    "locator = Nominatim()\n",
    "location = locator.query(\"Champ de Mars, Paris, France\",wkt=True)"
   ]
  },
  {
   "cell_type": "code",
   "execution_count": 39,
   "metadata": {},
   "outputs": [
    {
     "data": {
      "text/plain": [
       "'POLYGON((2.2918711 48.8577141,2.2933874 48.856741,2.293427 48.8567667,2.2938341 48.8570337,2.2938547 48.8570502,2.2939077 48.857016,2.2958175 48.8557863,2.2955689 48.8547875,2.2956577 48.8547279,2.2960947 48.8544346,2.2975216 48.8546463,2.3002302 48.8529193,2.3012757 48.8522627,2.3013025 48.8522459,2.3017377 48.8525365,2.3020463 48.8523364,2.3020766 48.8523168,2.302254 48.8523387,2.3022418 48.8524643,2.3022448 48.8524677,2.3026426 48.8527386,2.3027308 48.8527987,2.3028716 48.8528946,2.3030291 48.8530019,2.3031337 48.8530731,2.3035129 48.8533313,2.3035353 48.8533444,2.3036462 48.8534139,2.3037247 48.853362,2.3037811 48.8534007,2.3037589 48.8534164,2.3033332 48.8536915,2.3036036 48.8538682,2.3036492 48.8538392,2.303791 48.8539448,2.302797 48.8545948,2.3026984 48.8546576,2.3026093 48.8547142,2.3015793 48.855377,2.3014984 48.8554288,2.3014552 48.8554564,2.3014378 48.8554676,2.3014202 48.8554788,2.3013971 48.8554936,2.2998199 48.856503,2.300052 48.8572894,2.3000876 48.8574098,2.2997979 48.8575863,2.2984484 48.8573685,2.2963748 48.8586873,2.2968743 48.8590157,2.2968135 48.8590563,2.2952792 48.8600801,2.2947862 48.8597316,2.2947077 48.8596761,2.2946061 48.8596043,2.2938871 48.859096,2.2937717 48.8590177,2.2936915 48.8589634,2.2934274 48.8587843,2.2933216 48.8587111,2.2932127 48.8586387,2.2924891 48.85814,2.2923047 48.8580129,2.2918711 48.8577141))'"
      ]
     },
     "execution_count": 39,
     "metadata": {},
     "output_type": "execute_result"
    }
   ],
   "source": [
    "location.wkt()"
   ]
  },
  {
   "cell_type": "code",
   "execution_count": null,
   "metadata": {},
   "outputs": [],
   "source": []
  }
 ],
 "metadata": {
  "kernelspec": {
   "display_name": "Python 3",
   "language": "python",
   "name": "python3"
  },
  "toc": {
   "base_numbering": 1,
   "nav_menu": {},
   "number_sections": true,
   "sideBar": true,
   "skip_h1_title": false,
   "title_cell": "Table of Contents",
   "title_sidebar": "Contents",
   "toc_cell": false,
   "toc_position": {},
   "toc_section_display": true,
   "toc_window_display": false
  },
  "varInspector": {
   "cols": {
    "lenName": 16,
    "lenType": 16,
    "lenVar": 40
   },
   "kernels_config": {
    "python": {
     "delete_cmd_postfix": "",
     "delete_cmd_prefix": "del ",
     "library": "var_list.py",
     "varRefreshCmd": "print(var_dic_list())"
    },
    "r": {
     "delete_cmd_postfix": ") ",
     "delete_cmd_prefix": "rm(",
     "library": "var_list.r",
     "varRefreshCmd": "cat(var_dic_list()) "
    }
   },
   "types_to_exclude": [
    "module",
    "function",
    "builtin_function_or_method",
    "instance",
    "_Feature"
   ],
   "window_display": false
  }
 },
 "nbformat": 4,
 "nbformat_minor": 4
}
