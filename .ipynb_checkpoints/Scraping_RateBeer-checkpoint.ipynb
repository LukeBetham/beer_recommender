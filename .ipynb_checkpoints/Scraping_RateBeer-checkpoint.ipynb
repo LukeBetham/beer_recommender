{
 "cells": [
  {
   "cell_type": "code",
   "execution_count": 241,
   "metadata": {
    "ExecuteTime": {
     "end_time": "2020-05-12T07:58:22.779934Z",
     "start_time": "2020-05-12T07:58:22.748549Z"
    }
   },
   "outputs": [],
   "source": [
    "import requests\n",
    "import bs4\n",
    "from bs4 import BeautifulSoup\n",
    "import pandas as pd\n",
    "import re\n",
    "from tqdm.notebook import tqdm\n",
    "import matplotlib.pyplot as plt\n",
    "import seaborn as sns"
   ]
  },
  {
   "cell_type": "markdown",
   "metadata": {},
   "source": [
    "## Code which scrapes the recently reviews (only 100 pages - 1,400 reviews)"
   ]
  },
  {
   "cell_type": "code",
   "execution_count": 242,
   "metadata": {
    "ExecuteTime": {
     "end_time": "2020-05-12T07:58:22.827664Z",
     "start_time": "2020-05-12T07:58:22.787196Z"
    }
   },
   "outputs": [],
   "source": [
    "\n",
    "def ratebeer_scraper(page_start=1, page_end=2, url_set=None):\n",
    "    \n",
    "    beer_name = []\n",
    "    beer_rating = []\n",
    "    brewery_name = []\n",
    "    brewery_location = []\n",
    "    review_content = []\n",
    "    reviewer_name = []\n",
    " \n",
    "    if url_set == None:\n",
    "        print(\"Need url to run\")\n",
    "        return\n",
    "\n",
    "    for x in tqdm(range(page_start, page_end + 1)):\n",
    "        try:\n",
    "            url_format = url_set.format(x)\n",
    "            r = requests.get(url_format)\n",
    "            soup = BeautifulSoup(r.text, 'html.parser')\n",
    "            table = soup.find('table', attrs={'class': 'table'})\n",
    "            table_rows = table.find_all('tr')\n",
    "\n",
    "            for rows in table_rows:\n",
    "\n",
    "            # Scrape Beer Name    \n",
    "                try:\n",
    "                    beer_name.append(rows.find('a', attrs={'style':'font-size:20px; font-weight:bold;'}).text)\n",
    "                except:\n",
    "                    beer_name.append(None)\n",
    "            # Scrape Review Rating  \n",
    "                try:\n",
    "                    beer_rating.append(rows.find('span', attrs={'class':'uas'}).text)\n",
    "                except:\n",
    "                    beer_rating.append(None)\n",
    "            # Scrape Brewery Name  \n",
    "                try:\n",
    "                    brewery_div = rows.find('div')\n",
    "                    brewery_name.append(brewery_div.a.text)\n",
    "                except:\n",
    "                    brewery_name.append(None)\n",
    "            # Scrape Brewery Location\n",
    "                try:\n",
    "                    brewery_location.append(rows.find('span', attrs={'class':'small'}).text.strip())\n",
    "                except:\n",
    "                    brewery_location.append(None)\n",
    "            # Scrape Reviewer Name\n",
    "                try:\n",
    "                    reviewer_name.append(rows.find('span', attrs={'class':'pull-right'}).text.strip())\n",
    "                except:\n",
    "                    reviewer_name.append(None)\n",
    "            # Scrape content\n",
    "                try:\n",
    "                    review_content.append(rows.find('div', attrs={'style':\"color:#666;\"}).text.strip())\n",
    "                except:\n",
    "                    review_content.append(None)\n",
    "        except:\n",
    "            pass\n",
    "\n",
    "    beerz = pd.DataFrame({'beer_name': beer_name,\n",
    "                         'beer_rating': beer_rating,\n",
    "                        'brewery_name': brewery_name,\n",
    "                         'brewery_location': brewery_location,\n",
    "                        'review_content': review_content,\n",
    "                        'reviewer_name': reviewer_name})\n",
    "    return beerz\n",
    "\n"
   ]
  },
  {
   "cell_type": "code",
   "execution_count": 243,
   "metadata": {
    "ExecuteTime": {
     "end_time": "2020-05-12T08:07:36.636339Z",
     "start_time": "2020-05-12T07:58:22.831893Z"
    }
   },
   "outputs": [
    {
     "data": {
      "application/vnd.jupyter.widget-view+json": {
       "model_id": "204d697800c24af88791efe1ff849547",
       "version_major": 2,
       "version_minor": 0
      },
      "text/plain": [
       "HBox(children=(FloatProgress(value=0.0, max=101.0), HTML(value='')))"
      ]
     },
     "metadata": {},
     "output_type": "display_data"
    },
    {
     "name": "stdout",
     "output_type": "stream",
     "text": [
      "\n"
     ]
    },
    {
     "data": {
      "application/vnd.jupyter.widget-view+json": {
       "model_id": "36f4b7149f584442bfa303203273a496",
       "version_major": 2,
       "version_minor": 0
      },
      "text/plain": [
       "HBox(children=(FloatProgress(value=0.0, max=11.0), HTML(value='')))"
      ]
     },
     "metadata": {},
     "output_type": "display_data"
    },
    {
     "name": "stdout",
     "output_type": "stream",
     "text": [
      "\n"
     ]
    },
    {
     "data": {
      "application/vnd.jupyter.widget-view+json": {
       "model_id": "0c4d0a79262e444ca5e59a1b48b3df21",
       "version_major": 2,
       "version_minor": 0
      },
      "text/plain": [
       "HBox(children=(FloatProgress(value=0.0, max=51.0), HTML(value='')))"
      ]
     },
     "metadata": {},
     "output_type": "display_data"
    },
    {
     "name": "stdout",
     "output_type": "stream",
     "text": [
      "\n"
     ]
    },
    {
     "data": {
      "application/vnd.jupyter.widget-view+json": {
       "model_id": "92f775c6b400405ba20076b59454001a",
       "version_major": 2,
       "version_minor": 0
      },
      "text/plain": [
       "HBox(children=(FloatProgress(value=0.0, max=51.0), HTML(value='')))"
      ]
     },
     "metadata": {},
     "output_type": "display_data"
    },
    {
     "name": "stdout",
     "output_type": "stream",
     "text": [
      "\n"
     ]
    },
    {
     "data": {
      "application/vnd.jupyter.widget-view+json": {
       "model_id": "2a804953a63443b4b178fa33b62a9f0a",
       "version_major": 2,
       "version_minor": 0
      },
      "text/plain": [
       "HBox(children=(FloatProgress(value=0.0, max=51.0), HTML(value='')))"
      ]
     },
     "metadata": {},
     "output_type": "display_data"
    },
    {
     "name": "stdout",
     "output_type": "stream",
     "text": [
      "\n"
     ]
    },
    {
     "data": {
      "application/vnd.jupyter.widget-view+json": {
       "model_id": "fbdd3641e188432798b4f5a6dea4df2e",
       "version_major": 2,
       "version_minor": 0
      },
      "text/plain": [
       "HBox(children=(FloatProgress(value=0.0, max=51.0), HTML(value='')))"
      ]
     },
     "metadata": {},
     "output_type": "display_data"
    },
    {
     "name": "stdout",
     "output_type": "stream",
     "text": [
      "\n"
     ]
    }
   ],
   "source": [
    "# Scraping most recent reviews\n",
    "url = 'https://www.ratebeer.com/beer-ratings/0/{}/'\n",
    "df_recent = ratebeer_scraper(0,100,url)\n",
    "\n",
    "# Scraping new beers\n",
    "url = 'https://www.ratebeer.com/beer-ratings/5/{}/'\n",
    "df_new = ratebeer_scraper(0,10,url)\n",
    "\n",
    "# Scraping fave beers\n",
    "url = 'https://www.ratebeer.com/beer-ratings/4/{}/'\n",
    "df_fave = ratebeer_scraper(0,50,url)\n",
    "\n",
    "# Scraping rave beers\n",
    "url = 'https://www.ratebeer.com/beer-ratings/1/{}/'\n",
    "df_rave = ratebeer_scraper(0,50,url)\n",
    "\n",
    "# Scraping rant beers\n",
    "url = 'https://www.ratebeer.com/beer-ratings/2/{}/'\n",
    "df_rant = ratebeer_scraper(0,50,url)\n",
    "\n",
    "# Scraping anomalous beers\n",
    "url = 'https://www.ratebeer.com/beer-ratings/3/{}/'\n",
    "df_anom = ratebeer_scraper(0,50,url)"
   ]
  },
  {
   "cell_type": "code",
   "execution_count": 244,
   "metadata": {
    "ExecuteTime": {
     "end_time": "2020-05-12T08:07:36.662993Z",
     "start_time": "2020-05-12T08:07:36.652560Z"
    }
   },
   "outputs": [],
   "source": [
    "# getting rid of non-ascii characters from the reviews as it breaks csv\n",
    "try:\n",
    "    df_rave.review_content = df_rave.review_content.apply(lambda x: x.encode('ascii', 'ignore').decode('ascii'))\n",
    "except:\n",
    "    pass"
   ]
  },
  {
   "cell_type": "code",
   "execution_count": 245,
   "metadata": {
    "ExecuteTime": {
     "end_time": "2020-05-12T08:07:36.770787Z",
     "start_time": "2020-05-12T08:07:36.667831Z"
    }
   },
   "outputs": [],
   "source": [
    "# read current data from csv (there is a backup at all_reviews_backup.csv)\n",
    "df = pd.read_csv('all_reviews.csv')"
   ]
  },
  {
   "cell_type": "code",
   "execution_count": 246,
   "metadata": {
    "ExecuteTime": {
     "end_time": "2020-05-12T08:07:36.864243Z",
     "start_time": "2020-05-12T08:07:36.773262Z"
    }
   },
   "outputs": [
    {
     "name": "stdout",
     "output_type": "stream",
     "text": [
      "24662\n",
      "20015\n"
     ]
    }
   ],
   "source": [
    "# concatenating all of the scrapes together with the old df\n",
    "try:\n",
    "    df = pd.concat([df, df_recent, df_new, df_fave, df_rave, df_rant, df_anom])\n",
    "except:\n",
    "    df = pd.concat([df, df_recent])\n",
    "print(len(df))\n",
    "df.drop_duplicates(inplace=True)\n",
    "print(len(df))\n",
    "df.beer_name = df.beer_name.apply(lambda x: x.strip())\n",
    "\n"
   ]
  },
  {
   "cell_type": "code",
   "execution_count": 247,
   "metadata": {
    "ExecuteTime": {
     "end_time": "2020-05-12T08:07:36.905201Z",
     "start_time": "2020-05-12T08:07:36.880555Z"
    }
   },
   "outputs": [
    {
     "data": {
      "text/html": [
       "<div>\n",
       "<style scoped>\n",
       "    .dataframe tbody tr th:only-of-type {\n",
       "        vertical-align: middle;\n",
       "    }\n",
       "\n",
       "    .dataframe tbody tr th {\n",
       "        vertical-align: top;\n",
       "    }\n",
       "\n",
       "    .dataframe thead th {\n",
       "        text-align: right;\n",
       "    }\n",
       "</style>\n",
       "<table border=\"1\" class=\"dataframe\">\n",
       "  <thead>\n",
       "    <tr style=\"text-align: right;\">\n",
       "      <th></th>\n",
       "      <th>beer_name</th>\n",
       "      <th>beer_rating</th>\n",
       "      <th>brewery_location</th>\n",
       "      <th>brewery_name</th>\n",
       "      <th>review_content</th>\n",
       "      <th>reviewer_name</th>\n",
       "    </tr>\n",
       "  </thead>\n",
       "  <tbody>\n",
       "    <tr>\n",
       "      <th>0</th>\n",
       "      <td>St. Peter's Ruby Red Ale</td>\n",
       "      <td>3.3</td>\n",
       "      <td>Bungay, Suffolk</td>\n",
       "      <td>St. Peter's Brewery</td>\n",
       "      <td>Ruby color, offwhite coam. Aroma and taste: fl...</td>\n",
       "      <td>alex_leit</td>\n",
       "    </tr>\n",
       "    <tr>\n",
       "      <th>1</th>\n",
       "      <td>Shepherd Neame Spitfire (Bottle)</td>\n",
       "      <td>2.2</td>\n",
       "      <td>Faversham, Kent</td>\n",
       "      <td>Shepherd Neame</td>\n",
       "      <td>Disappointing show from the lads at ‘Britain’s...</td>\n",
       "      <td>shivermetimber.gray</td>\n",
       "    </tr>\n",
       "    <tr>\n",
       "      <th>2</th>\n",
       "      <td>Arbor Rocketman</td>\n",
       "      <td>3.8</td>\n",
       "      <td>Bristol, Gloucestershire</td>\n",
       "      <td>Arbor Ales</td>\n",
       "      <td>Puszka. Mętne o żółtym kolorze. Piana biała,ob...</td>\n",
       "      <td>MarcinG</td>\n",
       "    </tr>\n",
       "    <tr>\n",
       "      <th>3</th>\n",
       "      <td>Shepherd Neame India Pale Ale (Bottle)</td>\n",
       "      <td>3.4</td>\n",
       "      <td>Faversham, Kent</td>\n",
       "      <td>Shepherd Neame</td>\n",
       "      <td>Bottle. Amber with bronze color and white foam...</td>\n",
       "      <td>alex_leit</td>\n",
       "    </tr>\n",
       "    <tr>\n",
       "      <th>4</th>\n",
       "      <td>Shepherd Neame Christmas Ale</td>\n",
       "      <td>3.3</td>\n",
       "      <td>Faversham, Kent</td>\n",
       "      <td>Shepherd Neame</td>\n",
       "      <td>Bottle. Aroma: English hops and malts with tof...</td>\n",
       "      <td>alex_leit</td>\n",
       "    </tr>\n",
       "    <tr>\n",
       "      <th>...</th>\n",
       "      <td>...</td>\n",
       "      <td>...</td>\n",
       "      <td>...</td>\n",
       "      <td>...</td>\n",
       "      <td>...</td>\n",
       "      <td>...</td>\n",
       "    </tr>\n",
       "    <tr>\n",
       "      <th>760</th>\n",
       "      <td>Old Milwaukee</td>\n",
       "      <td>4.4</td>\n",
       "      <td>+3</td>\n",
       "      <td>Pabst Brewing Company</td>\n",
       "      <td>for  the style example ,macro or craft ,i   co...</td>\n",
       "      <td>BreweryTaps48</td>\n",
       "    </tr>\n",
       "    <tr>\n",
       "      <th>761</th>\n",
       "      <td>Three Weavers Expatriate IPA</td>\n",
       "      <td>2.0</td>\n",
       "      <td>-1.6</td>\n",
       "      <td>Three Weavers Brewing Co. (CANarchy Craft Brew...</td>\n",
       "      <td>Lemongrass nose, trace of DMS. Clear yellow, m...</td>\n",
       "      <td>obguthr</td>\n",
       "    </tr>\n",
       "    <tr>\n",
       "      <th>762</th>\n",
       "      <td>Hatherwood Plunged Orange Pale Ale</td>\n",
       "      <td>5.0</td>\n",
       "      <td>+2</td>\n",
       "      <td>Lidl UK</td>\n",
       "      <td>I like it. It’s nice. I like it. It’s nice. I ...</td>\n",
       "      <td>MashTapper40</td>\n",
       "    </tr>\n",
       "    <tr>\n",
       "      <th>763</th>\n",
       "      <td>Vox Populi Session Fruit Punch IPA</td>\n",
       "      <td>1.2</td>\n",
       "      <td>-2</td>\n",
       "      <td>Microbrasserie Vox Populi (Groupe Glutenberg)</td>\n",
       "      <td>Diacetyl. Greyish brown colour, clearly oxidiz...</td>\n",
       "      <td>john_bl</td>\n",
       "    </tr>\n",
       "    <tr>\n",
       "      <th>764</th>\n",
       "      <td>Martens Gold</td>\n",
       "      <td>3.4</td>\n",
       "      <td>+1.6</td>\n",
       "      <td>Martens</td>\n",
       "      <td>500ml can from Malta. It is a very good summer...</td>\n",
       "      <td>dr.dod</td>\n",
       "    </tr>\n",
       "  </tbody>\n",
       "</table>\n",
       "<p>20015 rows × 6 columns</p>\n",
       "</div>"
      ],
      "text/plain": [
       "                                  beer_name beer_rating  \\\n",
       "0                  St. Peter's Ruby Red Ale         3.3   \n",
       "1          Shepherd Neame Spitfire (Bottle)         2.2   \n",
       "2                           Arbor Rocketman         3.8   \n",
       "3    Shepherd Neame India Pale Ale (Bottle)         3.4   \n",
       "4              Shepherd Neame Christmas Ale         3.3   \n",
       "..                                      ...         ...   \n",
       "760                           Old Milwaukee         4.4   \n",
       "761            Three Weavers Expatriate IPA         2.0   \n",
       "762      Hatherwood Plunged Orange Pale Ale         5.0   \n",
       "763      Vox Populi Session Fruit Punch IPA         1.2   \n",
       "764                            Martens Gold         3.4   \n",
       "\n",
       "             brewery_location  \\\n",
       "0             Bungay, Suffolk   \n",
       "1             Faversham, Kent   \n",
       "2    Bristol, Gloucestershire   \n",
       "3             Faversham, Kent   \n",
       "4             Faversham, Kent   \n",
       "..                        ...   \n",
       "760                        +3   \n",
       "761                      -1.6   \n",
       "762                        +2   \n",
       "763                        -2   \n",
       "764                      +1.6   \n",
       "\n",
       "                                          brewery_name  \\\n",
       "0                                  St. Peter's Brewery   \n",
       "1                                       Shepherd Neame   \n",
       "2                                           Arbor Ales   \n",
       "3                                       Shepherd Neame   \n",
       "4                                       Shepherd Neame   \n",
       "..                                                 ...   \n",
       "760                              Pabst Brewing Company   \n",
       "761  Three Weavers Brewing Co. (CANarchy Craft Brew...   \n",
       "762                                            Lidl UK   \n",
       "763      Microbrasserie Vox Populi (Groupe Glutenberg)   \n",
       "764                                            Martens   \n",
       "\n",
       "                                        review_content        reviewer_name  \n",
       "0    Ruby color, offwhite coam. Aroma and taste: fl...            alex_leit  \n",
       "1    Disappointing show from the lads at ‘Britain’s...  shivermetimber.gray  \n",
       "2    Puszka. Mętne o żółtym kolorze. Piana biała,ob...              MarcinG  \n",
       "3    Bottle. Amber with bronze color and white foam...            alex_leit  \n",
       "4    Bottle. Aroma: English hops and malts with tof...            alex_leit  \n",
       "..                                                 ...                  ...  \n",
       "760  for  the style example ,macro or craft ,i   co...        BreweryTaps48  \n",
       "761  Lemongrass nose, trace of DMS. Clear yellow, m...              obguthr  \n",
       "762  I like it. It’s nice. I like it. It’s nice. I ...         MashTapper40  \n",
       "763  Diacetyl. Greyish brown colour, clearly oxidiz...              john_bl  \n",
       "764  500ml can from Malta. It is a very good summer...               dr.dod  \n",
       "\n",
       "[20015 rows x 6 columns]"
      ]
     },
     "execution_count": 247,
     "metadata": {},
     "output_type": "execute_result"
    }
   ],
   "source": [
    "df"
   ]
  },
  {
   "cell_type": "code",
   "execution_count": 248,
   "metadata": {
    "ExecuteTime": {
     "end_time": "2020-05-12T08:07:37.148741Z",
     "start_time": "2020-05-12T08:07:36.918249Z"
    }
   },
   "outputs": [],
   "source": [
    "df.to_csv('all_reviews.csv',index=False)\n",
    "# df = pd.read_csv('all_reviews.csv')\n",
    "not_found_df = pd.read_csv(\"not_found.csv\")"
   ]
  },
  {
   "cell_type": "markdown",
   "metadata": {},
   "source": [
    "## Get more information on all of the beers - Selenium"
   ]
  },
  {
   "cell_type": "code",
   "execution_count": 249,
   "metadata": {
    "ExecuteTime": {
     "end_time": "2020-05-12T08:07:37.159424Z",
     "start_time": "2020-05-12T08:07:37.154540Z"
    }
   },
   "outputs": [],
   "source": [
    "from selenium import webdriver\n",
    "import time"
   ]
  },
  {
   "cell_type": "code",
   "execution_count": 250,
   "metadata": {
    "ExecuteTime": {
     "end_time": "2020-05-12T08:07:37.214755Z",
     "start_time": "2020-05-12T08:07:37.163494Z"
    }
   },
   "outputs": [],
   "source": [
    "# extract already scraped data from previous scrapes so don't rescrape\n",
    "beer_df = pd.read_csv('beer_deets.csv')"
   ]
  },
  {
   "cell_type": "code",
   "execution_count": 251,
   "metadata": {
    "ExecuteTime": {
     "end_time": "2020-05-12T08:07:37.236368Z",
     "start_time": "2020-05-12T08:07:37.221110Z"
    }
   },
   "outputs": [
    {
     "name": "stdout",
     "output_type": "stream",
     "text": [
      "There are 244 new beers to search for!\n"
     ]
    }
   ],
   "source": [
    "# compare to the unique list to create a new to-be-scraped list\n",
    "new_beer = df.beer_name[(~df.beer_name.isin(beer_df.name_found))&(~df.beer_name.isin(not_found_df.not_found))].unique()\n",
    "print(\"There are\", len(new_beer), \"new beers to search for!\")"
   ]
  },
  {
   "cell_type": "code",
   "execution_count": 252,
   "metadata": {
    "ExecuteTime": {
     "end_time": "2020-05-12T08:21:20.723720Z",
     "start_time": "2020-05-12T08:07:37.241179Z"
    }
   },
   "outputs": [
    {
     "data": {
      "application/vnd.jupyter.widget-view+json": {
       "model_id": "1cbf35f91e0847e78ae9fbdd2cded9ee",
       "version_major": 2,
       "version_minor": 0
      },
      "text/plain": [
       "HBox(children=(FloatProgress(value=0.0, max=244.0), HTML(value='')))"
      ]
     },
     "metadata": {},
     "output_type": "display_data"
    },
    {
     "name": "stdout",
     "output_type": "stream",
     "text": [
      "\n"
     ]
    }
   ],
   "source": [
    "item_names = []\n",
    "desc_string = []\n",
    "\n",
    "driver = webdriver.Chrome(executable_path='/Users/lukebetham/Downloads/chromedriver')\n",
    "\n",
    "for beer in tqdm(new_beer):\n",
    "    driver.get(\"https://www.ratebeer.com/search?beername={}\".format(beer))\n",
    "    time.sleep(2)\n",
    "    item_tags = driver.find_elements_by_class_name('fg-1')\n",
    "\n",
    "    x=1\n",
    "    beer_temp = []\n",
    "    for item in item_tags:        \n",
    "        if x <2:\n",
    "            try:\n",
    "                item_names.append(item.find_element_by_class_name('fd-r').text)\n",
    "                x+=1\n",
    "            except:\n",
    "                pass\n",
    "            try:\n",
    "                beer_temp.append(item.text)\n",
    "            except:\n",
    "                pass\n",
    "    try:\n",
    "        desc_string.append(beer_temp[4])\n",
    "    except:\n",
    "        desc_string.append(None)\n",
    "\n",
    "driver.quit()"
   ]
  },
  {
   "cell_type": "code",
   "execution_count": 253,
   "metadata": {
    "ExecuteTime": {
     "end_time": "2020-05-12T08:21:20.779396Z",
     "start_time": "2020-05-12T08:21:20.730507Z"
    }
   },
   "outputs": [
    {
     "data": {
      "text/html": [
       "<div>\n",
       "<style scoped>\n",
       "    .dataframe tbody tr th:only-of-type {\n",
       "        vertical-align: middle;\n",
       "    }\n",
       "\n",
       "    .dataframe tbody tr th {\n",
       "        vertical-align: top;\n",
       "    }\n",
       "\n",
       "    .dataframe thead th {\n",
       "        text-align: right;\n",
       "    }\n",
       "</style>\n",
       "<table border=\"1\" class=\"dataframe\">\n",
       "  <thead>\n",
       "    <tr style=\"text-align: right;\">\n",
       "      <th></th>\n",
       "      <th>return_string</th>\n",
       "    </tr>\n",
       "  </thead>\n",
       "  <tbody>\n",
       "    <tr>\n",
       "      <th>0</th>\n",
       "      <td>Yonder Raspberry Gose\\n🇬🇧 Gose - Flavored • 4....</td>\n",
       "    </tr>\n",
       "    <tr>\n",
       "      <th>1</th>\n",
       "      <td>Dunkertons Organic Perry (Sparkling) (Bottle)\\...</td>\n",
       "    </tr>\n",
       "    <tr>\n",
       "      <th>2</th>\n",
       "      <td>Nickel Brook Cuvée Reserve Ale (2015+)\\n🇨🇦 Str...</td>\n",
       "    </tr>\n",
       "    <tr>\n",
       "      <th>3</th>\n",
       "      <td>Driftwood Eccentricity Wheat Wine\\n🇨🇦 BarleyWi...</td>\n",
       "    </tr>\n",
       "    <tr>\n",
       "      <th>4</th>\n",
       "      <td>Yellow Dog Magenta Fruit Lager\\n🇨🇦 Flavored - ...</td>\n",
       "    </tr>\n",
       "    <tr>\n",
       "      <th>...</th>\n",
       "      <td>...</td>\n",
       "    </tr>\n",
       "    <tr>\n",
       "      <th>239</th>\n",
       "      <td>Tannery Run Lord of the Pit - Now And Then Spl...</td>\n",
       "    </tr>\n",
       "    <tr>\n",
       "      <th>240</th>\n",
       "      <td>Triumph 1147 Castleyard Ale\\n🇬🇧 Pale Ale - Eng...</td>\n",
       "    </tr>\n",
       "    <tr>\n",
       "      <th>241</th>\n",
       "      <td>Wander Beyond Mini City of Gold\\n🇬🇧 IPA - Milk...</td>\n",
       "    </tr>\n",
       "    <tr>\n",
       "      <th>242</th>\n",
       "      <td>Captain Lawrence Powder Dreams - Azacca, Lupul...</td>\n",
       "    </tr>\n",
       "    <tr>\n",
       "      <th>243</th>\n",
       "      <td>Baladin Xyauyù Birra Da Divano Riserva Teo Mus...</td>\n",
       "    </tr>\n",
       "  </tbody>\n",
       "</table>\n",
       "<p>244 rows × 1 columns</p>\n",
       "</div>"
      ],
      "text/plain": [
       "                                         return_string\n",
       "0    Yonder Raspberry Gose\\n🇬🇧 Gose - Flavored • 4....\n",
       "1    Dunkertons Organic Perry (Sparkling) (Bottle)\\...\n",
       "2    Nickel Brook Cuvée Reserve Ale (2015+)\\n🇨🇦 Str...\n",
       "3    Driftwood Eccentricity Wheat Wine\\n🇨🇦 BarleyWi...\n",
       "4    Yellow Dog Magenta Fruit Lager\\n🇨🇦 Flavored - ...\n",
       "..                                                 ...\n",
       "239  Tannery Run Lord of the Pit - Now And Then Spl...\n",
       "240  Triumph 1147 Castleyard Ale\\n🇬🇧 Pale Ale - Eng...\n",
       "241  Wander Beyond Mini City of Gold\\n🇬🇧 IPA - Milk...\n",
       "242  Captain Lawrence Powder Dreams - Azacca, Lupul...\n",
       "243  Baladin Xyauyù Birra Da Divano Riserva Teo Mus...\n",
       "\n",
       "[244 rows x 1 columns]"
      ]
     },
     "execution_count": 253,
     "metadata": {},
     "output_type": "execute_result"
    }
   ],
   "source": [
    "beer_deets = pd.DataFrame(desc_string, columns = ['return_string'])\n",
    "beer_deets"
   ]
  },
  {
   "cell_type": "code",
   "execution_count": 254,
   "metadata": {
    "ExecuteTime": {
     "end_time": "2020-05-12T08:21:20.813429Z",
     "start_time": "2020-05-12T08:21:20.796217Z"
    }
   },
   "outputs": [],
   "source": [
    "## cleaning the scraped data\n",
    "beer_deets.dropna(inplace=True)\n",
    "beer_deets = beer_deets[~beer_deets.return_string.str.startswith('Logo\\n')].copy()\n",
    "no_alcohol = beer_deets[~beer_deets.return_string.str.contains('%')].copy()\n",
    "beer_deets = beer_deets[beer_deets.return_string.str.contains('%')].copy()\n"
   ]
  },
  {
   "cell_type": "code",
   "execution_count": 255,
   "metadata": {
    "ExecuteTime": {
     "end_time": "2020-05-12T08:21:20.846105Z",
     "start_time": "2020-05-12T08:21:20.820710Z"
    }
   },
   "outputs": [],
   "source": [
    "# sorting the scraped data into columns\n",
    "beer_deets['name_found'] = beer_deets.return_string.apply(lambda x: x.split('\\n')[0].strip())\n",
    "beer_deets['flag'] = beer_deets.return_string.apply(lambda x: x.split('\\n')[1].split('•')[0].split(\" \")[0])\n",
    "beer_deets['type'] = beer_deets.return_string.apply(lambda x: x.split('\\n')[1].split('•')[0][2:])\n",
    "beer_deets['abv'] = beer_deets.return_string.apply(lambda x: float(x.split('\\n')[1].split('•')[1].replace(\"%\",\"\")))\n",
    "beer_deets['rb_overall_score'] = beer_deets.return_string.apply(lambda x: x.split('\\n')[2])\n",
    "beer_deets['rb_style_score'] = beer_deets.return_string.apply(lambda x: x.split('\\n')[3])\n",
    "beer_deets['rb_user_rating'] = beer_deets.return_string.apply(lambda x: x.split('\\n')[4])\n",
    "beer_deets['rb_rating_number'] = beer_deets.return_string.apply(lambda x: x.split('\\n')[5].replace(\"(\",\"\").replace(\")\",\"\"))\n"
   ]
  },
  {
   "cell_type": "code",
   "execution_count": 256,
   "metadata": {
    "ExecuteTime": {
     "end_time": "2020-05-12T08:21:20.905130Z",
     "start_time": "2020-05-12T08:21:20.848677Z"
    }
   },
   "outputs": [
    {
     "data": {
      "text/html": [
       "<div>\n",
       "<style scoped>\n",
       "    .dataframe tbody tr th:only-of-type {\n",
       "        vertical-align: middle;\n",
       "    }\n",
       "\n",
       "    .dataframe tbody tr th {\n",
       "        vertical-align: top;\n",
       "    }\n",
       "\n",
       "    .dataframe thead th {\n",
       "        text-align: right;\n",
       "    }\n",
       "</style>\n",
       "<table border=\"1\" class=\"dataframe\">\n",
       "  <thead>\n",
       "    <tr style=\"text-align: right;\">\n",
       "      <th></th>\n",
       "      <th>return_string</th>\n",
       "      <th>name_found</th>\n",
       "      <th>flag</th>\n",
       "      <th>type</th>\n",
       "      <th>abv</th>\n",
       "      <th>rb_overall_score</th>\n",
       "      <th>rb_style_score</th>\n",
       "      <th>rb_user_rating</th>\n",
       "      <th>rb_rating_number</th>\n",
       "    </tr>\n",
       "  </thead>\n",
       "  <tbody>\n",
       "    <tr>\n",
       "      <th>52</th>\n",
       "      <td>Westallion Pilsner\\n🇺🇸 Pilsener / Pils / Pilsn...</td>\n",
       "      <td>Westallion Pilsner</td>\n",
       "      <td>🇺🇸</td>\n",
       "      <td>Pilsener / Pils / Pilsner</td>\n",
       "      <td>None</td>\n",
       "      <td>-</td>\n",
       "      <td>-</td>\n",
       "      <td>3.70</td>\n",
       "      <td>1</td>\n",
       "    </tr>\n",
       "    <tr>\n",
       "      <th>80</th>\n",
       "      <td>Breakside 2X Dry Hopped IPA\\n🇺🇸 IPA\\n-\\n-\\n4.6...</td>\n",
       "      <td>Breakside 2X Dry Hopped IPA</td>\n",
       "      <td>🇺🇸</td>\n",
       "      <td>IPA</td>\n",
       "      <td>None</td>\n",
       "      <td>-</td>\n",
       "      <td>-</td>\n",
       "      <td>4.60</td>\n",
       "      <td>1</td>\n",
       "    </tr>\n",
       "  </tbody>\n",
       "</table>\n",
       "</div>"
      ],
      "text/plain": [
       "                                        return_string  \\\n",
       "52  Westallion Pilsner\\n🇺🇸 Pilsener / Pils / Pilsn...   \n",
       "80  Breakside 2X Dry Hopped IPA\\n🇺🇸 IPA\\n-\\n-\\n4.6...   \n",
       "\n",
       "                     name_found flag                        type   abv  \\\n",
       "52           Westallion Pilsner   🇺🇸   Pilsener / Pils / Pilsner  None   \n",
       "80  Breakside 2X Dry Hopped IPA   🇺🇸                         IPA  None   \n",
       "\n",
       "   rb_overall_score rb_style_score rb_user_rating rb_rating_number  \n",
       "52                -              -           3.70                1  \n",
       "80                -              -           4.60                1  "
      ]
     },
     "execution_count": 256,
     "metadata": {},
     "output_type": "execute_result"
    }
   ],
   "source": [
    "# sorting the no alcohol measure\n",
    "no_alcohol['name_found'] = no_alcohol.return_string.apply(lambda x: x.split('\\n')[0].strip())\n",
    "no_alcohol['flag'] = no_alcohol.return_string.apply(lambda x: x.split('\\n')[1].split('•')[0].split(\" \")[0])\n",
    "no_alcohol['type'] = no_alcohol.return_string.apply(lambda x: x.split('\\n')[1].split('•')[0][2:])\n",
    "no_alcohol['abv'] = no_alcohol.type.apply(lambda x: 0 if x[-1] == '0' else None)\n",
    "no_alcohol['type'] = no_alcohol.type.apply(lambda x: x[:-1] if x[-1] == '0' else x)\n",
    "no_alcohol['check'] = no_alcohol.return_string.apply(lambda x: len(x.split('\\n')))\n",
    "no_alcohol = no_alcohol[no_alcohol['check']>4].copy()\n",
    "no_alcohol['rb_overall_score'] = no_alcohol.return_string.apply(lambda x: x.split('\\n')[2])\n",
    "no_alcohol['rb_style_score'] = no_alcohol.return_string.apply(lambda x: x.split('\\n')[3])\n",
    "no_alcohol['rb_user_rating'] = no_alcohol.return_string.apply(lambda x: x.split('\\n')[4])\n",
    "no_alcohol['rb_rating_number'] = no_alcohol.return_string.apply(lambda x: x.split('\\n')[5].replace(\"(\",\"\").replace(\")\",\"\"))\n",
    "no_alcohol.drop('check',inplace=True, axis=1)\n",
    "\n",
    "no_alcohol"
   ]
  },
  {
   "cell_type": "code",
   "execution_count": 257,
   "metadata": {
    "ExecuteTime": {
     "end_time": "2020-05-12T08:21:20.941402Z",
     "start_time": "2020-05-12T08:21:20.907669Z"
    }
   },
   "outputs": [],
   "source": [
    "beer_df = pd.concat([beer_df,beer_deets,no_alcohol])"
   ]
  },
  {
   "cell_type": "code",
   "execution_count": 258,
   "metadata": {
    "ExecuteTime": {
     "end_time": "2020-05-12T08:21:20.979134Z",
     "start_time": "2020-05-12T08:21:20.944362Z"
    }
   },
   "outputs": [
    {
     "data": {
      "text/html": [
       "<div>\n",
       "<style scoped>\n",
       "    .dataframe tbody tr th:only-of-type {\n",
       "        vertical-align: middle;\n",
       "    }\n",
       "\n",
       "    .dataframe tbody tr th {\n",
       "        vertical-align: top;\n",
       "    }\n",
       "\n",
       "    .dataframe thead th {\n",
       "        text-align: right;\n",
       "    }\n",
       "</style>\n",
       "<table border=\"1\" class=\"dataframe\">\n",
       "  <thead>\n",
       "    <tr style=\"text-align: right;\">\n",
       "      <th></th>\n",
       "      <th>return_string</th>\n",
       "      <th>flag</th>\n",
       "      <th>type</th>\n",
       "      <th>abv</th>\n",
       "      <th>rb_overall_score</th>\n",
       "      <th>rb_style_score</th>\n",
       "      <th>rb_user_rating</th>\n",
       "      <th>rb_rating_number</th>\n",
       "      <th>name_found</th>\n",
       "    </tr>\n",
       "  </thead>\n",
       "  <tbody>\n",
       "    <tr>\n",
       "      <th>0</th>\n",
       "      <td>St. Peter's Ruby Red Ale\\n🇬🇧 Bitter - Ordinary...</td>\n",
       "      <td>🇬🇧</td>\n",
       "      <td>Bitter - Ordinary / Best</td>\n",
       "      <td>4.3</td>\n",
       "      <td>49</td>\n",
       "      <td>95</td>\n",
       "      <td>3.25</td>\n",
       "      <td>415</td>\n",
       "      <td>St. Peter's Ruby Red Ale</td>\n",
       "    </tr>\n",
       "    <tr>\n",
       "      <th>1</th>\n",
       "      <td>Shepherd Neame Spitfire (Bottle)\\n🇬🇧 Bitter - ...</td>\n",
       "      <td>🇬🇧</td>\n",
       "      <td>Bitter - Ordinary / Best</td>\n",
       "      <td>4.5</td>\n",
       "      <td>34</td>\n",
       "      <td>59</td>\n",
       "      <td>3.05</td>\n",
       "      <td>1083</td>\n",
       "      <td>Shepherd Neame Spitfire (Bottle)</td>\n",
       "    </tr>\n",
       "    <tr>\n",
       "      <th>2</th>\n",
       "      <td>Arbor Rocketman\\n🇬🇧 IPA • 6.0%\\n95\\n97\\n3.74\\n...</td>\n",
       "      <td>🇬🇧</td>\n",
       "      <td>IPA</td>\n",
       "      <td>6</td>\n",
       "      <td>95</td>\n",
       "      <td>97</td>\n",
       "      <td>3.74</td>\n",
       "      <td>59</td>\n",
       "      <td>Arbor Rocketman</td>\n",
       "    </tr>\n",
       "    <tr>\n",
       "      <th>3</th>\n",
       "      <td>Shepherd Neame India Pale Ale (Bottle)\\n🇬🇧 IPA...</td>\n",
       "      <td>🇬🇧</td>\n",
       "      <td>IPA - English</td>\n",
       "      <td>6.1</td>\n",
       "      <td>46</td>\n",
       "      <td>47</td>\n",
       "      <td>3.22</td>\n",
       "      <td>420</td>\n",
       "      <td>Shepherd Neame India Pale Ale (Bottle)</td>\n",
       "    </tr>\n",
       "    <tr>\n",
       "      <th>4</th>\n",
       "      <td>Shepherd Neame Christmas Ale\\n🇬🇧 Strong Ale - ...</td>\n",
       "      <td>🇬🇧</td>\n",
       "      <td>Strong Ale - English</td>\n",
       "      <td>7</td>\n",
       "      <td>45</td>\n",
       "      <td>46</td>\n",
       "      <td>3.18</td>\n",
       "      <td>409</td>\n",
       "      <td>Shepherd Neame Christmas Ale</td>\n",
       "    </tr>\n",
       "    <tr>\n",
       "      <th>...</th>\n",
       "      <td>...</td>\n",
       "      <td>...</td>\n",
       "      <td>...</td>\n",
       "      <td>...</td>\n",
       "      <td>...</td>\n",
       "      <td>...</td>\n",
       "      <td>...</td>\n",
       "      <td>...</td>\n",
       "      <td>...</td>\n",
       "    </tr>\n",
       "    <tr>\n",
       "      <th>241</th>\n",
       "      <td>Wander Beyond Mini City of Gold\\n🇬🇧 IPA - Milk...</td>\n",
       "      <td>🇬🇧</td>\n",
       "      <td>IPA - Milkshake</td>\n",
       "      <td>3</td>\n",
       "      <td>-</td>\n",
       "      <td>-</td>\n",
       "      <td>4.20</td>\n",
       "      <td>1</td>\n",
       "      <td>Wander Beyond Mini City of Gold</td>\n",
       "    </tr>\n",
       "    <tr>\n",
       "      <th>242</th>\n",
       "      <td>Captain Lawrence Powder Dreams - Azacca, Lupul...</td>\n",
       "      <td>🇺🇸</td>\n",
       "      <td>IPA - Hazy / NEIPA</td>\n",
       "      <td>7.5</td>\n",
       "      <td>-</td>\n",
       "      <td>-</td>\n",
       "      <td>3.70</td>\n",
       "      <td>1</td>\n",
       "      <td>Captain Lawrence Powder Dreams - Azacca, Lupul...</td>\n",
       "    </tr>\n",
       "    <tr>\n",
       "      <th>243</th>\n",
       "      <td>Baladin Xyauyù Birra Da Divano Riserva Teo Mus...</td>\n",
       "      <td>🇮🇹</td>\n",
       "      <td>BarleyWine / WheatWine / RyeWine</td>\n",
       "      <td>14</td>\n",
       "      <td>100</td>\n",
       "      <td>99</td>\n",
       "      <td>4.13</td>\n",
       "      <td>340</td>\n",
       "      <td>Baladin Xyauyù Birra Da Divano Riserva Teo Musso</td>\n",
       "    </tr>\n",
       "    <tr>\n",
       "      <th>52</th>\n",
       "      <td>Westallion Pilsner\\n🇺🇸 Pilsener / Pils / Pilsn...</td>\n",
       "      <td>🇺🇸</td>\n",
       "      <td>Pilsener / Pils / Pilsner</td>\n",
       "      <td>None</td>\n",
       "      <td>-</td>\n",
       "      <td>-</td>\n",
       "      <td>3.70</td>\n",
       "      <td>1</td>\n",
       "      <td>Westallion Pilsner</td>\n",
       "    </tr>\n",
       "    <tr>\n",
       "      <th>80</th>\n",
       "      <td>Breakside 2X Dry Hopped IPA\\n🇺🇸 IPA\\n-\\n-\\n4.6...</td>\n",
       "      <td>🇺🇸</td>\n",
       "      <td>IPA</td>\n",
       "      <td>None</td>\n",
       "      <td>-</td>\n",
       "      <td>-</td>\n",
       "      <td>4.60</td>\n",
       "      <td>1</td>\n",
       "      <td>Breakside 2X Dry Hopped IPA</td>\n",
       "    </tr>\n",
       "  </tbody>\n",
       "</table>\n",
       "<p>10729 rows × 9 columns</p>\n",
       "</div>"
      ],
      "text/plain": [
       "                                         return_string flag  \\\n",
       "0    St. Peter's Ruby Red Ale\\n🇬🇧 Bitter - Ordinary...   🇬🇧   \n",
       "1    Shepherd Neame Spitfire (Bottle)\\n🇬🇧 Bitter - ...   🇬🇧   \n",
       "2    Arbor Rocketman\\n🇬🇧 IPA • 6.0%\\n95\\n97\\n3.74\\n...   🇬🇧   \n",
       "3    Shepherd Neame India Pale Ale (Bottle)\\n🇬🇧 IPA...   🇬🇧   \n",
       "4    Shepherd Neame Christmas Ale\\n🇬🇧 Strong Ale - ...   🇬🇧   \n",
       "..                                                 ...  ...   \n",
       "241  Wander Beyond Mini City of Gold\\n🇬🇧 IPA - Milk...   🇬🇧   \n",
       "242  Captain Lawrence Powder Dreams - Azacca, Lupul...   🇺🇸   \n",
       "243  Baladin Xyauyù Birra Da Divano Riserva Teo Mus...   🇮🇹   \n",
       "52   Westallion Pilsner\\n🇺🇸 Pilsener / Pils / Pilsn...   🇺🇸   \n",
       "80   Breakside 2X Dry Hopped IPA\\n🇺🇸 IPA\\n-\\n-\\n4.6...   🇺🇸   \n",
       "\n",
       "                                   type   abv rb_overall_score rb_style_score  \\\n",
       "0             Bitter - Ordinary / Best    4.3               49             95   \n",
       "1             Bitter - Ordinary / Best    4.5               34             59   \n",
       "2                                  IPA      6               95             97   \n",
       "3                        IPA - English    6.1               46             47   \n",
       "4                 Strong Ale - English      7               45             46   \n",
       "..                                  ...   ...              ...            ...   \n",
       "241                    IPA - Milkshake      3                -              -   \n",
       "242                 IPA - Hazy / NEIPA    7.5                -              -   \n",
       "243   BarleyWine / WheatWine / RyeWine     14              100             99   \n",
       "52            Pilsener / Pils / Pilsner  None                -              -   \n",
       "80                                  IPA  None                -              -   \n",
       "\n",
       "    rb_user_rating rb_rating_number  \\\n",
       "0             3.25              415   \n",
       "1             3.05             1083   \n",
       "2             3.74               59   \n",
       "3             3.22              420   \n",
       "4             3.18              409   \n",
       "..             ...              ...   \n",
       "241           4.20                1   \n",
       "242           3.70                1   \n",
       "243           4.13              340   \n",
       "52            3.70                1   \n",
       "80            4.60                1   \n",
       "\n",
       "                                            name_found  \n",
       "0                             St. Peter's Ruby Red Ale  \n",
       "1                     Shepherd Neame Spitfire (Bottle)  \n",
       "2                                      Arbor Rocketman  \n",
       "3               Shepherd Neame India Pale Ale (Bottle)  \n",
       "4                         Shepherd Neame Christmas Ale  \n",
       "..                                                 ...  \n",
       "241                    Wander Beyond Mini City of Gold  \n",
       "242  Captain Lawrence Powder Dreams - Azacca, Lupul...  \n",
       "243   Baladin Xyauyù Birra Da Divano Riserva Teo Musso  \n",
       "52                                  Westallion Pilsner  \n",
       "80                         Breakside 2X Dry Hopped IPA  \n",
       "\n",
       "[10729 rows x 9 columns]"
      ]
     },
     "execution_count": 258,
     "metadata": {},
     "output_type": "execute_result"
    }
   ],
   "source": [
    "beer_df"
   ]
  },
  {
   "cell_type": "code",
   "execution_count": 259,
   "metadata": {
    "ExecuteTime": {
     "end_time": "2020-05-12T08:21:21.087425Z",
     "start_time": "2020-05-12T08:21:20.981498Z"
    }
   },
   "outputs": [
    {
     "name": "stdout",
     "output_type": "stream",
     "text": [
      "There are 11 new beers that were not found or returned errors. They will be added to the no search list.\n"
     ]
    }
   ],
   "source": [
    "# compare to the unique list to create a new to-be-scraped list\n",
    "not_found_beer = df.beer_name[~df.beer_name.isin(beer_df.name_found)].unique()\n",
    "print(\"There are\", len(not_found_beer)-len(not_found_df), \"new beers that were not found or returned errors. They will be added to the no search list.\")\n",
    "not_found_df = pd.concat([not_found_df,pd.DataFrame(not_found_beer,columns = [\"not_found\"])])\n",
    "not_found_df.drop_duplicates(inplace=True)"
   ]
  },
  {
   "cell_type": "code",
   "execution_count": 260,
   "metadata": {
    "ExecuteTime": {
     "end_time": "2020-05-12T08:21:21.190300Z",
     "start_time": "2020-05-12T08:21:21.090140Z"
    }
   },
   "outputs": [],
   "source": [
    "beer_df.to_csv('beer_deets.csv',index=False)\n",
    "not_found_df.to_csv(\"not_found.csv\", index=False)"
   ]
  },
  {
   "cell_type": "code",
   "execution_count": null,
   "metadata": {
    "ExecuteTime": {
     "end_time": "2020-05-05T14:04:40.065563Z",
     "start_time": "2020-05-05T14:04:40.053981Z"
    }
   },
   "outputs": [],
   "source": []
  },
  {
   "cell_type": "code",
   "execution_count": null,
   "metadata": {},
   "outputs": [],
   "source": []
  }
 ],
 "metadata": {
  "kernelspec": {
   "display_name": "Python 3",
   "language": "python",
   "name": "python3"
  },
  "language_info": {
   "codemirror_mode": {
    "name": "ipython",
    "version": 3
   },
   "file_extension": ".py",
   "mimetype": "text/x-python",
   "name": "python",
   "nbconvert_exporter": "python",
   "pygments_lexer": "ipython3",
   "version": "3.7.1"
  },
  "toc": {
   "base_numbering": 1,
   "nav_menu": {},
   "number_sections": true,
   "sideBar": true,
   "skip_h1_title": false,
   "title_cell": "Table of Contents",
   "title_sidebar": "Contents",
   "toc_cell": false,
   "toc_position": {},
   "toc_section_display": true,
   "toc_window_display": false
  },
  "varInspector": {
   "cols": {
    "lenName": 16,
    "lenType": 16,
    "lenVar": 40
   },
   "kernels_config": {
    "python": {
     "delete_cmd_postfix": "",
     "delete_cmd_prefix": "del ",
     "library": "var_list.py",
     "varRefreshCmd": "print(var_dic_list())"
    },
    "r": {
     "delete_cmd_postfix": ") ",
     "delete_cmd_prefix": "rm(",
     "library": "var_list.r",
     "varRefreshCmd": "cat(var_dic_list()) "
    }
   },
   "types_to_exclude": [
    "module",
    "function",
    "builtin_function_or_method",
    "instance",
    "_Feature"
   ],
   "window_display": false
  }
 },
 "nbformat": 4,
 "nbformat_minor": 4
}
