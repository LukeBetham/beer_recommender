{
 "cells": [
  {
   "cell_type": "code",
   "execution_count": 1,
   "metadata": {
    "ExecuteTime": {
     "end_time": "2020-04-27T14:15:55.576840Z",
     "start_time": "2020-04-27T14:15:55.563916Z"
    }
   },
   "outputs": [],
   "source": [
    "import requests\n",
    "import bs4\n",
    "from bs4 import BeautifulSoup\n",
    "import pandas as pd\n",
    "import re\n",
    "from tqdm import tqdm_notebook\n",
    "import matplotlib.pyplot as plt\n",
    "import seaborn as sns"
   ]
  },
  {
   "cell_type": "markdown",
   "metadata": {},
   "source": [
    "## Code which scrapes the recently reviews (only 100 pages - 1,400 reviews)"
   ]
  },
  {
   "cell_type": "code",
   "execution_count": 44,
   "metadata": {
    "ExecuteTime": {
     "end_time": "2020-04-27T14:15:57.165682Z",
     "start_time": "2020-04-27T14:15:57.145734Z"
    }
   },
   "outputs": [],
   "source": [
    "\n",
    "def ratebeer_scraper(page_start=1, page_end=2, url_set=None):\n",
    "    \n",
    "    beer_name = []\n",
    "    beer_rating = []\n",
    "    brewery_name = []\n",
    "    brewery_location = []\n",
    "    review_content = []\n",
    "    reviewer_name = []\n",
    " \n",
    "    if url_set == None:\n",
    "        print(\"Need url to run\")\n",
    "        return\n",
    "\n",
    "    for x in tqdm_notebook(range(page_start, page_end + 1)):\n",
    "        try:\n",
    "            url_format = url_set.format(x)\n",
    "            r = requests.get(url_format)\n",
    "            soup = BeautifulSoup(r.text, 'html.parser')\n",
    "            table = soup.find('table', attrs={'class': 'table'})\n",
    "            table_rows = table.find_all('tr')\n",
    "\n",
    "            for rows in table_rows:\n",
    "\n",
    "            # Scrape Beer Name    \n",
    "                try:\n",
    "                    beer_name.append(rows.find('a', attrs={'style':'font-size:20px; font-weight:bold;'}).text)\n",
    "                except:\n",
    "                    beer_name.append(None)\n",
    "            # Scrape Review Rating  \n",
    "                try:\n",
    "                    beer_rating.append(rows.find('span', attrs={'class':'uas'}).text)\n",
    "                except:\n",
    "                    beer_rating.append(None)\n",
    "            # Scrape Brewery Name  \n",
    "                try:\n",
    "                    brewery_div = rows.find('div')\n",
    "                    brewery_name.append(brewery_div.a.text)\n",
    "                except:\n",
    "                    brewery_name.append(None)\n",
    "            # Scrape Brewery Location\n",
    "                try:\n",
    "                    brewery_location.append(rows.find('span', attrs={'class':'small'}).text.strip())\n",
    "                except:\n",
    "                    brewery_location.append(None)\n",
    "            # Scrape Reviewer Name\n",
    "                try:\n",
    "                    reviewer_name.append(rows.find('span', attrs={'class':'pull-right'}).text.strip())\n",
    "                except:\n",
    "                    reviewer_name.append(None)\n",
    "            # Scrape content\n",
    "                try:\n",
    "                    review_content.append(rows.find('div', attrs={'style':\"color:#666;\"}).text.strip())\n",
    "                except:\n",
    "                    review_content.append(None)\n",
    "        except:\n",
    "            pass\n",
    "\n",
    "    beerz = pd.DataFrame({'beer_name': beer_name,\n",
    "                         'beer_rating': beer_rating,\n",
    "                        'brewery_name': brewery_name,\n",
    "                         'brewery_location': brewery_location,\n",
    "                        'review_content': review_content,\n",
    "                        'reviewer_name': reviewer_name})\n",
    "    return beerz\n",
    "\n"
   ]
  },
  {
   "cell_type": "code",
   "execution_count": 48,
   "metadata": {
    "ExecuteTime": {
     "end_time": "2020-04-30T11:17:30.648319Z",
     "start_time": "2020-04-30T10:13:27.641847Z"
    }
   },
   "outputs": [
    {
     "name": "stderr",
     "output_type": "stream",
     "text": [
      "/Users/lukebetham/anaconda3/lib/python3.7/site-packages/ipykernel_launcher.py:14: TqdmDeprecationWarning: This function will be removed in tqdm==5.0.0\n",
      "Please use `tqdm.notebook.tqdm` instead of `tqdm.tqdm_notebook`\n",
      "  \n"
     ]
    },
    {
     "data": {
      "application/vnd.jupyter.widget-view+json": {
       "model_id": "e5adf7cb1ac2462081c6e966afefe8ea",
       "version_major": 2,
       "version_minor": 0
      },
      "text/plain": [
       "HBox(children=(FloatProgress(value=0.0, max=2.0), HTML(value='')))"
      ]
     },
     "metadata": {},
     "output_type": "display_data"
    },
    {
     "name": "stdout",
     "output_type": "stream",
     "text": [
      "\n"
     ]
    },
    {
     "data": {
      "application/vnd.jupyter.widget-view+json": {
       "model_id": "2caac2774ba84b7c99d4109a6ee17f8d",
       "version_major": 2,
       "version_minor": 0
      },
      "text/plain": [
       "HBox(children=(FloatProgress(value=0.0, max=2.0), HTML(value='')))"
      ]
     },
     "metadata": {},
     "output_type": "display_data"
    },
    {
     "name": "stdout",
     "output_type": "stream",
     "text": [
      "\n"
     ]
    },
    {
     "data": {
      "application/vnd.jupyter.widget-view+json": {
       "model_id": "b2dc4b329edd481198e0911d9af7c9e2",
       "version_major": 2,
       "version_minor": 0
      },
      "text/plain": [
       "HBox(children=(FloatProgress(value=0.0, max=2.0), HTML(value='')))"
      ]
     },
     "metadata": {},
     "output_type": "display_data"
    },
    {
     "name": "stdout",
     "output_type": "stream",
     "text": [
      "\n"
     ]
    },
    {
     "data": {
      "application/vnd.jupyter.widget-view+json": {
       "model_id": "e134686ab6644b328989f6b7816b2ed1",
       "version_major": 2,
       "version_minor": 0
      },
      "text/plain": [
       "HBox(children=(FloatProgress(value=0.0, max=2.0), HTML(value='')))"
      ]
     },
     "metadata": {},
     "output_type": "display_data"
    },
    {
     "name": "stdout",
     "output_type": "stream",
     "text": [
      "\n"
     ]
    },
    {
     "data": {
      "application/vnd.jupyter.widget-view+json": {
       "model_id": "bb4a4ab109644eb491c9d406c6209f85",
       "version_major": 2,
       "version_minor": 0
      },
      "text/plain": [
       "HBox(children=(FloatProgress(value=0.0, max=2.0), HTML(value='')))"
      ]
     },
     "metadata": {},
     "output_type": "display_data"
    },
    {
     "name": "stdout",
     "output_type": "stream",
     "text": [
      "\n"
     ]
    }
   ],
   "source": [
    "# # Scraping most recent reviews\n",
    "# url = 'https://www.ratebeer.com/beer-ratings/0/{}/'\n",
    "# df_recent = ratebeer_scraper(0,100,url)\n",
    "\n",
    "# Scraping new beers\n",
    "url = 'https://www.ratebeer.com/beer-ratings/5/{}/'\n",
    "df_new = ratebeer_scraper(0,1,url)\n",
    "\n",
    "# Scraping fave beers\n",
    "url = 'https://www.ratebeer.com/beer-ratings/4/{}/'\n",
    "df_fave = ratebeer_scraper(0,1,url)\n",
    "\n",
    "# Scraping rave beers\n",
    "url = 'https://www.ratebeer.com/beer-ratings/1/{}/'\n",
    "df_rave = ratebeer_scraper(0,1,url)\n",
    "\n",
    "# Scraping rant beers\n",
    "url = 'https://www.ratebeer.com/beer-ratings/2/{}/'\n",
    "df_rant = ratebeer_scraper(0,1,url)\n",
    "\n",
    "# Scraping anomalous beers\n",
    "url = 'https://www.ratebeer.com/beer-ratings/3/{}/'\n",
    "df_anom = ratebeer_scraper(0,1,url)"
   ]
  },
  {
   "cell_type": "code",
   "execution_count": 49,
   "metadata": {
    "ExecuteTime": {
     "end_time": "2020-04-30T11:59:28.760939Z",
     "start_time": "2020-04-30T11:59:28.694798Z"
    }
   },
   "outputs": [],
   "source": [
    "df_rave.review_content = df_rave.review_content.apply(lambda x: x.encode('ascii', 'ignore').decode('ascii'))"
   ]
  },
  {
   "cell_type": "code",
   "execution_count": 50,
   "metadata": {
    "ExecuteTime": {
     "end_time": "2020-04-30T11:59:37.911421Z",
     "start_time": "2020-04-30T11:59:37.629724Z"
    }
   },
   "outputs": [
    {
     "name": "stdout",
     "output_type": "stream",
     "text": [
      "12195\n",
      "10595\n"
     ]
    }
   ],
   "source": [
    "df = pd.concat([df, df_recent, df_new, df_fave, df_rave, df_rant, df_anom])\n",
    "print(len(df))\n",
    "df.drop_duplicates(inplace=True)\n",
    "print(len(df))\n",
    "df.to_csv('all_reviews.csv',index=False)\n"
   ]
  },
  {
   "cell_type": "code",
   "execution_count": 51,
   "metadata": {
    "ExecuteTime": {
     "end_time": "2020-04-30T11:59:46.916639Z",
     "start_time": "2020-04-30T11:59:46.900229Z"
    }
   },
   "outputs": [
    {
     "data": {
      "text/html": [
       "<div>\n",
       "<style scoped>\n",
       "    .dataframe tbody tr th:only-of-type {\n",
       "        vertical-align: middle;\n",
       "    }\n",
       "\n",
       "    .dataframe tbody tr th {\n",
       "        vertical-align: top;\n",
       "    }\n",
       "\n",
       "    .dataframe thead th {\n",
       "        text-align: right;\n",
       "    }\n",
       "</style>\n",
       "<table border=\"1\" class=\"dataframe\">\n",
       "  <thead>\n",
       "    <tr style=\"text-align: right;\">\n",
       "      <th></th>\n",
       "      <th>beer_name</th>\n",
       "      <th>beer_rating</th>\n",
       "      <th>brewery_location</th>\n",
       "      <th>brewery_name</th>\n",
       "      <th>review_content</th>\n",
       "      <th>reviewer_name</th>\n",
       "    </tr>\n",
       "  </thead>\n",
       "  <tbody>\n",
       "    <tr>\n",
       "      <th>0</th>\n",
       "      <td>St. Peter's Ruby Red Ale</td>\n",
       "      <td>3.3</td>\n",
       "      <td>Bungay, Suffolk</td>\n",
       "      <td>St. Peter's Brewery</td>\n",
       "      <td>Ruby color, offwhite coam. Aroma and taste: fl...</td>\n",
       "      <td>alex_leit</td>\n",
       "    </tr>\n",
       "    <tr>\n",
       "      <th>1</th>\n",
       "      <td>Shepherd Neame Spitfire (Bottle)</td>\n",
       "      <td>2.2</td>\n",
       "      <td>Faversham, Kent</td>\n",
       "      <td>Shepherd Neame</td>\n",
       "      <td>Disappointing show from the lads at ‘Britain’s...</td>\n",
       "      <td>shivermetimber.gray</td>\n",
       "    </tr>\n",
       "    <tr>\n",
       "      <th>2</th>\n",
       "      <td>Arbor Rocketman</td>\n",
       "      <td>3.8</td>\n",
       "      <td>Bristol, Gloucestershire</td>\n",
       "      <td>Arbor Ales</td>\n",
       "      <td>Puszka. Mętne o żółtym kolorze. Piana biała,ob...</td>\n",
       "      <td>MarcinG</td>\n",
       "    </tr>\n",
       "    <tr>\n",
       "      <th>3</th>\n",
       "      <td>Shepherd Neame India Pale Ale (Bottle)</td>\n",
       "      <td>3.4</td>\n",
       "      <td>Faversham, Kent</td>\n",
       "      <td>Shepherd Neame</td>\n",
       "      <td>Bottle. Amber with bronze color and white foam...</td>\n",
       "      <td>alex_leit</td>\n",
       "    </tr>\n",
       "    <tr>\n",
       "      <th>4</th>\n",
       "      <td>Shepherd Neame Christmas Ale</td>\n",
       "      <td>3.3</td>\n",
       "      <td>Faversham, Kent</td>\n",
       "      <td>Shepherd Neame</td>\n",
       "      <td>Bottle. Aroma: English hops and malts with tof...</td>\n",
       "      <td>alex_leit</td>\n",
       "    </tr>\n",
       "    <tr>\n",
       "      <th>...</th>\n",
       "      <td>...</td>\n",
       "      <td>...</td>\n",
       "      <td>...</td>\n",
       "      <td>...</td>\n",
       "      <td>...</td>\n",
       "      <td>...</td>\n",
       "    </tr>\n",
       "    <tr>\n",
       "      <th>10</th>\n",
       "      <td>Molson Canadian</td>\n",
       "      <td>4.0</td>\n",
       "      <td>+2</td>\n",
       "      <td>Molson Brewing Company (Molson Coors)</td>\n",
       "      <td>Pours a deep, clear golden colour\\nA soft fluf...</td>\n",
       "      <td>Haleale</td>\n",
       "    </tr>\n",
       "    <tr>\n",
       "      <th>11</th>\n",
       "      <td>Garage (CA) Mango Hefeweizen</td>\n",
       "      <td>5.0</td>\n",
       "      <td>+1.7</td>\n",
       "      <td>Garage Brewing Company and Pizzeria</td>\n",
       "      <td>Purchase a six pack from my local Stater Broth...</td>\n",
       "      <td>camay1997</td>\n",
       "    </tr>\n",
       "    <tr>\n",
       "      <th>12</th>\n",
       "      <td>Welde Kurpfalzbräu Helles</td>\n",
       "      <td>5.0</td>\n",
       "      <td>+2.1</td>\n",
       "      <td>Weldebräu Plankstadt</td>\n",
       "      <td>Goldenes Aussehen. Die Schaumkrone ist kurzleb...</td>\n",
       "      <td>BarleyTeam16</td>\n",
       "    </tr>\n",
       "    <tr>\n",
       "      <th>13</th>\n",
       "      <td>Oskar Blues Death By King Cake</td>\n",
       "      <td>1.6</td>\n",
       "      <td>-1.6</td>\n",
       "      <td>Oskar Blues Brewery (CANarchy Craft Brewery Co...</td>\n",
       "      <td>Can. Not a porter, has nothing to do with dark...</td>\n",
       "      <td>cheap</td>\n",
       "    </tr>\n",
       "    <tr>\n",
       "      <th>14</th>\n",
       "      <td>Glaabsbräu Hefeweizen Alkoholfrei</td>\n",
       "      <td>3.7</td>\n",
       "      <td>+1.6</td>\n",
       "      <td>Privatbrauerei Glaab</td>\n",
       "      <td>28-04-20 // 500ml bottle. NEW RECIPE! Really n...</td>\n",
       "      <td>rhoihessegold</td>\n",
       "    </tr>\n",
       "  </tbody>\n",
       "</table>\n",
       "<p>10595 rows × 6 columns</p>\n",
       "</div>"
      ],
      "text/plain": [
       "                                 beer_name beer_rating  \\\n",
       "0                 St. Peter's Ruby Red Ale         3.3   \n",
       "1         Shepherd Neame Spitfire (Bottle)         2.2   \n",
       "2                          Arbor Rocketman         3.8   \n",
       "3   Shepherd Neame India Pale Ale (Bottle)         3.4   \n",
       "4            Shepherd Neame Christmas Ale          3.3   \n",
       "..                                     ...         ...   \n",
       "10                         Molson Canadian         4.0   \n",
       "11            Garage (CA) Mango Hefeweizen         5.0   \n",
       "12               Welde Kurpfalzbräu Helles         5.0   \n",
       "13          Oskar Blues Death By King Cake         1.6   \n",
       "14       Glaabsbräu Hefeweizen Alkoholfrei         3.7   \n",
       "\n",
       "            brewery_location  \\\n",
       "0            Bungay, Suffolk   \n",
       "1            Faversham, Kent   \n",
       "2   Bristol, Gloucestershire   \n",
       "3            Faversham, Kent   \n",
       "4            Faversham, Kent   \n",
       "..                       ...   \n",
       "10                        +2   \n",
       "11                      +1.7   \n",
       "12                      +2.1   \n",
       "13                      -1.6   \n",
       "14                      +1.6   \n",
       "\n",
       "                                         brewery_name  \\\n",
       "0                                 St. Peter's Brewery   \n",
       "1                                      Shepherd Neame   \n",
       "2                                          Arbor Ales   \n",
       "3                                      Shepherd Neame   \n",
       "4                                      Shepherd Neame   \n",
       "..                                                ...   \n",
       "10              Molson Brewing Company (Molson Coors)   \n",
       "11                Garage Brewing Company and Pizzeria   \n",
       "12                               Weldebräu Plankstadt   \n",
       "13  Oskar Blues Brewery (CANarchy Craft Brewery Co...   \n",
       "14                               Privatbrauerei Glaab   \n",
       "\n",
       "                                       review_content        reviewer_name  \n",
       "0   Ruby color, offwhite coam. Aroma and taste: fl...            alex_leit  \n",
       "1   Disappointing show from the lads at ‘Britain’s...  shivermetimber.gray  \n",
       "2   Puszka. Mętne o żółtym kolorze. Piana biała,ob...              MarcinG  \n",
       "3   Bottle. Amber with bronze color and white foam...            alex_leit  \n",
       "4   Bottle. Aroma: English hops and malts with tof...            alex_leit  \n",
       "..                                                ...                  ...  \n",
       "10  Pours a deep, clear golden colour\\nA soft fluf...              Haleale  \n",
       "11  Purchase a six pack from my local Stater Broth...            camay1997  \n",
       "12  Goldenes Aussehen. Die Schaumkrone ist kurzleb...         BarleyTeam16  \n",
       "13  Can. Not a porter, has nothing to do with dark...                cheap  \n",
       "14  28-04-20 // 500ml bottle. NEW RECIPE! Really n...        rhoihessegold  \n",
       "\n",
       "[10595 rows x 6 columns]"
      ]
     },
     "execution_count": 51,
     "metadata": {},
     "output_type": "execute_result"
    }
   ],
   "source": [
    "df"
   ]
  },
  {
   "cell_type": "code",
   "execution_count": 52,
   "metadata": {
    "ExecuteTime": {
     "end_time": "2020-04-30T11:59:56.994363Z",
     "start_time": "2020-04-30T11:59:56.876700Z"
    }
   },
   "outputs": [],
   "source": [
    "# df.to_csv('all_reviews.csv',index=False)\n",
    "# df = pd.read_csv('all_reviews.csv')"
   ]
  },
  {
   "cell_type": "markdown",
   "metadata": {},
   "source": [
    "## Get more information on all of the beers - Selenium"
   ]
  },
  {
   "cell_type": "code",
   "execution_count": 119,
   "metadata": {
    "ExecuteTime": {
     "end_time": "2020-04-30T12:46:13.250347Z",
     "start_time": "2020-04-30T12:46:13.209896Z"
    }
   },
   "outputs": [],
   "source": [
    "from selenium import webdriver\n",
    "import time"
   ]
  },
  {
   "cell_type": "code",
   "execution_count": 169,
   "metadata": {
    "ExecuteTime": {
     "end_time": "2020-04-30T21:07:19.783438Z",
     "start_time": "2020-04-30T15:39:22.923980Z"
    }
   },
   "outputs": [
    {
     "name": "stderr",
     "output_type": "stream",
     "text": [
      "/Users/lukebetham/anaconda3/lib/python3.7/site-packages/ipykernel_launcher.py:6: TqdmDeprecationWarning: This function will be removed in tqdm==5.0.0\n",
      "Please use `tqdm.notebook.tqdm` instead of `tqdm.tqdm_notebook`\n",
      "  \n"
     ]
    },
    {
     "data": {
      "application/vnd.jupyter.widget-view+json": {
       "model_id": "da4903a9321a417a8734fd24cd8167a9",
       "version_major": 2,
       "version_minor": 0
      },
      "text/plain": [
       "HBox(children=(FloatProgress(value=0.0, max=6080.0), HTML(value='')))"
      ]
     },
     "metadata": {},
     "output_type": "display_data"
    },
    {
     "name": "stdout",
     "output_type": "stream",
     "text": [
      "\n"
     ]
    }
   ],
   "source": [
    "item_names = []\n",
    "desc_string = []\n",
    "\n",
    "driver = webdriver.Chrome(executable_path='/Users/lukebetham/Downloads/chromedriver')\n",
    "\n",
    "for beer in tqdm_notebook(df.beer_name.unique()[185:]):\n",
    "    driver.get(\"https://www.ratebeer.com/search?beername={}\".format(beer))\n",
    "    time.sleep(2)\n",
    "    item_tags = driver.find_elements_by_class_name('fg-1')\n",
    "\n",
    "    x=1\n",
    "    beer_temp = []\n",
    "    for item in item_tags:        \n",
    "        if x <2:\n",
    "            try:\n",
    "                item_names.append(item.find_element_by_class_name('fd-r').text)\n",
    "                x+=1\n",
    "            except:\n",
    "                pass\n",
    "            try:\n",
    "                beer_temp.append(item.text)\n",
    "            except:\n",
    "                pass\n",
    "    try:\n",
    "        desc_string.append(beer_temp[4])\n",
    "    except:\n",
    "        desc_string.append(None)"
   ]
  },
  {
   "cell_type": "code",
   "execution_count": 176,
   "metadata": {
    "ExecuteTime": {
     "end_time": "2020-05-01T07:50:33.336009Z",
     "start_time": "2020-05-01T07:50:33.328827Z"
    }
   },
   "outputs": [],
   "source": [
    "beer_deets = pd.DataFrame(first_184+desc_string, columns = ['return_string'])\n",
    "beer_deets[\"name_searched\"] = df.beer_name.unique()"
   ]
  },
  {
   "cell_type": "code",
   "execution_count": 23,
   "metadata": {
    "ExecuteTime": {
     "end_time": "2020-05-01T07:51:15.255963Z",
     "start_time": "2020-05-01T07:51:15.201630Z"
    }
   },
   "outputs": [],
   "source": [
    "# beer_deets.to_csv('beer_deets.csv',index=False)\n",
    "beer_deets = pd.read_csv('beer_deets.csv')"
   ]
  },
  {
   "cell_type": "code",
   "execution_count": 35,
   "metadata": {
    "ExecuteTime": {
     "end_time": "2020-05-01T09:25:53.452825Z",
     "start_time": "2020-05-01T09:25:53.411440Z"
    }
   },
   "outputs": [],
   "source": [
    "# cleaning the scraped data\n",
    "beer_deets.dropna(inplace=True)\n",
    "beer_deets = beer_deets[~beer_deets.return_string.str.startswith('Logo\\n')].copy()\n",
    "no_alcohol = beer_deets[~beer_deets.return_string.str.contains('%')]\n",
    "beer_deets = beer_deets[beer_deets.return_string.str.contains('%')].copy()"
   ]
  },
  {
   "cell_type": "code",
   "execution_count": 59,
   "metadata": {
    "ExecuteTime": {
     "end_time": "2020-05-02T09:27:48.743233Z",
     "start_time": "2020-05-02T09:27:48.700520Z"
    }
   },
   "outputs": [],
   "source": [
    "# sorting the scraped data into columns\n",
    "beer_deets['flag'] = beer_deets.return_string.apply(lambda x: x.split('\\n')[1].split('•')[0].split(\" \")[0])\n",
    "beer_deets['type'] = beer_deets.return_string.apply(lambda x: x.split('\\n')[1].split('•')[0][2:])\n",
    "beer_deets['abv'] = beer_deets.return_string.apply(lambda x: float(x.split('\\n')[1].split('•')[1].replace(\"%\",\"\")))\n",
    "beer_deets['rb_overall_score'] = beer_deets.return_string.apply(lambda x: x.split('\\n')[2])\n",
    "beer_deets['rb_style_score'] = beer_deets.return_string.apply(lambda x: x.split('\\n')[3])\n",
    "beer_deets['rb_user_rating'] = beer_deets.return_string.apply(lambda x: x.split('\\n')[4])\n",
    "beer_deets['rb_rating_number'] = beer_deets.return_string.apply(lambda x: x.split('\\n')[5].replace(\"(\",\"\").replace(\")\",\"\"))\n"
   ]
  },
  {
   "cell_type": "code",
   "execution_count": 60,
   "metadata": {},
   "outputs": [
    {
     "data": {
      "text/html": [
       "<div>\n",
       "<style scoped>\n",
       "    .dataframe tbody tr th:only-of-type {\n",
       "        vertical-align: middle;\n",
       "    }\n",
       "\n",
       "    .dataframe tbody tr th {\n",
       "        vertical-align: top;\n",
       "    }\n",
       "\n",
       "    .dataframe thead th {\n",
       "        text-align: right;\n",
       "    }\n",
       "</style>\n",
       "<table border=\"1\" class=\"dataframe\">\n",
       "  <thead>\n",
       "    <tr style=\"text-align: right;\">\n",
       "      <th></th>\n",
       "      <th>return_string</th>\n",
       "      <th>name_searched</th>\n",
       "      <th>flag</th>\n",
       "      <th>type</th>\n",
       "      <th>abv</th>\n",
       "      <th>rb_overall_score</th>\n",
       "      <th>rb_style_score</th>\n",
       "      <th>rb_user_rating</th>\n",
       "      <th>rb_rating_number</th>\n",
       "    </tr>\n",
       "  </thead>\n",
       "  <tbody>\n",
       "    <tr>\n",
       "      <th>0</th>\n",
       "      <td>St. Peter's Ruby Red Ale\\n🇬🇧 Bitter - Ordinary...</td>\n",
       "      <td>St. Peter's Ruby Red Ale</td>\n",
       "      <td>🇬🇧</td>\n",
       "      <td>Bitter - Ordinary / Best</td>\n",
       "      <td>4.3</td>\n",
       "      <td>49</td>\n",
       "      <td>95</td>\n",
       "      <td>3.25</td>\n",
       "      <td>415</td>\n",
       "    </tr>\n",
       "    <tr>\n",
       "      <th>1</th>\n",
       "      <td>Shepherd Neame Spitfire (Bottle)\\n🇬🇧 Bitter - ...</td>\n",
       "      <td>Shepherd Neame Spitfire (Bottle)</td>\n",
       "      <td>🇬🇧</td>\n",
       "      <td>Bitter - Ordinary / Best</td>\n",
       "      <td>4.5</td>\n",
       "      <td>34</td>\n",
       "      <td>59</td>\n",
       "      <td>3.05</td>\n",
       "      <td>1083</td>\n",
       "    </tr>\n",
       "    <tr>\n",
       "      <th>2</th>\n",
       "      <td>Arbor Rocketman\\n🇬🇧 IPA • 6.0%\\n95\\n97\\n3.74\\n...</td>\n",
       "      <td>Arbor Rocketman</td>\n",
       "      <td>🇬🇧</td>\n",
       "      <td>IPA</td>\n",
       "      <td>6.0</td>\n",
       "      <td>95</td>\n",
       "      <td>97</td>\n",
       "      <td>3.74</td>\n",
       "      <td>59</td>\n",
       "    </tr>\n",
       "    <tr>\n",
       "      <th>3</th>\n",
       "      <td>Shepherd Neame India Pale Ale (Bottle)\\n🇬🇧 IPA...</td>\n",
       "      <td>Shepherd Neame India Pale Ale (Bottle)</td>\n",
       "      <td>🇬🇧</td>\n",
       "      <td>IPA - English</td>\n",
       "      <td>6.1</td>\n",
       "      <td>46</td>\n",
       "      <td>47</td>\n",
       "      <td>3.22</td>\n",
       "      <td>420</td>\n",
       "    </tr>\n",
       "    <tr>\n",
       "      <th>4</th>\n",
       "      <td>Shepherd Neame Christmas Ale\\n🇬🇧 Strong Ale - ...</td>\n",
       "      <td>Shepherd Neame Christmas Ale</td>\n",
       "      <td>🇬🇧</td>\n",
       "      <td>Strong Ale - English</td>\n",
       "      <td>7.0</td>\n",
       "      <td>45</td>\n",
       "      <td>46</td>\n",
       "      <td>3.18</td>\n",
       "      <td>409</td>\n",
       "    </tr>\n",
       "    <tr>\n",
       "      <th>...</th>\n",
       "      <td>...</td>\n",
       "      <td>...</td>\n",
       "      <td>...</td>\n",
       "      <td>...</td>\n",
       "      <td>...</td>\n",
       "      <td>...</td>\n",
       "      <td>...</td>\n",
       "      <td>...</td>\n",
       "      <td>...</td>\n",
       "    </tr>\n",
       "    <tr>\n",
       "      <th>6260</th>\n",
       "      <td>Lamplighter / Cambridge Overnight Oats\\n🇺🇸 Sou...</td>\n",
       "      <td>Lamplighter / Cambridge Overnight Oats</td>\n",
       "      <td>🇺🇸</td>\n",
       "      <td>Sour / Wild Beer</td>\n",
       "      <td>4.1</td>\n",
       "      <td>-</td>\n",
       "      <td>-</td>\n",
       "      <td>3.80</td>\n",
       "      <td>1</td>\n",
       "    </tr>\n",
       "    <tr>\n",
       "      <th>6261</th>\n",
       "      <td>Tired Hands / Omnipollo Double Milkshake IPA -...</td>\n",
       "      <td>Tired Hands / Omnipollo Double Milkshake IPA -...</td>\n",
       "      <td>🇺🇸</td>\n",
       "      <td>IPA - Milkshake</td>\n",
       "      <td>9.0</td>\n",
       "      <td>-</td>\n",
       "      <td>-</td>\n",
       "      <td>4.00</td>\n",
       "      <td>1</td>\n",
       "    </tr>\n",
       "    <tr>\n",
       "      <th>6262</th>\n",
       "      <td>Black Iris Mother Knows Best\\n🇬🇧 IPA • 6.2%\\n-...</td>\n",
       "      <td>Black Iris Mother Knows Best</td>\n",
       "      <td>🇬🇧</td>\n",
       "      <td>IPA</td>\n",
       "      <td>6.2</td>\n",
       "      <td>-</td>\n",
       "      <td>-</td>\n",
       "      <td>3.80</td>\n",
       "      <td>1</td>\n",
       "    </tr>\n",
       "    <tr>\n",
       "      <th>6263</th>\n",
       "      <td>Great Lakes HazeMama\\n🇨🇦 IPA - Hazy / NEIPA • ...</td>\n",
       "      <td>Great Lakes HazeMama</td>\n",
       "      <td>🇨🇦</td>\n",
       "      <td>IPA - Hazy / NEIPA</td>\n",
       "      <td>7.0</td>\n",
       "      <td>-</td>\n",
       "      <td>-</td>\n",
       "      <td>0</td>\n",
       "      <td>6</td>\n",
       "    </tr>\n",
       "    <tr>\n",
       "      <th>6264</th>\n",
       "      <td>5.0 Original Lager\\n🇩🇪 Pale Lager - North Am. ...</td>\n",
       "      <td>5.0 Original Lager</td>\n",
       "      <td>🇩🇪</td>\n",
       "      <td>Pale Lager - North Am. / Light / Rice</td>\n",
       "      <td>5.4</td>\n",
       "      <td>-</td>\n",
       "      <td>-</td>\n",
       "      <td>2.54</td>\n",
       "      <td>4</td>\n",
       "    </tr>\n",
       "  </tbody>\n",
       "</table>\n",
       "<p>5911 rows × 9 columns</p>\n",
       "</div>"
      ],
      "text/plain": [
       "                                          return_string  \\\n",
       "0     St. Peter's Ruby Red Ale\\n🇬🇧 Bitter - Ordinary...   \n",
       "1     Shepherd Neame Spitfire (Bottle)\\n🇬🇧 Bitter - ...   \n",
       "2     Arbor Rocketman\\n🇬🇧 IPA • 6.0%\\n95\\n97\\n3.74\\n...   \n",
       "3     Shepherd Neame India Pale Ale (Bottle)\\n🇬🇧 IPA...   \n",
       "4     Shepherd Neame Christmas Ale\\n🇬🇧 Strong Ale - ...   \n",
       "...                                                 ...   \n",
       "6260  Lamplighter / Cambridge Overnight Oats\\n🇺🇸 Sou...   \n",
       "6261  Tired Hands / Omnipollo Double Milkshake IPA -...   \n",
       "6262  Black Iris Mother Knows Best\\n🇬🇧 IPA • 6.2%\\n-...   \n",
       "6263  Great Lakes HazeMama\\n🇨🇦 IPA - Hazy / NEIPA • ...   \n",
       "6264  5.0 Original Lager\\n🇩🇪 Pale Lager - North Am. ...   \n",
       "\n",
       "                                          name_searched flag  \\\n",
       "0                              St. Peter's Ruby Red Ale   🇬🇧   \n",
       "1                      Shepherd Neame Spitfire (Bottle)   🇬🇧   \n",
       "2                                       Arbor Rocketman   🇬🇧   \n",
       "3                Shepherd Neame India Pale Ale (Bottle)   🇬🇧   \n",
       "4                         Shepherd Neame Christmas Ale    🇬🇧   \n",
       "...                                                 ...  ...   \n",
       "6260             Lamplighter / Cambridge Overnight Oats   🇺🇸   \n",
       "6261  Tired Hands / Omnipollo Double Milkshake IPA -...   🇺🇸   \n",
       "6262                       Black Iris Mother Knows Best   🇬🇧   \n",
       "6263                              Great Lakes HazeMama    🇨🇦   \n",
       "6264                                 5.0 Original Lager   🇩🇪   \n",
       "\n",
       "                                         type  abv rb_overall_score  \\\n",
       "0                   Bitter - Ordinary / Best   4.3               49   \n",
       "1                   Bitter - Ordinary / Best   4.5               34   \n",
       "2                                        IPA   6.0               95   \n",
       "3                              IPA - English   6.1               46   \n",
       "4                       Strong Ale - English   7.0               45   \n",
       "...                                       ...  ...              ...   \n",
       "6260                        Sour / Wild Beer   4.1                -   \n",
       "6261                         IPA - Milkshake   9.0                -   \n",
       "6262                                     IPA   6.2                -   \n",
       "6263                      IPA - Hazy / NEIPA   7.0                -   \n",
       "6264   Pale Lager - North Am. / Light / Rice   5.4                -   \n",
       "\n",
       "     rb_style_score rb_user_rating rb_rating_number  \n",
       "0                95           3.25              415  \n",
       "1                59           3.05             1083  \n",
       "2                97           3.74               59  \n",
       "3                47           3.22              420  \n",
       "4                46           3.18              409  \n",
       "...             ...            ...              ...  \n",
       "6260              -           3.80                1  \n",
       "6261              -           4.00                1  \n",
       "6262              -           3.80                1  \n",
       "6263              -              0                6  \n",
       "6264              -           2.54                4  \n",
       "\n",
       "[5911 rows x 9 columns]"
      ]
     },
     "execution_count": 60,
     "metadata": {},
     "output_type": "execute_result"
    }
   ],
   "source": [
    "beer_deets"
   ]
  },
  {
   "cell_type": "code",
   "execution_count": null,
   "metadata": {},
   "outputs": [],
   "source": []
  },
  {
   "cell_type": "code",
   "execution_count": null,
   "metadata": {},
   "outputs": [],
   "source": []
  }
 ],
 "metadata": {
  "kernelspec": {
   "display_name": "Python 3",
   "language": "python",
   "name": "python3"
  },
  "language_info": {
   "codemirror_mode": {
    "name": "ipython",
    "version": 3
   },
   "file_extension": ".py",
   "mimetype": "text/x-python",
   "name": "python",
   "nbconvert_exporter": "python",
   "pygments_lexer": "ipython3",
   "version": "3.7.1"
  },
  "toc": {
   "base_numbering": 1,
   "nav_menu": {},
   "number_sections": true,
   "sideBar": true,
   "skip_h1_title": false,
   "title_cell": "Table of Contents",
   "title_sidebar": "Contents",
   "toc_cell": false,
   "toc_position": {},
   "toc_section_display": true,
   "toc_window_display": false
  },
  "varInspector": {
   "cols": {
    "lenName": 16,
    "lenType": 16,
    "lenVar": 40
   },
   "kernels_config": {
    "python": {
     "delete_cmd_postfix": "",
     "delete_cmd_prefix": "del ",
     "library": "var_list.py",
     "varRefreshCmd": "print(var_dic_list())"
    },
    "r": {
     "delete_cmd_postfix": ") ",
     "delete_cmd_prefix": "rm(",
     "library": "var_list.r",
     "varRefreshCmd": "cat(var_dic_list()) "
    }
   },
   "types_to_exclude": [
    "module",
    "function",
    "builtin_function_or_method",
    "instance",
    "_Feature"
   ],
   "window_display": false
  }
 },
 "nbformat": 4,
 "nbformat_minor": 4
}
