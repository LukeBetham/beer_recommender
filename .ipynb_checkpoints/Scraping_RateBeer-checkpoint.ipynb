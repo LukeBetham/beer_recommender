{
 "cells": [
  {
   "cell_type": "code",
   "execution_count": 41,
   "metadata": {
    "ExecuteTime": {
     "end_time": "2020-05-05T16:12:00.707315Z",
     "start_time": "2020-05-05T16:12:00.673925Z"
    }
   },
   "outputs": [],
   "source": [
    "import requests\n",
    "import bs4\n",
    "from bs4 import BeautifulSoup\n",
    "import pandas as pd\n",
    "import re\n",
    "from tqdm.notebook import tqdm\n",
    "import matplotlib.pyplot as plt\n",
    "import seaborn as sns"
   ]
  },
  {
   "cell_type": "markdown",
   "metadata": {},
   "source": [
    "## Code which scrapes the recently reviews (only 100 pages - 1,400 reviews)"
   ]
  },
  {
   "cell_type": "code",
   "execution_count": 42,
   "metadata": {
    "ExecuteTime": {
     "end_time": "2020-05-05T16:12:00.772532Z",
     "start_time": "2020-05-05T16:12:00.712531Z"
    }
   },
   "outputs": [],
   "source": [
    "\n",
    "def ratebeer_scraper(page_start=1, page_end=2, url_set=None):\n",
    "    \n",
    "    beer_name = []\n",
    "    beer_rating = []\n",
    "    brewery_name = []\n",
    "    brewery_location = []\n",
    "    review_content = []\n",
    "    reviewer_name = []\n",
    " \n",
    "    if url_set == None:\n",
    "        print(\"Need url to run\")\n",
    "        return\n",
    "\n",
    "    for x in tqdm(range(page_start, page_end + 1)):\n",
    "        try:\n",
    "            url_format = url_set.format(x)\n",
    "            r = requests.get(url_format)\n",
    "            soup = BeautifulSoup(r.text, 'html.parser')\n",
    "            table = soup.find('table', attrs={'class': 'table'})\n",
    "            table_rows = table.find_all('tr')\n",
    "\n",
    "            for rows in table_rows:\n",
    "\n",
    "            # Scrape Beer Name    \n",
    "                try:\n",
    "                    beer_name.append(rows.find('a', attrs={'style':'font-size:20px; font-weight:bold;'}).text)\n",
    "                except:\n",
    "                    beer_name.append(None)\n",
    "            # Scrape Review Rating  \n",
    "                try:\n",
    "                    beer_rating.append(rows.find('span', attrs={'class':'uas'}).text)\n",
    "                except:\n",
    "                    beer_rating.append(None)\n",
    "            # Scrape Brewery Name  \n",
    "                try:\n",
    "                    brewery_div = rows.find('div')\n",
    "                    brewery_name.append(brewery_div.a.text)\n",
    "                except:\n",
    "                    brewery_name.append(None)\n",
    "            # Scrape Brewery Location\n",
    "                try:\n",
    "                    brewery_location.append(rows.find('span', attrs={'class':'small'}).text.strip())\n",
    "                except:\n",
    "                    brewery_location.append(None)\n",
    "            # Scrape Reviewer Name\n",
    "                try:\n",
    "                    reviewer_name.append(rows.find('span', attrs={'class':'pull-right'}).text.strip())\n",
    "                except:\n",
    "                    reviewer_name.append(None)\n",
    "            # Scrape content\n",
    "                try:\n",
    "                    review_content.append(rows.find('div', attrs={'style':\"color:#666;\"}).text.strip())\n",
    "                except:\n",
    "                    review_content.append(None)\n",
    "        except:\n",
    "            pass\n",
    "\n",
    "    beerz = pd.DataFrame({'beer_name': beer_name,\n",
    "                         'beer_rating': beer_rating,\n",
    "                        'brewery_name': brewery_name,\n",
    "                         'brewery_location': brewery_location,\n",
    "                        'review_content': review_content,\n",
    "                        'reviewer_name': reviewer_name})\n",
    "    return beerz\n",
    "\n"
   ]
  },
  {
   "cell_type": "code",
   "execution_count": 43,
   "metadata": {
    "ExecuteTime": {
     "end_time": "2020-05-05T16:13:11.466068Z",
     "start_time": "2020-05-05T16:12:00.795054Z"
    }
   },
   "outputs": [
    {
     "data": {
      "application/vnd.jupyter.widget-view+json": {
       "model_id": "bb3b59073d114504a66700d1b55cefa8",
       "version_major": 2,
       "version_minor": 0
      },
      "text/plain": [
       "HBox(children=(FloatProgress(value=0.0, max=101.0), HTML(value='')))"
      ]
     },
     "metadata": {},
     "output_type": "display_data"
    },
    {
     "name": "stdout",
     "output_type": "stream",
     "text": [
      "\n"
     ]
    }
   ],
   "source": [
    "# Scraping most recent reviews\n",
    "url = 'https://www.ratebeer.com/beer-ratings/0/{}/'\n",
    "df_recent = ratebeer_scraper(0,100,url)\n",
    "\n",
    "# # Scraping new beers\n",
    "# url = 'https://www.ratebeer.com/beer-ratings/5/{}/'\n",
    "# df_new = ratebeer_scraper(0,1,url)\n",
    "\n",
    "# # Scraping fave beers\n",
    "# url = 'https://www.ratebeer.com/beer-ratings/4/{}/'\n",
    "# df_fave = ratebeer_scraper(0,1,url)\n",
    "\n",
    "# # Scraping rave beers\n",
    "# url = 'https://www.ratebeer.com/beer-ratings/1/{}/'\n",
    "# df_rave = ratebeer_scraper(0,1,url)\n",
    "\n",
    "# # Scraping rant beers\n",
    "# url = 'https://www.ratebeer.com/beer-ratings/2/{}/'\n",
    "# df_rant = ratebeer_scraper(0,1,url)\n",
    "\n",
    "# # Scraping anomalous beers\n",
    "# url = 'https://www.ratebeer.com/beer-ratings/3/{}/'\n",
    "# df_anom = ratebeer_scraper(0,1,url)"
   ]
  },
  {
   "cell_type": "code",
   "execution_count": 44,
   "metadata": {
    "ExecuteTime": {
     "end_time": "2020-05-05T16:13:11.478639Z",
     "start_time": "2020-05-05T16:13:11.470733Z"
    }
   },
   "outputs": [],
   "source": [
    "# getting rid of non-ascii characters from the reviews as it breaks csv\n",
    "try:\n",
    "    df_rave.review_content = df_rave.review_content.apply(lambda x: x.encode('ascii', 'ignore').decode('ascii'))\n",
    "except:\n",
    "    pass"
   ]
  },
  {
   "cell_type": "code",
   "execution_count": 45,
   "metadata": {
    "ExecuteTime": {
     "end_time": "2020-05-05T16:13:11.569074Z",
     "start_time": "2020-05-05T16:13:11.488018Z"
    }
   },
   "outputs": [],
   "source": [
    "# read current data from csv (there is a backup at all_reviews_backup.csv)\n",
    "df = pd.read_csv('all_reviews.csv')"
   ]
  },
  {
   "cell_type": "code",
   "execution_count": 46,
   "metadata": {
    "ExecuteTime": {
     "end_time": "2020-05-05T16:13:11.643737Z",
     "start_time": "2020-05-05T16:13:11.570800Z"
    }
   },
   "outputs": [
    {
     "name": "stdout",
     "output_type": "stream",
     "text": [
      "15307\n",
      "13803\n"
     ]
    }
   ],
   "source": [
    "# concatenating all of the scrapes together with the old df\n",
    "try:\n",
    "    df = pd.concat([df, df_recent, df_new, df_fave, df_rave, df_rant, df_anom])\n",
    "except:\n",
    "    df = pd.concat([df, df_recent])\n",
    "print(len(df))\n",
    "df.drop_duplicates(inplace=True)\n",
    "print(len(df))\n",
    "df.beer_name = df.beer_name.apply(lambda x: x.strip())\n",
    "\n"
   ]
  },
  {
   "cell_type": "code",
   "execution_count": 47,
   "metadata": {
    "ExecuteTime": {
     "end_time": "2020-05-05T16:13:11.675161Z",
     "start_time": "2020-05-05T16:13:11.649125Z"
    }
   },
   "outputs": [
    {
     "data": {
      "text/html": [
       "<div>\n",
       "<style scoped>\n",
       "    .dataframe tbody tr th:only-of-type {\n",
       "        vertical-align: middle;\n",
       "    }\n",
       "\n",
       "    .dataframe tbody tr th {\n",
       "        vertical-align: top;\n",
       "    }\n",
       "\n",
       "    .dataframe thead th {\n",
       "        text-align: right;\n",
       "    }\n",
       "</style>\n",
       "<table border=\"1\" class=\"dataframe\">\n",
       "  <thead>\n",
       "    <tr style=\"text-align: right;\">\n",
       "      <th></th>\n",
       "      <th>beer_name</th>\n",
       "      <th>beer_rating</th>\n",
       "      <th>brewery_location</th>\n",
       "      <th>brewery_name</th>\n",
       "      <th>review_content</th>\n",
       "      <th>reviewer_name</th>\n",
       "    </tr>\n",
       "  </thead>\n",
       "  <tbody>\n",
       "    <tr>\n",
       "      <th>0</th>\n",
       "      <td>St. Peter's Ruby Red Ale</td>\n",
       "      <td>3.3</td>\n",
       "      <td>Bungay, Suffolk</td>\n",
       "      <td>St. Peter's Brewery</td>\n",
       "      <td>Ruby color, offwhite coam. Aroma and taste: fl...</td>\n",
       "      <td>alex_leit</td>\n",
       "    </tr>\n",
       "    <tr>\n",
       "      <th>1</th>\n",
       "      <td>Shepherd Neame Spitfire (Bottle)</td>\n",
       "      <td>2.2</td>\n",
       "      <td>Faversham, Kent</td>\n",
       "      <td>Shepherd Neame</td>\n",
       "      <td>Disappointing show from the lads at ‘Britain’s...</td>\n",
       "      <td>shivermetimber.gray</td>\n",
       "    </tr>\n",
       "    <tr>\n",
       "      <th>2</th>\n",
       "      <td>Arbor Rocketman</td>\n",
       "      <td>3.8</td>\n",
       "      <td>Bristol, Gloucestershire</td>\n",
       "      <td>Arbor Ales</td>\n",
       "      <td>Puszka. Mętne o żółtym kolorze. Piana biała,ob...</td>\n",
       "      <td>MarcinG</td>\n",
       "    </tr>\n",
       "    <tr>\n",
       "      <th>3</th>\n",
       "      <td>Shepherd Neame India Pale Ale (Bottle)</td>\n",
       "      <td>3.4</td>\n",
       "      <td>Faversham, Kent</td>\n",
       "      <td>Shepherd Neame</td>\n",
       "      <td>Bottle. Amber with bronze color and white foam...</td>\n",
       "      <td>alex_leit</td>\n",
       "    </tr>\n",
       "    <tr>\n",
       "      <th>4</th>\n",
       "      <td>Shepherd Neame Christmas Ale</td>\n",
       "      <td>3.3</td>\n",
       "      <td>Faversham, Kent</td>\n",
       "      <td>Shepherd Neame</td>\n",
       "      <td>Bottle. Aroma: English hops and malts with tof...</td>\n",
       "      <td>alex_leit</td>\n",
       "    </tr>\n",
       "    <tr>\n",
       "      <th>...</th>\n",
       "      <td>...</td>\n",
       "      <td>...</td>\n",
       "      <td>...</td>\n",
       "      <td>...</td>\n",
       "      <td>...</td>\n",
       "      <td>...</td>\n",
       "    </tr>\n",
       "    <tr>\n",
       "      <th>1510</th>\n",
       "      <td>Bruery Terreux Goses are Red</td>\n",
       "      <td>4.1</td>\n",
       "      <td>Anaheim, California</td>\n",
       "      <td>Bruery Terreux</td>\n",
       "      <td>21/10/2019\\nEquilibrio tra frutta, funk e legg...</td>\n",
       "      <td>TeLaDoIoGegia</td>\n",
       "    </tr>\n",
       "    <tr>\n",
       "      <th>1511</th>\n",
       "      <td>Yellow Dog  Special Effects</td>\n",
       "      <td>3.3</td>\n",
       "      <td>Port Moody, British Columbia</td>\n",
       "      <td>Yellow Dog Brewing</td>\n",
       "      <td>Yellow, not much haze. Tart, lemony, bit of pi...</td>\n",
       "      <td>Oakes</td>\n",
       "    </tr>\n",
       "    <tr>\n",
       "      <th>1512</th>\n",
       "      <td>Brasseurs sur Demande IPA Équatoriale</td>\n",
       "      <td>3.7</td>\n",
       "      <td>Québec, Quebec</td>\n",
       "      <td>BSD - Brasseurs sur Demande</td>\n",
       "      <td>Canette datée du 04/04/2020, bue après un mois...</td>\n",
       "      <td>Franckg</td>\n",
       "    </tr>\n",
       "    <tr>\n",
       "      <th>1513</th>\n",
       "      <td>Yellow Dog  Special Effects</td>\n",
       "      <td>3.3</td>\n",
       "      <td>Port Moody, British Columbia</td>\n",
       "      <td>Yellow Dog Brewing</td>\n",
       "      <td>473mL can, pours a clear pale golden blonde wi...</td>\n",
       "      <td>mcberko</td>\n",
       "    </tr>\n",
       "    <tr>\n",
       "      <th>1514</th>\n",
       "      <td>Maui Mosaic Lite</td>\n",
       "      <td>3.7</td>\n",
       "      <td>Kihei, Maui, Hawaii</td>\n",
       "      <td>Maui Brewing Company</td>\n",
       "      <td>Can from Craft Shack. Pours clear, bright gold...</td>\n",
       "      <td>bhensonb</td>\n",
       "    </tr>\n",
       "  </tbody>\n",
       "</table>\n",
       "<p>13803 rows × 6 columns</p>\n",
       "</div>"
      ],
      "text/plain": [
       "                                   beer_name beer_rating  \\\n",
       "0                   St. Peter's Ruby Red Ale         3.3   \n",
       "1           Shepherd Neame Spitfire (Bottle)         2.2   \n",
       "2                            Arbor Rocketman         3.8   \n",
       "3     Shepherd Neame India Pale Ale (Bottle)         3.4   \n",
       "4               Shepherd Neame Christmas Ale         3.3   \n",
       "...                                      ...         ...   \n",
       "1510            Bruery Terreux Goses are Red         4.1   \n",
       "1511             Yellow Dog  Special Effects         3.3   \n",
       "1512   Brasseurs sur Demande IPA Équatoriale         3.7   \n",
       "1513             Yellow Dog  Special Effects         3.3   \n",
       "1514                        Maui Mosaic Lite         3.7   \n",
       "\n",
       "                  brewery_location                 brewery_name  \\\n",
       "0                  Bungay, Suffolk          St. Peter's Brewery   \n",
       "1                  Faversham, Kent               Shepherd Neame   \n",
       "2         Bristol, Gloucestershire                   Arbor Ales   \n",
       "3                  Faversham, Kent               Shepherd Neame   \n",
       "4                  Faversham, Kent               Shepherd Neame   \n",
       "...                            ...                          ...   \n",
       "1510           Anaheim, California               Bruery Terreux   \n",
       "1511  Port Moody, British Columbia           Yellow Dog Brewing   \n",
       "1512                Québec, Quebec  BSD - Brasseurs sur Demande   \n",
       "1513  Port Moody, British Columbia           Yellow Dog Brewing   \n",
       "1514           Kihei, Maui, Hawaii         Maui Brewing Company   \n",
       "\n",
       "                                         review_content        reviewer_name  \n",
       "0     Ruby color, offwhite coam. Aroma and taste: fl...            alex_leit  \n",
       "1     Disappointing show from the lads at ‘Britain’s...  shivermetimber.gray  \n",
       "2     Puszka. Mętne o żółtym kolorze. Piana biała,ob...              MarcinG  \n",
       "3     Bottle. Amber with bronze color and white foam...            alex_leit  \n",
       "4     Bottle. Aroma: English hops and malts with tof...            alex_leit  \n",
       "...                                                 ...                  ...  \n",
       "1510  21/10/2019\\nEquilibrio tra frutta, funk e legg...        TeLaDoIoGegia  \n",
       "1511  Yellow, not much haze. Tart, lemony, bit of pi...                Oakes  \n",
       "1512  Canette datée du 04/04/2020, bue après un mois...              Franckg  \n",
       "1513  473mL can, pours a clear pale golden blonde wi...              mcberko  \n",
       "1514  Can from Craft Shack. Pours clear, bright gold...             bhensonb  \n",
       "\n",
       "[13803 rows x 6 columns]"
      ]
     },
     "execution_count": 47,
     "metadata": {},
     "output_type": "execute_result"
    }
   ],
   "source": [
    "df"
   ]
  },
  {
   "cell_type": "code",
   "execution_count": 48,
   "metadata": {
    "ExecuteTime": {
     "end_time": "2020-05-05T16:13:11.899489Z",
     "start_time": "2020-05-05T16:13:11.678146Z"
    }
   },
   "outputs": [],
   "source": [
    "df.to_csv('all_reviews.csv',index=False)\n",
    "# df = pd.read_csv('all_reviews.csv')\n",
    "not_found_df = pd.read_csv(\"not_found.csv\")"
   ]
  },
  {
   "cell_type": "markdown",
   "metadata": {},
   "source": [
    "## Get more information on all of the beers - Selenium"
   ]
  },
  {
   "cell_type": "code",
   "execution_count": 49,
   "metadata": {
    "ExecuteTime": {
     "end_time": "2020-05-05T16:13:11.913723Z",
     "start_time": "2020-05-05T16:13:11.910036Z"
    }
   },
   "outputs": [],
   "source": [
    "from selenium import webdriver\n",
    "import time"
   ]
  },
  {
   "cell_type": "code",
   "execution_count": 50,
   "metadata": {
    "ExecuteTime": {
     "end_time": "2020-05-05T16:13:11.986258Z",
     "start_time": "2020-05-05T16:13:11.921653Z"
    }
   },
   "outputs": [],
   "source": [
    "# extract already scraped data from previous scrapes so don't rescrape\n",
    "beer_df = pd.read_csv('beer_deets.csv')"
   ]
  },
  {
   "cell_type": "code",
   "execution_count": 51,
   "metadata": {
    "ExecuteTime": {
     "end_time": "2020-05-05T16:13:12.030093Z",
     "start_time": "2020-05-05T16:13:11.996174Z"
    }
   },
   "outputs": [
    {
     "name": "stdout",
     "output_type": "stream",
     "text": [
      "There are 30 new beers to search for!\n"
     ]
    }
   ],
   "source": [
    "# compare to the unique list to create a new to-be-scraped list\n",
    "new_beer = df.beer_name[(~df.beer_name.isin(beer_df.name_found))&(~df.beer_name.isin(not_found_df.not_found))].unique()\n",
    "print(\"There are\", len(new_beer), \"new beers to search for!\")"
   ]
  },
  {
   "cell_type": "code",
   "execution_count": 52,
   "metadata": {
    "ExecuteTime": {
     "end_time": "2020-05-05T16:15:04.761134Z",
     "start_time": "2020-05-05T16:13:12.034070Z"
    }
   },
   "outputs": [
    {
     "data": {
      "application/vnd.jupyter.widget-view+json": {
       "model_id": "3657ccfada1c4ab0bc94dd7f0b620b17",
       "version_major": 2,
       "version_minor": 0
      },
      "text/plain": [
       "HBox(children=(FloatProgress(value=0.0, max=30.0), HTML(value='')))"
      ]
     },
     "metadata": {},
     "output_type": "display_data"
    },
    {
     "name": "stdout",
     "output_type": "stream",
     "text": [
      "\n"
     ]
    }
   ],
   "source": [
    "item_names = []\n",
    "desc_string = []\n",
    "\n",
    "driver = webdriver.Chrome(executable_path='/Users/lukebetham/Downloads/chromedriver')\n",
    "\n",
    "for beer in tqdm(new_beer):\n",
    "    driver.get(\"https://www.ratebeer.com/search?beername={}\".format(beer))\n",
    "    time.sleep(2)\n",
    "    item_tags = driver.find_elements_by_class_name('fg-1')\n",
    "\n",
    "    x=1\n",
    "    beer_temp = []\n",
    "    for item in item_tags:        \n",
    "        if x <2:\n",
    "            try:\n",
    "                item_names.append(item.find_element_by_class_name('fd-r').text)\n",
    "                x+=1\n",
    "            except:\n",
    "                pass\n",
    "            try:\n",
    "                beer_temp.append(item.text)\n",
    "            except:\n",
    "                pass\n",
    "    try:\n",
    "        desc_string.append(beer_temp[4])\n",
    "    except:\n",
    "        desc_string.append(None)\n",
    "\n",
    "driver.quit()"
   ]
  },
  {
   "cell_type": "code",
   "execution_count": 53,
   "metadata": {
    "ExecuteTime": {
     "end_time": "2020-05-05T16:15:04.786839Z",
     "start_time": "2020-05-05T16:15:04.766685Z"
    }
   },
   "outputs": [
    {
     "data": {
      "text/html": [
       "<div>\n",
       "<style scoped>\n",
       "    .dataframe tbody tr th:only-of-type {\n",
       "        vertical-align: middle;\n",
       "    }\n",
       "\n",
       "    .dataframe tbody tr th {\n",
       "        vertical-align: top;\n",
       "    }\n",
       "\n",
       "    .dataframe thead th {\n",
       "        text-align: right;\n",
       "    }\n",
       "</style>\n",
       "<table border=\"1\" class=\"dataframe\">\n",
       "  <thead>\n",
       "    <tr style=\"text-align: right;\">\n",
       "      <th></th>\n",
       "      <th>return_string</th>\n",
       "    </tr>\n",
       "  </thead>\n",
       "  <tbody>\n",
       "    <tr>\n",
       "      <th>0</th>\n",
       "      <td>Shacklands X Radical Road Parallel Universe (B...</td>\n",
       "    </tr>\n",
       "    <tr>\n",
       "      <th>1</th>\n",
       "      <td>Radical Road Hi-Fi\\n🇨🇦 IPA • 6.2%\\n-\\n-\\n3.20\\...</td>\n",
       "    </tr>\n",
       "    <tr>\n",
       "      <th>2</th>\n",
       "      <td>Radical Road Analog\\n🇨🇦 Sour / Wild Beer • 4.3...</td>\n",
       "    </tr>\n",
       "    <tr>\n",
       "      <th>3</th>\n",
       "      <td>Saulter Street Sublime Lime Wit\\n🇨🇦 Witbier / ...</td>\n",
       "    </tr>\n",
       "    <tr>\n",
       "      <th>4</th>\n",
       "      <td>Alpirsbacher Klosterbräu Kloster Helles\\n🇩🇪 He...</td>\n",
       "    </tr>\n",
       "    <tr>\n",
       "      <th>5</th>\n",
       "      <td>Pizza Port Sidewalk Surfin'\\n🇺🇸 IIPA DIPA - Im...</td>\n",
       "    </tr>\n",
       "    <tr>\n",
       "      <th>6</th>\n",
       "      <td>Hardywood GBS [Gingerbread Stout] (Bourbon Bar...</td>\n",
       "    </tr>\n",
       "    <tr>\n",
       "      <th>7</th>\n",
       "      <td>Saulter Street Raspberry Belgian\\n🇨🇦 Flavored ...</td>\n",
       "    </tr>\n",
       "    <tr>\n",
       "      <th>8</th>\n",
       "      <td>Saulter Street Riverside Pilsner\\n🇨🇦 Amber Lag...</td>\n",
       "    </tr>\n",
       "    <tr>\n",
       "      <th>9</th>\n",
       "      <td>3 Stars Huggy Bear\\n🇺🇸 Stout - Imperial • 8.3%...</td>\n",
       "    </tr>\n",
       "    <tr>\n",
       "      <th>10</th>\n",
       "      <td>J.W. Lees Summer Session Ale\\n🇬🇧 Blonde Ale / ...</td>\n",
       "    </tr>\n",
       "    <tr>\n",
       "      <th>11</th>\n",
       "      <td>Firestone Walker Mocha Merlin\\n🇺🇸 Stout - Flav...</td>\n",
       "    </tr>\n",
       "    <tr>\n",
       "      <th>12</th>\n",
       "      <td>Eastbound Revealed Constellations\\n🇨🇦 ISA - Se...</td>\n",
       "    </tr>\n",
       "    <tr>\n",
       "      <th>13</th>\n",
       "      <td>Adnams Jack Brand New England IPA\\n🇬🇧 IPA - Ha...</td>\n",
       "    </tr>\n",
       "    <tr>\n",
       "      <th>14</th>\n",
       "      <td>Eastbound Fresh Start Nugget APA\\n🇨🇦 Pale Ale ...</td>\n",
       "    </tr>\n",
       "    <tr>\n",
       "      <th>15</th>\n",
       "      <td>3 Stars Starsky and Nuts\\n🇺🇸 Stout - Imperial ...</td>\n",
       "    </tr>\n",
       "    <tr>\n",
       "      <th>16</th>\n",
       "      <td>Eastbound Hidden Lake\\n🇨🇦 Weissbier - Hefeweiz...</td>\n",
       "    </tr>\n",
       "    <tr>\n",
       "      <th>17</th>\n",
       "      <td>Saranac Black Forest\\n🇺🇸 Schwarzbier / Black L...</td>\n",
       "    </tr>\n",
       "    <tr>\n",
       "      <th>18</th>\n",
       "      <td>Eastbound Midnight Cow Tipper\\n🇨🇦 Stout - Milk...</td>\n",
       "    </tr>\n",
       "    <tr>\n",
       "      <th>19</th>\n",
       "      <td>Tröegs Nugget Nectar Ale\\n🇺🇸 IPA - Red • 7.5%\\...</td>\n",
       "    </tr>\n",
       "    <tr>\n",
       "      <th>20</th>\n",
       "      <td>Atwater Barrel-Aged VJ Black\\n🇺🇸 Stout - Imper...</td>\n",
       "    </tr>\n",
       "    <tr>\n",
       "      <th>21</th>\n",
       "      <td>Hermit Thrush 2018 Cuvée\\n🇺🇸 Sour / Wild Beer ...</td>\n",
       "    </tr>\n",
       "    <tr>\n",
       "      <th>22</th>\n",
       "      <td>Eastbound Moonless Night Oatmeal Stout\\n🇨🇦 Sto...</td>\n",
       "    </tr>\n",
       "    <tr>\n",
       "      <th>23</th>\n",
       "      <td>Eastbound Let's Go Exploring\\n🇨🇦 IPA • 6.1%\\n6...</td>\n",
       "    </tr>\n",
       "    <tr>\n",
       "      <th>24</th>\n",
       "      <td>Left Handed Giant Time Will Tell\\n🇬🇧 IPA • 7.3...</td>\n",
       "    </tr>\n",
       "    <tr>\n",
       "      <th>25</th>\n",
       "      <td>Scribblers Ales Ra\\n🇬🇧 Red Ale / Intl Amber Al...</td>\n",
       "    </tr>\n",
       "    <tr>\n",
       "      <th>26</th>\n",
       "      <td>Eastbound Racing The Sunset\\n🇨🇦 Witbier / Belg...</td>\n",
       "    </tr>\n",
       "    <tr>\n",
       "      <th>27</th>\n",
       "      <td>Logo\\nThe most comprehensive ratings and revie...</td>\n",
       "    </tr>\n",
       "    <tr>\n",
       "      <th>28</th>\n",
       "      <td>Grisette Triple Bio\\n🇧🇪 Saison / Farmhouse / G...</td>\n",
       "    </tr>\n",
       "    <tr>\n",
       "      <th>29</th>\n",
       "      <td>Cobra\\n🇬🇧 Pale Lager - North Am. / Light / Ric...</td>\n",
       "    </tr>\n",
       "  </tbody>\n",
       "</table>\n",
       "</div>"
      ],
      "text/plain": [
       "                                        return_string\n",
       "0   Shacklands X Radical Road Parallel Universe (B...\n",
       "1   Radical Road Hi-Fi\\n🇨🇦 IPA • 6.2%\\n-\\n-\\n3.20\\...\n",
       "2   Radical Road Analog\\n🇨🇦 Sour / Wild Beer • 4.3...\n",
       "3   Saulter Street Sublime Lime Wit\\n🇨🇦 Witbier / ...\n",
       "4   Alpirsbacher Klosterbräu Kloster Helles\\n🇩🇪 He...\n",
       "5   Pizza Port Sidewalk Surfin'\\n🇺🇸 IIPA DIPA - Im...\n",
       "6   Hardywood GBS [Gingerbread Stout] (Bourbon Bar...\n",
       "7   Saulter Street Raspberry Belgian\\n🇨🇦 Flavored ...\n",
       "8   Saulter Street Riverside Pilsner\\n🇨🇦 Amber Lag...\n",
       "9   3 Stars Huggy Bear\\n🇺🇸 Stout - Imperial • 8.3%...\n",
       "10  J.W. Lees Summer Session Ale\\n🇬🇧 Blonde Ale / ...\n",
       "11  Firestone Walker Mocha Merlin\\n🇺🇸 Stout - Flav...\n",
       "12  Eastbound Revealed Constellations\\n🇨🇦 ISA - Se...\n",
       "13  Adnams Jack Brand New England IPA\\n🇬🇧 IPA - Ha...\n",
       "14  Eastbound Fresh Start Nugget APA\\n🇨🇦 Pale Ale ...\n",
       "15  3 Stars Starsky and Nuts\\n🇺🇸 Stout - Imperial ...\n",
       "16  Eastbound Hidden Lake\\n🇨🇦 Weissbier - Hefeweiz...\n",
       "17  Saranac Black Forest\\n🇺🇸 Schwarzbier / Black L...\n",
       "18  Eastbound Midnight Cow Tipper\\n🇨🇦 Stout - Milk...\n",
       "19  Tröegs Nugget Nectar Ale\\n🇺🇸 IPA - Red • 7.5%\\...\n",
       "20  Atwater Barrel-Aged VJ Black\\n🇺🇸 Stout - Imper...\n",
       "21  Hermit Thrush 2018 Cuvée\\n🇺🇸 Sour / Wild Beer ...\n",
       "22  Eastbound Moonless Night Oatmeal Stout\\n🇨🇦 Sto...\n",
       "23  Eastbound Let's Go Exploring\\n🇨🇦 IPA • 6.1%\\n6...\n",
       "24  Left Handed Giant Time Will Tell\\n🇬🇧 IPA • 7.3...\n",
       "25  Scribblers Ales Ra\\n🇬🇧 Red Ale / Intl Amber Al...\n",
       "26  Eastbound Racing The Sunset\\n🇨🇦 Witbier / Belg...\n",
       "27  Logo\\nThe most comprehensive ratings and revie...\n",
       "28  Grisette Triple Bio\\n🇧🇪 Saison / Farmhouse / G...\n",
       "29  Cobra\\n🇬🇧 Pale Lager - North Am. / Light / Ric..."
      ]
     },
     "execution_count": 53,
     "metadata": {},
     "output_type": "execute_result"
    }
   ],
   "source": [
    "beer_deets = pd.DataFrame(desc_string, columns = ['return_string'])\n",
    "beer_deets"
   ]
  },
  {
   "cell_type": "code",
   "execution_count": 54,
   "metadata": {
    "ExecuteTime": {
     "end_time": "2020-05-05T16:15:04.814234Z",
     "start_time": "2020-05-05T16:15:04.797448Z"
    }
   },
   "outputs": [],
   "source": [
    "## cleaning the scraped data\n",
    "beer_deets.dropna(inplace=True)\n",
    "beer_deets = beer_deets[~beer_deets.return_string.str.startswith('Logo\\n')].copy()\n",
    "no_alcohol = beer_deets[~beer_deets.return_string.str.contains('%')].copy()\n",
    "beer_deets = beer_deets[beer_deets.return_string.str.contains('%')].copy()\n"
   ]
  },
  {
   "cell_type": "code",
   "execution_count": 55,
   "metadata": {
    "ExecuteTime": {
     "end_time": "2020-05-05T16:15:04.840868Z",
     "start_time": "2020-05-05T16:15:04.817555Z"
    }
   },
   "outputs": [],
   "source": [
    "# sorting the scraped data into columns\n",
    "beer_deets['name_found'] = beer_deets.return_string.apply(lambda x: x.split('\\n')[0].strip())\n",
    "beer_deets['flag'] = beer_deets.return_string.apply(lambda x: x.split('\\n')[1].split('•')[0].split(\" \")[0])\n",
    "beer_deets['type'] = beer_deets.return_string.apply(lambda x: x.split('\\n')[1].split('•')[0][2:])\n",
    "beer_deets['abv'] = beer_deets.return_string.apply(lambda x: float(x.split('\\n')[1].split('•')[1].replace(\"%\",\"\")))\n",
    "beer_deets['rb_overall_score'] = beer_deets.return_string.apply(lambda x: x.split('\\n')[2])\n",
    "beer_deets['rb_style_score'] = beer_deets.return_string.apply(lambda x: x.split('\\n')[3])\n",
    "beer_deets['rb_user_rating'] = beer_deets.return_string.apply(lambda x: x.split('\\n')[4])\n",
    "beer_deets['rb_rating_number'] = beer_deets.return_string.apply(lambda x: x.split('\\n')[5].replace(\"(\",\"\").replace(\")\",\"\"))\n"
   ]
  },
  {
   "cell_type": "code",
   "execution_count": 56,
   "metadata": {
    "ExecuteTime": {
     "end_time": "2020-05-05T16:15:04.886301Z",
     "start_time": "2020-05-05T16:15:04.842890Z"
    }
   },
   "outputs": [
    {
     "data": {
      "text/html": [
       "<div>\n",
       "<style scoped>\n",
       "    .dataframe tbody tr th:only-of-type {\n",
       "        vertical-align: middle;\n",
       "    }\n",
       "\n",
       "    .dataframe tbody tr th {\n",
       "        vertical-align: top;\n",
       "    }\n",
       "\n",
       "    .dataframe thead th {\n",
       "        text-align: right;\n",
       "    }\n",
       "</style>\n",
       "<table border=\"1\" class=\"dataframe\">\n",
       "  <thead>\n",
       "    <tr style=\"text-align: right;\">\n",
       "      <th></th>\n",
       "      <th>return_string</th>\n",
       "      <th>name_found</th>\n",
       "      <th>flag</th>\n",
       "      <th>type</th>\n",
       "      <th>abv</th>\n",
       "      <th>rb_overall_score</th>\n",
       "      <th>rb_style_score</th>\n",
       "      <th>rb_user_rating</th>\n",
       "      <th>rb_rating_number</th>\n",
       "    </tr>\n",
       "  </thead>\n",
       "  <tbody>\n",
       "  </tbody>\n",
       "</table>\n",
       "</div>"
      ],
      "text/plain": [
       "Empty DataFrame\n",
       "Columns: [return_string, name_found, flag, type, abv, rb_overall_score, rb_style_score, rb_user_rating, rb_rating_number]\n",
       "Index: []"
      ]
     },
     "execution_count": 56,
     "metadata": {},
     "output_type": "execute_result"
    }
   ],
   "source": [
    "# sorting the no alcohol measure\n",
    "no_alcohol['name_found'] = no_alcohol.return_string.apply(lambda x: x.split('\\n')[0].strip())\n",
    "no_alcohol['flag'] = no_alcohol.return_string.apply(lambda x: x.split('\\n')[1].split('•')[0].split(\" \")[0])\n",
    "no_alcohol['type'] = no_alcohol.return_string.apply(lambda x: x.split('\\n')[1].split('•')[0][2:])\n",
    "no_alcohol['abv'] = no_alcohol.type.apply(lambda x: 0 if x[-1] == '0' else None)\n",
    "no_alcohol['type'] = no_alcohol.type.apply(lambda x: x[:-1] if x[-1] == '0' else x)\n",
    "no_alcohol['check'] = no_alcohol.return_string.apply(lambda x: len(x.split('\\n')))\n",
    "no_alcohol = no_alcohol[no_alcohol['check']>4].copy()\n",
    "no_alcohol['rb_overall_score'] = no_alcohol.return_string.apply(lambda x: x.split('\\n')[2])\n",
    "no_alcohol['rb_style_score'] = no_alcohol.return_string.apply(lambda x: x.split('\\n')[3])\n",
    "no_alcohol['rb_user_rating'] = no_alcohol.return_string.apply(lambda x: x.split('\\n')[4])\n",
    "no_alcohol['rb_rating_number'] = no_alcohol.return_string.apply(lambda x: x.split('\\n')[5].replace(\"(\",\"\").replace(\")\",\"\"))\n",
    "no_alcohol.drop('check',inplace=True, axis=1)\n",
    "\n",
    "no_alcohol"
   ]
  },
  {
   "cell_type": "code",
   "execution_count": 57,
   "metadata": {
    "ExecuteTime": {
     "end_time": "2020-05-05T16:15:04.923637Z",
     "start_time": "2020-05-05T16:15:04.894338Z"
    }
   },
   "outputs": [],
   "source": [
    "beer_df = pd.concat([beer_df,beer_deets,no_alcohol])"
   ]
  },
  {
   "cell_type": "code",
   "execution_count": 58,
   "metadata": {
    "ExecuteTime": {
     "end_time": "2020-05-05T16:15:04.966228Z",
     "start_time": "2020-05-05T16:15:04.926311Z"
    }
   },
   "outputs": [
    {
     "data": {
      "text/html": [
       "<div>\n",
       "<style scoped>\n",
       "    .dataframe tbody tr th:only-of-type {\n",
       "        vertical-align: middle;\n",
       "    }\n",
       "\n",
       "    .dataframe tbody tr th {\n",
       "        vertical-align: top;\n",
       "    }\n",
       "\n",
       "    .dataframe thead th {\n",
       "        text-align: right;\n",
       "    }\n",
       "</style>\n",
       "<table border=\"1\" class=\"dataframe\">\n",
       "  <thead>\n",
       "    <tr style=\"text-align: right;\">\n",
       "      <th></th>\n",
       "      <th>return_string</th>\n",
       "      <th>flag</th>\n",
       "      <th>type</th>\n",
       "      <th>abv</th>\n",
       "      <th>rb_overall_score</th>\n",
       "      <th>rb_style_score</th>\n",
       "      <th>rb_user_rating</th>\n",
       "      <th>rb_rating_number</th>\n",
       "      <th>name_found</th>\n",
       "    </tr>\n",
       "  </thead>\n",
       "  <tbody>\n",
       "    <tr>\n",
       "      <th>0</th>\n",
       "      <td>St. Peter's Ruby Red Ale\\n🇬🇧 Bitter - Ordinary...</td>\n",
       "      <td>🇬🇧</td>\n",
       "      <td>Bitter - Ordinary / Best</td>\n",
       "      <td>4.3</td>\n",
       "      <td>49</td>\n",
       "      <td>95</td>\n",
       "      <td>3.25</td>\n",
       "      <td>415</td>\n",
       "      <td>St. Peter's Ruby Red Ale</td>\n",
       "    </tr>\n",
       "    <tr>\n",
       "      <th>1</th>\n",
       "      <td>Shepherd Neame Spitfire (Bottle)\\n🇬🇧 Bitter - ...</td>\n",
       "      <td>🇬🇧</td>\n",
       "      <td>Bitter - Ordinary / Best</td>\n",
       "      <td>4.5</td>\n",
       "      <td>34</td>\n",
       "      <td>59</td>\n",
       "      <td>3.05</td>\n",
       "      <td>1083</td>\n",
       "      <td>Shepherd Neame Spitfire (Bottle)</td>\n",
       "    </tr>\n",
       "    <tr>\n",
       "      <th>2</th>\n",
       "      <td>Arbor Rocketman\\n🇬🇧 IPA • 6.0%\\n95\\n97\\n3.74\\n...</td>\n",
       "      <td>🇬🇧</td>\n",
       "      <td>IPA</td>\n",
       "      <td>6.0</td>\n",
       "      <td>95</td>\n",
       "      <td>97</td>\n",
       "      <td>3.74</td>\n",
       "      <td>59</td>\n",
       "      <td>Arbor Rocketman</td>\n",
       "    </tr>\n",
       "    <tr>\n",
       "      <th>3</th>\n",
       "      <td>Shepherd Neame India Pale Ale (Bottle)\\n🇬🇧 IPA...</td>\n",
       "      <td>🇬🇧</td>\n",
       "      <td>IPA - English</td>\n",
       "      <td>6.1</td>\n",
       "      <td>46</td>\n",
       "      <td>47</td>\n",
       "      <td>3.22</td>\n",
       "      <td>420</td>\n",
       "      <td>Shepherd Neame India Pale Ale (Bottle)</td>\n",
       "    </tr>\n",
       "    <tr>\n",
       "      <th>4</th>\n",
       "      <td>Shepherd Neame Christmas Ale\\n🇬🇧 Strong Ale - ...</td>\n",
       "      <td>🇬🇧</td>\n",
       "      <td>Strong Ale - English</td>\n",
       "      <td>7.0</td>\n",
       "      <td>45</td>\n",
       "      <td>46</td>\n",
       "      <td>3.18</td>\n",
       "      <td>409</td>\n",
       "      <td>Shepherd Neame Christmas Ale</td>\n",
       "    </tr>\n",
       "    <tr>\n",
       "      <th>...</th>\n",
       "      <td>...</td>\n",
       "      <td>...</td>\n",
       "      <td>...</td>\n",
       "      <td>...</td>\n",
       "      <td>...</td>\n",
       "      <td>...</td>\n",
       "      <td>...</td>\n",
       "      <td>...</td>\n",
       "      <td>...</td>\n",
       "    </tr>\n",
       "    <tr>\n",
       "      <th>24</th>\n",
       "      <td>Left Handed Giant Time Will Tell\\n🇬🇧 IPA • 7.3...</td>\n",
       "      <td>🇬🇧</td>\n",
       "      <td>IPA</td>\n",
       "      <td>7.3</td>\n",
       "      <td>-</td>\n",
       "      <td>-</td>\n",
       "      <td>3.67</td>\n",
       "      <td>4</td>\n",
       "      <td>Left Handed Giant Time Will Tell</td>\n",
       "    </tr>\n",
       "    <tr>\n",
       "      <th>25</th>\n",
       "      <td>Scribblers Ales Ra\\n🇬🇧 Red Ale / Intl Amber Al...</td>\n",
       "      <td>🇬🇧</td>\n",
       "      <td>Red Ale / Intl Amber Ale</td>\n",
       "      <td>4.4</td>\n",
       "      <td>-</td>\n",
       "      <td>-</td>\n",
       "      <td>3.20</td>\n",
       "      <td>1</td>\n",
       "      <td>Scribblers Ales Ra</td>\n",
       "    </tr>\n",
       "    <tr>\n",
       "      <th>26</th>\n",
       "      <td>Eastbound Racing The Sunset\\n🇨🇦 Witbier / Belg...</td>\n",
       "      <td>🇨🇦</td>\n",
       "      <td>Witbier / Belgian White Ale</td>\n",
       "      <td>5.6</td>\n",
       "      <td>-</td>\n",
       "      <td>-</td>\n",
       "      <td>3.22</td>\n",
       "      <td>9</td>\n",
       "      <td>Eastbound Racing The Sunset</td>\n",
       "    </tr>\n",
       "    <tr>\n",
       "      <th>28</th>\n",
       "      <td>Grisette Triple Bio\\n🇧🇪 Saison / Farmhouse / G...</td>\n",
       "      <td>🇧🇪</td>\n",
       "      <td>Saison / Farmhouse / Grisette</td>\n",
       "      <td>8.0</td>\n",
       "      <td>30</td>\n",
       "      <td>7</td>\n",
       "      <td>3.20</td>\n",
       "      <td>19</td>\n",
       "      <td>Grisette Triple Bio</td>\n",
       "    </tr>\n",
       "    <tr>\n",
       "      <th>29</th>\n",
       "      <td>Cobra\\n🇬🇧 Pale Lager - North Am. / Light / Ric...</td>\n",
       "      <td>🇬🇧</td>\n",
       "      <td>Pale Lager - North Am. / Light / Rice</td>\n",
       "      <td>4.5</td>\n",
       "      <td>3</td>\n",
       "      <td>46</td>\n",
       "      <td>2.23</td>\n",
       "      <td>1153</td>\n",
       "      <td>Cobra</td>\n",
       "    </tr>\n",
       "  </tbody>\n",
       "</table>\n",
       "<p>8479 rows × 9 columns</p>\n",
       "</div>"
      ],
      "text/plain": [
       "                                        return_string flag  \\\n",
       "0   St. Peter's Ruby Red Ale\\n🇬🇧 Bitter - Ordinary...   🇬🇧   \n",
       "1   Shepherd Neame Spitfire (Bottle)\\n🇬🇧 Bitter - ...   🇬🇧   \n",
       "2   Arbor Rocketman\\n🇬🇧 IPA • 6.0%\\n95\\n97\\n3.74\\n...   🇬🇧   \n",
       "3   Shepherd Neame India Pale Ale (Bottle)\\n🇬🇧 IPA...   🇬🇧   \n",
       "4   Shepherd Neame Christmas Ale\\n🇬🇧 Strong Ale - ...   🇬🇧   \n",
       "..                                                ...  ...   \n",
       "24  Left Handed Giant Time Will Tell\\n🇬🇧 IPA • 7.3...   🇬🇧   \n",
       "25  Scribblers Ales Ra\\n🇬🇧 Red Ale / Intl Amber Al...   🇬🇧   \n",
       "26  Eastbound Racing The Sunset\\n🇨🇦 Witbier / Belg...   🇨🇦   \n",
       "28  Grisette Triple Bio\\n🇧🇪 Saison / Farmhouse / G...   🇧🇪   \n",
       "29  Cobra\\n🇬🇧 Pale Lager - North Am. / Light / Ric...   🇬🇧   \n",
       "\n",
       "                                       type  abv rb_overall_score  \\\n",
       "0                 Bitter - Ordinary / Best   4.3               49   \n",
       "1                 Bitter - Ordinary / Best   4.5               34   \n",
       "2                                      IPA   6.0               95   \n",
       "3                            IPA - English   6.1               46   \n",
       "4                     Strong Ale - English   7.0               45   \n",
       "..                                      ...  ...              ...   \n",
       "24                                     IPA   7.3                -   \n",
       "25                Red Ale / Intl Amber Ale   4.4                -   \n",
       "26             Witbier / Belgian White Ale   5.6                -   \n",
       "28           Saison / Farmhouse / Grisette   8.0               30   \n",
       "29   Pale Lager - North Am. / Light / Rice   4.5                3   \n",
       "\n",
       "   rb_style_score rb_user_rating rb_rating_number  \\\n",
       "0              95           3.25              415   \n",
       "1              59           3.05             1083   \n",
       "2              97           3.74               59   \n",
       "3              47           3.22              420   \n",
       "4              46           3.18              409   \n",
       "..            ...            ...              ...   \n",
       "24              -           3.67                4   \n",
       "25              -           3.20                1   \n",
       "26              -           3.22                9   \n",
       "28              7           3.20               19   \n",
       "29             46           2.23             1153   \n",
       "\n",
       "                                name_found  \n",
       "0                 St. Peter's Ruby Red Ale  \n",
       "1         Shepherd Neame Spitfire (Bottle)  \n",
       "2                          Arbor Rocketman  \n",
       "3   Shepherd Neame India Pale Ale (Bottle)  \n",
       "4             Shepherd Neame Christmas Ale  \n",
       "..                                     ...  \n",
       "24        Left Handed Giant Time Will Tell  \n",
       "25                      Scribblers Ales Ra  \n",
       "26             Eastbound Racing The Sunset  \n",
       "28                     Grisette Triple Bio  \n",
       "29                                   Cobra  \n",
       "\n",
       "[8479 rows x 9 columns]"
      ]
     },
     "execution_count": 58,
     "metadata": {},
     "output_type": "execute_result"
    }
   ],
   "source": [
    "beer_df"
   ]
  },
  {
   "cell_type": "code",
   "execution_count": 59,
   "metadata": {
    "ExecuteTime": {
     "end_time": "2020-05-05T16:15:05.004139Z",
     "start_time": "2020-05-05T16:15:04.970728Z"
    }
   },
   "outputs": [
    {
     "name": "stdout",
     "output_type": "stream",
     "text": [
      "There are 2 new beers that were not found or returned errors. They will be added to the no search list.\n"
     ]
    }
   ],
   "source": [
    "# compare to the unique list to create a new to-be-scraped list\n",
    "not_found_beer = df.beer_name[~df.beer_name.isin(beer_df.name_found)].unique()\n",
    "print(\"There are\", len(not_found_beer)-len(not_found_df), \"new beers that were not found or returned errors. They will be added to the no search list.\")\n",
    "not_found_df = pd.concat([not_found_df,pd.DataFrame(not_found_beer,columns = [\"not_found\"])])\n",
    "not_found_df.drop_duplicates(inplace=True)"
   ]
  },
  {
   "cell_type": "code",
   "execution_count": 60,
   "metadata": {
    "ExecuteTime": {
     "end_time": "2020-05-05T16:15:05.098092Z",
     "start_time": "2020-05-05T16:15:05.007551Z"
    }
   },
   "outputs": [],
   "source": [
    "beer_df.to_csv('beer_deets.csv',index=False)\n",
    "not_found_df.to_csv(\"not_found.csv\", index=False)"
   ]
  },
  {
   "cell_type": "code",
   "execution_count": null,
   "metadata": {
    "ExecuteTime": {
     "end_time": "2020-05-05T14:04:40.065563Z",
     "start_time": "2020-05-05T14:04:40.053981Z"
    }
   },
   "outputs": [],
   "source": []
  },
  {
   "cell_type": "code",
   "execution_count": null,
   "metadata": {},
   "outputs": [],
   "source": []
  }
 ],
 "metadata": {
  "kernelspec": {
   "display_name": "Python 3",
   "language": "python",
   "name": "python3"
  },
  "language_info": {
   "codemirror_mode": {
    "name": "ipython",
    "version": 3
   },
   "file_extension": ".py",
   "mimetype": "text/x-python",
   "name": "python",
   "nbconvert_exporter": "python",
   "pygments_lexer": "ipython3",
   "version": "3.7.1"
  },
  "toc": {
   "base_numbering": 1,
   "nav_menu": {},
   "number_sections": true,
   "sideBar": true,
   "skip_h1_title": false,
   "title_cell": "Table of Contents",
   "title_sidebar": "Contents",
   "toc_cell": false,
   "toc_position": {},
   "toc_section_display": true,
   "toc_window_display": false
  },
  "varInspector": {
   "cols": {
    "lenName": 16,
    "lenType": 16,
    "lenVar": 40
   },
   "kernels_config": {
    "python": {
     "delete_cmd_postfix": "",
     "delete_cmd_prefix": "del ",
     "library": "var_list.py",
     "varRefreshCmd": "print(var_dic_list())"
    },
    "r": {
     "delete_cmd_postfix": ") ",
     "delete_cmd_prefix": "rm(",
     "library": "var_list.r",
     "varRefreshCmd": "cat(var_dic_list()) "
    }
   },
   "types_to_exclude": [
    "module",
    "function",
    "builtin_function_or_method",
    "instance",
    "_Feature"
   ],
   "window_display": false
  }
 },
 "nbformat": 4,
 "nbformat_minor": 4
}
