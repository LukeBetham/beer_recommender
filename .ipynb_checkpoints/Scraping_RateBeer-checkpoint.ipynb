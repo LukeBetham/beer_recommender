{
 "cells": [
  {
   "cell_type": "code",
   "execution_count": 1,
   "metadata": {
    "ExecuteTime": {
     "end_time": "2020-07-23T08:54:02.835214Z",
     "start_time": "2020-07-23T08:54:00.410258Z"
    }
   },
   "outputs": [],
   "source": [
    "import requests\n",
    "import bs4\n",
    "from bs4 import BeautifulSoup\n",
    "import pandas as pd\n",
    "import re\n",
    "from tqdm.notebook import tqdm\n",
    "import matplotlib.pyplot as plt\n",
    "import seaborn as sns"
   ]
  },
  {
   "cell_type": "markdown",
   "metadata": {},
   "source": [
    "## Code which scrapes the recently reviews (only 100 pages - 1,400 reviews)"
   ]
  },
  {
   "cell_type": "code",
   "execution_count": 2,
   "metadata": {
    "ExecuteTime": {
     "end_time": "2020-07-23T08:54:02.852581Z",
     "start_time": "2020-07-23T08:54:02.838623Z"
    }
   },
   "outputs": [],
   "source": [
    "\n",
    "def ratebeer_scraper(page_start=1, page_end=2, url_set=None):\n",
    "    \n",
    "    beer_name = []\n",
    "    beer_rating = []\n",
    "    brewery_name = []\n",
    "    brewery_location = []\n",
    "    review_content = []\n",
    "    reviewer_name = []\n",
    " \n",
    "    if url_set == None:\n",
    "        print(\"Need url to run\")\n",
    "        return\n",
    "\n",
    "    for x in tqdm(range(page_start, page_end + 1)):\n",
    "        try:\n",
    "            url_format = url_set.format(x)\n",
    "            r = requests.get(url_format)\n",
    "            soup = BeautifulSoup(r.text, 'html.parser')\n",
    "            table = soup.find('table', attrs={'class': 'table'})\n",
    "            table_rows = table.find_all('tr')\n",
    "\n",
    "            for rows in table_rows:\n",
    "\n",
    "            # Scrape Beer Name    \n",
    "                try:\n",
    "                    beer_name.append(rows.find('a', attrs={'style':'font-size:20px; font-weight:bold;'}).text)\n",
    "                except:\n",
    "                    beer_name.append(None)\n",
    "            # Scrape Review Rating  \n",
    "                try:\n",
    "                    beer_rating.append(rows.find('span', attrs={'class':'uas'}).text)\n",
    "                except:\n",
    "                    beer_rating.append(None)\n",
    "            # Scrape Brewery Name  \n",
    "                try:\n",
    "                    brewery_div = rows.find('div')\n",
    "                    brewery_name.append(brewery_div.a.text)\n",
    "                except:\n",
    "                    brewery_name.append(None)\n",
    "            # Scrape Brewery Location\n",
    "                try:\n",
    "                    brewery_location.append(rows.find('span', attrs={'class':'small'}).text.strip())\n",
    "                except:\n",
    "                    brewery_location.append(None)\n",
    "            # Scrape Reviewer Name\n",
    "                try:\n",
    "                    reviewer_name.append(rows.find('span', attrs={'class':'pull-right'}).text.strip())\n",
    "                except:\n",
    "                    reviewer_name.append(None)\n",
    "            # Scrape content\n",
    "                try:\n",
    "                    review_content.append(rows.find('div', attrs={'style':\"color:#666;\"}).text.strip())\n",
    "                except:\n",
    "                    review_content.append(None)\n",
    "        except:\n",
    "            pass\n",
    "\n",
    "    beerz = pd.DataFrame({'beer_name': beer_name,\n",
    "                         'beer_rating': beer_rating,\n",
    "                        'brewery_name': brewery_name,\n",
    "                         'brewery_location': brewery_location,\n",
    "                        'review_content': review_content,\n",
    "                        'reviewer_name': reviewer_name})\n",
    "    return beerz\n",
    "\n"
   ]
  },
  {
   "cell_type": "code",
   "execution_count": 3,
   "metadata": {
    "ExecuteTime": {
     "end_time": "2020-07-23T08:58:16.943687Z",
     "start_time": "2020-07-23T08:54:02.856112Z"
    }
   },
   "outputs": [
    {
     "data": {
      "application/vnd.jupyter.widget-view+json": {
       "model_id": "9c1d74547c9843eeac79014592c408a4",
       "version_major": 2,
       "version_minor": 0
      },
      "text/plain": [
       "HBox(children=(FloatProgress(value=0.0, max=101.0), HTML(value='')))"
      ]
     },
     "metadata": {},
     "output_type": "display_data"
    },
    {
     "name": "stdout",
     "output_type": "stream",
     "text": [
      "\n"
     ]
    },
    {
     "data": {
      "application/vnd.jupyter.widget-view+json": {
       "model_id": "3d6c0275fbc54539ac75ff79677dc226",
       "version_major": 2,
       "version_minor": 0
      },
      "text/plain": [
       "HBox(children=(FloatProgress(value=0.0, max=11.0), HTML(value='')))"
      ]
     },
     "metadata": {},
     "output_type": "display_data"
    },
    {
     "name": "stdout",
     "output_type": "stream",
     "text": [
      "\n"
     ]
    },
    {
     "data": {
      "application/vnd.jupyter.widget-view+json": {
       "model_id": "069865522fd44914a9a79ba3f6b55c8d",
       "version_major": 2,
       "version_minor": 0
      },
      "text/plain": [
       "HBox(children=(FloatProgress(value=0.0, max=51.0), HTML(value='')))"
      ]
     },
     "metadata": {},
     "output_type": "display_data"
    },
    {
     "name": "stdout",
     "output_type": "stream",
     "text": [
      "\n"
     ]
    },
    {
     "data": {
      "application/vnd.jupyter.widget-view+json": {
       "model_id": "e0b57bbf1cc0432a9818f1e15f235b14",
       "version_major": 2,
       "version_minor": 0
      },
      "text/plain": [
       "HBox(children=(FloatProgress(value=0.0, max=51.0), HTML(value='')))"
      ]
     },
     "metadata": {},
     "output_type": "display_data"
    },
    {
     "name": "stdout",
     "output_type": "stream",
     "text": [
      "\n"
     ]
    },
    {
     "data": {
      "application/vnd.jupyter.widget-view+json": {
       "model_id": "c90b2f562d354dc79f88755c17ff226b",
       "version_major": 2,
       "version_minor": 0
      },
      "text/plain": [
       "HBox(children=(FloatProgress(value=0.0, max=51.0), HTML(value='')))"
      ]
     },
     "metadata": {},
     "output_type": "display_data"
    },
    {
     "name": "stdout",
     "output_type": "stream",
     "text": [
      "\n"
     ]
    },
    {
     "data": {
      "application/vnd.jupyter.widget-view+json": {
       "model_id": "768ffa49602d4ec5afba843704f7dcde",
       "version_major": 2,
       "version_minor": 0
      },
      "text/plain": [
       "HBox(children=(FloatProgress(value=0.0, max=51.0), HTML(value='')))"
      ]
     },
     "metadata": {},
     "output_type": "display_data"
    },
    {
     "name": "stdout",
     "output_type": "stream",
     "text": [
      "\n"
     ]
    }
   ],
   "source": [
    "# Scraping most recent reviews\n",
    "url = 'https://www.ratebeer.com/beer-ratings/0/{}/'\n",
    "df_recent = ratebeer_scraper(0,100,url)\n",
    "\n",
    "# Scraping new beers\n",
    "url = 'https://www.ratebeer.com/beer-ratings/5/{}/'\n",
    "df_new = ratebeer_scraper(0,10,url)\n",
    "\n",
    "# Scraping fave beers\n",
    "url = 'https://www.ratebeer.com/beer-ratings/4/{}/'\n",
    "df_fave = ratebeer_scraper(0,50,url)\n",
    "\n",
    "# Scraping rave beers\n",
    "url = 'https://www.ratebeer.com/beer-ratings/1/{}/'\n",
    "df_rave = ratebeer_scraper(0,50,url)\n",
    "\n",
    "# Scraping rant beers\n",
    "url = 'https://www.ratebeer.com/beer-ratings/2/{}/'\n",
    "df_rant = ratebeer_scraper(0,50,url)\n",
    "\n",
    "# Scraping anomalous beers\n",
    "url = 'https://www.ratebeer.com/beer-ratings/3/{}/'\n",
    "df_anom = ratebeer_scraper(0,50,url)"
   ]
  },
  {
   "cell_type": "code",
   "execution_count": 4,
   "metadata": {
    "ExecuteTime": {
     "end_time": "2020-07-23T08:58:17.029479Z",
     "start_time": "2020-07-23T08:58:16.964753Z"
    }
   },
   "outputs": [],
   "source": [
    "# getting rid of non-ascii characters from the reviews as it breaks csv\n",
    "\n",
    "df_recent.review_content = df_recent.review_content.apply(lambda x: x.encode('ascii', 'ignore').decode('ascii'))\n",
    "df_new.review_content = df_new.review_content.apply(lambda x: x.encode('ascii', 'ignore').decode('ascii'))\n",
    "df_rave.review_content = df_rave.review_content.apply(lambda x: x.encode('ascii', 'ignore').decode('ascii'))\n",
    "df_fave.review_content = df_fave.review_content.apply(lambda x: x.encode('ascii', 'ignore').decode('ascii'))\n",
    "df_rant.review_content = df_rant.review_content.apply(lambda x: x.encode('ascii', 'ignore').decode('ascii'))\n",
    "df_anom.review_content = df_anom.review_content.apply(lambda x: x.encode('ascii', 'ignore').decode('ascii'))\n"
   ]
  },
  {
   "cell_type": "code",
   "execution_count": 5,
   "metadata": {
    "ExecuteTime": {
     "end_time": "2020-07-23T08:58:17.443947Z",
     "start_time": "2020-07-23T08:58:17.037770Z"
    }
   },
   "outputs": [],
   "source": [
    "# read current data from csv (there is a backup at all_reviews_backup.csv)\n",
    "df = pd.read_csv('all_reviews.csv')"
   ]
  },
  {
   "cell_type": "code",
   "execution_count": 6,
   "metadata": {
    "ExecuteTime": {
     "end_time": "2020-07-23T08:58:17.599510Z",
     "start_time": "2020-07-23T08:58:17.451844Z"
    }
   },
   "outputs": [
    {
     "name": "stdout",
     "output_type": "stream",
     "text": [
      "53843\n",
      "50252\n"
     ]
    }
   ],
   "source": [
    "# concatenating all of the scrapes together with the old df\n",
    "try:\n",
    "    df = pd.concat([df, df_recent, df_new, df_fave, df_rave, df_rant, df_anom])\n",
    "except:\n",
    "    df = pd.concat([df, df_recent])\n",
    "print(len(df))\n",
    "df.drop_duplicates(inplace=True)\n",
    "print(len(df))\n",
    "df.beer_name = df.beer_name.apply(lambda x: x.strip())\n",
    "\n"
   ]
  },
  {
   "cell_type": "code",
   "execution_count": 7,
   "metadata": {
    "ExecuteTime": {
     "end_time": "2020-07-23T08:58:17.628701Z",
     "start_time": "2020-07-23T08:58:17.602392Z"
    }
   },
   "outputs": [
    {
     "data": {
      "text/html": [
       "<div>\n",
       "<style scoped>\n",
       "    .dataframe tbody tr th:only-of-type {\n",
       "        vertical-align: middle;\n",
       "    }\n",
       "\n",
       "    .dataframe tbody tr th {\n",
       "        vertical-align: top;\n",
       "    }\n",
       "\n",
       "    .dataframe thead th {\n",
       "        text-align: right;\n",
       "    }\n",
       "</style>\n",
       "<table border=\"1\" class=\"dataframe\">\n",
       "  <thead>\n",
       "    <tr style=\"text-align: right;\">\n",
       "      <th></th>\n",
       "      <th>beer_name</th>\n",
       "      <th>beer_rating</th>\n",
       "      <th>brewery_location</th>\n",
       "      <th>brewery_name</th>\n",
       "      <th>review_content</th>\n",
       "      <th>reviewer_name</th>\n",
       "    </tr>\n",
       "  </thead>\n",
       "  <tbody>\n",
       "    <tr>\n",
       "      <th>0</th>\n",
       "      <td>St. Peter's Ruby Red Ale</td>\n",
       "      <td>3.3</td>\n",
       "      <td>Bungay, Suffolk</td>\n",
       "      <td>St. Peter's Brewery</td>\n",
       "      <td>Ruby color, offwhite coam. Aroma and taste: fl...</td>\n",
       "      <td>alex_leit</td>\n",
       "    </tr>\n",
       "    <tr>\n",
       "      <th>1</th>\n",
       "      <td>Shepherd Neame Spitfire (Bottle)</td>\n",
       "      <td>2.2</td>\n",
       "      <td>Faversham, Kent</td>\n",
       "      <td>Shepherd Neame</td>\n",
       "      <td>Disappointing show from the lads at ‘Britain’s...</td>\n",
       "      <td>shivermetimber.gray</td>\n",
       "    </tr>\n",
       "    <tr>\n",
       "      <th>2</th>\n",
       "      <td>Arbor Rocketman</td>\n",
       "      <td>3.8</td>\n",
       "      <td>Bristol, Gloucestershire</td>\n",
       "      <td>Arbor Ales</td>\n",
       "      <td>Puszka. Mętne o żółtym kolorze. Piana biała,ob...</td>\n",
       "      <td>MarcinG</td>\n",
       "    </tr>\n",
       "    <tr>\n",
       "      <th>3</th>\n",
       "      <td>Shepherd Neame India Pale Ale (Bottle)</td>\n",
       "      <td>3.4</td>\n",
       "      <td>Faversham, Kent</td>\n",
       "      <td>Shepherd Neame</td>\n",
       "      <td>Bottle. Amber with bronze color and white foam...</td>\n",
       "      <td>alex_leit</td>\n",
       "    </tr>\n",
       "    <tr>\n",
       "      <th>4</th>\n",
       "      <td>Shepherd Neame Christmas Ale</td>\n",
       "      <td>3.3</td>\n",
       "      <td>Faversham, Kent</td>\n",
       "      <td>Shepherd Neame</td>\n",
       "      <td>Bottle. Aroma: English hops and malts with tof...</td>\n",
       "      <td>alex_leit</td>\n",
       "    </tr>\n",
       "    <tr>\n",
       "      <th>...</th>\n",
       "      <td>...</td>\n",
       "      <td>...</td>\n",
       "      <td>...</td>\n",
       "      <td>...</td>\n",
       "      <td>...</td>\n",
       "      <td>...</td>\n",
       "    </tr>\n",
       "    <tr>\n",
       "      <th>760</th>\n",
       "      <td>Revolution Every Day Hero</td>\n",
       "      <td>1.8</td>\n",
       "      <td>-1.6</td>\n",
       "      <td>Revolution Brewing Company (IL, USA)</td>\n",
       "      <td>I'm so tired of these hero beers, they all pre...</td>\n",
       "      <td>cheap</td>\n",
       "    </tr>\n",
       "    <tr>\n",
       "      <th>761</th>\n",
       "      <td>Manns Brown Ale</td>\n",
       "      <td>1.0</td>\n",
       "      <td>-1.8</td>\n",
       "      <td>Marston's (Carlsberg Marston's Brewing Co.)</td>\n",
       "      <td>What a disaster. Watery toffee taste. Is this ...</td>\n",
       "      <td>schenk</td>\n",
       "    </tr>\n",
       "    <tr>\n",
       "      <th>762</th>\n",
       "      <td>Flensburger Gold</td>\n",
       "      <td>4.0</td>\n",
       "      <td>+1.5</td>\n",
       "      <td>Flensburger Brauerei</td>\n",
       "      <td>First off. These people are off their rocker. ...</td>\n",
       "      <td>HourGlass13</td>\n",
       "    </tr>\n",
       "    <tr>\n",
       "      <th>763</th>\n",
       "      <td>Big Brother Original Hard Root Beer</td>\n",
       "      <td>0.8</td>\n",
       "      <td>-2.5</td>\n",
       "      <td>City Brewery (La Crosse Plant)</td>\n",
       "      <td>This root beer doesnt taste like a root beer. ...</td>\n",
       "      <td>MeadPours67</td>\n",
       "    </tr>\n",
       "    <tr>\n",
       "      <th>764</th>\n",
       "      <td>Ballast Point Victory At Sea - High West Barrel</td>\n",
       "      <td>2.0</td>\n",
       "      <td>-2.1</td>\n",
       "      <td>Ballast Point Brewing Company (Kings &amp; Convicts)</td>\n",
       "      <td>Har svrt med imperial porter. Men god rund sma...</td>\n",
       "      <td>hatten</td>\n",
       "    </tr>\n",
       "  </tbody>\n",
       "</table>\n",
       "<p>50252 rows × 6 columns</p>\n",
       "</div>"
      ],
      "text/plain": [
       "                                           beer_name beer_rating  \\\n",
       "0                           St. Peter's Ruby Red Ale         3.3   \n",
       "1                   Shepherd Neame Spitfire (Bottle)         2.2   \n",
       "2                                    Arbor Rocketman         3.8   \n",
       "3             Shepherd Neame India Pale Ale (Bottle)         3.4   \n",
       "4                       Shepherd Neame Christmas Ale         3.3   \n",
       "..                                               ...         ...   \n",
       "760                        Revolution Every Day Hero         1.8   \n",
       "761                                  Manns Brown Ale         1.0   \n",
       "762                                 Flensburger Gold         4.0   \n",
       "763              Big Brother Original Hard Root Beer         0.8   \n",
       "764  Ballast Point Victory At Sea - High West Barrel         2.0   \n",
       "\n",
       "             brewery_location  \\\n",
       "0             Bungay, Suffolk   \n",
       "1             Faversham, Kent   \n",
       "2    Bristol, Gloucestershire   \n",
       "3             Faversham, Kent   \n",
       "4             Faversham, Kent   \n",
       "..                        ...   \n",
       "760                      -1.6   \n",
       "761                      -1.8   \n",
       "762                      +1.5   \n",
       "763                      -2.5   \n",
       "764                      -2.1   \n",
       "\n",
       "                                         brewery_name  \\\n",
       "0                                 St. Peter's Brewery   \n",
       "1                                      Shepherd Neame   \n",
       "2                                          Arbor Ales   \n",
       "3                                      Shepherd Neame   \n",
       "4                                      Shepherd Neame   \n",
       "..                                                ...   \n",
       "760              Revolution Brewing Company (IL, USA)   \n",
       "761       Marston's (Carlsberg Marston's Brewing Co.)   \n",
       "762                              Flensburger Brauerei   \n",
       "763                    City Brewery (La Crosse Plant)   \n",
       "764  Ballast Point Brewing Company (Kings & Convicts)   \n",
       "\n",
       "                                        review_content        reviewer_name  \n",
       "0    Ruby color, offwhite coam. Aroma and taste: fl...            alex_leit  \n",
       "1    Disappointing show from the lads at ‘Britain’s...  shivermetimber.gray  \n",
       "2    Puszka. Mętne o żółtym kolorze. Piana biała,ob...              MarcinG  \n",
       "3    Bottle. Amber with bronze color and white foam...            alex_leit  \n",
       "4    Bottle. Aroma: English hops and malts with tof...            alex_leit  \n",
       "..                                                 ...                  ...  \n",
       "760  I'm so tired of these hero beers, they all pre...                cheap  \n",
       "761  What a disaster. Watery toffee taste. Is this ...               schenk  \n",
       "762  First off. These people are off their rocker. ...          HourGlass13  \n",
       "763  This root beer doesnt taste like a root beer. ...          MeadPours67  \n",
       "764  Har svrt med imperial porter. Men god rund sma...               hatten  \n",
       "\n",
       "[50252 rows x 6 columns]"
      ]
     },
     "execution_count": 7,
     "metadata": {},
     "output_type": "execute_result"
    }
   ],
   "source": [
    "df"
   ]
  },
  {
   "cell_type": "code",
   "execution_count": 8,
   "metadata": {
    "ExecuteTime": {
     "end_time": "2020-07-23T08:58:18.378487Z",
     "start_time": "2020-07-23T08:58:17.637445Z"
    }
   },
   "outputs": [],
   "source": [
    "df.to_csv('all_reviews.csv',index=False)\n",
    "# df = pd.read_csv('all_reviews.csv')\n",
    "not_found_df = pd.read_csv(\"not_found.csv\")"
   ]
  },
  {
   "cell_type": "markdown",
   "metadata": {},
   "source": [
    "## Get more information on all of the beers - Selenium"
   ]
  },
  {
   "cell_type": "code",
   "execution_count": 9,
   "metadata": {
    "ExecuteTime": {
     "end_time": "2020-07-23T08:58:18.540250Z",
     "start_time": "2020-07-23T08:58:18.385144Z"
    }
   },
   "outputs": [],
   "source": [
    "from selenium import webdriver\n",
    "import time"
   ]
  },
  {
   "cell_type": "code",
   "execution_count": 10,
   "metadata": {
    "ExecuteTime": {
     "end_time": "2020-07-23T08:58:18.674652Z",
     "start_time": "2020-07-23T08:58:18.543617Z"
    }
   },
   "outputs": [],
   "source": [
    "# extract already scraped data from previous scrapes so don't rescrape\n",
    "beer_df = pd.read_csv('beer_deets.csv')"
   ]
  },
  {
   "cell_type": "code",
   "execution_count": 11,
   "metadata": {
    "ExecuteTime": {
     "end_time": "2020-07-23T08:58:18.771724Z",
     "start_time": "2020-07-23T08:58:18.736336Z"
    }
   },
   "outputs": [
    {
     "name": "stdout",
     "output_type": "stream",
     "text": [
      "There are 946 new beers to search for!\n"
     ]
    }
   ],
   "source": [
    "# compare to the unique list to create a new to-be-scraped list\n",
    "new_beer = df.beer_name[(~df.beer_name.isin(beer_df.name_found))&(~df.beer_name.isin(not_found_df.not_found))].unique()\n",
    "print(\"There are\", len(new_beer), \"new beers to search for!\")"
   ]
  },
  {
   "cell_type": "code",
   "execution_count": 12,
   "metadata": {
    "ExecuteTime": {
     "end_time": "2020-07-23T09:46:50.915216Z",
     "start_time": "2020-07-23T08:58:18.776855Z"
    }
   },
   "outputs": [
    {
     "data": {
      "application/vnd.jupyter.widget-view+json": {
       "model_id": "d85caa9c16e749c6b50db1668d43cc57",
       "version_major": 2,
       "version_minor": 0
      },
      "text/plain": [
       "HBox(children=(FloatProgress(value=0.0, max=946.0), HTML(value='')))"
      ]
     },
     "metadata": {},
     "output_type": "display_data"
    },
    {
     "name": "stdout",
     "output_type": "stream",
     "text": [
      "\n"
     ]
    }
   ],
   "source": [
    "item_names = []\n",
    "desc_string = []\n",
    "\n",
    "driver = webdriver.Chrome(executable_path='/Users/lukebetham/Downloads/chromedriver')\n",
    "\n",
    "for beer in tqdm(new_beer):\n",
    "    driver.get(\"https://www.ratebeer.com/search?beername={}\".format(beer))\n",
    "    time.sleep(2)\n",
    "    item_tags = driver.find_elements_by_class_name('fg-1')\n",
    "\n",
    "    x=1\n",
    "    beer_temp = []\n",
    "    for item in item_tags:        \n",
    "        if x <2:\n",
    "            try:\n",
    "                item_names.append(item.find_element_by_class_name('fd-r').text)\n",
    "                x+=1\n",
    "            except:\n",
    "                pass\n",
    "            try:\n",
    "                beer_temp.append(item.text)\n",
    "            except:\n",
    "                pass\n",
    "    try:\n",
    "        desc_string.append(beer_temp[4])\n",
    "    except:\n",
    "        desc_string.append(None)\n",
    "\n",
    "driver.quit()"
   ]
  },
  {
   "cell_type": "code",
   "execution_count": 13,
   "metadata": {
    "ExecuteTime": {
     "end_time": "2020-07-23T09:46:51.167158Z",
     "start_time": "2020-07-23T09:46:50.958253Z"
    }
   },
   "outputs": [
    {
     "data": {
      "text/html": [
       "<div>\n",
       "<style scoped>\n",
       "    .dataframe tbody tr th:only-of-type {\n",
       "        vertical-align: middle;\n",
       "    }\n",
       "\n",
       "    .dataframe tbody tr th {\n",
       "        vertical-align: top;\n",
       "    }\n",
       "\n",
       "    .dataframe thead th {\n",
       "        text-align: right;\n",
       "    }\n",
       "</style>\n",
       "<table border=\"1\" class=\"dataframe\">\n",
       "  <thead>\n",
       "    <tr style=\"text-align: right;\">\n",
       "      <th></th>\n",
       "      <th>return_string</th>\n",
       "    </tr>\n",
       "  </thead>\n",
       "  <tbody>\n",
       "    <tr>\n",
       "      <th>0</th>\n",
       "      <td>Squawk Corvus\\n🇬🇧 Stout • 7.4%\\n86\\n92\\n3.54\\n...</td>\n",
       "    </tr>\n",
       "    <tr>\n",
       "      <th>1</th>\n",
       "      <td>Hydes Provenance Hokkaido\\n🇬🇧 Pale Ale • 4.0%\\...</td>\n",
       "    </tr>\n",
       "    <tr>\n",
       "      <th>2</th>\n",
       "      <td>Siboire Presta\\n🇨🇦 IPA - Hazy / NEIPA • 6.5%\\n...</td>\n",
       "    </tr>\n",
       "    <tr>\n",
       "      <th>3</th>\n",
       "      <td>Joules Green Monkey\\n🇬🇧 Pale Lager - North Am....</td>\n",
       "    </tr>\n",
       "    <tr>\n",
       "      <th>4</th>\n",
       "      <td>Joules Hawaii Five-Joe\\n🇬🇧 Pale Ale - American...</td>\n",
       "    </tr>\n",
       "    <tr>\n",
       "      <th>...</th>\n",
       "      <td>...</td>\n",
       "    </tr>\n",
       "    <tr>\n",
       "      <th>941</th>\n",
       "      <td>Barn Owl Arlo's Honey Brown Ale\\n🇨🇦 Brown Ale ...</td>\n",
       "    </tr>\n",
       "    <tr>\n",
       "      <th>942</th>\n",
       "      <td>Harboe Pilsner Non-Alcoholic\\n🇩🇰 Low / No Alco...</td>\n",
       "    </tr>\n",
       "    <tr>\n",
       "      <th>943</th>\n",
       "      <td>Bud Light Lime Guav-A-Rita\\n🇺🇸 Flavored - Frui...</td>\n",
       "    </tr>\n",
       "    <tr>\n",
       "      <th>944</th>\n",
       "      <td>Castlemaine XXXX (UK)\\n🇬🇧 Pale Lager - Intl / ...</td>\n",
       "    </tr>\n",
       "    <tr>\n",
       "      <th>945</th>\n",
       "      <td>La Tour à Bières Blanche du Fjord\\n🇨🇦 Witbier ...</td>\n",
       "    </tr>\n",
       "  </tbody>\n",
       "</table>\n",
       "<p>946 rows × 1 columns</p>\n",
       "</div>"
      ],
      "text/plain": [
       "                                         return_string\n",
       "0    Squawk Corvus\\n🇬🇧 Stout • 7.4%\\n86\\n92\\n3.54\\n...\n",
       "1    Hydes Provenance Hokkaido\\n🇬🇧 Pale Ale • 4.0%\\...\n",
       "2    Siboire Presta\\n🇨🇦 IPA - Hazy / NEIPA • 6.5%\\n...\n",
       "3    Joules Green Monkey\\n🇬🇧 Pale Lager - North Am....\n",
       "4    Joules Hawaii Five-Joe\\n🇬🇧 Pale Ale - American...\n",
       "..                                                 ...\n",
       "941  Barn Owl Arlo's Honey Brown Ale\\n🇨🇦 Brown Ale ...\n",
       "942  Harboe Pilsner Non-Alcoholic\\n🇩🇰 Low / No Alco...\n",
       "943  Bud Light Lime Guav-A-Rita\\n🇺🇸 Flavored - Frui...\n",
       "944  Castlemaine XXXX (UK)\\n🇬🇧 Pale Lager - Intl / ...\n",
       "945  La Tour à Bières Blanche du Fjord\\n🇨🇦 Witbier ...\n",
       "\n",
       "[946 rows x 1 columns]"
      ]
     },
     "execution_count": 13,
     "metadata": {},
     "output_type": "execute_result"
    }
   ],
   "source": [
    "beer_deets = pd.DataFrame(desc_string, columns = ['return_string'])\n",
    "beer_deets"
   ]
  },
  {
   "cell_type": "code",
   "execution_count": 14,
   "metadata": {
    "ExecuteTime": {
     "end_time": "2020-07-23T09:46:51.261210Z",
     "start_time": "2020-07-23T09:46:51.169758Z"
    }
   },
   "outputs": [],
   "source": [
    "## cleaning the scraped data\n",
    "beer_deets.dropna(inplace=True)\n",
    "beer_deets = beer_deets[~beer_deets.return_string.str.startswith('Logo\\n')].copy()\n",
    "no_alcohol = beer_deets[~beer_deets.return_string.str.contains('%')].copy()\n",
    "beer_deets = beer_deets[beer_deets.return_string.str.contains('%')].copy()\n"
   ]
  },
  {
   "cell_type": "code",
   "execution_count": 15,
   "metadata": {
    "ExecuteTime": {
     "end_time": "2020-07-23T09:46:51.402412Z",
     "start_time": "2020-07-23T09:46:51.292069Z"
    }
   },
   "outputs": [],
   "source": [
    "# sorting the scraped data into columns\n",
    "beer_deets['name_found'] = beer_deets.return_string.apply(lambda x: x.split('\\n')[0].strip())\n",
    "beer_deets['flag'] = beer_deets.return_string.apply(lambda x: x.split('\\n')[1].split('•')[0].split(\" \")[0])\n",
    "beer_deets['type'] = beer_deets.return_string.apply(lambda x: x.split('\\n')[1].split('•')[0][2:])\n",
    "beer_deets['abv'] = beer_deets.return_string.apply(lambda x: float(x.split('\\n')[1].split('•')[1].replace(\"%\",\"\")))\n",
    "beer_deets['rb_overall_score'] = beer_deets.return_string.apply(lambda x: x.split('\\n')[2])\n",
    "beer_deets['rb_style_score'] = beer_deets.return_string.apply(lambda x: x.split('\\n')[3])\n",
    "beer_deets['rb_user_rating'] = beer_deets.return_string.apply(lambda x: x.split('\\n')[4])\n",
    "beer_deets['rb_rating_number'] = beer_deets.return_string.apply(lambda x: x.split('\\n')[5].replace(\"(\",\"\").replace(\")\",\"\"))\n"
   ]
  },
  {
   "cell_type": "code",
   "execution_count": 16,
   "metadata": {
    "ExecuteTime": {
     "end_time": "2020-07-23T09:46:51.410007Z",
     "start_time": "2020-07-23T09:46:51.404674Z"
    }
   },
   "outputs": [],
   "source": [
    "# need to add in add check here for price\n"
   ]
  },
  {
   "cell_type": "code",
   "execution_count": null,
   "metadata": {},
   "outputs": [],
   "source": [
    "\n"
   ]
  },
  {
   "cell_type": "code",
   "execution_count": 17,
   "metadata": {
    "ExecuteTime": {
     "end_time": "2020-07-23T09:46:51.498501Z",
     "start_time": "2020-07-23T09:46:51.415098Z"
    },
    "scrolled": true
   },
   "outputs": [
    {
     "data": {
      "text/html": [
       "<div>\n",
       "<style scoped>\n",
       "    .dataframe tbody tr th:only-of-type {\n",
       "        vertical-align: middle;\n",
       "    }\n",
       "\n",
       "    .dataframe tbody tr th {\n",
       "        vertical-align: top;\n",
       "    }\n",
       "\n",
       "    .dataframe thead th {\n",
       "        text-align: right;\n",
       "    }\n",
       "</style>\n",
       "<table border=\"1\" class=\"dataframe\">\n",
       "  <thead>\n",
       "    <tr style=\"text-align: right;\">\n",
       "      <th></th>\n",
       "      <th>return_string</th>\n",
       "      <th>name_found</th>\n",
       "      <th>flag</th>\n",
       "      <th>type</th>\n",
       "      <th>abv</th>\n",
       "      <th>rb_overall_score</th>\n",
       "      <th>rb_style_score</th>\n",
       "      <th>rb_user_rating</th>\n",
       "      <th>rb_rating_number</th>\n",
       "    </tr>\n",
       "  </thead>\n",
       "  <tbody>\n",
       "    <tr>\n",
       "      <th>135</th>\n",
       "      <td>Les Trois Mousquetaires Pilsner\\n🇨🇦 Pilsener /...</td>\n",
       "      <td>Les Trois Mousquetaires Pilsner</td>\n",
       "      <td>🇨🇦</td>\n",
       "      <td>Pilsener / Pils / Pilsner</td>\n",
       "      <td>NaN</td>\n",
       "      <td>-</td>\n",
       "      <td>-</td>\n",
       "      <td>3.87</td>\n",
       "      <td>6</td>\n",
       "    </tr>\n",
       "    <tr>\n",
       "      <th>192</th>\n",
       "      <td>Cycle Barrel Aged Hazelnut Imperial Stout With...</td>\n",
       "      <td>Cycle Barrel Aged Hazelnut Imperial Stout With...</td>\n",
       "      <td>🇺🇸</td>\n",
       "      <td>Stout - Imperial Flavored</td>\n",
       "      <td>0.0</td>\n",
       "      <td>100</td>\n",
       "      <td>93</td>\n",
       "      <td>4.13</td>\n",
       "      <td>44</td>\n",
       "    </tr>\n",
       "    <tr>\n",
       "      <th>373</th>\n",
       "      <td>Pile O' Bones Cranberry Kettle Sour\\n🇨🇦 Sour /...</td>\n",
       "      <td>Pile O' Bones Cranberry Kettle Sour</td>\n",
       "      <td>🇨🇦</td>\n",
       "      <td>Sour / Wild Beer - Flavored</td>\n",
       "      <td>NaN</td>\n",
       "      <td>-</td>\n",
       "      <td>-</td>\n",
       "      <td>3.00</td>\n",
       "      <td>1</td>\n",
       "    </tr>\n",
       "    <tr>\n",
       "      <th>377</th>\n",
       "      <td>Churchill Sundog Belgian Whit\\n🇨🇦 Witbier / Be...</td>\n",
       "      <td>Churchill Sundog Belgian Whit</td>\n",
       "      <td>🇨🇦</td>\n",
       "      <td>Witbier / Belgian White Ale</td>\n",
       "      <td>0.0</td>\n",
       "      <td>-</td>\n",
       "      <td>-</td>\n",
       "      <td>3.27</td>\n",
       "      <td>6</td>\n",
       "    </tr>\n",
       "    <tr>\n",
       "      <th>393</th>\n",
       "      <td>Rorschach Pareidolia\\n🇨🇦 IIPA DIPA - Hazy / Do...</td>\n",
       "      <td>Rorschach Pareidolia</td>\n",
       "      <td>🇨🇦</td>\n",
       "      <td>IIPA DIPA - Hazy / Double NEIPA</td>\n",
       "      <td>NaN</td>\n",
       "      <td>-</td>\n",
       "      <td>-</td>\n",
       "      <td>3.85</td>\n",
       "      <td>2</td>\n",
       "    </tr>\n",
       "    <tr>\n",
       "      <th>427</th>\n",
       "      <td>Around the Bend Viking Juice\\n🇺🇸 IPA - Hazy / ...</td>\n",
       "      <td>Around the Bend Viking Juice</td>\n",
       "      <td>🇺🇸</td>\n",
       "      <td>IPA - Hazy / NEIPA</td>\n",
       "      <td>NaN</td>\n",
       "      <td>-</td>\n",
       "      <td>-</td>\n",
       "      <td>3.70</td>\n",
       "      <td>1</td>\n",
       "    </tr>\n",
       "    <tr>\n",
       "      <th>429</th>\n",
       "      <td>Blue Moon Smoked Apricot Serrano\\n🇺🇸 Flavored ...</td>\n",
       "      <td>Blue Moon Smoked Apricot Serrano</td>\n",
       "      <td>🇺🇸</td>\n",
       "      <td>Flavored - Fruit</td>\n",
       "      <td>NaN</td>\n",
       "      <td>-</td>\n",
       "      <td>-</td>\n",
       "      <td>3.90</td>\n",
       "      <td>1</td>\n",
       "    </tr>\n",
       "    <tr>\n",
       "      <th>508</th>\n",
       "      <td>Bricktown Three Guardsmen IPA\\n🇺🇸 IPA0\\n-\\n-\\n...</td>\n",
       "      <td>Bricktown Three Guardsmen IPA</td>\n",
       "      <td>🇺🇸</td>\n",
       "      <td>IPA</td>\n",
       "      <td>0.0</td>\n",
       "      <td>-</td>\n",
       "      <td>-</td>\n",
       "      <td>2.88</td>\n",
       "      <td>11</td>\n",
       "    </tr>\n",
       "    <tr>\n",
       "      <th>527</th>\n",
       "      <td>Püttner Basalter Dunkel\\n🇩🇪 Dark Lager - Dunke...</td>\n",
       "      <td>Püttner Basalter Dunkel</td>\n",
       "      <td>🇩🇪</td>\n",
       "      <td>Dark Lager - Dunkel / Tmavý</td>\n",
       "      <td>0.0</td>\n",
       "      <td>45</td>\n",
       "      <td>86</td>\n",
       "      <td>3.29</td>\n",
       "      <td>11</td>\n",
       "    </tr>\n",
       "    <tr>\n",
       "      <th>550</th>\n",
       "      <td>Hill Farmstead Flora - Pear\\n🇺🇸 Saison / Farmh...</td>\n",
       "      <td>Hill Farmstead Flora - Pear</td>\n",
       "      <td>🇺🇸</td>\n",
       "      <td>Saison / Farmhouse - Flavored</td>\n",
       "      <td>0.0</td>\n",
       "      <td>99</td>\n",
       "      <td>97</td>\n",
       "      <td>4.01</td>\n",
       "      <td>35</td>\n",
       "    </tr>\n",
       "    <tr>\n",
       "      <th>569</th>\n",
       "      <td>Island Folk Good Company\\n🇨🇦 Apple Cider\\n-\\n-...</td>\n",
       "      <td>Island Folk Good Company</td>\n",
       "      <td>🇨🇦</td>\n",
       "      <td>Apple Cider</td>\n",
       "      <td>NaN</td>\n",
       "      <td>-</td>\n",
       "      <td>-</td>\n",
       "      <td>3.00</td>\n",
       "      <td>1</td>\n",
       "    </tr>\n",
       "    <tr>\n",
       "      <th>575</th>\n",
       "      <td>Hermit Thrush Party Jam Blueberry Kettle Soure...</td>\n",
       "      <td>Hermit Thrush Party Jam Blueberry Kettle Soure...</td>\n",
       "      <td>🇺🇸</td>\n",
       "      <td>Sour / Wild Beer - Flavored</td>\n",
       "      <td>NaN</td>\n",
       "      <td>-</td>\n",
       "      <td>-</td>\n",
       "      <td>3.40</td>\n",
       "      <td>2</td>\n",
       "    </tr>\n",
       "    <tr>\n",
       "      <th>622</th>\n",
       "      <td>Saskatoon Classic Pale Ale / Earl's Rhino Pale...</td>\n",
       "      <td>Saskatoon Classic Pale Ale / Earl's Rhino Pale...</td>\n",
       "      <td>🇨🇦</td>\n",
       "      <td>Pale Ale - English</td>\n",
       "      <td>0.0</td>\n",
       "      <td>-</td>\n",
       "      <td>-</td>\n",
       "      <td>2.32</td>\n",
       "      <td>5</td>\n",
       "    </tr>\n",
       "    <tr>\n",
       "      <th>650</th>\n",
       "      <td>Crossmount Prairie Fire\\n🇨🇦 Apple Cider - Flav...</td>\n",
       "      <td>Crossmount Prairie Fire</td>\n",
       "      <td>🇨🇦</td>\n",
       "      <td>Apple Cider - Flavored</td>\n",
       "      <td>NaN</td>\n",
       "      <td>-</td>\n",
       "      <td>-</td>\n",
       "      <td>2.80</td>\n",
       "      <td>1</td>\n",
       "    </tr>\n",
       "    <tr>\n",
       "      <th>651</th>\n",
       "      <td>Crossmount Sour Cherry\\n🇨🇦 Apple Cider - Flavo...</td>\n",
       "      <td>Crossmount Sour Cherry</td>\n",
       "      <td>🇨🇦</td>\n",
       "      <td>Apple Cider - Flavored</td>\n",
       "      <td>NaN</td>\n",
       "      <td>-</td>\n",
       "      <td>-</td>\n",
       "      <td>3.20</td>\n",
       "      <td>1</td>\n",
       "    </tr>\n",
       "    <tr>\n",
       "      <th>719</th>\n",
       "      <td>Bandit Bookmark\\n🇨🇦 IPA - Hazy / NEIPA\\n-\\n-\\n...</td>\n",
       "      <td>Bandit Bookmark</td>\n",
       "      <td>🇨🇦</td>\n",
       "      <td>IPA - Hazy / NEIPA</td>\n",
       "      <td>NaN</td>\n",
       "      <td>-</td>\n",
       "      <td>-</td>\n",
       "      <td>3.50</td>\n",
       "      <td>1</td>\n",
       "    </tr>\n",
       "    <tr>\n",
       "      <th>746</th>\n",
       "      <td>Wunderkammer Volume Twenty: Transformation Mas...</td>\n",
       "      <td>Wunderkammer Volume Twenty: Transformation Masks</td>\n",
       "      <td>🇺🇸</td>\n",
       "      <td>Saison / Farmhouse - Dark</td>\n",
       "      <td>NaN</td>\n",
       "      <td>-</td>\n",
       "      <td>-</td>\n",
       "      <td>3.70</td>\n",
       "      <td>3</td>\n",
       "    </tr>\n",
       "    <tr>\n",
       "      <th>772</th>\n",
       "      <td>Hopfenfänger Hoppy Session Lager\\n🇩🇪 Pale Lage...</td>\n",
       "      <td>Hopfenfänger Hoppy Session Lager</td>\n",
       "      <td>🇩🇪</td>\n",
       "      <td>Pale Lager - India / Hoppy</td>\n",
       "      <td>NaN</td>\n",
       "      <td>-</td>\n",
       "      <td>-</td>\n",
       "      <td>3.00</td>\n",
       "      <td>1</td>\n",
       "    </tr>\n",
       "    <tr>\n",
       "      <th>808</th>\n",
       "      <td>VonSeitz Theoreticales Copper Brown\\n🇺🇸 Sour -...</td>\n",
       "      <td>VonSeitz Theoreticales Copper Brown</td>\n",
       "      <td>🇺🇸</td>\n",
       "      <td>Sour - Flanders Red / Bruin</td>\n",
       "      <td>0.0</td>\n",
       "      <td>-</td>\n",
       "      <td>-</td>\n",
       "      <td>3.54</td>\n",
       "      <td>7</td>\n",
       "    </tr>\n",
       "    <tr>\n",
       "      <th>903</th>\n",
       "      <td>The Referend Writing Degree Zero\\n🇺🇸 Lambic - ...</td>\n",
       "      <td>The Referend Writing Degree Zero</td>\n",
       "      <td>🇺🇸</td>\n",
       "      <td>Lambic - Gueuze</td>\n",
       "      <td>NaN</td>\n",
       "      <td>-</td>\n",
       "      <td>-</td>\n",
       "      <td>4.43</td>\n",
       "      <td>3</td>\n",
       "    </tr>\n",
       "    <tr>\n",
       "      <th>916</th>\n",
       "      <td>Templin Family Beechwood Rauchbier\\n🇺🇸 Smoked ...</td>\n",
       "      <td>Templin Family Beechwood Rauchbier</td>\n",
       "      <td>🇺🇸</td>\n",
       "      <td>Smoked - Rauchbier</td>\n",
       "      <td>NaN</td>\n",
       "      <td>-</td>\n",
       "      <td>-</td>\n",
       "      <td>4.50</td>\n",
       "      <td>1</td>\n",
       "    </tr>\n",
       "  </tbody>\n",
       "</table>\n",
       "</div>"
      ],
      "text/plain": [
       "                                         return_string  \\\n",
       "135  Les Trois Mousquetaires Pilsner\\n🇨🇦 Pilsener /...   \n",
       "192  Cycle Barrel Aged Hazelnut Imperial Stout With...   \n",
       "373  Pile O' Bones Cranberry Kettle Sour\\n🇨🇦 Sour /...   \n",
       "377  Churchill Sundog Belgian Whit\\n🇨🇦 Witbier / Be...   \n",
       "393  Rorschach Pareidolia\\n🇨🇦 IIPA DIPA - Hazy / Do...   \n",
       "427  Around the Bend Viking Juice\\n🇺🇸 IPA - Hazy / ...   \n",
       "429  Blue Moon Smoked Apricot Serrano\\n🇺🇸 Flavored ...   \n",
       "508  Bricktown Three Guardsmen IPA\\n🇺🇸 IPA0\\n-\\n-\\n...   \n",
       "527  Püttner Basalter Dunkel\\n🇩🇪 Dark Lager - Dunke...   \n",
       "550  Hill Farmstead Flora - Pear\\n🇺🇸 Saison / Farmh...   \n",
       "569  Island Folk Good Company\\n🇨🇦 Apple Cider\\n-\\n-...   \n",
       "575  Hermit Thrush Party Jam Blueberry Kettle Soure...   \n",
       "622  Saskatoon Classic Pale Ale / Earl's Rhino Pale...   \n",
       "650  Crossmount Prairie Fire\\n🇨🇦 Apple Cider - Flav...   \n",
       "651  Crossmount Sour Cherry\\n🇨🇦 Apple Cider - Flavo...   \n",
       "719  Bandit Bookmark\\n🇨🇦 IPA - Hazy / NEIPA\\n-\\n-\\n...   \n",
       "746  Wunderkammer Volume Twenty: Transformation Mas...   \n",
       "772  Hopfenfänger Hoppy Session Lager\\n🇩🇪 Pale Lage...   \n",
       "808  VonSeitz Theoreticales Copper Brown\\n🇺🇸 Sour -...   \n",
       "903  The Referend Writing Degree Zero\\n🇺🇸 Lambic - ...   \n",
       "916  Templin Family Beechwood Rauchbier\\n🇺🇸 Smoked ...   \n",
       "\n",
       "                                            name_found flag  \\\n",
       "135                    Les Trois Mousquetaires Pilsner   🇨🇦   \n",
       "192  Cycle Barrel Aged Hazelnut Imperial Stout With...   🇺🇸   \n",
       "373                Pile O' Bones Cranberry Kettle Sour   🇨🇦   \n",
       "377                      Churchill Sundog Belgian Whit   🇨🇦   \n",
       "393                               Rorschach Pareidolia   🇨🇦   \n",
       "427                       Around the Bend Viking Juice   🇺🇸   \n",
       "429                   Blue Moon Smoked Apricot Serrano   🇺🇸   \n",
       "508                      Bricktown Three Guardsmen IPA   🇺🇸   \n",
       "527                            Püttner Basalter Dunkel   🇩🇪   \n",
       "550                        Hill Farmstead Flora - Pear   🇺🇸   \n",
       "569                           Island Folk Good Company   🇨🇦   \n",
       "575  Hermit Thrush Party Jam Blueberry Kettle Soure...   🇺🇸   \n",
       "622  Saskatoon Classic Pale Ale / Earl's Rhino Pale...   🇨🇦   \n",
       "650                            Crossmount Prairie Fire   🇨🇦   \n",
       "651                             Crossmount Sour Cherry   🇨🇦   \n",
       "719                                    Bandit Bookmark   🇨🇦   \n",
       "746   Wunderkammer Volume Twenty: Transformation Masks   🇺🇸   \n",
       "772                   Hopfenfänger Hoppy Session Lager   🇩🇪   \n",
       "808                VonSeitz Theoreticales Copper Brown   🇺🇸   \n",
       "903                   The Referend Writing Degree Zero   🇺🇸   \n",
       "916                 Templin Family Beechwood Rauchbier   🇺🇸   \n",
       "\n",
       "                                 type  abv rb_overall_score rb_style_score  \\\n",
       "135         Pilsener / Pils / Pilsner  NaN                -              -   \n",
       "192         Stout - Imperial Flavored  0.0              100             93   \n",
       "373       Sour / Wild Beer - Flavored  NaN                -              -   \n",
       "377       Witbier / Belgian White Ale  0.0                -              -   \n",
       "393   IIPA DIPA - Hazy / Double NEIPA  NaN                -              -   \n",
       "427                IPA - Hazy / NEIPA  NaN                -              -   \n",
       "429                  Flavored - Fruit  NaN                -              -   \n",
       "508                               IPA  0.0                -              -   \n",
       "527       Dark Lager - Dunkel / Tmavý  0.0               45             86   \n",
       "550     Saison / Farmhouse - Flavored  0.0               99             97   \n",
       "569                       Apple Cider  NaN                -              -   \n",
       "575       Sour / Wild Beer - Flavored  NaN                -              -   \n",
       "622                Pale Ale - English  0.0                -              -   \n",
       "650            Apple Cider - Flavored  NaN                -              -   \n",
       "651            Apple Cider - Flavored  NaN                -              -   \n",
       "719                IPA - Hazy / NEIPA  NaN                -              -   \n",
       "746         Saison / Farmhouse - Dark  NaN                -              -   \n",
       "772        Pale Lager - India / Hoppy  NaN                -              -   \n",
       "808       Sour - Flanders Red / Bruin  0.0                -              -   \n",
       "903                   Lambic - Gueuze  NaN                -              -   \n",
       "916                Smoked - Rauchbier  NaN                -              -   \n",
       "\n",
       "    rb_user_rating rb_rating_number  \n",
       "135           3.87                6  \n",
       "192           4.13               44  \n",
       "373           3.00                1  \n",
       "377           3.27                6  \n",
       "393           3.85                2  \n",
       "427           3.70                1  \n",
       "429           3.90                1  \n",
       "508           2.88               11  \n",
       "527           3.29               11  \n",
       "550           4.01               35  \n",
       "569           3.00                1  \n",
       "575           3.40                2  \n",
       "622           2.32                5  \n",
       "650           2.80                1  \n",
       "651           3.20                1  \n",
       "719           3.50                1  \n",
       "746           3.70                3  \n",
       "772           3.00                1  \n",
       "808           3.54                7  \n",
       "903           4.43                3  \n",
       "916           4.50                1  "
      ]
     },
     "execution_count": 17,
     "metadata": {},
     "output_type": "execute_result"
    }
   ],
   "source": [
    "# sorting the no alcohol measure\n",
    "no_alcohol['name_found'] = no_alcohol.return_string.apply(lambda x: x.split('\\n')[0].strip())\n",
    "no_alcohol['flag'] = no_alcohol.return_string.apply(lambda x: x.split('\\n')[1].split('•')[0].split(\" \")[0])\n",
    "no_alcohol['type'] = no_alcohol.return_string.apply(lambda x: x.split('\\n')[1].split('•')[0][2:])\n",
    "no_alcohol['abv'] = no_alcohol.type.apply(lambda x: 0 if x[-1] == '0' else None)\n",
    "no_alcohol['type'] = no_alcohol.type.apply(lambda x: x[:-1] if x[-1] == '0' else x)\n",
    "no_alcohol['check'] = no_alcohol.return_string.apply(lambda x: len(x.split('\\n')))\n",
    "no_alcohol = no_alcohol[no_alcohol['check']>4].copy()\n",
    "no_alcohol['rb_overall_score'] = no_alcohol.return_string.apply(lambda x: x.split('\\n')[2])\n",
    "no_alcohol['rb_style_score'] = no_alcohol.return_string.apply(lambda x: x.split('\\n')[3])\n",
    "no_alcohol['rb_user_rating'] = no_alcohol.return_string.apply(lambda x: x.split('\\n')[4])\n",
    "no_alcohol['rb_rating_number'] = no_alcohol.return_string.apply(lambda x: x.split('\\n')[5].replace(\"(\",\"\").replace(\")\",\"\"))\n",
    "no_alcohol.drop('check',inplace=True, axis=1)\n",
    "\n",
    "no_alcohol"
   ]
  },
  {
   "cell_type": "code",
   "execution_count": 18,
   "metadata": {
    "ExecuteTime": {
     "end_time": "2020-07-23T09:46:51.626587Z",
     "start_time": "2020-07-23T09:46:51.501785Z"
    }
   },
   "outputs": [],
   "source": [
    "beer_df = pd.concat([beer_df,beer_deets,no_alcohol])"
   ]
  },
  {
   "cell_type": "code",
   "execution_count": 19,
   "metadata": {
    "ExecuteTime": {
     "end_time": "2020-07-23T09:46:51.659753Z",
     "start_time": "2020-07-23T09:46:51.631532Z"
    }
   },
   "outputs": [
    {
     "data": {
      "text/html": [
       "<div>\n",
       "<style scoped>\n",
       "    .dataframe tbody tr th:only-of-type {\n",
       "        vertical-align: middle;\n",
       "    }\n",
       "\n",
       "    .dataframe tbody tr th {\n",
       "        vertical-align: top;\n",
       "    }\n",
       "\n",
       "    .dataframe thead th {\n",
       "        text-align: right;\n",
       "    }\n",
       "</style>\n",
       "<table border=\"1\" class=\"dataframe\">\n",
       "  <thead>\n",
       "    <tr style=\"text-align: right;\">\n",
       "      <th></th>\n",
       "      <th>return_string</th>\n",
       "      <th>flag</th>\n",
       "      <th>type</th>\n",
       "      <th>abv</th>\n",
       "      <th>rb_overall_score</th>\n",
       "      <th>rb_style_score</th>\n",
       "      <th>rb_user_rating</th>\n",
       "      <th>rb_rating_number</th>\n",
       "      <th>name_found</th>\n",
       "    </tr>\n",
       "  </thead>\n",
       "  <tbody>\n",
       "    <tr>\n",
       "      <th>0</th>\n",
       "      <td>St. Peter's Ruby Red Ale\\n🇬🇧 Bitter - Ordinary...</td>\n",
       "      <td>🇬🇧</td>\n",
       "      <td>Bitter - Ordinary / Best</td>\n",
       "      <td>4.3</td>\n",
       "      <td>49</td>\n",
       "      <td>95</td>\n",
       "      <td>3.25</td>\n",
       "      <td>415</td>\n",
       "      <td>St. Peter's Ruby Red Ale</td>\n",
       "    </tr>\n",
       "    <tr>\n",
       "      <th>1</th>\n",
       "      <td>Shepherd Neame Spitfire (Bottle)\\n🇬🇧 Bitter - ...</td>\n",
       "      <td>🇬🇧</td>\n",
       "      <td>Bitter - Ordinary / Best</td>\n",
       "      <td>4.5</td>\n",
       "      <td>34</td>\n",
       "      <td>59</td>\n",
       "      <td>3.05</td>\n",
       "      <td>1083</td>\n",
       "      <td>Shepherd Neame Spitfire (Bottle)</td>\n",
       "    </tr>\n",
       "    <tr>\n",
       "      <th>2</th>\n",
       "      <td>Arbor Rocketman\\n🇬🇧 IPA • 6.0%\\n95\\n97\\n3.74\\n...</td>\n",
       "      <td>🇬🇧</td>\n",
       "      <td>IPA</td>\n",
       "      <td>6.0</td>\n",
       "      <td>95</td>\n",
       "      <td>97</td>\n",
       "      <td>3.74</td>\n",
       "      <td>59</td>\n",
       "      <td>Arbor Rocketman</td>\n",
       "    </tr>\n",
       "    <tr>\n",
       "      <th>3</th>\n",
       "      <td>Shepherd Neame India Pale Ale (Bottle)\\n🇬🇧 IPA...</td>\n",
       "      <td>🇬🇧</td>\n",
       "      <td>IPA - English</td>\n",
       "      <td>6.1</td>\n",
       "      <td>46</td>\n",
       "      <td>47</td>\n",
       "      <td>3.22</td>\n",
       "      <td>420</td>\n",
       "      <td>Shepherd Neame India Pale Ale (Bottle)</td>\n",
       "    </tr>\n",
       "    <tr>\n",
       "      <th>4</th>\n",
       "      <td>Shepherd Neame Christmas Ale\\n🇬🇧 Strong Ale - ...</td>\n",
       "      <td>🇬🇧</td>\n",
       "      <td>Strong Ale - English</td>\n",
       "      <td>7.0</td>\n",
       "      <td>45</td>\n",
       "      <td>46</td>\n",
       "      <td>3.18</td>\n",
       "      <td>409</td>\n",
       "      <td>Shepherd Neame Christmas Ale</td>\n",
       "    </tr>\n",
       "    <tr>\n",
       "      <th>...</th>\n",
       "      <td>...</td>\n",
       "      <td>...</td>\n",
       "      <td>...</td>\n",
       "      <td>...</td>\n",
       "      <td>...</td>\n",
       "      <td>...</td>\n",
       "      <td>...</td>\n",
       "      <td>...</td>\n",
       "      <td>...</td>\n",
       "    </tr>\n",
       "    <tr>\n",
       "      <th>746</th>\n",
       "      <td>Wunderkammer Volume Twenty: Transformation Mas...</td>\n",
       "      <td>🇺🇸</td>\n",
       "      <td>Saison / Farmhouse - Dark</td>\n",
       "      <td>NaN</td>\n",
       "      <td>-</td>\n",
       "      <td>-</td>\n",
       "      <td>3.70</td>\n",
       "      <td>3</td>\n",
       "      <td>Wunderkammer Volume Twenty: Transformation Masks</td>\n",
       "    </tr>\n",
       "    <tr>\n",
       "      <th>772</th>\n",
       "      <td>Hopfenfänger Hoppy Session Lager\\n🇩🇪 Pale Lage...</td>\n",
       "      <td>🇩🇪</td>\n",
       "      <td>Pale Lager - India / Hoppy</td>\n",
       "      <td>NaN</td>\n",
       "      <td>-</td>\n",
       "      <td>-</td>\n",
       "      <td>3.00</td>\n",
       "      <td>1</td>\n",
       "      <td>Hopfenfänger Hoppy Session Lager</td>\n",
       "    </tr>\n",
       "    <tr>\n",
       "      <th>808</th>\n",
       "      <td>VonSeitz Theoreticales Copper Brown\\n🇺🇸 Sour -...</td>\n",
       "      <td>🇺🇸</td>\n",
       "      <td>Sour - Flanders Red / Bruin</td>\n",
       "      <td>0.0</td>\n",
       "      <td>-</td>\n",
       "      <td>-</td>\n",
       "      <td>3.54</td>\n",
       "      <td>7</td>\n",
       "      <td>VonSeitz Theoreticales Copper Brown</td>\n",
       "    </tr>\n",
       "    <tr>\n",
       "      <th>903</th>\n",
       "      <td>The Referend Writing Degree Zero\\n🇺🇸 Lambic - ...</td>\n",
       "      <td>🇺🇸</td>\n",
       "      <td>Lambic - Gueuze</td>\n",
       "      <td>NaN</td>\n",
       "      <td>-</td>\n",
       "      <td>-</td>\n",
       "      <td>4.43</td>\n",
       "      <td>3</td>\n",
       "      <td>The Referend Writing Degree Zero</td>\n",
       "    </tr>\n",
       "    <tr>\n",
       "      <th>916</th>\n",
       "      <td>Templin Family Beechwood Rauchbier\\n🇺🇸 Smoked ...</td>\n",
       "      <td>🇺🇸</td>\n",
       "      <td>Smoked - Rauchbier</td>\n",
       "      <td>NaN</td>\n",
       "      <td>-</td>\n",
       "      <td>-</td>\n",
       "      <td>4.50</td>\n",
       "      <td>1</td>\n",
       "      <td>Templin Family Beechwood Rauchbier</td>\n",
       "    </tr>\n",
       "  </tbody>\n",
       "</table>\n",
       "<p>26463 rows × 9 columns</p>\n",
       "</div>"
      ],
      "text/plain": [
       "                                         return_string flag  \\\n",
       "0    St. Peter's Ruby Red Ale\\n🇬🇧 Bitter - Ordinary...   🇬🇧   \n",
       "1    Shepherd Neame Spitfire (Bottle)\\n🇬🇧 Bitter - ...   🇬🇧   \n",
       "2    Arbor Rocketman\\n🇬🇧 IPA • 6.0%\\n95\\n97\\n3.74\\n...   🇬🇧   \n",
       "3    Shepherd Neame India Pale Ale (Bottle)\\n🇬🇧 IPA...   🇬🇧   \n",
       "4    Shepherd Neame Christmas Ale\\n🇬🇧 Strong Ale - ...   🇬🇧   \n",
       "..                                                 ...  ...   \n",
       "746  Wunderkammer Volume Twenty: Transformation Mas...   🇺🇸   \n",
       "772  Hopfenfänger Hoppy Session Lager\\n🇩🇪 Pale Lage...   🇩🇪   \n",
       "808  VonSeitz Theoreticales Copper Brown\\n🇺🇸 Sour -...   🇺🇸   \n",
       "903  The Referend Writing Degree Zero\\n🇺🇸 Lambic - ...   🇺🇸   \n",
       "916  Templin Family Beechwood Rauchbier\\n🇺🇸 Smoked ...   🇺🇸   \n",
       "\n",
       "                             type  abv rb_overall_score rb_style_score  \\\n",
       "0       Bitter - Ordinary / Best   4.3               49             95   \n",
       "1       Bitter - Ordinary / Best   4.5               34             59   \n",
       "2                            IPA   6.0               95             97   \n",
       "3                  IPA - English   6.1               46             47   \n",
       "4           Strong Ale - English   7.0               45             46   \n",
       "..                            ...  ...              ...            ...   \n",
       "746     Saison / Farmhouse - Dark  NaN                -              -   \n",
       "772    Pale Lager - India / Hoppy  NaN                -              -   \n",
       "808   Sour - Flanders Red / Bruin  0.0                -              -   \n",
       "903               Lambic - Gueuze  NaN                -              -   \n",
       "916            Smoked - Rauchbier  NaN                -              -   \n",
       "\n",
       "    rb_user_rating rb_rating_number  \\\n",
       "0             3.25              415   \n",
       "1             3.05             1083   \n",
       "2             3.74               59   \n",
       "3             3.22              420   \n",
       "4             3.18              409   \n",
       "..             ...              ...   \n",
       "746           3.70                3   \n",
       "772           3.00                1   \n",
       "808           3.54                7   \n",
       "903           4.43                3   \n",
       "916           4.50                1   \n",
       "\n",
       "                                           name_found  \n",
       "0                            St. Peter's Ruby Red Ale  \n",
       "1                    Shepherd Neame Spitfire (Bottle)  \n",
       "2                                     Arbor Rocketman  \n",
       "3              Shepherd Neame India Pale Ale (Bottle)  \n",
       "4                        Shepherd Neame Christmas Ale  \n",
       "..                                                ...  \n",
       "746  Wunderkammer Volume Twenty: Transformation Masks  \n",
       "772                  Hopfenfänger Hoppy Session Lager  \n",
       "808               VonSeitz Theoreticales Copper Brown  \n",
       "903                  The Referend Writing Degree Zero  \n",
       "916                Templin Family Beechwood Rauchbier  \n",
       "\n",
       "[26463 rows x 9 columns]"
      ]
     },
     "execution_count": 19,
     "metadata": {},
     "output_type": "execute_result"
    }
   ],
   "source": [
    "beer_df"
   ]
  },
  {
   "cell_type": "code",
   "execution_count": 20,
   "metadata": {
    "ExecuteTime": {
     "end_time": "2020-07-23T09:46:52.093628Z",
     "start_time": "2020-07-23T09:46:51.663948Z"
    }
   },
   "outputs": [
    {
     "name": "stdout",
     "output_type": "stream",
     "text": [
      "There are 34 new beers that were not found or returned errors. They will be added to the no search list.\n"
     ]
    }
   ],
   "source": [
    "# compare to the unique list to create a new to-be-scraped list\n",
    "not_found_beer = df.beer_name[~df.beer_name.isin(beer_df.name_found)].unique()\n",
    "print(\"There are\", len(not_found_beer)-len(not_found_df), \"new beers that were not found or returned errors. They will be added to the no search list.\")\n",
    "not_found_df = pd.concat([not_found_df,pd.DataFrame(not_found_beer,columns = [\"not_found\"])])\n",
    "not_found_df.drop_duplicates(inplace=True)"
   ]
  },
  {
   "cell_type": "code",
   "execution_count": 21,
   "metadata": {
    "ExecuteTime": {
     "end_time": "2020-07-23T09:46:52.401017Z",
     "start_time": "2020-07-23T09:46:52.105294Z"
    }
   },
   "outputs": [],
   "source": [
    "beer_df.to_csv('beer_deets.csv',index=False)\n",
    "not_found_df.to_csv(\"not_found.csv\", index=False)"
   ]
  },
  {
   "cell_type": "code",
   "execution_count": null,
   "metadata": {},
   "outputs": [],
   "source": []
  },
  {
   "cell_type": "code",
   "execution_count": null,
   "metadata": {},
   "outputs": [],
   "source": []
  },
  {
   "cell_type": "code",
   "execution_count": null,
   "metadata": {},
   "outputs": [],
   "source": []
  }
 ],
 "metadata": {
  "kernelspec": {
   "display_name": "Python 3",
   "language": "python",
   "name": "python3"
  },
  "language_info": {
   "codemirror_mode": {
    "name": "ipython",
    "version": 3
   },
   "file_extension": ".py",
   "mimetype": "text/x-python",
   "name": "python",
   "nbconvert_exporter": "python",
   "pygments_lexer": "ipython3",
   "version": "3.7.1"
  },
  "toc": {
   "base_numbering": 1,
   "nav_menu": {},
   "number_sections": true,
   "sideBar": true,
   "skip_h1_title": false,
   "title_cell": "Table of Contents",
   "title_sidebar": "Contents",
   "toc_cell": false,
   "toc_position": {},
   "toc_section_display": true,
   "toc_window_display": false
  },
  "varInspector": {
   "cols": {
    "lenName": 16,
    "lenType": 16,
    "lenVar": 40
   },
   "kernels_config": {
    "python": {
     "delete_cmd_postfix": "",
     "delete_cmd_prefix": "del ",
     "library": "var_list.py",
     "varRefreshCmd": "print(var_dic_list())"
    },
    "r": {
     "delete_cmd_postfix": ") ",
     "delete_cmd_prefix": "rm(",
     "library": "var_list.r",
     "varRefreshCmd": "cat(var_dic_list()) "
    }
   },
   "types_to_exclude": [
    "module",
    "function",
    "builtin_function_or_method",
    "instance",
    "_Feature"
   ],
   "window_display": false
  }
 },
 "nbformat": 4,
 "nbformat_minor": 4
}
