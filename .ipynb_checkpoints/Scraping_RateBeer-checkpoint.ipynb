{
 "cells": [
  {
   "cell_type": "code",
   "execution_count": 221,
   "metadata": {
    "ExecuteTime": {
     "end_time": "2020-05-11T14:50:05.861305Z",
     "start_time": "2020-05-11T14:50:05.834236Z"
    }
   },
   "outputs": [],
   "source": [
    "import requests\n",
    "import bs4\n",
    "from bs4 import BeautifulSoup\n",
    "import pandas as pd\n",
    "import re\n",
    "from tqdm.notebook import tqdm\n",
    "import matplotlib.pyplot as plt\n",
    "import seaborn as sns"
   ]
  },
  {
   "cell_type": "markdown",
   "metadata": {},
   "source": [
    "## Code which scrapes the recently reviews (only 100 pages - 1,400 reviews)"
   ]
  },
  {
   "cell_type": "code",
   "execution_count": 222,
   "metadata": {
    "ExecuteTime": {
     "end_time": "2020-05-11T14:50:05.913462Z",
     "start_time": "2020-05-11T14:50:05.866794Z"
    }
   },
   "outputs": [],
   "source": [
    "\n",
    "def ratebeer_scraper(page_start=1, page_end=2, url_set=None):\n",
    "    \n",
    "    beer_name = []\n",
    "    beer_rating = []\n",
    "    brewery_name = []\n",
    "    brewery_location = []\n",
    "    review_content = []\n",
    "    reviewer_name = []\n",
    " \n",
    "    if url_set == None:\n",
    "        print(\"Need url to run\")\n",
    "        return\n",
    "\n",
    "    for x in tqdm(range(page_start, page_end + 1)):\n",
    "        try:\n",
    "            url_format = url_set.format(x)\n",
    "            r = requests.get(url_format)\n",
    "            soup = BeautifulSoup(r.text, 'html.parser')\n",
    "            table = soup.find('table', attrs={'class': 'table'})\n",
    "            table_rows = table.find_all('tr')\n",
    "\n",
    "            for rows in table_rows:\n",
    "\n",
    "            # Scrape Beer Name    \n",
    "                try:\n",
    "                    beer_name.append(rows.find('a', attrs={'style':'font-size:20px; font-weight:bold;'}).text)\n",
    "                except:\n",
    "                    beer_name.append(None)\n",
    "            # Scrape Review Rating  \n",
    "                try:\n",
    "                    beer_rating.append(rows.find('span', attrs={'class':'uas'}).text)\n",
    "                except:\n",
    "                    beer_rating.append(None)\n",
    "            # Scrape Brewery Name  \n",
    "                try:\n",
    "                    brewery_div = rows.find('div')\n",
    "                    brewery_name.append(brewery_div.a.text)\n",
    "                except:\n",
    "                    brewery_name.append(None)\n",
    "            # Scrape Brewery Location\n",
    "                try:\n",
    "                    brewery_location.append(rows.find('span', attrs={'class':'small'}).text.strip())\n",
    "                except:\n",
    "                    brewery_location.append(None)\n",
    "            # Scrape Reviewer Name\n",
    "                try:\n",
    "                    reviewer_name.append(rows.find('span', attrs={'class':'pull-right'}).text.strip())\n",
    "                except:\n",
    "                    reviewer_name.append(None)\n",
    "            # Scrape content\n",
    "                try:\n",
    "                    review_content.append(rows.find('div', attrs={'style':\"color:#666;\"}).text.strip())\n",
    "                except:\n",
    "                    review_content.append(None)\n",
    "        except:\n",
    "            pass\n",
    "\n",
    "    beerz = pd.DataFrame({'beer_name': beer_name,\n",
    "                         'beer_rating': beer_rating,\n",
    "                        'brewery_name': brewery_name,\n",
    "                         'brewery_location': brewery_location,\n",
    "                        'review_content': review_content,\n",
    "                        'reviewer_name': reviewer_name})\n",
    "    return beerz\n",
    "\n"
   ]
  },
  {
   "cell_type": "code",
   "execution_count": 223,
   "metadata": {
    "ExecuteTime": {
     "end_time": "2020-05-11T14:55:30.650531Z",
     "start_time": "2020-05-11T14:50:05.921327Z"
    }
   },
   "outputs": [
    {
     "data": {
      "application/vnd.jupyter.widget-view+json": {
       "model_id": "f028dca1d0e547979feace47d3637265",
       "version_major": 2,
       "version_minor": 0
      },
      "text/plain": [
       "HBox(children=(FloatProgress(value=0.0, max=101.0), HTML(value='')))"
      ]
     },
     "metadata": {},
     "output_type": "display_data"
    },
    {
     "name": "stdout",
     "output_type": "stream",
     "text": [
      "\n"
     ]
    },
    {
     "data": {
      "application/vnd.jupyter.widget-view+json": {
       "model_id": "e31a7608511a4c5fafcf2affd6e9a957",
       "version_major": 2,
       "version_minor": 0
      },
      "text/plain": [
       "HBox(children=(FloatProgress(value=0.0, max=11.0), HTML(value='')))"
      ]
     },
     "metadata": {},
     "output_type": "display_data"
    },
    {
     "name": "stdout",
     "output_type": "stream",
     "text": [
      "\n"
     ]
    },
    {
     "data": {
      "application/vnd.jupyter.widget-view+json": {
       "model_id": "bd3f7eae6cb94325ba91d66bf5d0ee5b",
       "version_major": 2,
       "version_minor": 0
      },
      "text/plain": [
       "HBox(children=(FloatProgress(value=0.0, max=51.0), HTML(value='')))"
      ]
     },
     "metadata": {},
     "output_type": "display_data"
    },
    {
     "name": "stdout",
     "output_type": "stream",
     "text": [
      "\n"
     ]
    },
    {
     "data": {
      "application/vnd.jupyter.widget-view+json": {
       "model_id": "b77ed3dfab904202917d6f3d52475f8e",
       "version_major": 2,
       "version_minor": 0
      },
      "text/plain": [
       "HBox(children=(FloatProgress(value=0.0, max=51.0), HTML(value='')))"
      ]
     },
     "metadata": {},
     "output_type": "display_data"
    },
    {
     "name": "stdout",
     "output_type": "stream",
     "text": [
      "\n"
     ]
    },
    {
     "data": {
      "application/vnd.jupyter.widget-view+json": {
       "model_id": "1678801976344e5cb7a76378e885ed2b",
       "version_major": 2,
       "version_minor": 0
      },
      "text/plain": [
       "HBox(children=(FloatProgress(value=0.0, max=51.0), HTML(value='')))"
      ]
     },
     "metadata": {},
     "output_type": "display_data"
    },
    {
     "name": "stdout",
     "output_type": "stream",
     "text": [
      "\n"
     ]
    },
    {
     "data": {
      "application/vnd.jupyter.widget-view+json": {
       "model_id": "59b499d5d2e74e2d93d0fe6b72218075",
       "version_major": 2,
       "version_minor": 0
      },
      "text/plain": [
       "HBox(children=(FloatProgress(value=0.0, max=51.0), HTML(value='')))"
      ]
     },
     "metadata": {},
     "output_type": "display_data"
    },
    {
     "name": "stdout",
     "output_type": "stream",
     "text": [
      "\n"
     ]
    }
   ],
   "source": [
    "# Scraping most recent reviews\n",
    "url = 'https://www.ratebeer.com/beer-ratings/0/{}/'\n",
    "df_recent = ratebeer_scraper(0,100,url)\n",
    "\n",
    "# Scraping new beers\n",
    "url = 'https://www.ratebeer.com/beer-ratings/5/{}/'\n",
    "df_new = ratebeer_scraper(0,10,url)\n",
    "\n",
    "# Scraping fave beers\n",
    "url = 'https://www.ratebeer.com/beer-ratings/4/{}/'\n",
    "df_fave = ratebeer_scraper(0,50,url)\n",
    "\n",
    "# Scraping rave beers\n",
    "url = 'https://www.ratebeer.com/beer-ratings/1/{}/'\n",
    "df_rave = ratebeer_scraper(0,50,url)\n",
    "\n",
    "# Scraping rant beers\n",
    "url = 'https://www.ratebeer.com/beer-ratings/2/{}/'\n",
    "df_rant = ratebeer_scraper(0,50,url)\n",
    "\n",
    "# Scraping anomalous beers\n",
    "url = 'https://www.ratebeer.com/beer-ratings/3/{}/'\n",
    "df_anom = ratebeer_scraper(0,50,url)"
   ]
  },
  {
   "cell_type": "code",
   "execution_count": 224,
   "metadata": {
    "ExecuteTime": {
     "end_time": "2020-05-11T14:55:30.740904Z",
     "start_time": "2020-05-11T14:55:30.713139Z"
    }
   },
   "outputs": [],
   "source": [
    "# getting rid of non-ascii characters from the reviews as it breaks csv\n",
    "try:\n",
    "    df_rave.review_content = df_rave.review_content.apply(lambda x: x.encode('ascii', 'ignore').decode('ascii'))\n",
    "except:\n",
    "    pass"
   ]
  },
  {
   "cell_type": "code",
   "execution_count": 225,
   "metadata": {
    "ExecuteTime": {
     "end_time": "2020-05-11T14:55:30.882140Z",
     "start_time": "2020-05-11T14:55:30.744924Z"
    }
   },
   "outputs": [],
   "source": [
    "# read current data from csv (there is a backup at all_reviews_backup.csv)\n",
    "df = pd.read_csv('all_reviews.csv')"
   ]
  },
  {
   "cell_type": "code",
   "execution_count": 226,
   "metadata": {
    "ExecuteTime": {
     "end_time": "2020-05-11T14:55:30.993695Z",
     "start_time": "2020-05-11T14:55:30.884655Z"
    }
   },
   "outputs": [
    {
     "name": "stdout",
     "output_type": "stream",
     "text": [
      "24291\n",
      "19937\n"
     ]
    }
   ],
   "source": [
    "# concatenating all of the scrapes together with the old df\n",
    "try:\n",
    "    df = pd.concat([df, df_recent, df_new, df_fave, df_rave, df_rant, df_anom])\n",
    "except:\n",
    "    df = pd.concat([df, df_recent])\n",
    "print(len(df))\n",
    "df.drop_duplicates(inplace=True)\n",
    "print(len(df))\n",
    "df.beer_name = df.beer_name.apply(lambda x: x.strip())\n",
    "\n"
   ]
  },
  {
   "cell_type": "code",
   "execution_count": 227,
   "metadata": {
    "ExecuteTime": {
     "end_time": "2020-05-11T14:55:31.017266Z",
     "start_time": "2020-05-11T14:55:31.001829Z"
    }
   },
   "outputs": [
    {
     "data": {
      "text/html": [
       "<div>\n",
       "<style scoped>\n",
       "    .dataframe tbody tr th:only-of-type {\n",
       "        vertical-align: middle;\n",
       "    }\n",
       "\n",
       "    .dataframe tbody tr th {\n",
       "        vertical-align: top;\n",
       "    }\n",
       "\n",
       "    .dataframe thead th {\n",
       "        text-align: right;\n",
       "    }\n",
       "</style>\n",
       "<table border=\"1\" class=\"dataframe\">\n",
       "  <thead>\n",
       "    <tr style=\"text-align: right;\">\n",
       "      <th></th>\n",
       "      <th>beer_name</th>\n",
       "      <th>beer_rating</th>\n",
       "      <th>brewery_location</th>\n",
       "      <th>brewery_name</th>\n",
       "      <th>review_content</th>\n",
       "      <th>reviewer_name</th>\n",
       "    </tr>\n",
       "  </thead>\n",
       "  <tbody>\n",
       "    <tr>\n",
       "      <th>0</th>\n",
       "      <td>St. Peter's Ruby Red Ale</td>\n",
       "      <td>3.3</td>\n",
       "      <td>Bungay, Suffolk</td>\n",
       "      <td>St. Peter's Brewery</td>\n",
       "      <td>Ruby color, offwhite coam. Aroma and taste: fl...</td>\n",
       "      <td>alex_leit</td>\n",
       "    </tr>\n",
       "    <tr>\n",
       "      <th>1</th>\n",
       "      <td>Shepherd Neame Spitfire (Bottle)</td>\n",
       "      <td>2.2</td>\n",
       "      <td>Faversham, Kent</td>\n",
       "      <td>Shepherd Neame</td>\n",
       "      <td>Disappointing show from the lads at ‘Britain’s...</td>\n",
       "      <td>shivermetimber.gray</td>\n",
       "    </tr>\n",
       "    <tr>\n",
       "      <th>2</th>\n",
       "      <td>Arbor Rocketman</td>\n",
       "      <td>3.8</td>\n",
       "      <td>Bristol, Gloucestershire</td>\n",
       "      <td>Arbor Ales</td>\n",
       "      <td>Puszka. Mętne o żółtym kolorze. Piana biała,ob...</td>\n",
       "      <td>MarcinG</td>\n",
       "    </tr>\n",
       "    <tr>\n",
       "      <th>3</th>\n",
       "      <td>Shepherd Neame India Pale Ale (Bottle)</td>\n",
       "      <td>3.4</td>\n",
       "      <td>Faversham, Kent</td>\n",
       "      <td>Shepherd Neame</td>\n",
       "      <td>Bottle. Amber with bronze color and white foam...</td>\n",
       "      <td>alex_leit</td>\n",
       "    </tr>\n",
       "    <tr>\n",
       "      <th>4</th>\n",
       "      <td>Shepherd Neame Christmas Ale</td>\n",
       "      <td>3.3</td>\n",
       "      <td>Faversham, Kent</td>\n",
       "      <td>Shepherd Neame</td>\n",
       "      <td>Bottle. Aroma: English hops and malts with tof...</td>\n",
       "      <td>alex_leit</td>\n",
       "    </tr>\n",
       "    <tr>\n",
       "      <th>...</th>\n",
       "      <td>...</td>\n",
       "      <td>...</td>\n",
       "      <td>...</td>\n",
       "      <td>...</td>\n",
       "      <td>...</td>\n",
       "      <td>...</td>\n",
       "    </tr>\n",
       "    <tr>\n",
       "      <th>760</th>\n",
       "      <td>Hatherwood Plunged Orange Pale Ale</td>\n",
       "      <td>5.0</td>\n",
       "      <td>+2</td>\n",
       "      <td>Lidl UK</td>\n",
       "      <td>I like it. It’s nice. I like it. It’s nice. I ...</td>\n",
       "      <td>MashTapper40</td>\n",
       "    </tr>\n",
       "    <tr>\n",
       "      <th>761</th>\n",
       "      <td>Vox Populi Session Fruit Punch IPA</td>\n",
       "      <td>1.2</td>\n",
       "      <td>-2</td>\n",
       "      <td>Microbrasserie Vox Populi (Groupe Glutenberg)</td>\n",
       "      <td>Diacetyl. Greyish brown colour, clearly oxidiz...</td>\n",
       "      <td>john_bl</td>\n",
       "    </tr>\n",
       "    <tr>\n",
       "      <th>762</th>\n",
       "      <td>Martens Gold</td>\n",
       "      <td>3.4</td>\n",
       "      <td>+1.6</td>\n",
       "      <td>Martens</td>\n",
       "      <td>500ml can from Malta. It is a very good summer...</td>\n",
       "      <td>dr.dod</td>\n",
       "    </tr>\n",
       "    <tr>\n",
       "      <th>763</th>\n",
       "      <td>Parallel 49 Hammermill</td>\n",
       "      <td>1.1</td>\n",
       "      <td>-1.8</td>\n",
       "      <td>Parallel 49 Brewing Company</td>\n",
       "      <td>Cloudy orange, no head whatsoever. This is hor...</td>\n",
       "      <td>Crit</td>\n",
       "    </tr>\n",
       "    <tr>\n",
       "      <th>764</th>\n",
       "      <td>Michelob Ultra Amber</td>\n",
       "      <td>5.0</td>\n",
       "      <td>+3.3</td>\n",
       "      <td>Anheuser-Busch InBev (AB InBev)</td>\n",
       "      <td>My favorite been has always been Amber Bock , ...</td>\n",
       "      <td>PintTapper43</td>\n",
       "    </tr>\n",
       "  </tbody>\n",
       "</table>\n",
       "<p>19937 rows × 6 columns</p>\n",
       "</div>"
      ],
      "text/plain": [
       "                                  beer_name beer_rating  \\\n",
       "0                  St. Peter's Ruby Red Ale         3.3   \n",
       "1          Shepherd Neame Spitfire (Bottle)         2.2   \n",
       "2                           Arbor Rocketman         3.8   \n",
       "3    Shepherd Neame India Pale Ale (Bottle)         3.4   \n",
       "4              Shepherd Neame Christmas Ale         3.3   \n",
       "..                                      ...         ...   \n",
       "760      Hatherwood Plunged Orange Pale Ale         5.0   \n",
       "761      Vox Populi Session Fruit Punch IPA         1.2   \n",
       "762                            Martens Gold         3.4   \n",
       "763                  Parallel 49 Hammermill         1.1   \n",
       "764                    Michelob Ultra Amber         5.0   \n",
       "\n",
       "             brewery_location                                   brewery_name  \\\n",
       "0             Bungay, Suffolk                            St. Peter's Brewery   \n",
       "1             Faversham, Kent                                 Shepherd Neame   \n",
       "2    Bristol, Gloucestershire                                     Arbor Ales   \n",
       "3             Faversham, Kent                                 Shepherd Neame   \n",
       "4             Faversham, Kent                                 Shepherd Neame   \n",
       "..                        ...                                            ...   \n",
       "760                        +2                                        Lidl UK   \n",
       "761                        -2  Microbrasserie Vox Populi (Groupe Glutenberg)   \n",
       "762                      +1.6                                        Martens   \n",
       "763                      -1.8                    Parallel 49 Brewing Company   \n",
       "764                      +3.3                Anheuser-Busch InBev (AB InBev)   \n",
       "\n",
       "                                        review_content        reviewer_name  \n",
       "0    Ruby color, offwhite coam. Aroma and taste: fl...            alex_leit  \n",
       "1    Disappointing show from the lads at ‘Britain’s...  shivermetimber.gray  \n",
       "2    Puszka. Mętne o żółtym kolorze. Piana biała,ob...              MarcinG  \n",
       "3    Bottle. Amber with bronze color and white foam...            alex_leit  \n",
       "4    Bottle. Aroma: English hops and malts with tof...            alex_leit  \n",
       "..                                                 ...                  ...  \n",
       "760  I like it. It’s nice. I like it. It’s nice. I ...         MashTapper40  \n",
       "761  Diacetyl. Greyish brown colour, clearly oxidiz...              john_bl  \n",
       "762  500ml can from Malta. It is a very good summer...               dr.dod  \n",
       "763  Cloudy orange, no head whatsoever. This is hor...                 Crit  \n",
       "764  My favorite been has always been Amber Bock , ...         PintTapper43  \n",
       "\n",
       "[19937 rows x 6 columns]"
      ]
     },
     "execution_count": 227,
     "metadata": {},
     "output_type": "execute_result"
    }
   ],
   "source": [
    "df"
   ]
  },
  {
   "cell_type": "code",
   "execution_count": 228,
   "metadata": {
    "ExecuteTime": {
     "end_time": "2020-05-11T14:55:31.420589Z",
     "start_time": "2020-05-11T14:55:31.034088Z"
    }
   },
   "outputs": [],
   "source": [
    "df.to_csv('all_reviews.csv',index=False)\n",
    "# df = pd.read_csv('all_reviews.csv')\n",
    "not_found_df = pd.read_csv(\"not_found.csv\")"
   ]
  },
  {
   "cell_type": "markdown",
   "metadata": {},
   "source": [
    "## Get more information on all of the beers - Selenium"
   ]
  },
  {
   "cell_type": "code",
   "execution_count": 229,
   "metadata": {
    "ExecuteTime": {
     "end_time": "2020-05-11T14:55:31.430414Z",
     "start_time": "2020-05-11T14:55:31.425241Z"
    }
   },
   "outputs": [],
   "source": [
    "from selenium import webdriver\n",
    "import time"
   ]
  },
  {
   "cell_type": "code",
   "execution_count": 230,
   "metadata": {
    "ExecuteTime": {
     "end_time": "2020-05-11T14:55:31.472426Z",
     "start_time": "2020-05-11T14:55:31.434776Z"
    }
   },
   "outputs": [],
   "source": [
    "# extract already scraped data from previous scrapes so don't rescrape\n",
    "beer_df = pd.read_csv('beer_deets.csv')"
   ]
  },
  {
   "cell_type": "code",
   "execution_count": 231,
   "metadata": {
    "ExecuteTime": {
     "end_time": "2020-05-11T14:55:31.496029Z",
     "start_time": "2020-05-11T14:55:31.474771Z"
    }
   },
   "outputs": [
    {
     "name": "stdout",
     "output_type": "stream",
     "text": [
      "There are 58 new beers to search for!\n"
     ]
    }
   ],
   "source": [
    "# compare to the unique list to create a new to-be-scraped list\n",
    "new_beer = df.beer_name[(~df.beer_name.isin(beer_df.name_found))&(~df.beer_name.isin(not_found_df.not_found))].unique()\n",
    "print(\"There are\", len(new_beer), \"new beers to search for!\")"
   ]
  },
  {
   "cell_type": "code",
   "execution_count": 232,
   "metadata": {
    "ExecuteTime": {
     "end_time": "2020-05-11T14:58:46.371090Z",
     "start_time": "2020-05-11T14:55:31.498473Z"
    }
   },
   "outputs": [
    {
     "data": {
      "application/vnd.jupyter.widget-view+json": {
       "model_id": "7472ac3dd8a541369e1c082a30c63b0a",
       "version_major": 2,
       "version_minor": 0
      },
      "text/plain": [
       "HBox(children=(FloatProgress(value=0.0, max=58.0), HTML(value='')))"
      ]
     },
     "metadata": {},
     "output_type": "display_data"
    },
    {
     "name": "stdout",
     "output_type": "stream",
     "text": [
      "\n"
     ]
    }
   ],
   "source": [
    "item_names = []\n",
    "desc_string = []\n",
    "\n",
    "driver = webdriver.Chrome(executable_path='/Users/lukebetham/Downloads/chromedriver')\n",
    "\n",
    "for beer in tqdm(new_beer):\n",
    "    driver.get(\"https://www.ratebeer.com/search?beername={}\".format(beer))\n",
    "    time.sleep(2)\n",
    "    item_tags = driver.find_elements_by_class_name('fg-1')\n",
    "\n",
    "    x=1\n",
    "    beer_temp = []\n",
    "    for item in item_tags:        \n",
    "        if x <2:\n",
    "            try:\n",
    "                item_names.append(item.find_element_by_class_name('fd-r').text)\n",
    "                x+=1\n",
    "            except:\n",
    "                pass\n",
    "            try:\n",
    "                beer_temp.append(item.text)\n",
    "            except:\n",
    "                pass\n",
    "    try:\n",
    "        desc_string.append(beer_temp[4])\n",
    "    except:\n",
    "        desc_string.append(None)\n",
    "\n",
    "driver.quit()"
   ]
  },
  {
   "cell_type": "code",
   "execution_count": 233,
   "metadata": {
    "ExecuteTime": {
     "end_time": "2020-05-11T14:58:46.402891Z",
     "start_time": "2020-05-11T14:58:46.374349Z"
    }
   },
   "outputs": [
    {
     "data": {
      "text/html": [
       "<div>\n",
       "<style scoped>\n",
       "    .dataframe tbody tr th:only-of-type {\n",
       "        vertical-align: middle;\n",
       "    }\n",
       "\n",
       "    .dataframe tbody tr th {\n",
       "        vertical-align: top;\n",
       "    }\n",
       "\n",
       "    .dataframe thead th {\n",
       "        text-align: right;\n",
       "    }\n",
       "</style>\n",
       "<table border=\"1\" class=\"dataframe\">\n",
       "  <thead>\n",
       "    <tr style=\"text-align: right;\">\n",
       "      <th></th>\n",
       "      <th>return_string</th>\n",
       "    </tr>\n",
       "  </thead>\n",
       "  <tbody>\n",
       "    <tr>\n",
       "      <th>0</th>\n",
       "      <td>Logo\\nThe most comprehensive ratings and revie...</td>\n",
       "    </tr>\n",
       "    <tr>\n",
       "      <th>1</th>\n",
       "      <td>Pump House 4 Alarm IPA\\n🇨🇦 IPA • 7.0%\\n42\\n21\\...</td>\n",
       "    </tr>\n",
       "    <tr>\n",
       "      <th>2</th>\n",
       "      <td>Bridge and Tunnel American HC Chicory Stout\\n🇺...</td>\n",
       "    </tr>\n",
       "    <tr>\n",
       "      <th>3</th>\n",
       "      <td>New Image One More Time\\n🇺🇸 IPA - Hazy / NEIPA...</td>\n",
       "    </tr>\n",
       "    <tr>\n",
       "      <th>4</th>\n",
       "      <td>Lone Pine T-Shirt Cannon\\n🇺🇸 IPA • 7.7%\\n-\\n-\\...</td>\n",
       "    </tr>\n",
       "    <tr>\n",
       "      <th>5</th>\n",
       "      <td>Störtebeker Mittsommer-Wit\\n🇩🇪 Witbier / Belgi...</td>\n",
       "    </tr>\n",
       "    <tr>\n",
       "      <th>6</th>\n",
       "      <td>Singlecut Polemically Sent\\n🇺🇸 Stout - Imperia...</td>\n",
       "    </tr>\n",
       "    <tr>\n",
       "      <th>7</th>\n",
       "      <td>Bridge and Tunnel Get In, Shut Up, Hold On\\n🇺🇸...</td>\n",
       "    </tr>\n",
       "    <tr>\n",
       "      <th>8</th>\n",
       "      <td>Alewife Scullery 039 - Chaos Gose\\n🇺🇸 Gose • 5...</td>\n",
       "    </tr>\n",
       "    <tr>\n",
       "      <th>9</th>\n",
       "      <td>Elder Pine Anti-Hot\\n🇺🇸 IPA - Hazy / NEIPA • 6...</td>\n",
       "    </tr>\n",
       "    <tr>\n",
       "      <th>10</th>\n",
       "      <td>Solace / Ocelot Danger Zone\\n🇺🇸 IPA • 7.0%\\n-\\...</td>\n",
       "    </tr>\n",
       "    <tr>\n",
       "      <th>11</th>\n",
       "      <td>Bitburger Premium Pils\\n🇩🇪 Pilsener / Pils / P...</td>\n",
       "    </tr>\n",
       "    <tr>\n",
       "      <th>12</th>\n",
       "      <td>Limelight\\n🇺🇸 Wheat Ale • 4.8%\\n-\\n-\\n3.90\\n(1)</td>\n",
       "    </tr>\n",
       "    <tr>\n",
       "      <th>13</th>\n",
       "      <td>Friendship Rum Bunny\\n🇺🇸 Stout - Flavored • 10...</td>\n",
       "    </tr>\n",
       "    <tr>\n",
       "      <th>14</th>\n",
       "      <td>Friendship PB &amp; J Porter (Blackberry)\\n🇺🇸 Port...</td>\n",
       "    </tr>\n",
       "    <tr>\n",
       "      <th>15</th>\n",
       "      <td>New Belgium La Folie Grand Reserve PX\\n🇺🇸 Sour...</td>\n",
       "    </tr>\n",
       "    <tr>\n",
       "      <th>16</th>\n",
       "      <td>Goose Island Bourbon County Stout - Midnight O...</td>\n",
       "    </tr>\n",
       "    <tr>\n",
       "      <th>17</th>\n",
       "      <td>Side Project / Perennial The Scribe\\n🇺🇸 Quadru...</td>\n",
       "    </tr>\n",
       "    <tr>\n",
       "      <th>18</th>\n",
       "      <td>Breakside / Fremont Teamwork/Dreamwork\\n🇺🇸 Sto...</td>\n",
       "    </tr>\n",
       "    <tr>\n",
       "      <th>19</th>\n",
       "      <td>Ecliptic Meridian Vanilla Stout\\n🇺🇸 Stout - Dr...</td>\n",
       "    </tr>\n",
       "    <tr>\n",
       "      <th>20</th>\n",
       "      <td>Stone (Berlin) White Ghost/Geist Berliner Weis...</td>\n",
       "    </tr>\n",
       "    <tr>\n",
       "      <th>21</th>\n",
       "      <td>Casa Agria Digital Forest\\n🇺🇸 IPA - Hazy / NEI...</td>\n",
       "    </tr>\n",
       "    <tr>\n",
       "      <th>22</th>\n",
       "      <td>Burley Oak Blackberry Cherry J.R.E.A.M.\\n🇺🇸 So...</td>\n",
       "    </tr>\n",
       "    <tr>\n",
       "      <th>23</th>\n",
       "      <td>Forager Hidden Treasures\\n🇺🇸 Saison / Farmhous...</td>\n",
       "    </tr>\n",
       "    <tr>\n",
       "      <th>24</th>\n",
       "      <td>Berliner Kindl Jubiläums Pilsener Premium\\n🇩🇪 ...</td>\n",
       "    </tr>\n",
       "    <tr>\n",
       "      <th>25</th>\n",
       "      <td>Forager Kitten Treats (2019)\\n🇺🇸 BarleyWine / ...</td>\n",
       "    </tr>\n",
       "    <tr>\n",
       "      <th>26</th>\n",
       "      <td>Forager Pudding Goggles Porter\\n🇺🇸 Porter - Im...</td>\n",
       "    </tr>\n",
       "    <tr>\n",
       "      <th>27</th>\n",
       "      <td>Burial Ulfberht Baltic Porter (2017-)\\n🇺🇸 Port...</td>\n",
       "    </tr>\n",
       "    <tr>\n",
       "      <th>28</th>\n",
       "      <td>Forager Pudding Dribbles\\n🇺🇸 Porter - Imperial...</td>\n",
       "    </tr>\n",
       "    <tr>\n",
       "      <th>29</th>\n",
       "      <td>Bottle Logic / Magnanimous Transmit In Color\\n...</td>\n",
       "    </tr>\n",
       "    <tr>\n",
       "      <th>30</th>\n",
       "      <td>Casa Agria Del Norte\\n🇺🇸 Pale Ale - American /...</td>\n",
       "    </tr>\n",
       "    <tr>\n",
       "      <th>31</th>\n",
       "      <td>Barrier Suite IPA\\n🇺🇸 IPA - Hazy / NEIPA • 7.8...</td>\n",
       "    </tr>\n",
       "    <tr>\n",
       "      <th>32</th>\n",
       "      <td>Hidden Springs Moby Thiccc\\n🇺🇸 Stout - Imperia...</td>\n",
       "    </tr>\n",
       "    <tr>\n",
       "      <th>33</th>\n",
       "      <td>Arcobräu Mooser Liesl\\n🇩🇪 Helles / Dortmunder ...</td>\n",
       "    </tr>\n",
       "    <tr>\n",
       "      <th>34</th>\n",
       "      <td>Revision Dr. Lupulin 3X IPA\\n🇺🇸 IIPA DIPA - Im...</td>\n",
       "    </tr>\n",
       "    <tr>\n",
       "      <th>35</th>\n",
       "      <td>Union Bremer Porter\\n🇩🇪 Porter • 4.0%\\n18\\n5\\n...</td>\n",
       "    </tr>\n",
       "    <tr>\n",
       "      <th>36</th>\n",
       "      <td>CREW Republic Foundation 11\\n🇩🇪 Pale Ale - Ame...</td>\n",
       "    </tr>\n",
       "    <tr>\n",
       "      <th>37</th>\n",
       "      <td>Eichbaum Hefe Weizen Dunkel\\n🇩🇪 Weissbier - Du...</td>\n",
       "    </tr>\n",
       "    <tr>\n",
       "      <th>38</th>\n",
       "      <td>Zum Klosterhof Luke's Rye Walker\\n🇩🇪 Specialty...</td>\n",
       "    </tr>\n",
       "    <tr>\n",
       "      <th>39</th>\n",
       "      <td>Rogue XS Imperial India Pale Ale (I²PA)\\n🇺🇸 II...</td>\n",
       "    </tr>\n",
       "    <tr>\n",
       "      <th>40</th>\n",
       "      <td>York Decade\\n🇬🇧 Bitter - Ordinary / Best • 4.1...</td>\n",
       "    </tr>\n",
       "    <tr>\n",
       "      <th>41</th>\n",
       "      <td>Wylam Bohemia Pilsner\\n🇬🇧 Pilsener / Pils / Pi...</td>\n",
       "    </tr>\n",
       "    <tr>\n",
       "      <th>42</th>\n",
       "      <td>Crouch Vale Wild Hop\\n🇬🇧 Blonde Ale / Golden A...</td>\n",
       "    </tr>\n",
       "    <tr>\n",
       "      <th>43</th>\n",
       "      <td>Burton Bridge Thomas Sykes\\n🇬🇧 Old Ale • 10.0%...</td>\n",
       "    </tr>\n",
       "    <tr>\n",
       "      <th>44</th>\n",
       "      <td>Zötler St. Stephansbock (im Rotweinfass Gereif...</td>\n",
       "    </tr>\n",
       "    <tr>\n",
       "      <th>45</th>\n",
       "      <td>Orca naitaka\\n🇩🇪 Sour / Wild Beer - Flavored •...</td>\n",
       "    </tr>\n",
       "    <tr>\n",
       "      <th>46</th>\n",
       "      <td>Eulchen Rettungsbier\\n🇩🇪 Zwickelbier / Kellerb...</td>\n",
       "    </tr>\n",
       "    <tr>\n",
       "      <th>47</th>\n",
       "      <td>Eulchen Mainzgefühl (Sour Version)\\n🇩🇪 IPA - S...</td>\n",
       "    </tr>\n",
       "    <tr>\n",
       "      <th>48</th>\n",
       "      <td>Blech.Brut Kollektive Monologe\\n🇩🇪 IPA - Hazy ...</td>\n",
       "    </tr>\n",
       "    <tr>\n",
       "      <th>49</th>\n",
       "      <td>Blech.Brut Systemrelevant\\n🇩🇪 IPA - Hazy / NEI...</td>\n",
       "    </tr>\n",
       "    <tr>\n",
       "      <th>50</th>\n",
       "      <td>Beagle Fuegian Red Ale\\n🇦🇷 Red Ale - Irish • 6...</td>\n",
       "    </tr>\n",
       "    <tr>\n",
       "      <th>51</th>\n",
       "      <td>Einbecker Brauherren Premium Pils\\n🇩🇪 Pilsener...</td>\n",
       "    </tr>\n",
       "    <tr>\n",
       "      <th>52</th>\n",
       "      <td>Unverhopft Aces Low\\n🇩🇪 Pale Lager - India / H...</td>\n",
       "    </tr>\n",
       "    <tr>\n",
       "      <th>53</th>\n",
       "      <td>Orca Lauf, Forest, Lauf\\n🇩🇪 Saison / Farmhouse...</td>\n",
       "    </tr>\n",
       "    <tr>\n",
       "      <th>54</th>\n",
       "      <td>Neumarkter Lammsbräu Glutenfrei\\n🇩🇪 Specialty ...</td>\n",
       "    </tr>\n",
       "    <tr>\n",
       "      <th>55</th>\n",
       "      <td>Verdant Intimately Spaced Pylons\\n🇬🇧 IPA - Haz...</td>\n",
       "    </tr>\n",
       "    <tr>\n",
       "      <th>56</th>\n",
       "      <td>Wilde Child Explicit Emphasis\\n🇬🇧 Stout - Milk...</td>\n",
       "    </tr>\n",
       "    <tr>\n",
       "      <th>57</th>\n",
       "      <td>Maplewood Juice Pants\\n🇺🇸 IPA • 7.0%\\n96\\n98\\n...</td>\n",
       "    </tr>\n",
       "  </tbody>\n",
       "</table>\n",
       "</div>"
      ],
      "text/plain": [
       "                                        return_string\n",
       "0   Logo\\nThe most comprehensive ratings and revie...\n",
       "1   Pump House 4 Alarm IPA\\n🇨🇦 IPA • 7.0%\\n42\\n21\\...\n",
       "2   Bridge and Tunnel American HC Chicory Stout\\n🇺...\n",
       "3   New Image One More Time\\n🇺🇸 IPA - Hazy / NEIPA...\n",
       "4   Lone Pine T-Shirt Cannon\\n🇺🇸 IPA • 7.7%\\n-\\n-\\...\n",
       "5   Störtebeker Mittsommer-Wit\\n🇩🇪 Witbier / Belgi...\n",
       "6   Singlecut Polemically Sent\\n🇺🇸 Stout - Imperia...\n",
       "7   Bridge and Tunnel Get In, Shut Up, Hold On\\n🇺🇸...\n",
       "8   Alewife Scullery 039 - Chaos Gose\\n🇺🇸 Gose • 5...\n",
       "9   Elder Pine Anti-Hot\\n🇺🇸 IPA - Hazy / NEIPA • 6...\n",
       "10  Solace / Ocelot Danger Zone\\n🇺🇸 IPA • 7.0%\\n-\\...\n",
       "11  Bitburger Premium Pils\\n🇩🇪 Pilsener / Pils / P...\n",
       "12    Limelight\\n🇺🇸 Wheat Ale • 4.8%\\n-\\n-\\n3.90\\n(1)\n",
       "13  Friendship Rum Bunny\\n🇺🇸 Stout - Flavored • 10...\n",
       "14  Friendship PB & J Porter (Blackberry)\\n🇺🇸 Port...\n",
       "15  New Belgium La Folie Grand Reserve PX\\n🇺🇸 Sour...\n",
       "16  Goose Island Bourbon County Stout - Midnight O...\n",
       "17  Side Project / Perennial The Scribe\\n🇺🇸 Quadru...\n",
       "18  Breakside / Fremont Teamwork/Dreamwork\\n🇺🇸 Sto...\n",
       "19  Ecliptic Meridian Vanilla Stout\\n🇺🇸 Stout - Dr...\n",
       "20  Stone (Berlin) White Ghost/Geist Berliner Weis...\n",
       "21  Casa Agria Digital Forest\\n🇺🇸 IPA - Hazy / NEI...\n",
       "22  Burley Oak Blackberry Cherry J.R.E.A.M.\\n🇺🇸 So...\n",
       "23  Forager Hidden Treasures\\n🇺🇸 Saison / Farmhous...\n",
       "24  Berliner Kindl Jubiläums Pilsener Premium\\n🇩🇪 ...\n",
       "25  Forager Kitten Treats (2019)\\n🇺🇸 BarleyWine / ...\n",
       "26  Forager Pudding Goggles Porter\\n🇺🇸 Porter - Im...\n",
       "27  Burial Ulfberht Baltic Porter (2017-)\\n🇺🇸 Port...\n",
       "28  Forager Pudding Dribbles\\n🇺🇸 Porter - Imperial...\n",
       "29  Bottle Logic / Magnanimous Transmit In Color\\n...\n",
       "30  Casa Agria Del Norte\\n🇺🇸 Pale Ale - American /...\n",
       "31  Barrier Suite IPA\\n🇺🇸 IPA - Hazy / NEIPA • 7.8...\n",
       "32  Hidden Springs Moby Thiccc\\n🇺🇸 Stout - Imperia...\n",
       "33  Arcobräu Mooser Liesl\\n🇩🇪 Helles / Dortmunder ...\n",
       "34  Revision Dr. Lupulin 3X IPA\\n🇺🇸 IIPA DIPA - Im...\n",
       "35  Union Bremer Porter\\n🇩🇪 Porter • 4.0%\\n18\\n5\\n...\n",
       "36  CREW Republic Foundation 11\\n🇩🇪 Pale Ale - Ame...\n",
       "37  Eichbaum Hefe Weizen Dunkel\\n🇩🇪 Weissbier - Du...\n",
       "38  Zum Klosterhof Luke's Rye Walker\\n🇩🇪 Specialty...\n",
       "39  Rogue XS Imperial India Pale Ale (I²PA)\\n🇺🇸 II...\n",
       "40  York Decade\\n🇬🇧 Bitter - Ordinary / Best • 4.1...\n",
       "41  Wylam Bohemia Pilsner\\n🇬🇧 Pilsener / Pils / Pi...\n",
       "42  Crouch Vale Wild Hop\\n🇬🇧 Blonde Ale / Golden A...\n",
       "43  Burton Bridge Thomas Sykes\\n🇬🇧 Old Ale • 10.0%...\n",
       "44  Zötler St. Stephansbock (im Rotweinfass Gereif...\n",
       "45  Orca naitaka\\n🇩🇪 Sour / Wild Beer - Flavored •...\n",
       "46  Eulchen Rettungsbier\\n🇩🇪 Zwickelbier / Kellerb...\n",
       "47  Eulchen Mainzgefühl (Sour Version)\\n🇩🇪 IPA - S...\n",
       "48  Blech.Brut Kollektive Monologe\\n🇩🇪 IPA - Hazy ...\n",
       "49  Blech.Brut Systemrelevant\\n🇩🇪 IPA - Hazy / NEI...\n",
       "50  Beagle Fuegian Red Ale\\n🇦🇷 Red Ale - Irish • 6...\n",
       "51  Einbecker Brauherren Premium Pils\\n🇩🇪 Pilsener...\n",
       "52  Unverhopft Aces Low\\n🇩🇪 Pale Lager - India / H...\n",
       "53  Orca Lauf, Forest, Lauf\\n🇩🇪 Saison / Farmhouse...\n",
       "54  Neumarkter Lammsbräu Glutenfrei\\n🇩🇪 Specialty ...\n",
       "55  Verdant Intimately Spaced Pylons\\n🇬🇧 IPA - Haz...\n",
       "56  Wilde Child Explicit Emphasis\\n🇬🇧 Stout - Milk...\n",
       "57  Maplewood Juice Pants\\n🇺🇸 IPA • 7.0%\\n96\\n98\\n..."
      ]
     },
     "execution_count": 233,
     "metadata": {},
     "output_type": "execute_result"
    }
   ],
   "source": [
    "beer_deets = pd.DataFrame(desc_string, columns = ['return_string'])\n",
    "beer_deets"
   ]
  },
  {
   "cell_type": "code",
   "execution_count": 234,
   "metadata": {
    "ExecuteTime": {
     "end_time": "2020-05-11T14:58:46.427703Z",
     "start_time": "2020-05-11T14:58:46.408030Z"
    }
   },
   "outputs": [],
   "source": [
    "## cleaning the scraped data\n",
    "beer_deets.dropna(inplace=True)\n",
    "beer_deets = beer_deets[~beer_deets.return_string.str.startswith('Logo\\n')].copy()\n",
    "no_alcohol = beer_deets[~beer_deets.return_string.str.contains('%')].copy()\n",
    "beer_deets = beer_deets[beer_deets.return_string.str.contains('%')].copy()\n"
   ]
  },
  {
   "cell_type": "code",
   "execution_count": 235,
   "metadata": {
    "ExecuteTime": {
     "end_time": "2020-05-11T14:58:46.448067Z",
     "start_time": "2020-05-11T14:58:46.430294Z"
    }
   },
   "outputs": [],
   "source": [
    "# sorting the scraped data into columns\n",
    "beer_deets['name_found'] = beer_deets.return_string.apply(lambda x: x.split('\\n')[0].strip())\n",
    "beer_deets['flag'] = beer_deets.return_string.apply(lambda x: x.split('\\n')[1].split('•')[0].split(\" \")[0])\n",
    "beer_deets['type'] = beer_deets.return_string.apply(lambda x: x.split('\\n')[1].split('•')[0][2:])\n",
    "beer_deets['abv'] = beer_deets.return_string.apply(lambda x: float(x.split('\\n')[1].split('•')[1].replace(\"%\",\"\")))\n",
    "beer_deets['rb_overall_score'] = beer_deets.return_string.apply(lambda x: x.split('\\n')[2])\n",
    "beer_deets['rb_style_score'] = beer_deets.return_string.apply(lambda x: x.split('\\n')[3])\n",
    "beer_deets['rb_user_rating'] = beer_deets.return_string.apply(lambda x: x.split('\\n')[4])\n",
    "beer_deets['rb_rating_number'] = beer_deets.return_string.apply(lambda x: x.split('\\n')[5].replace(\"(\",\"\").replace(\")\",\"\"))\n"
   ]
  },
  {
   "cell_type": "code",
   "execution_count": 236,
   "metadata": {
    "ExecuteTime": {
     "end_time": "2020-05-11T14:58:46.487519Z",
     "start_time": "2020-05-11T14:58:46.450943Z"
    }
   },
   "outputs": [
    {
     "data": {
      "text/html": [
       "<div>\n",
       "<style scoped>\n",
       "    .dataframe tbody tr th:only-of-type {\n",
       "        vertical-align: middle;\n",
       "    }\n",
       "\n",
       "    .dataframe tbody tr th {\n",
       "        vertical-align: top;\n",
       "    }\n",
       "\n",
       "    .dataframe thead th {\n",
       "        text-align: right;\n",
       "    }\n",
       "</style>\n",
       "<table border=\"1\" class=\"dataframe\">\n",
       "  <thead>\n",
       "    <tr style=\"text-align: right;\">\n",
       "      <th></th>\n",
       "      <th>return_string</th>\n",
       "      <th>name_found</th>\n",
       "      <th>flag</th>\n",
       "      <th>type</th>\n",
       "      <th>abv</th>\n",
       "      <th>rb_overall_score</th>\n",
       "      <th>rb_style_score</th>\n",
       "      <th>rb_user_rating</th>\n",
       "      <th>rb_rating_number</th>\n",
       "    </tr>\n",
       "  </thead>\n",
       "  <tbody>\n",
       "  </tbody>\n",
       "</table>\n",
       "</div>"
      ],
      "text/plain": [
       "Empty DataFrame\n",
       "Columns: [return_string, name_found, flag, type, abv, rb_overall_score, rb_style_score, rb_user_rating, rb_rating_number]\n",
       "Index: []"
      ]
     },
     "execution_count": 236,
     "metadata": {},
     "output_type": "execute_result"
    }
   ],
   "source": [
    "# sorting the no alcohol measure\n",
    "no_alcohol['name_found'] = no_alcohol.return_string.apply(lambda x: x.split('\\n')[0].strip())\n",
    "no_alcohol['flag'] = no_alcohol.return_string.apply(lambda x: x.split('\\n')[1].split('•')[0].split(\" \")[0])\n",
    "no_alcohol['type'] = no_alcohol.return_string.apply(lambda x: x.split('\\n')[1].split('•')[0][2:])\n",
    "no_alcohol['abv'] = no_alcohol.type.apply(lambda x: 0 if x[-1] == '0' else None)\n",
    "no_alcohol['type'] = no_alcohol.type.apply(lambda x: x[:-1] if x[-1] == '0' else x)\n",
    "no_alcohol['check'] = no_alcohol.return_string.apply(lambda x: len(x.split('\\n')))\n",
    "no_alcohol = no_alcohol[no_alcohol['check']>4].copy()\n",
    "no_alcohol['rb_overall_score'] = no_alcohol.return_string.apply(lambda x: x.split('\\n')[2])\n",
    "no_alcohol['rb_style_score'] = no_alcohol.return_string.apply(lambda x: x.split('\\n')[3])\n",
    "no_alcohol['rb_user_rating'] = no_alcohol.return_string.apply(lambda x: x.split('\\n')[4])\n",
    "no_alcohol['rb_rating_number'] = no_alcohol.return_string.apply(lambda x: x.split('\\n')[5].replace(\"(\",\"\").replace(\")\",\"\"))\n",
    "no_alcohol.drop('check',inplace=True, axis=1)\n",
    "\n",
    "no_alcohol"
   ]
  },
  {
   "cell_type": "code",
   "execution_count": 237,
   "metadata": {
    "ExecuteTime": {
     "end_time": "2020-05-11T14:58:46.519029Z",
     "start_time": "2020-05-11T14:58:46.494952Z"
    }
   },
   "outputs": [],
   "source": [
    "beer_df = pd.concat([beer_df,beer_deets,no_alcohol])"
   ]
  },
  {
   "cell_type": "code",
   "execution_count": 238,
   "metadata": {
    "ExecuteTime": {
     "end_time": "2020-05-11T14:58:46.545248Z",
     "start_time": "2020-05-11T14:58:46.521285Z"
    }
   },
   "outputs": [
    {
     "data": {
      "text/html": [
       "<div>\n",
       "<style scoped>\n",
       "    .dataframe tbody tr th:only-of-type {\n",
       "        vertical-align: middle;\n",
       "    }\n",
       "\n",
       "    .dataframe tbody tr th {\n",
       "        vertical-align: top;\n",
       "    }\n",
       "\n",
       "    .dataframe thead th {\n",
       "        text-align: right;\n",
       "    }\n",
       "</style>\n",
       "<table border=\"1\" class=\"dataframe\">\n",
       "  <thead>\n",
       "    <tr style=\"text-align: right;\">\n",
       "      <th></th>\n",
       "      <th>return_string</th>\n",
       "      <th>flag</th>\n",
       "      <th>type</th>\n",
       "      <th>abv</th>\n",
       "      <th>rb_overall_score</th>\n",
       "      <th>rb_style_score</th>\n",
       "      <th>rb_user_rating</th>\n",
       "      <th>rb_rating_number</th>\n",
       "      <th>name_found</th>\n",
       "    </tr>\n",
       "  </thead>\n",
       "  <tbody>\n",
       "    <tr>\n",
       "      <th>0</th>\n",
       "      <td>St. Peter's Ruby Red Ale\\n🇬🇧 Bitter - Ordinary...</td>\n",
       "      <td>🇬🇧</td>\n",
       "      <td>Bitter - Ordinary / Best</td>\n",
       "      <td>4.3</td>\n",
       "      <td>49</td>\n",
       "      <td>95</td>\n",
       "      <td>3.25</td>\n",
       "      <td>415</td>\n",
       "      <td>St. Peter's Ruby Red Ale</td>\n",
       "    </tr>\n",
       "    <tr>\n",
       "      <th>1</th>\n",
       "      <td>Shepherd Neame Spitfire (Bottle)\\n🇬🇧 Bitter - ...</td>\n",
       "      <td>🇬🇧</td>\n",
       "      <td>Bitter - Ordinary / Best</td>\n",
       "      <td>4.5</td>\n",
       "      <td>34</td>\n",
       "      <td>59</td>\n",
       "      <td>3.05</td>\n",
       "      <td>1083</td>\n",
       "      <td>Shepherd Neame Spitfire (Bottle)</td>\n",
       "    </tr>\n",
       "    <tr>\n",
       "      <th>2</th>\n",
       "      <td>Arbor Rocketman\\n🇬🇧 IPA • 6.0%\\n95\\n97\\n3.74\\n...</td>\n",
       "      <td>🇬🇧</td>\n",
       "      <td>IPA</td>\n",
       "      <td>6.0</td>\n",
       "      <td>95</td>\n",
       "      <td>97</td>\n",
       "      <td>3.74</td>\n",
       "      <td>59</td>\n",
       "      <td>Arbor Rocketman</td>\n",
       "    </tr>\n",
       "    <tr>\n",
       "      <th>3</th>\n",
       "      <td>Shepherd Neame India Pale Ale (Bottle)\\n🇬🇧 IPA...</td>\n",
       "      <td>🇬🇧</td>\n",
       "      <td>IPA - English</td>\n",
       "      <td>6.1</td>\n",
       "      <td>46</td>\n",
       "      <td>47</td>\n",
       "      <td>3.22</td>\n",
       "      <td>420</td>\n",
       "      <td>Shepherd Neame India Pale Ale (Bottle)</td>\n",
       "    </tr>\n",
       "    <tr>\n",
       "      <th>4</th>\n",
       "      <td>Shepherd Neame Christmas Ale\\n🇬🇧 Strong Ale - ...</td>\n",
       "      <td>🇬🇧</td>\n",
       "      <td>Strong Ale - English</td>\n",
       "      <td>7.0</td>\n",
       "      <td>45</td>\n",
       "      <td>46</td>\n",
       "      <td>3.18</td>\n",
       "      <td>409</td>\n",
       "      <td>Shepherd Neame Christmas Ale</td>\n",
       "    </tr>\n",
       "    <tr>\n",
       "      <th>...</th>\n",
       "      <td>...</td>\n",
       "      <td>...</td>\n",
       "      <td>...</td>\n",
       "      <td>...</td>\n",
       "      <td>...</td>\n",
       "      <td>...</td>\n",
       "      <td>...</td>\n",
       "      <td>...</td>\n",
       "      <td>...</td>\n",
       "    </tr>\n",
       "    <tr>\n",
       "      <th>53</th>\n",
       "      <td>Orca Lauf, Forest, Lauf\\n🇩🇪 Saison / Farmhouse...</td>\n",
       "      <td>🇩🇪</td>\n",
       "      <td>Saison / Farmhouse - Flavored</td>\n",
       "      <td>6.5</td>\n",
       "      <td>-</td>\n",
       "      <td>-</td>\n",
       "      <td>3.00</td>\n",
       "      <td>1</td>\n",
       "      <td>Orca Lauf, Forest, Lauf</td>\n",
       "    </tr>\n",
       "    <tr>\n",
       "      <th>54</th>\n",
       "      <td>Neumarkter Lammsbräu Glutenfrei\\n🇩🇪 Specialty ...</td>\n",
       "      <td>🇩🇪</td>\n",
       "      <td>Specialty Grain - Other</td>\n",
       "      <td>4.7</td>\n",
       "      <td>8</td>\n",
       "      <td>8</td>\n",
       "      <td>2.50</td>\n",
       "      <td>141</td>\n",
       "      <td>Neumarkter Lammsbräu Glutenfrei</td>\n",
       "    </tr>\n",
       "    <tr>\n",
       "      <th>55</th>\n",
       "      <td>Verdant Intimately Spaced Pylons\\n🇬🇧 IPA - Haz...</td>\n",
       "      <td>🇬🇧</td>\n",
       "      <td>IPA - Hazy / NEIPA</td>\n",
       "      <td>6.0</td>\n",
       "      <td>-</td>\n",
       "      <td>-</td>\n",
       "      <td>4.30</td>\n",
       "      <td>1</td>\n",
       "      <td>Verdant Intimately Spaced Pylons</td>\n",
       "    </tr>\n",
       "    <tr>\n",
       "      <th>56</th>\n",
       "      <td>Wilde Child Explicit Emphasis\\n🇬🇧 Stout - Milk...</td>\n",
       "      <td>🇬🇧</td>\n",
       "      <td>Stout - Milk / Sweet</td>\n",
       "      <td>5.9</td>\n",
       "      <td>-</td>\n",
       "      <td>-</td>\n",
       "      <td>3.50</td>\n",
       "      <td>1</td>\n",
       "      <td>Wilde Child Explicit Emphasis</td>\n",
       "    </tr>\n",
       "    <tr>\n",
       "      <th>57</th>\n",
       "      <td>Maplewood Juice Pants\\n🇺🇸 IPA • 7.0%\\n96\\n98\\n...</td>\n",
       "      <td>🇺🇸</td>\n",
       "      <td>IPA</td>\n",
       "      <td>7.0</td>\n",
       "      <td>96</td>\n",
       "      <td>98</td>\n",
       "      <td>3.83</td>\n",
       "      <td>43</td>\n",
       "      <td>Maplewood Juice Pants</td>\n",
       "    </tr>\n",
       "  </tbody>\n",
       "</table>\n",
       "<p>10489 rows × 9 columns</p>\n",
       "</div>"
      ],
      "text/plain": [
       "                                        return_string flag  \\\n",
       "0   St. Peter's Ruby Red Ale\\n🇬🇧 Bitter - Ordinary...   🇬🇧   \n",
       "1   Shepherd Neame Spitfire (Bottle)\\n🇬🇧 Bitter - ...   🇬🇧   \n",
       "2   Arbor Rocketman\\n🇬🇧 IPA • 6.0%\\n95\\n97\\n3.74\\n...   🇬🇧   \n",
       "3   Shepherd Neame India Pale Ale (Bottle)\\n🇬🇧 IPA...   🇬🇧   \n",
       "4   Shepherd Neame Christmas Ale\\n🇬🇧 Strong Ale - ...   🇬🇧   \n",
       "..                                                ...  ...   \n",
       "53  Orca Lauf, Forest, Lauf\\n🇩🇪 Saison / Farmhouse...   🇩🇪   \n",
       "54  Neumarkter Lammsbräu Glutenfrei\\n🇩🇪 Specialty ...   🇩🇪   \n",
       "55  Verdant Intimately Spaced Pylons\\n🇬🇧 IPA - Haz...   🇬🇧   \n",
       "56  Wilde Child Explicit Emphasis\\n🇬🇧 Stout - Milk...   🇬🇧   \n",
       "57  Maplewood Juice Pants\\n🇺🇸 IPA • 7.0%\\n96\\n98\\n...   🇺🇸   \n",
       "\n",
       "                               type  abv rb_overall_score rb_style_score  \\\n",
       "0         Bitter - Ordinary / Best   4.3               49             95   \n",
       "1         Bitter - Ordinary / Best   4.5               34             59   \n",
       "2                              IPA   6.0               95             97   \n",
       "3                    IPA - English   6.1               46             47   \n",
       "4             Strong Ale - English   7.0               45             46   \n",
       "..                              ...  ...              ...            ...   \n",
       "53   Saison / Farmhouse - Flavored   6.5                -              -   \n",
       "54         Specialty Grain - Other   4.7                8              8   \n",
       "55              IPA - Hazy / NEIPA   6.0                -              -   \n",
       "56            Stout - Milk / Sweet   5.9                -              -   \n",
       "57                             IPA   7.0               96             98   \n",
       "\n",
       "   rb_user_rating rb_rating_number                              name_found  \n",
       "0            3.25              415                St. Peter's Ruby Red Ale  \n",
       "1            3.05             1083        Shepherd Neame Spitfire (Bottle)  \n",
       "2            3.74               59                         Arbor Rocketman  \n",
       "3            3.22              420  Shepherd Neame India Pale Ale (Bottle)  \n",
       "4            3.18              409            Shepherd Neame Christmas Ale  \n",
       "..            ...              ...                                     ...  \n",
       "53           3.00                1                 Orca Lauf, Forest, Lauf  \n",
       "54           2.50              141         Neumarkter Lammsbräu Glutenfrei  \n",
       "55           4.30                1        Verdant Intimately Spaced Pylons  \n",
       "56           3.50                1           Wilde Child Explicit Emphasis  \n",
       "57           3.83               43                   Maplewood Juice Pants  \n",
       "\n",
       "[10489 rows x 9 columns]"
      ]
     },
     "execution_count": 238,
     "metadata": {},
     "output_type": "execute_result"
    }
   ],
   "source": [
    "beer_df"
   ]
  },
  {
   "cell_type": "code",
   "execution_count": 239,
   "metadata": {
    "ExecuteTime": {
     "end_time": "2020-05-11T14:58:46.599934Z",
     "start_time": "2020-05-11T14:58:46.547478Z"
    }
   },
   "outputs": [
    {
     "name": "stdout",
     "output_type": "stream",
     "text": [
      "There are 2 new beers that were not found or returned errors. They will be added to the no search list.\n"
     ]
    }
   ],
   "source": [
    "# compare to the unique list to create a new to-be-scraped list\n",
    "not_found_beer = df.beer_name[~df.beer_name.isin(beer_df.name_found)].unique()\n",
    "print(\"There are\", len(not_found_beer)-len(not_found_df), \"new beers that were not found or returned errors. They will be added to the no search list.\")\n",
    "not_found_df = pd.concat([not_found_df,pd.DataFrame(not_found_beer,columns = [\"not_found\"])])\n",
    "not_found_df.drop_duplicates(inplace=True)"
   ]
  },
  {
   "cell_type": "code",
   "execution_count": 240,
   "metadata": {
    "ExecuteTime": {
     "end_time": "2020-05-11T14:58:46.688950Z",
     "start_time": "2020-05-11T14:58:46.603013Z"
    }
   },
   "outputs": [],
   "source": [
    "beer_df.to_csv('beer_deets.csv',index=False)\n",
    "not_found_df.to_csv(\"not_found.csv\", index=False)"
   ]
  },
  {
   "cell_type": "code",
   "execution_count": null,
   "metadata": {
    "ExecuteTime": {
     "end_time": "2020-05-05T14:04:40.065563Z",
     "start_time": "2020-05-05T14:04:40.053981Z"
    }
   },
   "outputs": [],
   "source": []
  },
  {
   "cell_type": "code",
   "execution_count": null,
   "metadata": {},
   "outputs": [],
   "source": []
  }
 ],
 "metadata": {
  "kernelspec": {
   "display_name": "Python 3",
   "language": "python",
   "name": "python3"
  },
  "language_info": {
   "codemirror_mode": {
    "name": "ipython",
    "version": 3
   },
   "file_extension": ".py",
   "mimetype": "text/x-python",
   "name": "python",
   "nbconvert_exporter": "python",
   "pygments_lexer": "ipython3",
   "version": "3.7.1"
  },
  "toc": {
   "base_numbering": 1,
   "nav_menu": {},
   "number_sections": true,
   "sideBar": true,
   "skip_h1_title": false,
   "title_cell": "Table of Contents",
   "title_sidebar": "Contents",
   "toc_cell": false,
   "toc_position": {},
   "toc_section_display": true,
   "toc_window_display": false
  },
  "varInspector": {
   "cols": {
    "lenName": 16,
    "lenType": 16,
    "lenVar": 40
   },
   "kernels_config": {
    "python": {
     "delete_cmd_postfix": "",
     "delete_cmd_prefix": "del ",
     "library": "var_list.py",
     "varRefreshCmd": "print(var_dic_list())"
    },
    "r": {
     "delete_cmd_postfix": ") ",
     "delete_cmd_prefix": "rm(",
     "library": "var_list.r",
     "varRefreshCmd": "cat(var_dic_list()) "
    }
   },
   "types_to_exclude": [
    "module",
    "function",
    "builtin_function_or_method",
    "instance",
    "_Feature"
   ],
   "window_display": false
  }
 },
 "nbformat": 4,
 "nbformat_minor": 4
}
