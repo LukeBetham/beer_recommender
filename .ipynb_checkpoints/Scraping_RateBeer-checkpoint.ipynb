{
 "cells": [
  {
   "cell_type": "code",
   "execution_count": 22,
   "metadata": {
    "ExecuteTime": {
     "end_time": "2020-06-08T08:08:30.741397Z",
     "start_time": "2020-06-08T08:08:30.712485Z"
    }
   },
   "outputs": [],
   "source": [
    "import requests\n",
    "import bs4\n",
    "from bs4 import BeautifulSoup\n",
    "import pandas as pd\n",
    "import re\n",
    "from tqdm.notebook import tqdm\n",
    "import matplotlib.pyplot as plt\n",
    "import seaborn as sns"
   ]
  },
  {
   "cell_type": "markdown",
   "metadata": {},
   "source": [
    "## Code which scrapes the recently reviews (only 100 pages - 1,400 reviews)"
   ]
  },
  {
   "cell_type": "code",
   "execution_count": 23,
   "metadata": {
    "ExecuteTime": {
     "end_time": "2020-06-08T08:08:30.782522Z",
     "start_time": "2020-06-08T08:08:30.746681Z"
    }
   },
   "outputs": [],
   "source": [
    "\n",
    "def ratebeer_scraper(page_start=1, page_end=2, url_set=None):\n",
    "    \n",
    "    beer_name = []\n",
    "    beer_rating = []\n",
    "    brewery_name = []\n",
    "    brewery_location = []\n",
    "    review_content = []\n",
    "    reviewer_name = []\n",
    " \n",
    "    if url_set == None:\n",
    "        print(\"Need url to run\")\n",
    "        return\n",
    "\n",
    "    for x in tqdm(range(page_start, page_end + 1)):\n",
    "        try:\n",
    "            url_format = url_set.format(x)\n",
    "            r = requests.get(url_format)\n",
    "            soup = BeautifulSoup(r.text, 'html.parser')\n",
    "            table = soup.find('table', attrs={'class': 'table'})\n",
    "            table_rows = table.find_all('tr')\n",
    "\n",
    "            for rows in table_rows:\n",
    "\n",
    "            # Scrape Beer Name    \n",
    "                try:\n",
    "                    beer_name.append(rows.find('a', attrs={'style':'font-size:20px; font-weight:bold;'}).text)\n",
    "                except:\n",
    "                    beer_name.append(None)\n",
    "            # Scrape Review Rating  \n",
    "                try:\n",
    "                    beer_rating.append(rows.find('span', attrs={'class':'uas'}).text)\n",
    "                except:\n",
    "                    beer_rating.append(None)\n",
    "            # Scrape Brewery Name  \n",
    "                try:\n",
    "                    brewery_div = rows.find('div')\n",
    "                    brewery_name.append(brewery_div.a.text)\n",
    "                except:\n",
    "                    brewery_name.append(None)\n",
    "            # Scrape Brewery Location\n",
    "                try:\n",
    "                    brewery_location.append(rows.find('span', attrs={'class':'small'}).text.strip())\n",
    "                except:\n",
    "                    brewery_location.append(None)\n",
    "            # Scrape Reviewer Name\n",
    "                try:\n",
    "                    reviewer_name.append(rows.find('span', attrs={'class':'pull-right'}).text.strip())\n",
    "                except:\n",
    "                    reviewer_name.append(None)\n",
    "            # Scrape content\n",
    "                try:\n",
    "                    review_content.append(rows.find('div', attrs={'style':\"color:#666;\"}).text.strip())\n",
    "                except:\n",
    "                    review_content.append(None)\n",
    "        except:\n",
    "            pass\n",
    "\n",
    "    beerz = pd.DataFrame({'beer_name': beer_name,\n",
    "                         'beer_rating': beer_rating,\n",
    "                        'brewery_name': brewery_name,\n",
    "                         'brewery_location': brewery_location,\n",
    "                        'review_content': review_content,\n",
    "                        'reviewer_name': reviewer_name})\n",
    "    return beerz\n",
    "\n"
   ]
  },
  {
   "cell_type": "code",
   "execution_count": 24,
   "metadata": {
    "ExecuteTime": {
     "end_time": "2020-06-08T08:12:25.017469Z",
     "start_time": "2020-06-08T08:08:30.791293Z"
    }
   },
   "outputs": [
    {
     "data": {
      "application/vnd.jupyter.widget-view+json": {
       "model_id": "5f944022b1e64a449eacaccb57789a21",
       "version_major": 2,
       "version_minor": 0
      },
      "text/plain": [
       "HBox(children=(FloatProgress(value=0.0, max=101.0), HTML(value='')))"
      ]
     },
     "metadata": {},
     "output_type": "display_data"
    },
    {
     "name": "stdout",
     "output_type": "stream",
     "text": [
      "\n"
     ]
    },
    {
     "data": {
      "application/vnd.jupyter.widget-view+json": {
       "model_id": "38ab5b57a1aa42f292b72d4fb80dc8b2",
       "version_major": 2,
       "version_minor": 0
      },
      "text/plain": [
       "HBox(children=(FloatProgress(value=0.0, max=11.0), HTML(value='')))"
      ]
     },
     "metadata": {},
     "output_type": "display_data"
    },
    {
     "name": "stdout",
     "output_type": "stream",
     "text": [
      "\n"
     ]
    },
    {
     "data": {
      "application/vnd.jupyter.widget-view+json": {
       "model_id": "f2c7da508ef649d8abf25808bef65559",
       "version_major": 2,
       "version_minor": 0
      },
      "text/plain": [
       "HBox(children=(FloatProgress(value=0.0, max=51.0), HTML(value='')))"
      ]
     },
     "metadata": {},
     "output_type": "display_data"
    },
    {
     "name": "stdout",
     "output_type": "stream",
     "text": [
      "\n"
     ]
    },
    {
     "data": {
      "application/vnd.jupyter.widget-view+json": {
       "model_id": "f0ade0b94dee4ac7b8cd96b17e1e9092",
       "version_major": 2,
       "version_minor": 0
      },
      "text/plain": [
       "HBox(children=(FloatProgress(value=0.0, max=51.0), HTML(value='')))"
      ]
     },
     "metadata": {},
     "output_type": "display_data"
    },
    {
     "name": "stdout",
     "output_type": "stream",
     "text": [
      "\n"
     ]
    },
    {
     "data": {
      "application/vnd.jupyter.widget-view+json": {
       "model_id": "ada64c08525c403daa8031024ff5c378",
       "version_major": 2,
       "version_minor": 0
      },
      "text/plain": [
       "HBox(children=(FloatProgress(value=0.0, max=51.0), HTML(value='')))"
      ]
     },
     "metadata": {},
     "output_type": "display_data"
    },
    {
     "name": "stdout",
     "output_type": "stream",
     "text": [
      "\n"
     ]
    },
    {
     "data": {
      "application/vnd.jupyter.widget-view+json": {
       "model_id": "13a1334a2f9f41ccbb8396e0c9406f9a",
       "version_major": 2,
       "version_minor": 0
      },
      "text/plain": [
       "HBox(children=(FloatProgress(value=0.0, max=51.0), HTML(value='')))"
      ]
     },
     "metadata": {},
     "output_type": "display_data"
    },
    {
     "name": "stdout",
     "output_type": "stream",
     "text": [
      "\n"
     ]
    }
   ],
   "source": [
    "# Scraping most recent reviews\n",
    "url = 'https://www.ratebeer.com/beer-ratings/0/{}/'\n",
    "df_recent = ratebeer_scraper(0,100,url)\n",
    "\n",
    "# Scraping new beers\n",
    "url = 'https://www.ratebeer.com/beer-ratings/5/{}/'\n",
    "df_new = ratebeer_scraper(0,10,url)\n",
    "\n",
    "# Scraping fave beers\n",
    "url = 'https://www.ratebeer.com/beer-ratings/4/{}/'\n",
    "df_fave = ratebeer_scraper(0,50,url)\n",
    "\n",
    "# Scraping rave beers\n",
    "url = 'https://www.ratebeer.com/beer-ratings/1/{}/'\n",
    "df_rave = ratebeer_scraper(0,50,url)\n",
    "\n",
    "# Scraping rant beers\n",
    "url = 'https://www.ratebeer.com/beer-ratings/2/{}/'\n",
    "df_rant = ratebeer_scraper(0,50,url)\n",
    "\n",
    "# Scraping anomalous beers\n",
    "url = 'https://www.ratebeer.com/beer-ratings/3/{}/'\n",
    "df_anom = ratebeer_scraper(0,50,url)"
   ]
  },
  {
   "cell_type": "code",
   "execution_count": 25,
   "metadata": {
    "ExecuteTime": {
     "end_time": "2020-06-08T08:12:25.032509Z",
     "start_time": "2020-06-08T08:12:25.020359Z"
    }
   },
   "outputs": [],
   "source": [
    "# getting rid of non-ascii characters from the reviews as it breaks csv\n",
    "try:\n",
    "    df_rave.review_content = df_rave.review_content.apply(lambda x: x.encode('ascii', 'ignore').decode('ascii'))\n",
    "except:\n",
    "    pass"
   ]
  },
  {
   "cell_type": "code",
   "execution_count": 26,
   "metadata": {
    "ExecuteTime": {
     "end_time": "2020-06-08T08:12:25.202826Z",
     "start_time": "2020-06-08T08:12:25.036614Z"
    }
   },
   "outputs": [],
   "source": [
    "# read current data from csv (there is a backup at all_reviews_backup.csv)\n",
    "df = pd.read_csv('all_reviews.csv')"
   ]
  },
  {
   "cell_type": "code",
   "execution_count": 27,
   "metadata": {
    "ExecuteTime": {
     "end_time": "2020-06-08T08:12:25.320714Z",
     "start_time": "2020-06-08T08:12:25.205027Z"
    }
   },
   "outputs": [
    {
     "name": "stdout",
     "output_type": "stream",
     "text": [
      "37227\n",
      "34008\n"
     ]
    }
   ],
   "source": [
    "# concatenating all of the scrapes together with the old df\n",
    "try:\n",
    "    df = pd.concat([df, df_recent, df_new, df_fave, df_rave, df_rant, df_anom])\n",
    "except:\n",
    "    df = pd.concat([df, df_recent])\n",
    "print(len(df))\n",
    "df.drop_duplicates(inplace=True)\n",
    "print(len(df))\n",
    "df.beer_name = df.beer_name.apply(lambda x: x.strip())\n",
    "\n"
   ]
  },
  {
   "cell_type": "code",
   "execution_count": 28,
   "metadata": {
    "ExecuteTime": {
     "end_time": "2020-06-08T08:12:25.344157Z",
     "start_time": "2020-06-08T08:12:25.323750Z"
    }
   },
   "outputs": [
    {
     "data": {
      "text/html": [
       "<div>\n",
       "<style scoped>\n",
       "    .dataframe tbody tr th:only-of-type {\n",
       "        vertical-align: middle;\n",
       "    }\n",
       "\n",
       "    .dataframe tbody tr th {\n",
       "        vertical-align: top;\n",
       "    }\n",
       "\n",
       "    .dataframe thead th {\n",
       "        text-align: right;\n",
       "    }\n",
       "</style>\n",
       "<table border=\"1\" class=\"dataframe\">\n",
       "  <thead>\n",
       "    <tr style=\"text-align: right;\">\n",
       "      <th></th>\n",
       "      <th>beer_name</th>\n",
       "      <th>beer_rating</th>\n",
       "      <th>brewery_location</th>\n",
       "      <th>brewery_name</th>\n",
       "      <th>review_content</th>\n",
       "      <th>reviewer_name</th>\n",
       "    </tr>\n",
       "  </thead>\n",
       "  <tbody>\n",
       "    <tr>\n",
       "      <th>0</th>\n",
       "      <td>St. Peter's Ruby Red Ale</td>\n",
       "      <td>3.3</td>\n",
       "      <td>Bungay, Suffolk</td>\n",
       "      <td>St. Peter's Brewery</td>\n",
       "      <td>Ruby color, offwhite coam. Aroma and taste: fl...</td>\n",
       "      <td>alex_leit</td>\n",
       "    </tr>\n",
       "    <tr>\n",
       "      <th>1</th>\n",
       "      <td>Shepherd Neame Spitfire (Bottle)</td>\n",
       "      <td>2.2</td>\n",
       "      <td>Faversham, Kent</td>\n",
       "      <td>Shepherd Neame</td>\n",
       "      <td>Disappointing show from the lads at ‘Britain’s...</td>\n",
       "      <td>shivermetimber.gray</td>\n",
       "    </tr>\n",
       "    <tr>\n",
       "      <th>2</th>\n",
       "      <td>Arbor Rocketman</td>\n",
       "      <td>3.8</td>\n",
       "      <td>Bristol, Gloucestershire</td>\n",
       "      <td>Arbor Ales</td>\n",
       "      <td>Puszka. Mętne o żółtym kolorze. Piana biała,ob...</td>\n",
       "      <td>MarcinG</td>\n",
       "    </tr>\n",
       "    <tr>\n",
       "      <th>3</th>\n",
       "      <td>Shepherd Neame India Pale Ale (Bottle)</td>\n",
       "      <td>3.4</td>\n",
       "      <td>Faversham, Kent</td>\n",
       "      <td>Shepherd Neame</td>\n",
       "      <td>Bottle. Amber with bronze color and white foam...</td>\n",
       "      <td>alex_leit</td>\n",
       "    </tr>\n",
       "    <tr>\n",
       "      <th>4</th>\n",
       "      <td>Shepherd Neame Christmas Ale</td>\n",
       "      <td>3.3</td>\n",
       "      <td>Faversham, Kent</td>\n",
       "      <td>Shepherd Neame</td>\n",
       "      <td>Bottle. Aroma: English hops and malts with tof...</td>\n",
       "      <td>alex_leit</td>\n",
       "    </tr>\n",
       "    <tr>\n",
       "      <th>...</th>\n",
       "      <td>...</td>\n",
       "      <td>...</td>\n",
       "      <td>...</td>\n",
       "      <td>...</td>\n",
       "      <td>...</td>\n",
       "      <td>...</td>\n",
       "    </tr>\n",
       "    <tr>\n",
       "      <th>760</th>\n",
       "      <td>Beach Bum Blonde Ale</td>\n",
       "      <td>5.0</td>\n",
       "      <td>+2.8</td>\n",
       "      <td>Anheuser-Busch InBev (AB InBev)</td>\n",
       "      <td>Normally not an IPA guy but this beer totally ...</td>\n",
       "      <td>mcaton</td>\n",
       "    </tr>\n",
       "    <tr>\n",
       "      <th>761</th>\n",
       "      <td>Bud Light Lime</td>\n",
       "      <td>4.0</td>\n",
       "      <td>+2.4</td>\n",
       "      <td>Anheuser-Busch InBev (AB InBev)</td>\n",
       "      <td>Ok y'all hear me out.  Bud light is gross, Im ...</td>\n",
       "      <td>LagerTicks58</td>\n",
       "    </tr>\n",
       "    <tr>\n",
       "      <th>762</th>\n",
       "      <td>Bud Light</td>\n",
       "      <td>3.5</td>\n",
       "      <td>+2.3</td>\n",
       "      <td>Anheuser-Busch InBev (AB InBev)</td>\n",
       "      <td>I have no idea why people hate on the ole bud ...</td>\n",
       "      <td>jpuch</td>\n",
       "    </tr>\n",
       "    <tr>\n",
       "      <th>763</th>\n",
       "      <td>Natural Ice</td>\n",
       "      <td>3.7</td>\n",
       "      <td>+2.6</td>\n",
       "      <td>Anheuser-Busch InBev (AB InBev)</td>\n",
       "      <td>Overall, Natty Ice is a decent beer; with havi...</td>\n",
       "      <td>jpuch</td>\n",
       "    </tr>\n",
       "    <tr>\n",
       "      <th>764</th>\n",
       "      <td>Natural Ice</td>\n",
       "      <td>3.6</td>\n",
       "      <td>+2.5</td>\n",
       "      <td>Anheuser-Busch InBev (AB InBev)</td>\n",
       "      <td>The ultimate party beer is my description of t...</td>\n",
       "      <td>bigdickivan</td>\n",
       "    </tr>\n",
       "  </tbody>\n",
       "</table>\n",
       "<p>34008 rows × 6 columns</p>\n",
       "</div>"
      ],
      "text/plain": [
       "                                  beer_name beer_rating  \\\n",
       "0                  St. Peter's Ruby Red Ale         3.3   \n",
       "1          Shepherd Neame Spitfire (Bottle)         2.2   \n",
       "2                           Arbor Rocketman         3.8   \n",
       "3    Shepherd Neame India Pale Ale (Bottle)         3.4   \n",
       "4              Shepherd Neame Christmas Ale         3.3   \n",
       "..                                      ...         ...   \n",
       "760                    Beach Bum Blonde Ale         5.0   \n",
       "761                          Bud Light Lime         4.0   \n",
       "762                               Bud Light         3.5   \n",
       "763                             Natural Ice         3.7   \n",
       "764                             Natural Ice         3.6   \n",
       "\n",
       "             brewery_location                     brewery_name  \\\n",
       "0             Bungay, Suffolk              St. Peter's Brewery   \n",
       "1             Faversham, Kent                   Shepherd Neame   \n",
       "2    Bristol, Gloucestershire                       Arbor Ales   \n",
       "3             Faversham, Kent                   Shepherd Neame   \n",
       "4             Faversham, Kent                   Shepherd Neame   \n",
       "..                        ...                              ...   \n",
       "760                      +2.8  Anheuser-Busch InBev (AB InBev)   \n",
       "761                      +2.4  Anheuser-Busch InBev (AB InBev)   \n",
       "762                      +2.3  Anheuser-Busch InBev (AB InBev)   \n",
       "763                      +2.6  Anheuser-Busch InBev (AB InBev)   \n",
       "764                      +2.5  Anheuser-Busch InBev (AB InBev)   \n",
       "\n",
       "                                        review_content        reviewer_name  \n",
       "0    Ruby color, offwhite coam. Aroma and taste: fl...            alex_leit  \n",
       "1    Disappointing show from the lads at ‘Britain’s...  shivermetimber.gray  \n",
       "2    Puszka. Mętne o żółtym kolorze. Piana biała,ob...              MarcinG  \n",
       "3    Bottle. Amber with bronze color and white foam...            alex_leit  \n",
       "4    Bottle. Aroma: English hops and malts with tof...            alex_leit  \n",
       "..                                                 ...                  ...  \n",
       "760  Normally not an IPA guy but this beer totally ...               mcaton  \n",
       "761  Ok y'all hear me out.  Bud light is gross, Im ...         LagerTicks58  \n",
       "762  I have no idea why people hate on the ole bud ...                jpuch  \n",
       "763  Overall, Natty Ice is a decent beer; with havi...                jpuch  \n",
       "764  The ultimate party beer is my description of t...          bigdickivan  \n",
       "\n",
       "[34008 rows x 6 columns]"
      ]
     },
     "execution_count": 28,
     "metadata": {},
     "output_type": "execute_result"
    }
   ],
   "source": [
    "df"
   ]
  },
  {
   "cell_type": "code",
   "execution_count": 29,
   "metadata": {
    "ExecuteTime": {
     "end_time": "2020-06-08T08:12:25.703251Z",
     "start_time": "2020-06-08T08:12:25.352346Z"
    }
   },
   "outputs": [],
   "source": [
    "df.to_csv('all_reviews.csv',index=False)\n",
    "# df = pd.read_csv('all_reviews.csv')\n",
    "not_found_df = pd.read_csv(\"not_found.csv\")"
   ]
  },
  {
   "cell_type": "markdown",
   "metadata": {},
   "source": [
    "## Get more information on all of the beers - Selenium"
   ]
  },
  {
   "cell_type": "code",
   "execution_count": 30,
   "metadata": {
    "ExecuteTime": {
     "end_time": "2020-06-08T08:12:25.710252Z",
     "start_time": "2020-06-08T08:12:25.707044Z"
    }
   },
   "outputs": [],
   "source": [
    "from selenium import webdriver\n",
    "import time"
   ]
  },
  {
   "cell_type": "code",
   "execution_count": 31,
   "metadata": {
    "ExecuteTime": {
     "end_time": "2020-06-08T08:12:25.784357Z",
     "start_time": "2020-06-08T08:12:25.712936Z"
    }
   },
   "outputs": [],
   "source": [
    "# extract already scraped data from previous scrapes so don't rescrape\n",
    "beer_df = pd.read_csv('beer_deets.csv')"
   ]
  },
  {
   "cell_type": "code",
   "execution_count": 32,
   "metadata": {
    "ExecuteTime": {
     "end_time": "2020-06-08T08:12:25.812095Z",
     "start_time": "2020-06-08T08:12:25.786988Z"
    }
   },
   "outputs": [
    {
     "name": "stdout",
     "output_type": "stream",
     "text": [
      "There are 557 new beers to search for!\n"
     ]
    }
   ],
   "source": [
    "# compare to the unique list to create a new to-be-scraped list\n",
    "new_beer = df.beer_name[(~df.beer_name.isin(beer_df.name_found))&(~df.beer_name.isin(not_found_df.not_found))].unique()\n",
    "print(\"There are\", len(new_beer), \"new beers to search for!\")"
   ]
  },
  {
   "cell_type": "code",
   "execution_count": 33,
   "metadata": {
    "ExecuteTime": {
     "end_time": "2020-06-08T08:38:51.353550Z",
     "start_time": "2020-06-08T08:12:25.817073Z"
    }
   },
   "outputs": [
    {
     "data": {
      "application/vnd.jupyter.widget-view+json": {
       "model_id": "54974dffeec74b3f8f67c3b344dcb8ea",
       "version_major": 2,
       "version_minor": 0
      },
      "text/plain": [
       "HBox(children=(FloatProgress(value=0.0, max=557.0), HTML(value='')))"
      ]
     },
     "metadata": {},
     "output_type": "display_data"
    },
    {
     "name": "stdout",
     "output_type": "stream",
     "text": [
      "\n"
     ]
    }
   ],
   "source": [
    "item_names = []\n",
    "desc_string = []\n",
    "\n",
    "driver = webdriver.Chrome(executable_path='/Users/lukebetham/Downloads/chromedriver1')\n",
    "\n",
    "for beer in tqdm(new_beer):\n",
    "    driver.get(\"https://www.ratebeer.com/search?beername={}\".format(beer))\n",
    "    time.sleep(2)\n",
    "    item_tags = driver.find_elements_by_class_name('fg-1')\n",
    "\n",
    "    x=1\n",
    "    beer_temp = []\n",
    "    for item in item_tags:        \n",
    "        if x <2:\n",
    "            try:\n",
    "                item_names.append(item.find_element_by_class_name('fd-r').text)\n",
    "                x+=1\n",
    "            except:\n",
    "                pass\n",
    "            try:\n",
    "                beer_temp.append(item.text)\n",
    "            except:\n",
    "                pass\n",
    "    try:\n",
    "        desc_string.append(beer_temp[4])\n",
    "    except:\n",
    "        desc_string.append(None)\n",
    "\n",
    "driver.quit()"
   ]
  },
  {
   "cell_type": "code",
   "execution_count": 34,
   "metadata": {
    "ExecuteTime": {
     "end_time": "2020-06-08T08:38:51.386917Z",
     "start_time": "2020-06-08T08:38:51.357694Z"
    }
   },
   "outputs": [
    {
     "data": {
      "text/html": [
       "<div>\n",
       "<style scoped>\n",
       "    .dataframe tbody tr th:only-of-type {\n",
       "        vertical-align: middle;\n",
       "    }\n",
       "\n",
       "    .dataframe tbody tr th {\n",
       "        vertical-align: top;\n",
       "    }\n",
       "\n",
       "    .dataframe thead th {\n",
       "        text-align: right;\n",
       "    }\n",
       "</style>\n",
       "<table border=\"1\" class=\"dataframe\">\n",
       "  <thead>\n",
       "    <tr style=\"text-align: right;\">\n",
       "      <th></th>\n",
       "      <th>return_string</th>\n",
       "    </tr>\n",
       "  </thead>\n",
       "  <tbody>\n",
       "    <tr>\n",
       "      <th>0</th>\n",
       "      <td>Superfreunde Fruity Devil Horns\\n🇩🇪 Pale Ale -...</td>\n",
       "    </tr>\n",
       "    <tr>\n",
       "      <th>1</th>\n",
       "      <td>Kehrwieder / Riedenburger Frischer Traum 2019+...</td>\n",
       "    </tr>\n",
       "    <tr>\n",
       "      <th>2</th>\n",
       "      <td>None</td>\n",
       "    </tr>\n",
       "    <tr>\n",
       "      <th>3</th>\n",
       "      <td>Little Earth Project Alexanders Saison 2019\\n🇬...</td>\n",
       "    </tr>\n",
       "    <tr>\n",
       "      <th>4</th>\n",
       "      <td>Holy Mountain Midnight Still - Wood Fired &amp; Ca...</td>\n",
       "    </tr>\n",
       "    <tr>\n",
       "      <th>...</th>\n",
       "      <td>...</td>\n",
       "    </tr>\n",
       "    <tr>\n",
       "      <th>552</th>\n",
       "      <td>Evergreen Topazacca Saison\\n🇨🇦 Saison / Farmho...</td>\n",
       "    </tr>\n",
       "    <tr>\n",
       "      <th>553</th>\n",
       "      <td>The Old Third Golden Russet\\n🇨🇦 Apple Cider • ...</td>\n",
       "    </tr>\n",
       "    <tr>\n",
       "      <th>554</th>\n",
       "      <td>2C Family Post Funk Saison\\n🇺🇸 Saison / Farmho...</td>\n",
       "    </tr>\n",
       "    <tr>\n",
       "      <th>555</th>\n",
       "      <td>Gipsy Hill Buy The NHS a Pint Sour IPA\\n🇬🇧 IPA...</td>\n",
       "    </tr>\n",
       "    <tr>\n",
       "      <th>556</th>\n",
       "      <td>Siren / Green Cheek Every Second Matters\\n🇬🇧 I...</td>\n",
       "    </tr>\n",
       "  </tbody>\n",
       "</table>\n",
       "<p>557 rows × 1 columns</p>\n",
       "</div>"
      ],
      "text/plain": [
       "                                         return_string\n",
       "0    Superfreunde Fruity Devil Horns\\n🇩🇪 Pale Ale -...\n",
       "1    Kehrwieder / Riedenburger Frischer Traum 2019+...\n",
       "2                                                 None\n",
       "3    Little Earth Project Alexanders Saison 2019\\n🇬...\n",
       "4    Holy Mountain Midnight Still - Wood Fired & Ca...\n",
       "..                                                 ...\n",
       "552  Evergreen Topazacca Saison\\n🇨🇦 Saison / Farmho...\n",
       "553  The Old Third Golden Russet\\n🇨🇦 Apple Cider • ...\n",
       "554  2C Family Post Funk Saison\\n🇺🇸 Saison / Farmho...\n",
       "555  Gipsy Hill Buy The NHS a Pint Sour IPA\\n🇬🇧 IPA...\n",
       "556  Siren / Green Cheek Every Second Matters\\n🇬🇧 I...\n",
       "\n",
       "[557 rows x 1 columns]"
      ]
     },
     "execution_count": 34,
     "metadata": {},
     "output_type": "execute_result"
    }
   ],
   "source": [
    "beer_deets = pd.DataFrame(desc_string, columns = ['return_string'])\n",
    "beer_deets"
   ]
  },
  {
   "cell_type": "code",
   "execution_count": 35,
   "metadata": {
    "ExecuteTime": {
     "end_time": "2020-06-08T08:38:51.408404Z",
     "start_time": "2020-06-08T08:38:51.389456Z"
    }
   },
   "outputs": [],
   "source": [
    "## cleaning the scraped data\n",
    "beer_deets.dropna(inplace=True)\n",
    "beer_deets = beer_deets[~beer_deets.return_string.str.startswith('Logo\\n')].copy()\n",
    "no_alcohol = beer_deets[~beer_deets.return_string.str.contains('%')].copy()\n",
    "beer_deets = beer_deets[beer_deets.return_string.str.contains('%')].copy()\n"
   ]
  },
  {
   "cell_type": "code",
   "execution_count": 36,
   "metadata": {
    "ExecuteTime": {
     "end_time": "2020-06-08T08:38:51.435661Z",
     "start_time": "2020-06-08T08:38:51.411119Z"
    }
   },
   "outputs": [],
   "source": [
    "# sorting the scraped data into columns\n",
    "beer_deets['name_found'] = beer_deets.return_string.apply(lambda x: x.split('\\n')[0].strip())\n",
    "beer_deets['flag'] = beer_deets.return_string.apply(lambda x: x.split('\\n')[1].split('•')[0].split(\" \")[0])\n",
    "beer_deets['type'] = beer_deets.return_string.apply(lambda x: x.split('\\n')[1].split('•')[0][2:])\n",
    "beer_deets['abv'] = beer_deets.return_string.apply(lambda x: float(x.split('\\n')[1].split('•')[1].replace(\"%\",\"\")))\n",
    "beer_deets['rb_overall_score'] = beer_deets.return_string.apply(lambda x: x.split('\\n')[2])\n",
    "beer_deets['rb_style_score'] = beer_deets.return_string.apply(lambda x: x.split('\\n')[3])\n",
    "beer_deets['rb_user_rating'] = beer_deets.return_string.apply(lambda x: x.split('\\n')[4])\n",
    "beer_deets['rb_rating_number'] = beer_deets.return_string.apply(lambda x: x.split('\\n')[5].replace(\"(\",\"\").replace(\")\",\"\"))\n"
   ]
  },
  {
   "cell_type": "code",
   "execution_count": 37,
   "metadata": {
    "ExecuteTime": {
     "end_time": "2020-06-08T08:38:51.441875Z",
     "start_time": "2020-06-08T08:38:51.438439Z"
    }
   },
   "outputs": [],
   "source": [
    "# need to add in add check here for price\n"
   ]
  },
  {
   "cell_type": "code",
   "execution_count": null,
   "metadata": {
    "ExecuteTime": {
     "end_time": "2020-06-01T13:25:17.702685Z",
     "start_time": "2020-06-01T13:25:17.671351Z"
    }
   },
   "outputs": [],
   "source": [
    "\n"
   ]
  },
  {
   "cell_type": "code",
   "execution_count": 38,
   "metadata": {
    "ExecuteTime": {
     "end_time": "2020-06-08T08:38:51.481120Z",
     "start_time": "2020-06-08T08:38:51.444850Z"
    },
    "scrolled": true
   },
   "outputs": [
    {
     "data": {
      "text/html": [
       "<div>\n",
       "<style scoped>\n",
       "    .dataframe tbody tr th:only-of-type {\n",
       "        vertical-align: middle;\n",
       "    }\n",
       "\n",
       "    .dataframe tbody tr th {\n",
       "        vertical-align: top;\n",
       "    }\n",
       "\n",
       "    .dataframe thead th {\n",
       "        text-align: right;\n",
       "    }\n",
       "</style>\n",
       "<table border=\"1\" class=\"dataframe\">\n",
       "  <thead>\n",
       "    <tr style=\"text-align: right;\">\n",
       "      <th></th>\n",
       "      <th>return_string</th>\n",
       "      <th>name_found</th>\n",
       "      <th>flag</th>\n",
       "      <th>type</th>\n",
       "      <th>abv</th>\n",
       "      <th>rb_overall_score</th>\n",
       "      <th>rb_style_score</th>\n",
       "      <th>rb_user_rating</th>\n",
       "      <th>rb_rating_number</th>\n",
       "    </tr>\n",
       "  </thead>\n",
       "  <tbody>\n",
       "    <tr>\n",
       "      <th>6</th>\n",
       "      <td>Holy Mountain Midnight Still - Coconut, Coffee...</td>\n",
       "      <td>Holy Mountain Midnight Still - Coconut, Coffee...</td>\n",
       "      <td>🇺🇸</td>\n",
       "      <td>Stout - Imperial Flavored</td>\n",
       "      <td>NaN</td>\n",
       "      <td>-</td>\n",
       "      <td>-</td>\n",
       "      <td>4.00</td>\n",
       "      <td>1</td>\n",
       "    </tr>\n",
       "    <tr>\n",
       "      <th>56</th>\n",
       "      <td>Ravenous Fellowship\\n🇺🇸 Blonde Ale / Golden Al...</td>\n",
       "      <td>Ravenous Fellowship</td>\n",
       "      <td>🇺🇸</td>\n",
       "      <td>Blonde Ale / Golden Ale</td>\n",
       "      <td>NaN</td>\n",
       "      <td>-</td>\n",
       "      <td>-</td>\n",
       "      <td>3.10</td>\n",
       "      <td>1</td>\n",
       "    </tr>\n",
       "    <tr>\n",
       "      <th>61</th>\n",
       "      <td>Étienne Brûlé Frontliners\\n🇨🇦 ISA - Session IP...</td>\n",
       "      <td>Étienne Brûlé Frontliners</td>\n",
       "      <td>🇨🇦</td>\n",
       "      <td>ISA - Session IPA</td>\n",
       "      <td>NaN</td>\n",
       "      <td>-</td>\n",
       "      <td>-</td>\n",
       "      <td>3.80</td>\n",
       "      <td>1</td>\n",
       "    </tr>\n",
       "    <tr>\n",
       "      <th>230</th>\n",
       "      <td>Mücke Alkoholfrei\\n🇩🇪 Low / No Alcohol Beer - ...</td>\n",
       "      <td>Mücke Alkoholfrei</td>\n",
       "      <td>🇩🇪</td>\n",
       "      <td>Low / No Alcohol Beer - Pale</td>\n",
       "      <td>NaN</td>\n",
       "      <td>-</td>\n",
       "      <td>-</td>\n",
       "      <td>2.90</td>\n",
       "      <td>1</td>\n",
       "    </tr>\n",
       "    <tr>\n",
       "      <th>305</th>\n",
       "      <td>Black Project Skyhawk\\n🇺🇸 Sour / Wild Beer - F...</td>\n",
       "      <td>Black Project Skyhawk</td>\n",
       "      <td>🇺🇸</td>\n",
       "      <td>Sour / Wild Beer - Flavored</td>\n",
       "      <td>NaN</td>\n",
       "      <td>-</td>\n",
       "      <td>-</td>\n",
       "      <td>4.12</td>\n",
       "      <td>5</td>\n",
       "    </tr>\n",
       "    <tr>\n",
       "      <th>323</th>\n",
       "      <td>Vrooden Cul-Terreux\\n🇨🇦 Pale Lager - Intl / Pr...</td>\n",
       "      <td>Vrooden Cul-Terreux</td>\n",
       "      <td>🇨🇦</td>\n",
       "      <td>Pale Lager - Intl / Premium</td>\n",
       "      <td>NaN</td>\n",
       "      <td>-</td>\n",
       "      <td>-</td>\n",
       "      <td>4.50</td>\n",
       "      <td>3</td>\n",
       "    </tr>\n",
       "    <tr>\n",
       "      <th>328</th>\n",
       "      <td>Big Grove Apricot Pistachio Torte\\n🇺🇸 Sour / W...</td>\n",
       "      <td>Big Grove Apricot Pistachio Torte</td>\n",
       "      <td>🇺🇸</td>\n",
       "      <td>Sour / Wild Beer - Flavored</td>\n",
       "      <td>NaN</td>\n",
       "      <td>-</td>\n",
       "      <td>-</td>\n",
       "      <td>3.90</td>\n",
       "      <td>1</td>\n",
       "    </tr>\n",
       "    <tr>\n",
       "      <th>374</th>\n",
       "      <td>Full Beard Oaty McOatface\\n🇨🇦 Stout - Oatmeal\\...</td>\n",
       "      <td>Full Beard Oaty McOatface</td>\n",
       "      <td>🇨🇦</td>\n",
       "      <td>Stout - Oatmeal</td>\n",
       "      <td>NaN</td>\n",
       "      <td>-</td>\n",
       "      <td>-</td>\n",
       "      <td>3.80</td>\n",
       "      <td>1</td>\n",
       "    </tr>\n",
       "    <tr>\n",
       "      <th>376</th>\n",
       "      <td>Ravenous Coffee Milk Stout\\n🇺🇸 Stout - Milk / ...</td>\n",
       "      <td>Ravenous Coffee Milk Stout</td>\n",
       "      <td>🇺🇸</td>\n",
       "      <td>Stout - Milk / Sweet</td>\n",
       "      <td>0.0</td>\n",
       "      <td>-</td>\n",
       "      <td>-</td>\n",
       "      <td>3.53</td>\n",
       "      <td>11</td>\n",
       "    </tr>\n",
       "    <tr>\n",
       "      <th>393</th>\n",
       "      <td>La Souche Stoneham Beach\\n🇨🇦 Gruit\\n-\\n-\\n3.65...</td>\n",
       "      <td>La Souche Stoneham Beach</td>\n",
       "      <td>🇨🇦</td>\n",
       "      <td>Gruit</td>\n",
       "      <td>NaN</td>\n",
       "      <td>-</td>\n",
       "      <td>-</td>\n",
       "      <td>3.65</td>\n",
       "      <td>2</td>\n",
       "    </tr>\n",
       "    <tr>\n",
       "      <th>462</th>\n",
       "      <td>Trillium Fated Farmer - Fruit Salad 2019\\n🇺🇸 S...</td>\n",
       "      <td>Trillium Fated Farmer - Fruit Salad 2019</td>\n",
       "      <td>🇺🇸</td>\n",
       "      <td>Sour / Wild Beer - Flavored</td>\n",
       "      <td>NaN</td>\n",
       "      <td>-</td>\n",
       "      <td>-</td>\n",
       "      <td>4.10</td>\n",
       "      <td>1</td>\n",
       "    </tr>\n",
       "    <tr>\n",
       "      <th>514</th>\n",
       "      <td>Fürst Carl Kellerbier\\n🇩🇪 Zwickelbier / Keller...</td>\n",
       "      <td>Fürst Carl Kellerbier</td>\n",
       "      <td>🇩🇪</td>\n",
       "      <td>Zwickelbier / Kellerbier / Landbier</td>\n",
       "      <td>0.0</td>\n",
       "      <td>60</td>\n",
       "      <td>93</td>\n",
       "      <td>3.47</td>\n",
       "      <td>15</td>\n",
       "    </tr>\n",
       "  </tbody>\n",
       "</table>\n",
       "</div>"
      ],
      "text/plain": [
       "                                         return_string  \\\n",
       "6    Holy Mountain Midnight Still - Coconut, Coffee...   \n",
       "56   Ravenous Fellowship\\n🇺🇸 Blonde Ale / Golden Al...   \n",
       "61   Étienne Brûlé Frontliners\\n🇨🇦 ISA - Session IP...   \n",
       "230  Mücke Alkoholfrei\\n🇩🇪 Low / No Alcohol Beer - ...   \n",
       "305  Black Project Skyhawk\\n🇺🇸 Sour / Wild Beer - F...   \n",
       "323  Vrooden Cul-Terreux\\n🇨🇦 Pale Lager - Intl / Pr...   \n",
       "328  Big Grove Apricot Pistachio Torte\\n🇺🇸 Sour / W...   \n",
       "374  Full Beard Oaty McOatface\\n🇨🇦 Stout - Oatmeal\\...   \n",
       "376  Ravenous Coffee Milk Stout\\n🇺🇸 Stout - Milk / ...   \n",
       "393  La Souche Stoneham Beach\\n🇨🇦 Gruit\\n-\\n-\\n3.65...   \n",
       "462  Trillium Fated Farmer - Fruit Salad 2019\\n🇺🇸 S...   \n",
       "514  Fürst Carl Kellerbier\\n🇩🇪 Zwickelbier / Keller...   \n",
       "\n",
       "                                            name_found flag  \\\n",
       "6    Holy Mountain Midnight Still - Coconut, Coffee...   🇺🇸   \n",
       "56                                 Ravenous Fellowship   🇺🇸   \n",
       "61                           Étienne Brûlé Frontliners   🇨🇦   \n",
       "230                                  Mücke Alkoholfrei   🇩🇪   \n",
       "305                              Black Project Skyhawk   🇺🇸   \n",
       "323                                Vrooden Cul-Terreux   🇨🇦   \n",
       "328                  Big Grove Apricot Pistachio Torte   🇺🇸   \n",
       "374                          Full Beard Oaty McOatface   🇨🇦   \n",
       "376                         Ravenous Coffee Milk Stout   🇺🇸   \n",
       "393                           La Souche Stoneham Beach   🇨🇦   \n",
       "462           Trillium Fated Farmer - Fruit Salad 2019   🇺🇸   \n",
       "514                              Fürst Carl Kellerbier   🇩🇪   \n",
       "\n",
       "                                     type  abv rb_overall_score  \\\n",
       "6               Stout - Imperial Flavored  NaN                -   \n",
       "56                Blonde Ale / Golden Ale  NaN                -   \n",
       "61                      ISA - Session IPA  NaN                -   \n",
       "230          Low / No Alcohol Beer - Pale  NaN                -   \n",
       "305           Sour / Wild Beer - Flavored  NaN                -   \n",
       "323           Pale Lager - Intl / Premium  NaN                -   \n",
       "328           Sour / Wild Beer - Flavored  NaN                -   \n",
       "374                       Stout - Oatmeal  NaN                -   \n",
       "376                  Stout - Milk / Sweet  0.0                -   \n",
       "393                                 Gruit  NaN                -   \n",
       "462           Sour / Wild Beer - Flavored  NaN                -   \n",
       "514   Zwickelbier / Kellerbier / Landbier  0.0               60   \n",
       "\n",
       "    rb_style_score rb_user_rating rb_rating_number  \n",
       "6                -           4.00                1  \n",
       "56               -           3.10                1  \n",
       "61               -           3.80                1  \n",
       "230              -           2.90                1  \n",
       "305              -           4.12                5  \n",
       "323              -           4.50                3  \n",
       "328              -           3.90                1  \n",
       "374              -           3.80                1  \n",
       "376              -           3.53               11  \n",
       "393              -           3.65                2  \n",
       "462              -           4.10                1  \n",
       "514             93           3.47               15  "
      ]
     },
     "execution_count": 38,
     "metadata": {},
     "output_type": "execute_result"
    }
   ],
   "source": [
    "# sorting the no alcohol measure\n",
    "no_alcohol['name_found'] = no_alcohol.return_string.apply(lambda x: x.split('\\n')[0].strip())\n",
    "no_alcohol['flag'] = no_alcohol.return_string.apply(lambda x: x.split('\\n')[1].split('•')[0].split(\" \")[0])\n",
    "no_alcohol['type'] = no_alcohol.return_string.apply(lambda x: x.split('\\n')[1].split('•')[0][2:])\n",
    "no_alcohol['abv'] = no_alcohol.type.apply(lambda x: 0 if x[-1] == '0' else None)\n",
    "no_alcohol['type'] = no_alcohol.type.apply(lambda x: x[:-1] if x[-1] == '0' else x)\n",
    "no_alcohol['check'] = no_alcohol.return_string.apply(lambda x: len(x.split('\\n')))\n",
    "no_alcohol = no_alcohol[no_alcohol['check']>4].copy()\n",
    "no_alcohol['rb_overall_score'] = no_alcohol.return_string.apply(lambda x: x.split('\\n')[2])\n",
    "no_alcohol['rb_style_score'] = no_alcohol.return_string.apply(lambda x: x.split('\\n')[3])\n",
    "no_alcohol['rb_user_rating'] = no_alcohol.return_string.apply(lambda x: x.split('\\n')[4])\n",
    "no_alcohol['rb_rating_number'] = no_alcohol.return_string.apply(lambda x: x.split('\\n')[5].replace(\"(\",\"\").replace(\")\",\"\"))\n",
    "no_alcohol.drop('check',inplace=True, axis=1)\n",
    "\n",
    "no_alcohol"
   ]
  },
  {
   "cell_type": "code",
   "execution_count": 39,
   "metadata": {
    "ExecuteTime": {
     "end_time": "2020-06-08T08:38:51.574475Z",
     "start_time": "2020-06-08T08:38:51.542804Z"
    }
   },
   "outputs": [],
   "source": [
    "beer_df = pd.concat([beer_df,beer_deets,no_alcohol])"
   ]
  },
  {
   "cell_type": "code",
   "execution_count": 40,
   "metadata": {
    "ExecuteTime": {
     "end_time": "2020-06-08T08:38:51.596391Z",
     "start_time": "2020-06-08T08:38:51.576664Z"
    }
   },
   "outputs": [
    {
     "data": {
      "text/html": [
       "<div>\n",
       "<style scoped>\n",
       "    .dataframe tbody tr th:only-of-type {\n",
       "        vertical-align: middle;\n",
       "    }\n",
       "\n",
       "    .dataframe tbody tr th {\n",
       "        vertical-align: top;\n",
       "    }\n",
       "\n",
       "    .dataframe thead th {\n",
       "        text-align: right;\n",
       "    }\n",
       "</style>\n",
       "<table border=\"1\" class=\"dataframe\">\n",
       "  <thead>\n",
       "    <tr style=\"text-align: right;\">\n",
       "      <th></th>\n",
       "      <th>return_string</th>\n",
       "      <th>flag</th>\n",
       "      <th>type</th>\n",
       "      <th>abv</th>\n",
       "      <th>rb_overall_score</th>\n",
       "      <th>rb_style_score</th>\n",
       "      <th>rb_user_rating</th>\n",
       "      <th>rb_rating_number</th>\n",
       "      <th>name_found</th>\n",
       "    </tr>\n",
       "  </thead>\n",
       "  <tbody>\n",
       "    <tr>\n",
       "      <th>0</th>\n",
       "      <td>St. Peter's Ruby Red Ale\\n🇬🇧 Bitter - Ordinary...</td>\n",
       "      <td>🇬🇧</td>\n",
       "      <td>Bitter - Ordinary / Best</td>\n",
       "      <td>4.3</td>\n",
       "      <td>49</td>\n",
       "      <td>95</td>\n",
       "      <td>3.25</td>\n",
       "      <td>415</td>\n",
       "      <td>St. Peter's Ruby Red Ale</td>\n",
       "    </tr>\n",
       "    <tr>\n",
       "      <th>1</th>\n",
       "      <td>Shepherd Neame Spitfire (Bottle)\\n🇬🇧 Bitter - ...</td>\n",
       "      <td>🇬🇧</td>\n",
       "      <td>Bitter - Ordinary / Best</td>\n",
       "      <td>4.5</td>\n",
       "      <td>34</td>\n",
       "      <td>59</td>\n",
       "      <td>3.05</td>\n",
       "      <td>1083</td>\n",
       "      <td>Shepherd Neame Spitfire (Bottle)</td>\n",
       "    </tr>\n",
       "    <tr>\n",
       "      <th>2</th>\n",
       "      <td>Arbor Rocketman\\n🇬🇧 IPA • 6.0%\\n95\\n97\\n3.74\\n...</td>\n",
       "      <td>🇬🇧</td>\n",
       "      <td>IPA</td>\n",
       "      <td>6.0</td>\n",
       "      <td>95</td>\n",
       "      <td>97</td>\n",
       "      <td>3.74</td>\n",
       "      <td>59</td>\n",
       "      <td>Arbor Rocketman</td>\n",
       "    </tr>\n",
       "    <tr>\n",
       "      <th>3</th>\n",
       "      <td>Shepherd Neame India Pale Ale (Bottle)\\n🇬🇧 IPA...</td>\n",
       "      <td>🇬🇧</td>\n",
       "      <td>IPA - English</td>\n",
       "      <td>6.1</td>\n",
       "      <td>46</td>\n",
       "      <td>47</td>\n",
       "      <td>3.22</td>\n",
       "      <td>420</td>\n",
       "      <td>Shepherd Neame India Pale Ale (Bottle)</td>\n",
       "    </tr>\n",
       "    <tr>\n",
       "      <th>4</th>\n",
       "      <td>Shepherd Neame Christmas Ale\\n🇬🇧 Strong Ale - ...</td>\n",
       "      <td>🇬🇧</td>\n",
       "      <td>Strong Ale - English</td>\n",
       "      <td>7.0</td>\n",
       "      <td>45</td>\n",
       "      <td>46</td>\n",
       "      <td>3.18</td>\n",
       "      <td>409</td>\n",
       "      <td>Shepherd Neame Christmas Ale</td>\n",
       "    </tr>\n",
       "    <tr>\n",
       "      <th>...</th>\n",
       "      <td>...</td>\n",
       "      <td>...</td>\n",
       "      <td>...</td>\n",
       "      <td>...</td>\n",
       "      <td>...</td>\n",
       "      <td>...</td>\n",
       "      <td>...</td>\n",
       "      <td>...</td>\n",
       "      <td>...</td>\n",
       "    </tr>\n",
       "    <tr>\n",
       "      <th>374</th>\n",
       "      <td>Full Beard Oaty McOatface\\n🇨🇦 Stout - Oatmeal\\...</td>\n",
       "      <td>🇨🇦</td>\n",
       "      <td>Stout - Oatmeal</td>\n",
       "      <td>NaN</td>\n",
       "      <td>-</td>\n",
       "      <td>-</td>\n",
       "      <td>3.80</td>\n",
       "      <td>1</td>\n",
       "      <td>Full Beard Oaty McOatface</td>\n",
       "    </tr>\n",
       "    <tr>\n",
       "      <th>376</th>\n",
       "      <td>Ravenous Coffee Milk Stout\\n🇺🇸 Stout - Milk / ...</td>\n",
       "      <td>🇺🇸</td>\n",
       "      <td>Stout - Milk / Sweet</td>\n",
       "      <td>0.0</td>\n",
       "      <td>-</td>\n",
       "      <td>-</td>\n",
       "      <td>3.53</td>\n",
       "      <td>11</td>\n",
       "      <td>Ravenous Coffee Milk Stout</td>\n",
       "    </tr>\n",
       "    <tr>\n",
       "      <th>393</th>\n",
       "      <td>La Souche Stoneham Beach\\n🇨🇦 Gruit\\n-\\n-\\n3.65...</td>\n",
       "      <td>🇨🇦</td>\n",
       "      <td>Gruit</td>\n",
       "      <td>NaN</td>\n",
       "      <td>-</td>\n",
       "      <td>-</td>\n",
       "      <td>3.65</td>\n",
       "      <td>2</td>\n",
       "      <td>La Souche Stoneham Beach</td>\n",
       "    </tr>\n",
       "    <tr>\n",
       "      <th>462</th>\n",
       "      <td>Trillium Fated Farmer - Fruit Salad 2019\\n🇺🇸 S...</td>\n",
       "      <td>🇺🇸</td>\n",
       "      <td>Sour / Wild Beer - Flavored</td>\n",
       "      <td>NaN</td>\n",
       "      <td>-</td>\n",
       "      <td>-</td>\n",
       "      <td>4.10</td>\n",
       "      <td>1</td>\n",
       "      <td>Trillium Fated Farmer - Fruit Salad 2019</td>\n",
       "    </tr>\n",
       "    <tr>\n",
       "      <th>514</th>\n",
       "      <td>Fürst Carl Kellerbier\\n🇩🇪 Zwickelbier / Keller...</td>\n",
       "      <td>🇩🇪</td>\n",
       "      <td>Zwickelbier / Kellerbier / Landbier</td>\n",
       "      <td>0.0</td>\n",
       "      <td>60</td>\n",
       "      <td>93</td>\n",
       "      <td>3.47</td>\n",
       "      <td>15</td>\n",
       "      <td>Fürst Carl Kellerbier</td>\n",
       "    </tr>\n",
       "  </tbody>\n",
       "</table>\n",
       "<p>18425 rows × 9 columns</p>\n",
       "</div>"
      ],
      "text/plain": [
       "                                         return_string flag  \\\n",
       "0    St. Peter's Ruby Red Ale\\n🇬🇧 Bitter - Ordinary...   🇬🇧   \n",
       "1    Shepherd Neame Spitfire (Bottle)\\n🇬🇧 Bitter - ...   🇬🇧   \n",
       "2    Arbor Rocketman\\n🇬🇧 IPA • 6.0%\\n95\\n97\\n3.74\\n...   🇬🇧   \n",
       "3    Shepherd Neame India Pale Ale (Bottle)\\n🇬🇧 IPA...   🇬🇧   \n",
       "4    Shepherd Neame Christmas Ale\\n🇬🇧 Strong Ale - ...   🇬🇧   \n",
       "..                                                 ...  ...   \n",
       "374  Full Beard Oaty McOatface\\n🇨🇦 Stout - Oatmeal\\...   🇨🇦   \n",
       "376  Ravenous Coffee Milk Stout\\n🇺🇸 Stout - Milk / ...   🇺🇸   \n",
       "393  La Souche Stoneham Beach\\n🇨🇦 Gruit\\n-\\n-\\n3.65...   🇨🇦   \n",
       "462  Trillium Fated Farmer - Fruit Salad 2019\\n🇺🇸 S...   🇺🇸   \n",
       "514  Fürst Carl Kellerbier\\n🇩🇪 Zwickelbier / Keller...   🇩🇪   \n",
       "\n",
       "                                     type  abv rb_overall_score  \\\n",
       "0               Bitter - Ordinary / Best   4.3               49   \n",
       "1               Bitter - Ordinary / Best   4.5               34   \n",
       "2                                    IPA   6.0               95   \n",
       "3                          IPA - English   6.1               46   \n",
       "4                   Strong Ale - English   7.0               45   \n",
       "..                                    ...  ...              ...   \n",
       "374                       Stout - Oatmeal  NaN                -   \n",
       "376                  Stout - Milk / Sweet  0.0                -   \n",
       "393                                 Gruit  NaN                -   \n",
       "462           Sour / Wild Beer - Flavored  NaN                -   \n",
       "514   Zwickelbier / Kellerbier / Landbier  0.0               60   \n",
       "\n",
       "    rb_style_score rb_user_rating rb_rating_number  \\\n",
       "0               95           3.25              415   \n",
       "1               59           3.05             1083   \n",
       "2               97           3.74               59   \n",
       "3               47           3.22              420   \n",
       "4               46           3.18              409   \n",
       "..             ...            ...              ...   \n",
       "374              -           3.80                1   \n",
       "376              -           3.53               11   \n",
       "393              -           3.65                2   \n",
       "462              -           4.10                1   \n",
       "514             93           3.47               15   \n",
       "\n",
       "                                   name_found  \n",
       "0                    St. Peter's Ruby Red Ale  \n",
       "1            Shepherd Neame Spitfire (Bottle)  \n",
       "2                             Arbor Rocketman  \n",
       "3      Shepherd Neame India Pale Ale (Bottle)  \n",
       "4                Shepherd Neame Christmas Ale  \n",
       "..                                        ...  \n",
       "374                 Full Beard Oaty McOatface  \n",
       "376                Ravenous Coffee Milk Stout  \n",
       "393                  La Souche Stoneham Beach  \n",
       "462  Trillium Fated Farmer - Fruit Salad 2019  \n",
       "514                     Fürst Carl Kellerbier  \n",
       "\n",
       "[18425 rows x 9 columns]"
      ]
     },
     "execution_count": 40,
     "metadata": {},
     "output_type": "execute_result"
    }
   ],
   "source": [
    "beer_df"
   ]
  },
  {
   "cell_type": "code",
   "execution_count": 41,
   "metadata": {
    "ExecuteTime": {
     "end_time": "2020-06-08T08:38:51.624521Z",
     "start_time": "2020-06-08T08:38:51.599167Z"
    }
   },
   "outputs": [
    {
     "name": "stdout",
     "output_type": "stream",
     "text": [
      "There are 17 new beers that were not found or returned errors. They will be added to the no search list.\n"
     ]
    }
   ],
   "source": [
    "# compare to the unique list to create a new to-be-scraped list\n",
    "not_found_beer = df.beer_name[~df.beer_name.isin(beer_df.name_found)].unique()\n",
    "print(\"There are\", len(not_found_beer)-len(not_found_df), \"new beers that were not found or returned errors. They will be added to the no search list.\")\n",
    "not_found_df = pd.concat([not_found_df,pd.DataFrame(not_found_beer,columns = [\"not_found\"])])\n",
    "not_found_df.drop_duplicates(inplace=True)"
   ]
  },
  {
   "cell_type": "code",
   "execution_count": 42,
   "metadata": {
    "ExecuteTime": {
     "end_time": "2020-06-08T08:38:51.749693Z",
     "start_time": "2020-06-08T08:38:51.627354Z"
    }
   },
   "outputs": [],
   "source": [
    "beer_df.to_csv('beer_deets.csv',index=False)\n",
    "not_found_df.to_csv(\"not_found.csv\", index=False)"
   ]
  },
  {
   "cell_type": "code",
   "execution_count": null,
   "metadata": {
    "ExecuteTime": {
     "end_time": "2020-05-05T14:04:40.065563Z",
     "start_time": "2020-05-05T14:04:40.053981Z"
    }
   },
   "outputs": [],
   "source": []
  },
  {
   "cell_type": "code",
   "execution_count": null,
   "metadata": {},
   "outputs": [],
   "source": []
  },
  {
   "cell_type": "code",
   "execution_count": null,
   "metadata": {},
   "outputs": [],
   "source": []
  }
 ],
 "metadata": {
  "kernelspec": {
   "display_name": "Python 3",
   "language": "python",
   "name": "python3"
  },
  "language_info": {
   "codemirror_mode": {
    "name": "ipython",
    "version": 3
   },
   "file_extension": ".py",
   "mimetype": "text/x-python",
   "name": "python",
   "nbconvert_exporter": "python",
   "pygments_lexer": "ipython3",
   "version": "3.7.1"
  },
  "toc": {
   "base_numbering": 1,
   "nav_menu": {},
   "number_sections": true,
   "sideBar": true,
   "skip_h1_title": false,
   "title_cell": "Table of Contents",
   "title_sidebar": "Contents",
   "toc_cell": false,
   "toc_position": {},
   "toc_section_display": true,
   "toc_window_display": false
  },
  "varInspector": {
   "cols": {
    "lenName": 16,
    "lenType": 16,
    "lenVar": 40
   },
   "kernels_config": {
    "python": {
     "delete_cmd_postfix": "",
     "delete_cmd_prefix": "del ",
     "library": "var_list.py",
     "varRefreshCmd": "print(var_dic_list())"
    },
    "r": {
     "delete_cmd_postfix": ") ",
     "delete_cmd_prefix": "rm(",
     "library": "var_list.r",
     "varRefreshCmd": "cat(var_dic_list()) "
    }
   },
   "types_to_exclude": [
    "module",
    "function",
    "builtin_function_or_method",
    "instance",
    "_Feature"
   ],
   "window_display": false
  }
 },
 "nbformat": 4,
 "nbformat_minor": 4
}
