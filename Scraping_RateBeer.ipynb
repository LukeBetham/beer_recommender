{
 "cells": [
  {
   "cell_type": "code",
   "execution_count": 1,
   "metadata": {
    "ExecuteTime": {
     "end_time": "2020-06-15T10:29:31.149617Z",
     "start_time": "2020-06-15T10:29:28.941352Z"
    }
   },
   "outputs": [],
   "source": [
    "import requests\n",
    "import bs4\n",
    "from bs4 import BeautifulSoup\n",
    "import pandas as pd\n",
    "import re\n",
    "from tqdm.notebook import tqdm\n",
    "import matplotlib.pyplot as plt\n",
    "import seaborn as sns"
   ]
  },
  {
   "cell_type": "markdown",
   "metadata": {},
   "source": [
    "## Code which scrapes the recently reviews (only 100 pages - 1,400 reviews)"
   ]
  },
  {
   "cell_type": "code",
   "execution_count": 2,
   "metadata": {
    "ExecuteTime": {
     "end_time": "2020-06-15T10:29:31.168486Z",
     "start_time": "2020-06-15T10:29:31.152489Z"
    }
   },
   "outputs": [],
   "source": [
    "\n",
    "def ratebeer_scraper(page_start=1, page_end=2, url_set=None):\n",
    "    \n",
    "    beer_name = []\n",
    "    beer_rating = []\n",
    "    brewery_name = []\n",
    "    brewery_location = []\n",
    "    review_content = []\n",
    "    reviewer_name = []\n",
    " \n",
    "    if url_set == None:\n",
    "        print(\"Need url to run\")\n",
    "        return\n",
    "\n",
    "    for x in tqdm(range(page_start, page_end + 1)):\n",
    "        try:\n",
    "            url_format = url_set.format(x)\n",
    "            r = requests.get(url_format)\n",
    "            soup = BeautifulSoup(r.text, 'html.parser')\n",
    "            table = soup.find('table', attrs={'class': 'table'})\n",
    "            table_rows = table.find_all('tr')\n",
    "\n",
    "            for rows in table_rows:\n",
    "\n",
    "            # Scrape Beer Name    \n",
    "                try:\n",
    "                    beer_name.append(rows.find('a', attrs={'style':'font-size:20px; font-weight:bold;'}).text)\n",
    "                except:\n",
    "                    beer_name.append(None)\n",
    "            # Scrape Review Rating  \n",
    "                try:\n",
    "                    beer_rating.append(rows.find('span', attrs={'class':'uas'}).text)\n",
    "                except:\n",
    "                    beer_rating.append(None)\n",
    "            # Scrape Brewery Name  \n",
    "                try:\n",
    "                    brewery_div = rows.find('div')\n",
    "                    brewery_name.append(brewery_div.a.text)\n",
    "                except:\n",
    "                    brewery_name.append(None)\n",
    "            # Scrape Brewery Location\n",
    "                try:\n",
    "                    brewery_location.append(rows.find('span', attrs={'class':'small'}).text.strip())\n",
    "                except:\n",
    "                    brewery_location.append(None)\n",
    "            # Scrape Reviewer Name\n",
    "                try:\n",
    "                    reviewer_name.append(rows.find('span', attrs={'class':'pull-right'}).text.strip())\n",
    "                except:\n",
    "                    reviewer_name.append(None)\n",
    "            # Scrape content\n",
    "                try:\n",
    "                    review_content.append(rows.find('div', attrs={'style':\"color:#666;\"}).text.strip())\n",
    "                except:\n",
    "                    review_content.append(None)\n",
    "        except:\n",
    "            pass\n",
    "\n",
    "    beerz = pd.DataFrame({'beer_name': beer_name,\n",
    "                         'beer_rating': beer_rating,\n",
    "                        'brewery_name': brewery_name,\n",
    "                         'brewery_location': brewery_location,\n",
    "                        'review_content': review_content,\n",
    "                        'reviewer_name': reviewer_name})\n",
    "    return beerz\n",
    "\n"
   ]
  },
  {
   "cell_type": "code",
   "execution_count": 3,
   "metadata": {
    "ExecuteTime": {
     "end_time": "2020-06-15T10:33:41.097358Z",
     "start_time": "2020-06-15T10:29:31.175920Z"
    }
   },
   "outputs": [
    {
     "data": {
      "application/vnd.jupyter.widget-view+json": {
       "model_id": "c82a33b245284b15bed826059e588544",
       "version_major": 2,
       "version_minor": 0
      },
      "text/plain": [
       "HBox(children=(FloatProgress(value=0.0, max=101.0), HTML(value='')))"
      ]
     },
     "metadata": {},
     "output_type": "display_data"
    },
    {
     "name": "stdout",
     "output_type": "stream",
     "text": [
      "\n"
     ]
    },
    {
     "data": {
      "application/vnd.jupyter.widget-view+json": {
       "model_id": "875ef6f448d14d23ba1aefc3b3a101b6",
       "version_major": 2,
       "version_minor": 0
      },
      "text/plain": [
       "HBox(children=(FloatProgress(value=0.0, max=11.0), HTML(value='')))"
      ]
     },
     "metadata": {},
     "output_type": "display_data"
    },
    {
     "name": "stdout",
     "output_type": "stream",
     "text": [
      "\n"
     ]
    },
    {
     "data": {
      "application/vnd.jupyter.widget-view+json": {
       "model_id": "cb3fa63b4ec24cc096f11d340a82da41",
       "version_major": 2,
       "version_minor": 0
      },
      "text/plain": [
       "HBox(children=(FloatProgress(value=0.0, max=51.0), HTML(value='')))"
      ]
     },
     "metadata": {},
     "output_type": "display_data"
    },
    {
     "name": "stdout",
     "output_type": "stream",
     "text": [
      "\n"
     ]
    },
    {
     "data": {
      "application/vnd.jupyter.widget-view+json": {
       "model_id": "c6d54bf5dbae4061b8cce47e8d03af48",
       "version_major": 2,
       "version_minor": 0
      },
      "text/plain": [
       "HBox(children=(FloatProgress(value=0.0, max=51.0), HTML(value='')))"
      ]
     },
     "metadata": {},
     "output_type": "display_data"
    },
    {
     "name": "stdout",
     "output_type": "stream",
     "text": [
      "\n"
     ]
    },
    {
     "data": {
      "application/vnd.jupyter.widget-view+json": {
       "model_id": "129ae46164744ecfab12250a3d339652",
       "version_major": 2,
       "version_minor": 0
      },
      "text/plain": [
       "HBox(children=(FloatProgress(value=0.0, max=51.0), HTML(value='')))"
      ]
     },
     "metadata": {},
     "output_type": "display_data"
    },
    {
     "name": "stdout",
     "output_type": "stream",
     "text": [
      "\n"
     ]
    },
    {
     "data": {
      "application/vnd.jupyter.widget-view+json": {
       "model_id": "9b3c4db335f144f48ae9bd3431580d48",
       "version_major": 2,
       "version_minor": 0
      },
      "text/plain": [
       "HBox(children=(FloatProgress(value=0.0, max=51.0), HTML(value='')))"
      ]
     },
     "metadata": {},
     "output_type": "display_data"
    },
    {
     "name": "stdout",
     "output_type": "stream",
     "text": [
      "\n"
     ]
    }
   ],
   "source": [
    "# Scraping most recent reviews\n",
    "url = 'https://www.ratebeer.com/beer-ratings/0/{}/'\n",
    "df_recent = ratebeer_scraper(0,100,url)\n",
    "\n",
    "# Scraping new beers\n",
    "url = 'https://www.ratebeer.com/beer-ratings/5/{}/'\n",
    "df_new = ratebeer_scraper(0,10,url)\n",
    "\n",
    "# Scraping fave beers\n",
    "url = 'https://www.ratebeer.com/beer-ratings/4/{}/'\n",
    "df_fave = ratebeer_scraper(0,50,url)\n",
    "\n",
    "# Scraping rave beers\n",
    "url = 'https://www.ratebeer.com/beer-ratings/1/{}/'\n",
    "df_rave = ratebeer_scraper(0,50,url)\n",
    "\n",
    "# Scraping rant beers\n",
    "url = 'https://www.ratebeer.com/beer-ratings/2/{}/'\n",
    "df_rant = ratebeer_scraper(0,50,url)\n",
    "\n",
    "# Scraping anomalous beers\n",
    "url = 'https://www.ratebeer.com/beer-ratings/3/{}/'\n",
    "df_anom = ratebeer_scraper(0,50,url)"
   ]
  },
  {
   "cell_type": "code",
   "execution_count": 4,
   "metadata": {
    "ExecuteTime": {
     "end_time": "2020-06-15T10:33:41.131682Z",
     "start_time": "2020-06-15T10:33:41.110712Z"
    }
   },
   "outputs": [],
   "source": [
    "# getting rid of non-ascii characters from the reviews as it breaks csv\n",
    "\n",
    "df_recent.review_content = df_recent.review_content.apply(lambda x: x.encode('ascii', 'ignore').decode('ascii'))\n",
    "df_new.review_content = df_new.review_content.apply(lambda x: x.encode('ascii', 'ignore').decode('ascii'))\n",
    "df_rave.review_content = df_rave.review_content.apply(lambda x: x.encode('ascii', 'ignore').decode('ascii'))\n",
    "df_fave.review_content = df_fave.review_content.apply(lambda x: x.encode('ascii', 'ignore').decode('ascii'))\n",
    "df_rant.review_content = df_rant.review_content.apply(lambda x: x.encode('ascii', 'ignore').decode('ascii'))\n",
    "df_anom.review_content = df_anom.review_content.apply(lambda x: x.encode('ascii', 'ignore').decode('ascii'))\n"
   ]
  },
  {
   "cell_type": "code",
   "execution_count": 5,
   "metadata": {
    "ExecuteTime": {
     "end_time": "2020-06-15T10:33:41.297486Z",
     "start_time": "2020-06-15T10:33:41.134127Z"
    }
   },
   "outputs": [],
   "source": [
    "# read current data from csv (there is a backup at all_reviews_backup.csv)\n",
    "df = pd.read_csv('all_reviews.csv')"
   ]
  },
  {
   "cell_type": "code",
   "execution_count": 6,
   "metadata": {
    "ExecuteTime": {
     "end_time": "2020-06-15T10:33:41.442795Z",
     "start_time": "2020-06-15T10:33:41.299299Z"
    }
   },
   "outputs": [
    {
     "name": "stdout",
     "output_type": "stream",
     "text": [
      "40311\n",
      "36103\n"
     ]
    }
   ],
   "source": [
    "# concatenating all of the scrapes together with the old df\n",
    "try:\n",
    "    df = pd.concat([df, df_recent, df_new, df_fave, df_rave, df_rant, df_anom])\n",
    "except:\n",
    "    df = pd.concat([df, df_recent])\n",
    "print(len(df))\n",
    "df.drop_duplicates(inplace=True)\n",
    "print(len(df))\n",
    "df.beer_name = df.beer_name.apply(lambda x: x.strip())\n",
    "\n"
   ]
  },
  {
   "cell_type": "code",
   "execution_count": 7,
   "metadata": {
    "ExecuteTime": {
     "end_time": "2020-06-15T10:33:41.467017Z",
     "start_time": "2020-06-15T10:33:41.444700Z"
    }
   },
   "outputs": [
    {
     "data": {
      "text/html": [
       "<div>\n",
       "<style scoped>\n",
       "    .dataframe tbody tr th:only-of-type {\n",
       "        vertical-align: middle;\n",
       "    }\n",
       "\n",
       "    .dataframe tbody tr th {\n",
       "        vertical-align: top;\n",
       "    }\n",
       "\n",
       "    .dataframe thead th {\n",
       "        text-align: right;\n",
       "    }\n",
       "</style>\n",
       "<table border=\"1\" class=\"dataframe\">\n",
       "  <thead>\n",
       "    <tr style=\"text-align: right;\">\n",
       "      <th></th>\n",
       "      <th>beer_name</th>\n",
       "      <th>beer_rating</th>\n",
       "      <th>brewery_location</th>\n",
       "      <th>brewery_name</th>\n",
       "      <th>review_content</th>\n",
       "      <th>reviewer_name</th>\n",
       "    </tr>\n",
       "  </thead>\n",
       "  <tbody>\n",
       "    <tr>\n",
       "      <th>0</th>\n",
       "      <td>St. Peter's Ruby Red Ale</td>\n",
       "      <td>3.3</td>\n",
       "      <td>Bungay, Suffolk</td>\n",
       "      <td>St. Peter's Brewery</td>\n",
       "      <td>Ruby color, offwhite coam. Aroma and taste: fl...</td>\n",
       "      <td>alex_leit</td>\n",
       "    </tr>\n",
       "    <tr>\n",
       "      <th>1</th>\n",
       "      <td>Shepherd Neame Spitfire (Bottle)</td>\n",
       "      <td>2.2</td>\n",
       "      <td>Faversham, Kent</td>\n",
       "      <td>Shepherd Neame</td>\n",
       "      <td>Disappointing show from the lads at ‘Britain’s...</td>\n",
       "      <td>shivermetimber.gray</td>\n",
       "    </tr>\n",
       "    <tr>\n",
       "      <th>2</th>\n",
       "      <td>Arbor Rocketman</td>\n",
       "      <td>3.8</td>\n",
       "      <td>Bristol, Gloucestershire</td>\n",
       "      <td>Arbor Ales</td>\n",
       "      <td>Puszka. Mętne o żółtym kolorze. Piana biała,ob...</td>\n",
       "      <td>MarcinG</td>\n",
       "    </tr>\n",
       "    <tr>\n",
       "      <th>3</th>\n",
       "      <td>Shepherd Neame India Pale Ale (Bottle)</td>\n",
       "      <td>3.4</td>\n",
       "      <td>Faversham, Kent</td>\n",
       "      <td>Shepherd Neame</td>\n",
       "      <td>Bottle. Amber with bronze color and white foam...</td>\n",
       "      <td>alex_leit</td>\n",
       "    </tr>\n",
       "    <tr>\n",
       "      <th>4</th>\n",
       "      <td>Shepherd Neame Christmas Ale</td>\n",
       "      <td>3.3</td>\n",
       "      <td>Faversham, Kent</td>\n",
       "      <td>Shepherd Neame</td>\n",
       "      <td>Bottle. Aroma: English hops and malts with tof...</td>\n",
       "      <td>alex_leit</td>\n",
       "    </tr>\n",
       "    <tr>\n",
       "      <th>...</th>\n",
       "      <td>...</td>\n",
       "      <td>...</td>\n",
       "      <td>...</td>\n",
       "      <td>...</td>\n",
       "      <td>...</td>\n",
       "      <td>...</td>\n",
       "    </tr>\n",
       "    <tr>\n",
       "      <th>760</th>\n",
       "      <td>McEwan's Lager</td>\n",
       "      <td>4.2</td>\n",
       "      <td>+2.2</td>\n",
       "      <td>Eagle Brewery (Carlsberg Marston's Brewing Co.)</td>\n",
       "      <td>A nice easy drinking session lager. Perfect fo...</td>\n",
       "      <td>PP</td>\n",
       "    </tr>\n",
       "    <tr>\n",
       "      <th>761</th>\n",
       "      <td>Abita Big Easy IPA</td>\n",
       "      <td>4.7</td>\n",
       "      <td>+1.6</td>\n",
       "      <td>Abita Brewing Company</td>\n",
       "      <td>This beer is a great summer time beer. Very li...</td>\n",
       "      <td>cjgaertner</td>\n",
       "    </tr>\n",
       "    <tr>\n",
       "      <th>762</th>\n",
       "      <td>Smuttynose IPA</td>\n",
       "      <td>1.7</td>\n",
       "      <td>-1.9</td>\n",
       "      <td>Smuttynose Brewing Company</td>\n",
       "      <td>Typically the same taste as all other IPAs, bu...</td>\n",
       "      <td>BineChalice28</td>\n",
       "    </tr>\n",
       "    <tr>\n",
       "      <th>763</th>\n",
       "      <td>Galahad Export</td>\n",
       "      <td>5.0</td>\n",
       "      <td>+3</td>\n",
       "      <td>Aldi (UK)</td>\n",
       "      <td>Refreshing and excellent, let me set the scene...</td>\n",
       "      <td>DraftLiquids57</td>\n",
       "    </tr>\n",
       "    <tr>\n",
       "      <th>764</th>\n",
       "      <td>Brooklyn Special Effects</td>\n",
       "      <td>0.6</td>\n",
       "      <td>-2.2</td>\n",
       "      <td>Brooklyn Brewery (Kirin Holdings)</td>\n",
       "      <td>Amber clear with a one finger wide head.\\nFoul...</td>\n",
       "      <td>ophone</td>\n",
       "    </tr>\n",
       "  </tbody>\n",
       "</table>\n",
       "<p>36103 rows × 6 columns</p>\n",
       "</div>"
      ],
      "text/plain": [
       "                                  beer_name beer_rating  \\\n",
       "0                  St. Peter's Ruby Red Ale         3.3   \n",
       "1          Shepherd Neame Spitfire (Bottle)         2.2   \n",
       "2                           Arbor Rocketman         3.8   \n",
       "3    Shepherd Neame India Pale Ale (Bottle)         3.4   \n",
       "4              Shepherd Neame Christmas Ale         3.3   \n",
       "..                                      ...         ...   \n",
       "760                          McEwan's Lager         4.2   \n",
       "761                      Abita Big Easy IPA         4.7   \n",
       "762                          Smuttynose IPA         1.7   \n",
       "763                          Galahad Export         5.0   \n",
       "764                Brooklyn Special Effects         0.6   \n",
       "\n",
       "             brewery_location  \\\n",
       "0             Bungay, Suffolk   \n",
       "1             Faversham, Kent   \n",
       "2    Bristol, Gloucestershire   \n",
       "3             Faversham, Kent   \n",
       "4             Faversham, Kent   \n",
       "..                        ...   \n",
       "760                      +2.2   \n",
       "761                      +1.6   \n",
       "762                      -1.9   \n",
       "763                        +3   \n",
       "764                      -2.2   \n",
       "\n",
       "                                        brewery_name  \\\n",
       "0                                St. Peter's Brewery   \n",
       "1                                     Shepherd Neame   \n",
       "2                                         Arbor Ales   \n",
       "3                                     Shepherd Neame   \n",
       "4                                     Shepherd Neame   \n",
       "..                                               ...   \n",
       "760  Eagle Brewery (Carlsberg Marston's Brewing Co.)   \n",
       "761                            Abita Brewing Company   \n",
       "762                       Smuttynose Brewing Company   \n",
       "763                                        Aldi (UK)   \n",
       "764                Brooklyn Brewery (Kirin Holdings)   \n",
       "\n",
       "                                        review_content        reviewer_name  \n",
       "0    Ruby color, offwhite coam. Aroma and taste: fl...            alex_leit  \n",
       "1    Disappointing show from the lads at ‘Britain’s...  shivermetimber.gray  \n",
       "2    Puszka. Mętne o żółtym kolorze. Piana biała,ob...              MarcinG  \n",
       "3    Bottle. Amber with bronze color and white foam...            alex_leit  \n",
       "4    Bottle. Aroma: English hops and malts with tof...            alex_leit  \n",
       "..                                                 ...                  ...  \n",
       "760  A nice easy drinking session lager. Perfect fo...                   PP  \n",
       "761  This beer is a great summer time beer. Very li...           cjgaertner  \n",
       "762  Typically the same taste as all other IPAs, bu...        BineChalice28  \n",
       "763  Refreshing and excellent, let me set the scene...       DraftLiquids57  \n",
       "764  Amber clear with a one finger wide head.\\nFoul...               ophone  \n",
       "\n",
       "[36103 rows x 6 columns]"
      ]
     },
     "execution_count": 7,
     "metadata": {},
     "output_type": "execute_result"
    }
   ],
   "source": [
    "df"
   ]
  },
  {
   "cell_type": "code",
   "execution_count": 8,
   "metadata": {
    "ExecuteTime": {
     "end_time": "2020-06-15T10:33:42.016470Z",
     "start_time": "2020-06-15T10:33:41.471595Z"
    }
   },
   "outputs": [],
   "source": [
    "df.to_csv('all_reviews.csv',index=False)\n",
    "# df = pd.read_csv('all_reviews.csv')\n",
    "not_found_df = pd.read_csv(\"not_found.csv\")"
   ]
  },
  {
   "cell_type": "markdown",
   "metadata": {},
   "source": [
    "## Get more information on all of the beers - Selenium"
   ]
  },
  {
   "cell_type": "code",
   "execution_count": 9,
   "metadata": {
    "ExecuteTime": {
     "end_time": "2020-06-15T10:33:42.087912Z",
     "start_time": "2020-06-15T10:33:42.020765Z"
    }
   },
   "outputs": [],
   "source": [
    "from selenium import webdriver\n",
    "import time"
   ]
  },
  {
   "cell_type": "code",
   "execution_count": 10,
   "metadata": {
    "ExecuteTime": {
     "end_time": "2020-06-15T10:33:42.193579Z",
     "start_time": "2020-06-15T10:33:42.099831Z"
    }
   },
   "outputs": [],
   "source": [
    "# extract already scraped data from previous scrapes so don't rescrape\n",
    "beer_df = pd.read_csv('beer_deets.csv')"
   ]
  },
  {
   "cell_type": "code",
   "execution_count": 11,
   "metadata": {
    "ExecuteTime": {
     "end_time": "2020-06-15T10:33:42.220158Z",
     "start_time": "2020-06-15T10:33:42.197790Z"
    }
   },
   "outputs": [
    {
     "name": "stdout",
     "output_type": "stream",
     "text": [
      "There are 803 new beers to search for!\n"
     ]
    }
   ],
   "source": [
    "# compare to the unique list to create a new to-be-scraped list\n",
    "new_beer = df.beer_name[(~df.beer_name.isin(beer_df.name_found))&(~df.beer_name.isin(not_found_df.not_found))].unique()\n",
    "print(\"There are\", len(new_beer), \"new beers to search for!\")"
   ]
  },
  {
   "cell_type": "code",
   "execution_count": 12,
   "metadata": {
    "ExecuteTime": {
     "end_time": "2020-06-15T11:13:39.725196Z",
     "start_time": "2020-06-15T10:33:42.224549Z"
    }
   },
   "outputs": [
    {
     "data": {
      "application/vnd.jupyter.widget-view+json": {
       "model_id": "73e768f3183d454790fd5d60b20fc006",
       "version_major": 2,
       "version_minor": 0
      },
      "text/plain": [
       "HBox(children=(FloatProgress(value=0.0, max=803.0), HTML(value='')))"
      ]
     },
     "metadata": {},
     "output_type": "display_data"
    },
    {
     "name": "stdout",
     "output_type": "stream",
     "text": [
      "\n"
     ]
    }
   ],
   "source": [
    "item_names = []\n",
    "desc_string = []\n",
    "\n",
    "driver = webdriver.Chrome(executable_path='/Users/lukebetham/Downloads/chromedriver1')\n",
    "\n",
    "for beer in tqdm(new_beer):\n",
    "    driver.get(\"https://www.ratebeer.com/search?beername={}\".format(beer))\n",
    "    time.sleep(2)\n",
    "    item_tags = driver.find_elements_by_class_name('fg-1')\n",
    "\n",
    "    x=1\n",
    "    beer_temp = []\n",
    "    for item in item_tags:        \n",
    "        if x <2:\n",
    "            try:\n",
    "                item_names.append(item.find_element_by_class_name('fd-r').text)\n",
    "                x+=1\n",
    "            except:\n",
    "                pass\n",
    "            try:\n",
    "                beer_temp.append(item.text)\n",
    "            except:\n",
    "                pass\n",
    "    try:\n",
    "        desc_string.append(beer_temp[4])\n",
    "    except:\n",
    "        desc_string.append(None)\n",
    "\n",
    "driver.quit()"
   ]
  },
  {
   "cell_type": "code",
   "execution_count": 13,
   "metadata": {
    "ExecuteTime": {
     "end_time": "2020-06-15T11:13:40.112798Z",
     "start_time": "2020-06-15T11:13:39.744485Z"
    }
   },
   "outputs": [
    {
     "data": {
      "text/html": [
       "<div>\n",
       "<style scoped>\n",
       "    .dataframe tbody tr th:only-of-type {\n",
       "        vertical-align: middle;\n",
       "    }\n",
       "\n",
       "    .dataframe tbody tr th {\n",
       "        vertical-align: top;\n",
       "    }\n",
       "\n",
       "    .dataframe thead th {\n",
       "        text-align: right;\n",
       "    }\n",
       "</style>\n",
       "<table border=\"1\" class=\"dataframe\">\n",
       "  <thead>\n",
       "    <tr style=\"text-align: right;\">\n",
       "      <th></th>\n",
       "      <th>return_string</th>\n",
       "    </tr>\n",
       "  </thead>\n",
       "  <tbody>\n",
       "    <tr>\n",
       "      <th>0</th>\n",
       "      <td>Rebellion Red Card\\n🇬🇧 Blonde Ale / Golden Ale...</td>\n",
       "    </tr>\n",
       "    <tr>\n",
       "      <th>1</th>\n",
       "      <td>Kehrwieder Dominica\\n🇩🇪 Pale Ale • 4.7%\\n66\\n8...</td>\n",
       "    </tr>\n",
       "    <tr>\n",
       "      <th>2</th>\n",
       "      <td>Luppolo Barrel Aged Imperial Stout (2019) - To...</td>\n",
       "    </tr>\n",
       "    <tr>\n",
       "      <th>3</th>\n",
       "      <td>Luppolo Hazy Pale Blended Cultures\\n🇨🇦 Pale Al...</td>\n",
       "    </tr>\n",
       "    <tr>\n",
       "      <th>4</th>\n",
       "      <td>Full Sail Blood Orange Hefeweizen\\n🇺🇸 Flavored...</td>\n",
       "    </tr>\n",
       "    <tr>\n",
       "      <th>...</th>\n",
       "      <td>...</td>\n",
       "    </tr>\n",
       "    <tr>\n",
       "      <th>798</th>\n",
       "      <td>Bravus IPA\\n🇺🇸 Low / No Alcohol Beer - Pale • ...</td>\n",
       "    </tr>\n",
       "    <tr>\n",
       "      <th>799</th>\n",
       "      <td>Original Small Beer Session Pale\\n🇬🇧 ISA - Ses...</td>\n",
       "    </tr>\n",
       "    <tr>\n",
       "      <th>800</th>\n",
       "      <td>Wheelhouse Kazu Maru IPA\\n🇨🇦 IPA • 6.7%\\n-\\n-\\...</td>\n",
       "    </tr>\n",
       "    <tr>\n",
       "      <th>801</th>\n",
       "      <td>Empresa de Cervejas da Madeira Coral Puro Malt...</td>\n",
       "    </tr>\n",
       "    <tr>\n",
       "      <th>802</th>\n",
       "      <td>Four Loko Sour Grape\\n🇺🇸 Malt Liquor • 14.0%\\n...</td>\n",
       "    </tr>\n",
       "  </tbody>\n",
       "</table>\n",
       "<p>803 rows × 1 columns</p>\n",
       "</div>"
      ],
      "text/plain": [
       "                                         return_string\n",
       "0    Rebellion Red Card\\n🇬🇧 Blonde Ale / Golden Ale...\n",
       "1    Kehrwieder Dominica\\n🇩🇪 Pale Ale • 4.7%\\n66\\n8...\n",
       "2    Luppolo Barrel Aged Imperial Stout (2019) - To...\n",
       "3    Luppolo Hazy Pale Blended Cultures\\n🇨🇦 Pale Al...\n",
       "4    Full Sail Blood Orange Hefeweizen\\n🇺🇸 Flavored...\n",
       "..                                                 ...\n",
       "798  Bravus IPA\\n🇺🇸 Low / No Alcohol Beer - Pale • ...\n",
       "799  Original Small Beer Session Pale\\n🇬🇧 ISA - Ses...\n",
       "800  Wheelhouse Kazu Maru IPA\\n🇨🇦 IPA • 6.7%\\n-\\n-\\...\n",
       "801  Empresa de Cervejas da Madeira Coral Puro Malt...\n",
       "802  Four Loko Sour Grape\\n🇺🇸 Malt Liquor • 14.0%\\n...\n",
       "\n",
       "[803 rows x 1 columns]"
      ]
     },
     "execution_count": 13,
     "metadata": {},
     "output_type": "execute_result"
    }
   ],
   "source": [
    "beer_deets = pd.DataFrame(desc_string, columns = ['return_string'])\n",
    "beer_deets"
   ]
  },
  {
   "cell_type": "code",
   "execution_count": 14,
   "metadata": {
    "ExecuteTime": {
     "end_time": "2020-06-15T11:13:40.161284Z",
     "start_time": "2020-06-15T11:13:40.120159Z"
    }
   },
   "outputs": [],
   "source": [
    "## cleaning the scraped data\n",
    "beer_deets.dropna(inplace=True)\n",
    "beer_deets = beer_deets[~beer_deets.return_string.str.startswith('Logo\\n')].copy()\n",
    "no_alcohol = beer_deets[~beer_deets.return_string.str.contains('%')].copy()\n",
    "beer_deets = beer_deets[beer_deets.return_string.str.contains('%')].copy()\n"
   ]
  },
  {
   "cell_type": "code",
   "execution_count": 15,
   "metadata": {
    "ExecuteTime": {
     "end_time": "2020-06-15T11:13:40.249495Z",
     "start_time": "2020-06-15T11:13:40.170550Z"
    }
   },
   "outputs": [],
   "source": [
    "# sorting the scraped data into columns\n",
    "beer_deets['name_found'] = beer_deets.return_string.apply(lambda x: x.split('\\n')[0].strip())\n",
    "beer_deets['flag'] = beer_deets.return_string.apply(lambda x: x.split('\\n')[1].split('•')[0].split(\" \")[0])\n",
    "beer_deets['type'] = beer_deets.return_string.apply(lambda x: x.split('\\n')[1].split('•')[0][2:])\n",
    "beer_deets['abv'] = beer_deets.return_string.apply(lambda x: float(x.split('\\n')[1].split('•')[1].replace(\"%\",\"\")))\n",
    "beer_deets['rb_overall_score'] = beer_deets.return_string.apply(lambda x: x.split('\\n')[2])\n",
    "beer_deets['rb_style_score'] = beer_deets.return_string.apply(lambda x: x.split('\\n')[3])\n",
    "beer_deets['rb_user_rating'] = beer_deets.return_string.apply(lambda x: x.split('\\n')[4])\n",
    "beer_deets['rb_rating_number'] = beer_deets.return_string.apply(lambda x: x.split('\\n')[5].replace(\"(\",\"\").replace(\")\",\"\"))\n"
   ]
  },
  {
   "cell_type": "code",
   "execution_count": 16,
   "metadata": {
    "ExecuteTime": {
     "end_time": "2020-06-15T11:13:40.258403Z",
     "start_time": "2020-06-15T11:13:40.252436Z"
    }
   },
   "outputs": [],
   "source": [
    "# need to add in add check here for price\n"
   ]
  },
  {
   "cell_type": "code",
   "execution_count": null,
   "metadata": {},
   "outputs": [],
   "source": [
    "\n"
   ]
  },
  {
   "cell_type": "code",
   "execution_count": 17,
   "metadata": {
    "ExecuteTime": {
     "end_time": "2020-06-15T11:13:40.343681Z",
     "start_time": "2020-06-15T11:13:40.266610Z"
    },
    "scrolled": true
   },
   "outputs": [
    {
     "data": {
      "text/html": [
       "<div>\n",
       "<style scoped>\n",
       "    .dataframe tbody tr th:only-of-type {\n",
       "        vertical-align: middle;\n",
       "    }\n",
       "\n",
       "    .dataframe tbody tr th {\n",
       "        vertical-align: top;\n",
       "    }\n",
       "\n",
       "    .dataframe thead th {\n",
       "        text-align: right;\n",
       "    }\n",
       "</style>\n",
       "<table border=\"1\" class=\"dataframe\">\n",
       "  <thead>\n",
       "    <tr style=\"text-align: right;\">\n",
       "      <th></th>\n",
       "      <th>return_string</th>\n",
       "      <th>name_found</th>\n",
       "      <th>flag</th>\n",
       "      <th>type</th>\n",
       "      <th>abv</th>\n",
       "      <th>rb_overall_score</th>\n",
       "      <th>rb_style_score</th>\n",
       "      <th>rb_user_rating</th>\n",
       "      <th>rb_rating_number</th>\n",
       "    </tr>\n",
       "  </thead>\n",
       "  <tbody>\n",
       "    <tr>\n",
       "      <th>10</th>\n",
       "      <td>Issaquah Pumpkin Frog\\n🇺🇸 Flavored - Other0\\n-...</td>\n",
       "      <td>Issaquah Pumpkin Frog</td>\n",
       "      <td>🇺🇸</td>\n",
       "      <td>Flavored - Other</td>\n",
       "      <td>0.0</td>\n",
       "      <td>-</td>\n",
       "      <td>-</td>\n",
       "      <td>3.42</td>\n",
       "      <td>6</td>\n",
       "    </tr>\n",
       "    <tr>\n",
       "      <th>57</th>\n",
       "      <td>Maltstrom / À la Fût - Wild Sour Lager - Assem...</td>\n",
       "      <td>Maltstrom / À la Fût - Wild Sour Lager - Assem...</td>\n",
       "      <td>🇨🇦</td>\n",
       "      <td>Sour / Wild Beer</td>\n",
       "      <td>NaN</td>\n",
       "      <td>-</td>\n",
       "      <td>-</td>\n",
       "      <td>4.15</td>\n",
       "      <td>2</td>\n",
       "    </tr>\n",
       "    <tr>\n",
       "      <th>210</th>\n",
       "      <td>Nouvelle-France DIPA de la Nouvelle-France - M...</td>\n",
       "      <td>Nouvelle-France DIPA de la Nouvelle-France - M...</td>\n",
       "      <td>🇨🇦</td>\n",
       "      <td>IIPA DIPA - Hazy / Double NEIPA</td>\n",
       "      <td>NaN</td>\n",
       "      <td>-</td>\n",
       "      <td>-</td>\n",
       "      <td>4.20</td>\n",
       "      <td>3</td>\n",
       "    </tr>\n",
       "    <tr>\n",
       "      <th>220</th>\n",
       "      <td>Farmery Localishious IPA\\n🇨🇦 IPA\\n-\\n-\\n3.30\\n(1)</td>\n",
       "      <td>Farmery Localishious IPA</td>\n",
       "      <td>🇨🇦</td>\n",
       "      <td>IPA</td>\n",
       "      <td>NaN</td>\n",
       "      <td>-</td>\n",
       "      <td>-</td>\n",
       "      <td>3.30</td>\n",
       "      <td>1</td>\n",
       "    </tr>\n",
       "    <tr>\n",
       "      <th>273</th>\n",
       "      <td>Rugenbräu Alkoholfrei\\n🇨🇭 Low / No Alcohol Bee...</td>\n",
       "      <td>Rugenbräu Alkoholfrei</td>\n",
       "      <td>🇨🇭</td>\n",
       "      <td>Low / No Alcohol Beer - Pale</td>\n",
       "      <td>0.0</td>\n",
       "      <td>-</td>\n",
       "      <td>-</td>\n",
       "      <td>2.13</td>\n",
       "      <td>6</td>\n",
       "    </tr>\n",
       "    <tr>\n",
       "      <th>284</th>\n",
       "      <td>La Confrérie Avec tes Toasts\\n🇨🇦 Flavored - Fr...</td>\n",
       "      <td>La Confrérie Avec tes Toasts</td>\n",
       "      <td>🇨🇦</td>\n",
       "      <td>Flavored - Fruit</td>\n",
       "      <td>NaN</td>\n",
       "      <td>-</td>\n",
       "      <td>-</td>\n",
       "      <td>3.60</td>\n",
       "      <td>1</td>\n",
       "    </tr>\n",
       "    <tr>\n",
       "      <th>316</th>\n",
       "      <td>Lucky Labrador Got Hops?\\n🇺🇸 IPA0\\n79\\n71\\n3.5...</td>\n",
       "      <td>Lucky Labrador Got Hops?</td>\n",
       "      <td>🇺🇸</td>\n",
       "      <td>IPA</td>\n",
       "      <td>0.0</td>\n",
       "      <td>79</td>\n",
       "      <td>71</td>\n",
       "      <td>3.53</td>\n",
       "      <td>23</td>\n",
       "    </tr>\n",
       "    <tr>\n",
       "      <th>321</th>\n",
       "      <td>Astoria Ulti-mutt Alt\\n🇺🇸 Altbier / Sticke Alt...</td>\n",
       "      <td>Astoria Ulti-mutt Alt</td>\n",
       "      <td>🇺🇸</td>\n",
       "      <td>Altbier / Sticke Alt</td>\n",
       "      <td>0.0</td>\n",
       "      <td>-</td>\n",
       "      <td>-</td>\n",
       "      <td>2.90</td>\n",
       "      <td>2</td>\n",
       "    </tr>\n",
       "    <tr>\n",
       "      <th>338</th>\n",
       "      <td>Will-Bräu Original Bayerisch Hefe Weizen Alkoh...</td>\n",
       "      <td>Will-Bräu Original Bayerisch Hefe Weizen Alkoh...</td>\n",
       "      <td>🇩🇪</td>\n",
       "      <td>Low / No Alcohol Beer - Pale</td>\n",
       "      <td>0.0</td>\n",
       "      <td>4</td>\n",
       "      <td>49</td>\n",
       "      <td>2.02</td>\n",
       "      <td>23</td>\n",
       "    </tr>\n",
       "    <tr>\n",
       "      <th>376</th>\n",
       "      <td>Noctem + Maltstrom | Kočiči Vír\\n🇨🇦 Pilsener -...</td>\n",
       "      <td>Noctem + Maltstrom | Kočiči Vír</td>\n",
       "      <td>🇨🇦</td>\n",
       "      <td>Pilsener - Czech / Svetlý</td>\n",
       "      <td>NaN</td>\n",
       "      <td>-</td>\n",
       "      <td>-</td>\n",
       "      <td>3.80</td>\n",
       "      <td>5</td>\n",
       "    </tr>\n",
       "    <tr>\n",
       "      <th>426</th>\n",
       "      <td>450 North Slushy XL - Brunch\\n🇺🇸 Berliner Weis...</td>\n",
       "      <td>450 North Slushy XL - Brunch</td>\n",
       "      <td>🇺🇸</td>\n",
       "      <td>Berliner Weisse - Flavored</td>\n",
       "      <td>NaN</td>\n",
       "      <td>-</td>\n",
       "      <td>-</td>\n",
       "      <td>4.00</td>\n",
       "      <td>2</td>\n",
       "    </tr>\n",
       "    <tr>\n",
       "      <th>454</th>\n",
       "      <td>Lake Mills Finest Lager\\n🇺🇸 Amber Lager - Intl...</td>\n",
       "      <td>Lake Mills Finest Lager</td>\n",
       "      <td>🇺🇸</td>\n",
       "      <td>Amber Lager - Intl / Vienna</td>\n",
       "      <td>NaN</td>\n",
       "      <td>-</td>\n",
       "      <td>-</td>\n",
       "      <td>2.40</td>\n",
       "      <td>1</td>\n",
       "    </tr>\n",
       "    <tr>\n",
       "      <th>482</th>\n",
       "      <td>Sideward Rule of the Beast: Vanilla\\n🇺🇸 Stout ...</td>\n",
       "      <td>Sideward Rule of the Beast: Vanilla</td>\n",
       "      <td>🇺🇸</td>\n",
       "      <td>Stout - Imperial Flavored</td>\n",
       "      <td>NaN</td>\n",
       "      <td>-</td>\n",
       "      <td>-</td>\n",
       "      <td>4.10</td>\n",
       "      <td>1</td>\n",
       "    </tr>\n",
       "    <tr>\n",
       "      <th>515</th>\n",
       "      <td>À La Dérive Boathouse No. 4\\n🇨🇦 IPA - Hazy / N...</td>\n",
       "      <td>À La Dérive Boathouse No. 4</td>\n",
       "      <td>🇨🇦</td>\n",
       "      <td>IPA - Hazy / NEIPA</td>\n",
       "      <td>NaN</td>\n",
       "      <td>-</td>\n",
       "      <td>-</td>\n",
       "      <td>3.80</td>\n",
       "      <td>1</td>\n",
       "    </tr>\n",
       "    <tr>\n",
       "      <th>546</th>\n",
       "      <td>La Chouape Luna IPA No. 2\\n🇨🇦 IPA - Hazy / NEI...</td>\n",
       "      <td>La Chouape Luna IPA No. 2</td>\n",
       "      <td>🇨🇦</td>\n",
       "      <td>IPA - Hazy / NEIPA</td>\n",
       "      <td>NaN</td>\n",
       "      <td>-</td>\n",
       "      <td>-</td>\n",
       "      <td>4.25</td>\n",
       "      <td>2</td>\n",
       "    </tr>\n",
       "    <tr>\n",
       "      <th>556</th>\n",
       "      <td>Black Pond Brews Mr. Kitty\\n🇺🇸 Stout - Milk / ...</td>\n",
       "      <td>Black Pond Brews Mr. Kitty</td>\n",
       "      <td>🇺🇸</td>\n",
       "      <td>Stout - Milk / Sweet</td>\n",
       "      <td>NaN</td>\n",
       "      <td>-</td>\n",
       "      <td>-</td>\n",
       "      <td>3.25</td>\n",
       "      <td>2</td>\n",
       "    </tr>\n",
       "    <tr>\n",
       "      <th>559</th>\n",
       "      <td>Störtebeker Bernstein-Weizen Alkoholfrei\\n🇩🇪 L...</td>\n",
       "      <td>Störtebeker Bernstein-Weizen Alkoholfrei</td>\n",
       "      <td>🇩🇪</td>\n",
       "      <td>Low / No Alcohol Beer - Wheat</td>\n",
       "      <td>0.0</td>\n",
       "      <td>4</td>\n",
       "      <td>20</td>\n",
       "      <td>2.32</td>\n",
       "      <td>106</td>\n",
       "    </tr>\n",
       "    <tr>\n",
       "      <th>569</th>\n",
       "      <td>The Kernel Pils Ella\\n🇬🇧 Pilsener / Pils / Pil...</td>\n",
       "      <td>The Kernel Pils Ella</td>\n",
       "      <td>🇬🇧</td>\n",
       "      <td>Pilsener / Pils / Pilsner</td>\n",
       "      <td>NaN</td>\n",
       "      <td>-</td>\n",
       "      <td>-</td>\n",
       "      <td>3.50</td>\n",
       "      <td>1</td>\n",
       "    </tr>\n",
       "    <tr>\n",
       "      <th>685</th>\n",
       "      <td>Bierschmiede Bendorf Landbier\\n🇩🇪 Zwickelbier ...</td>\n",
       "      <td>Bierschmiede Bendorf Landbier</td>\n",
       "      <td>🇩🇪</td>\n",
       "      <td>Zwickelbier / Kellerbier / Landbier</td>\n",
       "      <td>NaN</td>\n",
       "      <td>-</td>\n",
       "      <td>-</td>\n",
       "      <td>2.90</td>\n",
       "      <td>1</td>\n",
       "    </tr>\n",
       "    <tr>\n",
       "      <th>699</th>\n",
       "      <td>Tugboat Amber Schmamber\\n🇺🇸 Red Ale / Intl Amb...</td>\n",
       "      <td>Tugboat Amber Schmamber</td>\n",
       "      <td>🇺🇸</td>\n",
       "      <td>Red Ale / Intl Amber Ale</td>\n",
       "      <td>NaN</td>\n",
       "      <td>-</td>\n",
       "      <td>-</td>\n",
       "      <td>3.10</td>\n",
       "      <td>1</td>\n",
       "    </tr>\n",
       "    <tr>\n",
       "      <th>719</th>\n",
       "      <td>Drekker Supreme Bee\\n🇺🇸 IPA - Milkshake\\n-\\n-\\...</td>\n",
       "      <td>Drekker Supreme Bee</td>\n",
       "      <td>🇺🇸</td>\n",
       "      <td>IPA - Milkshake</td>\n",
       "      <td>NaN</td>\n",
       "      <td>-</td>\n",
       "      <td>-</td>\n",
       "      <td>3.90</td>\n",
       "      <td>1</td>\n",
       "    </tr>\n",
       "    <tr>\n",
       "      <th>748</th>\n",
       "      <td>HOMES / Mortalis Deep Depths\\n🇺🇸 Berliner Weis...</td>\n",
       "      <td>HOMES / Mortalis Deep Depths</td>\n",
       "      <td>🇺🇸</td>\n",
       "      <td>Berliner Weisse - Flavored</td>\n",
       "      <td>NaN</td>\n",
       "      <td>-</td>\n",
       "      <td>-</td>\n",
       "      <td>4.00</td>\n",
       "      <td>1</td>\n",
       "    </tr>\n",
       "  </tbody>\n",
       "</table>\n",
       "</div>"
      ],
      "text/plain": [
       "                                         return_string  \\\n",
       "10   Issaquah Pumpkin Frog\\n🇺🇸 Flavored - Other0\\n-...   \n",
       "57   Maltstrom / À la Fût - Wild Sour Lager - Assem...   \n",
       "210  Nouvelle-France DIPA de la Nouvelle-France - M...   \n",
       "220  Farmery Localishious IPA\\n🇨🇦 IPA\\n-\\n-\\n3.30\\n(1)   \n",
       "273  Rugenbräu Alkoholfrei\\n🇨🇭 Low / No Alcohol Bee...   \n",
       "284  La Confrérie Avec tes Toasts\\n🇨🇦 Flavored - Fr...   \n",
       "316  Lucky Labrador Got Hops?\\n🇺🇸 IPA0\\n79\\n71\\n3.5...   \n",
       "321  Astoria Ulti-mutt Alt\\n🇺🇸 Altbier / Sticke Alt...   \n",
       "338  Will-Bräu Original Bayerisch Hefe Weizen Alkoh...   \n",
       "376  Noctem + Maltstrom | Kočiči Vír\\n🇨🇦 Pilsener -...   \n",
       "426  450 North Slushy XL - Brunch\\n🇺🇸 Berliner Weis...   \n",
       "454  Lake Mills Finest Lager\\n🇺🇸 Amber Lager - Intl...   \n",
       "482  Sideward Rule of the Beast: Vanilla\\n🇺🇸 Stout ...   \n",
       "515  À La Dérive Boathouse No. 4\\n🇨🇦 IPA - Hazy / N...   \n",
       "546  La Chouape Luna IPA No. 2\\n🇨🇦 IPA - Hazy / NEI...   \n",
       "556  Black Pond Brews Mr. Kitty\\n🇺🇸 Stout - Milk / ...   \n",
       "559  Störtebeker Bernstein-Weizen Alkoholfrei\\n🇩🇪 L...   \n",
       "569  The Kernel Pils Ella\\n🇬🇧 Pilsener / Pils / Pil...   \n",
       "685  Bierschmiede Bendorf Landbier\\n🇩🇪 Zwickelbier ...   \n",
       "699  Tugboat Amber Schmamber\\n🇺🇸 Red Ale / Intl Amb...   \n",
       "719  Drekker Supreme Bee\\n🇺🇸 IPA - Milkshake\\n-\\n-\\...   \n",
       "748  HOMES / Mortalis Deep Depths\\n🇺🇸 Berliner Weis...   \n",
       "\n",
       "                                            name_found flag  \\\n",
       "10                               Issaquah Pumpkin Frog   🇺🇸   \n",
       "57   Maltstrom / À la Fût - Wild Sour Lager - Assem...   🇨🇦   \n",
       "210  Nouvelle-France DIPA de la Nouvelle-France - M...   🇨🇦   \n",
       "220                           Farmery Localishious IPA   🇨🇦   \n",
       "273                              Rugenbräu Alkoholfrei   🇨🇭   \n",
       "284                       La Confrérie Avec tes Toasts   🇨🇦   \n",
       "316                           Lucky Labrador Got Hops?   🇺🇸   \n",
       "321                              Astoria Ulti-mutt Alt   🇺🇸   \n",
       "338  Will-Bräu Original Bayerisch Hefe Weizen Alkoh...   🇩🇪   \n",
       "376                    Noctem + Maltstrom | Kočiči Vír   🇨🇦   \n",
       "426                       450 North Slushy XL - Brunch   🇺🇸   \n",
       "454                            Lake Mills Finest Lager   🇺🇸   \n",
       "482                Sideward Rule of the Beast: Vanilla   🇺🇸   \n",
       "515                        À La Dérive Boathouse No. 4   🇨🇦   \n",
       "546                          La Chouape Luna IPA No. 2   🇨🇦   \n",
       "556                         Black Pond Brews Mr. Kitty   🇺🇸   \n",
       "559           Störtebeker Bernstein-Weizen Alkoholfrei   🇩🇪   \n",
       "569                               The Kernel Pils Ella   🇬🇧   \n",
       "685                      Bierschmiede Bendorf Landbier   🇩🇪   \n",
       "699                            Tugboat Amber Schmamber   🇺🇸   \n",
       "719                                Drekker Supreme Bee   🇺🇸   \n",
       "748                       HOMES / Mortalis Deep Depths   🇺🇸   \n",
       "\n",
       "                                     type  abv rb_overall_score  \\\n",
       "10                       Flavored - Other  0.0                -   \n",
       "57                       Sour / Wild Beer  NaN                -   \n",
       "210       IIPA DIPA - Hazy / Double NEIPA  NaN                -   \n",
       "220                                   IPA  NaN                -   \n",
       "273          Low / No Alcohol Beer - Pale  0.0                -   \n",
       "284                      Flavored - Fruit  NaN                -   \n",
       "316                                   IPA  0.0               79   \n",
       "321                  Altbier / Sticke Alt  0.0                -   \n",
       "338          Low / No Alcohol Beer - Pale  0.0                4   \n",
       "376             Pilsener - Czech / Svetlý  NaN                -   \n",
       "426            Berliner Weisse - Flavored  NaN                -   \n",
       "454           Amber Lager - Intl / Vienna  NaN                -   \n",
       "482             Stout - Imperial Flavored  NaN                -   \n",
       "515                    IPA - Hazy / NEIPA  NaN                -   \n",
       "546                    IPA - Hazy / NEIPA  NaN                -   \n",
       "556                  Stout - Milk / Sweet  NaN                -   \n",
       "559         Low / No Alcohol Beer - Wheat  0.0                4   \n",
       "569             Pilsener / Pils / Pilsner  NaN                -   \n",
       "685   Zwickelbier / Kellerbier / Landbier  NaN                -   \n",
       "699              Red Ale / Intl Amber Ale  NaN                -   \n",
       "719                       IPA - Milkshake  NaN                -   \n",
       "748            Berliner Weisse - Flavored  NaN                -   \n",
       "\n",
       "    rb_style_score rb_user_rating rb_rating_number  \n",
       "10               -           3.42                6  \n",
       "57               -           4.15                2  \n",
       "210              -           4.20                3  \n",
       "220              -           3.30                1  \n",
       "273              -           2.13                6  \n",
       "284              -           3.60                1  \n",
       "316             71           3.53               23  \n",
       "321              -           2.90                2  \n",
       "338             49           2.02               23  \n",
       "376              -           3.80                5  \n",
       "426              -           4.00                2  \n",
       "454              -           2.40                1  \n",
       "482              -           4.10                1  \n",
       "515              -           3.80                1  \n",
       "546              -           4.25                2  \n",
       "556              -           3.25                2  \n",
       "559             20           2.32              106  \n",
       "569              -           3.50                1  \n",
       "685              -           2.90                1  \n",
       "699              -           3.10                1  \n",
       "719              -           3.90                1  \n",
       "748              -           4.00                1  "
      ]
     },
     "execution_count": 17,
     "metadata": {},
     "output_type": "execute_result"
    }
   ],
   "source": [
    "# sorting the no alcohol measure\n",
    "no_alcohol['name_found'] = no_alcohol.return_string.apply(lambda x: x.split('\\n')[0].strip())\n",
    "no_alcohol['flag'] = no_alcohol.return_string.apply(lambda x: x.split('\\n')[1].split('•')[0].split(\" \")[0])\n",
    "no_alcohol['type'] = no_alcohol.return_string.apply(lambda x: x.split('\\n')[1].split('•')[0][2:])\n",
    "no_alcohol['abv'] = no_alcohol.type.apply(lambda x: 0 if x[-1] == '0' else None)\n",
    "no_alcohol['type'] = no_alcohol.type.apply(lambda x: x[:-1] if x[-1] == '0' else x)\n",
    "no_alcohol['check'] = no_alcohol.return_string.apply(lambda x: len(x.split('\\n')))\n",
    "no_alcohol = no_alcohol[no_alcohol['check']>4].copy()\n",
    "no_alcohol['rb_overall_score'] = no_alcohol.return_string.apply(lambda x: x.split('\\n')[2])\n",
    "no_alcohol['rb_style_score'] = no_alcohol.return_string.apply(lambda x: x.split('\\n')[3])\n",
    "no_alcohol['rb_user_rating'] = no_alcohol.return_string.apply(lambda x: x.split('\\n')[4])\n",
    "no_alcohol['rb_rating_number'] = no_alcohol.return_string.apply(lambda x: x.split('\\n')[5].replace(\"(\",\"\").replace(\")\",\"\"))\n",
    "no_alcohol.drop('check',inplace=True, axis=1)\n",
    "\n",
    "no_alcohol"
   ]
  },
  {
   "cell_type": "code",
   "execution_count": 18,
   "metadata": {
    "ExecuteTime": {
     "end_time": "2020-06-15T11:13:40.450483Z",
     "start_time": "2020-06-15T11:13:40.347139Z"
    }
   },
   "outputs": [],
   "source": [
    "beer_df = pd.concat([beer_df,beer_deets,no_alcohol])"
   ]
  },
  {
   "cell_type": "code",
   "execution_count": 19,
   "metadata": {
    "ExecuteTime": {
     "end_time": "2020-06-15T11:13:40.477292Z",
     "start_time": "2020-06-15T11:13:40.453507Z"
    }
   },
   "outputs": [
    {
     "data": {
      "text/html": [
       "<div>\n",
       "<style scoped>\n",
       "    .dataframe tbody tr th:only-of-type {\n",
       "        vertical-align: middle;\n",
       "    }\n",
       "\n",
       "    .dataframe tbody tr th {\n",
       "        vertical-align: top;\n",
       "    }\n",
       "\n",
       "    .dataframe thead th {\n",
       "        text-align: right;\n",
       "    }\n",
       "</style>\n",
       "<table border=\"1\" class=\"dataframe\">\n",
       "  <thead>\n",
       "    <tr style=\"text-align: right;\">\n",
       "      <th></th>\n",
       "      <th>return_string</th>\n",
       "      <th>flag</th>\n",
       "      <th>type</th>\n",
       "      <th>abv</th>\n",
       "      <th>rb_overall_score</th>\n",
       "      <th>rb_style_score</th>\n",
       "      <th>rb_user_rating</th>\n",
       "      <th>rb_rating_number</th>\n",
       "      <th>name_found</th>\n",
       "    </tr>\n",
       "  </thead>\n",
       "  <tbody>\n",
       "    <tr>\n",
       "      <th>0</th>\n",
       "      <td>St. Peter's Ruby Red Ale\\n🇬🇧 Bitter - Ordinary...</td>\n",
       "      <td>🇬🇧</td>\n",
       "      <td>Bitter - Ordinary / Best</td>\n",
       "      <td>4.3</td>\n",
       "      <td>49</td>\n",
       "      <td>95</td>\n",
       "      <td>3.25</td>\n",
       "      <td>415</td>\n",
       "      <td>St. Peter's Ruby Red Ale</td>\n",
       "    </tr>\n",
       "    <tr>\n",
       "      <th>1</th>\n",
       "      <td>Shepherd Neame Spitfire (Bottle)\\n🇬🇧 Bitter - ...</td>\n",
       "      <td>🇬🇧</td>\n",
       "      <td>Bitter - Ordinary / Best</td>\n",
       "      <td>4.5</td>\n",
       "      <td>34</td>\n",
       "      <td>59</td>\n",
       "      <td>3.05</td>\n",
       "      <td>1083</td>\n",
       "      <td>Shepherd Neame Spitfire (Bottle)</td>\n",
       "    </tr>\n",
       "    <tr>\n",
       "      <th>2</th>\n",
       "      <td>Arbor Rocketman\\n🇬🇧 IPA • 6.0%\\n95\\n97\\n3.74\\n...</td>\n",
       "      <td>🇬🇧</td>\n",
       "      <td>IPA</td>\n",
       "      <td>6.0</td>\n",
       "      <td>95</td>\n",
       "      <td>97</td>\n",
       "      <td>3.74</td>\n",
       "      <td>59</td>\n",
       "      <td>Arbor Rocketman</td>\n",
       "    </tr>\n",
       "    <tr>\n",
       "      <th>3</th>\n",
       "      <td>Shepherd Neame India Pale Ale (Bottle)\\n🇬🇧 IPA...</td>\n",
       "      <td>🇬🇧</td>\n",
       "      <td>IPA - English</td>\n",
       "      <td>6.1</td>\n",
       "      <td>46</td>\n",
       "      <td>47</td>\n",
       "      <td>3.22</td>\n",
       "      <td>420</td>\n",
       "      <td>Shepherd Neame India Pale Ale (Bottle)</td>\n",
       "    </tr>\n",
       "    <tr>\n",
       "      <th>4</th>\n",
       "      <td>Shepherd Neame Christmas Ale\\n🇬🇧 Strong Ale - ...</td>\n",
       "      <td>🇬🇧</td>\n",
       "      <td>Strong Ale - English</td>\n",
       "      <td>7.0</td>\n",
       "      <td>45</td>\n",
       "      <td>46</td>\n",
       "      <td>3.18</td>\n",
       "      <td>409</td>\n",
       "      <td>Shepherd Neame Christmas Ale</td>\n",
       "    </tr>\n",
       "    <tr>\n",
       "      <th>...</th>\n",
       "      <td>...</td>\n",
       "      <td>...</td>\n",
       "      <td>...</td>\n",
       "      <td>...</td>\n",
       "      <td>...</td>\n",
       "      <td>...</td>\n",
       "      <td>...</td>\n",
       "      <td>...</td>\n",
       "      <td>...</td>\n",
       "    </tr>\n",
       "    <tr>\n",
       "      <th>569</th>\n",
       "      <td>The Kernel Pils Ella\\n🇬🇧 Pilsener / Pils / Pil...</td>\n",
       "      <td>🇬🇧</td>\n",
       "      <td>Pilsener / Pils / Pilsner</td>\n",
       "      <td>NaN</td>\n",
       "      <td>-</td>\n",
       "      <td>-</td>\n",
       "      <td>3.50</td>\n",
       "      <td>1</td>\n",
       "      <td>The Kernel Pils Ella</td>\n",
       "    </tr>\n",
       "    <tr>\n",
       "      <th>685</th>\n",
       "      <td>Bierschmiede Bendorf Landbier\\n🇩🇪 Zwickelbier ...</td>\n",
       "      <td>🇩🇪</td>\n",
       "      <td>Zwickelbier / Kellerbier / Landbier</td>\n",
       "      <td>NaN</td>\n",
       "      <td>-</td>\n",
       "      <td>-</td>\n",
       "      <td>2.90</td>\n",
       "      <td>1</td>\n",
       "      <td>Bierschmiede Bendorf Landbier</td>\n",
       "    </tr>\n",
       "    <tr>\n",
       "      <th>699</th>\n",
       "      <td>Tugboat Amber Schmamber\\n🇺🇸 Red Ale / Intl Amb...</td>\n",
       "      <td>🇺🇸</td>\n",
       "      <td>Red Ale / Intl Amber Ale</td>\n",
       "      <td>NaN</td>\n",
       "      <td>-</td>\n",
       "      <td>-</td>\n",
       "      <td>3.10</td>\n",
       "      <td>1</td>\n",
       "      <td>Tugboat Amber Schmamber</td>\n",
       "    </tr>\n",
       "    <tr>\n",
       "      <th>719</th>\n",
       "      <td>Drekker Supreme Bee\\n🇺🇸 IPA - Milkshake\\n-\\n-\\...</td>\n",
       "      <td>🇺🇸</td>\n",
       "      <td>IPA - Milkshake</td>\n",
       "      <td>NaN</td>\n",
       "      <td>-</td>\n",
       "      <td>-</td>\n",
       "      <td>3.90</td>\n",
       "      <td>1</td>\n",
       "      <td>Drekker Supreme Bee</td>\n",
       "    </tr>\n",
       "    <tr>\n",
       "      <th>748</th>\n",
       "      <td>HOMES / Mortalis Deep Depths\\n🇺🇸 Berliner Weis...</td>\n",
       "      <td>🇺🇸</td>\n",
       "      <td>Berliner Weisse - Flavored</td>\n",
       "      <td>NaN</td>\n",
       "      <td>-</td>\n",
       "      <td>-</td>\n",
       "      <td>4.00</td>\n",
       "      <td>1</td>\n",
       "      <td>HOMES / Mortalis Deep Depths</td>\n",
       "    </tr>\n",
       "  </tbody>\n",
       "</table>\n",
       "<p>19719 rows × 9 columns</p>\n",
       "</div>"
      ],
      "text/plain": [
       "                                         return_string flag  \\\n",
       "0    St. Peter's Ruby Red Ale\\n🇬🇧 Bitter - Ordinary...   🇬🇧   \n",
       "1    Shepherd Neame Spitfire (Bottle)\\n🇬🇧 Bitter - ...   🇬🇧   \n",
       "2    Arbor Rocketman\\n🇬🇧 IPA • 6.0%\\n95\\n97\\n3.74\\n...   🇬🇧   \n",
       "3    Shepherd Neame India Pale Ale (Bottle)\\n🇬🇧 IPA...   🇬🇧   \n",
       "4    Shepherd Neame Christmas Ale\\n🇬🇧 Strong Ale - ...   🇬🇧   \n",
       "..                                                 ...  ...   \n",
       "569  The Kernel Pils Ella\\n🇬🇧 Pilsener / Pils / Pil...   🇬🇧   \n",
       "685  Bierschmiede Bendorf Landbier\\n🇩🇪 Zwickelbier ...   🇩🇪   \n",
       "699  Tugboat Amber Schmamber\\n🇺🇸 Red Ale / Intl Amb...   🇺🇸   \n",
       "719  Drekker Supreme Bee\\n🇺🇸 IPA - Milkshake\\n-\\n-\\...   🇺🇸   \n",
       "748  HOMES / Mortalis Deep Depths\\n🇺🇸 Berliner Weis...   🇺🇸   \n",
       "\n",
       "                                     type  abv rb_overall_score  \\\n",
       "0               Bitter - Ordinary / Best   4.3               49   \n",
       "1               Bitter - Ordinary / Best   4.5               34   \n",
       "2                                    IPA   6.0               95   \n",
       "3                          IPA - English   6.1               46   \n",
       "4                   Strong Ale - English   7.0               45   \n",
       "..                                    ...  ...              ...   \n",
       "569             Pilsener / Pils / Pilsner  NaN                -   \n",
       "685   Zwickelbier / Kellerbier / Landbier  NaN                -   \n",
       "699              Red Ale / Intl Amber Ale  NaN                -   \n",
       "719                       IPA - Milkshake  NaN                -   \n",
       "748            Berliner Weisse - Flavored  NaN                -   \n",
       "\n",
       "    rb_style_score rb_user_rating rb_rating_number  \\\n",
       "0               95           3.25              415   \n",
       "1               59           3.05             1083   \n",
       "2               97           3.74               59   \n",
       "3               47           3.22              420   \n",
       "4               46           3.18              409   \n",
       "..             ...            ...              ...   \n",
       "569              -           3.50                1   \n",
       "685              -           2.90                1   \n",
       "699              -           3.10                1   \n",
       "719              -           3.90                1   \n",
       "748              -           4.00                1   \n",
       "\n",
       "                                 name_found  \n",
       "0                  St. Peter's Ruby Red Ale  \n",
       "1          Shepherd Neame Spitfire (Bottle)  \n",
       "2                           Arbor Rocketman  \n",
       "3    Shepherd Neame India Pale Ale (Bottle)  \n",
       "4              Shepherd Neame Christmas Ale  \n",
       "..                                      ...  \n",
       "569                    The Kernel Pils Ella  \n",
       "685           Bierschmiede Bendorf Landbier  \n",
       "699                 Tugboat Amber Schmamber  \n",
       "719                     Drekker Supreme Bee  \n",
       "748            HOMES / Mortalis Deep Depths  \n",
       "\n",
       "[19719 rows x 9 columns]"
      ]
     },
     "execution_count": 19,
     "metadata": {},
     "output_type": "execute_result"
    }
   ],
   "source": [
    "beer_df"
   ]
  },
  {
   "cell_type": "code",
   "execution_count": 20,
   "metadata": {
    "ExecuteTime": {
     "end_time": "2020-06-15T11:13:40.602617Z",
     "start_time": "2020-06-15T11:13:40.480054Z"
    }
   },
   "outputs": [
    {
     "name": "stdout",
     "output_type": "stream",
     "text": [
      "There are 27 new beers that were not found or returned errors. They will be added to the no search list.\n"
     ]
    }
   ],
   "source": [
    "# compare to the unique list to create a new to-be-scraped list\n",
    "not_found_beer = df.beer_name[~df.beer_name.isin(beer_df.name_found)].unique()\n",
    "print(\"There are\", len(not_found_beer)-len(not_found_df), \"new beers that were not found or returned errors. They will be added to the no search list.\")\n",
    "not_found_df = pd.concat([not_found_df,pd.DataFrame(not_found_beer,columns = [\"not_found\"])])\n",
    "not_found_df.drop_duplicates(inplace=True)"
   ]
  },
  {
   "cell_type": "code",
   "execution_count": 21,
   "metadata": {
    "ExecuteTime": {
     "end_time": "2020-06-15T11:13:40.750038Z",
     "start_time": "2020-06-15T11:13:40.605518Z"
    }
   },
   "outputs": [],
   "source": [
    "beer_df.to_csv('beer_deets.csv',index=False)\n",
    "not_found_df.to_csv(\"not_found.csv\", index=False)"
   ]
  },
  {
   "cell_type": "code",
   "execution_count": null,
   "metadata": {},
   "outputs": [],
   "source": []
  },
  {
   "cell_type": "code",
   "execution_count": null,
   "metadata": {},
   "outputs": [],
   "source": []
  },
  {
   "cell_type": "code",
   "execution_count": null,
   "metadata": {},
   "outputs": [],
   "source": []
  }
 ],
 "metadata": {
  "kernelspec": {
   "display_name": "Python 3",
   "language": "python",
   "name": "python3"
  },
  "language_info": {
   "codemirror_mode": {
    "name": "ipython",
    "version": 3
   },
   "file_extension": ".py",
   "mimetype": "text/x-python",
   "name": "python",
   "nbconvert_exporter": "python",
   "pygments_lexer": "ipython3",
   "version": "3.7.1"
  },
  "toc": {
   "base_numbering": 1,
   "nav_menu": {},
   "number_sections": true,
   "sideBar": true,
   "skip_h1_title": false,
   "title_cell": "Table of Contents",
   "title_sidebar": "Contents",
   "toc_cell": false,
   "toc_position": {},
   "toc_section_display": true,
   "toc_window_display": false
  },
  "varInspector": {
   "cols": {
    "lenName": 16,
    "lenType": 16,
    "lenVar": 40
   },
   "kernels_config": {
    "python": {
     "delete_cmd_postfix": "",
     "delete_cmd_prefix": "del ",
     "library": "var_list.py",
     "varRefreshCmd": "print(var_dic_list())"
    },
    "r": {
     "delete_cmd_postfix": ") ",
     "delete_cmd_prefix": "rm(",
     "library": "var_list.r",
     "varRefreshCmd": "cat(var_dic_list()) "
    }
   },
   "types_to_exclude": [
    "module",
    "function",
    "builtin_function_or_method",
    "instance",
    "_Feature"
   ],
   "window_display": false
  }
 },
 "nbformat": 4,
 "nbformat_minor": 4
}
