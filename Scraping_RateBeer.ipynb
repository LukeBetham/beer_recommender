{
 "cells": [
  {
   "cell_type": "code",
   "execution_count": 1,
   "metadata": {
    "ExecuteTime": {
     "end_time": "2020-06-23T08:52:03.999397Z",
     "start_time": "2020-06-23T08:52:01.324146Z"
    }
   },
   "outputs": [],
   "source": [
    "import requests\n",
    "import bs4\n",
    "from bs4 import BeautifulSoup\n",
    "import pandas as pd\n",
    "import re\n",
    "from tqdm.notebook import tqdm\n",
    "import matplotlib.pyplot as plt\n",
    "import seaborn as sns"
   ]
  },
  {
   "cell_type": "markdown",
   "metadata": {},
   "source": [
    "## Code which scrapes the recently reviews (only 100 pages - 1,400 reviews)"
   ]
  },
  {
   "cell_type": "code",
   "execution_count": 2,
   "metadata": {
    "ExecuteTime": {
     "end_time": "2020-06-23T08:52:04.066216Z",
     "start_time": "2020-06-23T08:52:04.050941Z"
    }
   },
   "outputs": [],
   "source": [
    "\n",
    "def ratebeer_scraper(page_start=1, page_end=2, url_set=None):\n",
    "    \n",
    "    beer_name = []\n",
    "    beer_rating = []\n",
    "    brewery_name = []\n",
    "    brewery_location = []\n",
    "    review_content = []\n",
    "    reviewer_name = []\n",
    " \n",
    "    if url_set == None:\n",
    "        print(\"Need url to run\")\n",
    "        return\n",
    "\n",
    "    for x in tqdm(range(page_start, page_end + 1)):\n",
    "        try:\n",
    "            url_format = url_set.format(x)\n",
    "            r = requests.get(url_format)\n",
    "            soup = BeautifulSoup(r.text, 'html.parser')\n",
    "            table = soup.find('table', attrs={'class': 'table'})\n",
    "            table_rows = table.find_all('tr')\n",
    "\n",
    "            for rows in table_rows:\n",
    "\n",
    "            # Scrape Beer Name    \n",
    "                try:\n",
    "                    beer_name.append(rows.find('a', attrs={'style':'font-size:20px; font-weight:bold;'}).text)\n",
    "                except:\n",
    "                    beer_name.append(None)\n",
    "            # Scrape Review Rating  \n",
    "                try:\n",
    "                    beer_rating.append(rows.find('span', attrs={'class':'uas'}).text)\n",
    "                except:\n",
    "                    beer_rating.append(None)\n",
    "            # Scrape Brewery Name  \n",
    "                try:\n",
    "                    brewery_div = rows.find('div')\n",
    "                    brewery_name.append(brewery_div.a.text)\n",
    "                except:\n",
    "                    brewery_name.append(None)\n",
    "            # Scrape Brewery Location\n",
    "                try:\n",
    "                    brewery_location.append(rows.find('span', attrs={'class':'small'}).text.strip())\n",
    "                except:\n",
    "                    brewery_location.append(None)\n",
    "            # Scrape Reviewer Name\n",
    "                try:\n",
    "                    reviewer_name.append(rows.find('span', attrs={'class':'pull-right'}).text.strip())\n",
    "                except:\n",
    "                    reviewer_name.append(None)\n",
    "            # Scrape content\n",
    "                try:\n",
    "                    review_content.append(rows.find('div', attrs={'style':\"color:#666;\"}).text.strip())\n",
    "                except:\n",
    "                    review_content.append(None)\n",
    "        except:\n",
    "            pass\n",
    "\n",
    "    beerz = pd.DataFrame({'beer_name': beer_name,\n",
    "                         'beer_rating': beer_rating,\n",
    "                        'brewery_name': brewery_name,\n",
    "                         'brewery_location': brewery_location,\n",
    "                        'review_content': review_content,\n",
    "                        'reviewer_name': reviewer_name})\n",
    "    return beerz\n",
    "\n"
   ]
  },
  {
   "cell_type": "code",
   "execution_count": 3,
   "metadata": {
    "ExecuteTime": {
     "end_time": "2020-06-23T08:56:20.557234Z",
     "start_time": "2020-06-23T08:52:04.070286Z"
    }
   },
   "outputs": [
    {
     "data": {
      "application/vnd.jupyter.widget-view+json": {
       "model_id": "91bcb37f9a164c22818a4ed827215f5d",
       "version_major": 2,
       "version_minor": 0
      },
      "text/plain": [
       "HBox(children=(FloatProgress(value=0.0, max=101.0), HTML(value='')))"
      ]
     },
     "metadata": {},
     "output_type": "display_data"
    },
    {
     "name": "stdout",
     "output_type": "stream",
     "text": [
      "\n"
     ]
    },
    {
     "data": {
      "application/vnd.jupyter.widget-view+json": {
       "model_id": "91e064721d06430a8d7119b0c2dad428",
       "version_major": 2,
       "version_minor": 0
      },
      "text/plain": [
       "HBox(children=(FloatProgress(value=0.0, max=11.0), HTML(value='')))"
      ]
     },
     "metadata": {},
     "output_type": "display_data"
    },
    {
     "name": "stdout",
     "output_type": "stream",
     "text": [
      "\n"
     ]
    },
    {
     "data": {
      "application/vnd.jupyter.widget-view+json": {
       "model_id": "a975b65ec5694e3f83fbd8feab6aec3c",
       "version_major": 2,
       "version_minor": 0
      },
      "text/plain": [
       "HBox(children=(FloatProgress(value=0.0, max=51.0), HTML(value='')))"
      ]
     },
     "metadata": {},
     "output_type": "display_data"
    },
    {
     "name": "stdout",
     "output_type": "stream",
     "text": [
      "\n"
     ]
    },
    {
     "data": {
      "application/vnd.jupyter.widget-view+json": {
       "model_id": "5a72cd12717045b9a6b2a3c13ffe44b6",
       "version_major": 2,
       "version_minor": 0
      },
      "text/plain": [
       "HBox(children=(FloatProgress(value=0.0, max=51.0), HTML(value='')))"
      ]
     },
     "metadata": {},
     "output_type": "display_data"
    },
    {
     "name": "stdout",
     "output_type": "stream",
     "text": [
      "\n"
     ]
    },
    {
     "data": {
      "application/vnd.jupyter.widget-view+json": {
       "model_id": "1341ab1c516e4e1eac0036d347692cb8",
       "version_major": 2,
       "version_minor": 0
      },
      "text/plain": [
       "HBox(children=(FloatProgress(value=0.0, max=51.0), HTML(value='')))"
      ]
     },
     "metadata": {},
     "output_type": "display_data"
    },
    {
     "name": "stdout",
     "output_type": "stream",
     "text": [
      "\n"
     ]
    },
    {
     "data": {
      "application/vnd.jupyter.widget-view+json": {
       "model_id": "09bff26019834c8587e0b69c51122174",
       "version_major": 2,
       "version_minor": 0
      },
      "text/plain": [
       "HBox(children=(FloatProgress(value=0.0, max=51.0), HTML(value='')))"
      ]
     },
     "metadata": {},
     "output_type": "display_data"
    },
    {
     "name": "stdout",
     "output_type": "stream",
     "text": [
      "\n"
     ]
    }
   ],
   "source": [
    "# Scraping most recent reviews\n",
    "url = 'https://www.ratebeer.com/beer-ratings/0/{}/'\n",
    "df_recent = ratebeer_scraper(0,100,url)\n",
    "\n",
    "# Scraping new beers\n",
    "url = 'https://www.ratebeer.com/beer-ratings/5/{}/'\n",
    "df_new = ratebeer_scraper(0,10,url)\n",
    "\n",
    "# Scraping fave beers\n",
    "url = 'https://www.ratebeer.com/beer-ratings/4/{}/'\n",
    "df_fave = ratebeer_scraper(0,50,url)\n",
    "\n",
    "# Scraping rave beers\n",
    "url = 'https://www.ratebeer.com/beer-ratings/1/{}/'\n",
    "df_rave = ratebeer_scraper(0,50,url)\n",
    "\n",
    "# Scraping rant beers\n",
    "url = 'https://www.ratebeer.com/beer-ratings/2/{}/'\n",
    "df_rant = ratebeer_scraper(0,50,url)\n",
    "\n",
    "# Scraping anomalous beers\n",
    "url = 'https://www.ratebeer.com/beer-ratings/3/{}/'\n",
    "df_anom = ratebeer_scraper(0,50,url)"
   ]
  },
  {
   "cell_type": "code",
   "execution_count": 4,
   "metadata": {
    "ExecuteTime": {
     "end_time": "2020-06-23T08:56:20.585734Z",
     "start_time": "2020-06-23T08:56:20.560094Z"
    }
   },
   "outputs": [],
   "source": [
    "# getting rid of non-ascii characters from the reviews as it breaks csv\n",
    "\n",
    "df_recent.review_content = df_recent.review_content.apply(lambda x: x.encode('ascii', 'ignore').decode('ascii'))\n",
    "df_new.review_content = df_new.review_content.apply(lambda x: x.encode('ascii', 'ignore').decode('ascii'))\n",
    "df_rave.review_content = df_rave.review_content.apply(lambda x: x.encode('ascii', 'ignore').decode('ascii'))\n",
    "df_fave.review_content = df_fave.review_content.apply(lambda x: x.encode('ascii', 'ignore').decode('ascii'))\n",
    "df_rant.review_content = df_rant.review_content.apply(lambda x: x.encode('ascii', 'ignore').decode('ascii'))\n",
    "df_anom.review_content = df_anom.review_content.apply(lambda x: x.encode('ascii', 'ignore').decode('ascii'))\n"
   ]
  },
  {
   "cell_type": "code",
   "execution_count": 5,
   "metadata": {
    "ExecuteTime": {
     "end_time": "2020-06-23T08:56:20.754496Z",
     "start_time": "2020-06-23T08:56:20.587962Z"
    }
   },
   "outputs": [],
   "source": [
    "# read current data from csv (there is a backup at all_reviews_backup.csv)\n",
    "df = pd.read_csv('all_reviews.csv')"
   ]
  },
  {
   "cell_type": "code",
   "execution_count": 6,
   "metadata": {
    "ExecuteTime": {
     "end_time": "2020-06-23T08:56:20.879606Z",
     "start_time": "2020-06-23T08:56:20.756802Z"
    }
   },
   "outputs": [
    {
     "name": "stdout",
     "output_type": "stream",
     "text": [
      "43857\n",
      "39579\n"
     ]
    }
   ],
   "source": [
    "# concatenating all of the scrapes together with the old df\n",
    "try:\n",
    "    df = pd.concat([df, df_recent, df_new, df_fave, df_rave, df_rant, df_anom])\n",
    "except:\n",
    "    df = pd.concat([df, df_recent])\n",
    "print(len(df))\n",
    "df.drop_duplicates(inplace=True)\n",
    "print(len(df))\n",
    "df.beer_name = df.beer_name.apply(lambda x: x.strip())\n",
    "\n"
   ]
  },
  {
   "cell_type": "code",
   "execution_count": 7,
   "metadata": {
    "ExecuteTime": {
     "end_time": "2020-06-23T08:56:20.897360Z",
     "start_time": "2020-06-23T08:56:20.881714Z"
    }
   },
   "outputs": [
    {
     "data": {
      "text/html": [
       "<div>\n",
       "<style scoped>\n",
       "    .dataframe tbody tr th:only-of-type {\n",
       "        vertical-align: middle;\n",
       "    }\n",
       "\n",
       "    .dataframe tbody tr th {\n",
       "        vertical-align: top;\n",
       "    }\n",
       "\n",
       "    .dataframe thead th {\n",
       "        text-align: right;\n",
       "    }\n",
       "</style>\n",
       "<table border=\"1\" class=\"dataframe\">\n",
       "  <thead>\n",
       "    <tr style=\"text-align: right;\">\n",
       "      <th></th>\n",
       "      <th>beer_name</th>\n",
       "      <th>beer_rating</th>\n",
       "      <th>brewery_location</th>\n",
       "      <th>brewery_name</th>\n",
       "      <th>review_content</th>\n",
       "      <th>reviewer_name</th>\n",
       "    </tr>\n",
       "  </thead>\n",
       "  <tbody>\n",
       "    <tr>\n",
       "      <th>0</th>\n",
       "      <td>St. Peter's Ruby Red Ale</td>\n",
       "      <td>3.3</td>\n",
       "      <td>Bungay, Suffolk</td>\n",
       "      <td>St. Peter's Brewery</td>\n",
       "      <td>Ruby color, offwhite coam. Aroma and taste: fl...</td>\n",
       "      <td>alex_leit</td>\n",
       "    </tr>\n",
       "    <tr>\n",
       "      <th>1</th>\n",
       "      <td>Shepherd Neame Spitfire (Bottle)</td>\n",
       "      <td>2.2</td>\n",
       "      <td>Faversham, Kent</td>\n",
       "      <td>Shepherd Neame</td>\n",
       "      <td>Disappointing show from the lads at ‘Britain’s...</td>\n",
       "      <td>shivermetimber.gray</td>\n",
       "    </tr>\n",
       "    <tr>\n",
       "      <th>2</th>\n",
       "      <td>Arbor Rocketman</td>\n",
       "      <td>3.8</td>\n",
       "      <td>Bristol, Gloucestershire</td>\n",
       "      <td>Arbor Ales</td>\n",
       "      <td>Puszka. Mętne o żółtym kolorze. Piana biała,ob...</td>\n",
       "      <td>MarcinG</td>\n",
       "    </tr>\n",
       "    <tr>\n",
       "      <th>3</th>\n",
       "      <td>Shepherd Neame India Pale Ale (Bottle)</td>\n",
       "      <td>3.4</td>\n",
       "      <td>Faversham, Kent</td>\n",
       "      <td>Shepherd Neame</td>\n",
       "      <td>Bottle. Amber with bronze color and white foam...</td>\n",
       "      <td>alex_leit</td>\n",
       "    </tr>\n",
       "    <tr>\n",
       "      <th>4</th>\n",
       "      <td>Shepherd Neame Christmas Ale</td>\n",
       "      <td>3.3</td>\n",
       "      <td>Faversham, Kent</td>\n",
       "      <td>Shepherd Neame</td>\n",
       "      <td>Bottle. Aroma: English hops and malts with tof...</td>\n",
       "      <td>alex_leit</td>\n",
       "    </tr>\n",
       "    <tr>\n",
       "      <th>...</th>\n",
       "      <td>...</td>\n",
       "      <td>...</td>\n",
       "      <td>...</td>\n",
       "      <td>...</td>\n",
       "      <td>...</td>\n",
       "      <td>...</td>\n",
       "    </tr>\n",
       "    <tr>\n",
       "      <th>760</th>\n",
       "      <td>Solemn Oath Snaggletooth Bandana</td>\n",
       "      <td>2.0</td>\n",
       "      <td>-1.6</td>\n",
       "      <td>Solemn Oath Brewery</td>\n",
       "      <td>Pours a darker gold color. Decent white had at...</td>\n",
       "      <td>screigh</td>\n",
       "    </tr>\n",
       "    <tr>\n",
       "      <th>761</th>\n",
       "      <td>Cloudwater / Kees You've Been Spotted</td>\n",
       "      <td>1.8</td>\n",
       "      <td>-1.7</td>\n",
       "      <td>Cloudwater Brew Co</td>\n",
       "      <td>[emailprotected]'Connell's, Tampere, Finland. ...</td>\n",
       "      <td>Turboninja</td>\n",
       "    </tr>\n",
       "    <tr>\n",
       "      <th>762</th>\n",
       "      <td>Villages Whistle</td>\n",
       "      <td>1.5</td>\n",
       "      <td>-1.5</td>\n",
       "      <td>Villages Brewery</td>\n",
       "      <td>330ml can share sample.  Murky golden with a t...</td>\n",
       "      <td>Beese</td>\n",
       "    </tr>\n",
       "    <tr>\n",
       "      <th>763</th>\n",
       "      <td>Wander Beyond Sakura Twilight</td>\n",
       "      <td>2.0</td>\n",
       "      <td>-1.7</td>\n",
       "      <td>Wander Beyond Brewing</td>\n",
       "      <td>Zeer donkerrood bier met beperkte beige schuim...</td>\n",
       "      <td>FrothyTickers24</td>\n",
       "    </tr>\n",
       "    <tr>\n",
       "      <th>764</th>\n",
       "      <td>Smuttynose Vunderbar!</td>\n",
       "      <td>1.7</td>\n",
       "      <td>-1.7</td>\n",
       "      <td>Smuttynose Brewing Company</td>\n",
       "      <td>Pretty yuck. Although after having tons of bee...</td>\n",
       "      <td>BineChalice28</td>\n",
       "    </tr>\n",
       "  </tbody>\n",
       "</table>\n",
       "<p>39579 rows × 6 columns</p>\n",
       "</div>"
      ],
      "text/plain": [
       "                                  beer_name beer_rating  \\\n",
       "0                  St. Peter's Ruby Red Ale         3.3   \n",
       "1          Shepherd Neame Spitfire (Bottle)         2.2   \n",
       "2                           Arbor Rocketman         3.8   \n",
       "3    Shepherd Neame India Pale Ale (Bottle)         3.4   \n",
       "4              Shepherd Neame Christmas Ale         3.3   \n",
       "..                                      ...         ...   \n",
       "760        Solemn Oath Snaggletooth Bandana         2.0   \n",
       "761   Cloudwater / Kees You've Been Spotted         1.8   \n",
       "762                        Villages Whistle         1.5   \n",
       "763           Wander Beyond Sakura Twilight         2.0   \n",
       "764                   Smuttynose Vunderbar!         1.7   \n",
       "\n",
       "             brewery_location                brewery_name  \\\n",
       "0             Bungay, Suffolk         St. Peter's Brewery   \n",
       "1             Faversham, Kent              Shepherd Neame   \n",
       "2    Bristol, Gloucestershire                  Arbor Ales   \n",
       "3             Faversham, Kent              Shepherd Neame   \n",
       "4             Faversham, Kent              Shepherd Neame   \n",
       "..                        ...                         ...   \n",
       "760                      -1.6         Solemn Oath Brewery   \n",
       "761                      -1.7          Cloudwater Brew Co   \n",
       "762                      -1.5            Villages Brewery   \n",
       "763                      -1.7       Wander Beyond Brewing   \n",
       "764                      -1.7  Smuttynose Brewing Company   \n",
       "\n",
       "                                        review_content        reviewer_name  \n",
       "0    Ruby color, offwhite coam. Aroma and taste: fl...            alex_leit  \n",
       "1    Disappointing show from the lads at ‘Britain’s...  shivermetimber.gray  \n",
       "2    Puszka. Mętne o żółtym kolorze. Piana biała,ob...              MarcinG  \n",
       "3    Bottle. Amber with bronze color and white foam...            alex_leit  \n",
       "4    Bottle. Aroma: English hops and malts with tof...            alex_leit  \n",
       "..                                                 ...                  ...  \n",
       "760  Pours a darker gold color. Decent white had at...              screigh  \n",
       "761  [emailprotected]'Connell's, Tampere, Finland. ...           Turboninja  \n",
       "762  330ml can share sample.  Murky golden with a t...                Beese  \n",
       "763  Zeer donkerrood bier met beperkte beige schuim...      FrothyTickers24  \n",
       "764  Pretty yuck. Although after having tons of bee...        BineChalice28  \n",
       "\n",
       "[39579 rows x 6 columns]"
      ]
     },
     "execution_count": 7,
     "metadata": {},
     "output_type": "execute_result"
    }
   ],
   "source": [
    "df"
   ]
  },
  {
   "cell_type": "code",
   "execution_count": 8,
   "metadata": {
    "ExecuteTime": {
     "end_time": "2020-06-23T08:56:21.321768Z",
     "start_time": "2020-06-23T08:56:20.901651Z"
    }
   },
   "outputs": [],
   "source": [
    "df.to_csv('all_reviews.csv',index=False)\n",
    "# df = pd.read_csv('all_reviews.csv')\n",
    "not_found_df = pd.read_csv(\"not_found.csv\")"
   ]
  },
  {
   "cell_type": "markdown",
   "metadata": {},
   "source": [
    "## Get more information on all of the beers - Selenium"
   ]
  },
  {
   "cell_type": "code",
   "execution_count": 9,
   "metadata": {
    "ExecuteTime": {
     "end_time": "2020-06-23T08:56:21.425497Z",
     "start_time": "2020-06-23T08:56:21.326544Z"
    }
   },
   "outputs": [],
   "source": [
    "from selenium import webdriver\n",
    "import time"
   ]
  },
  {
   "cell_type": "code",
   "execution_count": 10,
   "metadata": {
    "ExecuteTime": {
     "end_time": "2020-06-23T08:56:21.498260Z",
     "start_time": "2020-06-23T08:56:21.428613Z"
    }
   },
   "outputs": [],
   "source": [
    "# extract already scraped data from previous scrapes so don't rescrape\n",
    "beer_df = pd.read_csv('beer_deets.csv')"
   ]
  },
  {
   "cell_type": "code",
   "execution_count": 11,
   "metadata": {
    "ExecuteTime": {
     "end_time": "2020-06-23T08:56:21.520393Z",
     "start_time": "2020-06-23T08:56:21.501458Z"
    }
   },
   "outputs": [
    {
     "name": "stdout",
     "output_type": "stream",
     "text": [
      "There are 837 new beers to search for!\n"
     ]
    }
   ],
   "source": [
    "# compare to the unique list to create a new to-be-scraped list\n",
    "new_beer = df.beer_name[(~df.beer_name.isin(beer_df.name_found))&(~df.beer_name.isin(not_found_df.not_found))].unique()\n",
    "print(\"There are\", len(new_beer), \"new beers to search for!\")"
   ]
  },
  {
   "cell_type": "code",
   "execution_count": 12,
   "metadata": {
    "ExecuteTime": {
     "end_time": "2020-06-23T09:36:00.317894Z",
     "start_time": "2020-06-23T08:56:21.522654Z"
    }
   },
   "outputs": [
    {
     "data": {
      "application/vnd.jupyter.widget-view+json": {
       "model_id": "40216c2a266c451d86176752002e1f9f",
       "version_major": 2,
       "version_minor": 0
      },
      "text/plain": [
       "HBox(children=(FloatProgress(value=0.0, max=837.0), HTML(value='')))"
      ]
     },
     "metadata": {},
     "output_type": "display_data"
    },
    {
     "name": "stdout",
     "output_type": "stream",
     "text": [
      "\n"
     ]
    }
   ],
   "source": [
    "item_names = []\n",
    "desc_string = []\n",
    "\n",
    "driver = webdriver.Chrome(executable_path='/Users/lukebetham/Downloads/chromedriver1')\n",
    "\n",
    "for beer in tqdm(new_beer):\n",
    "    driver.get(\"https://www.ratebeer.com/search?beername={}\".format(beer))\n",
    "    time.sleep(2)\n",
    "    item_tags = driver.find_elements_by_class_name('fg-1')\n",
    "\n",
    "    x=1\n",
    "    beer_temp = []\n",
    "    for item in item_tags:        \n",
    "        if x <2:\n",
    "            try:\n",
    "                item_names.append(item.find_element_by_class_name('fd-r').text)\n",
    "                x+=1\n",
    "            except:\n",
    "                pass\n",
    "            try:\n",
    "                beer_temp.append(item.text)\n",
    "            except:\n",
    "                pass\n",
    "    try:\n",
    "        desc_string.append(beer_temp[4])\n",
    "    except:\n",
    "        desc_string.append(None)\n",
    "\n",
    "driver.quit()"
   ]
  },
  {
   "cell_type": "code",
   "execution_count": 13,
   "metadata": {
    "ExecuteTime": {
     "end_time": "2020-06-23T09:36:00.347632Z",
     "start_time": "2020-06-23T09:36:00.322060Z"
    }
   },
   "outputs": [
    {
     "data": {
      "text/html": [
       "<div>\n",
       "<style scoped>\n",
       "    .dataframe tbody tr th:only-of-type {\n",
       "        vertical-align: middle;\n",
       "    }\n",
       "\n",
       "    .dataframe tbody tr th {\n",
       "        vertical-align: top;\n",
       "    }\n",
       "\n",
       "    .dataframe thead th {\n",
       "        text-align: right;\n",
       "    }\n",
       "</style>\n",
       "<table border=\"1\" class=\"dataframe\">\n",
       "  <thead>\n",
       "    <tr style=\"text-align: right;\">\n",
       "      <th></th>\n",
       "      <th>return_string</th>\n",
       "    </tr>\n",
       "  </thead>\n",
       "  <tbody>\n",
       "    <tr>\n",
       "      <th>0</th>\n",
       "      <td>Itchen Valley Wat Tyler\\n🇬🇧 Old Ale • 5.0%\\n20...</td>\n",
       "    </tr>\n",
       "    <tr>\n",
       "      <th>1</th>\n",
       "      <td>Cotleigh Long Eared Owl\\n🇬🇧 Bitter - Premium /...</td>\n",
       "    </tr>\n",
       "    <tr>\n",
       "      <th>2</th>\n",
       "      <td>Marston's / Purkmistr Bohemian Schwarzbier\\n🇬🇧...</td>\n",
       "    </tr>\n",
       "    <tr>\n",
       "      <th>3</th>\n",
       "      <td>Shepherd Neame / Port Brewing Grumpys Pale Ale...</td>\n",
       "    </tr>\n",
       "    <tr>\n",
       "      <th>4</th>\n",
       "      <td>Davenports Last Minute\\n🇬🇧 Blonde Ale / Golden...</td>\n",
       "    </tr>\n",
       "    <tr>\n",
       "      <th>...</th>\n",
       "      <td>...</td>\n",
       "    </tr>\n",
       "    <tr>\n",
       "      <th>832</th>\n",
       "      <td>Muskoka Detour\\n🇨🇦 ISA - Session IPA • 4.3%\\n8...</td>\n",
       "    </tr>\n",
       "    <tr>\n",
       "      <th>833</th>\n",
       "      <td>Coors Slice Orange\\n🇨🇦 Pale Lager - North Am. ...</td>\n",
       "    </tr>\n",
       "    <tr>\n",
       "      <th>834</th>\n",
       "      <td>Milwaukee Classic Lager\\n🇺🇸 Pale Lager - North...</td>\n",
       "    </tr>\n",
       "    <tr>\n",
       "      <th>835</th>\n",
       "      <td>Lickinghole Creek Three Chopt Tripel (Bourbon ...</td>\n",
       "    </tr>\n",
       "    <tr>\n",
       "      <th>836</th>\n",
       "      <td>Nickel Brook Uber (Peach)\\n🇨🇦 Berliner Weisse ...</td>\n",
       "    </tr>\n",
       "  </tbody>\n",
       "</table>\n",
       "<p>837 rows × 1 columns</p>\n",
       "</div>"
      ],
      "text/plain": [
       "                                         return_string\n",
       "0    Itchen Valley Wat Tyler\\n🇬🇧 Old Ale • 5.0%\\n20...\n",
       "1    Cotleigh Long Eared Owl\\n🇬🇧 Bitter - Premium /...\n",
       "2    Marston's / Purkmistr Bohemian Schwarzbier\\n🇬🇧...\n",
       "3    Shepherd Neame / Port Brewing Grumpys Pale Ale...\n",
       "4    Davenports Last Minute\\n🇬🇧 Blonde Ale / Golden...\n",
       "..                                                 ...\n",
       "832  Muskoka Detour\\n🇨🇦 ISA - Session IPA • 4.3%\\n8...\n",
       "833  Coors Slice Orange\\n🇨🇦 Pale Lager - North Am. ...\n",
       "834  Milwaukee Classic Lager\\n🇺🇸 Pale Lager - North...\n",
       "835  Lickinghole Creek Three Chopt Tripel (Bourbon ...\n",
       "836  Nickel Brook Uber (Peach)\\n🇨🇦 Berliner Weisse ...\n",
       "\n",
       "[837 rows x 1 columns]"
      ]
     },
     "execution_count": 13,
     "metadata": {},
     "output_type": "execute_result"
    }
   ],
   "source": [
    "beer_deets = pd.DataFrame(desc_string, columns = ['return_string'])\n",
    "beer_deets"
   ]
  },
  {
   "cell_type": "code",
   "execution_count": 14,
   "metadata": {
    "ExecuteTime": {
     "end_time": "2020-06-23T09:36:00.370189Z",
     "start_time": "2020-06-23T09:36:00.353450Z"
    }
   },
   "outputs": [],
   "source": [
    "## cleaning the scraped data\n",
    "beer_deets.dropna(inplace=True)\n",
    "beer_deets = beer_deets[~beer_deets.return_string.str.startswith('Logo\\n')].copy()\n",
    "no_alcohol = beer_deets[~beer_deets.return_string.str.contains('%')].copy()\n",
    "beer_deets = beer_deets[beer_deets.return_string.str.contains('%')].copy()\n"
   ]
  },
  {
   "cell_type": "code",
   "execution_count": 15,
   "metadata": {
    "ExecuteTime": {
     "end_time": "2020-06-23T09:36:00.396297Z",
     "start_time": "2020-06-23T09:36:00.371929Z"
    }
   },
   "outputs": [],
   "source": [
    "# sorting the scraped data into columns\n",
    "beer_deets['name_found'] = beer_deets.return_string.apply(lambda x: x.split('\\n')[0].strip())\n",
    "beer_deets['flag'] = beer_deets.return_string.apply(lambda x: x.split('\\n')[1].split('•')[0].split(\" \")[0])\n",
    "beer_deets['type'] = beer_deets.return_string.apply(lambda x: x.split('\\n')[1].split('•')[0][2:])\n",
    "beer_deets['abv'] = beer_deets.return_string.apply(lambda x: float(x.split('\\n')[1].split('•')[1].replace(\"%\",\"\")))\n",
    "beer_deets['rb_overall_score'] = beer_deets.return_string.apply(lambda x: x.split('\\n')[2])\n",
    "beer_deets['rb_style_score'] = beer_deets.return_string.apply(lambda x: x.split('\\n')[3])\n",
    "beer_deets['rb_user_rating'] = beer_deets.return_string.apply(lambda x: x.split('\\n')[4])\n",
    "beer_deets['rb_rating_number'] = beer_deets.return_string.apply(lambda x: x.split('\\n')[5].replace(\"(\",\"\").replace(\")\",\"\"))\n"
   ]
  },
  {
   "cell_type": "code",
   "execution_count": 16,
   "metadata": {
    "ExecuteTime": {
     "end_time": "2020-06-23T09:36:00.400908Z",
     "start_time": "2020-06-23T09:36:00.398430Z"
    }
   },
   "outputs": [],
   "source": [
    "# need to add in add check here for price\n"
   ]
  },
  {
   "cell_type": "code",
   "execution_count": null,
   "metadata": {},
   "outputs": [],
   "source": [
    "\n"
   ]
  },
  {
   "cell_type": "code",
   "execution_count": 17,
   "metadata": {
    "ExecuteTime": {
     "end_time": "2020-06-23T09:36:00.444024Z",
     "start_time": "2020-06-23T09:36:00.403411Z"
    },
    "scrolled": true
   },
   "outputs": [
    {
     "data": {
      "text/html": [
       "<div>\n",
       "<style scoped>\n",
       "    .dataframe tbody tr th:only-of-type {\n",
       "        vertical-align: middle;\n",
       "    }\n",
       "\n",
       "    .dataframe tbody tr th {\n",
       "        vertical-align: top;\n",
       "    }\n",
       "\n",
       "    .dataframe thead th {\n",
       "        text-align: right;\n",
       "    }\n",
       "</style>\n",
       "<table border=\"1\" class=\"dataframe\">\n",
       "  <thead>\n",
       "    <tr style=\"text-align: right;\">\n",
       "      <th></th>\n",
       "      <th>return_string</th>\n",
       "      <th>name_found</th>\n",
       "      <th>flag</th>\n",
       "      <th>type</th>\n",
       "      <th>abv</th>\n",
       "      <th>rb_overall_score</th>\n",
       "      <th>rb_style_score</th>\n",
       "      <th>rb_user_rating</th>\n",
       "      <th>rb_rating_number</th>\n",
       "    </tr>\n",
       "  </thead>\n",
       "  <tbody>\n",
       "    <tr>\n",
       "      <th>28</th>\n",
       "      <td>Avalanche The Goat's Pale Ale\\n🇺🇸 Pale Ale - A...</td>\n",
       "      <td>Avalanche The Goat's Pale Ale</td>\n",
       "      <td>🇺🇸</td>\n",
       "      <td>Pale Ale - American / APA</td>\n",
       "      <td>NaN</td>\n",
       "      <td>-</td>\n",
       "      <td>-</td>\n",
       "      <td>3.10</td>\n",
       "      <td>1</td>\n",
       "    </tr>\n",
       "    <tr>\n",
       "      <th>97</th>\n",
       "      <td>Twisted Acre Jalapeno IPA\\n🇺🇸 IPA - Flavored\\n...</td>\n",
       "      <td>Twisted Acre Jalapeno IPA</td>\n",
       "      <td>🇺🇸</td>\n",
       "      <td>IPA - Flavored</td>\n",
       "      <td>NaN</td>\n",
       "      <td>-</td>\n",
       "      <td>-</td>\n",
       "      <td>3.30</td>\n",
       "      <td>1</td>\n",
       "    </tr>\n",
       "    <tr>\n",
       "      <th>98</th>\n",
       "      <td>Twisted Acre Hazy DIPA\\n🇺🇸 IIPA DIPA - Hazy / ...</td>\n",
       "      <td>Twisted Acre Hazy DIPA</td>\n",
       "      <td>🇺🇸</td>\n",
       "      <td>IIPA DIPA - Hazy / Double NEIPA</td>\n",
       "      <td>NaN</td>\n",
       "      <td>-</td>\n",
       "      <td>-</td>\n",
       "      <td>2.20</td>\n",
       "      <td>1</td>\n",
       "    </tr>\n",
       "    <tr>\n",
       "      <th>99</th>\n",
       "      <td>Twisted Acre Oktoberfest\\n🇺🇸 Märzen / Marzen /...</td>\n",
       "      <td>Twisted Acre Oktoberfest</td>\n",
       "      <td>🇺🇸</td>\n",
       "      <td>Märzen / Marzen / Oktoberfest Bier</td>\n",
       "      <td>NaN</td>\n",
       "      <td>-</td>\n",
       "      <td>-</td>\n",
       "      <td>3.00</td>\n",
       "      <td>1</td>\n",
       "    </tr>\n",
       "    <tr>\n",
       "      <th>100</th>\n",
       "      <td>Twisted Acre Red Zone\\n🇺🇸 IPA - Red\\n-\\n-\\n3.0...</td>\n",
       "      <td>Twisted Acre Red Zone</td>\n",
       "      <td>🇺🇸</td>\n",
       "      <td>IPA - Red</td>\n",
       "      <td>NaN</td>\n",
       "      <td>-</td>\n",
       "      <td>-</td>\n",
       "      <td>3.00</td>\n",
       "      <td>1</td>\n",
       "    </tr>\n",
       "    <tr>\n",
       "      <th>103</th>\n",
       "      <td>4J IPA\\n🇺🇸 IPA\\n-\\n-\\n2.80\\n(1)</td>\n",
       "      <td>4J IPA</td>\n",
       "      <td>🇺🇸</td>\n",
       "      <td>IPA</td>\n",
       "      <td>NaN</td>\n",
       "      <td>-</td>\n",
       "      <td>-</td>\n",
       "      <td>2.80</td>\n",
       "      <td>1</td>\n",
       "    </tr>\n",
       "    <tr>\n",
       "      <th>184</th>\n",
       "      <td>Casey Fruit Stand Farmhouse Ale - Attika Cherr...</td>\n",
       "      <td>Casey Fruit Stand Farmhouse Ale - Attika Cherry</td>\n",
       "      <td>🇺🇸</td>\n",
       "      <td>Saison / Farmhouse - Flavored</td>\n",
       "      <td>0.0</td>\n",
       "      <td>93</td>\n",
       "      <td>90</td>\n",
       "      <td>3.90</td>\n",
       "      <td>13</td>\n",
       "    </tr>\n",
       "    <tr>\n",
       "      <th>263</th>\n",
       "      <td>Pabst Lonestar Rio Jade\\n🇺🇸 Amber Lager - Intl...</td>\n",
       "      <td>Pabst Lonestar Rio Jade</td>\n",
       "      <td>🇺🇸</td>\n",
       "      <td>Amber Lager - Intl / Vienna</td>\n",
       "      <td>NaN</td>\n",
       "      <td>-</td>\n",
       "      <td>-</td>\n",
       "      <td>2.90</td>\n",
       "      <td>2</td>\n",
       "    </tr>\n",
       "    <tr>\n",
       "      <th>333</th>\n",
       "      <td>Third Space Why Wouldn't Cha?\\n🇺🇸 IPA - Hazy /...</td>\n",
       "      <td>Third Space Why Wouldn't Cha?</td>\n",
       "      <td>🇺🇸</td>\n",
       "      <td>IPA - Hazy / NEIPA</td>\n",
       "      <td>NaN</td>\n",
       "      <td>-</td>\n",
       "      <td>-</td>\n",
       "      <td>4.17</td>\n",
       "      <td>3</td>\n",
       "    </tr>\n",
       "    <tr>\n",
       "      <th>364</th>\n",
       "      <td>River Bend Round the Bend Pale Ale\\n🇺🇸 Pale Al...</td>\n",
       "      <td>River Bend Round the Bend Pale Ale</td>\n",
       "      <td>🇺🇸</td>\n",
       "      <td>Pale Ale - American / APA</td>\n",
       "      <td>0.0</td>\n",
       "      <td>-</td>\n",
       "      <td>-</td>\n",
       "      <td>3.37</td>\n",
       "      <td>3</td>\n",
       "    </tr>\n",
       "    <tr>\n",
       "      <th>407</th>\n",
       "      <td>Crooked Stave Juicy Hazy IPA\\n🇺🇸 IPA - Hazy / ...</td>\n",
       "      <td>Crooked Stave Juicy Hazy IPA</td>\n",
       "      <td>🇺🇸</td>\n",
       "      <td>IPA - Hazy / NEIPA</td>\n",
       "      <td>NaN</td>\n",
       "      <td>-</td>\n",
       "      <td>-</td>\n",
       "      <td>3.60</td>\n",
       "      <td>2</td>\n",
       "    </tr>\n",
       "    <tr>\n",
       "      <th>425</th>\n",
       "      <td>Teton Thai Dark Matters\\n🇺🇸 Stout - Milk / Swe...</td>\n",
       "      <td>Teton Thai Dark Matters</td>\n",
       "      <td>🇺🇸</td>\n",
       "      <td>Stout - Milk / Sweet</td>\n",
       "      <td>NaN</td>\n",
       "      <td>-</td>\n",
       "      <td>-</td>\n",
       "      <td>3.50</td>\n",
       "      <td>2</td>\n",
       "    </tr>\n",
       "    <tr>\n",
       "      <th>431</th>\n",
       "      <td>Bellwoods Jelly King (Raspberry)\\n🇨🇦 Sour / Wi...</td>\n",
       "      <td>Bellwoods Jelly King (Raspberry)</td>\n",
       "      <td>🇨🇦</td>\n",
       "      <td>Sour / Wild Beer - Flavored</td>\n",
       "      <td>0.0</td>\n",
       "      <td>99</td>\n",
       "      <td>97</td>\n",
       "      <td>4.04</td>\n",
       "      <td>24</td>\n",
       "    </tr>\n",
       "    <tr>\n",
       "      <th>474</th>\n",
       "      <td>Virgil's Ale\\n🇺🇸 Blonde Ale / Golden Ale0\\n-\\n...</td>\n",
       "      <td>Virgil's Ale</td>\n",
       "      <td>🇺🇸</td>\n",
       "      <td>Blonde Ale / Golden Ale</td>\n",
       "      <td>0.0</td>\n",
       "      <td>-</td>\n",
       "      <td>-</td>\n",
       "      <td>2.05</td>\n",
       "      <td>2</td>\n",
       "    </tr>\n",
       "    <tr>\n",
       "      <th>484</th>\n",
       "      <td>Maltstrom NEIPL 7\\n🇨🇦 Pale Lager - India / Hop...</td>\n",
       "      <td>Maltstrom NEIPL 7</td>\n",
       "      <td>🇨🇦</td>\n",
       "      <td>Pale Lager - India / Hoppy</td>\n",
       "      <td>NaN</td>\n",
       "      <td>-</td>\n",
       "      <td>-</td>\n",
       "      <td>3.90</td>\n",
       "      <td>3</td>\n",
       "    </tr>\n",
       "    <tr>\n",
       "      <th>485</th>\n",
       "      <td>Teton Thai Money Penny English Pale\\n🇺🇸 Pale A...</td>\n",
       "      <td>Teton Thai Money Penny English Pale</td>\n",
       "      <td>🇺🇸</td>\n",
       "      <td>Pale Ale - English</td>\n",
       "      <td>NaN</td>\n",
       "      <td>-</td>\n",
       "      <td>-</td>\n",
       "      <td>3.25</td>\n",
       "      <td>2</td>\n",
       "    </tr>\n",
       "    <tr>\n",
       "      <th>491</th>\n",
       "      <td>Teton Thai Session IPA\\n🇺🇸 ISA - Session IPA\\n...</td>\n",
       "      <td>Teton Thai Session IPA</td>\n",
       "      <td>🇺🇸</td>\n",
       "      <td>ISA - Session IPA</td>\n",
       "      <td>NaN</td>\n",
       "      <td>-</td>\n",
       "      <td>-</td>\n",
       "      <td>3.25</td>\n",
       "      <td>2</td>\n",
       "    </tr>\n",
       "    <tr>\n",
       "      <th>536</th>\n",
       "      <td>Burnt Tree Rye Not?\\n🇺🇸 IPA - Rye\\n-\\n-\\n3.35\\...</td>\n",
       "      <td>Burnt Tree Rye Not?</td>\n",
       "      <td>🇺🇸</td>\n",
       "      <td>IPA - Rye</td>\n",
       "      <td>NaN</td>\n",
       "      <td>-</td>\n",
       "      <td>-</td>\n",
       "      <td>3.35</td>\n",
       "      <td>2</td>\n",
       "    </tr>\n",
       "    <tr>\n",
       "      <th>554</th>\n",
       "      <td>Sir John All Work and no Play Makes Serge a Du...</td>\n",
       "      <td>Sir John All Work and no Play Makes Serge a Du...</td>\n",
       "      <td>🇨🇦</td>\n",
       "      <td>IIPA DIPA - Imperial / Double IPA</td>\n",
       "      <td>NaN</td>\n",
       "      <td>-</td>\n",
       "      <td>-</td>\n",
       "      <td>4.15</td>\n",
       "      <td>2</td>\n",
       "    </tr>\n",
       "    <tr>\n",
       "      <th>605</th>\n",
       "      <td>Brasserie Générale BCBG\\n🇨🇦 Pilsener - Czech /...</td>\n",
       "      <td>Brasserie Générale BCBG</td>\n",
       "      <td>🇨🇦</td>\n",
       "      <td>Pilsener - Czech / Svetlý</td>\n",
       "      <td>NaN</td>\n",
       "      <td>-</td>\n",
       "      <td>-</td>\n",
       "      <td>3.53</td>\n",
       "      <td>3</td>\n",
       "    </tr>\n",
       "    <tr>\n",
       "      <th>648</th>\n",
       "      <td>Amchi Premium Hefe\\n🇩🇪 Weissbier - Hefeweizen0...</td>\n",
       "      <td>Amchi Premium Hefe</td>\n",
       "      <td>🇩🇪</td>\n",
       "      <td>Weissbier - Hefeweizen</td>\n",
       "      <td>0.0</td>\n",
       "      <td>-</td>\n",
       "      <td>-</td>\n",
       "      <td>2.87</td>\n",
       "      <td>6</td>\n",
       "    </tr>\n",
       "    <tr>\n",
       "      <th>805</th>\n",
       "      <td>Corsaire Sky Drop\\n🇨🇦 Sour / Wild Beer0\\n-\\n-\\...</td>\n",
       "      <td>Corsaire Sky Drop</td>\n",
       "      <td>🇨🇦</td>\n",
       "      <td>Sour / Wild Beer</td>\n",
       "      <td>0.0</td>\n",
       "      <td>-</td>\n",
       "      <td>-</td>\n",
       "      <td>4.32</td>\n",
       "      <td>5</td>\n",
       "    </tr>\n",
       "    <tr>\n",
       "      <th>834</th>\n",
       "      <td>Milwaukee Classic Lager\\n🇺🇸 Pale Lager - North...</td>\n",
       "      <td>Milwaukee Classic Lager</td>\n",
       "      <td>🇺🇸</td>\n",
       "      <td>Pale Lager - North Am. / Light / Rice</td>\n",
       "      <td>0.0</td>\n",
       "      <td>1</td>\n",
       "      <td>11</td>\n",
       "      <td>1.67</td>\n",
       "      <td>25</td>\n",
       "    </tr>\n",
       "  </tbody>\n",
       "</table>\n",
       "</div>"
      ],
      "text/plain": [
       "                                         return_string  \\\n",
       "28   Avalanche The Goat's Pale Ale\\n🇺🇸 Pale Ale - A...   \n",
       "97   Twisted Acre Jalapeno IPA\\n🇺🇸 IPA - Flavored\\n...   \n",
       "98   Twisted Acre Hazy DIPA\\n🇺🇸 IIPA DIPA - Hazy / ...   \n",
       "99   Twisted Acre Oktoberfest\\n🇺🇸 Märzen / Marzen /...   \n",
       "100  Twisted Acre Red Zone\\n🇺🇸 IPA - Red\\n-\\n-\\n3.0...   \n",
       "103                    4J IPA\\n🇺🇸 IPA\\n-\\n-\\n2.80\\n(1)   \n",
       "184  Casey Fruit Stand Farmhouse Ale - Attika Cherr...   \n",
       "263  Pabst Lonestar Rio Jade\\n🇺🇸 Amber Lager - Intl...   \n",
       "333  Third Space Why Wouldn't Cha?\\n🇺🇸 IPA - Hazy /...   \n",
       "364  River Bend Round the Bend Pale Ale\\n🇺🇸 Pale Al...   \n",
       "407  Crooked Stave Juicy Hazy IPA\\n🇺🇸 IPA - Hazy / ...   \n",
       "425  Teton Thai Dark Matters\\n🇺🇸 Stout - Milk / Swe...   \n",
       "431  Bellwoods Jelly King (Raspberry)\\n🇨🇦 Sour / Wi...   \n",
       "474  Virgil's Ale\\n🇺🇸 Blonde Ale / Golden Ale0\\n-\\n...   \n",
       "484  Maltstrom NEIPL 7\\n🇨🇦 Pale Lager - India / Hop...   \n",
       "485  Teton Thai Money Penny English Pale\\n🇺🇸 Pale A...   \n",
       "491  Teton Thai Session IPA\\n🇺🇸 ISA - Session IPA\\n...   \n",
       "536  Burnt Tree Rye Not?\\n🇺🇸 IPA - Rye\\n-\\n-\\n3.35\\...   \n",
       "554  Sir John All Work and no Play Makes Serge a Du...   \n",
       "605  Brasserie Générale BCBG\\n🇨🇦 Pilsener - Czech /...   \n",
       "648  Amchi Premium Hefe\\n🇩🇪 Weissbier - Hefeweizen0...   \n",
       "805  Corsaire Sky Drop\\n🇨🇦 Sour / Wild Beer0\\n-\\n-\\...   \n",
       "834  Milwaukee Classic Lager\\n🇺🇸 Pale Lager - North...   \n",
       "\n",
       "                                            name_found flag  \\\n",
       "28                       Avalanche The Goat's Pale Ale   🇺🇸   \n",
       "97                           Twisted Acre Jalapeno IPA   🇺🇸   \n",
       "98                              Twisted Acre Hazy DIPA   🇺🇸   \n",
       "99                            Twisted Acre Oktoberfest   🇺🇸   \n",
       "100                              Twisted Acre Red Zone   🇺🇸   \n",
       "103                                             4J IPA   🇺🇸   \n",
       "184    Casey Fruit Stand Farmhouse Ale - Attika Cherry   🇺🇸   \n",
       "263                            Pabst Lonestar Rio Jade   🇺🇸   \n",
       "333                      Third Space Why Wouldn't Cha?   🇺🇸   \n",
       "364                 River Bend Round the Bend Pale Ale   🇺🇸   \n",
       "407                       Crooked Stave Juicy Hazy IPA   🇺🇸   \n",
       "425                            Teton Thai Dark Matters   🇺🇸   \n",
       "431                   Bellwoods Jelly King (Raspberry)   🇨🇦   \n",
       "474                                       Virgil's Ale   🇺🇸   \n",
       "484                                  Maltstrom NEIPL 7   🇨🇦   \n",
       "485                Teton Thai Money Penny English Pale   🇺🇸   \n",
       "491                             Teton Thai Session IPA   🇺🇸   \n",
       "536                                Burnt Tree Rye Not?   🇺🇸   \n",
       "554  Sir John All Work and no Play Makes Serge a Du...   🇨🇦   \n",
       "605                            Brasserie Générale BCBG   🇨🇦   \n",
       "648                                 Amchi Premium Hefe   🇩🇪   \n",
       "805                                  Corsaire Sky Drop   🇨🇦   \n",
       "834                            Milwaukee Classic Lager   🇺🇸   \n",
       "\n",
       "                                       type  abv rb_overall_score  \\\n",
       "28                Pale Ale - American / APA  NaN                -   \n",
       "97                           IPA - Flavored  NaN                -   \n",
       "98          IIPA DIPA - Hazy / Double NEIPA  NaN                -   \n",
       "99       Märzen / Marzen / Oktoberfest Bier  NaN                -   \n",
       "100                               IPA - Red  NaN                -   \n",
       "103                                     IPA  NaN                -   \n",
       "184           Saison / Farmhouse - Flavored  0.0               93   \n",
       "263             Amber Lager - Intl / Vienna  NaN                -   \n",
       "333                      IPA - Hazy / NEIPA  NaN                -   \n",
       "364               Pale Ale - American / APA  0.0                -   \n",
       "407                      IPA - Hazy / NEIPA  NaN                -   \n",
       "425                    Stout - Milk / Sweet  NaN                -   \n",
       "431             Sour / Wild Beer - Flavored  0.0               99   \n",
       "474                 Blonde Ale / Golden Ale  0.0                -   \n",
       "484              Pale Lager - India / Hoppy  NaN                -   \n",
       "485                      Pale Ale - English  NaN                -   \n",
       "491                       ISA - Session IPA  NaN                -   \n",
       "536                               IPA - Rye  NaN                -   \n",
       "554       IIPA DIPA - Imperial / Double IPA  NaN                -   \n",
       "605               Pilsener - Czech / Svetlý  NaN                -   \n",
       "648                  Weissbier - Hefeweizen  0.0                -   \n",
       "805                        Sour / Wild Beer  0.0                -   \n",
       "834   Pale Lager - North Am. / Light / Rice  0.0                1   \n",
       "\n",
       "    rb_style_score rb_user_rating rb_rating_number  \n",
       "28               -           3.10                1  \n",
       "97               -           3.30                1  \n",
       "98               -           2.20                1  \n",
       "99               -           3.00                1  \n",
       "100              -           3.00                1  \n",
       "103              -           2.80                1  \n",
       "184             90           3.90               13  \n",
       "263              -           2.90                2  \n",
       "333              -           4.17                3  \n",
       "364              -           3.37                3  \n",
       "407              -           3.60                2  \n",
       "425              -           3.50                2  \n",
       "431             97           4.04               24  \n",
       "474              -           2.05                2  \n",
       "484              -           3.90                3  \n",
       "485              -           3.25                2  \n",
       "491              -           3.25                2  \n",
       "536              -           3.35                2  \n",
       "554              -           4.15                2  \n",
       "605              -           3.53                3  \n",
       "648              -           2.87                6  \n",
       "805              -           4.32                5  \n",
       "834             11           1.67               25  "
      ]
     },
     "execution_count": 17,
     "metadata": {},
     "output_type": "execute_result"
    }
   ],
   "source": [
    "# sorting the no alcohol measure\n",
    "no_alcohol['name_found'] = no_alcohol.return_string.apply(lambda x: x.split('\\n')[0].strip())\n",
    "no_alcohol['flag'] = no_alcohol.return_string.apply(lambda x: x.split('\\n')[1].split('•')[0].split(\" \")[0])\n",
    "no_alcohol['type'] = no_alcohol.return_string.apply(lambda x: x.split('\\n')[1].split('•')[0][2:])\n",
    "no_alcohol['abv'] = no_alcohol.type.apply(lambda x: 0 if x[-1] == '0' else None)\n",
    "no_alcohol['type'] = no_alcohol.type.apply(lambda x: x[:-1] if x[-1] == '0' else x)\n",
    "no_alcohol['check'] = no_alcohol.return_string.apply(lambda x: len(x.split('\\n')))\n",
    "no_alcohol = no_alcohol[no_alcohol['check']>4].copy()\n",
    "no_alcohol['rb_overall_score'] = no_alcohol.return_string.apply(lambda x: x.split('\\n')[2])\n",
    "no_alcohol['rb_style_score'] = no_alcohol.return_string.apply(lambda x: x.split('\\n')[3])\n",
    "no_alcohol['rb_user_rating'] = no_alcohol.return_string.apply(lambda x: x.split('\\n')[4])\n",
    "no_alcohol['rb_rating_number'] = no_alcohol.return_string.apply(lambda x: x.split('\\n')[5].replace(\"(\",\"\").replace(\")\",\"\"))\n",
    "no_alcohol.drop('check',inplace=True, axis=1)\n",
    "\n",
    "no_alcohol"
   ]
  },
  {
   "cell_type": "code",
   "execution_count": 18,
   "metadata": {
    "ExecuteTime": {
     "end_time": "2020-06-23T09:36:00.481164Z",
     "start_time": "2020-06-23T09:36:00.446451Z"
    }
   },
   "outputs": [],
   "source": [
    "beer_df = pd.concat([beer_df,beer_deets,no_alcohol])"
   ]
  },
  {
   "cell_type": "code",
   "execution_count": 19,
   "metadata": {
    "ExecuteTime": {
     "end_time": "2020-06-23T09:36:00.501806Z",
     "start_time": "2020-06-23T09:36:00.483542Z"
    }
   },
   "outputs": [
    {
     "data": {
      "text/html": [
       "<div>\n",
       "<style scoped>\n",
       "    .dataframe tbody tr th:only-of-type {\n",
       "        vertical-align: middle;\n",
       "    }\n",
       "\n",
       "    .dataframe tbody tr th {\n",
       "        vertical-align: top;\n",
       "    }\n",
       "\n",
       "    .dataframe thead th {\n",
       "        text-align: right;\n",
       "    }\n",
       "</style>\n",
       "<table border=\"1\" class=\"dataframe\">\n",
       "  <thead>\n",
       "    <tr style=\"text-align: right;\">\n",
       "      <th></th>\n",
       "      <th>return_string</th>\n",
       "      <th>flag</th>\n",
       "      <th>type</th>\n",
       "      <th>abv</th>\n",
       "      <th>rb_overall_score</th>\n",
       "      <th>rb_style_score</th>\n",
       "      <th>rb_user_rating</th>\n",
       "      <th>rb_rating_number</th>\n",
       "      <th>name_found</th>\n",
       "    </tr>\n",
       "  </thead>\n",
       "  <tbody>\n",
       "    <tr>\n",
       "      <th>0</th>\n",
       "      <td>St. Peter's Ruby Red Ale\\n🇬🇧 Bitter - Ordinary...</td>\n",
       "      <td>🇬🇧</td>\n",
       "      <td>Bitter - Ordinary / Best</td>\n",
       "      <td>4.3</td>\n",
       "      <td>49</td>\n",
       "      <td>95</td>\n",
       "      <td>3.25</td>\n",
       "      <td>415</td>\n",
       "      <td>St. Peter's Ruby Red Ale</td>\n",
       "    </tr>\n",
       "    <tr>\n",
       "      <th>1</th>\n",
       "      <td>Shepherd Neame Spitfire (Bottle)\\n🇬🇧 Bitter - ...</td>\n",
       "      <td>🇬🇧</td>\n",
       "      <td>Bitter - Ordinary / Best</td>\n",
       "      <td>4.5</td>\n",
       "      <td>34</td>\n",
       "      <td>59</td>\n",
       "      <td>3.05</td>\n",
       "      <td>1083</td>\n",
       "      <td>Shepherd Neame Spitfire (Bottle)</td>\n",
       "    </tr>\n",
       "    <tr>\n",
       "      <th>2</th>\n",
       "      <td>Arbor Rocketman\\n🇬🇧 IPA • 6.0%\\n95\\n97\\n3.74\\n...</td>\n",
       "      <td>🇬🇧</td>\n",
       "      <td>IPA</td>\n",
       "      <td>6.0</td>\n",
       "      <td>95</td>\n",
       "      <td>97</td>\n",
       "      <td>3.74</td>\n",
       "      <td>59</td>\n",
       "      <td>Arbor Rocketman</td>\n",
       "    </tr>\n",
       "    <tr>\n",
       "      <th>3</th>\n",
       "      <td>Shepherd Neame India Pale Ale (Bottle)\\n🇬🇧 IPA...</td>\n",
       "      <td>🇬🇧</td>\n",
       "      <td>IPA - English</td>\n",
       "      <td>6.1</td>\n",
       "      <td>46</td>\n",
       "      <td>47</td>\n",
       "      <td>3.22</td>\n",
       "      <td>420</td>\n",
       "      <td>Shepherd Neame India Pale Ale (Bottle)</td>\n",
       "    </tr>\n",
       "    <tr>\n",
       "      <th>4</th>\n",
       "      <td>Shepherd Neame Christmas Ale\\n🇬🇧 Strong Ale - ...</td>\n",
       "      <td>🇬🇧</td>\n",
       "      <td>Strong Ale - English</td>\n",
       "      <td>7.0</td>\n",
       "      <td>45</td>\n",
       "      <td>46</td>\n",
       "      <td>3.18</td>\n",
       "      <td>409</td>\n",
       "      <td>Shepherd Neame Christmas Ale</td>\n",
       "    </tr>\n",
       "    <tr>\n",
       "      <th>...</th>\n",
       "      <td>...</td>\n",
       "      <td>...</td>\n",
       "      <td>...</td>\n",
       "      <td>...</td>\n",
       "      <td>...</td>\n",
       "      <td>...</td>\n",
       "      <td>...</td>\n",
       "      <td>...</td>\n",
       "      <td>...</td>\n",
       "    </tr>\n",
       "    <tr>\n",
       "      <th>554</th>\n",
       "      <td>Sir John All Work and no Play Makes Serge a Du...</td>\n",
       "      <td>🇨🇦</td>\n",
       "      <td>IIPA DIPA - Imperial / Double IPA</td>\n",
       "      <td>NaN</td>\n",
       "      <td>-</td>\n",
       "      <td>-</td>\n",
       "      <td>4.15</td>\n",
       "      <td>2</td>\n",
       "      <td>Sir John All Work and no Play Makes Serge a Du...</td>\n",
       "    </tr>\n",
       "    <tr>\n",
       "      <th>605</th>\n",
       "      <td>Brasserie Générale BCBG\\n🇨🇦 Pilsener - Czech /...</td>\n",
       "      <td>🇨🇦</td>\n",
       "      <td>Pilsener - Czech / Svetlý</td>\n",
       "      <td>NaN</td>\n",
       "      <td>-</td>\n",
       "      <td>-</td>\n",
       "      <td>3.53</td>\n",
       "      <td>3</td>\n",
       "      <td>Brasserie Générale BCBG</td>\n",
       "    </tr>\n",
       "    <tr>\n",
       "      <th>648</th>\n",
       "      <td>Amchi Premium Hefe\\n🇩🇪 Weissbier - Hefeweizen0...</td>\n",
       "      <td>🇩🇪</td>\n",
       "      <td>Weissbier - Hefeweizen</td>\n",
       "      <td>0.0</td>\n",
       "      <td>-</td>\n",
       "      <td>-</td>\n",
       "      <td>2.87</td>\n",
       "      <td>6</td>\n",
       "      <td>Amchi Premium Hefe</td>\n",
       "    </tr>\n",
       "    <tr>\n",
       "      <th>805</th>\n",
       "      <td>Corsaire Sky Drop\\n🇨🇦 Sour / Wild Beer0\\n-\\n-\\...</td>\n",
       "      <td>🇨🇦</td>\n",
       "      <td>Sour / Wild Beer</td>\n",
       "      <td>0.0</td>\n",
       "      <td>-</td>\n",
       "      <td>-</td>\n",
       "      <td>4.32</td>\n",
       "      <td>5</td>\n",
       "      <td>Corsaire Sky Drop</td>\n",
       "    </tr>\n",
       "    <tr>\n",
       "      <th>834</th>\n",
       "      <td>Milwaukee Classic Lager\\n🇺🇸 Pale Lager - North...</td>\n",
       "      <td>🇺🇸</td>\n",
       "      <td>Pale Lager - North Am. / Light / Rice</td>\n",
       "      <td>0.0</td>\n",
       "      <td>1</td>\n",
       "      <td>11</td>\n",
       "      <td>1.67</td>\n",
       "      <td>25</td>\n",
       "      <td>Milwaukee Classic Lager</td>\n",
       "    </tr>\n",
       "  </tbody>\n",
       "</table>\n",
       "<p>21243 rows × 9 columns</p>\n",
       "</div>"
      ],
      "text/plain": [
       "                                         return_string flag  \\\n",
       "0    St. Peter's Ruby Red Ale\\n🇬🇧 Bitter - Ordinary...   🇬🇧   \n",
       "1    Shepherd Neame Spitfire (Bottle)\\n🇬🇧 Bitter - ...   🇬🇧   \n",
       "2    Arbor Rocketman\\n🇬🇧 IPA • 6.0%\\n95\\n97\\n3.74\\n...   🇬🇧   \n",
       "3    Shepherd Neame India Pale Ale (Bottle)\\n🇬🇧 IPA...   🇬🇧   \n",
       "4    Shepherd Neame Christmas Ale\\n🇬🇧 Strong Ale - ...   🇬🇧   \n",
       "..                                                 ...  ...   \n",
       "554  Sir John All Work and no Play Makes Serge a Du...   🇨🇦   \n",
       "605  Brasserie Générale BCBG\\n🇨🇦 Pilsener - Czech /...   🇨🇦   \n",
       "648  Amchi Premium Hefe\\n🇩🇪 Weissbier - Hefeweizen0...   🇩🇪   \n",
       "805  Corsaire Sky Drop\\n🇨🇦 Sour / Wild Beer0\\n-\\n-\\...   🇨🇦   \n",
       "834  Milwaukee Classic Lager\\n🇺🇸 Pale Lager - North...   🇺🇸   \n",
       "\n",
       "                                       type  abv rb_overall_score  \\\n",
       "0                 Bitter - Ordinary / Best   4.3               49   \n",
       "1                 Bitter - Ordinary / Best   4.5               34   \n",
       "2                                      IPA   6.0               95   \n",
       "3                            IPA - English   6.1               46   \n",
       "4                     Strong Ale - English   7.0               45   \n",
       "..                                      ...  ...              ...   \n",
       "554       IIPA DIPA - Imperial / Double IPA  NaN                -   \n",
       "605               Pilsener - Czech / Svetlý  NaN                -   \n",
       "648                  Weissbier - Hefeweizen  0.0                -   \n",
       "805                        Sour / Wild Beer  0.0                -   \n",
       "834   Pale Lager - North Am. / Light / Rice  0.0                1   \n",
       "\n",
       "    rb_style_score rb_user_rating rb_rating_number  \\\n",
       "0               95           3.25              415   \n",
       "1               59           3.05             1083   \n",
       "2               97           3.74               59   \n",
       "3               47           3.22              420   \n",
       "4               46           3.18              409   \n",
       "..             ...            ...              ...   \n",
       "554              -           4.15                2   \n",
       "605              -           3.53                3   \n",
       "648              -           2.87                6   \n",
       "805              -           4.32                5   \n",
       "834             11           1.67               25   \n",
       "\n",
       "                                            name_found  \n",
       "0                             St. Peter's Ruby Red Ale  \n",
       "1                     Shepherd Neame Spitfire (Bottle)  \n",
       "2                                      Arbor Rocketman  \n",
       "3               Shepherd Neame India Pale Ale (Bottle)  \n",
       "4                         Shepherd Neame Christmas Ale  \n",
       "..                                                 ...  \n",
       "554  Sir John All Work and no Play Makes Serge a Du...  \n",
       "605                            Brasserie Générale BCBG  \n",
       "648                                 Amchi Premium Hefe  \n",
       "805                                  Corsaire Sky Drop  \n",
       "834                            Milwaukee Classic Lager  \n",
       "\n",
       "[21243 rows x 9 columns]"
      ]
     },
     "execution_count": 19,
     "metadata": {},
     "output_type": "execute_result"
    }
   ],
   "source": [
    "beer_df"
   ]
  },
  {
   "cell_type": "code",
   "execution_count": 20,
   "metadata": {
    "ExecuteTime": {
     "end_time": "2020-06-23T09:36:00.530478Z",
     "start_time": "2020-06-23T09:36:00.503964Z"
    }
   },
   "outputs": [
    {
     "name": "stdout",
     "output_type": "stream",
     "text": [
      "There are 30 new beers that were not found or returned errors. They will be added to the no search list.\n"
     ]
    }
   ],
   "source": [
    "# compare to the unique list to create a new to-be-scraped list\n",
    "not_found_beer = df.beer_name[~df.beer_name.isin(beer_df.name_found)].unique()\n",
    "print(\"There are\", len(not_found_beer)-len(not_found_df), \"new beers that were not found or returned errors. They will be added to the no search list.\")\n",
    "not_found_df = pd.concat([not_found_df,pd.DataFrame(not_found_beer,columns = [\"not_found\"])])\n",
    "not_found_df.drop_duplicates(inplace=True)"
   ]
  },
  {
   "cell_type": "code",
   "execution_count": 21,
   "metadata": {
    "ExecuteTime": {
     "end_time": "2020-06-23T09:36:00.692564Z",
     "start_time": "2020-06-23T09:36:00.534150Z"
    }
   },
   "outputs": [],
   "source": [
    "beer_df.to_csv('beer_deets.csv',index=False)\n",
    "not_found_df.to_csv(\"not_found.csv\", index=False)"
   ]
  },
  {
   "cell_type": "code",
   "execution_count": null,
   "metadata": {},
   "outputs": [],
   "source": []
  },
  {
   "cell_type": "code",
   "execution_count": null,
   "metadata": {},
   "outputs": [],
   "source": []
  },
  {
   "cell_type": "code",
   "execution_count": null,
   "metadata": {},
   "outputs": [],
   "source": []
  }
 ],
 "metadata": {
  "kernelspec": {
   "display_name": "Python 3",
   "language": "python",
   "name": "python3"
  },
  "language_info": {
   "codemirror_mode": {
    "name": "ipython",
    "version": 3
   },
   "file_extension": ".py",
   "mimetype": "text/x-python",
   "name": "python",
   "nbconvert_exporter": "python",
   "pygments_lexer": "ipython3",
   "version": "3.7.1"
  },
  "toc": {
   "base_numbering": 1,
   "nav_menu": {},
   "number_sections": true,
   "sideBar": true,
   "skip_h1_title": false,
   "title_cell": "Table of Contents",
   "title_sidebar": "Contents",
   "toc_cell": false,
   "toc_position": {},
   "toc_section_display": true,
   "toc_window_display": false
  },
  "varInspector": {
   "cols": {
    "lenName": 16,
    "lenType": 16,
    "lenVar": 40
   },
   "kernels_config": {
    "python": {
     "delete_cmd_postfix": "",
     "delete_cmd_prefix": "del ",
     "library": "var_list.py",
     "varRefreshCmd": "print(var_dic_list())"
    },
    "r": {
     "delete_cmd_postfix": ") ",
     "delete_cmd_prefix": "rm(",
     "library": "var_list.r",
     "varRefreshCmd": "cat(var_dic_list()) "
    }
   },
   "types_to_exclude": [
    "module",
    "function",
    "builtin_function_or_method",
    "instance",
    "_Feature"
   ],
   "window_display": false
  }
 },
 "nbformat": 4,
 "nbformat_minor": 4
}
