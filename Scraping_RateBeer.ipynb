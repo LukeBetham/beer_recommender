{
 "cells": [
  {
   "cell_type": "code",
   "execution_count": 1,
   "metadata": {},
   "outputs": [],
   "source": [
    "import requests\n",
    "import bs4\n",
    "from bs4 import BeautifulSoup\n",
    "import pandas as pd\n",
    "import re\n",
    "from tqdm import tqdm_notebook\n",
    "import matplotlib.pyplot as plt\n",
    "import seaborn as sns"
   ]
  },
  {
   "cell_type": "markdown",
   "metadata": {},
   "source": [
    "## Code which scrapes the recently reviews (only 100 pages - 1,400 reviews)"
   ]
  },
  {
   "cell_type": "code",
   "execution_count": 14,
   "metadata": {},
   "outputs": [],
   "source": [
    "\n",
    "def ratebeer_scraper(page_start=1, page_end=2, url_set=None):\n",
    "    \n",
    "    beer_name = []\n",
    "    beer_rating = []\n",
    "    brewery_name = []\n",
    "    brewery_location = []\n",
    "    review_content = []\n",
    "    reviewer_name = []\n",
    " \n",
    "    if url_set == None:\n",
    "        print(\"Need url to run\")\n",
    "        return\n",
    "\n",
    "    for x in tqdm_notebook(range(page_start, page_end + 1)):\n",
    "        try:\n",
    "            url_format = url_set.format(x)\n",
    "            r = requests.get(url_format)\n",
    "            soup = BeautifulSoup(r.text, 'html.parser')\n",
    "            table = soup.find('table', attrs={'class': 'table'})\n",
    "            table_rows = table.find_all('tr')\n",
    "\n",
    "            for rows in table_rows:\n",
    "\n",
    "            # Scrape Beer Name    \n",
    "                try:\n",
    "                    beer_name.append(rows.find('a', attrs={'style':'font-size:20px; font-weight:bold;'}).text)\n",
    "                except:\n",
    "                    beer_name.append(None)\n",
    "            # Scrape Review Rating  \n",
    "                try:\n",
    "                    beer_rating.append(rows.find('span', attrs={'class':'uas'}).text)\n",
    "                except:\n",
    "                    beer_rating.append(None)\n",
    "            # Scrape Brewery Name  \n",
    "                try:\n",
    "                    brewery_div = rows.find('div')\n",
    "                    brewery_name.append(brewery_div.a.text)\n",
    "                except:\n",
    "                    brewery_name.append(None)\n",
    "            # Scrape Brewery Location\n",
    "                try:\n",
    "                    brewery_location.append(rows.find('span', attrs={'class':'small'}).text.strip())\n",
    "                except:\n",
    "                    brewery_location.append(None)\n",
    "            # Scrape Reviewer Name\n",
    "                try:\n",
    "                    reviewer_name.append(rows.find('span', attrs={'class':'pull-right'}).text.strip())\n",
    "                except:\n",
    "                    reviewer_name.append(None)\n",
    "            # Scrape content\n",
    "                try:\n",
    "                    review_content.append(rows.find('div', attrs={'style':\"color:#666;\"}).text.strip())\n",
    "                except:\n",
    "                    review_content.append(None)\n",
    "        except:\n",
    "            pass\n",
    "\n",
    "    beerz = pd.DataFrame({'beer_name': beer_name,\n",
    "                         'beer_rating': beer_rating,\n",
    "                        'brewery_name': brewery_name,\n",
    "                         'brewery_location': brewery_location,\n",
    "                        'review_content': review_content,\n",
    "                        'reviewer_name': reviewer_name})\n",
    "    return beerz\n",
    "\n"
   ]
  },
  {
   "cell_type": "code",
   "execution_count": 23,
   "metadata": {},
   "outputs": [
    {
     "name": "stderr",
     "output_type": "stream",
     "text": [
      "/Users/lukebetham/anaconda3/lib/python3.7/site-packages/ipykernel_launcher.py:14: TqdmDeprecationWarning: This function will be removed in tqdm==5.0.0\n",
      "Please use `tqdm.notebook.tqdm` instead of `tqdm.tqdm_notebook`\n",
      "  \n"
     ]
    },
    {
     "data": {
      "application/vnd.jupyter.widget-view+json": {
       "model_id": "c4d33551918f41fa959169243147cc5b",
       "version_major": 2,
       "version_minor": 0
      },
      "text/plain": [
       "HBox(children=(FloatProgress(value=0.0, max=101.0), HTML(value='')))"
      ]
     },
     "metadata": {},
     "output_type": "display_data"
    },
    {
     "name": "stdout",
     "output_type": "stream",
     "text": [
      "\n"
     ]
    }
   ],
   "source": [
    "# Scraping most recent reviews\n",
    "url = 'https://www.ratebeer.com/beer-ratings/0/{}/'\n",
    "df_temp = ratebeer_scraper(0,100,url)"
   ]
  },
  {
   "cell_type": "code",
   "execution_count": 25,
   "metadata": {},
   "outputs": [
    {
     "name": "stderr",
     "output_type": "stream",
     "text": [
      "/Users/lukebetham/anaconda3/lib/python3.7/site-packages/ipykernel_launcher.py:14: TqdmDeprecationWarning: This function will be removed in tqdm==5.0.0\n",
      "Please use `tqdm.notebook.tqdm` instead of `tqdm.tqdm_notebook`\n",
      "  \n"
     ]
    },
    {
     "data": {
      "application/vnd.jupyter.widget-view+json": {
       "model_id": "cc00fb1615fb42159eb9e39d1004dfef",
       "version_major": 2,
       "version_minor": 0
      },
      "text/plain": [
       "HBox(children=(FloatProgress(value=0.0, max=101.0), HTML(value='')))"
      ]
     },
     "metadata": {},
     "output_type": "display_data"
    },
    {
     "name": "stdout",
     "output_type": "stream",
     "text": [
      "\n"
     ]
    }
   ],
   "source": [
    "# Scraping new beers\n",
    "url = 'https://www.ratebeer.com/beer-ratings/5/{}/'\n",
    "df_temp = ratebeer_scraper(0,100,url)"
   ]
  },
  {
   "cell_type": "code",
   "execution_count": 28,
   "metadata": {},
   "outputs": [
    {
     "name": "stderr",
     "output_type": "stream",
     "text": [
      "/Users/lukebetham/anaconda3/lib/python3.7/site-packages/ipykernel_launcher.py:14: TqdmDeprecationWarning: This function will be removed in tqdm==5.0.0\n",
      "Please use `tqdm.notebook.tqdm` instead of `tqdm.tqdm_notebook`\n",
      "  \n"
     ]
    },
    {
     "data": {
      "application/vnd.jupyter.widget-view+json": {
       "model_id": "0eb09094e0674a9280c9e564947ee506",
       "version_major": 2,
       "version_minor": 0
      },
      "text/plain": [
       "HBox(children=(FloatProgress(value=0.0, max=101.0), HTML(value='')))"
      ]
     },
     "metadata": {},
     "output_type": "display_data"
    },
    {
     "name": "stdout",
     "output_type": "stream",
     "text": [
      "\n"
     ]
    }
   ],
   "source": [
    "# Scraping fave beers\n",
    "url = 'https://www.ratebeer.com/beer-ratings/4/{}/'\n",
    "df_temp = ratebeer_scraper(0,100,url)"
   ]
  },
  {
   "cell_type": "code",
   "execution_count": 31,
   "metadata": {},
   "outputs": [
    {
     "name": "stderr",
     "output_type": "stream",
     "text": [
      "/Users/lukebetham/anaconda3/lib/python3.7/site-packages/ipykernel_launcher.py:14: TqdmDeprecationWarning: This function will be removed in tqdm==5.0.0\n",
      "Please use `tqdm.notebook.tqdm` instead of `tqdm.tqdm_notebook`\n",
      "  \n"
     ]
    },
    {
     "data": {
      "application/vnd.jupyter.widget-view+json": {
       "model_id": "d0605ea2ce2e4bafb5d8fe8a45644cc5",
       "version_major": 2,
       "version_minor": 0
      },
      "text/plain": [
       "HBox(children=(FloatProgress(value=0.0, max=101.0), HTML(value='')))"
      ]
     },
     "metadata": {},
     "output_type": "display_data"
    },
    {
     "name": "stdout",
     "output_type": "stream",
     "text": [
      "\n"
     ]
    }
   ],
   "source": [
    "# Scraping rave beers\n",
    "url = 'https://www.ratebeer.com/beer-ratings/1/{}/'\n",
    "df_temp = ratebeer_scraper(0,100,url)"
   ]
  },
  {
   "cell_type": "code",
   "execution_count": null,
   "metadata": {},
   "outputs": [],
   "source": [
    "# Scraping rant beers\n",
    "url = 'https://www.ratebeer.com/beer-ratings/2/{}/'\n",
    "df_temp = ratebeer_scraper(0,100,url)"
   ]
  },
  {
   "cell_type": "code",
   "execution_count": null,
   "metadata": {},
   "outputs": [],
   "source": [
    "# Scraping anomalous beers\n",
    "url = 'https://www.ratebeer.com/beer-ratings/2/{}/'\n",
    "df_temp = ratebeer_scraper(0,100,url)"
   ]
  },
  {
   "cell_type": "code",
   "execution_count": 32,
   "metadata": {
    "scrolled": true
   },
   "outputs": [
    {
     "data": {
      "text/html": [
       "<div>\n",
       "<style scoped>\n",
       "    .dataframe tbody tr th:only-of-type {\n",
       "        vertical-align: middle;\n",
       "    }\n",
       "\n",
       "    .dataframe tbody tr th {\n",
       "        vertical-align: top;\n",
       "    }\n",
       "\n",
       "    .dataframe thead th {\n",
       "        text-align: right;\n",
       "    }\n",
       "</style>\n",
       "<table border=\"1\" class=\"dataframe\">\n",
       "  <thead>\n",
       "    <tr style=\"text-align: right;\">\n",
       "      <th></th>\n",
       "      <th>beer_name</th>\n",
       "      <th>beer_rating</th>\n",
       "      <th>brewery_name</th>\n",
       "      <th>brewery_location</th>\n",
       "      <th>review_content</th>\n",
       "      <th>reviewer_name</th>\n",
       "    </tr>\n",
       "  </thead>\n",
       "  <tbody>\n",
       "    <tr>\n",
       "      <th>0</th>\n",
       "      <td>Prairie Holiday Weekend</td>\n",
       "      <td>4.6</td>\n",
       "      <td>Prairie Artisan Ales</td>\n",
       "      <td>Tulsa, Oklahoma</td>\n",
       "      <td>Fanatyk Piwa is drinking a Holiday Weekend by ...</td>\n",
       "      <td>Hubson</td>\n",
       "    </tr>\n",
       "    <tr>\n",
       "      <th>1</th>\n",
       "      <td>Hidden Springs Black Aggie - Double Barrel Age...</td>\n",
       "      <td>4.8</td>\n",
       "      <td>Hidden Springs Ale Works</td>\n",
       "      <td>Tampa, Florida</td>\n",
       "      <td>Fanatyk Piwa is drinking a Double Barrel Fluff...</td>\n",
       "      <td>Hubson</td>\n",
       "    </tr>\n",
       "    <tr>\n",
       "      <th>2</th>\n",
       "      <td>Angry Chair Tiramisu</td>\n",
       "      <td>4.5</td>\n",
       "      <td>Angry Chair Brewing</td>\n",
       "      <td>Tampa, Florida</td>\n",
       "      <td>Fanatyk Piwa is drinking a Tiramisu (2019) by ...</td>\n",
       "      <td>Hubson</td>\n",
       "    </tr>\n",
       "    <tr>\n",
       "      <th>3</th>\n",
       "      <td>Fort George Matryoshka</td>\n",
       "      <td>4.6</td>\n",
       "      <td>Fort George Brewery</td>\n",
       "      <td>Astoria, Oregon</td>\n",
       "      <td>500ml bottle, 2020 vintage. Roasted malt aroma...</td>\n",
       "      <td>zoucrew102</td>\n",
       "    </tr>\n",
       "    <tr>\n",
       "      <th>4</th>\n",
       "      <td>Dry County Bone Music</td>\n",
       "      <td>4.7</td>\n",
       "      <td>Dry County Brewing Company</td>\n",
       "      <td>Kennesaw, Georgia</td>\n",
       "      <td>Pours rich coffee with a thick and fairly pers...</td>\n",
       "      <td>Cybercat</td>\n",
       "    </tr>\n",
       "    <tr>\n",
       "      <th>...</th>\n",
       "      <td>...</td>\n",
       "      <td>...</td>\n",
       "      <td>...</td>\n",
       "      <td>...</td>\n",
       "      <td>...</td>\n",
       "      <td>...</td>\n",
       "    </tr>\n",
       "    <tr>\n",
       "      <th>1510</th>\n",
       "      <td>Pipeworks Baked And Layered</td>\n",
       "      <td>4.5</td>\n",
       "      <td>Pipeworks Brewing Company</td>\n",
       "      <td>Chicago, Illinois</td>\n",
       "      <td>Pipeworks Brewing Company’s Baked And Layered ...</td>\n",
       "      <td>Sexy_texan18</td>\n",
       "    </tr>\n",
       "    <tr>\n",
       "      <th>1511</th>\n",
       "      <td>Bas-Canada Espace Libre</td>\n",
       "      <td>4.5</td>\n",
       "      <td>Brasserie du Bas-Canada</td>\n",
       "      <td>Gatineau, Quebec</td>\n",
       "      <td>Jaune voilée, nez fruité de melon miel et légè...</td>\n",
       "      <td>QcBeer</td>\n",
       "    </tr>\n",
       "    <tr>\n",
       "      <th>1512</th>\n",
       "      <td>O'Fallon Wheach</td>\n",
       "      <td>5.0</td>\n",
       "      <td>O'Fallon Brewery</td>\n",
       "      <td>Maryland Heights, Missouri</td>\n",
       "      <td>I thought this beer was delicious. It would be...</td>\n",
       "      <td>snider75</td>\n",
       "    </tr>\n",
       "    <tr>\n",
       "      <th>1513</th>\n",
       "      <td>Canned Heat Koala</td>\n",
       "      <td>4.5</td>\n",
       "      <td>Canned Heat</td>\n",
       "      <td>Fall River, Massachusetts</td>\n",
       "      <td>1,900th rating! Pours a great opaque orange ju...</td>\n",
       "      <td>Quick3Beers</td>\n",
       "    </tr>\n",
       "    <tr>\n",
       "      <th>1514</th>\n",
       "      <td>Surly Damien</td>\n",
       "      <td>4.9</td>\n",
       "      <td>Surly Brewing Company</td>\n",
       "      <td>Minneapolis, Minnesota</td>\n",
       "      <td>I like it. So smooth. A very good sipping beer...</td>\n",
       "      <td>LagerChecker34</td>\n",
       "    </tr>\n",
       "  </tbody>\n",
       "</table>\n",
       "<p>1515 rows × 6 columns</p>\n",
       "</div>"
      ],
      "text/plain": [
       "                                              beer_name beer_rating  \\\n",
       "0                               Prairie Holiday Weekend         4.6   \n",
       "1     Hidden Springs Black Aggie - Double Barrel Age...         4.8   \n",
       "2                                  Angry Chair Tiramisu         4.5   \n",
       "3                               Fort George Matryoshka          4.6   \n",
       "4                                 Dry County Bone Music         4.7   \n",
       "...                                                 ...         ...   \n",
       "1510                        Pipeworks Baked And Layered         4.5   \n",
       "1511                            Bas-Canada Espace Libre         4.5   \n",
       "1512                                    O'Fallon Wheach         5.0   \n",
       "1513                                  Canned Heat Koala         4.5   \n",
       "1514                                       Surly Damien         4.9   \n",
       "\n",
       "                    brewery_name            brewery_location  \\\n",
       "0           Prairie Artisan Ales             Tulsa, Oklahoma   \n",
       "1       Hidden Springs Ale Works              Tampa, Florida   \n",
       "2            Angry Chair Brewing              Tampa, Florida   \n",
       "3            Fort George Brewery             Astoria, Oregon   \n",
       "4     Dry County Brewing Company           Kennesaw, Georgia   \n",
       "...                          ...                         ...   \n",
       "1510   Pipeworks Brewing Company           Chicago, Illinois   \n",
       "1511     Brasserie du Bas-Canada            Gatineau, Quebec   \n",
       "1512            O'Fallon Brewery  Maryland Heights, Missouri   \n",
       "1513                 Canned Heat   Fall River, Massachusetts   \n",
       "1514       Surly Brewing Company      Minneapolis, Minnesota   \n",
       "\n",
       "                                         review_content   reviewer_name  \n",
       "0     Fanatyk Piwa is drinking a Holiday Weekend by ...          Hubson  \n",
       "1     Fanatyk Piwa is drinking a Double Barrel Fluff...          Hubson  \n",
       "2     Fanatyk Piwa is drinking a Tiramisu (2019) by ...          Hubson  \n",
       "3     500ml bottle, 2020 vintage. Roasted malt aroma...      zoucrew102  \n",
       "4     Pours rich coffee with a thick and fairly pers...        Cybercat  \n",
       "...                                                 ...             ...  \n",
       "1510  Pipeworks Brewing Company’s Baked And Layered ...    Sexy_texan18  \n",
       "1511  Jaune voilée, nez fruité de melon miel et légè...          QcBeer  \n",
       "1512  I thought this beer was delicious. It would be...        snider75  \n",
       "1513  1,900th rating! Pours a great opaque orange ju...     Quick3Beers  \n",
       "1514  I like it. So smooth. A very good sipping beer...  LagerChecker34  \n",
       "\n",
       "[1515 rows x 6 columns]"
      ]
     },
     "execution_count": 32,
     "metadata": {},
     "output_type": "execute_result"
    }
   ],
   "source": [
    "df_temp"
   ]
  },
  {
   "cell_type": "code",
   "execution_count": null,
   "metadata": {},
   "outputs": [
    {
     "ename": "UnicodeEncodeError",
     "evalue": "'utf-8' codec can't encode characters in position 90-91: surrogates not allowed",
     "output_type": "error",
     "traceback": [
      "\u001b[0;31m---------------------------------------------------------------------------\u001b[0m",
      "\u001b[0;31mUnicodeEncodeError\u001b[0m                        Traceback (most recent call last)",
      "\u001b[0;31mUnicodeEncodeError\u001b[0m: 'utf-8' codec can't encode characters in position 90-91: surrogates not allowed"
     ]
    }
   ],
   "source": [
    "df = pd.concat([df,df_temp])\n",
    "print(len(df.duplicated()))\n",
    "df.drop_duplicates(inplace=True)\n",
    "print(len(df))"
   ]
  },
  {
   "cell_type": "code",
   "execution_count": 17,
   "metadata": {},
   "outputs": [],
   "source": [
    "# df.to_csv('all_reviews.csv',index=False)\n",
    "# df = pd.read_csv('all_reviews.csv')"
   ]
  },
  {
   "cell_type": "code",
   "execution_count": null,
   "metadata": {},
   "outputs": [],
   "source": []
  },
  {
   "cell_type": "code",
   "execution_count": null,
   "metadata": {},
   "outputs": [],
   "source": []
  }
 ],
 "metadata": {
  "kernelspec": {
   "display_name": "Python 3",
   "language": "python",
   "name": "python3"
  },
  "toc": {
   "base_numbering": 1,
   "nav_menu": {},
   "number_sections": true,
   "sideBar": true,
   "skip_h1_title": false,
   "title_cell": "Table of Contents",
   "title_sidebar": "Contents",
   "toc_cell": false,
   "toc_position": {},
   "toc_section_display": true,
   "toc_window_display": false
  },
  "varInspector": {
   "cols": {
    "lenName": 16,
    "lenType": 16,
    "lenVar": 40
   },
   "kernels_config": {
    "python": {
     "delete_cmd_postfix": "",
     "delete_cmd_prefix": "del ",
     "library": "var_list.py",
     "varRefreshCmd": "print(var_dic_list())"
    },
    "r": {
     "delete_cmd_postfix": ") ",
     "delete_cmd_prefix": "rm(",
     "library": "var_list.r",
     "varRefreshCmd": "cat(var_dic_list()) "
    }
   },
   "types_to_exclude": [
    "module",
    "function",
    "builtin_function_or_method",
    "instance",
    "_Feature"
   ],
   "window_display": false
  }
 },
 "nbformat": 4,
 "nbformat_minor": 4
}
