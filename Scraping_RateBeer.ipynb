{
 "cells": [
  {
   "cell_type": "code",
   "execution_count": 61,
   "metadata": {
    "ExecuteTime": {
     "end_time": "2020-05-06T15:16:33.771583Z",
     "start_time": "2020-05-06T15:16:33.579567Z"
    }
   },
   "outputs": [],
   "source": [
    "import requests\n",
    "import bs4\n",
    "from bs4 import BeautifulSoup\n",
    "import pandas as pd\n",
    "import re\n",
    "from tqdm.notebook import tqdm\n",
    "import matplotlib.pyplot as plt\n",
    "import seaborn as sns"
   ]
  },
  {
   "cell_type": "markdown",
   "metadata": {},
   "source": [
    "## Code which scrapes the recently reviews (only 100 pages - 1,400 reviews)"
   ]
  },
  {
   "cell_type": "code",
   "execution_count": 62,
   "metadata": {
    "ExecuteTime": {
     "end_time": "2020-05-06T15:16:33.829606Z",
     "start_time": "2020-05-06T15:16:33.783202Z"
    }
   },
   "outputs": [],
   "source": [
    "\n",
    "def ratebeer_scraper(page_start=1, page_end=2, url_set=None):\n",
    "    \n",
    "    beer_name = []\n",
    "    beer_rating = []\n",
    "    brewery_name = []\n",
    "    brewery_location = []\n",
    "    review_content = []\n",
    "    reviewer_name = []\n",
    " \n",
    "    if url_set == None:\n",
    "        print(\"Need url to run\")\n",
    "        return\n",
    "\n",
    "    for x in tqdm(range(page_start, page_end + 1)):\n",
    "        try:\n",
    "            url_format = url_set.format(x)\n",
    "            r = requests.get(url_format)\n",
    "            soup = BeautifulSoup(r.text, 'html.parser')\n",
    "            table = soup.find('table', attrs={'class': 'table'})\n",
    "            table_rows = table.find_all('tr')\n",
    "\n",
    "            for rows in table_rows:\n",
    "\n",
    "            # Scrape Beer Name    \n",
    "                try:\n",
    "                    beer_name.append(rows.find('a', attrs={'style':'font-size:20px; font-weight:bold;'}).text)\n",
    "                except:\n",
    "                    beer_name.append(None)\n",
    "            # Scrape Review Rating  \n",
    "                try:\n",
    "                    beer_rating.append(rows.find('span', attrs={'class':'uas'}).text)\n",
    "                except:\n",
    "                    beer_rating.append(None)\n",
    "            # Scrape Brewery Name  \n",
    "                try:\n",
    "                    brewery_div = rows.find('div')\n",
    "                    brewery_name.append(brewery_div.a.text)\n",
    "                except:\n",
    "                    brewery_name.append(None)\n",
    "            # Scrape Brewery Location\n",
    "                try:\n",
    "                    brewery_location.append(rows.find('span', attrs={'class':'small'}).text.strip())\n",
    "                except:\n",
    "                    brewery_location.append(None)\n",
    "            # Scrape Reviewer Name\n",
    "                try:\n",
    "                    reviewer_name.append(rows.find('span', attrs={'class':'pull-right'}).text.strip())\n",
    "                except:\n",
    "                    reviewer_name.append(None)\n",
    "            # Scrape content\n",
    "                try:\n",
    "                    review_content.append(rows.find('div', attrs={'style':\"color:#666;\"}).text.strip())\n",
    "                except:\n",
    "                    review_content.append(None)\n",
    "        except:\n",
    "            pass\n",
    "\n",
    "    beerz = pd.DataFrame({'beer_name': beer_name,\n",
    "                         'beer_rating': beer_rating,\n",
    "                        'brewery_name': brewery_name,\n",
    "                         'brewery_location': brewery_location,\n",
    "                        'review_content': review_content,\n",
    "                        'reviewer_name': reviewer_name})\n",
    "    return beerz\n",
    "\n"
   ]
  },
  {
   "cell_type": "code",
   "execution_count": 63,
   "metadata": {
    "ExecuteTime": {
     "end_time": "2020-05-06T15:17:49.881003Z",
     "start_time": "2020-05-06T15:16:33.859280Z"
    }
   },
   "outputs": [
    {
     "data": {
      "application/vnd.jupyter.widget-view+json": {
       "model_id": "b3c5f4dfe2bc48c29b1b5c28cb04896f",
       "version_major": 2,
       "version_minor": 0
      },
      "text/plain": [
       "HBox(children=(FloatProgress(value=0.0, max=101.0), HTML(value='')))"
      ]
     },
     "metadata": {},
     "output_type": "display_data"
    },
    {
     "name": "stdout",
     "output_type": "stream",
     "text": [
      "\n"
     ]
    }
   ],
   "source": [
    "# Scraping most recent reviews\n",
    "url = 'https://www.ratebeer.com/beer-ratings/0/{}/'\n",
    "df_recent = ratebeer_scraper(0,100,url)\n",
    "\n",
    "# # Scraping new beers\n",
    "# url = 'https://www.ratebeer.com/beer-ratings/5/{}/'\n",
    "# df_new = ratebeer_scraper(0,1,url)\n",
    "\n",
    "# # Scraping fave beers\n",
    "# url = 'https://www.ratebeer.com/beer-ratings/4/{}/'\n",
    "# df_fave = ratebeer_scraper(0,1,url)\n",
    "\n",
    "# # Scraping rave beers\n",
    "# url = 'https://www.ratebeer.com/beer-ratings/1/{}/'\n",
    "# df_rave = ratebeer_scraper(0,1,url)\n",
    "\n",
    "# # Scraping rant beers\n",
    "# url = 'https://www.ratebeer.com/beer-ratings/2/{}/'\n",
    "# df_rant = ratebeer_scraper(0,1,url)\n",
    "\n",
    "# # Scraping anomalous beers\n",
    "# url = 'https://www.ratebeer.com/beer-ratings/3/{}/'\n",
    "# df_anom = ratebeer_scraper(0,1,url)"
   ]
  },
  {
   "cell_type": "code",
   "execution_count": 64,
   "metadata": {
    "ExecuteTime": {
     "end_time": "2020-05-06T15:17:49.896031Z",
     "start_time": "2020-05-06T15:17:49.885756Z"
    }
   },
   "outputs": [],
   "source": [
    "# getting rid of non-ascii characters from the reviews as it breaks csv\n",
    "try:\n",
    "    df_rave.review_content = df_rave.review_content.apply(lambda x: x.encode('ascii', 'ignore').decode('ascii'))\n",
    "except:\n",
    "    pass"
   ]
  },
  {
   "cell_type": "code",
   "execution_count": 65,
   "metadata": {
    "ExecuteTime": {
     "end_time": "2020-05-06T15:17:50.003000Z",
     "start_time": "2020-05-06T15:17:49.905601Z"
    }
   },
   "outputs": [],
   "source": [
    "# read current data from csv (there is a backup at all_reviews_backup.csv)\n",
    "df = pd.read_csv('all_reviews.csv')"
   ]
  },
  {
   "cell_type": "code",
   "execution_count": 66,
   "metadata": {
    "ExecuteTime": {
     "end_time": "2020-05-06T15:17:50.065504Z",
     "start_time": "2020-05-06T15:17:50.004988Z"
    }
   },
   "outputs": [
    {
     "name": "stdout",
     "output_type": "stream",
     "text": [
      "15318\n",
      "13846\n"
     ]
    }
   ],
   "source": [
    "# concatenating all of the scrapes together with the old df\n",
    "try:\n",
    "    df = pd.concat([df, df_recent, df_new, df_fave, df_rave, df_rant, df_anom])\n",
    "except:\n",
    "    df = pd.concat([df, df_recent])\n",
    "print(len(df))\n",
    "df.drop_duplicates(inplace=True)\n",
    "print(len(df))\n",
    "df.beer_name = df.beer_name.apply(lambda x: x.strip())\n",
    "\n"
   ]
  },
  {
   "cell_type": "code",
   "execution_count": 67,
   "metadata": {
    "ExecuteTime": {
     "end_time": "2020-05-06T15:17:50.084124Z",
     "start_time": "2020-05-06T15:17:50.067559Z"
    }
   },
   "outputs": [
    {
     "data": {
      "text/html": [
       "<div>\n",
       "<style scoped>\n",
       "    .dataframe tbody tr th:only-of-type {\n",
       "        vertical-align: middle;\n",
       "    }\n",
       "\n",
       "    .dataframe tbody tr th {\n",
       "        vertical-align: top;\n",
       "    }\n",
       "\n",
       "    .dataframe thead th {\n",
       "        text-align: right;\n",
       "    }\n",
       "</style>\n",
       "<table border=\"1\" class=\"dataframe\">\n",
       "  <thead>\n",
       "    <tr style=\"text-align: right;\">\n",
       "      <th></th>\n",
       "      <th>beer_name</th>\n",
       "      <th>beer_rating</th>\n",
       "      <th>brewery_location</th>\n",
       "      <th>brewery_name</th>\n",
       "      <th>review_content</th>\n",
       "      <th>reviewer_name</th>\n",
       "    </tr>\n",
       "  </thead>\n",
       "  <tbody>\n",
       "    <tr>\n",
       "      <th>0</th>\n",
       "      <td>St. Peter's Ruby Red Ale</td>\n",
       "      <td>3.3</td>\n",
       "      <td>Bungay, Suffolk</td>\n",
       "      <td>St. Peter's Brewery</td>\n",
       "      <td>Ruby color, offwhite coam. Aroma and taste: fl...</td>\n",
       "      <td>alex_leit</td>\n",
       "    </tr>\n",
       "    <tr>\n",
       "      <th>1</th>\n",
       "      <td>Shepherd Neame Spitfire (Bottle)</td>\n",
       "      <td>2.2</td>\n",
       "      <td>Faversham, Kent</td>\n",
       "      <td>Shepherd Neame</td>\n",
       "      <td>Disappointing show from the lads at ‘Britain’s...</td>\n",
       "      <td>shivermetimber.gray</td>\n",
       "    </tr>\n",
       "    <tr>\n",
       "      <th>2</th>\n",
       "      <td>Arbor Rocketman</td>\n",
       "      <td>3.8</td>\n",
       "      <td>Bristol, Gloucestershire</td>\n",
       "      <td>Arbor Ales</td>\n",
       "      <td>Puszka. Mętne o żółtym kolorze. Piana biała,ob...</td>\n",
       "      <td>MarcinG</td>\n",
       "    </tr>\n",
       "    <tr>\n",
       "      <th>3</th>\n",
       "      <td>Shepherd Neame India Pale Ale (Bottle)</td>\n",
       "      <td>3.4</td>\n",
       "      <td>Faversham, Kent</td>\n",
       "      <td>Shepherd Neame</td>\n",
       "      <td>Bottle. Amber with bronze color and white foam...</td>\n",
       "      <td>alex_leit</td>\n",
       "    </tr>\n",
       "    <tr>\n",
       "      <th>4</th>\n",
       "      <td>Shepherd Neame Christmas Ale</td>\n",
       "      <td>3.3</td>\n",
       "      <td>Faversham, Kent</td>\n",
       "      <td>Shepherd Neame</td>\n",
       "      <td>Bottle. Aroma: English hops and malts with tof...</td>\n",
       "      <td>alex_leit</td>\n",
       "    </tr>\n",
       "    <tr>\n",
       "      <th>...</th>\n",
       "      <td>...</td>\n",
       "      <td>...</td>\n",
       "      <td>...</td>\n",
       "      <td>...</td>\n",
       "      <td>...</td>\n",
       "      <td>...</td>\n",
       "    </tr>\n",
       "    <tr>\n",
       "      <th>1510</th>\n",
       "      <td>Funky Buddha Tequila Margarita Gose</td>\n",
       "      <td>3.7</td>\n",
       "      <td>Oakland Park, Florida</td>\n",
       "      <td>Funky Buddha Brewery (Constellation Brands)</td>\n",
       "      <td>Bottle pour, cloudy amber. Aroma of banana, ch...</td>\n",
       "      <td>lavaaaron</td>\n",
       "    </tr>\n",
       "    <tr>\n",
       "      <th>1511</th>\n",
       "      <td>Odd Breed Wild Ales Extra Thai Rack</td>\n",
       "      <td>3.8</td>\n",
       "      <td>Pompano Beach, Florida</td>\n",
       "      <td>Odd Breed Wild Ales</td>\n",
       "      <td>750 ml bottle. Pours a mostly clear, straw gol...</td>\n",
       "      <td>juiceisloose</td>\n",
       "    </tr>\n",
       "    <tr>\n",
       "      <th>1512</th>\n",
       "      <td>Vibrant Forest / Emperor's Yub Nub</td>\n",
       "      <td>4.0</td>\n",
       "      <td>Hardley, Hampshire</td>\n",
       "      <td>Vibrant Forest Brewery</td>\n",
       "      <td>330ml bottle from leftfieldbeer.co.uk. Very da...</td>\n",
       "      <td>coil</td>\n",
       "    </tr>\n",
       "    <tr>\n",
       "      <th>1513</th>\n",
       "      <td>Big Stump Llama Drama</td>\n",
       "      <td>3.8</td>\n",
       "      <td>Sacramento, California</td>\n",
       "      <td>Big Stump Brewing Company</td>\n",
       "      <td>Can from Corti Bros. Pours slightly dirty, ora...</td>\n",
       "      <td>bhensonb</td>\n",
       "    </tr>\n",
       "    <tr>\n",
       "      <th>1514</th>\n",
       "      <td>Prairie Slush</td>\n",
       "      <td>3.8</td>\n",
       "      <td>Tulsa, Oklahoma</td>\n",
       "      <td>Prairie Artisan Ales</td>\n",
       "      <td>Poured hazy ruby color with an average frothy ...</td>\n",
       "      <td>Tmoney99</td>\n",
       "    </tr>\n",
       "  </tbody>\n",
       "</table>\n",
       "<p>13846 rows × 6 columns</p>\n",
       "</div>"
      ],
      "text/plain": [
       "                                   beer_name beer_rating  \\\n",
       "0                   St. Peter's Ruby Red Ale         3.3   \n",
       "1           Shepherd Neame Spitfire (Bottle)         2.2   \n",
       "2                            Arbor Rocketman         3.8   \n",
       "3     Shepherd Neame India Pale Ale (Bottle)         3.4   \n",
       "4               Shepherd Neame Christmas Ale         3.3   \n",
       "...                                      ...         ...   \n",
       "1510     Funky Buddha Tequila Margarita Gose         3.7   \n",
       "1511     Odd Breed Wild Ales Extra Thai Rack         3.8   \n",
       "1512      Vibrant Forest / Emperor's Yub Nub         4.0   \n",
       "1513                   Big Stump Llama Drama         3.8   \n",
       "1514                           Prairie Slush         3.8   \n",
       "\n",
       "              brewery_location                                 brewery_name  \\\n",
       "0              Bungay, Suffolk                          St. Peter's Brewery   \n",
       "1              Faversham, Kent                               Shepherd Neame   \n",
       "2     Bristol, Gloucestershire                                   Arbor Ales   \n",
       "3              Faversham, Kent                               Shepherd Neame   \n",
       "4              Faversham, Kent                               Shepherd Neame   \n",
       "...                        ...                                          ...   \n",
       "1510     Oakland Park, Florida  Funky Buddha Brewery (Constellation Brands)   \n",
       "1511    Pompano Beach, Florida                          Odd Breed Wild Ales   \n",
       "1512        Hardley, Hampshire                       Vibrant Forest Brewery   \n",
       "1513    Sacramento, California                    Big Stump Brewing Company   \n",
       "1514           Tulsa, Oklahoma                         Prairie Artisan Ales   \n",
       "\n",
       "                                         review_content        reviewer_name  \n",
       "0     Ruby color, offwhite coam. Aroma and taste: fl...            alex_leit  \n",
       "1     Disappointing show from the lads at ‘Britain’s...  shivermetimber.gray  \n",
       "2     Puszka. Mętne o żółtym kolorze. Piana biała,ob...              MarcinG  \n",
       "3     Bottle. Amber with bronze color and white foam...            alex_leit  \n",
       "4     Bottle. Aroma: English hops and malts with tof...            alex_leit  \n",
       "...                                                 ...                  ...  \n",
       "1510  Bottle pour, cloudy amber. Aroma of banana, ch...            lavaaaron  \n",
       "1511  750 ml bottle. Pours a mostly clear, straw gol...         juiceisloose  \n",
       "1512  330ml bottle from leftfieldbeer.co.uk. Very da...                 coil  \n",
       "1513  Can from Corti Bros. Pours slightly dirty, ora...             bhensonb  \n",
       "1514  Poured hazy ruby color with an average frothy ...             Tmoney99  \n",
       "\n",
       "[13846 rows x 6 columns]"
      ]
     },
     "execution_count": 67,
     "metadata": {},
     "output_type": "execute_result"
    }
   ],
   "source": [
    "df"
   ]
  },
  {
   "cell_type": "code",
   "execution_count": 68,
   "metadata": {
    "ExecuteTime": {
     "end_time": "2020-05-06T15:17:50.257945Z",
     "start_time": "2020-05-06T15:17:50.089555Z"
    }
   },
   "outputs": [],
   "source": [
    "df.to_csv('all_reviews.csv',index=False)\n",
    "# df = pd.read_csv('all_reviews.csv')\n",
    "not_found_df = pd.read_csv(\"not_found.csv\")"
   ]
  },
  {
   "cell_type": "markdown",
   "metadata": {},
   "source": [
    "## Get more information on all of the beers - Selenium"
   ]
  },
  {
   "cell_type": "code",
   "execution_count": 69,
   "metadata": {
    "ExecuteTime": {
     "end_time": "2020-05-06T15:17:50.272536Z",
     "start_time": "2020-05-06T15:17:50.269374Z"
    }
   },
   "outputs": [],
   "source": [
    "from selenium import webdriver\n",
    "import time"
   ]
  },
  {
   "cell_type": "code",
   "execution_count": 70,
   "metadata": {
    "ExecuteTime": {
     "end_time": "2020-05-06T15:17:50.307204Z",
     "start_time": "2020-05-06T15:17:50.276775Z"
    }
   },
   "outputs": [],
   "source": [
    "# extract already scraped data from previous scrapes so don't rescrape\n",
    "beer_df = pd.read_csv('beer_deets.csv')"
   ]
  },
  {
   "cell_type": "code",
   "execution_count": 71,
   "metadata": {
    "ExecuteTime": {
     "end_time": "2020-05-06T15:17:50.324180Z",
     "start_time": "2020-05-06T15:17:50.309367Z"
    }
   },
   "outputs": [
    {
     "name": "stdout",
     "output_type": "stream",
     "text": [
      "There are 298 new beers to search for!\n"
     ]
    }
   ],
   "source": [
    "# compare to the unique list to create a new to-be-scraped list\n",
    "new_beer = df.beer_name[(~df.beer_name.isin(beer_df.name_found))&(~df.beer_name.isin(not_found_df.not_found))].unique()\n",
    "print(\"There are\", len(new_beer), \"new beers to search for!\")"
   ]
  },
  {
   "cell_type": "code",
   "execution_count": 72,
   "metadata": {
    "ExecuteTime": {
     "end_time": "2020-05-06T15:33:48.541046Z",
     "start_time": "2020-05-06T15:17:50.328792Z"
    }
   },
   "outputs": [
    {
     "data": {
      "application/vnd.jupyter.widget-view+json": {
       "model_id": "da51b65fced8486c8999d6d1dfe9bae0",
       "version_major": 2,
       "version_minor": 0
      },
      "text/plain": [
       "HBox(children=(FloatProgress(value=0.0, max=298.0), HTML(value='')))"
      ]
     },
     "metadata": {},
     "output_type": "display_data"
    },
    {
     "name": "stdout",
     "output_type": "stream",
     "text": [
      "\n"
     ]
    }
   ],
   "source": [
    "item_names = []\n",
    "desc_string = []\n",
    "\n",
    "driver = webdriver.Chrome(executable_path='/Users/lukebetham/Downloads/chromedriver')\n",
    "\n",
    "for beer in tqdm(new_beer):\n",
    "    driver.get(\"https://www.ratebeer.com/search?beername={}\".format(beer))\n",
    "    time.sleep(2)\n",
    "    item_tags = driver.find_elements_by_class_name('fg-1')\n",
    "\n",
    "    x=1\n",
    "    beer_temp = []\n",
    "    for item in item_tags:        \n",
    "        if x <2:\n",
    "            try:\n",
    "                item_names.append(item.find_element_by_class_name('fd-r').text)\n",
    "                x+=1\n",
    "            except:\n",
    "                pass\n",
    "            try:\n",
    "                beer_temp.append(item.text)\n",
    "            except:\n",
    "                pass\n",
    "    try:\n",
    "        desc_string.append(beer_temp[4])\n",
    "    except:\n",
    "        desc_string.append(None)\n",
    "\n",
    "driver.quit()"
   ]
  },
  {
   "cell_type": "code",
   "execution_count": 73,
   "metadata": {
    "ExecuteTime": {
     "end_time": "2020-05-06T15:33:48.619896Z",
     "start_time": "2020-05-06T15:33:48.547959Z"
    }
   },
   "outputs": [
    {
     "data": {
      "text/html": [
       "<div>\n",
       "<style scoped>\n",
       "    .dataframe tbody tr th:only-of-type {\n",
       "        vertical-align: middle;\n",
       "    }\n",
       "\n",
       "    .dataframe tbody tr th {\n",
       "        vertical-align: top;\n",
       "    }\n",
       "\n",
       "    .dataframe thead th {\n",
       "        text-align: right;\n",
       "    }\n",
       "</style>\n",
       "<table border=\"1\" class=\"dataframe\">\n",
       "  <thead>\n",
       "    <tr style=\"text-align: right;\">\n",
       "      <th></th>\n",
       "      <th>return_string</th>\n",
       "    </tr>\n",
       "  </thead>\n",
       "  <tbody>\n",
       "    <tr>\n",
       "      <th>0</th>\n",
       "      <td>Odyssey Kiss It\\n🇬🇧 Pale Ale - American / APA ...</td>\n",
       "    </tr>\n",
       "    <tr>\n",
       "      <th>1</th>\n",
       "      <td>Black Sheep Venus &amp; Mars\\n🇬🇧 Pale Ale - Americ...</td>\n",
       "    </tr>\n",
       "    <tr>\n",
       "      <th>2</th>\n",
       "      <td>Crooked Stave L'Brett d'Or Grand Cru\\n🇺🇸 Sour ...</td>\n",
       "    </tr>\n",
       "    <tr>\n",
       "      <th>3</th>\n",
       "      <td>Logo\\nThe most comprehensive ratings and revie...</td>\n",
       "    </tr>\n",
       "    <tr>\n",
       "      <th>4</th>\n",
       "      <td>Brauhof Saar Hops Heaven One\\n🇩🇪 IPA • 7.3%\\n-...</td>\n",
       "    </tr>\n",
       "    <tr>\n",
       "      <th>...</th>\n",
       "      <td>...</td>\n",
       "    </tr>\n",
       "    <tr>\n",
       "      <th>293</th>\n",
       "      <td>Rorschach Malevolent Benevolence - Jelly Donut...</td>\n",
       "    </tr>\n",
       "    <tr>\n",
       "      <th>294</th>\n",
       "      <td>Rorschach Hedonism - Pineapple\\n🇨🇦 Sour / Wild...</td>\n",
       "    </tr>\n",
       "    <tr>\n",
       "      <th>295</th>\n",
       "      <td>The Veil Hornswaggler - Baked Apple\\n🇺🇸 Stout ...</td>\n",
       "    </tr>\n",
       "    <tr>\n",
       "      <th>296</th>\n",
       "      <td>Radical Road Salvation\\n🇨🇦 Flavored - Fruit • ...</td>\n",
       "    </tr>\n",
       "    <tr>\n",
       "      <th>297</th>\n",
       "      <td>Radical Road X Shacklands Parallel Universe (R...</td>\n",
       "    </tr>\n",
       "  </tbody>\n",
       "</table>\n",
       "<p>298 rows × 1 columns</p>\n",
       "</div>"
      ],
      "text/plain": [
       "                                         return_string\n",
       "0    Odyssey Kiss It\\n🇬🇧 Pale Ale - American / APA ...\n",
       "1    Black Sheep Venus & Mars\\n🇬🇧 Pale Ale - Americ...\n",
       "2    Crooked Stave L'Brett d'Or Grand Cru\\n🇺🇸 Sour ...\n",
       "3    Logo\\nThe most comprehensive ratings and revie...\n",
       "4    Brauhof Saar Hops Heaven One\\n🇩🇪 IPA • 7.3%\\n-...\n",
       "..                                                 ...\n",
       "293  Rorschach Malevolent Benevolence - Jelly Donut...\n",
       "294  Rorschach Hedonism - Pineapple\\n🇨🇦 Sour / Wild...\n",
       "295  The Veil Hornswaggler - Baked Apple\\n🇺🇸 Stout ...\n",
       "296  Radical Road Salvation\\n🇨🇦 Flavored - Fruit • ...\n",
       "297  Radical Road X Shacklands Parallel Universe (R...\n",
       "\n",
       "[298 rows x 1 columns]"
      ]
     },
     "execution_count": 73,
     "metadata": {},
     "output_type": "execute_result"
    }
   ],
   "source": [
    "beer_deets = pd.DataFrame(desc_string, columns = ['return_string'])\n",
    "beer_deets"
   ]
  },
  {
   "cell_type": "code",
   "execution_count": 74,
   "metadata": {
    "ExecuteTime": {
     "end_time": "2020-05-06T15:33:48.652153Z",
     "start_time": "2020-05-06T15:33:48.623952Z"
    }
   },
   "outputs": [],
   "source": [
    "## cleaning the scraped data\n",
    "beer_deets.dropna(inplace=True)\n",
    "beer_deets = beer_deets[~beer_deets.return_string.str.startswith('Logo\\n')].copy()\n",
    "no_alcohol = beer_deets[~beer_deets.return_string.str.contains('%')].copy()\n",
    "beer_deets = beer_deets[beer_deets.return_string.str.contains('%')].copy()\n"
   ]
  },
  {
   "cell_type": "code",
   "execution_count": 75,
   "metadata": {
    "ExecuteTime": {
     "end_time": "2020-05-06T15:33:48.684584Z",
     "start_time": "2020-05-06T15:33:48.656997Z"
    }
   },
   "outputs": [],
   "source": [
    "# sorting the scraped data into columns\n",
    "beer_deets['name_found'] = beer_deets.return_string.apply(lambda x: x.split('\\n')[0].strip())\n",
    "beer_deets['flag'] = beer_deets.return_string.apply(lambda x: x.split('\\n')[1].split('•')[0].split(\" \")[0])\n",
    "beer_deets['type'] = beer_deets.return_string.apply(lambda x: x.split('\\n')[1].split('•')[0][2:])\n",
    "beer_deets['abv'] = beer_deets.return_string.apply(lambda x: float(x.split('\\n')[1].split('•')[1].replace(\"%\",\"\")))\n",
    "beer_deets['rb_overall_score'] = beer_deets.return_string.apply(lambda x: x.split('\\n')[2])\n",
    "beer_deets['rb_style_score'] = beer_deets.return_string.apply(lambda x: x.split('\\n')[3])\n",
    "beer_deets['rb_user_rating'] = beer_deets.return_string.apply(lambda x: x.split('\\n')[4])\n",
    "beer_deets['rb_rating_number'] = beer_deets.return_string.apply(lambda x: x.split('\\n')[5].replace(\"(\",\"\").replace(\")\",\"\"))\n"
   ]
  },
  {
   "cell_type": "code",
   "execution_count": 76,
   "metadata": {
    "ExecuteTime": {
     "end_time": "2020-05-06T15:33:48.736274Z",
     "start_time": "2020-05-06T15:33:48.689682Z"
    }
   },
   "outputs": [
    {
     "data": {
      "text/html": [
       "<div>\n",
       "<style scoped>\n",
       "    .dataframe tbody tr th:only-of-type {\n",
       "        vertical-align: middle;\n",
       "    }\n",
       "\n",
       "    .dataframe tbody tr th {\n",
       "        vertical-align: top;\n",
       "    }\n",
       "\n",
       "    .dataframe thead th {\n",
       "        text-align: right;\n",
       "    }\n",
       "</style>\n",
       "<table border=\"1\" class=\"dataframe\">\n",
       "  <thead>\n",
       "    <tr style=\"text-align: right;\">\n",
       "      <th></th>\n",
       "      <th>return_string</th>\n",
       "      <th>name_found</th>\n",
       "      <th>flag</th>\n",
       "      <th>type</th>\n",
       "      <th>abv</th>\n",
       "      <th>rb_overall_score</th>\n",
       "      <th>rb_style_score</th>\n",
       "      <th>rb_user_rating</th>\n",
       "      <th>rb_rating_number</th>\n",
       "    </tr>\n",
       "  </thead>\n",
       "  <tbody>\n",
       "    <tr>\n",
       "      <th>53</th>\n",
       "      <td>MacKinnon Brothers Red Fox ale\\n🇨🇦 Flavored - ...</td>\n",
       "      <td>MacKinnon Brothers Red Fox ale</td>\n",
       "      <td>🇨🇦</td>\n",
       "      <td>Flavored - Other</td>\n",
       "      <td>0.0</td>\n",
       "      <td>46</td>\n",
       "      <td>72</td>\n",
       "      <td>3.43</td>\n",
       "      <td>16</td>\n",
       "    </tr>\n",
       "    <tr>\n",
       "      <th>57</th>\n",
       "      <td>Granite Brewery Peculiar (Whiskey Barrel)\\n🇨🇦 ...</td>\n",
       "      <td>Granite Brewery Peculiar (Whiskey Barrel)</td>\n",
       "      <td>🇨🇦</td>\n",
       "      <td>Old Ale</td>\n",
       "      <td>0.0</td>\n",
       "      <td>57</td>\n",
       "      <td>43</td>\n",
       "      <td>3.39</td>\n",
       "      <td>15</td>\n",
       "    </tr>\n",
       "    <tr>\n",
       "      <th>98</th>\n",
       "      <td>Bellwoods Jelly King (Kiwi-Passionfruit)\\n🇨🇦 S...</td>\n",
       "      <td>Bellwoods Jelly King (Kiwi-Passionfruit)</td>\n",
       "      <td>🇨🇦</td>\n",
       "      <td>Sour / Wild Beer - Flavored</td>\n",
       "      <td>NaN</td>\n",
       "      <td>-</td>\n",
       "      <td>-</td>\n",
       "      <td>3.87</td>\n",
       "      <td>6</td>\n",
       "    </tr>\n",
       "    <tr>\n",
       "      <th>113</th>\n",
       "      <td>Peace Tree Cedar Ridge Coffee Stout\\n🇺🇸 Stout ...</td>\n",
       "      <td>Peace Tree Cedar Ridge Coffee Stout</td>\n",
       "      <td>🇺🇸</td>\n",
       "      <td>Stout - Flavored</td>\n",
       "      <td>NaN</td>\n",
       "      <td>-</td>\n",
       "      <td>-</td>\n",
       "      <td>3.80</td>\n",
       "      <td>1</td>\n",
       "    </tr>\n",
       "    <tr>\n",
       "      <th>115</th>\n",
       "      <td>8e Péché Stout Incendiaire (Bourbon &amp; Rye)\\n🇨🇦...</td>\n",
       "      <td>8e Péché Stout Incendiaire (Bourbon &amp; Rye)</td>\n",
       "      <td>🇨🇦</td>\n",
       "      <td>Stout - Imperial Flavored</td>\n",
       "      <td>NaN</td>\n",
       "      <td>-</td>\n",
       "      <td>-</td>\n",
       "      <td>3.90</td>\n",
       "      <td>3</td>\n",
       "    </tr>\n",
       "    <tr>\n",
       "      <th>159</th>\n",
       "      <td>Granite - Toronto Le Cocoa Cherry\\n🇨🇦 Stout - ...</td>\n",
       "      <td>Granite - Toronto Le Cocoa Cherry</td>\n",
       "      <td>🇨🇦</td>\n",
       "      <td>Stout - Flavored</td>\n",
       "      <td>NaN</td>\n",
       "      <td>-</td>\n",
       "      <td>-</td>\n",
       "      <td>3.20</td>\n",
       "      <td>1</td>\n",
       "    </tr>\n",
       "    <tr>\n",
       "      <th>161</th>\n",
       "      <td>Granite -Toronto Le Cocoa Chile\\n🇨🇦 Stout - Fl...</td>\n",
       "      <td>Granite -Toronto Le Cocoa Chile</td>\n",
       "      <td>🇨🇦</td>\n",
       "      <td>Stout - Flavored</td>\n",
       "      <td>NaN</td>\n",
       "      <td>-</td>\n",
       "      <td>-</td>\n",
       "      <td>3.60</td>\n",
       "      <td>1</td>\n",
       "    </tr>\n",
       "    <tr>\n",
       "      <th>173</th>\n",
       "      <td>Counterpart Daybreak\\n🇨🇦 Stout - Flavored\\n-\\n...</td>\n",
       "      <td>Counterpart Daybreak</td>\n",
       "      <td>🇨🇦</td>\n",
       "      <td>Stout - Flavored</td>\n",
       "      <td>NaN</td>\n",
       "      <td>-</td>\n",
       "      <td>-</td>\n",
       "      <td>3.40</td>\n",
       "      <td>1</td>\n",
       "    </tr>\n",
       "    <tr>\n",
       "      <th>178</th>\n",
       "      <td>Rock House When I Whip You Whip Pineapple Whip...</td>\n",
       "      <td>Rock House When I Whip You Whip Pineapple Whip</td>\n",
       "      <td>🇺🇸</td>\n",
       "      <td>Gose - Flavored</td>\n",
       "      <td>NaN</td>\n",
       "      <td>-</td>\n",
       "      <td>-</td>\n",
       "      <td>3.50</td>\n",
       "      <td>1</td>\n",
       "    </tr>\n",
       "    <tr>\n",
       "      <th>208</th>\n",
       "      <td>Harpoon Baltic Porter BA Whistlepig\\n🇺🇸 Porter...</td>\n",
       "      <td>Harpoon Baltic Porter BA Whistlepig</td>\n",
       "      <td>🇺🇸</td>\n",
       "      <td>Porter - Flavored</td>\n",
       "      <td>NaN</td>\n",
       "      <td>-</td>\n",
       "      <td>-</td>\n",
       "      <td>3.80</td>\n",
       "      <td>1</td>\n",
       "    </tr>\n",
       "    <tr>\n",
       "      <th>210</th>\n",
       "      <td>MERIT Expresso Porter\\n🇨🇦 Porter - Flavored\\n-...</td>\n",
       "      <td>MERIT Expresso Porter</td>\n",
       "      <td>🇨🇦</td>\n",
       "      <td>Porter - Flavored</td>\n",
       "      <td>NaN</td>\n",
       "      <td>-</td>\n",
       "      <td>-</td>\n",
       "      <td>3.40</td>\n",
       "      <td>1</td>\n",
       "    </tr>\n",
       "    <tr>\n",
       "      <th>216</th>\n",
       "      <td>Niagara College Teaching White Stout\\n🇨🇦 Stout...</td>\n",
       "      <td>Niagara College Teaching White Stout</td>\n",
       "      <td>🇨🇦</td>\n",
       "      <td>Stout - Milk / Sweet</td>\n",
       "      <td>NaN</td>\n",
       "      <td>-</td>\n",
       "      <td>-</td>\n",
       "      <td>3.00</td>\n",
       "      <td>1</td>\n",
       "    </tr>\n",
       "    <tr>\n",
       "      <th>221</th>\n",
       "      <td>5 Paddles Mike's Special Danger\\n🇨🇦 Stout - Fl...</td>\n",
       "      <td>5 Paddles Mike's Special Danger</td>\n",
       "      <td>🇨🇦</td>\n",
       "      <td>Stout - Flavored</td>\n",
       "      <td>NaN</td>\n",
       "      <td>-</td>\n",
       "      <td>-</td>\n",
       "      <td>3.50</td>\n",
       "      <td>1</td>\n",
       "    </tr>\n",
       "    <tr>\n",
       "      <th>227</th>\n",
       "      <td>Ceria Indiewave (no THC)\\n🇺🇸 Low / No Alcohol ...</td>\n",
       "      <td>Ceria Indiewave (no THC)</td>\n",
       "      <td>🇺🇸</td>\n",
       "      <td>Low / No Alcohol Beer - Pale</td>\n",
       "      <td>NaN</td>\n",
       "      <td>-</td>\n",
       "      <td>-</td>\n",
       "      <td>3.33</td>\n",
       "      <td>3</td>\n",
       "    </tr>\n",
       "    <tr>\n",
       "      <th>259</th>\n",
       "      <td>Turtleback Ridge Maple Oatmeal Stout\\n🇺🇸 Stout...</td>\n",
       "      <td>Turtleback Ridge Maple Oatmeal Stout</td>\n",
       "      <td>🇺🇸</td>\n",
       "      <td>Stout - Oatmeal</td>\n",
       "      <td>NaN</td>\n",
       "      <td>-</td>\n",
       "      <td>-</td>\n",
       "      <td>3.80</td>\n",
       "      <td>1</td>\n",
       "    </tr>\n",
       "  </tbody>\n",
       "</table>\n",
       "</div>"
      ],
      "text/plain": [
       "                                         return_string  \\\n",
       "53   MacKinnon Brothers Red Fox ale\\n🇨🇦 Flavored - ...   \n",
       "57   Granite Brewery Peculiar (Whiskey Barrel)\\n🇨🇦 ...   \n",
       "98   Bellwoods Jelly King (Kiwi-Passionfruit)\\n🇨🇦 S...   \n",
       "113  Peace Tree Cedar Ridge Coffee Stout\\n🇺🇸 Stout ...   \n",
       "115  8e Péché Stout Incendiaire (Bourbon & Rye)\\n🇨🇦...   \n",
       "159  Granite - Toronto Le Cocoa Cherry\\n🇨🇦 Stout - ...   \n",
       "161  Granite -Toronto Le Cocoa Chile\\n🇨🇦 Stout - Fl...   \n",
       "173  Counterpart Daybreak\\n🇨🇦 Stout - Flavored\\n-\\n...   \n",
       "178  Rock House When I Whip You Whip Pineapple Whip...   \n",
       "208  Harpoon Baltic Porter BA Whistlepig\\n🇺🇸 Porter...   \n",
       "210  MERIT Expresso Porter\\n🇨🇦 Porter - Flavored\\n-...   \n",
       "216  Niagara College Teaching White Stout\\n🇨🇦 Stout...   \n",
       "221  5 Paddles Mike's Special Danger\\n🇨🇦 Stout - Fl...   \n",
       "227  Ceria Indiewave (no THC)\\n🇺🇸 Low / No Alcohol ...   \n",
       "259  Turtleback Ridge Maple Oatmeal Stout\\n🇺🇸 Stout...   \n",
       "\n",
       "                                         name_found flag  \\\n",
       "53                   MacKinnon Brothers Red Fox ale   🇨🇦   \n",
       "57        Granite Brewery Peculiar (Whiskey Barrel)   🇨🇦   \n",
       "98         Bellwoods Jelly King (Kiwi-Passionfruit)   🇨🇦   \n",
       "113             Peace Tree Cedar Ridge Coffee Stout   🇺🇸   \n",
       "115      8e Péché Stout Incendiaire (Bourbon & Rye)   🇨🇦   \n",
       "159               Granite - Toronto Le Cocoa Cherry   🇨🇦   \n",
       "161                 Granite -Toronto Le Cocoa Chile   🇨🇦   \n",
       "173                            Counterpart Daybreak   🇨🇦   \n",
       "178  Rock House When I Whip You Whip Pineapple Whip   🇺🇸   \n",
       "208             Harpoon Baltic Porter BA Whistlepig   🇺🇸   \n",
       "210                           MERIT Expresso Porter   🇨🇦   \n",
       "216            Niagara College Teaching White Stout   🇨🇦   \n",
       "221                 5 Paddles Mike's Special Danger   🇨🇦   \n",
       "227                        Ceria Indiewave (no THC)   🇺🇸   \n",
       "259            Turtleback Ridge Maple Oatmeal Stout   🇺🇸   \n",
       "\n",
       "                              type  abv rb_overall_score rb_style_score  \\\n",
       "53                Flavored - Other  0.0               46             72   \n",
       "57                         Old Ale  0.0               57             43   \n",
       "98     Sour / Wild Beer - Flavored  NaN                -              -   \n",
       "113               Stout - Flavored  NaN                -              -   \n",
       "115      Stout - Imperial Flavored  NaN                -              -   \n",
       "159               Stout - Flavored  NaN                -              -   \n",
       "161               Stout - Flavored  NaN                -              -   \n",
       "173               Stout - Flavored  NaN                -              -   \n",
       "178                Gose - Flavored  NaN                -              -   \n",
       "208              Porter - Flavored  NaN                -              -   \n",
       "210              Porter - Flavored  NaN                -              -   \n",
       "216           Stout - Milk / Sweet  NaN                -              -   \n",
       "221               Stout - Flavored  NaN                -              -   \n",
       "227   Low / No Alcohol Beer - Pale  NaN                -              -   \n",
       "259                Stout - Oatmeal  NaN                -              -   \n",
       "\n",
       "    rb_user_rating rb_rating_number  \n",
       "53            3.43               16  \n",
       "57            3.39               15  \n",
       "98            3.87                6  \n",
       "113           3.80                1  \n",
       "115           3.90                3  \n",
       "159           3.20                1  \n",
       "161           3.60                1  \n",
       "173           3.40                1  \n",
       "178           3.50                1  \n",
       "208           3.80                1  \n",
       "210           3.40                1  \n",
       "216           3.00                1  \n",
       "221           3.50                1  \n",
       "227           3.33                3  \n",
       "259           3.80                1  "
      ]
     },
     "execution_count": 76,
     "metadata": {},
     "output_type": "execute_result"
    }
   ],
   "source": [
    "# sorting the no alcohol measure\n",
    "no_alcohol['name_found'] = no_alcohol.return_string.apply(lambda x: x.split('\\n')[0].strip())\n",
    "no_alcohol['flag'] = no_alcohol.return_string.apply(lambda x: x.split('\\n')[1].split('•')[0].split(\" \")[0])\n",
    "no_alcohol['type'] = no_alcohol.return_string.apply(lambda x: x.split('\\n')[1].split('•')[0][2:])\n",
    "no_alcohol['abv'] = no_alcohol.type.apply(lambda x: 0 if x[-1] == '0' else None)\n",
    "no_alcohol['type'] = no_alcohol.type.apply(lambda x: x[:-1] if x[-1] == '0' else x)\n",
    "no_alcohol['check'] = no_alcohol.return_string.apply(lambda x: len(x.split('\\n')))\n",
    "no_alcohol = no_alcohol[no_alcohol['check']>4].copy()\n",
    "no_alcohol['rb_overall_score'] = no_alcohol.return_string.apply(lambda x: x.split('\\n')[2])\n",
    "no_alcohol['rb_style_score'] = no_alcohol.return_string.apply(lambda x: x.split('\\n')[3])\n",
    "no_alcohol['rb_user_rating'] = no_alcohol.return_string.apply(lambda x: x.split('\\n')[4])\n",
    "no_alcohol['rb_rating_number'] = no_alcohol.return_string.apply(lambda x: x.split('\\n')[5].replace(\"(\",\"\").replace(\")\",\"\"))\n",
    "no_alcohol.drop('check',inplace=True, axis=1)\n",
    "\n",
    "no_alcohol"
   ]
  },
  {
   "cell_type": "code",
   "execution_count": 77,
   "metadata": {
    "ExecuteTime": {
     "end_time": "2020-05-06T15:33:48.782494Z",
     "start_time": "2020-05-06T15:33:48.739043Z"
    }
   },
   "outputs": [],
   "source": [
    "beer_df = pd.concat([beer_df,beer_deets,no_alcohol])"
   ]
  },
  {
   "cell_type": "code",
   "execution_count": 78,
   "metadata": {
    "ExecuteTime": {
     "end_time": "2020-05-06T15:33:48.814875Z",
     "start_time": "2020-05-06T15:33:48.790644Z"
    }
   },
   "outputs": [
    {
     "data": {
      "text/html": [
       "<div>\n",
       "<style scoped>\n",
       "    .dataframe tbody tr th:only-of-type {\n",
       "        vertical-align: middle;\n",
       "    }\n",
       "\n",
       "    .dataframe tbody tr th {\n",
       "        vertical-align: top;\n",
       "    }\n",
       "\n",
       "    .dataframe thead th {\n",
       "        text-align: right;\n",
       "    }\n",
       "</style>\n",
       "<table border=\"1\" class=\"dataframe\">\n",
       "  <thead>\n",
       "    <tr style=\"text-align: right;\">\n",
       "      <th></th>\n",
       "      <th>return_string</th>\n",
       "      <th>flag</th>\n",
       "      <th>type</th>\n",
       "      <th>abv</th>\n",
       "      <th>rb_overall_score</th>\n",
       "      <th>rb_style_score</th>\n",
       "      <th>rb_user_rating</th>\n",
       "      <th>rb_rating_number</th>\n",
       "      <th>name_found</th>\n",
       "    </tr>\n",
       "  </thead>\n",
       "  <tbody>\n",
       "    <tr>\n",
       "      <th>0</th>\n",
       "      <td>St. Peter's Ruby Red Ale\\n🇬🇧 Bitter - Ordinary...</td>\n",
       "      <td>🇬🇧</td>\n",
       "      <td>Bitter - Ordinary / Best</td>\n",
       "      <td>4.3</td>\n",
       "      <td>49</td>\n",
       "      <td>95</td>\n",
       "      <td>3.25</td>\n",
       "      <td>415</td>\n",
       "      <td>St. Peter's Ruby Red Ale</td>\n",
       "    </tr>\n",
       "    <tr>\n",
       "      <th>1</th>\n",
       "      <td>Shepherd Neame Spitfire (Bottle)\\n🇬🇧 Bitter - ...</td>\n",
       "      <td>🇬🇧</td>\n",
       "      <td>Bitter - Ordinary / Best</td>\n",
       "      <td>4.5</td>\n",
       "      <td>34</td>\n",
       "      <td>59</td>\n",
       "      <td>3.05</td>\n",
       "      <td>1083</td>\n",
       "      <td>Shepherd Neame Spitfire (Bottle)</td>\n",
       "    </tr>\n",
       "    <tr>\n",
       "      <th>2</th>\n",
       "      <td>Arbor Rocketman\\n🇬🇧 IPA • 6.0%\\n95\\n97\\n3.74\\n...</td>\n",
       "      <td>🇬🇧</td>\n",
       "      <td>IPA</td>\n",
       "      <td>6.0</td>\n",
       "      <td>95</td>\n",
       "      <td>97</td>\n",
       "      <td>3.74</td>\n",
       "      <td>59</td>\n",
       "      <td>Arbor Rocketman</td>\n",
       "    </tr>\n",
       "    <tr>\n",
       "      <th>3</th>\n",
       "      <td>Shepherd Neame India Pale Ale (Bottle)\\n🇬🇧 IPA...</td>\n",
       "      <td>🇬🇧</td>\n",
       "      <td>IPA - English</td>\n",
       "      <td>6.1</td>\n",
       "      <td>46</td>\n",
       "      <td>47</td>\n",
       "      <td>3.22</td>\n",
       "      <td>420</td>\n",
       "      <td>Shepherd Neame India Pale Ale (Bottle)</td>\n",
       "    </tr>\n",
       "    <tr>\n",
       "      <th>4</th>\n",
       "      <td>Shepherd Neame Christmas Ale\\n🇬🇧 Strong Ale - ...</td>\n",
       "      <td>🇬🇧</td>\n",
       "      <td>Strong Ale - English</td>\n",
       "      <td>7.0</td>\n",
       "      <td>45</td>\n",
       "      <td>46</td>\n",
       "      <td>3.18</td>\n",
       "      <td>409</td>\n",
       "      <td>Shepherd Neame Christmas Ale</td>\n",
       "    </tr>\n",
       "    <tr>\n",
       "      <th>...</th>\n",
       "      <td>...</td>\n",
       "      <td>...</td>\n",
       "      <td>...</td>\n",
       "      <td>...</td>\n",
       "      <td>...</td>\n",
       "      <td>...</td>\n",
       "      <td>...</td>\n",
       "      <td>...</td>\n",
       "      <td>...</td>\n",
       "    </tr>\n",
       "    <tr>\n",
       "      <th>210</th>\n",
       "      <td>MERIT Expresso Porter\\n🇨🇦 Porter - Flavored\\n-...</td>\n",
       "      <td>🇨🇦</td>\n",
       "      <td>Porter - Flavored</td>\n",
       "      <td>NaN</td>\n",
       "      <td>-</td>\n",
       "      <td>-</td>\n",
       "      <td>3.40</td>\n",
       "      <td>1</td>\n",
       "      <td>MERIT Expresso Porter</td>\n",
       "    </tr>\n",
       "    <tr>\n",
       "      <th>216</th>\n",
       "      <td>Niagara College Teaching White Stout\\n🇨🇦 Stout...</td>\n",
       "      <td>🇨🇦</td>\n",
       "      <td>Stout - Milk / Sweet</td>\n",
       "      <td>NaN</td>\n",
       "      <td>-</td>\n",
       "      <td>-</td>\n",
       "      <td>3.00</td>\n",
       "      <td>1</td>\n",
       "      <td>Niagara College Teaching White Stout</td>\n",
       "    </tr>\n",
       "    <tr>\n",
       "      <th>221</th>\n",
       "      <td>5 Paddles Mike's Special Danger\\n🇨🇦 Stout - Fl...</td>\n",
       "      <td>🇨🇦</td>\n",
       "      <td>Stout - Flavored</td>\n",
       "      <td>NaN</td>\n",
       "      <td>-</td>\n",
       "      <td>-</td>\n",
       "      <td>3.50</td>\n",
       "      <td>1</td>\n",
       "      <td>5 Paddles Mike's Special Danger</td>\n",
       "    </tr>\n",
       "    <tr>\n",
       "      <th>227</th>\n",
       "      <td>Ceria Indiewave (no THC)\\n🇺🇸 Low / No Alcohol ...</td>\n",
       "      <td>🇺🇸</td>\n",
       "      <td>Low / No Alcohol Beer - Pale</td>\n",
       "      <td>NaN</td>\n",
       "      <td>-</td>\n",
       "      <td>-</td>\n",
       "      <td>3.33</td>\n",
       "      <td>3</td>\n",
       "      <td>Ceria Indiewave (no THC)</td>\n",
       "    </tr>\n",
       "    <tr>\n",
       "      <th>259</th>\n",
       "      <td>Turtleback Ridge Maple Oatmeal Stout\\n🇺🇸 Stout...</td>\n",
       "      <td>🇺🇸</td>\n",
       "      <td>Stout - Oatmeal</td>\n",
       "      <td>NaN</td>\n",
       "      <td>-</td>\n",
       "      <td>-</td>\n",
       "      <td>3.80</td>\n",
       "      <td>1</td>\n",
       "      <td>Turtleback Ridge Maple Oatmeal Stout</td>\n",
       "    </tr>\n",
       "  </tbody>\n",
       "</table>\n",
       "<p>8774 rows × 9 columns</p>\n",
       "</div>"
      ],
      "text/plain": [
       "                                         return_string flag  \\\n",
       "0    St. Peter's Ruby Red Ale\\n🇬🇧 Bitter - Ordinary...   🇬🇧   \n",
       "1    Shepherd Neame Spitfire (Bottle)\\n🇬🇧 Bitter - ...   🇬🇧   \n",
       "2    Arbor Rocketman\\n🇬🇧 IPA • 6.0%\\n95\\n97\\n3.74\\n...   🇬🇧   \n",
       "3    Shepherd Neame India Pale Ale (Bottle)\\n🇬🇧 IPA...   🇬🇧   \n",
       "4    Shepherd Neame Christmas Ale\\n🇬🇧 Strong Ale - ...   🇬🇧   \n",
       "..                                                 ...  ...   \n",
       "210  MERIT Expresso Porter\\n🇨🇦 Porter - Flavored\\n-...   🇨🇦   \n",
       "216  Niagara College Teaching White Stout\\n🇨🇦 Stout...   🇨🇦   \n",
       "221  5 Paddles Mike's Special Danger\\n🇨🇦 Stout - Fl...   🇨🇦   \n",
       "227  Ceria Indiewave (no THC)\\n🇺🇸 Low / No Alcohol ...   🇺🇸   \n",
       "259  Turtleback Ridge Maple Oatmeal Stout\\n🇺🇸 Stout...   🇺🇸   \n",
       "\n",
       "                              type  abv rb_overall_score rb_style_score  \\\n",
       "0        Bitter - Ordinary / Best   4.3               49             95   \n",
       "1        Bitter - Ordinary / Best   4.5               34             59   \n",
       "2                             IPA   6.0               95             97   \n",
       "3                   IPA - English   6.1               46             47   \n",
       "4            Strong Ale - English   7.0               45             46   \n",
       "..                             ...  ...              ...            ...   \n",
       "210              Porter - Flavored  NaN                -              -   \n",
       "216           Stout - Milk / Sweet  NaN                -              -   \n",
       "221               Stout - Flavored  NaN                -              -   \n",
       "227   Low / No Alcohol Beer - Pale  NaN                -              -   \n",
       "259                Stout - Oatmeal  NaN                -              -   \n",
       "\n",
       "    rb_user_rating rb_rating_number                              name_found  \n",
       "0             3.25              415                St. Peter's Ruby Red Ale  \n",
       "1             3.05             1083        Shepherd Neame Spitfire (Bottle)  \n",
       "2             3.74               59                         Arbor Rocketman  \n",
       "3             3.22              420  Shepherd Neame India Pale Ale (Bottle)  \n",
       "4             3.18              409            Shepherd Neame Christmas Ale  \n",
       "..             ...              ...                                     ...  \n",
       "210           3.40                1                   MERIT Expresso Porter  \n",
       "216           3.00                1    Niagara College Teaching White Stout  \n",
       "221           3.50                1         5 Paddles Mike's Special Danger  \n",
       "227           3.33                3                Ceria Indiewave (no THC)  \n",
       "259           3.80                1    Turtleback Ridge Maple Oatmeal Stout  \n",
       "\n",
       "[8774 rows x 9 columns]"
      ]
     },
     "execution_count": 78,
     "metadata": {},
     "output_type": "execute_result"
    }
   ],
   "source": [
    "beer_df"
   ]
  },
  {
   "cell_type": "code",
   "execution_count": 79,
   "metadata": {
    "ExecuteTime": {
     "end_time": "2020-05-06T15:33:48.853161Z",
     "start_time": "2020-05-06T15:33:48.820865Z"
    }
   },
   "outputs": [
    {
     "name": "stdout",
     "output_type": "stream",
     "text": [
      "There are 8 new beers that were not found or returned errors. They will be added to the no search list.\n"
     ]
    }
   ],
   "source": [
    "# compare to the unique list to create a new to-be-scraped list\n",
    "not_found_beer = df.beer_name[~df.beer_name.isin(beer_df.name_found)].unique()\n",
    "print(\"There are\", len(not_found_beer)-len(not_found_df), \"new beers that were not found or returned errors. They will be added to the no search list.\")\n",
    "not_found_df = pd.concat([not_found_df,pd.DataFrame(not_found_beer,columns = [\"not_found\"])])\n",
    "not_found_df.drop_duplicates(inplace=True)"
   ]
  },
  {
   "cell_type": "code",
   "execution_count": 80,
   "metadata": {
    "ExecuteTime": {
     "end_time": "2020-05-06T15:33:48.937720Z",
     "start_time": "2020-05-06T15:33:48.857848Z"
    }
   },
   "outputs": [],
   "source": [
    "beer_df.to_csv('beer_deets.csv',index=False)\n",
    "not_found_df.to_csv(\"not_found.csv\", index=False)"
   ]
  },
  {
   "cell_type": "code",
   "execution_count": null,
   "metadata": {
    "ExecuteTime": {
     "end_time": "2020-05-05T14:04:40.065563Z",
     "start_time": "2020-05-05T14:04:40.053981Z"
    }
   },
   "outputs": [],
   "source": []
  },
  {
   "cell_type": "code",
   "execution_count": null,
   "metadata": {},
   "outputs": [],
   "source": []
  }
 ],
 "metadata": {
  "kernelspec": {
   "display_name": "Python 3",
   "language": "python",
   "name": "python3"
  },
  "language_info": {
   "codemirror_mode": {
    "name": "ipython",
    "version": 3
   },
   "file_extension": ".py",
   "mimetype": "text/x-python",
   "name": "python",
   "nbconvert_exporter": "python",
   "pygments_lexer": "ipython3",
   "version": "3.7.1"
  },
  "toc": {
   "base_numbering": 1,
   "nav_menu": {},
   "number_sections": true,
   "sideBar": true,
   "skip_h1_title": false,
   "title_cell": "Table of Contents",
   "title_sidebar": "Contents",
   "toc_cell": false,
   "toc_position": {},
   "toc_section_display": true,
   "toc_window_display": false
  },
  "varInspector": {
   "cols": {
    "lenName": 16,
    "lenType": 16,
    "lenVar": 40
   },
   "kernels_config": {
    "python": {
     "delete_cmd_postfix": "",
     "delete_cmd_prefix": "del ",
     "library": "var_list.py",
     "varRefreshCmd": "print(var_dic_list())"
    },
    "r": {
     "delete_cmd_postfix": ") ",
     "delete_cmd_prefix": "rm(",
     "library": "var_list.r",
     "varRefreshCmd": "cat(var_dic_list()) "
    }
   },
   "types_to_exclude": [
    "module",
    "function",
    "builtin_function_or_method",
    "instance",
    "_Feature"
   ],
   "window_display": false
  }
 },
 "nbformat": 4,
 "nbformat_minor": 4
}
