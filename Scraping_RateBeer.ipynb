{
 "cells": [
  {
   "cell_type": "code",
   "execution_count": 145,
   "metadata": {
    "ExecuteTime": {
     "end_time": "2020-06-02T08:15:00.236408Z",
     "start_time": "2020-06-02T08:15:00.145802Z"
    }
   },
   "outputs": [],
   "source": [
    "import requests\n",
    "import bs4\n",
    "from bs4 import BeautifulSoup\n",
    "import pandas as pd\n",
    "import re\n",
    "from tqdm.notebook import tqdm\n",
    "import matplotlib.pyplot as plt\n",
    "import seaborn as sns"
   ]
  },
  {
   "cell_type": "markdown",
   "metadata": {},
   "source": [
    "## Code which scrapes the recently reviews (only 100 pages - 1,400 reviews)"
   ]
  },
  {
   "cell_type": "code",
   "execution_count": 146,
   "metadata": {
    "ExecuteTime": {
     "end_time": "2020-06-02T08:15:00.349032Z",
     "start_time": "2020-06-02T08:15:00.260303Z"
    }
   },
   "outputs": [],
   "source": [
    "\n",
    "def ratebeer_scraper(page_start=1, page_end=2, url_set=None):\n",
    "    \n",
    "    beer_name = []\n",
    "    beer_rating = []\n",
    "    brewery_name = []\n",
    "    brewery_location = []\n",
    "    review_content = []\n",
    "    reviewer_name = []\n",
    " \n",
    "    if url_set == None:\n",
    "        print(\"Need url to run\")\n",
    "        return\n",
    "\n",
    "    for x in tqdm(range(page_start, page_end + 1)):\n",
    "        try:\n",
    "            url_format = url_set.format(x)\n",
    "            r = requests.get(url_format)\n",
    "            soup = BeautifulSoup(r.text, 'html.parser')\n",
    "            table = soup.find('table', attrs={'class': 'table'})\n",
    "            table_rows = table.find_all('tr')\n",
    "\n",
    "            for rows in table_rows:\n",
    "\n",
    "            # Scrape Beer Name    \n",
    "                try:\n",
    "                    beer_name.append(rows.find('a', attrs={'style':'font-size:20px; font-weight:bold;'}).text)\n",
    "                except:\n",
    "                    beer_name.append(None)\n",
    "            # Scrape Review Rating  \n",
    "                try:\n",
    "                    beer_rating.append(rows.find('span', attrs={'class':'uas'}).text)\n",
    "                except:\n",
    "                    beer_rating.append(None)\n",
    "            # Scrape Brewery Name  \n",
    "                try:\n",
    "                    brewery_div = rows.find('div')\n",
    "                    brewery_name.append(brewery_div.a.text)\n",
    "                except:\n",
    "                    brewery_name.append(None)\n",
    "            # Scrape Brewery Location\n",
    "                try:\n",
    "                    brewery_location.append(rows.find('span', attrs={'class':'small'}).text.strip())\n",
    "                except:\n",
    "                    brewery_location.append(None)\n",
    "            # Scrape Reviewer Name\n",
    "                try:\n",
    "                    reviewer_name.append(rows.find('span', attrs={'class':'pull-right'}).text.strip())\n",
    "                except:\n",
    "                    reviewer_name.append(None)\n",
    "            # Scrape content\n",
    "                try:\n",
    "                    review_content.append(rows.find('div', attrs={'style':\"color:#666;\"}).text.strip())\n",
    "                except:\n",
    "                    review_content.append(None)\n",
    "        except:\n",
    "            pass\n",
    "\n",
    "    beerz = pd.DataFrame({'beer_name': beer_name,\n",
    "                         'beer_rating': beer_rating,\n",
    "                        'brewery_name': brewery_name,\n",
    "                         'brewery_location': brewery_location,\n",
    "                        'review_content': review_content,\n",
    "                        'reviewer_name': reviewer_name})\n",
    "    return beerz\n",
    "\n"
   ]
  },
  {
   "cell_type": "code",
   "execution_count": 147,
   "metadata": {
    "ExecuteTime": {
     "end_time": "2020-06-02T08:19:22.946183Z",
     "start_time": "2020-06-02T08:15:00.357638Z"
    }
   },
   "outputs": [
    {
     "data": {
      "application/vnd.jupyter.widget-view+json": {
       "model_id": "5a4be15f3b1f467b8148e3c03d982445",
       "version_major": 2,
       "version_minor": 0
      },
      "text/plain": [
       "HBox(children=(FloatProgress(value=0.0, max=101.0), HTML(value='')))"
      ]
     },
     "metadata": {},
     "output_type": "display_data"
    },
    {
     "name": "stdout",
     "output_type": "stream",
     "text": [
      "\n"
     ]
    },
    {
     "data": {
      "application/vnd.jupyter.widget-view+json": {
       "model_id": "4f8aa388339940958c54c42e5c5901f8",
       "version_major": 2,
       "version_minor": 0
      },
      "text/plain": [
       "HBox(children=(FloatProgress(value=0.0, max=11.0), HTML(value='')))"
      ]
     },
     "metadata": {},
     "output_type": "display_data"
    },
    {
     "name": "stdout",
     "output_type": "stream",
     "text": [
      "\n"
     ]
    },
    {
     "data": {
      "application/vnd.jupyter.widget-view+json": {
       "model_id": "a8fffe8be96746ad9a6fd24a19f70e53",
       "version_major": 2,
       "version_minor": 0
      },
      "text/plain": [
       "HBox(children=(FloatProgress(value=0.0, max=51.0), HTML(value='')))"
      ]
     },
     "metadata": {},
     "output_type": "display_data"
    },
    {
     "name": "stdout",
     "output_type": "stream",
     "text": [
      "\n"
     ]
    },
    {
     "data": {
      "application/vnd.jupyter.widget-view+json": {
       "model_id": "ef2de11f1a2448c39ddf595ea3fa8019",
       "version_major": 2,
       "version_minor": 0
      },
      "text/plain": [
       "HBox(children=(FloatProgress(value=0.0, max=51.0), HTML(value='')))"
      ]
     },
     "metadata": {},
     "output_type": "display_data"
    },
    {
     "name": "stdout",
     "output_type": "stream",
     "text": [
      "\n"
     ]
    },
    {
     "data": {
      "application/vnd.jupyter.widget-view+json": {
       "model_id": "949baaf039f64058a010087d8d26c0d3",
       "version_major": 2,
       "version_minor": 0
      },
      "text/plain": [
       "HBox(children=(FloatProgress(value=0.0, max=51.0), HTML(value='')))"
      ]
     },
     "metadata": {},
     "output_type": "display_data"
    },
    {
     "name": "stdout",
     "output_type": "stream",
     "text": [
      "\n"
     ]
    },
    {
     "data": {
      "application/vnd.jupyter.widget-view+json": {
       "model_id": "a183e183750b42d1a6575ac17767f037",
       "version_major": 2,
       "version_minor": 0
      },
      "text/plain": [
       "HBox(children=(FloatProgress(value=0.0, max=51.0), HTML(value='')))"
      ]
     },
     "metadata": {},
     "output_type": "display_data"
    },
    {
     "name": "stdout",
     "output_type": "stream",
     "text": [
      "\n"
     ]
    }
   ],
   "source": [
    "# Scraping most recent reviews\n",
    "url = 'https://www.ratebeer.com/beer-ratings/0/{}/'\n",
    "df_recent = ratebeer_scraper(0,100,url)\n",
    "\n",
    "# Scraping new beers\n",
    "url = 'https://www.ratebeer.com/beer-ratings/5/{}/'\n",
    "df_new = ratebeer_scraper(0,10,url)\n",
    "\n",
    "# Scraping fave beers\n",
    "url = 'https://www.ratebeer.com/beer-ratings/4/{}/'\n",
    "df_fave = ratebeer_scraper(0,50,url)\n",
    "\n",
    "# Scraping rave beers\n",
    "url = 'https://www.ratebeer.com/beer-ratings/1/{}/'\n",
    "df_rave = ratebeer_scraper(0,50,url)\n",
    "\n",
    "# Scraping rant beers\n",
    "url = 'https://www.ratebeer.com/beer-ratings/2/{}/'\n",
    "df_rant = ratebeer_scraper(0,50,url)\n",
    "\n",
    "# Scraping anomalous beers\n",
    "url = 'https://www.ratebeer.com/beer-ratings/3/{}/'\n",
    "df_anom = ratebeer_scraper(0,50,url)"
   ]
  },
  {
   "cell_type": "code",
   "execution_count": 148,
   "metadata": {
    "ExecuteTime": {
     "end_time": "2020-06-02T08:19:22.987971Z",
     "start_time": "2020-06-02T08:19:22.953456Z"
    }
   },
   "outputs": [],
   "source": [
    "# getting rid of non-ascii characters from the reviews as it breaks csv\n",
    "try:\n",
    "    df_rave.review_content = df_rave.review_content.apply(lambda x: x.encode('ascii', 'ignore').decode('ascii'))\n",
    "except:\n",
    "    pass"
   ]
  },
  {
   "cell_type": "code",
   "execution_count": 149,
   "metadata": {
    "ExecuteTime": {
     "end_time": "2020-06-02T08:19:23.188826Z",
     "start_time": "2020-06-02T08:19:22.992341Z"
    }
   },
   "outputs": [],
   "source": [
    "# read current data from csv (there is a backup at all_reviews_backup.csv)\n",
    "df = pd.read_csv('all_reviews.csv')"
   ]
  },
  {
   "cell_type": "code",
   "execution_count": 150,
   "metadata": {
    "ExecuteTime": {
     "end_time": "2020-06-02T08:19:23.341428Z",
     "start_time": "2020-06-02T08:19:23.191291Z"
    }
   },
   "outputs": [
    {
     "name": "stdout",
     "output_type": "stream",
     "text": [
      "34302\n",
      "31147\n"
     ]
    }
   ],
   "source": [
    "# concatenating all of the scrapes together with the old df\n",
    "try:\n",
    "    df = pd.concat([df, df_recent, df_new, df_fave, df_rave, df_rant, df_anom])\n",
    "except:\n",
    "    df = pd.concat([df, df_recent])\n",
    "print(len(df))\n",
    "df.drop_duplicates(inplace=True)\n",
    "print(len(df))\n",
    "df.beer_name = df.beer_name.apply(lambda x: x.strip())\n",
    "\n"
   ]
  },
  {
   "cell_type": "code",
   "execution_count": 151,
   "metadata": {
    "ExecuteTime": {
     "end_time": "2020-06-02T08:19:23.368986Z",
     "start_time": "2020-06-02T08:19:23.343267Z"
    }
   },
   "outputs": [
    {
     "data": {
      "text/html": [
       "<div>\n",
       "<style scoped>\n",
       "    .dataframe tbody tr th:only-of-type {\n",
       "        vertical-align: middle;\n",
       "    }\n",
       "\n",
       "    .dataframe tbody tr th {\n",
       "        vertical-align: top;\n",
       "    }\n",
       "\n",
       "    .dataframe thead th {\n",
       "        text-align: right;\n",
       "    }\n",
       "</style>\n",
       "<table border=\"1\" class=\"dataframe\">\n",
       "  <thead>\n",
       "    <tr style=\"text-align: right;\">\n",
       "      <th></th>\n",
       "      <th>beer_name</th>\n",
       "      <th>beer_rating</th>\n",
       "      <th>brewery_location</th>\n",
       "      <th>brewery_name</th>\n",
       "      <th>review_content</th>\n",
       "      <th>reviewer_name</th>\n",
       "    </tr>\n",
       "  </thead>\n",
       "  <tbody>\n",
       "    <tr>\n",
       "      <th>0</th>\n",
       "      <td>St. Peter's Ruby Red Ale</td>\n",
       "      <td>3.3</td>\n",
       "      <td>Bungay, Suffolk</td>\n",
       "      <td>St. Peter's Brewery</td>\n",
       "      <td>Ruby color, offwhite coam. Aroma and taste: fl...</td>\n",
       "      <td>alex_leit</td>\n",
       "    </tr>\n",
       "    <tr>\n",
       "      <th>1</th>\n",
       "      <td>Shepherd Neame Spitfire (Bottle)</td>\n",
       "      <td>2.2</td>\n",
       "      <td>Faversham, Kent</td>\n",
       "      <td>Shepherd Neame</td>\n",
       "      <td>Disappointing show from the lads at ‘Britain’s...</td>\n",
       "      <td>shivermetimber.gray</td>\n",
       "    </tr>\n",
       "    <tr>\n",
       "      <th>2</th>\n",
       "      <td>Arbor Rocketman</td>\n",
       "      <td>3.8</td>\n",
       "      <td>Bristol, Gloucestershire</td>\n",
       "      <td>Arbor Ales</td>\n",
       "      <td>Puszka. Mętne o żółtym kolorze. Piana biała,ob...</td>\n",
       "      <td>MarcinG</td>\n",
       "    </tr>\n",
       "    <tr>\n",
       "      <th>3</th>\n",
       "      <td>Shepherd Neame India Pale Ale (Bottle)</td>\n",
       "      <td>3.4</td>\n",
       "      <td>Faversham, Kent</td>\n",
       "      <td>Shepherd Neame</td>\n",
       "      <td>Bottle. Amber with bronze color and white foam...</td>\n",
       "      <td>alex_leit</td>\n",
       "    </tr>\n",
       "    <tr>\n",
       "      <th>4</th>\n",
       "      <td>Shepherd Neame Christmas Ale</td>\n",
       "      <td>3.3</td>\n",
       "      <td>Faversham, Kent</td>\n",
       "      <td>Shepherd Neame</td>\n",
       "      <td>Bottle. Aroma: English hops and malts with tof...</td>\n",
       "      <td>alex_leit</td>\n",
       "    </tr>\n",
       "    <tr>\n",
       "      <th>...</th>\n",
       "      <td>...</td>\n",
       "      <td>...</td>\n",
       "      <td>...</td>\n",
       "      <td>...</td>\n",
       "      <td>...</td>\n",
       "      <td>...</td>\n",
       "    </tr>\n",
       "    <tr>\n",
       "      <th>760</th>\n",
       "      <td>Perlenbacher Lager</td>\n",
       "      <td>3.7</td>\n",
       "      <td>+1.4</td>\n",
       "      <td>Lidl Europe</td>\n",
       "      <td>Nice beer. Even nicer when it's really cold. B...</td>\n",
       "      <td>BarleyScout55</td>\n",
       "    </tr>\n",
       "    <tr>\n",
       "      <th>761</th>\n",
       "      <td>Northern Monk Patrons Project 14.05 King - Gra...</td>\n",
       "      <td>1.4</td>\n",
       "      <td>-1.8</td>\n",
       "      <td>Northern Monk Brew Co.</td>\n",
       "      <td>440ml can at We Brought Beer, Tooting.  Murky ...</td>\n",
       "      <td>Beese</td>\n",
       "    </tr>\n",
       "    <tr>\n",
       "      <th>762</th>\n",
       "      <td>North High Grapefruit Walleye</td>\n",
       "      <td>1.5</td>\n",
       "      <td>-1.8</td>\n",
       "      <td>North High Brewing</td>\n",
       "      <td>$2 orange can as pictured. First thought? Who ...</td>\n",
       "      <td>cheap</td>\n",
       "    </tr>\n",
       "    <tr>\n",
       "      <th>763</th>\n",
       "      <td>Harboe Dansk Julebryg</td>\n",
       "      <td>5.0</td>\n",
       "      <td>+2.8</td>\n",
       "      <td>Harboes Bryggeri</td>\n",
       "      <td>Rigtig dejlig juleøl til billige penge! En sik...</td>\n",
       "      <td>FrederikThordal</td>\n",
       "    </tr>\n",
       "    <tr>\n",
       "      <th>764</th>\n",
       "      <td>Kaltenecker Chilli Pivo</td>\n",
       "      <td>1.0</td>\n",
       "      <td>-1.8</td>\n",
       "      <td>Pivovar Kaltenecker</td>\n",
       "      <td>On tap @ Főzdefeszt. Dark amber colour with sm...</td>\n",
       "      <td>pityu</td>\n",
       "    </tr>\n",
       "  </tbody>\n",
       "</table>\n",
       "<p>31147 rows × 6 columns</p>\n",
       "</div>"
      ],
      "text/plain": [
       "                                             beer_name beer_rating  \\\n",
       "0                             St. Peter's Ruby Red Ale         3.3   \n",
       "1                     Shepherd Neame Spitfire (Bottle)         2.2   \n",
       "2                                      Arbor Rocketman         3.8   \n",
       "3               Shepherd Neame India Pale Ale (Bottle)         3.4   \n",
       "4                         Shepherd Neame Christmas Ale         3.3   \n",
       "..                                                 ...         ...   \n",
       "760                                 Perlenbacher Lager         3.7   \n",
       "761  Northern Monk Patrons Project 14.05 King - Gra...         1.4   \n",
       "762                      North High Grapefruit Walleye         1.5   \n",
       "763                              Harboe Dansk Julebryg         5.0   \n",
       "764                            Kaltenecker Chilli Pivo         1.0   \n",
       "\n",
       "             brewery_location            brewery_name  \\\n",
       "0             Bungay, Suffolk     St. Peter's Brewery   \n",
       "1             Faversham, Kent          Shepherd Neame   \n",
       "2    Bristol, Gloucestershire              Arbor Ales   \n",
       "3             Faversham, Kent          Shepherd Neame   \n",
       "4             Faversham, Kent          Shepherd Neame   \n",
       "..                        ...                     ...   \n",
       "760                      +1.4             Lidl Europe   \n",
       "761                      -1.8  Northern Monk Brew Co.   \n",
       "762                      -1.8      North High Brewing   \n",
       "763                      +2.8        Harboes Bryggeri   \n",
       "764                      -1.8     Pivovar Kaltenecker   \n",
       "\n",
       "                                        review_content        reviewer_name  \n",
       "0    Ruby color, offwhite coam. Aroma and taste: fl...            alex_leit  \n",
       "1    Disappointing show from the lads at ‘Britain’s...  shivermetimber.gray  \n",
       "2    Puszka. Mętne o żółtym kolorze. Piana biała,ob...              MarcinG  \n",
       "3    Bottle. Amber with bronze color and white foam...            alex_leit  \n",
       "4    Bottle. Aroma: English hops and malts with tof...            alex_leit  \n",
       "..                                                 ...                  ...  \n",
       "760  Nice beer. Even nicer when it's really cold. B...        BarleyScout55  \n",
       "761  440ml can at We Brought Beer, Tooting.  Murky ...                Beese  \n",
       "762  $2 orange can as pictured. First thought? Who ...                cheap  \n",
       "763  Rigtig dejlig juleøl til billige penge! En sik...      FrederikThordal  \n",
       "764  On tap @ Főzdefeszt. Dark amber colour with sm...                pityu  \n",
       "\n",
       "[31147 rows x 6 columns]"
      ]
     },
     "execution_count": 151,
     "metadata": {},
     "output_type": "execute_result"
    }
   ],
   "source": [
    "df"
   ]
  },
  {
   "cell_type": "code",
   "execution_count": 152,
   "metadata": {
    "ExecuteTime": {
     "end_time": "2020-06-02T08:19:23.839449Z",
     "start_time": "2020-06-02T08:19:23.370868Z"
    }
   },
   "outputs": [],
   "source": [
    "df.to_csv('all_reviews.csv',index=False)\n",
    "# df = pd.read_csv('all_reviews.csv')\n",
    "not_found_df = pd.read_csv(\"not_found.csv\")"
   ]
  },
  {
   "cell_type": "markdown",
   "metadata": {},
   "source": [
    "## Get more information on all of the beers - Selenium"
   ]
  },
  {
   "cell_type": "code",
   "execution_count": 153,
   "metadata": {
    "ExecuteTime": {
     "end_time": "2020-06-02T08:19:23.848368Z",
     "start_time": "2020-06-02T08:19:23.844925Z"
    }
   },
   "outputs": [],
   "source": [
    "from selenium import webdriver\n",
    "import time"
   ]
  },
  {
   "cell_type": "code",
   "execution_count": 154,
   "metadata": {
    "ExecuteTime": {
     "end_time": "2020-06-02T08:19:23.916211Z",
     "start_time": "2020-06-02T08:19:23.852994Z"
    }
   },
   "outputs": [],
   "source": [
    "# extract already scraped data from previous scrapes so don't rescrape\n",
    "beer_df = pd.read_csv('beer_deets.csv')"
   ]
  },
  {
   "cell_type": "code",
   "execution_count": 155,
   "metadata": {
    "ExecuteTime": {
     "end_time": "2020-06-02T08:19:23.951878Z",
     "start_time": "2020-06-02T08:19:23.925317Z"
    }
   },
   "outputs": [
    {
     "name": "stdout",
     "output_type": "stream",
     "text": [
      "There are 251 new beers to search for!\n"
     ]
    }
   ],
   "source": [
    "# compare to the unique list to create a new to-be-scraped list\n",
    "new_beer = df.beer_name[(~df.beer_name.isin(beer_df.name_found))&(~df.beer_name.isin(not_found_df.not_found))].unique()\n",
    "print(\"There are\", len(new_beer), \"new beers to search for!\")"
   ]
  },
  {
   "cell_type": "code",
   "execution_count": 156,
   "metadata": {
    "ExecuteTime": {
     "end_time": "2020-06-02T08:31:34.892434Z",
     "start_time": "2020-06-02T08:19:23.955840Z"
    }
   },
   "outputs": [
    {
     "data": {
      "application/vnd.jupyter.widget-view+json": {
       "model_id": "040b1c7d771d44edbc83a886730b916e",
       "version_major": 2,
       "version_minor": 0
      },
      "text/plain": [
       "HBox(children=(FloatProgress(value=0.0, max=251.0), HTML(value='')))"
      ]
     },
     "metadata": {},
     "output_type": "display_data"
    },
    {
     "name": "stdout",
     "output_type": "stream",
     "text": [
      "\n"
     ]
    }
   ],
   "source": [
    "item_names = []\n",
    "desc_string = []\n",
    "\n",
    "driver = webdriver.Chrome(executable_path='/Users/lukebetham/Downloads/chromedriver1')\n",
    "\n",
    "for beer in tqdm(new_beer):\n",
    "    driver.get(\"https://www.ratebeer.com/search?beername={}\".format(beer))\n",
    "    time.sleep(2)\n",
    "    item_tags = driver.find_elements_by_class_name('fg-1')\n",
    "\n",
    "    x=1\n",
    "    beer_temp = []\n",
    "    for item in item_tags:        \n",
    "        if x <2:\n",
    "            try:\n",
    "                item_names.append(item.find_element_by_class_name('fd-r').text)\n",
    "                x+=1\n",
    "            except:\n",
    "                pass\n",
    "            try:\n",
    "                beer_temp.append(item.text)\n",
    "            except:\n",
    "                pass\n",
    "    try:\n",
    "        desc_string.append(beer_temp[4])\n",
    "    except:\n",
    "        desc_string.append(None)\n",
    "\n",
    "driver.quit()"
   ]
  },
  {
   "cell_type": "code",
   "execution_count": 157,
   "metadata": {
    "ExecuteTime": {
     "end_time": "2020-06-02T08:31:35.076920Z",
     "start_time": "2020-06-02T08:31:34.904637Z"
    }
   },
   "outputs": [
    {
     "data": {
      "text/html": [
       "<div>\n",
       "<style scoped>\n",
       "    .dataframe tbody tr th:only-of-type {\n",
       "        vertical-align: middle;\n",
       "    }\n",
       "\n",
       "    .dataframe tbody tr th {\n",
       "        vertical-align: top;\n",
       "    }\n",
       "\n",
       "    .dataframe thead th {\n",
       "        text-align: right;\n",
       "    }\n",
       "</style>\n",
       "<table border=\"1\" class=\"dataframe\">\n",
       "  <thead>\n",
       "    <tr style=\"text-align: right;\">\n",
       "      <th></th>\n",
       "      <th>return_string</th>\n",
       "    </tr>\n",
       "  </thead>\n",
       "  <tbody>\n",
       "    <tr>\n",
       "      <th>0</th>\n",
       "      <td>Logo\\nThe most comprehensive ratings and revie...</td>\n",
       "    </tr>\n",
       "    <tr>\n",
       "      <th>1</th>\n",
       "      <td>Schulten Bräu Premium Pilsener\\n🇩🇪 Pilsener / ...</td>\n",
       "    </tr>\n",
       "    <tr>\n",
       "      <th>2</th>\n",
       "      <td>None</td>\n",
       "    </tr>\n",
       "    <tr>\n",
       "      <th>3</th>\n",
       "      <td>Calusa Citronious Biggest\\n🇺🇸 IIPA DIPA - Hazy...</td>\n",
       "    </tr>\n",
       "    <tr>\n",
       "      <th>4</th>\n",
       "      <td>Steam Hollow It’s A Pittie Rhapsody\\n🇺🇸 Pilsen...</td>\n",
       "    </tr>\n",
       "    <tr>\n",
       "      <th>...</th>\n",
       "      <td>...</td>\n",
       "    </tr>\n",
       "    <tr>\n",
       "      <th>246</th>\n",
       "      <td>Bombardier Burning Gold (Cask)\\n🇬🇧 Blonde Ale ...</td>\n",
       "    </tr>\n",
       "    <tr>\n",
       "      <th>247</th>\n",
       "      <td>Wild Leap Too Pure To Be Pink\\n🇺🇸 IIPA DIPA - ...</td>\n",
       "    </tr>\n",
       "    <tr>\n",
       "      <th>248</th>\n",
       "      <td>Drekker Braaaaaaaains - Stawberry &amp; Guava\\n🇺🇸 ...</td>\n",
       "    </tr>\n",
       "    <tr>\n",
       "      <th>249</th>\n",
       "      <td>Big Smoke / Brewgooder Inner Flight\\n🇬🇧 IPA - ...</td>\n",
       "    </tr>\n",
       "    <tr>\n",
       "      <th>250</th>\n",
       "      <td>Alvarado Street / Pure Project Murkaholics\\n🇺🇸...</td>\n",
       "    </tr>\n",
       "  </tbody>\n",
       "</table>\n",
       "<p>251 rows × 1 columns</p>\n",
       "</div>"
      ],
      "text/plain": [
       "                                         return_string\n",
       "0    Logo\\nThe most comprehensive ratings and revie...\n",
       "1    Schulten Bräu Premium Pilsener\\n🇩🇪 Pilsener / ...\n",
       "2                                                 None\n",
       "3    Calusa Citronious Biggest\\n🇺🇸 IIPA DIPA - Hazy...\n",
       "4    Steam Hollow It’s A Pittie Rhapsody\\n🇺🇸 Pilsen...\n",
       "..                                                 ...\n",
       "246  Bombardier Burning Gold (Cask)\\n🇬🇧 Blonde Ale ...\n",
       "247  Wild Leap Too Pure To Be Pink\\n🇺🇸 IIPA DIPA - ...\n",
       "248  Drekker Braaaaaaaains - Stawberry & Guava\\n🇺🇸 ...\n",
       "249  Big Smoke / Brewgooder Inner Flight\\n🇬🇧 IPA - ...\n",
       "250  Alvarado Street / Pure Project Murkaholics\\n🇺🇸...\n",
       "\n",
       "[251 rows x 1 columns]"
      ]
     },
     "execution_count": 157,
     "metadata": {},
     "output_type": "execute_result"
    }
   ],
   "source": [
    "beer_deets = pd.DataFrame(desc_string, columns = ['return_string'])\n",
    "beer_deets"
   ]
  },
  {
   "cell_type": "code",
   "execution_count": 158,
   "metadata": {
    "ExecuteTime": {
     "end_time": "2020-06-02T08:31:35.123006Z",
     "start_time": "2020-06-02T08:31:35.079525Z"
    }
   },
   "outputs": [],
   "source": [
    "## cleaning the scraped data\n",
    "beer_deets.dropna(inplace=True)\n",
    "beer_deets = beer_deets[~beer_deets.return_string.str.startswith('Logo\\n')].copy()\n",
    "no_alcohol = beer_deets[~beer_deets.return_string.str.contains('%')].copy()\n",
    "beer_deets = beer_deets[beer_deets.return_string.str.contains('%')].copy()\n"
   ]
  },
  {
   "cell_type": "code",
   "execution_count": 159,
   "metadata": {
    "ExecuteTime": {
     "end_time": "2020-06-02T08:31:35.187173Z",
     "start_time": "2020-06-02T08:31:35.127237Z"
    }
   },
   "outputs": [],
   "source": [
    "# sorting the scraped data into columns\n",
    "beer_deets['name_found'] = beer_deets.return_string.apply(lambda x: x.split('\\n')[0].strip())\n",
    "beer_deets['flag'] = beer_deets.return_string.apply(lambda x: x.split('\\n')[1].split('•')[0].split(\" \")[0])\n",
    "beer_deets['type'] = beer_deets.return_string.apply(lambda x: x.split('\\n')[1].split('•')[0][2:])\n",
    "beer_deets['abv'] = beer_deets.return_string.apply(lambda x: float(x.split('\\n')[1].split('•')[1].replace(\"%\",\"\")))\n",
    "beer_deets['rb_overall_score'] = beer_deets.return_string.apply(lambda x: x.split('\\n')[2])\n",
    "beer_deets['rb_style_score'] = beer_deets.return_string.apply(lambda x: x.split('\\n')[3])\n",
    "beer_deets['rb_user_rating'] = beer_deets.return_string.apply(lambda x: x.split('\\n')[4])\n",
    "beer_deets['rb_rating_number'] = beer_deets.return_string.apply(lambda x: x.split('\\n')[5].replace(\"(\",\"\").replace(\")\",\"\"))\n"
   ]
  },
  {
   "cell_type": "code",
   "execution_count": 160,
   "metadata": {
    "ExecuteTime": {
     "end_time": "2020-06-02T08:31:35.193533Z",
     "start_time": "2020-06-02T08:31:35.189447Z"
    }
   },
   "outputs": [],
   "source": [
    "# need to add in add check here for price\n"
   ]
  },
  {
   "cell_type": "code",
   "execution_count": null,
   "metadata": {
    "ExecuteTime": {
     "end_time": "2020-06-01T13:25:17.702685Z",
     "start_time": "2020-06-01T13:25:17.671351Z"
    }
   },
   "outputs": [],
   "source": [
    "\n"
   ]
  },
  {
   "cell_type": "code",
   "execution_count": 161,
   "metadata": {
    "ExecuteTime": {
     "end_time": "2020-06-02T08:31:35.273586Z",
     "start_time": "2020-06-02T08:31:35.197381Z"
    }
   },
   "outputs": [
    {
     "data": {
      "text/html": [
       "<div>\n",
       "<style scoped>\n",
       "    .dataframe tbody tr th:only-of-type {\n",
       "        vertical-align: middle;\n",
       "    }\n",
       "\n",
       "    .dataframe tbody tr th {\n",
       "        vertical-align: top;\n",
       "    }\n",
       "\n",
       "    .dataframe thead th {\n",
       "        text-align: right;\n",
       "    }\n",
       "</style>\n",
       "<table border=\"1\" class=\"dataframe\">\n",
       "  <thead>\n",
       "    <tr style=\"text-align: right;\">\n",
       "      <th></th>\n",
       "      <th>return_string</th>\n",
       "      <th>name_found</th>\n",
       "      <th>flag</th>\n",
       "      <th>type</th>\n",
       "      <th>abv</th>\n",
       "      <th>rb_overall_score</th>\n",
       "      <th>rb_style_score</th>\n",
       "      <th>rb_user_rating</th>\n",
       "      <th>rb_rating_number</th>\n",
       "    </tr>\n",
       "  </thead>\n",
       "  <tbody>\n",
       "    <tr>\n",
       "      <th>4</th>\n",
       "      <td>Steam Hollow It’s A Pittie Rhapsody\\n🇺🇸 Pilsen...</td>\n",
       "      <td>Steam Hollow It’s A Pittie Rhapsody</td>\n",
       "      <td>🇺🇸</td>\n",
       "      <td>Pilsener - Czech / Svetlý</td>\n",
       "      <td>NaN</td>\n",
       "      <td>-</td>\n",
       "      <td>-</td>\n",
       "      <td>3.80</td>\n",
       "      <td>1</td>\n",
       "    </tr>\n",
       "    <tr>\n",
       "      <th>22</th>\n",
       "      <td>Another Beer Florida Weisse\\n🇨🇦 Sour / Wild Be...</td>\n",
       "      <td>Another Beer Florida Weisse</td>\n",
       "      <td>🇨🇦</td>\n",
       "      <td>Sour / Wild Beer - Flavored</td>\n",
       "      <td>NaN</td>\n",
       "      <td>-</td>\n",
       "      <td>-</td>\n",
       "      <td>2.00</td>\n",
       "      <td>1</td>\n",
       "    </tr>\n",
       "    <tr>\n",
       "      <th>62</th>\n",
       "      <td>Cycle Barrel Aged Barelywine And Stout Blended...</td>\n",
       "      <td>Cycle Barrel Aged Barelywine And Stout Blended...</td>\n",
       "      <td>🇺🇸</td>\n",
       "      <td>Stout - Imperial</td>\n",
       "      <td>NaN</td>\n",
       "      <td>-</td>\n",
       "      <td>-</td>\n",
       "      <td>4.10</td>\n",
       "      <td>1</td>\n",
       "    </tr>\n",
       "    <tr>\n",
       "      <th>67</th>\n",
       "      <td>Tired Hands Frequency Illusion; Gewürztraminer...</td>\n",
       "      <td>Tired Hands Frequency Illusion; Gewürztraminer</td>\n",
       "      <td>🇺🇸</td>\n",
       "      <td>Saison / Farmhouse - Flavored</td>\n",
       "      <td>NaN</td>\n",
       "      <td>-</td>\n",
       "      <td>-</td>\n",
       "      <td>3.88</td>\n",
       "      <td>5</td>\n",
       "    </tr>\n",
       "    <tr>\n",
       "      <th>98</th>\n",
       "      <td>Gruner Brothers A’OK-Oktoberfest\\n🇺🇸 Märzen / ...</td>\n",
       "      <td>Gruner Brothers A’OK-Oktoberfest</td>\n",
       "      <td>🇺🇸</td>\n",
       "      <td>Märzen / Marzen / Oktoberfest Bier</td>\n",
       "      <td>0.0</td>\n",
       "      <td>-</td>\n",
       "      <td>-</td>\n",
       "      <td>3.40</td>\n",
       "      <td>5</td>\n",
       "    </tr>\n",
       "    <tr>\n",
       "      <th>108</th>\n",
       "      <td>Endeavor Darkhaus\\n🇺🇸 Weissbier - Dunkelweizen...</td>\n",
       "      <td>Endeavor Darkhaus</td>\n",
       "      <td>🇺🇸</td>\n",
       "      <td>Weissbier - Dunkelweizen</td>\n",
       "      <td>NaN</td>\n",
       "      <td>-</td>\n",
       "      <td>-</td>\n",
       "      <td>3.60</td>\n",
       "      <td>1</td>\n",
       "    </tr>\n",
       "    <tr>\n",
       "      <th>112</th>\n",
       "      <td>Prairie Skonbeit\\n🇺🇸 Stout - Imperial Flavored...</td>\n",
       "      <td>Prairie Skonbeit</td>\n",
       "      <td>🇺🇸</td>\n",
       "      <td>Stout - Imperial Flavored</td>\n",
       "      <td>NaN</td>\n",
       "      <td>-</td>\n",
       "      <td>-</td>\n",
       "      <td>4.00</td>\n",
       "      <td>1</td>\n",
       "    </tr>\n",
       "    <tr>\n",
       "      <th>114</th>\n",
       "      <td>Prairie Moken Troll\\n🇺🇸 Stout - Imperial Flavo...</td>\n",
       "      <td>Prairie Moken Troll</td>\n",
       "      <td>🇺🇸</td>\n",
       "      <td>Stout - Imperial Flavored</td>\n",
       "      <td>NaN</td>\n",
       "      <td>-</td>\n",
       "      <td>-</td>\n",
       "      <td>3.60</td>\n",
       "      <td>1</td>\n",
       "    </tr>\n",
       "    <tr>\n",
       "      <th>127</th>\n",
       "      <td>Hübner Bräu Wattendorf 3-Ährenbier\\n🇩🇪 Special...</td>\n",
       "      <td>Hübner Bräu Wattendorf 3-Ährenbier</td>\n",
       "      <td>🇩🇪</td>\n",
       "      <td>Specialty Grain - Other</td>\n",
       "      <td>0.0</td>\n",
       "      <td>-</td>\n",
       "      <td>-</td>\n",
       "      <td>3.10</td>\n",
       "      <td>5</td>\n",
       "    </tr>\n",
       "    <tr>\n",
       "      <th>129</th>\n",
       "      <td>Hübner Bräu Wattendorf Naturtrübes Zwickelpils...</td>\n",
       "      <td>Hübner Bräu Wattendorf Naturtrübes Zwickelpils</td>\n",
       "      <td>🇩🇪</td>\n",
       "      <td>Zwickelbier / Kellerbier / Landbier</td>\n",
       "      <td>0.0</td>\n",
       "      <td>52</td>\n",
       "      <td>90</td>\n",
       "      <td>3.40</td>\n",
       "      <td>10</td>\n",
       "    </tr>\n",
       "    <tr>\n",
       "      <th>206</th>\n",
       "      <td>Charlotteville Monster Mash\\n🇨🇦 Flavored - Oth...</td>\n",
       "      <td>Charlotteville Monster Mash</td>\n",
       "      <td>🇨🇦</td>\n",
       "      <td>Flavored - Other</td>\n",
       "      <td>0.0</td>\n",
       "      <td>-</td>\n",
       "      <td>-</td>\n",
       "      <td>3.25</td>\n",
       "      <td>2</td>\n",
       "    </tr>\n",
       "  </tbody>\n",
       "</table>\n",
       "</div>"
      ],
      "text/plain": [
       "                                         return_string  \\\n",
       "4    Steam Hollow It’s A Pittie Rhapsody\\n🇺🇸 Pilsen...   \n",
       "22   Another Beer Florida Weisse\\n🇨🇦 Sour / Wild Be...   \n",
       "62   Cycle Barrel Aged Barelywine And Stout Blended...   \n",
       "67   Tired Hands Frequency Illusion; Gewürztraminer...   \n",
       "98   Gruner Brothers A’OK-Oktoberfest\\n🇺🇸 Märzen / ...   \n",
       "108  Endeavor Darkhaus\\n🇺🇸 Weissbier - Dunkelweizen...   \n",
       "112  Prairie Skonbeit\\n🇺🇸 Stout - Imperial Flavored...   \n",
       "114  Prairie Moken Troll\\n🇺🇸 Stout - Imperial Flavo...   \n",
       "127  Hübner Bräu Wattendorf 3-Ährenbier\\n🇩🇪 Special...   \n",
       "129  Hübner Bräu Wattendorf Naturtrübes Zwickelpils...   \n",
       "206  Charlotteville Monster Mash\\n🇨🇦 Flavored - Oth...   \n",
       "\n",
       "                                            name_found flag  \\\n",
       "4                  Steam Hollow It’s A Pittie Rhapsody   🇺🇸   \n",
       "22                         Another Beer Florida Weisse   🇨🇦   \n",
       "62   Cycle Barrel Aged Barelywine And Stout Blended...   🇺🇸   \n",
       "67      Tired Hands Frequency Illusion; Gewürztraminer   🇺🇸   \n",
       "98                    Gruner Brothers A’OK-Oktoberfest   🇺🇸   \n",
       "108                                  Endeavor Darkhaus   🇺🇸   \n",
       "112                                   Prairie Skonbeit   🇺🇸   \n",
       "114                                Prairie Moken Troll   🇺🇸   \n",
       "127                 Hübner Bräu Wattendorf 3-Ährenbier   🇩🇪   \n",
       "129     Hübner Bräu Wattendorf Naturtrübes Zwickelpils   🇩🇪   \n",
       "206                        Charlotteville Monster Mash   🇨🇦   \n",
       "\n",
       "                                     type  abv rb_overall_score  \\\n",
       "4               Pilsener - Czech / Svetlý  NaN                -   \n",
       "22            Sour / Wild Beer - Flavored  NaN                -   \n",
       "62                       Stout - Imperial  NaN                -   \n",
       "67          Saison / Farmhouse - Flavored  NaN                -   \n",
       "98     Märzen / Marzen / Oktoberfest Bier  0.0                -   \n",
       "108              Weissbier - Dunkelweizen  NaN                -   \n",
       "112             Stout - Imperial Flavored  NaN                -   \n",
       "114             Stout - Imperial Flavored  NaN                -   \n",
       "127               Specialty Grain - Other  0.0                -   \n",
       "129   Zwickelbier / Kellerbier / Landbier  0.0               52   \n",
       "206                      Flavored - Other  0.0                -   \n",
       "\n",
       "    rb_style_score rb_user_rating rb_rating_number  \n",
       "4                -           3.80                1  \n",
       "22               -           2.00                1  \n",
       "62               -           4.10                1  \n",
       "67               -           3.88                5  \n",
       "98               -           3.40                5  \n",
       "108              -           3.60                1  \n",
       "112              -           4.00                1  \n",
       "114              -           3.60                1  \n",
       "127              -           3.10                5  \n",
       "129             90           3.40               10  \n",
       "206              -           3.25                2  "
      ]
     },
     "execution_count": 161,
     "metadata": {},
     "output_type": "execute_result"
    }
   ],
   "source": [
    "# sorting the no alcohol measure\n",
    "no_alcohol['name_found'] = no_alcohol.return_string.apply(lambda x: x.split('\\n')[0].strip())\n",
    "no_alcohol['flag'] = no_alcohol.return_string.apply(lambda x: x.split('\\n')[1].split('•')[0].split(\" \")[0])\n",
    "no_alcohol['type'] = no_alcohol.return_string.apply(lambda x: x.split('\\n')[1].split('•')[0][2:])\n",
    "no_alcohol['abv'] = no_alcohol.type.apply(lambda x: 0 if x[-1] == '0' else None)\n",
    "no_alcohol['type'] = no_alcohol.type.apply(lambda x: x[:-1] if x[-1] == '0' else x)\n",
    "no_alcohol['check'] = no_alcohol.return_string.apply(lambda x: len(x.split('\\n')))\n",
    "no_alcohol = no_alcohol[no_alcohol['check']>4].copy()\n",
    "no_alcohol['rb_overall_score'] = no_alcohol.return_string.apply(lambda x: x.split('\\n')[2])\n",
    "no_alcohol['rb_style_score'] = no_alcohol.return_string.apply(lambda x: x.split('\\n')[3])\n",
    "no_alcohol['rb_user_rating'] = no_alcohol.return_string.apply(lambda x: x.split('\\n')[4])\n",
    "no_alcohol['rb_rating_number'] = no_alcohol.return_string.apply(lambda x: x.split('\\n')[5].replace(\"(\",\"\").replace(\")\",\"\"))\n",
    "no_alcohol.drop('check',inplace=True, axis=1)\n",
    "\n",
    "no_alcohol"
   ]
  },
  {
   "cell_type": "code",
   "execution_count": 162,
   "metadata": {
    "ExecuteTime": {
     "end_time": "2020-06-02T08:31:35.349191Z",
     "start_time": "2020-06-02T08:31:35.277439Z"
    }
   },
   "outputs": [],
   "source": [
    "beer_df = pd.concat([beer_df,beer_deets,no_alcohol])"
   ]
  },
  {
   "cell_type": "code",
   "execution_count": 163,
   "metadata": {
    "ExecuteTime": {
     "end_time": "2020-06-02T08:31:35.375085Z",
     "start_time": "2020-06-02T08:31:35.351543Z"
    }
   },
   "outputs": [
    {
     "data": {
      "text/html": [
       "<div>\n",
       "<style scoped>\n",
       "    .dataframe tbody tr th:only-of-type {\n",
       "        vertical-align: middle;\n",
       "    }\n",
       "\n",
       "    .dataframe tbody tr th {\n",
       "        vertical-align: top;\n",
       "    }\n",
       "\n",
       "    .dataframe thead th {\n",
       "        text-align: right;\n",
       "    }\n",
       "</style>\n",
       "<table border=\"1\" class=\"dataframe\">\n",
       "  <thead>\n",
       "    <tr style=\"text-align: right;\">\n",
       "      <th></th>\n",
       "      <th>return_string</th>\n",
       "      <th>flag</th>\n",
       "      <th>type</th>\n",
       "      <th>abv</th>\n",
       "      <th>rb_overall_score</th>\n",
       "      <th>rb_style_score</th>\n",
       "      <th>rb_user_rating</th>\n",
       "      <th>rb_rating_number</th>\n",
       "      <th>name_found</th>\n",
       "    </tr>\n",
       "  </thead>\n",
       "  <tbody>\n",
       "    <tr>\n",
       "      <th>0</th>\n",
       "      <td>St. Peter's Ruby Red Ale\\n🇬🇧 Bitter - Ordinary...</td>\n",
       "      <td>🇬🇧</td>\n",
       "      <td>Bitter - Ordinary / Best</td>\n",
       "      <td>4.3</td>\n",
       "      <td>49</td>\n",
       "      <td>95</td>\n",
       "      <td>3.25</td>\n",
       "      <td>415</td>\n",
       "      <td>St. Peter's Ruby Red Ale</td>\n",
       "    </tr>\n",
       "    <tr>\n",
       "      <th>1</th>\n",
       "      <td>Shepherd Neame Spitfire (Bottle)\\n🇬🇧 Bitter - ...</td>\n",
       "      <td>🇬🇧</td>\n",
       "      <td>Bitter - Ordinary / Best</td>\n",
       "      <td>4.5</td>\n",
       "      <td>34</td>\n",
       "      <td>59</td>\n",
       "      <td>3.05</td>\n",
       "      <td>1083</td>\n",
       "      <td>Shepherd Neame Spitfire (Bottle)</td>\n",
       "    </tr>\n",
       "    <tr>\n",
       "      <th>2</th>\n",
       "      <td>Arbor Rocketman\\n🇬🇧 IPA • 6.0%\\n95\\n97\\n3.74\\n...</td>\n",
       "      <td>🇬🇧</td>\n",
       "      <td>IPA</td>\n",
       "      <td>6.0</td>\n",
       "      <td>95</td>\n",
       "      <td>97</td>\n",
       "      <td>3.74</td>\n",
       "      <td>59</td>\n",
       "      <td>Arbor Rocketman</td>\n",
       "    </tr>\n",
       "    <tr>\n",
       "      <th>3</th>\n",
       "      <td>Shepherd Neame India Pale Ale (Bottle)\\n🇬🇧 IPA...</td>\n",
       "      <td>🇬🇧</td>\n",
       "      <td>IPA - English</td>\n",
       "      <td>6.1</td>\n",
       "      <td>46</td>\n",
       "      <td>47</td>\n",
       "      <td>3.22</td>\n",
       "      <td>420</td>\n",
       "      <td>Shepherd Neame India Pale Ale (Bottle)</td>\n",
       "    </tr>\n",
       "    <tr>\n",
       "      <th>4</th>\n",
       "      <td>Shepherd Neame Christmas Ale\\n🇬🇧 Strong Ale - ...</td>\n",
       "      <td>🇬🇧</td>\n",
       "      <td>Strong Ale - English</td>\n",
       "      <td>7.0</td>\n",
       "      <td>45</td>\n",
       "      <td>46</td>\n",
       "      <td>3.18</td>\n",
       "      <td>409</td>\n",
       "      <td>Shepherd Neame Christmas Ale</td>\n",
       "    </tr>\n",
       "    <tr>\n",
       "      <th>...</th>\n",
       "      <td>...</td>\n",
       "      <td>...</td>\n",
       "      <td>...</td>\n",
       "      <td>...</td>\n",
       "      <td>...</td>\n",
       "      <td>...</td>\n",
       "      <td>...</td>\n",
       "      <td>...</td>\n",
       "      <td>...</td>\n",
       "    </tr>\n",
       "    <tr>\n",
       "      <th>112</th>\n",
       "      <td>Prairie Skonbeit\\n🇺🇸 Stout - Imperial Flavored...</td>\n",
       "      <td>🇺🇸</td>\n",
       "      <td>Stout - Imperial Flavored</td>\n",
       "      <td>NaN</td>\n",
       "      <td>-</td>\n",
       "      <td>-</td>\n",
       "      <td>4.00</td>\n",
       "      <td>1</td>\n",
       "      <td>Prairie Skonbeit</td>\n",
       "    </tr>\n",
       "    <tr>\n",
       "      <th>114</th>\n",
       "      <td>Prairie Moken Troll\\n🇺🇸 Stout - Imperial Flavo...</td>\n",
       "      <td>🇺🇸</td>\n",
       "      <td>Stout - Imperial Flavored</td>\n",
       "      <td>NaN</td>\n",
       "      <td>-</td>\n",
       "      <td>-</td>\n",
       "      <td>3.60</td>\n",
       "      <td>1</td>\n",
       "      <td>Prairie Moken Troll</td>\n",
       "    </tr>\n",
       "    <tr>\n",
       "      <th>127</th>\n",
       "      <td>Hübner Bräu Wattendorf 3-Ährenbier\\n🇩🇪 Special...</td>\n",
       "      <td>🇩🇪</td>\n",
       "      <td>Specialty Grain - Other</td>\n",
       "      <td>0.0</td>\n",
       "      <td>-</td>\n",
       "      <td>-</td>\n",
       "      <td>3.10</td>\n",
       "      <td>5</td>\n",
       "      <td>Hübner Bräu Wattendorf 3-Ährenbier</td>\n",
       "    </tr>\n",
       "    <tr>\n",
       "      <th>129</th>\n",
       "      <td>Hübner Bräu Wattendorf Naturtrübes Zwickelpils...</td>\n",
       "      <td>🇩🇪</td>\n",
       "      <td>Zwickelbier / Kellerbier / Landbier</td>\n",
       "      <td>0.0</td>\n",
       "      <td>52</td>\n",
       "      <td>90</td>\n",
       "      <td>3.40</td>\n",
       "      <td>10</td>\n",
       "      <td>Hübner Bräu Wattendorf Naturtrübes Zwickelpils</td>\n",
       "    </tr>\n",
       "    <tr>\n",
       "      <th>206</th>\n",
       "      <td>Charlotteville Monster Mash\\n🇨🇦 Flavored - Oth...</td>\n",
       "      <td>🇨🇦</td>\n",
       "      <td>Flavored - Other</td>\n",
       "      <td>0.0</td>\n",
       "      <td>-</td>\n",
       "      <td>-</td>\n",
       "      <td>3.25</td>\n",
       "      <td>2</td>\n",
       "      <td>Charlotteville Monster Mash</td>\n",
       "    </tr>\n",
       "  </tbody>\n",
       "</table>\n",
       "<p>16692 rows × 9 columns</p>\n",
       "</div>"
      ],
      "text/plain": [
       "                                         return_string flag  \\\n",
       "0    St. Peter's Ruby Red Ale\\n🇬🇧 Bitter - Ordinary...   🇬🇧   \n",
       "1    Shepherd Neame Spitfire (Bottle)\\n🇬🇧 Bitter - ...   🇬🇧   \n",
       "2    Arbor Rocketman\\n🇬🇧 IPA • 6.0%\\n95\\n97\\n3.74\\n...   🇬🇧   \n",
       "3    Shepherd Neame India Pale Ale (Bottle)\\n🇬🇧 IPA...   🇬🇧   \n",
       "4    Shepherd Neame Christmas Ale\\n🇬🇧 Strong Ale - ...   🇬🇧   \n",
       "..                                                 ...  ...   \n",
       "112  Prairie Skonbeit\\n🇺🇸 Stout - Imperial Flavored...   🇺🇸   \n",
       "114  Prairie Moken Troll\\n🇺🇸 Stout - Imperial Flavo...   🇺🇸   \n",
       "127  Hübner Bräu Wattendorf 3-Ährenbier\\n🇩🇪 Special...   🇩🇪   \n",
       "129  Hübner Bräu Wattendorf Naturtrübes Zwickelpils...   🇩🇪   \n",
       "206  Charlotteville Monster Mash\\n🇨🇦 Flavored - Oth...   🇨🇦   \n",
       "\n",
       "                                     type  abv rb_overall_score  \\\n",
       "0               Bitter - Ordinary / Best   4.3               49   \n",
       "1               Bitter - Ordinary / Best   4.5               34   \n",
       "2                                    IPA   6.0               95   \n",
       "3                          IPA - English   6.1               46   \n",
       "4                   Strong Ale - English   7.0               45   \n",
       "..                                    ...  ...              ...   \n",
       "112             Stout - Imperial Flavored  NaN                -   \n",
       "114             Stout - Imperial Flavored  NaN                -   \n",
       "127               Specialty Grain - Other  0.0                -   \n",
       "129   Zwickelbier / Kellerbier / Landbier  0.0               52   \n",
       "206                      Flavored - Other  0.0                -   \n",
       "\n",
       "    rb_style_score rb_user_rating rb_rating_number  \\\n",
       "0               95           3.25              415   \n",
       "1               59           3.05             1083   \n",
       "2               97           3.74               59   \n",
       "3               47           3.22              420   \n",
       "4               46           3.18              409   \n",
       "..             ...            ...              ...   \n",
       "112              -           4.00                1   \n",
       "114              -           3.60                1   \n",
       "127              -           3.10                5   \n",
       "129             90           3.40               10   \n",
       "206              -           3.25                2   \n",
       "\n",
       "                                         name_found  \n",
       "0                          St. Peter's Ruby Red Ale  \n",
       "1                  Shepherd Neame Spitfire (Bottle)  \n",
       "2                                   Arbor Rocketman  \n",
       "3            Shepherd Neame India Pale Ale (Bottle)  \n",
       "4                      Shepherd Neame Christmas Ale  \n",
       "..                                              ...  \n",
       "112                                Prairie Skonbeit  \n",
       "114                             Prairie Moken Troll  \n",
       "127              Hübner Bräu Wattendorf 3-Ährenbier  \n",
       "129  Hübner Bräu Wattendorf Naturtrübes Zwickelpils  \n",
       "206                     Charlotteville Monster Mash  \n",
       "\n",
       "[16692 rows x 9 columns]"
      ]
     },
     "execution_count": 163,
     "metadata": {},
     "output_type": "execute_result"
    }
   ],
   "source": [
    "beer_df"
   ]
  },
  {
   "cell_type": "code",
   "execution_count": 164,
   "metadata": {
    "ExecuteTime": {
     "end_time": "2020-06-02T08:31:35.524637Z",
     "start_time": "2020-06-02T08:31:35.382170Z"
    }
   },
   "outputs": [
    {
     "name": "stdout",
     "output_type": "stream",
     "text": [
      "There are 6 new beers that were not found or returned errors. They will be added to the no search list.\n"
     ]
    }
   ],
   "source": [
    "# compare to the unique list to create a new to-be-scraped list\n",
    "not_found_beer = df.beer_name[~df.beer_name.isin(beer_df.name_found)].unique()\n",
    "print(\"There are\", len(not_found_beer)-len(not_found_df), \"new beers that were not found or returned errors. They will be added to the no search list.\")\n",
    "not_found_df = pd.concat([not_found_df,pd.DataFrame(not_found_beer,columns = [\"not_found\"])])\n",
    "not_found_df.drop_duplicates(inplace=True)"
   ]
  },
  {
   "cell_type": "code",
   "execution_count": 165,
   "metadata": {
    "ExecuteTime": {
     "end_time": "2020-06-02T08:31:35.694567Z",
     "start_time": "2020-06-02T08:31:35.526723Z"
    }
   },
   "outputs": [],
   "source": [
    "beer_df.to_csv('beer_deets.csv',index=False)\n",
    "not_found_df.to_csv(\"not_found.csv\", index=False)"
   ]
  },
  {
   "cell_type": "code",
   "execution_count": null,
   "metadata": {
    "ExecuteTime": {
     "end_time": "2020-05-05T14:04:40.065563Z",
     "start_time": "2020-05-05T14:04:40.053981Z"
    }
   },
   "outputs": [],
   "source": []
  },
  {
   "cell_type": "code",
   "execution_count": null,
   "metadata": {},
   "outputs": [],
   "source": []
  },
  {
   "cell_type": "code",
   "execution_count": null,
   "metadata": {},
   "outputs": [],
   "source": []
  }
 ],
 "metadata": {
  "kernelspec": {
   "display_name": "Python 3",
   "language": "python",
   "name": "python3"
  },
  "language_info": {
   "codemirror_mode": {
    "name": "ipython",
    "version": 3
   },
   "file_extension": ".py",
   "mimetype": "text/x-python",
   "name": "python",
   "nbconvert_exporter": "python",
   "pygments_lexer": "ipython3",
   "version": "3.7.1"
  },
  "toc": {
   "base_numbering": 1,
   "nav_menu": {},
   "number_sections": true,
   "sideBar": true,
   "skip_h1_title": false,
   "title_cell": "Table of Contents",
   "title_sidebar": "Contents",
   "toc_cell": false,
   "toc_position": {},
   "toc_section_display": true,
   "toc_window_display": false
  },
  "varInspector": {
   "cols": {
    "lenName": 16,
    "lenType": 16,
    "lenVar": 40
   },
   "kernels_config": {
    "python": {
     "delete_cmd_postfix": "",
     "delete_cmd_prefix": "del ",
     "library": "var_list.py",
     "varRefreshCmd": "print(var_dic_list())"
    },
    "r": {
     "delete_cmd_postfix": ") ",
     "delete_cmd_prefix": "rm(",
     "library": "var_list.r",
     "varRefreshCmd": "cat(var_dic_list()) "
    }
   },
   "types_to_exclude": [
    "module",
    "function",
    "builtin_function_or_method",
    "instance",
    "_Feature"
   ],
   "window_display": false
  }
 },
 "nbformat": 4,
 "nbformat_minor": 4
}
