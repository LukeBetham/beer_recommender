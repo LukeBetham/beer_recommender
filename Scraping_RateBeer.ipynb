{
 "cells": [
  {
   "cell_type": "code",
   "execution_count": 1,
   "metadata": {
    "ExecuteTime": {
     "end_time": "2020-04-27T11:48:42.156895Z",
     "start_time": "2020-04-27T11:48:39.828310Z"
    }
   },
   "outputs": [],
   "source": [
    "import requests\n",
    "import bs4\n",
    "from bs4 import BeautifulSoup\n",
    "import pandas as pd\n",
    "import re\n",
    "from tqdm import tqdm_notebook\n",
    "import matplotlib.pyplot as plt\n",
    "import seaborn as sns"
   ]
  },
  {
   "cell_type": "code",
   "execution_count": 9,
   "metadata": {
    "ExecuteTime": {
     "end_time": "2020-04-27T11:53:42.017006Z",
     "start_time": "2020-04-27T11:53:42.002761Z"
    }
   },
   "outputs": [],
   "source": [
    "\n",
    "def ratebeer_scraper(page_start=1, page_end=2, url_set=None):\n",
    "    \n",
    "    beer_name = []\n",
    "    beer_rating = []\n",
    "    brewery_name = []\n",
    "    brewery_location = []\n",
    "    review_content = []\n",
    "    reviewer_name = []\n",
    " \n",
    "    if url_set == None:\n",
    "        print(\"Need url to run\")\n",
    "        return\n",
    "\n",
    "    for x in tqdm_notebook(range(page_start, page_end + 1)):\n",
    "        url_format = url_set.format(x)\n",
    "        r = requests.get(url_format)\n",
    "        soup = BeautifulSoup(r.text, 'html.parser')\n",
    "        table = soup.find('table', attrs={'class': 'table'})\n",
    "        table_rows = table.find_all('tr')\n",
    "        \n",
    "        for rows in table_rows:\n",
    "\n",
    "        # Scrape Beer Name    \n",
    "            try:\n",
    "                beer_name.append(rows.find('a', attrs={'style':'font-size:20px; font-weight:bold;'}).text)\n",
    "            except:\n",
    "                beer_name.append(None)\n",
    "        # Scrape Review Rating  \n",
    "            try:\n",
    "                beer_rating.append(rows.find('span', attrs={'class':'uas'}).text)\n",
    "            except:\n",
    "                beer_rating.append(None)\n",
    "        # Scrape Brewery Name  \n",
    "            try:\n",
    "                brewery_div = rows.find('div')\n",
    "                brewery_name.append(brewery_div.a.text)\n",
    "            except:\n",
    "                brewery_name.append(None)\n",
    "        # Scrape Brewery Location\n",
    "            try:\n",
    "                brewery_location.append(rows.find('span', attrs={'class':'small'}).text.strip())\n",
    "            except:\n",
    "                brewery_location.append(None)\n",
    "        # Scrape Reviewer Name\n",
    "            try:\n",
    "                reviewer_name.append(rows.find('span', attrs={'class':'pull-right'}).text.strip())\n",
    "            except:\n",
    "                reviewer_name.append(None)\n",
    "        # Scrape content\n",
    "            try:\n",
    "                review_content.append(rows.find('div', attrs={'style':\"color:#666;\"}).text.strip())\n",
    "            except:\n",
    "                review_content.append(None)\n",
    "\n",
    "    jobz = pd.DataFrame({'beer_name': beer_name,\n",
    "                         'beer_rating': beer_rating,\n",
    "                        'brewery_name': brewery_name,\n",
    "                         'brewery_location': brewery_location,\n",
    "                        'review_content': review_content,\n",
    "                        'reviewer_name': reviewer_name})\n",
    "    return jobz\n",
    "\n"
   ]
  },
  {
   "cell_type": "code",
   "execution_count": 11,
   "metadata": {
    "ExecuteTime": {
     "end_time": "2020-04-27T11:56:11.194932Z",
     "start_time": "2020-04-27T11:56:05.836066Z"
    }
   },
   "outputs": [
    {
     "name": "stderr",
     "output_type": "stream",
     "text": [
      "/Users/lukebetham/anaconda3/lib/python3.7/site-packages/ipykernel_launcher.py:14: TqdmDeprecationWarning: This function will be removed in tqdm==5.0.0\n",
      "Please use `tqdm.notebook.tqdm` instead of `tqdm.tqdm_notebook`\n",
      "  \n"
     ]
    },
    {
     "data": {
      "application/vnd.jupyter.widget-view+json": {
       "model_id": "7ecd57783eff40a18199ae70485b9994",
       "version_major": 2,
       "version_minor": 0
      },
      "text/plain": [
       "HBox(children=(FloatProgress(value=0.0, max=10.0), HTML(value='')))"
      ]
     },
     "metadata": {},
     "output_type": "display_data"
    },
    {
     "name": "stdout",
     "output_type": "stream",
     "text": [
      "\n"
     ]
    },
    {
     "data": {
      "text/html": [
       "<div>\n",
       "<style scoped>\n",
       "    .dataframe tbody tr th:only-of-type {\n",
       "        vertical-align: middle;\n",
       "    }\n",
       "\n",
       "    .dataframe tbody tr th {\n",
       "        vertical-align: top;\n",
       "    }\n",
       "\n",
       "    .dataframe thead th {\n",
       "        text-align: right;\n",
       "    }\n",
       "</style>\n",
       "<table border=\"1\" class=\"dataframe\">\n",
       "  <thead>\n",
       "    <tr style=\"text-align: right;\">\n",
       "      <th></th>\n",
       "      <th>beer_name</th>\n",
       "      <th>beer_rating</th>\n",
       "      <th>brewery_name</th>\n",
       "      <th>brewery_location</th>\n",
       "      <th>review_content</th>\n",
       "      <th>reviewer_name</th>\n",
       "    </tr>\n",
       "  </thead>\n",
       "  <tbody>\n",
       "    <tr>\n",
       "      <th>0</th>\n",
       "      <td>Greene King Yardbird (Bottle / Keg)</td>\n",
       "      <td>2.9</td>\n",
       "      <td>Greene King</td>\n",
       "      <td>Bury St. Edmunds, Suffolk</td>\n",
       "      <td>Bottle. Golden ale with good white foam. Aroma...</td>\n",
       "      <td>alex_leit</td>\n",
       "    </tr>\n",
       "    <tr>\n",
       "      <th>1</th>\n",
       "      <td>Greene King St. Edmund's Golden Beer (Bottle)</td>\n",
       "      <td>2.6</td>\n",
       "      <td>Greene King</td>\n",
       "      <td>Bury St. Edmunds, Suffolk</td>\n",
       "      <td>Bottle. Golden color. Aroma: weak, malty, a bi...</td>\n",
       "      <td>alex_leit</td>\n",
       "    </tr>\n",
       "    <tr>\n",
       "      <th>2</th>\n",
       "      <td>Fuller's Winter Brew</td>\n",
       "      <td>3.6</td>\n",
       "      <td>Fuller's Brewery (Asahi)</td>\n",
       "      <td>Chiswick, Greater London</td>\n",
       "      <td>Flasche 0,5l: Dunkles Kupfer, Kastanienbraun, ...</td>\n",
       "      <td>Thomas_W1</td>\n",
       "    </tr>\n",
       "    <tr>\n",
       "      <th>3</th>\n",
       "      <td>Fuller's Old Winter Ale (Bottle)</td>\n",
       "      <td>3.3</td>\n",
       "      <td>Fuller's Brewery (Asahi)</td>\n",
       "      <td>Chiswick, Greater London</td>\n",
       "      <td>Flasche 0,5l: Dunkles Kupfer, Kastanienbraun, ...</td>\n",
       "      <td>Thomas_W1</td>\n",
       "    </tr>\n",
       "    <tr>\n",
       "      <th>4</th>\n",
       "      <td>Batemans Rosey Nosey (Bottle)</td>\n",
       "      <td>3.0</td>\n",
       "      <td>Batemans</td>\n",
       "      <td>Wainfleet, Lincolnshire</td>\n",
       "      <td>Flasche 0,5l: Dunkles Kupfer, Mahagoni, glaskl...</td>\n",
       "      <td>Thomas_W1</td>\n",
       "    </tr>\n",
       "    <tr>\n",
       "      <th>...</th>\n",
       "      <td>...</td>\n",
       "      <td>...</td>\n",
       "      <td>...</td>\n",
       "      <td>...</td>\n",
       "      <td>...</td>\n",
       "      <td>...</td>\n",
       "    </tr>\n",
       "    <tr>\n",
       "      <th>145</th>\n",
       "      <td>Other Half Crickets - Motueka</td>\n",
       "      <td>3.5</td>\n",
       "      <td>Other Half Brewing</td>\n",
       "      <td>Brooklyn, New York</td>\n",
       "      <td>Can, courtesy of mansquito. Pours gold. Peach,...</td>\n",
       "      <td>explosivedog</td>\n",
       "    </tr>\n",
       "    <tr>\n",
       "      <th>146</th>\n",
       "      <td>Dogfish Head World Wide Stout - Bourbon Barrel...</td>\n",
       "      <td>4.1</td>\n",
       "      <td>Dogfish Head Brewery (Boston Beer Co.)</td>\n",
       "      <td>Milton, Delaware</td>\n",
       "      <td>Black color with a thin beige head. Coffee, ch...</td>\n",
       "      <td>sinfull</td>\n",
       "    </tr>\n",
       "    <tr>\n",
       "      <th>147</th>\n",
       "      <td>Separatist Euro Spliff</td>\n",
       "      <td>3.6</td>\n",
       "      <td>Separatist Beer Project</td>\n",
       "      <td>Easton, Pennsylvania</td>\n",
       "      <td>Appears gold with foamy white head; Aroma is g...</td>\n",
       "      <td>closey22</td>\n",
       "    </tr>\n",
       "    <tr>\n",
       "      <th>148</th>\n",
       "      <td>Jester King Kvass</td>\n",
       "      <td>3.1</td>\n",
       "      <td>Jester King Brewery</td>\n",
       "      <td>Austin, Texas</td>\n",
       "      <td>Bottle. Gusher. Light yellow body, white head,...</td>\n",
       "      <td>northropfrye</td>\n",
       "    </tr>\n",
       "    <tr>\n",
       "      <th>149</th>\n",
       "      <td>Bruery Terreux Goses are Red</td>\n",
       "      <td>3.6</td>\n",
       "      <td>Bruery Terreux</td>\n",
       "      <td>Anaheim, California</td>\n",
       "      <td>Amber color. Nice, white head. Funky aroma wit...</td>\n",
       "      <td>sinfull</td>\n",
       "    </tr>\n",
       "  </tbody>\n",
       "</table>\n",
       "<p>150 rows × 6 columns</p>\n",
       "</div>"
      ],
      "text/plain": [
       "                                             beer_name beer_rating  \\\n",
       "0                  Greene King Yardbird (Bottle / Keg)         2.9   \n",
       "1       Greene King St. Edmund's Golden Beer (Bottle)          2.6   \n",
       "2                                 Fuller's Winter Brew         3.6   \n",
       "3                     Fuller's Old Winter Ale (Bottle)         3.3   \n",
       "4                        Batemans Rosey Nosey (Bottle)         3.0   \n",
       "..                                                 ...         ...   \n",
       "145                      Other Half Crickets - Motueka         3.5   \n",
       "146  Dogfish Head World Wide Stout - Bourbon Barrel...         4.1   \n",
       "147                             Separatist Euro Spliff         3.6   \n",
       "148                                  Jester King Kvass         3.1   \n",
       "149                       Bruery Terreux Goses are Red         3.6   \n",
       "\n",
       "                               brewery_name           brewery_location  \\\n",
       "0                               Greene King  Bury St. Edmunds, Suffolk   \n",
       "1                               Greene King  Bury St. Edmunds, Suffolk   \n",
       "2                  Fuller's Brewery (Asahi)   Chiswick, Greater London   \n",
       "3                  Fuller's Brewery (Asahi)   Chiswick, Greater London   \n",
       "4                                  Batemans    Wainfleet, Lincolnshire   \n",
       "..                                      ...                        ...   \n",
       "145                      Other Half Brewing         Brooklyn, New York   \n",
       "146  Dogfish Head Brewery (Boston Beer Co.)           Milton, Delaware   \n",
       "147                 Separatist Beer Project       Easton, Pennsylvania   \n",
       "148                     Jester King Brewery              Austin, Texas   \n",
       "149                          Bruery Terreux        Anaheim, California   \n",
       "\n",
       "                                        review_content reviewer_name  \n",
       "0    Bottle. Golden ale with good white foam. Aroma...     alex_leit  \n",
       "1    Bottle. Golden color. Aroma: weak, malty, a bi...     alex_leit  \n",
       "2    Flasche 0,5l: Dunkles Kupfer, Kastanienbraun, ...     Thomas_W1  \n",
       "3    Flasche 0,5l: Dunkles Kupfer, Kastanienbraun, ...     Thomas_W1  \n",
       "4    Flasche 0,5l: Dunkles Kupfer, Mahagoni, glaskl...     Thomas_W1  \n",
       "..                                                 ...           ...  \n",
       "145  Can, courtesy of mansquito. Pours gold. Peach,...  explosivedog  \n",
       "146  Black color with a thin beige head. Coffee, ch...       sinfull  \n",
       "147  Appears gold with foamy white head; Aroma is g...      closey22  \n",
       "148  Bottle. Gusher. Light yellow body, white head,...  northropfrye  \n",
       "149  Amber color. Nice, white head. Funky aroma wit...       sinfull  \n",
       "\n",
       "[150 rows x 6 columns]"
      ]
     },
     "execution_count": 11,
     "metadata": {},
     "output_type": "execute_result"
    }
   ],
   "source": [
    "url = 'https://www.ratebeer.com/beer-ratings/0/{}/'\n",
    "ratebeer_scraper(1,10,url)"
   ]
  },
  {
   "cell_type": "code",
   "execution_count": null,
   "metadata": {},
   "outputs": [],
   "source": []
  }
 ],
 "metadata": {
  "kernelspec": {
   "display_name": "Python 3",
   "language": "python",
   "name": "python3"
  },
  "language_info": {
   "codemirror_mode": {
    "name": "ipython",
    "version": 3
   },
   "file_extension": ".py",
   "mimetype": "text/x-python",
   "name": "python",
   "nbconvert_exporter": "python",
   "pygments_lexer": "ipython3",
   "version": "3.7.1"
  },
  "toc": {
   "base_numbering": 1,
   "nav_menu": {},
   "number_sections": true,
   "sideBar": true,
   "skip_h1_title": false,
   "title_cell": "Table of Contents",
   "title_sidebar": "Contents",
   "toc_cell": false,
   "toc_position": {},
   "toc_section_display": true,
   "toc_window_display": false
  },
  "varInspector": {
   "cols": {
    "lenName": 16,
    "lenType": 16,
    "lenVar": 40
   },
   "kernels_config": {
    "python": {
     "delete_cmd_postfix": "",
     "delete_cmd_prefix": "del ",
     "library": "var_list.py",
     "varRefreshCmd": "print(var_dic_list())"
    },
    "r": {
     "delete_cmd_postfix": ") ",
     "delete_cmd_prefix": "rm(",
     "library": "var_list.r",
     "varRefreshCmd": "cat(var_dic_list()) "
    }
   },
   "types_to_exclude": [
    "module",
    "function",
    "builtin_function_or_method",
    "instance",
    "_Feature"
   ],
   "window_display": false
  }
 },
 "nbformat": 4,
 "nbformat_minor": 4
}
