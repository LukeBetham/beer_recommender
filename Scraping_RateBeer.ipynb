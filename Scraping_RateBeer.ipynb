{
 "cells": [
  {
   "cell_type": "code",
   "execution_count": 1,
   "metadata": {
    "ExecuteTime": {
     "end_time": "2020-05-04T08:39:56.849874Z",
     "start_time": "2020-05-04T08:39:53.954580Z"
    }
   },
   "outputs": [],
   "source": [
    "import requests\n",
    "import bs4\n",
    "from bs4 import BeautifulSoup\n",
    "import pandas as pd\n",
    "import re\n",
    "from tqdm.notebook import tqdm\n",
    "import matplotlib.pyplot as plt\n",
    "import seaborn as sns"
   ]
  },
  {
   "cell_type": "markdown",
   "metadata": {},
   "source": [
    "## Code which scrapes the recently reviews (only 100 pages - 1,400 reviews)"
   ]
  },
  {
   "cell_type": "code",
   "execution_count": 2,
   "metadata": {
    "ExecuteTime": {
     "end_time": "2020-05-04T08:39:57.011931Z",
     "start_time": "2020-05-04T08:39:56.961007Z"
    }
   },
   "outputs": [],
   "source": [
    "\n",
    "def ratebeer_scraper(page_start=1, page_end=2, url_set=None):\n",
    "    \n",
    "    beer_name = []\n",
    "    beer_rating = []\n",
    "    brewery_name = []\n",
    "    brewery_location = []\n",
    "    review_content = []\n",
    "    reviewer_name = []\n",
    " \n",
    "    if url_set == None:\n",
    "        print(\"Need url to run\")\n",
    "        return\n",
    "\n",
    "    for x in tqdm(range(page_start, page_end + 1)):\n",
    "        try:\n",
    "            url_format = url_set.format(x)\n",
    "            r = requests.get(url_format)\n",
    "            soup = BeautifulSoup(r.text, 'html.parser')\n",
    "            table = soup.find('table', attrs={'class': 'table'})\n",
    "            table_rows = table.find_all('tr')\n",
    "\n",
    "            for rows in table_rows:\n",
    "\n",
    "            # Scrape Beer Name    \n",
    "                try:\n",
    "                    beer_name.append(rows.find('a', attrs={'style':'font-size:20px; font-weight:bold;'}).text)\n",
    "                except:\n",
    "                    beer_name.append(None)\n",
    "            # Scrape Review Rating  \n",
    "                try:\n",
    "                    beer_rating.append(rows.find('span', attrs={'class':'uas'}).text)\n",
    "                except:\n",
    "                    beer_rating.append(None)\n",
    "            # Scrape Brewery Name  \n",
    "                try:\n",
    "                    brewery_div = rows.find('div')\n",
    "                    brewery_name.append(brewery_div.a.text)\n",
    "                except:\n",
    "                    brewery_name.append(None)\n",
    "            # Scrape Brewery Location\n",
    "                try:\n",
    "                    brewery_location.append(rows.find('span', attrs={'class':'small'}).text.strip())\n",
    "                except:\n",
    "                    brewery_location.append(None)\n",
    "            # Scrape Reviewer Name\n",
    "                try:\n",
    "                    reviewer_name.append(rows.find('span', attrs={'class':'pull-right'}).text.strip())\n",
    "                except:\n",
    "                    reviewer_name.append(None)\n",
    "            # Scrape content\n",
    "                try:\n",
    "                    review_content.append(rows.find('div', attrs={'style':\"color:#666;\"}).text.strip())\n",
    "                except:\n",
    "                    review_content.append(None)\n",
    "        except:\n",
    "            pass\n",
    "\n",
    "    beerz = pd.DataFrame({'beer_name': beer_name,\n",
    "                         'beer_rating': beer_rating,\n",
    "                        'brewery_name': brewery_name,\n",
    "                         'brewery_location': brewery_location,\n",
    "                        'review_content': review_content,\n",
    "                        'reviewer_name': reviewer_name})\n",
    "    return beerz\n",
    "\n"
   ]
  },
  {
   "cell_type": "code",
   "execution_count": 4,
   "metadata": {
    "ExecuteTime": {
     "end_time": "2020-05-04T08:42:21.796955Z",
     "start_time": "2020-05-04T08:41:12.685850Z"
    }
   },
   "outputs": [
    {
     "data": {
      "application/vnd.jupyter.widget-view+json": {
       "model_id": "5587381b85484d9ba27e44c114f0a0ff",
       "version_major": 2,
       "version_minor": 0
      },
      "text/plain": [
       "HBox(children=(FloatProgress(value=0.0, max=2.0), HTML(value='')))"
      ]
     },
     "metadata": {},
     "output_type": "display_data"
    },
    {
     "name": "stdout",
     "output_type": "stream",
     "text": [
      "\n"
     ]
    },
    {
     "data": {
      "application/vnd.jupyter.widget-view+json": {
       "model_id": "913052d45fbc4528a794b0b6bfeab175",
       "version_major": 2,
       "version_minor": 0
      },
      "text/plain": [
       "HBox(children=(FloatProgress(value=0.0, max=2.0), HTML(value='')))"
      ]
     },
     "metadata": {},
     "output_type": "display_data"
    },
    {
     "name": "stdout",
     "output_type": "stream",
     "text": [
      "\n"
     ]
    },
    {
     "data": {
      "application/vnd.jupyter.widget-view+json": {
       "model_id": "46abfc78fdf14d05a22ea708512960dc",
       "version_major": 2,
       "version_minor": 0
      },
      "text/plain": [
       "HBox(children=(FloatProgress(value=0.0, max=2.0), HTML(value='')))"
      ]
     },
     "metadata": {},
     "output_type": "display_data"
    },
    {
     "name": "stdout",
     "output_type": "stream",
     "text": [
      "\n"
     ]
    },
    {
     "data": {
      "application/vnd.jupyter.widget-view+json": {
       "model_id": "c87ede15ef9b4c3fbc0df6c6c39fb72d",
       "version_major": 2,
       "version_minor": 0
      },
      "text/plain": [
       "HBox(children=(FloatProgress(value=0.0, max=2.0), HTML(value='')))"
      ]
     },
     "metadata": {},
     "output_type": "display_data"
    },
    {
     "name": "stdout",
     "output_type": "stream",
     "text": [
      "\n"
     ]
    },
    {
     "data": {
      "application/vnd.jupyter.widget-view+json": {
       "model_id": "3ede214f54554e80ae5825cb87b5019d",
       "version_major": 2,
       "version_minor": 0
      },
      "text/plain": [
       "HBox(children=(FloatProgress(value=0.0, max=2.0), HTML(value='')))"
      ]
     },
     "metadata": {},
     "output_type": "display_data"
    },
    {
     "name": "stdout",
     "output_type": "stream",
     "text": [
      "\n"
     ]
    }
   ],
   "source": [
    "# # Scraping most recent reviews\n",
    "# url = 'https://www.ratebeer.com/beer-ratings/0/{}/'\n",
    "# df_recent = ratebeer_scraper(0,100,url)\n",
    "\n",
    "# Scraping new beers\n",
    "url = 'https://www.ratebeer.com/beer-ratings/5/{}/'\n",
    "df_new = ratebeer_scraper(0,1,url)\n",
    "\n",
    "# Scraping fave beers\n",
    "url = 'https://www.ratebeer.com/beer-ratings/4/{}/'\n",
    "df_fave = ratebeer_scraper(0,1,url)\n",
    "\n",
    "# Scraping rave beers\n",
    "url = 'https://www.ratebeer.com/beer-ratings/1/{}/'\n",
    "df_rave = ratebeer_scraper(0,1,url)\n",
    "\n",
    "# Scraping rant beers\n",
    "url = 'https://www.ratebeer.com/beer-ratings/2/{}/'\n",
    "df_rant = ratebeer_scraper(0,1,url)\n",
    "\n",
    "# Scraping anomalous beers\n",
    "url = 'https://www.ratebeer.com/beer-ratings/3/{}/'\n",
    "df_anom = ratebeer_scraper(0,1,url)"
   ]
  },
  {
   "cell_type": "code",
   "execution_count": 67,
   "metadata": {
    "ExecuteTime": {
     "end_time": "2020-04-30T11:59:28.760939Z",
     "start_time": "2020-04-30T11:59:28.694798Z"
    }
   },
   "outputs": [],
   "source": [
    "# getting rid of non-ascii characters from the reviews as it breaks csv\n",
    "df_rave.review_content = df_rave.review_content.apply(lambda x: x.encode('ascii', 'ignore').decode('ascii'))"
   ]
  },
  {
   "cell_type": "code",
   "execution_count": 5,
   "metadata": {
    "ExecuteTime": {
     "end_time": "2020-05-04T08:43:17.031302Z",
     "start_time": "2020-05-04T08:43:16.859218Z"
    }
   },
   "outputs": [],
   "source": [
    "# read current data from csv (there is a backup at all_reviews_backup.csv)\n",
    "# df = pd.read_csv('all_reviews.csv')"
   ]
  },
  {
   "cell_type": "code",
   "execution_count": 25,
   "metadata": {
    "ExecuteTime": {
     "end_time": "2020-05-04T08:56:11.851465Z",
     "start_time": "2020-05-04T08:56:11.781120Z"
    }
   },
   "outputs": [
    {
     "name": "stdout",
     "output_type": "stream",
     "text": [
      "14506\n",
      "12841\n"
     ]
    }
   ],
   "source": [
    "# concatenating all of the scrapes together with the old df\n",
    "df = pd.concat([df, df_recent, df_new, df_fave, df_rave, df_rant, df_anom])\n",
    "print(len(df))\n",
    "df.drop_duplicates(inplace=True)\n",
    "print(len(df))\n",
    "df.beer_name = df.beer_name.apply(lambda x: x.strip())\n",
    "\n"
   ]
  },
  {
   "cell_type": "code",
   "execution_count": 26,
   "metadata": {
    "ExecuteTime": {
     "end_time": "2020-05-04T08:56:16.032268Z",
     "start_time": "2020-05-04T08:56:16.004882Z"
    }
   },
   "outputs": [
    {
     "data": {
      "text/html": [
       "<div>\n",
       "<style scoped>\n",
       "    .dataframe tbody tr th:only-of-type {\n",
       "        vertical-align: middle;\n",
       "    }\n",
       "\n",
       "    .dataframe tbody tr th {\n",
       "        vertical-align: top;\n",
       "    }\n",
       "\n",
       "    .dataframe thead th {\n",
       "        text-align: right;\n",
       "    }\n",
       "</style>\n",
       "<table border=\"1\" class=\"dataframe\">\n",
       "  <thead>\n",
       "    <tr style=\"text-align: right;\">\n",
       "      <th></th>\n",
       "      <th>beer_name</th>\n",
       "      <th>beer_rating</th>\n",
       "      <th>brewery_location</th>\n",
       "      <th>brewery_name</th>\n",
       "      <th>review_content</th>\n",
       "      <th>reviewer_name</th>\n",
       "    </tr>\n",
       "  </thead>\n",
       "  <tbody>\n",
       "    <tr>\n",
       "      <th>0</th>\n",
       "      <td>St. Peter's Ruby Red Ale</td>\n",
       "      <td>3.3</td>\n",
       "      <td>Bungay, Suffolk</td>\n",
       "      <td>St. Peter's Brewery</td>\n",
       "      <td>Ruby color, offwhite coam. Aroma and taste: fl...</td>\n",
       "      <td>alex_leit</td>\n",
       "    </tr>\n",
       "    <tr>\n",
       "      <th>1</th>\n",
       "      <td>Shepherd Neame Spitfire (Bottle)</td>\n",
       "      <td>2.2</td>\n",
       "      <td>Faversham, Kent</td>\n",
       "      <td>Shepherd Neame</td>\n",
       "      <td>Disappointing show from the lads at ‘Britain’s...</td>\n",
       "      <td>shivermetimber.gray</td>\n",
       "    </tr>\n",
       "    <tr>\n",
       "      <th>2</th>\n",
       "      <td>Arbor Rocketman</td>\n",
       "      <td>3.8</td>\n",
       "      <td>Bristol, Gloucestershire</td>\n",
       "      <td>Arbor Ales</td>\n",
       "      <td>Puszka. Mętne o żółtym kolorze. Piana biała,ob...</td>\n",
       "      <td>MarcinG</td>\n",
       "    </tr>\n",
       "    <tr>\n",
       "      <th>3</th>\n",
       "      <td>Shepherd Neame India Pale Ale (Bottle)</td>\n",
       "      <td>3.4</td>\n",
       "      <td>Faversham, Kent</td>\n",
       "      <td>Shepherd Neame</td>\n",
       "      <td>Bottle. Amber with bronze color and white foam...</td>\n",
       "      <td>alex_leit</td>\n",
       "    </tr>\n",
       "    <tr>\n",
       "      <th>4</th>\n",
       "      <td>Shepherd Neame Christmas Ale</td>\n",
       "      <td>3.3</td>\n",
       "      <td>Faversham, Kent</td>\n",
       "      <td>Shepherd Neame</td>\n",
       "      <td>Bottle. Aroma: English hops and malts with tof...</td>\n",
       "      <td>alex_leit</td>\n",
       "    </tr>\n",
       "    <tr>\n",
       "      <th>...</th>\n",
       "      <td>...</td>\n",
       "      <td>...</td>\n",
       "      <td>...</td>\n",
       "      <td>...</td>\n",
       "      <td>...</td>\n",
       "      <td>...</td>\n",
       "    </tr>\n",
       "    <tr>\n",
       "      <th>10</th>\n",
       "      <td>Grimm Mosaic Pop!</td>\n",
       "      <td>1.6</td>\n",
       "      <td>-1.9</td>\n",
       "      <td>Grimm Artisanal Ales</td>\n",
       "      <td>660ml bottle (Pothouse, Tallinn) (3:2:3:2:6=1....</td>\n",
       "      <td>FatPhil</td>\n",
       "    </tr>\n",
       "    <tr>\n",
       "      <th>11</th>\n",
       "      <td>Bone Machine Garden of Death</td>\n",
       "      <td>1.9</td>\n",
       "      <td>-1.6</td>\n",
       "      <td>Bone Machine Brew Co</td>\n",
       "      <td>Can: Poured a mucky orange brown with huge whi...</td>\n",
       "      <td>SHIG</td>\n",
       "    </tr>\n",
       "    <tr>\n",
       "      <th>12</th>\n",
       "      <td>Grimm Super You</td>\n",
       "      <td>2.0</td>\n",
       "      <td>-1.5</td>\n",
       "      <td>Grimm Artisanal Ales</td>\n",
       "      <td>660ml bottle - thanks Marduk! (4:2:4:2:8=2.0)\\...</td>\n",
       "      <td>FatPhil</td>\n",
       "    </tr>\n",
       "    <tr>\n",
       "      <th>13</th>\n",
       "      <td>Magic Rock Dark Arts Hazelnut</td>\n",
       "      <td>1.9</td>\n",
       "      <td>-1.6</td>\n",
       "      <td>Magic Rock Brewing (Lion Co. - Kirin Holdings)</td>\n",
       "      <td>Lovely aromas of sweet chocolate, nuts and van...</td>\n",
       "      <td>Cool_Bond</td>\n",
       "    </tr>\n",
       "    <tr>\n",
       "      <th>14</th>\n",
       "      <td>Anchorage / Jolly Pumpkin Matame Ahorita</td>\n",
       "      <td>1.9</td>\n",
       "      <td>-1.7</td>\n",
       "      <td>Anchorage Brewing Company</td>\n",
       "      <td>Tart blueberry nose with chemical overtones. H...</td>\n",
       "      <td>obguthr</td>\n",
       "    </tr>\n",
       "  </tbody>\n",
       "</table>\n",
       "<p>12841 rows × 6 columns</p>\n",
       "</div>"
      ],
      "text/plain": [
       "                                   beer_name beer_rating  \\\n",
       "0                   St. Peter's Ruby Red Ale         3.3   \n",
       "1           Shepherd Neame Spitfire (Bottle)         2.2   \n",
       "2                            Arbor Rocketman         3.8   \n",
       "3     Shepherd Neame India Pale Ale (Bottle)         3.4   \n",
       "4               Shepherd Neame Christmas Ale         3.3   \n",
       "..                                       ...         ...   \n",
       "10                         Grimm Mosaic Pop!         1.6   \n",
       "11              Bone Machine Garden of Death         1.9   \n",
       "12                           Grimm Super You         2.0   \n",
       "13             Magic Rock Dark Arts Hazelnut         1.9   \n",
       "14  Anchorage / Jolly Pumpkin Matame Ahorita         1.9   \n",
       "\n",
       "            brewery_location                                    brewery_name  \\\n",
       "0            Bungay, Suffolk                             St. Peter's Brewery   \n",
       "1            Faversham, Kent                                  Shepherd Neame   \n",
       "2   Bristol, Gloucestershire                                      Arbor Ales   \n",
       "3            Faversham, Kent                                  Shepherd Neame   \n",
       "4            Faversham, Kent                                  Shepherd Neame   \n",
       "..                       ...                                             ...   \n",
       "10                      -1.9                            Grimm Artisanal Ales   \n",
       "11                      -1.6                            Bone Machine Brew Co   \n",
       "12                      -1.5                            Grimm Artisanal Ales   \n",
       "13                      -1.6  Magic Rock Brewing (Lion Co. - Kirin Holdings)   \n",
       "14                      -1.7                       Anchorage Brewing Company   \n",
       "\n",
       "                                       review_content        reviewer_name  \n",
       "0   Ruby color, offwhite coam. Aroma and taste: fl...            alex_leit  \n",
       "1   Disappointing show from the lads at ‘Britain’s...  shivermetimber.gray  \n",
       "2   Puszka. Mętne o żółtym kolorze. Piana biała,ob...              MarcinG  \n",
       "3   Bottle. Amber with bronze color and white foam...            alex_leit  \n",
       "4   Bottle. Aroma: English hops and malts with tof...            alex_leit  \n",
       "..                                                ...                  ...  \n",
       "10  660ml bottle (Pothouse, Tallinn) (3:2:3:2:6=1....              FatPhil  \n",
       "11  Can: Poured a mucky orange brown with huge whi...                 SHIG  \n",
       "12  660ml bottle - thanks Marduk! (4:2:4:2:8=2.0)\\...              FatPhil  \n",
       "13  Lovely aromas of sweet chocolate, nuts and van...            Cool_Bond  \n",
       "14  Tart blueberry nose with chemical overtones. H...              obguthr  \n",
       "\n",
       "[12841 rows x 6 columns]"
      ]
     },
     "execution_count": 26,
     "metadata": {},
     "output_type": "execute_result"
    }
   ],
   "source": [
    "df"
   ]
  },
  {
   "cell_type": "code",
   "execution_count": 28,
   "metadata": {
    "ExecuteTime": {
     "end_time": "2020-05-04T08:56:25.695877Z",
     "start_time": "2020-05-04T08:56:25.675337Z"
    }
   },
   "outputs": [],
   "source": [
    "# df.to_csv('all_reviews.csv',index=False)\n",
    "# df = pd.read_csv('all_reviews.csv')"
   ]
  },
  {
   "cell_type": "markdown",
   "metadata": {},
   "source": [
    "## Get more information on all of the beers - Selenium"
   ]
  },
  {
   "cell_type": "code",
   "execution_count": 10,
   "metadata": {
    "ExecuteTime": {
     "end_time": "2020-05-04T08:44:38.630994Z",
     "start_time": "2020-05-04T08:44:38.459757Z"
    }
   },
   "outputs": [],
   "source": [
    "from selenium import webdriver\n",
    "import time"
   ]
  },
  {
   "cell_type": "code",
   "execution_count": 32,
   "metadata": {
    "ExecuteTime": {
     "end_time": "2020-05-04T10:56:21.133914Z",
     "start_time": "2020-05-04T10:56:21.055823Z"
    }
   },
   "outputs": [],
   "source": [
    "# extract already scraped data from previous scrapes so don't rescrape\n",
    "beer_df = pd.read_csv('beer_deets.csv')"
   ]
  },
  {
   "cell_type": "code",
   "execution_count": 33,
   "metadata": {
    "ExecuteTime": {
     "end_time": "2020-05-04T10:56:25.619532Z",
     "start_time": "2020-05-04T10:56:25.445145Z"
    }
   },
   "outputs": [
    {
     "name": "stdout",
     "output_type": "stream",
     "text": [
      "There are 1965 new beers to search for!\n"
     ]
    }
   ],
   "source": [
    "# compare to the unique list to create a new to-be-scraped list\n",
    "new_beer = df.beer_name[~df.beer_name.isin(beer_df.name_found)].unique()\n",
    "print(\"There are\", len(new_beer), \"new beers to search for!\")"
   ]
  },
  {
   "cell_type": "code",
   "execution_count": 31,
   "metadata": {
    "ExecuteTime": {
     "end_time": "2020-05-04T10:53:38.274355Z",
     "start_time": "2020-05-04T08:57:09.457363Z"
    }
   },
   "outputs": [
    {
     "data": {
      "application/vnd.jupyter.widget-view+json": {
       "model_id": "c91284f675dd4bfd850243c01fb5399f",
       "version_major": 2,
       "version_minor": 0
      },
      "text/plain": [
       "HBox(children=(FloatProgress(value=0.0, max=1965.0), HTML(value='')))"
      ]
     },
     "metadata": {},
     "output_type": "display_data"
    },
    {
     "name": "stdout",
     "output_type": "stream",
     "text": [
      "\n"
     ]
    }
   ],
   "source": [
    "item_names = []\n",
    "desc_string = []\n",
    "\n",
    "driver = webdriver.Chrome(executable_path='/Users/lukebetham/Downloads/chromedriver')\n",
    "\n",
    "for beer in tqdm(new_beer):\n",
    "    driver.get(\"https://www.ratebeer.com/search?beername={}\".format(beer))\n",
    "    time.sleep(2)\n",
    "    item_tags = driver.find_elements_by_class_name('fg-1')\n",
    "\n",
    "    x=1\n",
    "    beer_temp = []\n",
    "    for item in item_tags:        \n",
    "        if x <2:\n",
    "            try:\n",
    "                item_names.append(item.find_element_by_class_name('fd-r').text)\n",
    "                x+=1\n",
    "            except:\n",
    "                pass\n",
    "            try:\n",
    "                beer_temp.append(item.text)\n",
    "            except:\n",
    "                pass\n",
    "    try:\n",
    "        desc_string.append(beer_temp[4])\n",
    "    except:\n",
    "        desc_string.append(None)"
   ]
  },
  {
   "cell_type": "code",
   "execution_count": 70,
   "metadata": {
    "ExecuteTime": {
     "end_time": "2020-05-04T14:18:38.203861Z",
     "start_time": "2020-05-04T14:18:38.176031Z"
    }
   },
   "outputs": [
    {
     "data": {
      "text/html": [
       "<div>\n",
       "<style scoped>\n",
       "    .dataframe tbody tr th:only-of-type {\n",
       "        vertical-align: middle;\n",
       "    }\n",
       "\n",
       "    .dataframe tbody tr th {\n",
       "        vertical-align: top;\n",
       "    }\n",
       "\n",
       "    .dataframe thead th {\n",
       "        text-align: right;\n",
       "    }\n",
       "</style>\n",
       "<table border=\"1\" class=\"dataframe\">\n",
       "  <thead>\n",
       "    <tr style=\"text-align: right;\">\n",
       "      <th></th>\n",
       "      <th>return_string</th>\n",
       "    </tr>\n",
       "  </thead>\n",
       "  <tbody>\n",
       "    <tr>\n",
       "      <th>0</th>\n",
       "      <td>Flying Dog Raging Bitch Belgian-Style IPA\\n🇺🇸 ...</td>\n",
       "    </tr>\n",
       "    <tr>\n",
       "      <th>1</th>\n",
       "      <td>Stone R &amp; R Coconut IPA\\n🇺🇸 IPA - Flavored • 7...</td>\n",
       "    </tr>\n",
       "    <tr>\n",
       "      <th>2</th>\n",
       "      <td>Yaletown Yippie IPA\\n🇨🇦 IPA0\\n51\\n39\\n3.32\\n(2...</td>\n",
       "    </tr>\n",
       "    <tr>\n",
       "      <th>3</th>\n",
       "      <td>Yaletown Downtown Brown\\n🇨🇦 Brown Ale0\\n25\\n23...</td>\n",
       "    </tr>\n",
       "    <tr>\n",
       "      <th>4</th>\n",
       "      <td>Yaletown Red Truck Ale\\n🇨🇦 Red Ale / Intl Ambe...</td>\n",
       "    </tr>\n",
       "    <tr>\n",
       "      <th>...</th>\n",
       "      <td>...</td>\n",
       "    </tr>\n",
       "    <tr>\n",
       "      <th>1960</th>\n",
       "      <td>Fürst Carl Franken Ale\\n🇩🇪 Blonde Ale / Golden...</td>\n",
       "    </tr>\n",
       "    <tr>\n",
       "      <th>1961</th>\n",
       "      <td>Brix City Parrot Jams\\n🇺🇸 IIPA DIPA - Hazy / D...</td>\n",
       "    </tr>\n",
       "    <tr>\n",
       "      <th>1962</th>\n",
       "      <td>Lone Pine Quantum Cuddle Kitten\\n🇺🇸 IIPA DIPA ...</td>\n",
       "    </tr>\n",
       "    <tr>\n",
       "      <th>1963</th>\n",
       "      <td>Munich Brew Mafia / Tap House Munich Anniversa...</td>\n",
       "    </tr>\n",
       "    <tr>\n",
       "      <th>1964</th>\n",
       "      <td>Camba Bavaria Doppelbock Mastrobator\\n🇩🇪 Bock ...</td>\n",
       "    </tr>\n",
       "  </tbody>\n",
       "</table>\n",
       "<p>1965 rows × 1 columns</p>\n",
       "</div>"
      ],
      "text/plain": [
       "                                          return_string\n",
       "0     Flying Dog Raging Bitch Belgian-Style IPA\\n🇺🇸 ...\n",
       "1     Stone R & R Coconut IPA\\n🇺🇸 IPA - Flavored • 7...\n",
       "2     Yaletown Yippie IPA\\n🇨🇦 IPA0\\n51\\n39\\n3.32\\n(2...\n",
       "3     Yaletown Downtown Brown\\n🇨🇦 Brown Ale0\\n25\\n23...\n",
       "4     Yaletown Red Truck Ale\\n🇨🇦 Red Ale / Intl Ambe...\n",
       "...                                                 ...\n",
       "1960  Fürst Carl Franken Ale\\n🇩🇪 Blonde Ale / Golden...\n",
       "1961  Brix City Parrot Jams\\n🇺🇸 IIPA DIPA - Hazy / D...\n",
       "1962  Lone Pine Quantum Cuddle Kitten\\n🇺🇸 IIPA DIPA ...\n",
       "1963  Munich Brew Mafia / Tap House Munich Anniversa...\n",
       "1964  Camba Bavaria Doppelbock Mastrobator\\n🇩🇪 Bock ...\n",
       "\n",
       "[1965 rows x 1 columns]"
      ]
     },
     "execution_count": 70,
     "metadata": {},
     "output_type": "execute_result"
    }
   ],
   "source": [
    "beer_deets = pd.DataFrame(desc_string, columns = ['return_string'])\n",
    "beer_deets"
   ]
  },
  {
   "cell_type": "code",
   "execution_count": 71,
   "metadata": {
    "ExecuteTime": {
     "end_time": "2020-05-04T14:18:41.536945Z",
     "start_time": "2020-05-04T14:18:41.505745Z"
    }
   },
   "outputs": [],
   "source": [
    "## cleaning the scraped data\n",
    "beer_deets.dropna(inplace=True)\n",
    "beer_deets = beer_deets[~beer_deets.return_string.str.startswith('Logo\\n')].copy()\n",
    "no_alcohol = beer_deets[~beer_deets.return_string.str.contains('%')].copy()\n",
    "beer_deets = beer_deets[beer_deets.return_string.str.contains('%')].copy()\n",
    "# maybe create a cant find list so dont keep re-searching?"
   ]
  },
  {
   "cell_type": "code",
   "execution_count": 72,
   "metadata": {
    "ExecuteTime": {
     "end_time": "2020-05-04T14:18:42.450349Z",
     "start_time": "2020-05-04T14:18:42.393587Z"
    }
   },
   "outputs": [],
   "source": [
    "# sorting the scraped data into columns\n",
    "beer_deets['name_found'] = beer_deets.return_string.apply(lambda x: x.split('\\n')[0].strip())\n",
    "beer_deets['flag'] = beer_deets.return_string.apply(lambda x: x.split('\\n')[1].split('•')[0].split(\" \")[0])\n",
    "beer_deets['type'] = beer_deets.return_string.apply(lambda x: x.split('\\n')[1].split('•')[0][2:])\n",
    "beer_deets['abv'] = beer_deets.return_string.apply(lambda x: float(x.split('\\n')[1].split('•')[1].replace(\"%\",\"\")))\n",
    "beer_deets['rb_overall_score'] = beer_deets.return_string.apply(lambda x: x.split('\\n')[2])\n",
    "beer_deets['rb_style_score'] = beer_deets.return_string.apply(lambda x: x.split('\\n')[3])\n",
    "beer_deets['rb_user_rating'] = beer_deets.return_string.apply(lambda x: x.split('\\n')[4])\n",
    "beer_deets['rb_rating_number'] = beer_deets.return_string.apply(lambda x: x.split('\\n')[5].replace(\"(\",\"\").replace(\")\",\"\"))\n"
   ]
  },
  {
   "cell_type": "code",
   "execution_count": 73,
   "metadata": {
    "ExecuteTime": {
     "end_time": "2020-05-04T14:18:44.256830Z",
     "start_time": "2020-05-04T14:18:44.166204Z"
    }
   },
   "outputs": [
    {
     "data": {
      "text/html": [
       "<div>\n",
       "<style scoped>\n",
       "    .dataframe tbody tr th:only-of-type {\n",
       "        vertical-align: middle;\n",
       "    }\n",
       "\n",
       "    .dataframe tbody tr th {\n",
       "        vertical-align: top;\n",
       "    }\n",
       "\n",
       "    .dataframe thead th {\n",
       "        text-align: right;\n",
       "    }\n",
       "</style>\n",
       "<table border=\"1\" class=\"dataframe\">\n",
       "  <thead>\n",
       "    <tr style=\"text-align: right;\">\n",
       "      <th></th>\n",
       "      <th>return_string</th>\n",
       "      <th>name_found</th>\n",
       "      <th>flag</th>\n",
       "      <th>type</th>\n",
       "      <th>abv</th>\n",
       "      <th>rb_overall_score</th>\n",
       "      <th>rb_style_score</th>\n",
       "      <th>rb_user_rating</th>\n",
       "      <th>rb_rating_number</th>\n",
       "    </tr>\n",
       "  </thead>\n",
       "  <tbody>\n",
       "    <tr>\n",
       "      <th>2</th>\n",
       "      <td>Yaletown Yippie IPA\\n🇨🇦 IPA0\\n51\\n39\\n3.32\\n(2...</td>\n",
       "      <td>Yaletown Yippie IPA</td>\n",
       "      <td>🇨🇦</td>\n",
       "      <td>IPA</td>\n",
       "      <td>0.0</td>\n",
       "      <td>51</td>\n",
       "      <td>39</td>\n",
       "      <td>3.32</td>\n",
       "      <td>24</td>\n",
       "    </tr>\n",
       "    <tr>\n",
       "      <th>3</th>\n",
       "      <td>Yaletown Downtown Brown\\n🇨🇦 Brown Ale0\\n25\\n23...</td>\n",
       "      <td>Yaletown Downtown Brown</td>\n",
       "      <td>🇨🇦</td>\n",
       "      <td>Brown Ale</td>\n",
       "      <td>0.0</td>\n",
       "      <td>25</td>\n",
       "      <td>23</td>\n",
       "      <td>2.90</td>\n",
       "      <td>31</td>\n",
       "    </tr>\n",
       "    <tr>\n",
       "      <th>4</th>\n",
       "      <td>Yaletown Red Truck Ale\\n🇨🇦 Red Ale / Intl Ambe...</td>\n",
       "      <td>Yaletown Red Truck Ale</td>\n",
       "      <td>🇨🇦</td>\n",
       "      <td>Red Ale / Intl Amber Ale</td>\n",
       "      <td>0.0</td>\n",
       "      <td>26</td>\n",
       "      <td>34</td>\n",
       "      <td>2.92</td>\n",
       "      <td>25</td>\n",
       "    </tr>\n",
       "    <tr>\n",
       "      <th>5</th>\n",
       "      <td>Yaletown Hills Special Wheat\\n🇨🇦 Weissbier - H...</td>\n",
       "      <td>Yaletown Hills Special Wheat</td>\n",
       "      <td>🇨🇦</td>\n",
       "      <td>Weissbier - Hefeweizen</td>\n",
       "      <td>0.0</td>\n",
       "      <td>45</td>\n",
       "      <td>82</td>\n",
       "      <td>3.20</td>\n",
       "      <td>33</td>\n",
       "    </tr>\n",
       "    <tr>\n",
       "      <th>9</th>\n",
       "      <td>Nightmare Gunga Rao\\n🇺🇸 IPA - Sour / Wild\\n-\\n...</td>\n",
       "      <td>Nightmare Gunga Rao</td>\n",
       "      <td>🇺🇸</td>\n",
       "      <td>IPA - Sour / Wild</td>\n",
       "      <td>NaN</td>\n",
       "      <td>-</td>\n",
       "      <td>-</td>\n",
       "      <td>3.67</td>\n",
       "      <td>3</td>\n",
       "    </tr>\n",
       "    <tr>\n",
       "      <th>...</th>\n",
       "      <td>...</td>\n",
       "      <td>...</td>\n",
       "      <td>...</td>\n",
       "      <td>...</td>\n",
       "      <td>...</td>\n",
       "      <td>...</td>\n",
       "      <td>...</td>\n",
       "      <td>...</td>\n",
       "      <td>...</td>\n",
       "    </tr>\n",
       "    <tr>\n",
       "      <th>1818</th>\n",
       "      <td>De La Vega's Pecan Grill Peanut Butter Pecan P...</td>\n",
       "      <td>De La Vega's Pecan Grill Peanut Butter Pecan P...</td>\n",
       "      <td>🇺🇸</td>\n",
       "      <td>Porter - Flavored</td>\n",
       "      <td>NaN</td>\n",
       "      <td>-</td>\n",
       "      <td>-</td>\n",
       "      <td>3.50</td>\n",
       "      <td>1</td>\n",
       "    </tr>\n",
       "    <tr>\n",
       "      <th>1852</th>\n",
       "      <td>Rainbow Olut Alkoholiton Lager\\n🇧🇪 Low / No Al...</td>\n",
       "      <td>Rainbow Olut Alkoholiton Lager</td>\n",
       "      <td>🇧🇪</td>\n",
       "      <td>Low / No Alcohol Beer - Pale</td>\n",
       "      <td>0.0</td>\n",
       "      <td>0</td>\n",
       "      <td>3</td>\n",
       "      <td>1.23</td>\n",
       "      <td>41</td>\n",
       "    </tr>\n",
       "    <tr>\n",
       "      <th>1871</th>\n",
       "      <td>Cycle Sunday - 2020\\n🇺🇸 BarleyWine / WheatWine...</td>\n",
       "      <td>Cycle Sunday - 2020</td>\n",
       "      <td>🇺🇸</td>\n",
       "      <td>BarleyWine / WheatWine / RyeWine</td>\n",
       "      <td>NaN</td>\n",
       "      <td>-</td>\n",
       "      <td>-</td>\n",
       "      <td>3.70</td>\n",
       "      <td>1</td>\n",
       "    </tr>\n",
       "    <tr>\n",
       "      <th>1894</th>\n",
       "      <td>Pyramid Subliminal State Hazy Pale Ale\\n🇺🇸 Pal...</td>\n",
       "      <td>Pyramid Subliminal State Hazy Pale Ale</td>\n",
       "      <td>🇺🇸</td>\n",
       "      <td>Pale Ale - American / APA</td>\n",
       "      <td>NaN</td>\n",
       "      <td>-</td>\n",
       "      <td>-</td>\n",
       "      <td>3.70</td>\n",
       "      <td>1</td>\n",
       "    </tr>\n",
       "    <tr>\n",
       "      <th>1930</th>\n",
       "      <td>Saint Arnold Pub Crawl APA\\n🇺🇸 Pale Ale - Amer...</td>\n",
       "      <td>Saint Arnold Pub Crawl APA</td>\n",
       "      <td>🇺🇸</td>\n",
       "      <td>Pale Ale - American / APA</td>\n",
       "      <td>0.0</td>\n",
       "      <td>67</td>\n",
       "      <td>70</td>\n",
       "      <td>3.35</td>\n",
       "      <td>29</td>\n",
       "    </tr>\n",
       "  </tbody>\n",
       "</table>\n",
       "<p>135 rows × 9 columns</p>\n",
       "</div>"
      ],
      "text/plain": [
       "                                          return_string  \\\n",
       "2     Yaletown Yippie IPA\\n🇨🇦 IPA0\\n51\\n39\\n3.32\\n(2...   \n",
       "3     Yaletown Downtown Brown\\n🇨🇦 Brown Ale0\\n25\\n23...   \n",
       "4     Yaletown Red Truck Ale\\n🇨🇦 Red Ale / Intl Ambe...   \n",
       "5     Yaletown Hills Special Wheat\\n🇨🇦 Weissbier - H...   \n",
       "9     Nightmare Gunga Rao\\n🇺🇸 IPA - Sour / Wild\\n-\\n...   \n",
       "...                                                 ...   \n",
       "1818  De La Vega's Pecan Grill Peanut Butter Pecan P...   \n",
       "1852  Rainbow Olut Alkoholiton Lager\\n🇧🇪 Low / No Al...   \n",
       "1871  Cycle Sunday - 2020\\n🇺🇸 BarleyWine / WheatWine...   \n",
       "1894  Pyramid Subliminal State Hazy Pale Ale\\n🇺🇸 Pal...   \n",
       "1930  Saint Arnold Pub Crawl APA\\n🇺🇸 Pale Ale - Amer...   \n",
       "\n",
       "                                             name_found flag  \\\n",
       "2                                   Yaletown Yippie IPA   🇨🇦   \n",
       "3                               Yaletown Downtown Brown   🇨🇦   \n",
       "4                                Yaletown Red Truck Ale   🇨🇦   \n",
       "5                          Yaletown Hills Special Wheat   🇨🇦   \n",
       "9                                   Nightmare Gunga Rao   🇺🇸   \n",
       "...                                                 ...  ...   \n",
       "1818  De La Vega's Pecan Grill Peanut Butter Pecan P...   🇺🇸   \n",
       "1852                     Rainbow Olut Alkoholiton Lager   🇧🇪   \n",
       "1871                                Cycle Sunday - 2020   🇺🇸   \n",
       "1894             Pyramid Subliminal State Hazy Pale Ale   🇺🇸   \n",
       "1930                         Saint Arnold Pub Crawl APA   🇺🇸   \n",
       "\n",
       "                                   type  abv rb_overall_score rb_style_score  \\\n",
       "2                                   IPA  0.0               51             39   \n",
       "3                             Brown Ale  0.0               25             23   \n",
       "4              Red Ale / Intl Amber Ale  0.0               26             34   \n",
       "5                Weissbier - Hefeweizen  0.0               45             82   \n",
       "9                     IPA - Sour / Wild  NaN                -              -   \n",
       "...                                 ...  ...              ...            ...   \n",
       "1818                  Porter - Flavored  NaN                -              -   \n",
       "1852       Low / No Alcohol Beer - Pale  0.0                0              3   \n",
       "1871   BarleyWine / WheatWine / RyeWine  NaN                -              -   \n",
       "1894          Pale Ale - American / APA  NaN                -              -   \n",
       "1930          Pale Ale - American / APA  0.0               67             70   \n",
       "\n",
       "     rb_user_rating rb_rating_number  \n",
       "2              3.32               24  \n",
       "3              2.90               31  \n",
       "4              2.92               25  \n",
       "5              3.20               33  \n",
       "9              3.67                3  \n",
       "...             ...              ...  \n",
       "1818           3.50                1  \n",
       "1852           1.23               41  \n",
       "1871           3.70                1  \n",
       "1894           3.70                1  \n",
       "1930           3.35               29  \n",
       "\n",
       "[135 rows x 9 columns]"
      ]
     },
     "execution_count": 73,
     "metadata": {},
     "output_type": "execute_result"
    }
   ],
   "source": [
    "# sorting the no alcohol measure\n",
    "no_alcohol['name_found'] = no_alcohol.return_string.apply(lambda x: x.split('\\n')[0].strip())\n",
    "no_alcohol['flag'] = no_alcohol.return_string.apply(lambda x: x.split('\\n')[1].split('•')[0].split(\" \")[0])\n",
    "no_alcohol['type'] = no_alcohol.return_string.apply(lambda x: x.split('\\n')[1].split('•')[0][2:])\n",
    "no_alcohol['abv'] = no_alcohol.type.apply(lambda x: 0 if x[-1] == '0' else None)\n",
    "no_alcohol['type'] = no_alcohol.type.apply(lambda x: x[:-1] if x[-1] == '0' else x)\n",
    "no_alcohol['check'] = no_alcohol.return_string.apply(lambda x: len(x.split('\\n')))\n",
    "no_alcohol = no_alcohol[no_alcohol['check']>4].copy()\n",
    "no_alcohol['rb_overall_score'] = no_alcohol.return_string.apply(lambda x: x.split('\\n')[2])\n",
    "no_alcohol['rb_style_score'] = no_alcohol.return_string.apply(lambda x: x.split('\\n')[3])\n",
    "no_alcohol['rb_user_rating'] = no_alcohol.return_string.apply(lambda x: x.split('\\n')[4])\n",
    "no_alcohol['rb_rating_number'] = no_alcohol.return_string.apply(lambda x: x.split('\\n')[5].replace(\"(\",\"\").replace(\")\",\"\"))\n",
    "no_alcohol.drop('check',inplace=True, axis=1)\n",
    "\n",
    "no_alcohol"
   ]
  },
  {
   "cell_type": "code",
   "execution_count": 74,
   "metadata": {
    "ExecuteTime": {
     "end_time": "2020-05-04T14:25:51.615384Z",
     "start_time": "2020-05-04T14:25:51.550079Z"
    }
   },
   "outputs": [],
   "source": [
    "beer_df = pd.concat([beer_df,beer_deets,no_alcohol])"
   ]
  },
  {
   "cell_type": "code",
   "execution_count": 75,
   "metadata": {
    "ExecuteTime": {
     "end_time": "2020-05-04T14:25:58.191672Z",
     "start_time": "2020-05-04T14:25:58.157723Z"
    }
   },
   "outputs": [
    {
     "data": {
      "text/html": [
       "<div>\n",
       "<style scoped>\n",
       "    .dataframe tbody tr th:only-of-type {\n",
       "        vertical-align: middle;\n",
       "    }\n",
       "\n",
       "    .dataframe tbody tr th {\n",
       "        vertical-align: top;\n",
       "    }\n",
       "\n",
       "    .dataframe thead th {\n",
       "        text-align: right;\n",
       "    }\n",
       "</style>\n",
       "<table border=\"1\" class=\"dataframe\">\n",
       "  <thead>\n",
       "    <tr style=\"text-align: right;\">\n",
       "      <th></th>\n",
       "      <th>return_string</th>\n",
       "      <th>flag</th>\n",
       "      <th>type</th>\n",
       "      <th>abv</th>\n",
       "      <th>rb_overall_score</th>\n",
       "      <th>rb_style_score</th>\n",
       "      <th>rb_user_rating</th>\n",
       "      <th>rb_rating_number</th>\n",
       "      <th>name_found</th>\n",
       "    </tr>\n",
       "  </thead>\n",
       "  <tbody>\n",
       "    <tr>\n",
       "      <th>0</th>\n",
       "      <td>St. Peter's Ruby Red Ale\\n🇬🇧 Bitter - Ordinary...</td>\n",
       "      <td>🇬🇧</td>\n",
       "      <td>Bitter - Ordinary / Best</td>\n",
       "      <td>4.3</td>\n",
       "      <td>49</td>\n",
       "      <td>95</td>\n",
       "      <td>3.25</td>\n",
       "      <td>415</td>\n",
       "      <td>St. Peter's Ruby Red Ale</td>\n",
       "    </tr>\n",
       "    <tr>\n",
       "      <th>1</th>\n",
       "      <td>Shepherd Neame Spitfire (Bottle)\\n🇬🇧 Bitter - ...</td>\n",
       "      <td>🇬🇧</td>\n",
       "      <td>Bitter - Ordinary / Best</td>\n",
       "      <td>4.5</td>\n",
       "      <td>34</td>\n",
       "      <td>59</td>\n",
       "      <td>3.05</td>\n",
       "      <td>1083</td>\n",
       "      <td>Shepherd Neame Spitfire (Bottle)</td>\n",
       "    </tr>\n",
       "    <tr>\n",
       "      <th>2</th>\n",
       "      <td>Arbor Rocketman\\n🇬🇧 IPA • 6.0%\\n95\\n97\\n3.74\\n...</td>\n",
       "      <td>🇬🇧</td>\n",
       "      <td>IPA</td>\n",
       "      <td>6.0</td>\n",
       "      <td>95</td>\n",
       "      <td>97</td>\n",
       "      <td>3.74</td>\n",
       "      <td>59</td>\n",
       "      <td>Arbor Rocketman</td>\n",
       "    </tr>\n",
       "    <tr>\n",
       "      <th>3</th>\n",
       "      <td>Shepherd Neame India Pale Ale (Bottle)\\n🇬🇧 IPA...</td>\n",
       "      <td>🇬🇧</td>\n",
       "      <td>IPA - English</td>\n",
       "      <td>6.1</td>\n",
       "      <td>46</td>\n",
       "      <td>47</td>\n",
       "      <td>3.22</td>\n",
       "      <td>420</td>\n",
       "      <td>Shepherd Neame India Pale Ale (Bottle)</td>\n",
       "    </tr>\n",
       "    <tr>\n",
       "      <th>4</th>\n",
       "      <td>Shepherd Neame Christmas Ale\\n🇬🇧 Strong Ale - ...</td>\n",
       "      <td>🇬🇧</td>\n",
       "      <td>Strong Ale - English</td>\n",
       "      <td>7.0</td>\n",
       "      <td>45</td>\n",
       "      <td>46</td>\n",
       "      <td>3.18</td>\n",
       "      <td>409</td>\n",
       "      <td>Shepherd Neame Christmas Ale</td>\n",
       "    </tr>\n",
       "    <tr>\n",
       "      <th>...</th>\n",
       "      <td>...</td>\n",
       "      <td>...</td>\n",
       "      <td>...</td>\n",
       "      <td>...</td>\n",
       "      <td>...</td>\n",
       "      <td>...</td>\n",
       "      <td>...</td>\n",
       "      <td>...</td>\n",
       "      <td>...</td>\n",
       "    </tr>\n",
       "    <tr>\n",
       "      <th>1818</th>\n",
       "      <td>De La Vega's Pecan Grill Peanut Butter Pecan P...</td>\n",
       "      <td>🇺🇸</td>\n",
       "      <td>Porter - Flavored</td>\n",
       "      <td>NaN</td>\n",
       "      <td>-</td>\n",
       "      <td>-</td>\n",
       "      <td>3.50</td>\n",
       "      <td>1</td>\n",
       "      <td>De La Vega's Pecan Grill Peanut Butter Pecan P...</td>\n",
       "    </tr>\n",
       "    <tr>\n",
       "      <th>1852</th>\n",
       "      <td>Rainbow Olut Alkoholiton Lager\\n🇧🇪 Low / No Al...</td>\n",
       "      <td>🇧🇪</td>\n",
       "      <td>Low / No Alcohol Beer - Pale</td>\n",
       "      <td>0.0</td>\n",
       "      <td>0</td>\n",
       "      <td>3</td>\n",
       "      <td>1.23</td>\n",
       "      <td>41</td>\n",
       "      <td>Rainbow Olut Alkoholiton Lager</td>\n",
       "    </tr>\n",
       "    <tr>\n",
       "      <th>1871</th>\n",
       "      <td>Cycle Sunday - 2020\\n🇺🇸 BarleyWine / WheatWine...</td>\n",
       "      <td>🇺🇸</td>\n",
       "      <td>BarleyWine / WheatWine / RyeWine</td>\n",
       "      <td>NaN</td>\n",
       "      <td>-</td>\n",
       "      <td>-</td>\n",
       "      <td>3.70</td>\n",
       "      <td>1</td>\n",
       "      <td>Cycle Sunday - 2020</td>\n",
       "    </tr>\n",
       "    <tr>\n",
       "      <th>1894</th>\n",
       "      <td>Pyramid Subliminal State Hazy Pale Ale\\n🇺🇸 Pal...</td>\n",
       "      <td>🇺🇸</td>\n",
       "      <td>Pale Ale - American / APA</td>\n",
       "      <td>NaN</td>\n",
       "      <td>-</td>\n",
       "      <td>-</td>\n",
       "      <td>3.70</td>\n",
       "      <td>1</td>\n",
       "      <td>Pyramid Subliminal State Hazy Pale Ale</td>\n",
       "    </tr>\n",
       "    <tr>\n",
       "      <th>1930</th>\n",
       "      <td>Saint Arnold Pub Crawl APA\\n🇺🇸 Pale Ale - Amer...</td>\n",
       "      <td>🇺🇸</td>\n",
       "      <td>Pale Ale - American / APA</td>\n",
       "      <td>0.0</td>\n",
       "      <td>67</td>\n",
       "      <td>70</td>\n",
       "      <td>3.35</td>\n",
       "      <td>29</td>\n",
       "      <td>Saint Arnold Pub Crawl APA</td>\n",
       "    </tr>\n",
       "  </tbody>\n",
       "</table>\n",
       "<p>7802 rows × 9 columns</p>\n",
       "</div>"
      ],
      "text/plain": [
       "                                          return_string flag  \\\n",
       "0     St. Peter's Ruby Red Ale\\n🇬🇧 Bitter - Ordinary...   🇬🇧   \n",
       "1     Shepherd Neame Spitfire (Bottle)\\n🇬🇧 Bitter - ...   🇬🇧   \n",
       "2     Arbor Rocketman\\n🇬🇧 IPA • 6.0%\\n95\\n97\\n3.74\\n...   🇬🇧   \n",
       "3     Shepherd Neame India Pale Ale (Bottle)\\n🇬🇧 IPA...   🇬🇧   \n",
       "4     Shepherd Neame Christmas Ale\\n🇬🇧 Strong Ale - ...   🇬🇧   \n",
       "...                                                 ...  ...   \n",
       "1818  De La Vega's Pecan Grill Peanut Butter Pecan P...   🇺🇸   \n",
       "1852  Rainbow Olut Alkoholiton Lager\\n🇧🇪 Low / No Al...   🇧🇪   \n",
       "1871  Cycle Sunday - 2020\\n🇺🇸 BarleyWine / WheatWine...   🇺🇸   \n",
       "1894  Pyramid Subliminal State Hazy Pale Ale\\n🇺🇸 Pal...   🇺🇸   \n",
       "1930  Saint Arnold Pub Crawl APA\\n🇺🇸 Pale Ale - Amer...   🇺🇸   \n",
       "\n",
       "                                   type  abv rb_overall_score rb_style_score  \\\n",
       "0             Bitter - Ordinary / Best   4.3               49             95   \n",
       "1             Bitter - Ordinary / Best   4.5               34             59   \n",
       "2                                  IPA   6.0               95             97   \n",
       "3                        IPA - English   6.1               46             47   \n",
       "4                 Strong Ale - English   7.0               45             46   \n",
       "...                                 ...  ...              ...            ...   \n",
       "1818                  Porter - Flavored  NaN                -              -   \n",
       "1852       Low / No Alcohol Beer - Pale  0.0                0              3   \n",
       "1871   BarleyWine / WheatWine / RyeWine  NaN                -              -   \n",
       "1894          Pale Ale - American / APA  NaN                -              -   \n",
       "1930          Pale Ale - American / APA  0.0               67             70   \n",
       "\n",
       "     rb_user_rating rb_rating_number  \\\n",
       "0              3.25              415   \n",
       "1              3.05             1083   \n",
       "2              3.74               59   \n",
       "3              3.22              420   \n",
       "4              3.18              409   \n",
       "...             ...              ...   \n",
       "1818           3.50                1   \n",
       "1852           1.23               41   \n",
       "1871           3.70                1   \n",
       "1894           3.70                1   \n",
       "1930           3.35               29   \n",
       "\n",
       "                                             name_found  \n",
       "0                              St. Peter's Ruby Red Ale  \n",
       "1                      Shepherd Neame Spitfire (Bottle)  \n",
       "2                                       Arbor Rocketman  \n",
       "3                Shepherd Neame India Pale Ale (Bottle)  \n",
       "4                          Shepherd Neame Christmas Ale  \n",
       "...                                                 ...  \n",
       "1818  De La Vega's Pecan Grill Peanut Butter Pecan P...  \n",
       "1852                     Rainbow Olut Alkoholiton Lager  \n",
       "1871                                Cycle Sunday - 2020  \n",
       "1894             Pyramid Subliminal State Hazy Pale Ale  \n",
       "1930                         Saint Arnold Pub Crawl APA  \n",
       "\n",
       "[7802 rows x 9 columns]"
      ]
     },
     "execution_count": 75,
     "metadata": {},
     "output_type": "execute_result"
    }
   ],
   "source": [
    "beer_df"
   ]
  },
  {
   "cell_type": "code",
   "execution_count": null,
   "metadata": {},
   "outputs": [],
   "source": [
    "# compare to the unique list to create a new to-be-scraped list\n",
    "new_beer = df.beer_name[~df.beer_name.isin(beer_df.name_found)].unique()\n",
    "print(\"There are\", len(new_beer), \"new beers to search for!\")"
   ]
  },
  {
   "cell_type": "code",
   "execution_count": 22,
   "metadata": {
    "ExecuteTime": {
     "end_time": "2020-05-04T08:53:55.285921Z",
     "start_time": "2020-05-04T08:53:55.192407Z"
    }
   },
   "outputs": [],
   "source": [
    "# beer_df.to_csv('beer_deets.csv',index=False)"
   ]
  },
  {
   "cell_type": "code",
   "execution_count": null,
   "metadata": {},
   "outputs": [],
   "source": []
  }
 ],
 "metadata": {
  "kernelspec": {
   "display_name": "Python 3",
   "language": "python",
   "name": "python3"
  },
  "language_info": {
   "codemirror_mode": {
    "name": "ipython",
    "version": 3
   },
   "file_extension": ".py",
   "mimetype": "text/x-python",
   "name": "python",
   "nbconvert_exporter": "python",
   "pygments_lexer": "ipython3",
   "version": "3.7.1"
  },
  "toc": {
   "base_numbering": 1,
   "nav_menu": {},
   "number_sections": true,
   "sideBar": true,
   "skip_h1_title": false,
   "title_cell": "Table of Contents",
   "title_sidebar": "Contents",
   "toc_cell": false,
   "toc_position": {},
   "toc_section_display": true,
   "toc_window_display": false
  },
  "varInspector": {
   "cols": {
    "lenName": 16,
    "lenType": 16,
    "lenVar": 40
   },
   "kernels_config": {
    "python": {
     "delete_cmd_postfix": "",
     "delete_cmd_prefix": "del ",
     "library": "var_list.py",
     "varRefreshCmd": "print(var_dic_list())"
    },
    "r": {
     "delete_cmd_postfix": ") ",
     "delete_cmd_prefix": "rm(",
     "library": "var_list.r",
     "varRefreshCmd": "cat(var_dic_list()) "
    }
   },
   "types_to_exclude": [
    "module",
    "function",
    "builtin_function_or_method",
    "instance",
    "_Feature"
   ],
   "window_display": false
  }
 },
 "nbformat": 4,
 "nbformat_minor": 4
}
