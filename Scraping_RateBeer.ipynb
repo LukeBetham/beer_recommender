{
 "cells": [
  {
   "cell_type": "code",
   "execution_count": 22,
   "metadata": {
    "ExecuteTime": {
     "end_time": "2020-06-28T13:06:37.310602Z",
     "start_time": "2020-06-28T13:06:37.265600Z"
    }
   },
   "outputs": [],
   "source": [
    "import requests\n",
    "import bs4\n",
    "from bs4 import BeautifulSoup\n",
    "import pandas as pd\n",
    "import re\n",
    "from tqdm.notebook import tqdm\n",
    "import matplotlib.pyplot as plt\n",
    "import seaborn as sns"
   ]
  },
  {
   "cell_type": "markdown",
   "metadata": {},
   "source": [
    "## Code which scrapes the recently reviews (only 100 pages - 1,400 reviews)"
   ]
  },
  {
   "cell_type": "code",
   "execution_count": 23,
   "metadata": {
    "ExecuteTime": {
     "end_time": "2020-06-28T13:06:37.341574Z",
     "start_time": "2020-06-28T13:06:37.313551Z"
    }
   },
   "outputs": [],
   "source": [
    "\n",
    "def ratebeer_scraper(page_start=1, page_end=2, url_set=None):\n",
    "    \n",
    "    beer_name = []\n",
    "    beer_rating = []\n",
    "    brewery_name = []\n",
    "    brewery_location = []\n",
    "    review_content = []\n",
    "    reviewer_name = []\n",
    " \n",
    "    if url_set == None:\n",
    "        print(\"Need url to run\")\n",
    "        return\n",
    "\n",
    "    for x in tqdm(range(page_start, page_end + 1)):\n",
    "        try:\n",
    "            url_format = url_set.format(x)\n",
    "            r = requests.get(url_format)\n",
    "            soup = BeautifulSoup(r.text, 'html.parser')\n",
    "            table = soup.find('table', attrs={'class': 'table'})\n",
    "            table_rows = table.find_all('tr')\n",
    "\n",
    "            for rows in table_rows:\n",
    "\n",
    "            # Scrape Beer Name    \n",
    "                try:\n",
    "                    beer_name.append(rows.find('a', attrs={'style':'font-size:20px; font-weight:bold;'}).text)\n",
    "                except:\n",
    "                    beer_name.append(None)\n",
    "            # Scrape Review Rating  \n",
    "                try:\n",
    "                    beer_rating.append(rows.find('span', attrs={'class':'uas'}).text)\n",
    "                except:\n",
    "                    beer_rating.append(None)\n",
    "            # Scrape Brewery Name  \n",
    "                try:\n",
    "                    brewery_div = rows.find('div')\n",
    "                    brewery_name.append(brewery_div.a.text)\n",
    "                except:\n",
    "                    brewery_name.append(None)\n",
    "            # Scrape Brewery Location\n",
    "                try:\n",
    "                    brewery_location.append(rows.find('span', attrs={'class':'small'}).text.strip())\n",
    "                except:\n",
    "                    brewery_location.append(None)\n",
    "            # Scrape Reviewer Name\n",
    "                try:\n",
    "                    reviewer_name.append(rows.find('span', attrs={'class':'pull-right'}).text.strip())\n",
    "                except:\n",
    "                    reviewer_name.append(None)\n",
    "            # Scrape content\n",
    "                try:\n",
    "                    review_content.append(rows.find('div', attrs={'style':\"color:#666;\"}).text.strip())\n",
    "                except:\n",
    "                    review_content.append(None)\n",
    "        except:\n",
    "            pass\n",
    "\n",
    "    beerz = pd.DataFrame({'beer_name': beer_name,\n",
    "                         'beer_rating': beer_rating,\n",
    "                        'brewery_name': brewery_name,\n",
    "                         'brewery_location': brewery_location,\n",
    "                        'review_content': review_content,\n",
    "                        'reviewer_name': reviewer_name})\n",
    "    return beerz\n",
    "\n"
   ]
  },
  {
   "cell_type": "code",
   "execution_count": 24,
   "metadata": {
    "ExecuteTime": {
     "end_time": "2020-06-28T13:11:02.262477Z",
     "start_time": "2020-06-28T13:06:37.345804Z"
    }
   },
   "outputs": [
    {
     "data": {
      "application/vnd.jupyter.widget-view+json": {
       "model_id": "eef52f1326254711bf8bec35718a4bf3",
       "version_major": 2,
       "version_minor": 0
      },
      "text/plain": [
       "HBox(children=(FloatProgress(value=0.0, max=101.0), HTML(value='')))"
      ]
     },
     "metadata": {},
     "output_type": "display_data"
    },
    {
     "name": "stdout",
     "output_type": "stream",
     "text": [
      "\n"
     ]
    },
    {
     "data": {
      "application/vnd.jupyter.widget-view+json": {
       "model_id": "f9a3ead158ac49bd884cf5df5be37f07",
       "version_major": 2,
       "version_minor": 0
      },
      "text/plain": [
       "HBox(children=(FloatProgress(value=0.0, max=11.0), HTML(value='')))"
      ]
     },
     "metadata": {},
     "output_type": "display_data"
    },
    {
     "name": "stdout",
     "output_type": "stream",
     "text": [
      "\n"
     ]
    },
    {
     "data": {
      "application/vnd.jupyter.widget-view+json": {
       "model_id": "6b13a1a921d145f8a541628a4a3c99bc",
       "version_major": 2,
       "version_minor": 0
      },
      "text/plain": [
       "HBox(children=(FloatProgress(value=0.0, max=51.0), HTML(value='')))"
      ]
     },
     "metadata": {},
     "output_type": "display_data"
    },
    {
     "name": "stdout",
     "output_type": "stream",
     "text": [
      "\n"
     ]
    },
    {
     "data": {
      "application/vnd.jupyter.widget-view+json": {
       "model_id": "2d3472c2961e45298c3ff12dec154561",
       "version_major": 2,
       "version_minor": 0
      },
      "text/plain": [
       "HBox(children=(FloatProgress(value=0.0, max=51.0), HTML(value='')))"
      ]
     },
     "metadata": {},
     "output_type": "display_data"
    },
    {
     "name": "stdout",
     "output_type": "stream",
     "text": [
      "\n"
     ]
    },
    {
     "data": {
      "application/vnd.jupyter.widget-view+json": {
       "model_id": "9afcc813509f42c7ad86174f9b1fb019",
       "version_major": 2,
       "version_minor": 0
      },
      "text/plain": [
       "HBox(children=(FloatProgress(value=0.0, max=51.0), HTML(value='')))"
      ]
     },
     "metadata": {},
     "output_type": "display_data"
    },
    {
     "name": "stdout",
     "output_type": "stream",
     "text": [
      "\n"
     ]
    },
    {
     "data": {
      "application/vnd.jupyter.widget-view+json": {
       "model_id": "8abd2fb9ac31428e98d82c4862dcf974",
       "version_major": 2,
       "version_minor": 0
      },
      "text/plain": [
       "HBox(children=(FloatProgress(value=0.0, max=51.0), HTML(value='')))"
      ]
     },
     "metadata": {},
     "output_type": "display_data"
    },
    {
     "name": "stdout",
     "output_type": "stream",
     "text": [
      "\n"
     ]
    }
   ],
   "source": [
    "# Scraping most recent reviews\n",
    "url = 'https://www.ratebeer.com/beer-ratings/0/{}/'\n",
    "df_recent = ratebeer_scraper(0,100,url)\n",
    "\n",
    "# Scraping new beers\n",
    "url = 'https://www.ratebeer.com/beer-ratings/5/{}/'\n",
    "df_new = ratebeer_scraper(0,10,url)\n",
    "\n",
    "# Scraping fave beers\n",
    "url = 'https://www.ratebeer.com/beer-ratings/4/{}/'\n",
    "df_fave = ratebeer_scraper(0,50,url)\n",
    "\n",
    "# Scraping rave beers\n",
    "url = 'https://www.ratebeer.com/beer-ratings/1/{}/'\n",
    "df_rave = ratebeer_scraper(0,50,url)\n",
    "\n",
    "# Scraping rant beers\n",
    "url = 'https://www.ratebeer.com/beer-ratings/2/{}/'\n",
    "df_rant = ratebeer_scraper(0,50,url)\n",
    "\n",
    "# Scraping anomalous beers\n",
    "url = 'https://www.ratebeer.com/beer-ratings/3/{}/'\n",
    "df_anom = ratebeer_scraper(0,50,url)"
   ]
  },
  {
   "cell_type": "code",
   "execution_count": 25,
   "metadata": {
    "ExecuteTime": {
     "end_time": "2020-06-28T13:11:02.286095Z",
     "start_time": "2020-06-28T13:11:02.265931Z"
    }
   },
   "outputs": [],
   "source": [
    "# getting rid of non-ascii characters from the reviews as it breaks csv\n",
    "\n",
    "df_recent.review_content = df_recent.review_content.apply(lambda x: x.encode('ascii', 'ignore').decode('ascii'))\n",
    "df_new.review_content = df_new.review_content.apply(lambda x: x.encode('ascii', 'ignore').decode('ascii'))\n",
    "df_rave.review_content = df_rave.review_content.apply(lambda x: x.encode('ascii', 'ignore').decode('ascii'))\n",
    "df_fave.review_content = df_fave.review_content.apply(lambda x: x.encode('ascii', 'ignore').decode('ascii'))\n",
    "df_rant.review_content = df_rant.review_content.apply(lambda x: x.encode('ascii', 'ignore').decode('ascii'))\n",
    "df_anom.review_content = df_anom.review_content.apply(lambda x: x.encode('ascii', 'ignore').decode('ascii'))\n"
   ]
  },
  {
   "cell_type": "code",
   "execution_count": 26,
   "metadata": {
    "ExecuteTime": {
     "end_time": "2020-06-28T13:11:02.472999Z",
     "start_time": "2020-06-28T13:11:02.288325Z"
    }
   },
   "outputs": [],
   "source": [
    "# read current data from csv (there is a backup at all_reviews_backup.csv)\n",
    "df = pd.read_csv('all_reviews.csv')"
   ]
  },
  {
   "cell_type": "code",
   "execution_count": 27,
   "metadata": {
    "ExecuteTime": {
     "end_time": "2020-06-28T13:11:02.613042Z",
     "start_time": "2020-06-28T13:11:02.478944Z"
    }
   },
   "outputs": [
    {
     "name": "stdout",
     "output_type": "stream",
     "text": [
      "46455\n",
      "42787\n"
     ]
    }
   ],
   "source": [
    "# concatenating all of the scrapes together with the old df\n",
    "try:\n",
    "    df = pd.concat([df, df_recent, df_new, df_fave, df_rave, df_rant, df_anom])\n",
    "except:\n",
    "    df = pd.concat([df, df_recent])\n",
    "print(len(df))\n",
    "df.drop_duplicates(inplace=True)\n",
    "print(len(df))\n",
    "df.beer_name = df.beer_name.apply(lambda x: x.strip())\n",
    "\n"
   ]
  },
  {
   "cell_type": "code",
   "execution_count": 28,
   "metadata": {
    "ExecuteTime": {
     "end_time": "2020-06-28T13:11:02.635140Z",
     "start_time": "2020-06-28T13:11:02.615476Z"
    }
   },
   "outputs": [
    {
     "data": {
      "text/html": [
       "<div>\n",
       "<style scoped>\n",
       "    .dataframe tbody tr th:only-of-type {\n",
       "        vertical-align: middle;\n",
       "    }\n",
       "\n",
       "    .dataframe tbody tr th {\n",
       "        vertical-align: top;\n",
       "    }\n",
       "\n",
       "    .dataframe thead th {\n",
       "        text-align: right;\n",
       "    }\n",
       "</style>\n",
       "<table border=\"1\" class=\"dataframe\">\n",
       "  <thead>\n",
       "    <tr style=\"text-align: right;\">\n",
       "      <th></th>\n",
       "      <th>beer_name</th>\n",
       "      <th>beer_rating</th>\n",
       "      <th>brewery_location</th>\n",
       "      <th>brewery_name</th>\n",
       "      <th>review_content</th>\n",
       "      <th>reviewer_name</th>\n",
       "    </tr>\n",
       "  </thead>\n",
       "  <tbody>\n",
       "    <tr>\n",
       "      <th>0</th>\n",
       "      <td>St. Peter's Ruby Red Ale</td>\n",
       "      <td>3.3</td>\n",
       "      <td>Bungay, Suffolk</td>\n",
       "      <td>St. Peter's Brewery</td>\n",
       "      <td>Ruby color, offwhite coam. Aroma and taste: fl...</td>\n",
       "      <td>alex_leit</td>\n",
       "    </tr>\n",
       "    <tr>\n",
       "      <th>1</th>\n",
       "      <td>Shepherd Neame Spitfire (Bottle)</td>\n",
       "      <td>2.2</td>\n",
       "      <td>Faversham, Kent</td>\n",
       "      <td>Shepherd Neame</td>\n",
       "      <td>Disappointing show from the lads at ‘Britain’s...</td>\n",
       "      <td>shivermetimber.gray</td>\n",
       "    </tr>\n",
       "    <tr>\n",
       "      <th>2</th>\n",
       "      <td>Arbor Rocketman</td>\n",
       "      <td>3.8</td>\n",
       "      <td>Bristol, Gloucestershire</td>\n",
       "      <td>Arbor Ales</td>\n",
       "      <td>Puszka. Mętne o żółtym kolorze. Piana biała,ob...</td>\n",
       "      <td>MarcinG</td>\n",
       "    </tr>\n",
       "    <tr>\n",
       "      <th>3</th>\n",
       "      <td>Shepherd Neame India Pale Ale (Bottle)</td>\n",
       "      <td>3.4</td>\n",
       "      <td>Faversham, Kent</td>\n",
       "      <td>Shepherd Neame</td>\n",
       "      <td>Bottle. Amber with bronze color and white foam...</td>\n",
       "      <td>alex_leit</td>\n",
       "    </tr>\n",
       "    <tr>\n",
       "      <th>4</th>\n",
       "      <td>Shepherd Neame Christmas Ale</td>\n",
       "      <td>3.3</td>\n",
       "      <td>Faversham, Kent</td>\n",
       "      <td>Shepherd Neame</td>\n",
       "      <td>Bottle. Aroma: English hops and malts with tof...</td>\n",
       "      <td>alex_leit</td>\n",
       "    </tr>\n",
       "    <tr>\n",
       "      <th>...</th>\n",
       "      <td>...</td>\n",
       "      <td>...</td>\n",
       "      <td>...</td>\n",
       "      <td>...</td>\n",
       "      <td>...</td>\n",
       "      <td>...</td>\n",
       "    </tr>\n",
       "    <tr>\n",
       "      <th>760</th>\n",
       "      <td>Paulaner Natur Radler</td>\n",
       "      <td>4.1</td>\n",
       "      <td>+1.5</td>\n",
       "      <td>Paulaner Brauerei (Brau Holding Int. - Heineken)</td>\n",
       "      <td>330 ml bottle into pint glass, best before 10/...</td>\n",
       "      <td>superspak</td>\n",
       "    </tr>\n",
       "    <tr>\n",
       "      <th>761</th>\n",
       "      <td>Labatt Blue De-Alcoholized Pilsener</td>\n",
       "      <td>3.8</td>\n",
       "      <td>+2.2</td>\n",
       "      <td>Labatt Brewing Company (AB InBev)</td>\n",
       "      <td>12 ounce bottle into lager glass, bottled on 6...</td>\n",
       "      <td>superspak</td>\n",
       "    </tr>\n",
       "    <tr>\n",
       "      <th>762</th>\n",
       "      <td>Bitburger Alkoholfrei 0,0%</td>\n",
       "      <td>3.9</td>\n",
       "      <td>+2</td>\n",
       "      <td>Bitburger Brauerei Th. Simon</td>\n",
       "      <td>330 ml bottle into lager glass, best before 1/...</td>\n",
       "      <td>superspak</td>\n",
       "    </tr>\n",
       "    <tr>\n",
       "      <th>763</th>\n",
       "      <td>Fourpure Juicebox</td>\n",
       "      <td>1.6</td>\n",
       "      <td>-2</td>\n",
       "      <td>Fourpure Brewing Co. (Lion Co. - Kirin Holdings)</td>\n",
       "      <td>\"A restrained yet present bitterness\" The rest...</td>\n",
       "      <td>FoamLove54</td>\n",
       "    </tr>\n",
       "    <tr>\n",
       "      <th>764</th>\n",
       "      <td>Navigation Rebel</td>\n",
       "      <td>0.5</td>\n",
       "      <td>-2.5</td>\n",
       "      <td>Navigation Brewery</td>\n",
       "      <td>One of the worst drinks I've ever had. Smells ...</td>\n",
       "      <td>luketomo</td>\n",
       "    </tr>\n",
       "  </tbody>\n",
       "</table>\n",
       "<p>42787 rows × 6 columns</p>\n",
       "</div>"
      ],
      "text/plain": [
       "                                  beer_name beer_rating  \\\n",
       "0                  St. Peter's Ruby Red Ale         3.3   \n",
       "1          Shepherd Neame Spitfire (Bottle)         2.2   \n",
       "2                           Arbor Rocketman         3.8   \n",
       "3    Shepherd Neame India Pale Ale (Bottle)         3.4   \n",
       "4              Shepherd Neame Christmas Ale         3.3   \n",
       "..                                      ...         ...   \n",
       "760                   Paulaner Natur Radler         4.1   \n",
       "761     Labatt Blue De-Alcoholized Pilsener         3.8   \n",
       "762              Bitburger Alkoholfrei 0,0%         3.9   \n",
       "763                       Fourpure Juicebox         1.6   \n",
       "764                        Navigation Rebel         0.5   \n",
       "\n",
       "             brewery_location  \\\n",
       "0             Bungay, Suffolk   \n",
       "1             Faversham, Kent   \n",
       "2    Bristol, Gloucestershire   \n",
       "3             Faversham, Kent   \n",
       "4             Faversham, Kent   \n",
       "..                        ...   \n",
       "760                      +1.5   \n",
       "761                      +2.2   \n",
       "762                        +2   \n",
       "763                        -2   \n",
       "764                      -2.5   \n",
       "\n",
       "                                         brewery_name  \\\n",
       "0                                 St. Peter's Brewery   \n",
       "1                                      Shepherd Neame   \n",
       "2                                          Arbor Ales   \n",
       "3                                      Shepherd Neame   \n",
       "4                                      Shepherd Neame   \n",
       "..                                                ...   \n",
       "760  Paulaner Brauerei (Brau Holding Int. - Heineken)   \n",
       "761                 Labatt Brewing Company (AB InBev)   \n",
       "762                      Bitburger Brauerei Th. Simon   \n",
       "763  Fourpure Brewing Co. (Lion Co. - Kirin Holdings)   \n",
       "764                                Navigation Brewery   \n",
       "\n",
       "                                        review_content        reviewer_name  \n",
       "0    Ruby color, offwhite coam. Aroma and taste: fl...            alex_leit  \n",
       "1    Disappointing show from the lads at ‘Britain’s...  shivermetimber.gray  \n",
       "2    Puszka. Mętne o żółtym kolorze. Piana biała,ob...              MarcinG  \n",
       "3    Bottle. Amber with bronze color and white foam...            alex_leit  \n",
       "4    Bottle. Aroma: English hops and malts with tof...            alex_leit  \n",
       "..                                                 ...                  ...  \n",
       "760  330 ml bottle into pint glass, best before 10/...            superspak  \n",
       "761  12 ounce bottle into lager glass, bottled on 6...            superspak  \n",
       "762  330 ml bottle into lager glass, best before 1/...            superspak  \n",
       "763  \"A restrained yet present bitterness\" The rest...           FoamLove54  \n",
       "764  One of the worst drinks I've ever had. Smells ...             luketomo  \n",
       "\n",
       "[42787 rows x 6 columns]"
      ]
     },
     "execution_count": 28,
     "metadata": {},
     "output_type": "execute_result"
    }
   ],
   "source": [
    "df"
   ]
  },
  {
   "cell_type": "code",
   "execution_count": 29,
   "metadata": {
    "ExecuteTime": {
     "end_time": "2020-06-28T13:11:03.056709Z",
     "start_time": "2020-06-28T13:11:02.639730Z"
    }
   },
   "outputs": [],
   "source": [
    "df.to_csv('all_reviews.csv',index=False)\n",
    "# df = pd.read_csv('all_reviews.csv')\n",
    "not_found_df = pd.read_csv(\"not_found.csv\")"
   ]
  },
  {
   "cell_type": "markdown",
   "metadata": {},
   "source": [
    "## Get more information on all of the beers - Selenium"
   ]
  },
  {
   "cell_type": "code",
   "execution_count": 30,
   "metadata": {
    "ExecuteTime": {
     "end_time": "2020-06-28T13:11:03.065044Z",
     "start_time": "2020-06-28T13:11:03.060574Z"
    }
   },
   "outputs": [],
   "source": [
    "from selenium import webdriver\n",
    "import time"
   ]
  },
  {
   "cell_type": "code",
   "execution_count": 31,
   "metadata": {
    "ExecuteTime": {
     "end_time": "2020-06-28T13:11:03.133716Z",
     "start_time": "2020-06-28T13:11:03.068193Z"
    }
   },
   "outputs": [],
   "source": [
    "# extract already scraped data from previous scrapes so don't rescrape\n",
    "beer_df = pd.read_csv('beer_deets.csv')"
   ]
  },
  {
   "cell_type": "code",
   "execution_count": 32,
   "metadata": {
    "ExecuteTime": {
     "end_time": "2020-06-28T13:11:03.163959Z",
     "start_time": "2020-06-28T13:11:03.136576Z"
    }
   },
   "outputs": [
    {
     "name": "stdout",
     "output_type": "stream",
     "text": [
      "There are 726 new beers to search for!\n"
     ]
    }
   ],
   "source": [
    "# compare to the unique list to create a new to-be-scraped list\n",
    "new_beer = df.beer_name[(~df.beer_name.isin(beer_df.name_found))&(~df.beer_name.isin(not_found_df.not_found))].unique()\n",
    "print(\"There are\", len(new_beer), \"new beers to search for!\")"
   ]
  },
  {
   "cell_type": "code",
   "execution_count": 33,
   "metadata": {
    "ExecuteTime": {
     "end_time": "2020-06-28T13:45:54.444806Z",
     "start_time": "2020-06-28T13:11:03.166564Z"
    }
   },
   "outputs": [
    {
     "data": {
      "application/vnd.jupyter.widget-view+json": {
       "model_id": "a8b5b45e456b42619b0a3225d9cc3c0a",
       "version_major": 2,
       "version_minor": 0
      },
      "text/plain": [
       "HBox(children=(FloatProgress(value=0.0, max=726.0), HTML(value='')))"
      ]
     },
     "metadata": {},
     "output_type": "display_data"
    },
    {
     "name": "stdout",
     "output_type": "stream",
     "text": [
      "\n"
     ]
    }
   ],
   "source": [
    "item_names = []\n",
    "desc_string = []\n",
    "\n",
    "driver = webdriver.Chrome(executable_path='/Users/lukebetham/Downloads/chromedriver1')\n",
    "\n",
    "for beer in tqdm(new_beer):\n",
    "    driver.get(\"https://www.ratebeer.com/search?beername={}\".format(beer))\n",
    "    time.sleep(2)\n",
    "    item_tags = driver.find_elements_by_class_name('fg-1')\n",
    "\n",
    "    x=1\n",
    "    beer_temp = []\n",
    "    for item in item_tags:        \n",
    "        if x <2:\n",
    "            try:\n",
    "                item_names.append(item.find_element_by_class_name('fd-r').text)\n",
    "                x+=1\n",
    "            except:\n",
    "                pass\n",
    "            try:\n",
    "                beer_temp.append(item.text)\n",
    "            except:\n",
    "                pass\n",
    "    try:\n",
    "        desc_string.append(beer_temp[4])\n",
    "    except:\n",
    "        desc_string.append(None)\n",
    "\n",
    "driver.quit()"
   ]
  },
  {
   "cell_type": "code",
   "execution_count": 34,
   "metadata": {
    "ExecuteTime": {
     "end_time": "2020-06-28T13:45:54.484361Z",
     "start_time": "2020-06-28T13:45:54.448825Z"
    }
   },
   "outputs": [
    {
     "data": {
      "text/html": [
       "<div>\n",
       "<style scoped>\n",
       "    .dataframe tbody tr th:only-of-type {\n",
       "        vertical-align: middle;\n",
       "    }\n",
       "\n",
       "    .dataframe tbody tr th {\n",
       "        vertical-align: top;\n",
       "    }\n",
       "\n",
       "    .dataframe thead th {\n",
       "        text-align: right;\n",
       "    }\n",
       "</style>\n",
       "<table border=\"1\" class=\"dataframe\">\n",
       "  <thead>\n",
       "    <tr style=\"text-align: right;\">\n",
       "      <th></th>\n",
       "      <th>return_string</th>\n",
       "    </tr>\n",
       "  </thead>\n",
       "  <tbody>\n",
       "    <tr>\n",
       "      <th>0</th>\n",
       "      <td>Hap &amp; Harry's Tennessee Lager\\n🇺🇸 Pale Lager -...</td>\n",
       "    </tr>\n",
       "    <tr>\n",
       "      <th>1</th>\n",
       "      <td>Pheasantry Vulcan Blue Steel Golden\\n🇬🇧 Blonde...</td>\n",
       "    </tr>\n",
       "    <tr>\n",
       "      <th>2</th>\n",
       "      <td>Burley Oak Coogi Sweater\\n🇺🇸 IIPA DIPA - Hazy ...</td>\n",
       "    </tr>\n",
       "    <tr>\n",
       "      <th>3</th>\n",
       "      <td>Snails Bank Very Perry (Draught)\\n🇬🇧 Perry • 5...</td>\n",
       "    </tr>\n",
       "    <tr>\n",
       "      <th>4</th>\n",
       "      <td>Nymburk Postřižinské Bogan Svetlý Special 13°\\...</td>\n",
       "    </tr>\n",
       "    <tr>\n",
       "      <th>...</th>\n",
       "      <td>...</td>\n",
       "    </tr>\n",
       "    <tr>\n",
       "      <th>721</th>\n",
       "      <td>Tripel de Garre\\n🇧🇪 Tripel • 11.5%\\n97\\n99\\n3....</td>\n",
       "    </tr>\n",
       "    <tr>\n",
       "      <th>722</th>\n",
       "      <td>Clifford Bourbon Barrel Aged Porter\\n🇨🇦 Porter...</td>\n",
       "    </tr>\n",
       "    <tr>\n",
       "      <th>723</th>\n",
       "      <td>Outer Range Steezy DDH Wai-iti\\n🇺🇸 IPA - Hazy ...</td>\n",
       "    </tr>\n",
       "    <tr>\n",
       "      <th>724</th>\n",
       "      <td>Nouvelle-France All Together DIPA de la Nouvel...</td>\n",
       "    </tr>\n",
       "    <tr>\n",
       "      <th>725</th>\n",
       "      <td>Oliver's The Mayflower Third Voyage into Uncha...</td>\n",
       "    </tr>\n",
       "  </tbody>\n",
       "</table>\n",
       "<p>726 rows × 1 columns</p>\n",
       "</div>"
      ],
      "text/plain": [
       "                                         return_string\n",
       "0    Hap & Harry's Tennessee Lager\\n🇺🇸 Pale Lager -...\n",
       "1    Pheasantry Vulcan Blue Steel Golden\\n🇬🇧 Blonde...\n",
       "2    Burley Oak Coogi Sweater\\n🇺🇸 IIPA DIPA - Hazy ...\n",
       "3    Snails Bank Very Perry (Draught)\\n🇬🇧 Perry • 5...\n",
       "4    Nymburk Postřižinské Bogan Svetlý Special 13°\\...\n",
       "..                                                 ...\n",
       "721  Tripel de Garre\\n🇧🇪 Tripel • 11.5%\\n97\\n99\\n3....\n",
       "722  Clifford Bourbon Barrel Aged Porter\\n🇨🇦 Porter...\n",
       "723  Outer Range Steezy DDH Wai-iti\\n🇺🇸 IPA - Hazy ...\n",
       "724  Nouvelle-France All Together DIPA de la Nouvel...\n",
       "725  Oliver's The Mayflower Third Voyage into Uncha...\n",
       "\n",
       "[726 rows x 1 columns]"
      ]
     },
     "execution_count": 34,
     "metadata": {},
     "output_type": "execute_result"
    }
   ],
   "source": [
    "beer_deets = pd.DataFrame(desc_string, columns = ['return_string'])\n",
    "beer_deets"
   ]
  },
  {
   "cell_type": "code",
   "execution_count": 35,
   "metadata": {
    "ExecuteTime": {
     "end_time": "2020-06-28T13:45:54.523375Z",
     "start_time": "2020-06-28T13:45:54.486865Z"
    }
   },
   "outputs": [],
   "source": [
    "## cleaning the scraped data\n",
    "beer_deets.dropna(inplace=True)\n",
    "beer_deets = beer_deets[~beer_deets.return_string.str.startswith('Logo\\n')].copy()\n",
    "no_alcohol = beer_deets[~beer_deets.return_string.str.contains('%')].copy()\n",
    "beer_deets = beer_deets[beer_deets.return_string.str.contains('%')].copy()\n"
   ]
  },
  {
   "cell_type": "code",
   "execution_count": 36,
   "metadata": {
    "ExecuteTime": {
     "end_time": "2020-06-28T13:45:54.551933Z",
     "start_time": "2020-06-28T13:45:54.528558Z"
    }
   },
   "outputs": [],
   "source": [
    "# sorting the scraped data into columns\n",
    "beer_deets['name_found'] = beer_deets.return_string.apply(lambda x: x.split('\\n')[0].strip())\n",
    "beer_deets['flag'] = beer_deets.return_string.apply(lambda x: x.split('\\n')[1].split('•')[0].split(\" \")[0])\n",
    "beer_deets['type'] = beer_deets.return_string.apply(lambda x: x.split('\\n')[1].split('•')[0][2:])\n",
    "beer_deets['abv'] = beer_deets.return_string.apply(lambda x: float(x.split('\\n')[1].split('•')[1].replace(\"%\",\"\")))\n",
    "beer_deets['rb_overall_score'] = beer_deets.return_string.apply(lambda x: x.split('\\n')[2])\n",
    "beer_deets['rb_style_score'] = beer_deets.return_string.apply(lambda x: x.split('\\n')[3])\n",
    "beer_deets['rb_user_rating'] = beer_deets.return_string.apply(lambda x: x.split('\\n')[4])\n",
    "beer_deets['rb_rating_number'] = beer_deets.return_string.apply(lambda x: x.split('\\n')[5].replace(\"(\",\"\").replace(\")\",\"\"))\n"
   ]
  },
  {
   "cell_type": "code",
   "execution_count": 37,
   "metadata": {
    "ExecuteTime": {
     "end_time": "2020-06-28T13:45:54.558712Z",
     "start_time": "2020-06-28T13:45:54.554495Z"
    }
   },
   "outputs": [],
   "source": [
    "# need to add in add check here for price\n"
   ]
  },
  {
   "cell_type": "code",
   "execution_count": null,
   "metadata": {},
   "outputs": [],
   "source": [
    "\n"
   ]
  },
  {
   "cell_type": "code",
   "execution_count": 38,
   "metadata": {
    "ExecuteTime": {
     "end_time": "2020-06-28T13:45:54.595915Z",
     "start_time": "2020-06-28T13:45:54.560692Z"
    },
    "scrolled": true
   },
   "outputs": [
    {
     "data": {
      "text/html": [
       "<div>\n",
       "<style scoped>\n",
       "    .dataframe tbody tr th:only-of-type {\n",
       "        vertical-align: middle;\n",
       "    }\n",
       "\n",
       "    .dataframe tbody tr th {\n",
       "        vertical-align: top;\n",
       "    }\n",
       "\n",
       "    .dataframe thead th {\n",
       "        text-align: right;\n",
       "    }\n",
       "</style>\n",
       "<table border=\"1\" class=\"dataframe\">\n",
       "  <thead>\n",
       "    <tr style=\"text-align: right;\">\n",
       "      <th></th>\n",
       "      <th>return_string</th>\n",
       "      <th>name_found</th>\n",
       "      <th>flag</th>\n",
       "      <th>type</th>\n",
       "      <th>abv</th>\n",
       "      <th>rb_overall_score</th>\n",
       "      <th>rb_style_score</th>\n",
       "      <th>rb_user_rating</th>\n",
       "      <th>rb_rating_number</th>\n",
       "    </tr>\n",
       "  </thead>\n",
       "  <tbody>\n",
       "    <tr>\n",
       "      <th>9</th>\n",
       "      <td>Riegele Weisse Alkoholfrei\\n🇩🇪 Low / No Alcoho...</td>\n",
       "      <td>Riegele Weisse Alkoholfrei</td>\n",
       "      <td>🇩🇪</td>\n",
       "      <td>Low / No Alcohol Beer - Wheat</td>\n",
       "      <td>0.0</td>\n",
       "      <td>7</td>\n",
       "      <td>47</td>\n",
       "      <td>2.34</td>\n",
       "      <td>32</td>\n",
       "    </tr>\n",
       "    <tr>\n",
       "      <th>37</th>\n",
       "      <td>Fat Bottom Safe Search Off\\n🇺🇸 Stout - Imperia...</td>\n",
       "      <td>Fat Bottom Safe Search Off</td>\n",
       "      <td>🇺🇸</td>\n",
       "      <td>Stout - Imperial Flavored</td>\n",
       "      <td>NaN</td>\n",
       "      <td>-</td>\n",
       "      <td>-</td>\n",
       "      <td>4.10</td>\n",
       "      <td>1</td>\n",
       "    </tr>\n",
       "    <tr>\n",
       "      <th>57</th>\n",
       "      <td>Fat Bottom Vacation Shirt\\n🇺🇸 IPA - Hazy / NEI...</td>\n",
       "      <td>Fat Bottom Vacation Shirt</td>\n",
       "      <td>🇺🇸</td>\n",
       "      <td>IPA - Hazy / NEIPA</td>\n",
       "      <td>NaN</td>\n",
       "      <td>-</td>\n",
       "      <td>-</td>\n",
       "      <td>4.00</td>\n",
       "      <td>1</td>\n",
       "    </tr>\n",
       "    <tr>\n",
       "      <th>82</th>\n",
       "      <td>Vrooden Champagne du Nord (Vin Rouge)\\n🇨🇦 Berl...</td>\n",
       "      <td>Vrooden Champagne du Nord (Vin Rouge)</td>\n",
       "      <td>🇨🇦</td>\n",
       "      <td>Berliner Weisse</td>\n",
       "      <td>NaN</td>\n",
       "      <td>-</td>\n",
       "      <td>-</td>\n",
       "      <td>3.80</td>\n",
       "      <td>2</td>\n",
       "    </tr>\n",
       "    <tr>\n",
       "      <th>127</th>\n",
       "      <td>Caldera Grapefruit IPA\\n🇺🇸 IPA0\\n-\\n-\\n3.46\\n(8)</td>\n",
       "      <td>Caldera Grapefruit IPA</td>\n",
       "      <td>🇺🇸</td>\n",
       "      <td>IPA</td>\n",
       "      <td>0.0</td>\n",
       "      <td>-</td>\n",
       "      <td>-</td>\n",
       "      <td>3.46</td>\n",
       "      <td>8</td>\n",
       "    </tr>\n",
       "    <tr>\n",
       "      <th>312</th>\n",
       "      <td>Sanitas Everyday Mountain Lager\\n🇺🇸 Pilsener /...</td>\n",
       "      <td>Sanitas Everyday Mountain Lager</td>\n",
       "      <td>🇺🇸</td>\n",
       "      <td>Pilsener / Pils / Pilsner</td>\n",
       "      <td>NaN</td>\n",
       "      <td>-</td>\n",
       "      <td>-</td>\n",
       "      <td>3.60</td>\n",
       "      <td>1</td>\n",
       "    </tr>\n",
       "    <tr>\n",
       "      <th>351</th>\n",
       "      <td>Dragon Tree Kombucha\\n🇬🇧 Sour / Wild Beer - Fl...</td>\n",
       "      <td>Dragon Tree Kombucha</td>\n",
       "      <td>🇬🇧</td>\n",
       "      <td>Sour / Wild Beer - Flavored</td>\n",
       "      <td>NaN</td>\n",
       "      <td>-</td>\n",
       "      <td>-</td>\n",
       "      <td>2.20</td>\n",
       "      <td>1</td>\n",
       "    </tr>\n",
       "    <tr>\n",
       "      <th>464</th>\n",
       "      <td>Township 24 Last Cabin Stout\\n🇨🇦 Stout\\n-\\n-\\n...</td>\n",
       "      <td>Township 24 Last Cabin Stout</td>\n",
       "      <td>🇨🇦</td>\n",
       "      <td>Stout</td>\n",
       "      <td>NaN</td>\n",
       "      <td>-</td>\n",
       "      <td>-</td>\n",
       "      <td>3.70</td>\n",
       "      <td>1</td>\n",
       "    </tr>\n",
       "    <tr>\n",
       "      <th>478</th>\n",
       "      <td>Dominion First Principles Wild Fermented Apple...</td>\n",
       "      <td>Dominion First Principles Wild Fermented Apple...</td>\n",
       "      <td>🇨🇦</td>\n",
       "      <td>Apple Cider</td>\n",
       "      <td>0.0</td>\n",
       "      <td>-</td>\n",
       "      <td>-</td>\n",
       "      <td>3.36</td>\n",
       "      <td>5</td>\n",
       "    </tr>\n",
       "    <tr>\n",
       "      <th>551</th>\n",
       "      <td>Our Mutual Friend / Boulevard Street Signs\\n🇺🇸...</td>\n",
       "      <td>Our Mutual Friend / Boulevard Street Signs</td>\n",
       "      <td>🇺🇸</td>\n",
       "      <td>Saison / Farmhouse / Grisette</td>\n",
       "      <td>NaN</td>\n",
       "      <td>-</td>\n",
       "      <td>-</td>\n",
       "      <td>4.30</td>\n",
       "      <td>1</td>\n",
       "    </tr>\n",
       "    <tr>\n",
       "      <th>555</th>\n",
       "      <td>Keg Creek Oktoberfest\\n🇺🇸 Märzen / Marzen / Ok...</td>\n",
       "      <td>Keg Creek Oktoberfest</td>\n",
       "      <td>🇺🇸</td>\n",
       "      <td>Märzen / Marzen / Oktoberfest Bier</td>\n",
       "      <td>0.0</td>\n",
       "      <td>-</td>\n",
       "      <td>-</td>\n",
       "      <td>3.05</td>\n",
       "      <td>4</td>\n",
       "    </tr>\n",
       "    <tr>\n",
       "      <th>563</th>\n",
       "      <td>Stone (Richmond) Delicious IPA - Virginia Brew...</td>\n",
       "      <td>Stone (Richmond) Delicious IPA - Virginia Brew...</td>\n",
       "      <td>🇺🇸</td>\n",
       "      <td>IPA</td>\n",
       "      <td>0.0</td>\n",
       "      <td>-</td>\n",
       "      <td>-</td>\n",
       "      <td>3.55</td>\n",
       "      <td>2</td>\n",
       "    </tr>\n",
       "    <tr>\n",
       "      <th>615</th>\n",
       "      <td>23er Peach Ale\\n🇩🇪 Pale Ale - Flavored\\n-\\n-\\n...</td>\n",
       "      <td>23er Peach Ale</td>\n",
       "      <td>🇩🇪</td>\n",
       "      <td>Pale Ale - Flavored</td>\n",
       "      <td>NaN</td>\n",
       "      <td>-</td>\n",
       "      <td>-</td>\n",
       "      <td>3.00</td>\n",
       "      <td>1</td>\n",
       "    </tr>\n",
       "    <tr>\n",
       "      <th>686</th>\n",
       "      <td>Hill Farmstead Civil Disobedience (Release 22)...</td>\n",
       "      <td>Hill Farmstead Civil Disobedience (Release 22)</td>\n",
       "      <td>🇺🇸</td>\n",
       "      <td>Sour / Wild Beer</td>\n",
       "      <td>0.0</td>\n",
       "      <td>99</td>\n",
       "      <td>99</td>\n",
       "      <td>4.07</td>\n",
       "      <td>24</td>\n",
       "    </tr>\n",
       "    <tr>\n",
       "      <th>697</th>\n",
       "      <td>Louie Louie Gruo Gruo\\n🇨🇦 Pale Ale\\n-\\n-\\n3.30...</td>\n",
       "      <td>Louie Louie Gruo Gruo</td>\n",
       "      <td>🇨🇦</td>\n",
       "      <td>Pale Ale</td>\n",
       "      <td>NaN</td>\n",
       "      <td>-</td>\n",
       "      <td>-</td>\n",
       "      <td>3.30</td>\n",
       "      <td>2</td>\n",
       "    </tr>\n",
       "  </tbody>\n",
       "</table>\n",
       "</div>"
      ],
      "text/plain": [
       "                                         return_string  \\\n",
       "9    Riegele Weisse Alkoholfrei\\n🇩🇪 Low / No Alcoho...   \n",
       "37   Fat Bottom Safe Search Off\\n🇺🇸 Stout - Imperia...   \n",
       "57   Fat Bottom Vacation Shirt\\n🇺🇸 IPA - Hazy / NEI...   \n",
       "82   Vrooden Champagne du Nord (Vin Rouge)\\n🇨🇦 Berl...   \n",
       "127   Caldera Grapefruit IPA\\n🇺🇸 IPA0\\n-\\n-\\n3.46\\n(8)   \n",
       "312  Sanitas Everyday Mountain Lager\\n🇺🇸 Pilsener /...   \n",
       "351  Dragon Tree Kombucha\\n🇬🇧 Sour / Wild Beer - Fl...   \n",
       "464  Township 24 Last Cabin Stout\\n🇨🇦 Stout\\n-\\n-\\n...   \n",
       "478  Dominion First Principles Wild Fermented Apple...   \n",
       "551  Our Mutual Friend / Boulevard Street Signs\\n🇺🇸...   \n",
       "555  Keg Creek Oktoberfest\\n🇺🇸 Märzen / Marzen / Ok...   \n",
       "563  Stone (Richmond) Delicious IPA - Virginia Brew...   \n",
       "615  23er Peach Ale\\n🇩🇪 Pale Ale - Flavored\\n-\\n-\\n...   \n",
       "686  Hill Farmstead Civil Disobedience (Release 22)...   \n",
       "697  Louie Louie Gruo Gruo\\n🇨🇦 Pale Ale\\n-\\n-\\n3.30...   \n",
       "\n",
       "                                            name_found flag  \\\n",
       "9                           Riegele Weisse Alkoholfrei   🇩🇪   \n",
       "37                          Fat Bottom Safe Search Off   🇺🇸   \n",
       "57                           Fat Bottom Vacation Shirt   🇺🇸   \n",
       "82               Vrooden Champagne du Nord (Vin Rouge)   🇨🇦   \n",
       "127                             Caldera Grapefruit IPA   🇺🇸   \n",
       "312                    Sanitas Everyday Mountain Lager   🇺🇸   \n",
       "351                               Dragon Tree Kombucha   🇬🇧   \n",
       "464                       Township 24 Last Cabin Stout   🇨🇦   \n",
       "478  Dominion First Principles Wild Fermented Apple...   🇨🇦   \n",
       "551         Our Mutual Friend / Boulevard Street Signs   🇺🇸   \n",
       "555                              Keg Creek Oktoberfest   🇺🇸   \n",
       "563  Stone (Richmond) Delicious IPA - Virginia Brew...   🇺🇸   \n",
       "615                                     23er Peach Ale   🇩🇪   \n",
       "686     Hill Farmstead Civil Disobedience (Release 22)   🇺🇸   \n",
       "697                              Louie Louie Gruo Gruo   🇨🇦   \n",
       "\n",
       "                                    type  abv rb_overall_score rb_style_score  \\\n",
       "9          Low / No Alcohol Beer - Wheat  0.0                7             47   \n",
       "37             Stout - Imperial Flavored  NaN                -              -   \n",
       "57                    IPA - Hazy / NEIPA  NaN                -              -   \n",
       "82                       Berliner Weisse  NaN                -              -   \n",
       "127                                  IPA  0.0                -              -   \n",
       "312            Pilsener / Pils / Pilsner  NaN                -              -   \n",
       "351          Sour / Wild Beer - Flavored  NaN                -              -   \n",
       "464                                Stout  NaN                -              -   \n",
       "478                          Apple Cider  0.0                -              -   \n",
       "551        Saison / Farmhouse / Grisette  NaN                -              -   \n",
       "555   Märzen / Marzen / Oktoberfest Bier  0.0                -              -   \n",
       "563                                  IPA  0.0                -              -   \n",
       "615                  Pale Ale - Flavored  NaN                -              -   \n",
       "686                     Sour / Wild Beer  0.0               99             99   \n",
       "697                             Pale Ale  NaN                -              -   \n",
       "\n",
       "    rb_user_rating rb_rating_number  \n",
       "9             2.34               32  \n",
       "37            4.10                1  \n",
       "57            4.00                1  \n",
       "82            3.80                2  \n",
       "127           3.46                8  \n",
       "312           3.60                1  \n",
       "351           2.20                1  \n",
       "464           3.70                1  \n",
       "478           3.36                5  \n",
       "551           4.30                1  \n",
       "555           3.05                4  \n",
       "563           3.55                2  \n",
       "615           3.00                1  \n",
       "686           4.07               24  \n",
       "697           3.30                2  "
      ]
     },
     "execution_count": 38,
     "metadata": {},
     "output_type": "execute_result"
    }
   ],
   "source": [
    "# sorting the no alcohol measure\n",
    "no_alcohol['name_found'] = no_alcohol.return_string.apply(lambda x: x.split('\\n')[0].strip())\n",
    "no_alcohol['flag'] = no_alcohol.return_string.apply(lambda x: x.split('\\n')[1].split('•')[0].split(\" \")[0])\n",
    "no_alcohol['type'] = no_alcohol.return_string.apply(lambda x: x.split('\\n')[1].split('•')[0][2:])\n",
    "no_alcohol['abv'] = no_alcohol.type.apply(lambda x: 0 if x[-1] == '0' else None)\n",
    "no_alcohol['type'] = no_alcohol.type.apply(lambda x: x[:-1] if x[-1] == '0' else x)\n",
    "no_alcohol['check'] = no_alcohol.return_string.apply(lambda x: len(x.split('\\n')))\n",
    "no_alcohol = no_alcohol[no_alcohol['check']>4].copy()\n",
    "no_alcohol['rb_overall_score'] = no_alcohol.return_string.apply(lambda x: x.split('\\n')[2])\n",
    "no_alcohol['rb_style_score'] = no_alcohol.return_string.apply(lambda x: x.split('\\n')[3])\n",
    "no_alcohol['rb_user_rating'] = no_alcohol.return_string.apply(lambda x: x.split('\\n')[4])\n",
    "no_alcohol['rb_rating_number'] = no_alcohol.return_string.apply(lambda x: x.split('\\n')[5].replace(\"(\",\"\").replace(\")\",\"\"))\n",
    "no_alcohol.drop('check',inplace=True, axis=1)\n",
    "\n",
    "no_alcohol"
   ]
  },
  {
   "cell_type": "code",
   "execution_count": 39,
   "metadata": {
    "ExecuteTime": {
     "end_time": "2020-06-28T13:45:54.626236Z",
     "start_time": "2020-06-28T13:45:54.597802Z"
    }
   },
   "outputs": [],
   "source": [
    "beer_df = pd.concat([beer_df,beer_deets,no_alcohol])"
   ]
  },
  {
   "cell_type": "code",
   "execution_count": 40,
   "metadata": {
    "ExecuteTime": {
     "end_time": "2020-06-28T13:45:54.645757Z",
     "start_time": "2020-06-28T13:45:54.628549Z"
    }
   },
   "outputs": [
    {
     "data": {
      "text/html": [
       "<div>\n",
       "<style scoped>\n",
       "    .dataframe tbody tr th:only-of-type {\n",
       "        vertical-align: middle;\n",
       "    }\n",
       "\n",
       "    .dataframe tbody tr th {\n",
       "        vertical-align: top;\n",
       "    }\n",
       "\n",
       "    .dataframe thead th {\n",
       "        text-align: right;\n",
       "    }\n",
       "</style>\n",
       "<table border=\"1\" class=\"dataframe\">\n",
       "  <thead>\n",
       "    <tr style=\"text-align: right;\">\n",
       "      <th></th>\n",
       "      <th>return_string</th>\n",
       "      <th>flag</th>\n",
       "      <th>type</th>\n",
       "      <th>abv</th>\n",
       "      <th>rb_overall_score</th>\n",
       "      <th>rb_style_score</th>\n",
       "      <th>rb_user_rating</th>\n",
       "      <th>rb_rating_number</th>\n",
       "      <th>name_found</th>\n",
       "    </tr>\n",
       "  </thead>\n",
       "  <tbody>\n",
       "    <tr>\n",
       "      <th>0</th>\n",
       "      <td>St. Peter's Ruby Red Ale\\n🇬🇧 Bitter - Ordinary...</td>\n",
       "      <td>🇬🇧</td>\n",
       "      <td>Bitter - Ordinary / Best</td>\n",
       "      <td>4.3</td>\n",
       "      <td>49</td>\n",
       "      <td>95</td>\n",
       "      <td>3.25</td>\n",
       "      <td>415</td>\n",
       "      <td>St. Peter's Ruby Red Ale</td>\n",
       "    </tr>\n",
       "    <tr>\n",
       "      <th>1</th>\n",
       "      <td>Shepherd Neame Spitfire (Bottle)\\n🇬🇧 Bitter - ...</td>\n",
       "      <td>🇬🇧</td>\n",
       "      <td>Bitter - Ordinary / Best</td>\n",
       "      <td>4.5</td>\n",
       "      <td>34</td>\n",
       "      <td>59</td>\n",
       "      <td>3.05</td>\n",
       "      <td>1083</td>\n",
       "      <td>Shepherd Neame Spitfire (Bottle)</td>\n",
       "    </tr>\n",
       "    <tr>\n",
       "      <th>2</th>\n",
       "      <td>Arbor Rocketman\\n🇬🇧 IPA • 6.0%\\n95\\n97\\n3.74\\n...</td>\n",
       "      <td>🇬🇧</td>\n",
       "      <td>IPA</td>\n",
       "      <td>6.0</td>\n",
       "      <td>95</td>\n",
       "      <td>97</td>\n",
       "      <td>3.74</td>\n",
       "      <td>59</td>\n",
       "      <td>Arbor Rocketman</td>\n",
       "    </tr>\n",
       "    <tr>\n",
       "      <th>3</th>\n",
       "      <td>Shepherd Neame India Pale Ale (Bottle)\\n🇬🇧 IPA...</td>\n",
       "      <td>🇬🇧</td>\n",
       "      <td>IPA - English</td>\n",
       "      <td>6.1</td>\n",
       "      <td>46</td>\n",
       "      <td>47</td>\n",
       "      <td>3.22</td>\n",
       "      <td>420</td>\n",
       "      <td>Shepherd Neame India Pale Ale (Bottle)</td>\n",
       "    </tr>\n",
       "    <tr>\n",
       "      <th>4</th>\n",
       "      <td>Shepherd Neame Christmas Ale\\n🇬🇧 Strong Ale - ...</td>\n",
       "      <td>🇬🇧</td>\n",
       "      <td>Strong Ale - English</td>\n",
       "      <td>7.0</td>\n",
       "      <td>45</td>\n",
       "      <td>46</td>\n",
       "      <td>3.18</td>\n",
       "      <td>409</td>\n",
       "      <td>Shepherd Neame Christmas Ale</td>\n",
       "    </tr>\n",
       "    <tr>\n",
       "      <th>...</th>\n",
       "      <td>...</td>\n",
       "      <td>...</td>\n",
       "      <td>...</td>\n",
       "      <td>...</td>\n",
       "      <td>...</td>\n",
       "      <td>...</td>\n",
       "      <td>...</td>\n",
       "      <td>...</td>\n",
       "      <td>...</td>\n",
       "    </tr>\n",
       "    <tr>\n",
       "      <th>555</th>\n",
       "      <td>Keg Creek Oktoberfest\\n🇺🇸 Märzen / Marzen / Ok...</td>\n",
       "      <td>🇺🇸</td>\n",
       "      <td>Märzen / Marzen / Oktoberfest Bier</td>\n",
       "      <td>0.0</td>\n",
       "      <td>-</td>\n",
       "      <td>-</td>\n",
       "      <td>3.05</td>\n",
       "      <td>4</td>\n",
       "      <td>Keg Creek Oktoberfest</td>\n",
       "    </tr>\n",
       "    <tr>\n",
       "      <th>563</th>\n",
       "      <td>Stone (Richmond) Delicious IPA - Virginia Brew...</td>\n",
       "      <td>🇺🇸</td>\n",
       "      <td>IPA</td>\n",
       "      <td>0.0</td>\n",
       "      <td>-</td>\n",
       "      <td>-</td>\n",
       "      <td>3.55</td>\n",
       "      <td>2</td>\n",
       "      <td>Stone (Richmond) Delicious IPA - Virginia Brew...</td>\n",
       "    </tr>\n",
       "    <tr>\n",
       "      <th>615</th>\n",
       "      <td>23er Peach Ale\\n🇩🇪 Pale Ale - Flavored\\n-\\n-\\n...</td>\n",
       "      <td>🇩🇪</td>\n",
       "      <td>Pale Ale - Flavored</td>\n",
       "      <td>NaN</td>\n",
       "      <td>-</td>\n",
       "      <td>-</td>\n",
       "      <td>3.00</td>\n",
       "      <td>1</td>\n",
       "      <td>23er Peach Ale</td>\n",
       "    </tr>\n",
       "    <tr>\n",
       "      <th>686</th>\n",
       "      <td>Hill Farmstead Civil Disobedience (Release 22)...</td>\n",
       "      <td>🇺🇸</td>\n",
       "      <td>Sour / Wild Beer</td>\n",
       "      <td>0.0</td>\n",
       "      <td>99</td>\n",
       "      <td>99</td>\n",
       "      <td>4.07</td>\n",
       "      <td>24</td>\n",
       "      <td>Hill Farmstead Civil Disobedience (Release 22)</td>\n",
       "    </tr>\n",
       "    <tr>\n",
       "      <th>697</th>\n",
       "      <td>Louie Louie Gruo Gruo\\n🇨🇦 Pale Ale\\n-\\n-\\n3.30...</td>\n",
       "      <td>🇨🇦</td>\n",
       "      <td>Pale Ale</td>\n",
       "      <td>NaN</td>\n",
       "      <td>-</td>\n",
       "      <td>-</td>\n",
       "      <td>3.30</td>\n",
       "      <td>2</td>\n",
       "      <td>Louie Louie Gruo Gruo</td>\n",
       "    </tr>\n",
       "  </tbody>\n",
       "</table>\n",
       "<p>22671 rows × 9 columns</p>\n",
       "</div>"
      ],
      "text/plain": [
       "                                         return_string flag  \\\n",
       "0    St. Peter's Ruby Red Ale\\n🇬🇧 Bitter - Ordinary...   🇬🇧   \n",
       "1    Shepherd Neame Spitfire (Bottle)\\n🇬🇧 Bitter - ...   🇬🇧   \n",
       "2    Arbor Rocketman\\n🇬🇧 IPA • 6.0%\\n95\\n97\\n3.74\\n...   🇬🇧   \n",
       "3    Shepherd Neame India Pale Ale (Bottle)\\n🇬🇧 IPA...   🇬🇧   \n",
       "4    Shepherd Neame Christmas Ale\\n🇬🇧 Strong Ale - ...   🇬🇧   \n",
       "..                                                 ...  ...   \n",
       "555  Keg Creek Oktoberfest\\n🇺🇸 Märzen / Marzen / Ok...   🇺🇸   \n",
       "563  Stone (Richmond) Delicious IPA - Virginia Brew...   🇺🇸   \n",
       "615  23er Peach Ale\\n🇩🇪 Pale Ale - Flavored\\n-\\n-\\n...   🇩🇪   \n",
       "686  Hill Farmstead Civil Disobedience (Release 22)...   🇺🇸   \n",
       "697  Louie Louie Gruo Gruo\\n🇨🇦 Pale Ale\\n-\\n-\\n3.30...   🇨🇦   \n",
       "\n",
       "                                    type  abv rb_overall_score rb_style_score  \\\n",
       "0              Bitter - Ordinary / Best   4.3               49             95   \n",
       "1              Bitter - Ordinary / Best   4.5               34             59   \n",
       "2                                   IPA   6.0               95             97   \n",
       "3                         IPA - English   6.1               46             47   \n",
       "4                  Strong Ale - English   7.0               45             46   \n",
       "..                                   ...  ...              ...            ...   \n",
       "555   Märzen / Marzen / Oktoberfest Bier  0.0                -              -   \n",
       "563                                  IPA  0.0                -              -   \n",
       "615                  Pale Ale - Flavored  NaN                -              -   \n",
       "686                     Sour / Wild Beer  0.0               99             99   \n",
       "697                             Pale Ale  NaN                -              -   \n",
       "\n",
       "    rb_user_rating rb_rating_number  \\\n",
       "0             3.25              415   \n",
       "1             3.05             1083   \n",
       "2             3.74               59   \n",
       "3             3.22              420   \n",
       "4             3.18              409   \n",
       "..             ...              ...   \n",
       "555           3.05                4   \n",
       "563           3.55                2   \n",
       "615           3.00                1   \n",
       "686           4.07               24   \n",
       "697           3.30                2   \n",
       "\n",
       "                                            name_found  \n",
       "0                             St. Peter's Ruby Red Ale  \n",
       "1                     Shepherd Neame Spitfire (Bottle)  \n",
       "2                                      Arbor Rocketman  \n",
       "3               Shepherd Neame India Pale Ale (Bottle)  \n",
       "4                         Shepherd Neame Christmas Ale  \n",
       "..                                                 ...  \n",
       "555                              Keg Creek Oktoberfest  \n",
       "563  Stone (Richmond) Delicious IPA - Virginia Brew...  \n",
       "615                                     23er Peach Ale  \n",
       "686     Hill Farmstead Civil Disobedience (Release 22)  \n",
       "697                              Louie Louie Gruo Gruo  \n",
       "\n",
       "[22671 rows x 9 columns]"
      ]
     },
     "execution_count": 40,
     "metadata": {},
     "output_type": "execute_result"
    }
   ],
   "source": [
    "beer_df"
   ]
  },
  {
   "cell_type": "code",
   "execution_count": 41,
   "metadata": {
    "ExecuteTime": {
     "end_time": "2020-06-28T13:45:54.677080Z",
     "start_time": "2020-06-28T13:45:54.647888Z"
    }
   },
   "outputs": [
    {
     "name": "stdout",
     "output_type": "stream",
     "text": [
      "There are 26 new beers that were not found or returned errors. They will be added to the no search list.\n"
     ]
    }
   ],
   "source": [
    "# compare to the unique list to create a new to-be-scraped list\n",
    "not_found_beer = df.beer_name[~df.beer_name.isin(beer_df.name_found)].unique()\n",
    "print(\"There are\", len(not_found_beer)-len(not_found_df), \"new beers that were not found or returned errors. They will be added to the no search list.\")\n",
    "not_found_df = pd.concat([not_found_df,pd.DataFrame(not_found_beer,columns = [\"not_found\"])])\n",
    "not_found_df.drop_duplicates(inplace=True)"
   ]
  },
  {
   "cell_type": "code",
   "execution_count": 42,
   "metadata": {
    "ExecuteTime": {
     "end_time": "2020-06-28T13:45:54.845282Z",
     "start_time": "2020-06-28T13:45:54.680601Z"
    }
   },
   "outputs": [],
   "source": [
    "beer_df.to_csv('beer_deets.csv',index=False)\n",
    "not_found_df.to_csv(\"not_found.csv\", index=False)"
   ]
  },
  {
   "cell_type": "code",
   "execution_count": null,
   "metadata": {},
   "outputs": [],
   "source": []
  },
  {
   "cell_type": "code",
   "execution_count": null,
   "metadata": {},
   "outputs": [],
   "source": []
  },
  {
   "cell_type": "code",
   "execution_count": null,
   "metadata": {},
   "outputs": [],
   "source": []
  }
 ],
 "metadata": {
  "kernelspec": {
   "display_name": "Python 3",
   "language": "python",
   "name": "python3"
  },
  "language_info": {
   "codemirror_mode": {
    "name": "ipython",
    "version": 3
   },
   "file_extension": ".py",
   "mimetype": "text/x-python",
   "name": "python",
   "nbconvert_exporter": "python",
   "pygments_lexer": "ipython3",
   "version": "3.7.1"
  },
  "toc": {
   "base_numbering": 1,
   "nav_menu": {},
   "number_sections": true,
   "sideBar": true,
   "skip_h1_title": false,
   "title_cell": "Table of Contents",
   "title_sidebar": "Contents",
   "toc_cell": false,
   "toc_position": {},
   "toc_section_display": true,
   "toc_window_display": false
  },
  "varInspector": {
   "cols": {
    "lenName": 16,
    "lenType": 16,
    "lenVar": 40
   },
   "kernels_config": {
    "python": {
     "delete_cmd_postfix": "",
     "delete_cmd_prefix": "del ",
     "library": "var_list.py",
     "varRefreshCmd": "print(var_dic_list())"
    },
    "r": {
     "delete_cmd_postfix": ") ",
     "delete_cmd_prefix": "rm(",
     "library": "var_list.r",
     "varRefreshCmd": "cat(var_dic_list()) "
    }
   },
   "types_to_exclude": [
    "module",
    "function",
    "builtin_function_or_method",
    "instance",
    "_Feature"
   ],
   "window_display": false
  }
 },
 "nbformat": 4,
 "nbformat_minor": 4
}
