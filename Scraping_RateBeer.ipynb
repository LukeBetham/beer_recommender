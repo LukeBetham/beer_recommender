{
 "cells": [
  {
   "cell_type": "code",
   "execution_count": 13,
   "metadata": {
    "ExecuteTime": {
     "end_time": "2020-07-06T12:29:38.010810Z",
     "start_time": "2020-07-06T12:29:37.927677Z"
    }
   },
   "outputs": [],
   "source": [
    "import requests\n",
    "import bs4\n",
    "from bs4 import BeautifulSoup\n",
    "import pandas as pd\n",
    "import re\n",
    "from tqdm.notebook import tqdm\n",
    "import matplotlib.pyplot as plt\n",
    "import seaborn as sns"
   ]
  },
  {
   "cell_type": "markdown",
   "metadata": {},
   "source": [
    "## Code which scrapes the recently reviews (only 100 pages - 1,400 reviews)"
   ]
  },
  {
   "cell_type": "code",
   "execution_count": 14,
   "metadata": {
    "ExecuteTime": {
     "end_time": "2020-07-06T12:29:38.085195Z",
     "start_time": "2020-07-06T12:29:38.022628Z"
    }
   },
   "outputs": [],
   "source": [
    "\n",
    "def ratebeer_scraper(page_start=1, page_end=2, url_set=None):\n",
    "    \n",
    "    beer_name = []\n",
    "    beer_rating = []\n",
    "    brewery_name = []\n",
    "    brewery_location = []\n",
    "    review_content = []\n",
    "    reviewer_name = []\n",
    " \n",
    "    if url_set == None:\n",
    "        print(\"Need url to run\")\n",
    "        return\n",
    "\n",
    "    for x in tqdm(range(page_start, page_end + 1)):\n",
    "        try:\n",
    "            url_format = url_set.format(x)\n",
    "            r = requests.get(url_format)\n",
    "            soup = BeautifulSoup(r.text, 'html.parser')\n",
    "            table = soup.find('table', attrs={'class': 'table'})\n",
    "            table_rows = table.find_all('tr')\n",
    "\n",
    "            for rows in table_rows:\n",
    "\n",
    "            # Scrape Beer Name    \n",
    "                try:\n",
    "                    beer_name.append(rows.find('a', attrs={'style':'font-size:20px; font-weight:bold;'}).text)\n",
    "                except:\n",
    "                    beer_name.append(None)\n",
    "            # Scrape Review Rating  \n",
    "                try:\n",
    "                    beer_rating.append(rows.find('span', attrs={'class':'uas'}).text)\n",
    "                except:\n",
    "                    beer_rating.append(None)\n",
    "            # Scrape Brewery Name  \n",
    "                try:\n",
    "                    brewery_div = rows.find('div')\n",
    "                    brewery_name.append(brewery_div.a.text)\n",
    "                except:\n",
    "                    brewery_name.append(None)\n",
    "            # Scrape Brewery Location\n",
    "                try:\n",
    "                    brewery_location.append(rows.find('span', attrs={'class':'small'}).text.strip())\n",
    "                except:\n",
    "                    brewery_location.append(None)\n",
    "            # Scrape Reviewer Name\n",
    "                try:\n",
    "                    reviewer_name.append(rows.find('span', attrs={'class':'pull-right'}).text.strip())\n",
    "                except:\n",
    "                    reviewer_name.append(None)\n",
    "            # Scrape content\n",
    "                try:\n",
    "                    review_content.append(rows.find('div', attrs={'style':\"color:#666;\"}).text.strip())\n",
    "                except:\n",
    "                    review_content.append(None)\n",
    "        except:\n",
    "            pass\n",
    "\n",
    "    beerz = pd.DataFrame({'beer_name': beer_name,\n",
    "                         'beer_rating': beer_rating,\n",
    "                        'brewery_name': brewery_name,\n",
    "                         'brewery_location': brewery_location,\n",
    "                        'review_content': review_content,\n",
    "                        'reviewer_name': reviewer_name})\n",
    "    return beerz\n",
    "\n"
   ]
  },
  {
   "cell_type": "code",
   "execution_count": 15,
   "metadata": {
    "ExecuteTime": {
     "end_time": "2020-07-06T12:34:46.275139Z",
     "start_time": "2020-07-06T12:29:38.091828Z"
    }
   },
   "outputs": [
    {
     "data": {
      "application/vnd.jupyter.widget-view+json": {
       "model_id": "ecf6c1aaffb64f2f9bbba66a225b413f",
       "version_major": 2,
       "version_minor": 0
      },
      "text/plain": [
       "HBox(children=(FloatProgress(value=0.0, max=101.0), HTML(value='')))"
      ]
     },
     "metadata": {},
     "output_type": "display_data"
    },
    {
     "name": "stdout",
     "output_type": "stream",
     "text": [
      "\n"
     ]
    },
    {
     "data": {
      "application/vnd.jupyter.widget-view+json": {
       "model_id": "d884d7b0276941339128c9fabb6e8c7e",
       "version_major": 2,
       "version_minor": 0
      },
      "text/plain": [
       "HBox(children=(FloatProgress(value=0.0, max=11.0), HTML(value='')))"
      ]
     },
     "metadata": {},
     "output_type": "display_data"
    },
    {
     "name": "stdout",
     "output_type": "stream",
     "text": [
      "\n"
     ]
    },
    {
     "data": {
      "application/vnd.jupyter.widget-view+json": {
       "model_id": "f4fc1ef5ba3047009dd77f6c1759e4b6",
       "version_major": 2,
       "version_minor": 0
      },
      "text/plain": [
       "HBox(children=(FloatProgress(value=0.0, max=51.0), HTML(value='')))"
      ]
     },
     "metadata": {},
     "output_type": "display_data"
    },
    {
     "name": "stdout",
     "output_type": "stream",
     "text": [
      "\n"
     ]
    },
    {
     "data": {
      "application/vnd.jupyter.widget-view+json": {
       "model_id": "589568f501d44a0eb61ce7027e96bfe5",
       "version_major": 2,
       "version_minor": 0
      },
      "text/plain": [
       "HBox(children=(FloatProgress(value=0.0, max=51.0), HTML(value='')))"
      ]
     },
     "metadata": {},
     "output_type": "display_data"
    },
    {
     "name": "stdout",
     "output_type": "stream",
     "text": [
      "\n"
     ]
    },
    {
     "data": {
      "application/vnd.jupyter.widget-view+json": {
       "model_id": "6d01657ffc23432fb6dec2aa406254ea",
       "version_major": 2,
       "version_minor": 0
      },
      "text/plain": [
       "HBox(children=(FloatProgress(value=0.0, max=51.0), HTML(value='')))"
      ]
     },
     "metadata": {},
     "output_type": "display_data"
    },
    {
     "name": "stdout",
     "output_type": "stream",
     "text": [
      "\n"
     ]
    },
    {
     "data": {
      "application/vnd.jupyter.widget-view+json": {
       "model_id": "57f59a0c26f34f00b2952dc61723f626",
       "version_major": 2,
       "version_minor": 0
      },
      "text/plain": [
       "HBox(children=(FloatProgress(value=0.0, max=51.0), HTML(value='')))"
      ]
     },
     "metadata": {},
     "output_type": "display_data"
    },
    {
     "name": "stdout",
     "output_type": "stream",
     "text": [
      "\n"
     ]
    }
   ],
   "source": [
    "# Scraping most recent reviews\n",
    "url = 'https://www.ratebeer.com/beer-ratings/0/{}/'\n",
    "df_recent = ratebeer_scraper(0,100,url)\n",
    "\n",
    "# Scraping new beers\n",
    "url = 'https://www.ratebeer.com/beer-ratings/5/{}/'\n",
    "df_new = ratebeer_scraper(0,10,url)\n",
    "\n",
    "# Scraping fave beers\n",
    "url = 'https://www.ratebeer.com/beer-ratings/4/{}/'\n",
    "df_fave = ratebeer_scraper(0,50,url)\n",
    "\n",
    "# Scraping rave beers\n",
    "url = 'https://www.ratebeer.com/beer-ratings/1/{}/'\n",
    "df_rave = ratebeer_scraper(0,50,url)\n",
    "\n",
    "# Scraping rant beers\n",
    "url = 'https://www.ratebeer.com/beer-ratings/2/{}/'\n",
    "df_rant = ratebeer_scraper(0,50,url)\n",
    "\n",
    "# Scraping anomalous beers\n",
    "url = 'https://www.ratebeer.com/beer-ratings/3/{}/'\n",
    "df_anom = ratebeer_scraper(0,50,url)"
   ]
  },
  {
   "cell_type": "code",
   "execution_count": 16,
   "metadata": {
    "ExecuteTime": {
     "end_time": "2020-07-06T12:34:46.315490Z",
     "start_time": "2020-07-06T12:34:46.278795Z"
    }
   },
   "outputs": [],
   "source": [
    "# getting rid of non-ascii characters from the reviews as it breaks csv\n",
    "\n",
    "df_recent.review_content = df_recent.review_content.apply(lambda x: x.encode('ascii', 'ignore').decode('ascii'))\n",
    "df_new.review_content = df_new.review_content.apply(lambda x: x.encode('ascii', 'ignore').decode('ascii'))\n",
    "df_rave.review_content = df_rave.review_content.apply(lambda x: x.encode('ascii', 'ignore').decode('ascii'))\n",
    "df_fave.review_content = df_fave.review_content.apply(lambda x: x.encode('ascii', 'ignore').decode('ascii'))\n",
    "df_rant.review_content = df_rant.review_content.apply(lambda x: x.encode('ascii', 'ignore').decode('ascii'))\n",
    "df_anom.review_content = df_anom.review_content.apply(lambda x: x.encode('ascii', 'ignore').decode('ascii'))\n"
   ]
  },
  {
   "cell_type": "code",
   "execution_count": 17,
   "metadata": {
    "ExecuteTime": {
     "end_time": "2020-07-06T12:34:46.512624Z",
     "start_time": "2020-07-06T12:34:46.317193Z"
    }
   },
   "outputs": [],
   "source": [
    "# read current data from csv (there is a backup at all_reviews_backup.csv)\n",
    "df = pd.read_csv('all_reviews.csv')"
   ]
  },
  {
   "cell_type": "code",
   "execution_count": 18,
   "metadata": {
    "ExecuteTime": {
     "end_time": "2020-07-06T12:34:46.659495Z",
     "start_time": "2020-07-06T12:34:46.514898Z"
    }
   },
   "outputs": [
    {
     "name": "stdout",
     "output_type": "stream",
     "text": [
      "49767\n",
      "46546\n"
     ]
    }
   ],
   "source": [
    "# concatenating all of the scrapes together with the old df\n",
    "try:\n",
    "    df = pd.concat([df, df_recent, df_new, df_fave, df_rave, df_rant, df_anom])\n",
    "except:\n",
    "    df = pd.concat([df, df_recent])\n",
    "print(len(df))\n",
    "df.drop_duplicates(inplace=True)\n",
    "print(len(df))\n",
    "df.beer_name = df.beer_name.apply(lambda x: x.strip())\n",
    "\n"
   ]
  },
  {
   "cell_type": "code",
   "execution_count": 19,
   "metadata": {
    "ExecuteTime": {
     "end_time": "2020-07-06T12:34:46.687781Z",
     "start_time": "2020-07-06T12:34:46.661681Z"
    }
   },
   "outputs": [
    {
     "data": {
      "text/html": [
       "<div>\n",
       "<style scoped>\n",
       "    .dataframe tbody tr th:only-of-type {\n",
       "        vertical-align: middle;\n",
       "    }\n",
       "\n",
       "    .dataframe tbody tr th {\n",
       "        vertical-align: top;\n",
       "    }\n",
       "\n",
       "    .dataframe thead th {\n",
       "        text-align: right;\n",
       "    }\n",
       "</style>\n",
       "<table border=\"1\" class=\"dataframe\">\n",
       "  <thead>\n",
       "    <tr style=\"text-align: right;\">\n",
       "      <th></th>\n",
       "      <th>beer_name</th>\n",
       "      <th>beer_rating</th>\n",
       "      <th>brewery_location</th>\n",
       "      <th>brewery_name</th>\n",
       "      <th>review_content</th>\n",
       "      <th>reviewer_name</th>\n",
       "    </tr>\n",
       "  </thead>\n",
       "  <tbody>\n",
       "    <tr>\n",
       "      <th>0</th>\n",
       "      <td>St. Peter's Ruby Red Ale</td>\n",
       "      <td>3.3</td>\n",
       "      <td>Bungay, Suffolk</td>\n",
       "      <td>St. Peter's Brewery</td>\n",
       "      <td>Ruby color, offwhite coam. Aroma and taste: fl...</td>\n",
       "      <td>alex_leit</td>\n",
       "    </tr>\n",
       "    <tr>\n",
       "      <th>1</th>\n",
       "      <td>Shepherd Neame Spitfire (Bottle)</td>\n",
       "      <td>2.2</td>\n",
       "      <td>Faversham, Kent</td>\n",
       "      <td>Shepherd Neame</td>\n",
       "      <td>Disappointing show from the lads at ‘Britain’s...</td>\n",
       "      <td>shivermetimber.gray</td>\n",
       "    </tr>\n",
       "    <tr>\n",
       "      <th>2</th>\n",
       "      <td>Arbor Rocketman</td>\n",
       "      <td>3.8</td>\n",
       "      <td>Bristol, Gloucestershire</td>\n",
       "      <td>Arbor Ales</td>\n",
       "      <td>Puszka. Mętne o żółtym kolorze. Piana biała,ob...</td>\n",
       "      <td>MarcinG</td>\n",
       "    </tr>\n",
       "    <tr>\n",
       "      <th>3</th>\n",
       "      <td>Shepherd Neame India Pale Ale (Bottle)</td>\n",
       "      <td>3.4</td>\n",
       "      <td>Faversham, Kent</td>\n",
       "      <td>Shepherd Neame</td>\n",
       "      <td>Bottle. Amber with bronze color and white foam...</td>\n",
       "      <td>alex_leit</td>\n",
       "    </tr>\n",
       "    <tr>\n",
       "      <th>4</th>\n",
       "      <td>Shepherd Neame Christmas Ale</td>\n",
       "      <td>3.3</td>\n",
       "      <td>Faversham, Kent</td>\n",
       "      <td>Shepherd Neame</td>\n",
       "      <td>Bottle. Aroma: English hops and malts with tof...</td>\n",
       "      <td>alex_leit</td>\n",
       "    </tr>\n",
       "    <tr>\n",
       "      <th>...</th>\n",
       "      <td>...</td>\n",
       "      <td>...</td>\n",
       "      <td>...</td>\n",
       "      <td>...</td>\n",
       "      <td>...</td>\n",
       "      <td>...</td>\n",
       "    </tr>\n",
       "    <tr>\n",
       "      <th>760</th>\n",
       "      <td>Evil Twin Even More Coco Jesus</td>\n",
       "      <td>2.3</td>\n",
       "      <td>-1.6</td>\n",
       "      <td>Evil Twin Brewing</td>\n",
       "      <td>Can, early 2018. Soapy coconut, lots of molass...</td>\n",
       "      <td>ElDesmadre</td>\n",
       "    </tr>\n",
       "    <tr>\n",
       "      <th>761</th>\n",
       "      <td>Lösch-Zwerg Würzig</td>\n",
       "      <td>0.5</td>\n",
       "      <td>-2.2</td>\n",
       "      <td>Privatbrauerei Schimpfle</td>\n",
       "      <td>Genuinely couldn't finish this. Horribly astri...</td>\n",
       "      <td>LocalMuse25</td>\n",
       "    </tr>\n",
       "    <tr>\n",
       "      <th>762</th>\n",
       "      <td>Scheyern Kloster-Gold Hell</td>\n",
       "      <td>0.7</td>\n",
       "      <td>-2.1</td>\n",
       "      <td>Kloster-Brauerei Scheyern</td>\n",
       "      <td>Horrid beer. Nasty aromas, even more nasty fla...</td>\n",
       "      <td>LocalMuse25</td>\n",
       "    </tr>\n",
       "    <tr>\n",
       "      <th>763</th>\n",
       "      <td>Squatters Hop Rising Tropical Double IPA</td>\n",
       "      <td>5.0</td>\n",
       "      <td>+1.6</td>\n",
       "      <td>Squatters Craft Beers (CANarchy Craft Brewery ...</td>\n",
       "      <td>Sniff the aroma, look at the color, its the be...</td>\n",
       "      <td>beer3000</td>\n",
       "    </tr>\n",
       "    <tr>\n",
       "      <th>764</th>\n",
       "      <td>Wiethaler Goldstoff Hell</td>\n",
       "      <td>5.0</td>\n",
       "      <td>+2</td>\n",
       "      <td>Brauerei Wiethaler</td>\n",
       "      <td>De Landbierparadies. En vaso hefe de Bavaria. ...</td>\n",
       "      <td>josanguapo</td>\n",
       "    </tr>\n",
       "  </tbody>\n",
       "</table>\n",
       "<p>46546 rows × 6 columns</p>\n",
       "</div>"
      ],
      "text/plain": [
       "                                    beer_name beer_rating  \\\n",
       "0                    St. Peter's Ruby Red Ale         3.3   \n",
       "1            Shepherd Neame Spitfire (Bottle)         2.2   \n",
       "2                             Arbor Rocketman         3.8   \n",
       "3      Shepherd Neame India Pale Ale (Bottle)         3.4   \n",
       "4                Shepherd Neame Christmas Ale         3.3   \n",
       "..                                        ...         ...   \n",
       "760            Evil Twin Even More Coco Jesus         2.3   \n",
       "761                        Lösch-Zwerg Würzig         0.5   \n",
       "762                Scheyern Kloster-Gold Hell         0.7   \n",
       "763  Squatters Hop Rising Tropical Double IPA         5.0   \n",
       "764                  Wiethaler Goldstoff Hell         5.0   \n",
       "\n",
       "             brewery_location  \\\n",
       "0             Bungay, Suffolk   \n",
       "1             Faversham, Kent   \n",
       "2    Bristol, Gloucestershire   \n",
       "3             Faversham, Kent   \n",
       "4             Faversham, Kent   \n",
       "..                        ...   \n",
       "760                      -1.6   \n",
       "761                      -2.2   \n",
       "762                      -2.1   \n",
       "763                      +1.6   \n",
       "764                        +2   \n",
       "\n",
       "                                          brewery_name  \\\n",
       "0                                  St. Peter's Brewery   \n",
       "1                                       Shepherd Neame   \n",
       "2                                           Arbor Ales   \n",
       "3                                       Shepherd Neame   \n",
       "4                                       Shepherd Neame   \n",
       "..                                                 ...   \n",
       "760                                  Evil Twin Brewing   \n",
       "761                           Privatbrauerei Schimpfle   \n",
       "762                          Kloster-Brauerei Scheyern   \n",
       "763  Squatters Craft Beers (CANarchy Craft Brewery ...   \n",
       "764                                 Brauerei Wiethaler   \n",
       "\n",
       "                                        review_content        reviewer_name  \n",
       "0    Ruby color, offwhite coam. Aroma and taste: fl...            alex_leit  \n",
       "1    Disappointing show from the lads at ‘Britain’s...  shivermetimber.gray  \n",
       "2    Puszka. Mętne o żółtym kolorze. Piana biała,ob...              MarcinG  \n",
       "3    Bottle. Amber with bronze color and white foam...            alex_leit  \n",
       "4    Bottle. Aroma: English hops and malts with tof...            alex_leit  \n",
       "..                                                 ...                  ...  \n",
       "760  Can, early 2018. Soapy coconut, lots of molass...           ElDesmadre  \n",
       "761  Genuinely couldn't finish this. Horribly astri...          LocalMuse25  \n",
       "762  Horrid beer. Nasty aromas, even more nasty fla...          LocalMuse25  \n",
       "763  Sniff the aroma, look at the color, its the be...             beer3000  \n",
       "764  De Landbierparadies. En vaso hefe de Bavaria. ...           josanguapo  \n",
       "\n",
       "[46546 rows x 6 columns]"
      ]
     },
     "execution_count": 19,
     "metadata": {},
     "output_type": "execute_result"
    }
   ],
   "source": [
    "df"
   ]
  },
  {
   "cell_type": "code",
   "execution_count": 20,
   "metadata": {
    "ExecuteTime": {
     "end_time": "2020-07-06T12:34:47.207713Z",
     "start_time": "2020-07-06T12:34:46.690332Z"
    }
   },
   "outputs": [],
   "source": [
    "df.to_csv('all_reviews.csv',index=False)\n",
    "# df = pd.read_csv('all_reviews.csv')\n",
    "not_found_df = pd.read_csv(\"not_found.csv\")"
   ]
  },
  {
   "cell_type": "markdown",
   "metadata": {},
   "source": [
    "## Get more information on all of the beers - Selenium"
   ]
  },
  {
   "cell_type": "code",
   "execution_count": 21,
   "metadata": {
    "ExecuteTime": {
     "end_time": "2020-07-06T12:34:47.225633Z",
     "start_time": "2020-07-06T12:34:47.221694Z"
    }
   },
   "outputs": [],
   "source": [
    "from selenium import webdriver\n",
    "import time"
   ]
  },
  {
   "cell_type": "code",
   "execution_count": 22,
   "metadata": {
    "ExecuteTime": {
     "end_time": "2020-07-06T12:34:47.415989Z",
     "start_time": "2020-07-06T12:34:47.237457Z"
    }
   },
   "outputs": [],
   "source": [
    "# extract already scraped data from previous scrapes so don't rescrape\n",
    "beer_df = pd.read_csv('beer_deets.csv')"
   ]
  },
  {
   "cell_type": "code",
   "execution_count": 23,
   "metadata": {
    "ExecuteTime": {
     "end_time": "2020-07-06T12:34:47.444493Z",
     "start_time": "2020-07-06T12:34:47.418986Z"
    }
   },
   "outputs": [
    {
     "name": "stdout",
     "output_type": "stream",
     "text": [
      "There are 1465 new beers to search for!\n"
     ]
    }
   ],
   "source": [
    "# compare to the unique list to create a new to-be-scraped list\n",
    "new_beer = df.beer_name[(~df.beer_name.isin(beer_df.name_found))&(~df.beer_name.isin(not_found_df.not_found))].unique()\n",
    "print(\"There are\", len(new_beer), \"new beers to search for!\")"
   ]
  },
  {
   "cell_type": "code",
   "execution_count": 27,
   "metadata": {
    "ExecuteTime": {
     "end_time": "2020-07-06T14:35:03.993924Z",
     "start_time": "2020-07-06T13:21:43.543562Z"
    }
   },
   "outputs": [
    {
     "data": {
      "application/vnd.jupyter.widget-view+json": {
       "model_id": "928574384a704a7cb8f3054fdd050533",
       "version_major": 2,
       "version_minor": 0
      },
      "text/plain": [
       "HBox(children=(FloatProgress(value=0.0, max=1465.0), HTML(value='')))"
      ]
     },
     "metadata": {},
     "output_type": "display_data"
    },
    {
     "name": "stdout",
     "output_type": "stream",
     "text": [
      "\n"
     ]
    }
   ],
   "source": [
    "item_names = []\n",
    "desc_string = []\n",
    "\n",
    "driver = webdriver.Chrome(executable_path='/Users/lukebetham/Downloads/chromedriver')\n",
    "\n",
    "for beer in tqdm(new_beer):\n",
    "    driver.get(\"https://www.ratebeer.com/search?beername={}\".format(beer))\n",
    "    time.sleep(2)\n",
    "    item_tags = driver.find_elements_by_class_name('fg-1')\n",
    "\n",
    "    x=1\n",
    "    beer_temp = []\n",
    "    for item in item_tags:        \n",
    "        if x <2:\n",
    "            try:\n",
    "                item_names.append(item.find_element_by_class_name('fd-r').text)\n",
    "                x+=1\n",
    "            except:\n",
    "                pass\n",
    "            try:\n",
    "                beer_temp.append(item.text)\n",
    "            except:\n",
    "                pass\n",
    "    try:\n",
    "        desc_string.append(beer_temp[4])\n",
    "    except:\n",
    "        desc_string.append(None)\n",
    "\n",
    "driver.quit()"
   ]
  },
  {
   "cell_type": "code",
   "execution_count": 28,
   "metadata": {
    "ExecuteTime": {
     "end_time": "2020-07-06T14:35:04.917782Z",
     "start_time": "2020-07-06T14:35:04.871452Z"
    }
   },
   "outputs": [
    {
     "data": {
      "text/html": [
       "<div>\n",
       "<style scoped>\n",
       "    .dataframe tbody tr th:only-of-type {\n",
       "        vertical-align: middle;\n",
       "    }\n",
       "\n",
       "    .dataframe tbody tr th {\n",
       "        vertical-align: top;\n",
       "    }\n",
       "\n",
       "    .dataframe thead th {\n",
       "        text-align: right;\n",
       "    }\n",
       "</style>\n",
       "<table border=\"1\" class=\"dataframe\">\n",
       "  <thead>\n",
       "    <tr style=\"text-align: right;\">\n",
       "      <th></th>\n",
       "      <th>return_string</th>\n",
       "    </tr>\n",
       "  </thead>\n",
       "  <tbody>\n",
       "    <tr>\n",
       "      <th>0</th>\n",
       "      <td>Yachats First Responder Session IPA\\n🇺🇸 ISA - ...</td>\n",
       "    </tr>\n",
       "    <tr>\n",
       "      <th>1</th>\n",
       "      <td>Yellow Dog Faded White IPA\\n🇨🇦 IPA - White • 6...</td>\n",
       "    </tr>\n",
       "    <tr>\n",
       "      <th>2</th>\n",
       "      <td>Seapine Citra IPA\\n🇺🇸 IPA • 6.6%\\n-\\n-\\n3.43\\n(6)</td>\n",
       "    </tr>\n",
       "    <tr>\n",
       "      <th>3</th>\n",
       "      <td>Twin Sails Vaporwave\\n🇨🇦 IPA - Sour / Wild • 6...</td>\n",
       "    </tr>\n",
       "    <tr>\n",
       "      <th>4</th>\n",
       "      <td>Twin Sails Lil’ Gulp Radler\\n🇨🇦 Radler / Shand...</td>\n",
       "    </tr>\n",
       "    <tr>\n",
       "      <th>...</th>\n",
       "      <td>...</td>\n",
       "    </tr>\n",
       "    <tr>\n",
       "      <th>1460</th>\n",
       "      <td>Meckatzer Fest-Märzen\\n🇩🇪 Märzen / Marzen / Ok...</td>\n",
       "    </tr>\n",
       "    <tr>\n",
       "      <th>1461</th>\n",
       "      <td>Kizakura / Kyoto Bakushu Kölsch\\n🇯🇵 Kölsch / K...</td>\n",
       "    </tr>\n",
       "    <tr>\n",
       "      <th>1462</th>\n",
       "      <td>Union Smile (2020-)\\n🇸🇮 Pale Lager - North Am....</td>\n",
       "    </tr>\n",
       "    <tr>\n",
       "      <th>1463</th>\n",
       "      <td>Bruha New England IPA\\n🇬🇧 IPA - Hazy / NEIPA •...</td>\n",
       "    </tr>\n",
       "    <tr>\n",
       "      <th>1464</th>\n",
       "      <td>Grimm Super Paradise\\n🇺🇸 Gose - Flavored • 4.8...</td>\n",
       "    </tr>\n",
       "  </tbody>\n",
       "</table>\n",
       "<p>1465 rows × 1 columns</p>\n",
       "</div>"
      ],
      "text/plain": [
       "                                          return_string\n",
       "0     Yachats First Responder Session IPA\\n🇺🇸 ISA - ...\n",
       "1     Yellow Dog Faded White IPA\\n🇨🇦 IPA - White • 6...\n",
       "2     Seapine Citra IPA\\n🇺🇸 IPA • 6.6%\\n-\\n-\\n3.43\\n(6)\n",
       "3     Twin Sails Vaporwave\\n🇨🇦 IPA - Sour / Wild • 6...\n",
       "4     Twin Sails Lil’ Gulp Radler\\n🇨🇦 Radler / Shand...\n",
       "...                                                 ...\n",
       "1460  Meckatzer Fest-Märzen\\n🇩🇪 Märzen / Marzen / Ok...\n",
       "1461  Kizakura / Kyoto Bakushu Kölsch\\n🇯🇵 Kölsch / K...\n",
       "1462  Union Smile (2020-)\\n🇸🇮 Pale Lager - North Am....\n",
       "1463  Bruha New England IPA\\n🇬🇧 IPA - Hazy / NEIPA •...\n",
       "1464  Grimm Super Paradise\\n🇺🇸 Gose - Flavored • 4.8...\n",
       "\n",
       "[1465 rows x 1 columns]"
      ]
     },
     "execution_count": 28,
     "metadata": {},
     "output_type": "execute_result"
    }
   ],
   "source": [
    "beer_deets = pd.DataFrame(desc_string, columns = ['return_string'])\n",
    "beer_deets"
   ]
  },
  {
   "cell_type": "code",
   "execution_count": 29,
   "metadata": {
    "ExecuteTime": {
     "end_time": "2020-07-06T14:35:05.896018Z",
     "start_time": "2020-07-06T14:35:05.857045Z"
    }
   },
   "outputs": [],
   "source": [
    "## cleaning the scraped data\n",
    "beer_deets.dropna(inplace=True)\n",
    "beer_deets = beer_deets[~beer_deets.return_string.str.startswith('Logo\\n')].copy()\n",
    "no_alcohol = beer_deets[~beer_deets.return_string.str.contains('%')].copy()\n",
    "beer_deets = beer_deets[beer_deets.return_string.str.contains('%')].copy()\n"
   ]
  },
  {
   "cell_type": "code",
   "execution_count": 30,
   "metadata": {
    "ExecuteTime": {
     "end_time": "2020-07-06T14:35:06.783353Z",
     "start_time": "2020-07-06T14:35:06.709286Z"
    }
   },
   "outputs": [],
   "source": [
    "# sorting the scraped data into columns\n",
    "beer_deets['name_found'] = beer_deets.return_string.apply(lambda x: x.split('\\n')[0].strip())\n",
    "beer_deets['flag'] = beer_deets.return_string.apply(lambda x: x.split('\\n')[1].split('•')[0].split(\" \")[0])\n",
    "beer_deets['type'] = beer_deets.return_string.apply(lambda x: x.split('\\n')[1].split('•')[0][2:])\n",
    "beer_deets['abv'] = beer_deets.return_string.apply(lambda x: float(x.split('\\n')[1].split('•')[1].replace(\"%\",\"\")))\n",
    "beer_deets['rb_overall_score'] = beer_deets.return_string.apply(lambda x: x.split('\\n')[2])\n",
    "beer_deets['rb_style_score'] = beer_deets.return_string.apply(lambda x: x.split('\\n')[3])\n",
    "beer_deets['rb_user_rating'] = beer_deets.return_string.apply(lambda x: x.split('\\n')[4])\n",
    "beer_deets['rb_rating_number'] = beer_deets.return_string.apply(lambda x: x.split('\\n')[5].replace(\"(\",\"\").replace(\")\",\"\"))\n"
   ]
  },
  {
   "cell_type": "code",
   "execution_count": 31,
   "metadata": {
    "ExecuteTime": {
     "end_time": "2020-07-06T14:35:07.703889Z",
     "start_time": "2020-07-06T14:35:07.701625Z"
    }
   },
   "outputs": [],
   "source": [
    "# need to add in add check here for price\n"
   ]
  },
  {
   "cell_type": "code",
   "execution_count": null,
   "metadata": {},
   "outputs": [],
   "source": [
    "\n"
   ]
  },
  {
   "cell_type": "code",
   "execution_count": 32,
   "metadata": {
    "ExecuteTime": {
     "end_time": "2020-07-06T14:35:08.694926Z",
     "start_time": "2020-07-06T14:35:08.638034Z"
    },
    "scrolled": true
   },
   "outputs": [
    {
     "data": {
      "text/html": [
       "<div>\n",
       "<style scoped>\n",
       "    .dataframe tbody tr th:only-of-type {\n",
       "        vertical-align: middle;\n",
       "    }\n",
       "\n",
       "    .dataframe tbody tr th {\n",
       "        vertical-align: top;\n",
       "    }\n",
       "\n",
       "    .dataframe thead th {\n",
       "        text-align: right;\n",
       "    }\n",
       "</style>\n",
       "<table border=\"1\" class=\"dataframe\">\n",
       "  <thead>\n",
       "    <tr style=\"text-align: right;\">\n",
       "      <th></th>\n",
       "      <th>return_string</th>\n",
       "      <th>name_found</th>\n",
       "      <th>flag</th>\n",
       "      <th>type</th>\n",
       "      <th>abv</th>\n",
       "      <th>rb_overall_score</th>\n",
       "      <th>rb_style_score</th>\n",
       "      <th>rb_user_rating</th>\n",
       "      <th>rb_rating_number</th>\n",
       "    </tr>\n",
       "  </thead>\n",
       "  <tbody>\n",
       "    <tr>\n",
       "      <th>35</th>\n",
       "      <td>Texas Ale Project Tap Wtr - Mixed Berry Seltze...</td>\n",
       "      <td>Texas Ale Project Tap Wtr - Mixed Berry Seltzer</td>\n",
       "      <td>🇺🇸</td>\n",
       "      <td>Flavored - Other</td>\n",
       "      <td>NaN</td>\n",
       "      <td>-</td>\n",
       "      <td>-</td>\n",
       "      <td>3.00</td>\n",
       "      <td>1</td>\n",
       "    </tr>\n",
       "    <tr>\n",
       "      <th>75</th>\n",
       "      <td>Belgh Brasse Morbach Kölsch\\n🇨🇦 Kölsch / Kolsc...</td>\n",
       "      <td>Belgh Brasse Morbach Kölsch</td>\n",
       "      <td>🇨🇦</td>\n",
       "      <td>Kölsch / Kolsch-Style</td>\n",
       "      <td>NaN</td>\n",
       "      <td>-</td>\n",
       "      <td>-</td>\n",
       "      <td>3.17</td>\n",
       "      <td>3</td>\n",
       "    </tr>\n",
       "    <tr>\n",
       "      <th>89</th>\n",
       "      <td>Warped Wing Alebrije Gose\\n🇺🇸 Gose\\n-\\n-\\n3.50...</td>\n",
       "      <td>Warped Wing Alebrije Gose</td>\n",
       "      <td>🇺🇸</td>\n",
       "      <td>Gose</td>\n",
       "      <td>NaN</td>\n",
       "      <td>-</td>\n",
       "      <td>-</td>\n",
       "      <td>3.50</td>\n",
       "      <td>1</td>\n",
       "    </tr>\n",
       "    <tr>\n",
       "      <th>114</th>\n",
       "      <td>Wooden Cask There Gose Cutie\\n🇺🇸 Gose - Flavor...</td>\n",
       "      <td>Wooden Cask There Gose Cutie</td>\n",
       "      <td>🇺🇸</td>\n",
       "      <td>Gose - Flavored</td>\n",
       "      <td>NaN</td>\n",
       "      <td>-</td>\n",
       "      <td>-</td>\n",
       "      <td>3.40</td>\n",
       "      <td>1</td>\n",
       "    </tr>\n",
       "    <tr>\n",
       "      <th>120</th>\n",
       "      <td>Rock House Flat Top Griddle\\n🇺🇸 Porter - Flavo...</td>\n",
       "      <td>Rock House Flat Top Griddle</td>\n",
       "      <td>🇺🇸</td>\n",
       "      <td>Porter - Flavored</td>\n",
       "      <td>NaN</td>\n",
       "      <td>-</td>\n",
       "      <td>-</td>\n",
       "      <td>3.70</td>\n",
       "      <td>1</td>\n",
       "    </tr>\n",
       "    <tr>\n",
       "      <th>391</th>\n",
       "      <td>Rock House Domo Affogato\\n🇺🇸 Porter - Flavored...</td>\n",
       "      <td>Rock House Domo Affogato</td>\n",
       "      <td>🇺🇸</td>\n",
       "      <td>Porter - Flavored</td>\n",
       "      <td>NaN</td>\n",
       "      <td>-</td>\n",
       "      <td>-</td>\n",
       "      <td>3.70</td>\n",
       "      <td>1</td>\n",
       "    </tr>\n",
       "    <tr>\n",
       "      <th>407</th>\n",
       "      <td>Roadhouse Pono Life\\n🇺🇸 ISA - Session IPA\\n-\\n...</td>\n",
       "      <td>Roadhouse Pono Life</td>\n",
       "      <td>🇺🇸</td>\n",
       "      <td>ISA - Session IPA</td>\n",
       "      <td>NaN</td>\n",
       "      <td>-</td>\n",
       "      <td>-</td>\n",
       "      <td>2.00</td>\n",
       "      <td>1</td>\n",
       "    </tr>\n",
       "    <tr>\n",
       "      <th>482</th>\n",
       "      <td>Amstel 0.0\\n🇳🇱 Low / No Alcohol Beer - Pale0\\n...</td>\n",
       "      <td>Amstel 0.0</td>\n",
       "      <td>🇳🇱</td>\n",
       "      <td>Low / No Alcohol Beer - Pale</td>\n",
       "      <td>0.0</td>\n",
       "      <td>2</td>\n",
       "      <td>35</td>\n",
       "      <td>1.96</td>\n",
       "      <td>86</td>\n",
       "    </tr>\n",
       "    <tr>\n",
       "      <th>508</th>\n",
       "      <td>AND UNION Tuesday\\n🇩🇪 Low / No Alcohol Beer - ...</td>\n",
       "      <td>AND UNION Tuesday</td>\n",
       "      <td>🇩🇪</td>\n",
       "      <td>Low / No Alcohol Beer - Wheat</td>\n",
       "      <td>NaN</td>\n",
       "      <td>-</td>\n",
       "      <td>-</td>\n",
       "      <td>2.50</td>\n",
       "      <td>1</td>\n",
       "    </tr>\n",
       "    <tr>\n",
       "      <th>555</th>\n",
       "      <td>Odd13 DDH Nelson Sauvin Codename: Superfan\\n🇺🇸...</td>\n",
       "      <td>Odd13 DDH Nelson Sauvin Codename: Superfan</td>\n",
       "      <td>🇺🇸</td>\n",
       "      <td>IPA - Hazy / NEIPA</td>\n",
       "      <td>NaN</td>\n",
       "      <td>-</td>\n",
       "      <td>-</td>\n",
       "      <td>3.90</td>\n",
       "      <td>1</td>\n",
       "    </tr>\n",
       "    <tr>\n",
       "      <th>561</th>\n",
       "      <td>Ex Novo Awesome Mix Vol 1\\n🇺🇸 Saison / Farmhou...</td>\n",
       "      <td>Ex Novo Awesome Mix Vol 1</td>\n",
       "      <td>🇺🇸</td>\n",
       "      <td>Saison / Farmhouse / Grisette</td>\n",
       "      <td>NaN</td>\n",
       "      <td>-</td>\n",
       "      <td>-</td>\n",
       "      <td>4.10</td>\n",
       "      <td>1</td>\n",
       "    </tr>\n",
       "    <tr>\n",
       "      <th>646</th>\n",
       "      <td>Colorado Boy Summer Ale\\n🇺🇸 Bitter - Premium /...</td>\n",
       "      <td>Colorado Boy Summer Ale</td>\n",
       "      <td>🇺🇸</td>\n",
       "      <td>Bitter - Premium / Strong / ESB</td>\n",
       "      <td>0.0</td>\n",
       "      <td>-</td>\n",
       "      <td>-</td>\n",
       "      <td>3.37</td>\n",
       "      <td>3</td>\n",
       "    </tr>\n",
       "    <tr>\n",
       "      <th>647</th>\n",
       "      <td>Colorado Boy Brown Ale\\n🇺🇸 Brown Ale\\n-\\n-\\n3....</td>\n",
       "      <td>Colorado Boy Brown Ale</td>\n",
       "      <td>🇺🇸</td>\n",
       "      <td>Brown Ale</td>\n",
       "      <td>NaN</td>\n",
       "      <td>-</td>\n",
       "      <td>-</td>\n",
       "      <td>3.60</td>\n",
       "      <td>1</td>\n",
       "    </tr>\n",
       "    <tr>\n",
       "      <th>650</th>\n",
       "      <td>Colorado Boy Red Rye\\n🇺🇸 Specialty Grain - Rye...</td>\n",
       "      <td>Colorado Boy Red Rye</td>\n",
       "      <td>🇺🇸</td>\n",
       "      <td>Specialty Grain - Rye / Roggenbier</td>\n",
       "      <td>NaN</td>\n",
       "      <td>-</td>\n",
       "      <td>-</td>\n",
       "      <td>3.20</td>\n",
       "      <td>1</td>\n",
       "    </tr>\n",
       "    <tr>\n",
       "      <th>657</th>\n",
       "      <td>Ouray Truegrass Pale\\n🇺🇸 Pale Ale - American /...</td>\n",
       "      <td>Ouray Truegrass Pale</td>\n",
       "      <td>🇺🇸</td>\n",
       "      <td>Pale Ale - American / APA</td>\n",
       "      <td>NaN</td>\n",
       "      <td>-</td>\n",
       "      <td>-</td>\n",
       "      <td>3.60</td>\n",
       "      <td>1</td>\n",
       "    </tr>\n",
       "    <tr>\n",
       "      <th>720</th>\n",
       "      <td>Barebottle Ekuanot Powered Jetpack\\n🇺🇸 IPA - H...</td>\n",
       "      <td>Barebottle Ekuanot Powered Jetpack</td>\n",
       "      <td>🇺🇸</td>\n",
       "      <td>IPA - Hazy / NEIPA</td>\n",
       "      <td>NaN</td>\n",
       "      <td>-</td>\n",
       "      <td>-</td>\n",
       "      <td>3.40</td>\n",
       "      <td>1</td>\n",
       "    </tr>\n",
       "    <tr>\n",
       "      <th>770</th>\n",
       "      <td>De Garde Violet BuVeaux\\n🇺🇸 Sour / Wild Beer -...</td>\n",
       "      <td>De Garde Violet BuVeaux</td>\n",
       "      <td>🇺🇸</td>\n",
       "      <td>Sour / Wild Beer - Flavored</td>\n",
       "      <td>NaN</td>\n",
       "      <td>-</td>\n",
       "      <td>-</td>\n",
       "      <td>3.98</td>\n",
       "      <td>4</td>\n",
       "    </tr>\n",
       "    <tr>\n",
       "      <th>875</th>\n",
       "      <td>Sir John Pour Some Chocolate on...\\n🇨🇦 Stout -...</td>\n",
       "      <td>Sir John Pour Some Chocolate on...</td>\n",
       "      <td>🇨🇦</td>\n",
       "      <td>Stout - Imperial Flavored</td>\n",
       "      <td>NaN</td>\n",
       "      <td>-</td>\n",
       "      <td>-</td>\n",
       "      <td>4.00</td>\n",
       "      <td>1</td>\n",
       "    </tr>\n",
       "    <tr>\n",
       "      <th>979</th>\n",
       "      <td>Oud Beersel Lambic infused with Hibiscus Sabda...</td>\n",
       "      <td>Oud Beersel Lambic infused with Hibiscus Sabda...</td>\n",
       "      <td>🇧🇪</td>\n",
       "      <td>Lambic - Fruited</td>\n",
       "      <td>NaN</td>\n",
       "      <td>79</td>\n",
       "      <td>35</td>\n",
       "      <td>3.56</td>\n",
       "      <td>22</td>\n",
       "    </tr>\n",
       "    <tr>\n",
       "      <th>1043</th>\n",
       "      <td>Dalton Moor Farm Kombucha\\n🇬🇧 Sour / Wild Beer...</td>\n",
       "      <td>Dalton Moor Farm Kombucha</td>\n",
       "      <td>🇬🇧</td>\n",
       "      <td>Sour / Wild Beer</td>\n",
       "      <td>NaN</td>\n",
       "      <td>-</td>\n",
       "      <td>-</td>\n",
       "      <td>3.30</td>\n",
       "      <td>1</td>\n",
       "    </tr>\n",
       "    <tr>\n",
       "      <th>1060</th>\n",
       "      <td>Kona Starfruit Orange IPA\\n🇺🇸 IPA - Flavored\\n...</td>\n",
       "      <td>Kona Starfruit Orange IPA</td>\n",
       "      <td>🇺🇸</td>\n",
       "      <td>IPA - Flavored</td>\n",
       "      <td>NaN</td>\n",
       "      <td>-</td>\n",
       "      <td>-</td>\n",
       "      <td>3.50</td>\n",
       "      <td>1</td>\n",
       "    </tr>\n",
       "    <tr>\n",
       "      <th>1133</th>\n",
       "      <td>Vagabond Instant de Bonheur - West Coast\\n🇨🇦 I...</td>\n",
       "      <td>Vagabond Instant de Bonheur - West Coast</td>\n",
       "      <td>🇨🇦</td>\n",
       "      <td>IPA</td>\n",
       "      <td>NaN</td>\n",
       "      <td>-</td>\n",
       "      <td>-</td>\n",
       "      <td>4.20</td>\n",
       "      <td>2</td>\n",
       "    </tr>\n",
       "    <tr>\n",
       "      <th>1155</th>\n",
       "      <td>Neptune's Dirty Bird APA\\n🇺🇸 Pale Ale - Americ...</td>\n",
       "      <td>Neptune's Dirty Bird APA</td>\n",
       "      <td>🇺🇸</td>\n",
       "      <td>Pale Ale - American / APA</td>\n",
       "      <td>0.0</td>\n",
       "      <td>-</td>\n",
       "      <td>-</td>\n",
       "      <td>3.10</td>\n",
       "      <td>6</td>\n",
       "    </tr>\n",
       "    <tr>\n",
       "      <th>1161</th>\n",
       "      <td>Oskar Blues Saloon Juice\\n🇺🇸 Amber Lager - Cze...</td>\n",
       "      <td>Oskar Blues Saloon Juice</td>\n",
       "      <td>🇺🇸</td>\n",
       "      <td>Amber Lager - Czech / Polotmavý</td>\n",
       "      <td>NaN</td>\n",
       "      <td>-</td>\n",
       "      <td>-</td>\n",
       "      <td>2.50</td>\n",
       "      <td>2</td>\n",
       "    </tr>\n",
       "    <tr>\n",
       "      <th>1190</th>\n",
       "      <td>Counterpart Flow\\n🇨🇦 Pale Ale\\n-\\n-\\n3.25\\n(6)</td>\n",
       "      <td>Counterpart Flow</td>\n",
       "      <td>🇨🇦</td>\n",
       "      <td>Pale Ale</td>\n",
       "      <td>NaN</td>\n",
       "      <td>-</td>\n",
       "      <td>-</td>\n",
       "      <td>3.25</td>\n",
       "      <td>6</td>\n",
       "    </tr>\n",
       "    <tr>\n",
       "      <th>1219</th>\n",
       "      <td>Rothaus Alkoholfrei Hefeweizen\\n🇩🇪 Low / No Al...</td>\n",
       "      <td>Rothaus Alkoholfrei Hefeweizen</td>\n",
       "      <td>🇩🇪</td>\n",
       "      <td>Low / No Alcohol Beer - Wheat</td>\n",
       "      <td>0.0</td>\n",
       "      <td>Available from £1.99</td>\n",
       "      <td>7</td>\n",
       "      <td>44</td>\n",
       "      <td>2.37</td>\n",
       "    </tr>\n",
       "    <tr>\n",
       "      <th>1260</th>\n",
       "      <td>Épitaphe Vøringfossen\\n🇨🇦 IPA\\n-\\n-\\n3.87\\n(7)</td>\n",
       "      <td>Épitaphe Vøringfossen</td>\n",
       "      <td>🇨🇦</td>\n",
       "      <td>IPA</td>\n",
       "      <td>NaN</td>\n",
       "      <td>-</td>\n",
       "      <td>-</td>\n",
       "      <td>3.87</td>\n",
       "      <td>7</td>\n",
       "    </tr>\n",
       "    <tr>\n",
       "      <th>1456</th>\n",
       "      <td>Monolith Russkij Kvas\\n🇩🇪 Kvass\\n-\\n-\\n1.30\\n(1)</td>\n",
       "      <td>Monolith Russkij Kvas</td>\n",
       "      <td>🇩🇪</td>\n",
       "      <td>Kvass</td>\n",
       "      <td>NaN</td>\n",
       "      <td>-</td>\n",
       "      <td>-</td>\n",
       "      <td>1.30</td>\n",
       "      <td>1</td>\n",
       "    </tr>\n",
       "  </tbody>\n",
       "</table>\n",
       "</div>"
      ],
      "text/plain": [
       "                                          return_string  \\\n",
       "35    Texas Ale Project Tap Wtr - Mixed Berry Seltze...   \n",
       "75    Belgh Brasse Morbach Kölsch\\n🇨🇦 Kölsch / Kolsc...   \n",
       "89    Warped Wing Alebrije Gose\\n🇺🇸 Gose\\n-\\n-\\n3.50...   \n",
       "114   Wooden Cask There Gose Cutie\\n🇺🇸 Gose - Flavor...   \n",
       "120   Rock House Flat Top Griddle\\n🇺🇸 Porter - Flavo...   \n",
       "391   Rock House Domo Affogato\\n🇺🇸 Porter - Flavored...   \n",
       "407   Roadhouse Pono Life\\n🇺🇸 ISA - Session IPA\\n-\\n...   \n",
       "482   Amstel 0.0\\n🇳🇱 Low / No Alcohol Beer - Pale0\\n...   \n",
       "508   AND UNION Tuesday\\n🇩🇪 Low / No Alcohol Beer - ...   \n",
       "555   Odd13 DDH Nelson Sauvin Codename: Superfan\\n🇺🇸...   \n",
       "561   Ex Novo Awesome Mix Vol 1\\n🇺🇸 Saison / Farmhou...   \n",
       "646   Colorado Boy Summer Ale\\n🇺🇸 Bitter - Premium /...   \n",
       "647   Colorado Boy Brown Ale\\n🇺🇸 Brown Ale\\n-\\n-\\n3....   \n",
       "650   Colorado Boy Red Rye\\n🇺🇸 Specialty Grain - Rye...   \n",
       "657   Ouray Truegrass Pale\\n🇺🇸 Pale Ale - American /...   \n",
       "720   Barebottle Ekuanot Powered Jetpack\\n🇺🇸 IPA - H...   \n",
       "770   De Garde Violet BuVeaux\\n🇺🇸 Sour / Wild Beer -...   \n",
       "875   Sir John Pour Some Chocolate on...\\n🇨🇦 Stout -...   \n",
       "979   Oud Beersel Lambic infused with Hibiscus Sabda...   \n",
       "1043  Dalton Moor Farm Kombucha\\n🇬🇧 Sour / Wild Beer...   \n",
       "1060  Kona Starfruit Orange IPA\\n🇺🇸 IPA - Flavored\\n...   \n",
       "1133  Vagabond Instant de Bonheur - West Coast\\n🇨🇦 I...   \n",
       "1155  Neptune's Dirty Bird APA\\n🇺🇸 Pale Ale - Americ...   \n",
       "1161  Oskar Blues Saloon Juice\\n🇺🇸 Amber Lager - Cze...   \n",
       "1190     Counterpart Flow\\n🇨🇦 Pale Ale\\n-\\n-\\n3.25\\n(6)   \n",
       "1219  Rothaus Alkoholfrei Hefeweizen\\n🇩🇪 Low / No Al...   \n",
       "1260     Épitaphe Vøringfossen\\n🇨🇦 IPA\\n-\\n-\\n3.87\\n(7)   \n",
       "1456   Monolith Russkij Kvas\\n🇩🇪 Kvass\\n-\\n-\\n1.30\\n(1)   \n",
       "\n",
       "                                             name_found flag  \\\n",
       "35      Texas Ale Project Tap Wtr - Mixed Berry Seltzer   🇺🇸   \n",
       "75                          Belgh Brasse Morbach Kölsch   🇨🇦   \n",
       "89                            Warped Wing Alebrije Gose   🇺🇸   \n",
       "114                        Wooden Cask There Gose Cutie   🇺🇸   \n",
       "120                         Rock House Flat Top Griddle   🇺🇸   \n",
       "391                            Rock House Domo Affogato   🇺🇸   \n",
       "407                                 Roadhouse Pono Life   🇺🇸   \n",
       "482                                          Amstel 0.0   🇳🇱   \n",
       "508                                   AND UNION Tuesday   🇩🇪   \n",
       "555          Odd13 DDH Nelson Sauvin Codename: Superfan   🇺🇸   \n",
       "561                           Ex Novo Awesome Mix Vol 1   🇺🇸   \n",
       "646                             Colorado Boy Summer Ale   🇺🇸   \n",
       "647                              Colorado Boy Brown Ale   🇺🇸   \n",
       "650                                Colorado Boy Red Rye   🇺🇸   \n",
       "657                                Ouray Truegrass Pale   🇺🇸   \n",
       "720                  Barebottle Ekuanot Powered Jetpack   🇺🇸   \n",
       "770                             De Garde Violet BuVeaux   🇺🇸   \n",
       "875                  Sir John Pour Some Chocolate on...   🇨🇦   \n",
       "979   Oud Beersel Lambic infused with Hibiscus Sabda...   🇧🇪   \n",
       "1043                          Dalton Moor Farm Kombucha   🇬🇧   \n",
       "1060                          Kona Starfruit Orange IPA   🇺🇸   \n",
       "1133           Vagabond Instant de Bonheur - West Coast   🇨🇦   \n",
       "1155                           Neptune's Dirty Bird APA   🇺🇸   \n",
       "1161                           Oskar Blues Saloon Juice   🇺🇸   \n",
       "1190                                   Counterpart Flow   🇨🇦   \n",
       "1219                     Rothaus Alkoholfrei Hefeweizen   🇩🇪   \n",
       "1260                              Épitaphe Vøringfossen   🇨🇦   \n",
       "1456                              Monolith Russkij Kvas   🇩🇪   \n",
       "\n",
       "                                     type  abv      rb_overall_score  \\\n",
       "35                       Flavored - Other  NaN                     -   \n",
       "75                  Kölsch / Kolsch-Style  NaN                     -   \n",
       "89                                   Gose  NaN                     -   \n",
       "114                       Gose - Flavored  NaN                     -   \n",
       "120                     Porter - Flavored  NaN                     -   \n",
       "391                     Porter - Flavored  NaN                     -   \n",
       "407                     ISA - Session IPA  NaN                     -   \n",
       "482          Low / No Alcohol Beer - Pale  0.0                     2   \n",
       "508         Low / No Alcohol Beer - Wheat  NaN                     -   \n",
       "555                    IPA - Hazy / NEIPA  NaN                     -   \n",
       "561         Saison / Farmhouse / Grisette  NaN                     -   \n",
       "646       Bitter - Premium / Strong / ESB  0.0                     -   \n",
       "647                             Brown Ale  NaN                     -   \n",
       "650    Specialty Grain - Rye / Roggenbier  NaN                     -   \n",
       "657             Pale Ale - American / APA  NaN                     -   \n",
       "720                    IPA - Hazy / NEIPA  NaN                     -   \n",
       "770           Sour / Wild Beer - Flavored  NaN                     -   \n",
       "875             Stout - Imperial Flavored  NaN                     -   \n",
       "979                      Lambic - Fruited  NaN                    79   \n",
       "1043                     Sour / Wild Beer  NaN                     -   \n",
       "1060                       IPA - Flavored  NaN                     -   \n",
       "1133                                  IPA  NaN                     -   \n",
       "1155            Pale Ale - American / APA  0.0                     -   \n",
       "1161      Amber Lager - Czech / Polotmavý  NaN                     -   \n",
       "1190                             Pale Ale  NaN                     -   \n",
       "1219        Low / No Alcohol Beer - Wheat  0.0  Available from £1.99   \n",
       "1260                                  IPA  NaN                     -   \n",
       "1456                                Kvass  NaN                     -   \n",
       "\n",
       "     rb_style_score rb_user_rating rb_rating_number  \n",
       "35                -           3.00                1  \n",
       "75                -           3.17                3  \n",
       "89                -           3.50                1  \n",
       "114               -           3.40                1  \n",
       "120               -           3.70                1  \n",
       "391               -           3.70                1  \n",
       "407               -           2.00                1  \n",
       "482              35           1.96               86  \n",
       "508               -           2.50                1  \n",
       "555               -           3.90                1  \n",
       "561               -           4.10                1  \n",
       "646               -           3.37                3  \n",
       "647               -           3.60                1  \n",
       "650               -           3.20                1  \n",
       "657               -           3.60                1  \n",
       "720               -           3.40                1  \n",
       "770               -           3.98                4  \n",
       "875               -           4.00                1  \n",
       "979              35           3.56               22  \n",
       "1043              -           3.30                1  \n",
       "1060              -           3.50                1  \n",
       "1133              -           4.20                2  \n",
       "1155              -           3.10                6  \n",
       "1161              -           2.50                2  \n",
       "1190              -           3.25                6  \n",
       "1219              7             44             2.37  \n",
       "1260              -           3.87                7  \n",
       "1456              -           1.30                1  "
      ]
     },
     "execution_count": 32,
     "metadata": {},
     "output_type": "execute_result"
    }
   ],
   "source": [
    "# sorting the no alcohol measure\n",
    "no_alcohol['name_found'] = no_alcohol.return_string.apply(lambda x: x.split('\\n')[0].strip())\n",
    "no_alcohol['flag'] = no_alcohol.return_string.apply(lambda x: x.split('\\n')[1].split('•')[0].split(\" \")[0])\n",
    "no_alcohol['type'] = no_alcohol.return_string.apply(lambda x: x.split('\\n')[1].split('•')[0][2:])\n",
    "no_alcohol['abv'] = no_alcohol.type.apply(lambda x: 0 if x[-1] == '0' else None)\n",
    "no_alcohol['type'] = no_alcohol.type.apply(lambda x: x[:-1] if x[-1] == '0' else x)\n",
    "no_alcohol['check'] = no_alcohol.return_string.apply(lambda x: len(x.split('\\n')))\n",
    "no_alcohol = no_alcohol[no_alcohol['check']>4].copy()\n",
    "no_alcohol['rb_overall_score'] = no_alcohol.return_string.apply(lambda x: x.split('\\n')[2])\n",
    "no_alcohol['rb_style_score'] = no_alcohol.return_string.apply(lambda x: x.split('\\n')[3])\n",
    "no_alcohol['rb_user_rating'] = no_alcohol.return_string.apply(lambda x: x.split('\\n')[4])\n",
    "no_alcohol['rb_rating_number'] = no_alcohol.return_string.apply(lambda x: x.split('\\n')[5].replace(\"(\",\"\").replace(\")\",\"\"))\n",
    "no_alcohol.drop('check',inplace=True, axis=1)\n",
    "\n",
    "no_alcohol"
   ]
  },
  {
   "cell_type": "code",
   "execution_count": 33,
   "metadata": {
    "ExecuteTime": {
     "end_time": "2020-07-06T14:35:09.709852Z",
     "start_time": "2020-07-06T14:35:09.628166Z"
    }
   },
   "outputs": [],
   "source": [
    "beer_df = pd.concat([beer_df,beer_deets,no_alcohol])"
   ]
  },
  {
   "cell_type": "code",
   "execution_count": 34,
   "metadata": {
    "ExecuteTime": {
     "end_time": "2020-07-06T14:35:10.729010Z",
     "start_time": "2020-07-06T14:35:10.711603Z"
    }
   },
   "outputs": [
    {
     "data": {
      "text/html": [
       "<div>\n",
       "<style scoped>\n",
       "    .dataframe tbody tr th:only-of-type {\n",
       "        vertical-align: middle;\n",
       "    }\n",
       "\n",
       "    .dataframe tbody tr th {\n",
       "        vertical-align: top;\n",
       "    }\n",
       "\n",
       "    .dataframe thead th {\n",
       "        text-align: right;\n",
       "    }\n",
       "</style>\n",
       "<table border=\"1\" class=\"dataframe\">\n",
       "  <thead>\n",
       "    <tr style=\"text-align: right;\">\n",
       "      <th></th>\n",
       "      <th>return_string</th>\n",
       "      <th>flag</th>\n",
       "      <th>type</th>\n",
       "      <th>abv</th>\n",
       "      <th>rb_overall_score</th>\n",
       "      <th>rb_style_score</th>\n",
       "      <th>rb_user_rating</th>\n",
       "      <th>rb_rating_number</th>\n",
       "      <th>name_found</th>\n",
       "    </tr>\n",
       "  </thead>\n",
       "  <tbody>\n",
       "    <tr>\n",
       "      <th>0</th>\n",
       "      <td>St. Peter's Ruby Red Ale\\n🇬🇧 Bitter - Ordinary...</td>\n",
       "      <td>🇬🇧</td>\n",
       "      <td>Bitter - Ordinary / Best</td>\n",
       "      <td>4.3</td>\n",
       "      <td>49</td>\n",
       "      <td>95</td>\n",
       "      <td>3.25</td>\n",
       "      <td>415</td>\n",
       "      <td>St. Peter's Ruby Red Ale</td>\n",
       "    </tr>\n",
       "    <tr>\n",
       "      <th>1</th>\n",
       "      <td>Shepherd Neame Spitfire (Bottle)\\n🇬🇧 Bitter - ...</td>\n",
       "      <td>🇬🇧</td>\n",
       "      <td>Bitter - Ordinary / Best</td>\n",
       "      <td>4.5</td>\n",
       "      <td>34</td>\n",
       "      <td>59</td>\n",
       "      <td>3.05</td>\n",
       "      <td>1083</td>\n",
       "      <td>Shepherd Neame Spitfire (Bottle)</td>\n",
       "    </tr>\n",
       "    <tr>\n",
       "      <th>2</th>\n",
       "      <td>Arbor Rocketman\\n🇬🇧 IPA • 6.0%\\n95\\n97\\n3.74\\n...</td>\n",
       "      <td>🇬🇧</td>\n",
       "      <td>IPA</td>\n",
       "      <td>6.0</td>\n",
       "      <td>95</td>\n",
       "      <td>97</td>\n",
       "      <td>3.74</td>\n",
       "      <td>59</td>\n",
       "      <td>Arbor Rocketman</td>\n",
       "    </tr>\n",
       "    <tr>\n",
       "      <th>3</th>\n",
       "      <td>Shepherd Neame India Pale Ale (Bottle)\\n🇬🇧 IPA...</td>\n",
       "      <td>🇬🇧</td>\n",
       "      <td>IPA - English</td>\n",
       "      <td>6.1</td>\n",
       "      <td>46</td>\n",
       "      <td>47</td>\n",
       "      <td>3.22</td>\n",
       "      <td>420</td>\n",
       "      <td>Shepherd Neame India Pale Ale (Bottle)</td>\n",
       "    </tr>\n",
       "    <tr>\n",
       "      <th>4</th>\n",
       "      <td>Shepherd Neame Christmas Ale\\n🇬🇧 Strong Ale - ...</td>\n",
       "      <td>🇬🇧</td>\n",
       "      <td>Strong Ale - English</td>\n",
       "      <td>7.0</td>\n",
       "      <td>45</td>\n",
       "      <td>46</td>\n",
       "      <td>3.18</td>\n",
       "      <td>409</td>\n",
       "      <td>Shepherd Neame Christmas Ale</td>\n",
       "    </tr>\n",
       "    <tr>\n",
       "      <th>...</th>\n",
       "      <td>...</td>\n",
       "      <td>...</td>\n",
       "      <td>...</td>\n",
       "      <td>...</td>\n",
       "      <td>...</td>\n",
       "      <td>...</td>\n",
       "      <td>...</td>\n",
       "      <td>...</td>\n",
       "      <td>...</td>\n",
       "    </tr>\n",
       "    <tr>\n",
       "      <th>1161</th>\n",
       "      <td>Oskar Blues Saloon Juice\\n🇺🇸 Amber Lager - Cze...</td>\n",
       "      <td>🇺🇸</td>\n",
       "      <td>Amber Lager - Czech / Polotmavý</td>\n",
       "      <td>NaN</td>\n",
       "      <td>-</td>\n",
       "      <td>-</td>\n",
       "      <td>2.50</td>\n",
       "      <td>2</td>\n",
       "      <td>Oskar Blues Saloon Juice</td>\n",
       "    </tr>\n",
       "    <tr>\n",
       "      <th>1190</th>\n",
       "      <td>Counterpart Flow\\n🇨🇦 Pale Ale\\n-\\n-\\n3.25\\n(6)</td>\n",
       "      <td>🇨🇦</td>\n",
       "      <td>Pale Ale</td>\n",
       "      <td>NaN</td>\n",
       "      <td>-</td>\n",
       "      <td>-</td>\n",
       "      <td>3.25</td>\n",
       "      <td>6</td>\n",
       "      <td>Counterpart Flow</td>\n",
       "    </tr>\n",
       "    <tr>\n",
       "      <th>1219</th>\n",
       "      <td>Rothaus Alkoholfrei Hefeweizen\\n🇩🇪 Low / No Al...</td>\n",
       "      <td>🇩🇪</td>\n",
       "      <td>Low / No Alcohol Beer - Wheat</td>\n",
       "      <td>0.0</td>\n",
       "      <td>Available from £1.99</td>\n",
       "      <td>7</td>\n",
       "      <td>44</td>\n",
       "      <td>2.37</td>\n",
       "      <td>Rothaus Alkoholfrei Hefeweizen</td>\n",
       "    </tr>\n",
       "    <tr>\n",
       "      <th>1260</th>\n",
       "      <td>Épitaphe Vøringfossen\\n🇨🇦 IPA\\n-\\n-\\n3.87\\n(7)</td>\n",
       "      <td>🇨🇦</td>\n",
       "      <td>IPA</td>\n",
       "      <td>NaN</td>\n",
       "      <td>-</td>\n",
       "      <td>-</td>\n",
       "      <td>3.87</td>\n",
       "      <td>7</td>\n",
       "      <td>Épitaphe Vøringfossen</td>\n",
       "    </tr>\n",
       "    <tr>\n",
       "      <th>1456</th>\n",
       "      <td>Monolith Russkij Kvas\\n🇩🇪 Kvass\\n-\\n-\\n1.30\\n(1)</td>\n",
       "      <td>🇩🇪</td>\n",
       "      <td>Kvass</td>\n",
       "      <td>NaN</td>\n",
       "      <td>-</td>\n",
       "      <td>-</td>\n",
       "      <td>1.30</td>\n",
       "      <td>1</td>\n",
       "      <td>Monolith Russkij Kvas</td>\n",
       "    </tr>\n",
       "  </tbody>\n",
       "</table>\n",
       "<p>24492 rows × 9 columns</p>\n",
       "</div>"
      ],
      "text/plain": [
       "                                          return_string flag  \\\n",
       "0     St. Peter's Ruby Red Ale\\n🇬🇧 Bitter - Ordinary...   🇬🇧   \n",
       "1     Shepherd Neame Spitfire (Bottle)\\n🇬🇧 Bitter - ...   🇬🇧   \n",
       "2     Arbor Rocketman\\n🇬🇧 IPA • 6.0%\\n95\\n97\\n3.74\\n...   🇬🇧   \n",
       "3     Shepherd Neame India Pale Ale (Bottle)\\n🇬🇧 IPA...   🇬🇧   \n",
       "4     Shepherd Neame Christmas Ale\\n🇬🇧 Strong Ale - ...   🇬🇧   \n",
       "...                                                 ...  ...   \n",
       "1161  Oskar Blues Saloon Juice\\n🇺🇸 Amber Lager - Cze...   🇺🇸   \n",
       "1190     Counterpart Flow\\n🇨🇦 Pale Ale\\n-\\n-\\n3.25\\n(6)   🇨🇦   \n",
       "1219  Rothaus Alkoholfrei Hefeweizen\\n🇩🇪 Low / No Al...   🇩🇪   \n",
       "1260     Épitaphe Vøringfossen\\n🇨🇦 IPA\\n-\\n-\\n3.87\\n(7)   🇨🇦   \n",
       "1456   Monolith Russkij Kvas\\n🇩🇪 Kvass\\n-\\n-\\n1.30\\n(1)   🇩🇪   \n",
       "\n",
       "                                  type  abv      rb_overall_score  \\\n",
       "0            Bitter - Ordinary / Best   4.3                    49   \n",
       "1            Bitter - Ordinary / Best   4.5                    34   \n",
       "2                                 IPA   6.0                    95   \n",
       "3                       IPA - English   6.1                    46   \n",
       "4                Strong Ale - English   7.0                    45   \n",
       "...                                ...  ...                   ...   \n",
       "1161   Amber Lager - Czech / Polotmavý  NaN                     -   \n",
       "1190                          Pale Ale  NaN                     -   \n",
       "1219     Low / No Alcohol Beer - Wheat  0.0  Available from £1.99   \n",
       "1260                               IPA  NaN                     -   \n",
       "1456                             Kvass  NaN                     -   \n",
       "\n",
       "     rb_style_score rb_user_rating rb_rating_number  \\\n",
       "0                95           3.25              415   \n",
       "1                59           3.05             1083   \n",
       "2                97           3.74               59   \n",
       "3                47           3.22              420   \n",
       "4                46           3.18              409   \n",
       "...             ...            ...              ...   \n",
       "1161              -           2.50                2   \n",
       "1190              -           3.25                6   \n",
       "1219              7             44             2.37   \n",
       "1260              -           3.87                7   \n",
       "1456              -           1.30                1   \n",
       "\n",
       "                                  name_found  \n",
       "0                   St. Peter's Ruby Red Ale  \n",
       "1           Shepherd Neame Spitfire (Bottle)  \n",
       "2                            Arbor Rocketman  \n",
       "3     Shepherd Neame India Pale Ale (Bottle)  \n",
       "4               Shepherd Neame Christmas Ale  \n",
       "...                                      ...  \n",
       "1161                Oskar Blues Saloon Juice  \n",
       "1190                        Counterpart Flow  \n",
       "1219          Rothaus Alkoholfrei Hefeweizen  \n",
       "1260                   Épitaphe Vøringfossen  \n",
       "1456                   Monolith Russkij Kvas  \n",
       "\n",
       "[24492 rows x 9 columns]"
      ]
     },
     "execution_count": 34,
     "metadata": {},
     "output_type": "execute_result"
    }
   ],
   "source": [
    "beer_df"
   ]
  },
  {
   "cell_type": "code",
   "execution_count": 35,
   "metadata": {
    "ExecuteTime": {
     "end_time": "2020-07-06T14:35:11.695292Z",
     "start_time": "2020-07-06T14:35:11.626625Z"
    }
   },
   "outputs": [
    {
     "name": "stdout",
     "output_type": "stream",
     "text": [
      "There are 67 new beers that were not found or returned errors. They will be added to the no search list.\n"
     ]
    }
   ],
   "source": [
    "# compare to the unique list to create a new to-be-scraped list\n",
    "not_found_beer = df.beer_name[~df.beer_name.isin(beer_df.name_found)].unique()\n",
    "print(\"There are\", len(not_found_beer)-len(not_found_df), \"new beers that were not found or returned errors. They will be added to the no search list.\")\n",
    "not_found_df = pd.concat([not_found_df,pd.DataFrame(not_found_beer,columns = [\"not_found\"])])\n",
    "not_found_df.drop_duplicates(inplace=True)"
   ]
  },
  {
   "cell_type": "code",
   "execution_count": 36,
   "metadata": {
    "ExecuteTime": {
     "end_time": "2020-07-06T14:35:12.765040Z",
     "start_time": "2020-07-06T14:35:12.593080Z"
    }
   },
   "outputs": [],
   "source": [
    "beer_df.to_csv('beer_deets.csv',index=False)\n",
    "not_found_df.to_csv(\"not_found.csv\", index=False)"
   ]
  },
  {
   "cell_type": "code",
   "execution_count": null,
   "metadata": {},
   "outputs": [],
   "source": []
  },
  {
   "cell_type": "code",
   "execution_count": null,
   "metadata": {},
   "outputs": [],
   "source": []
  },
  {
   "cell_type": "code",
   "execution_count": null,
   "metadata": {},
   "outputs": [],
   "source": []
  }
 ],
 "metadata": {
  "kernelspec": {
   "display_name": "Python 3",
   "language": "python",
   "name": "python3"
  },
  "language_info": {
   "codemirror_mode": {
    "name": "ipython",
    "version": 3
   },
   "file_extension": ".py",
   "mimetype": "text/x-python",
   "name": "python",
   "nbconvert_exporter": "python",
   "pygments_lexer": "ipython3",
   "version": "3.7.1"
  },
  "toc": {
   "base_numbering": 1,
   "nav_menu": {},
   "number_sections": true,
   "sideBar": true,
   "skip_h1_title": false,
   "title_cell": "Table of Contents",
   "title_sidebar": "Contents",
   "toc_cell": false,
   "toc_position": {},
   "toc_section_display": true,
   "toc_window_display": false
  },
  "varInspector": {
   "cols": {
    "lenName": 16,
    "lenType": 16,
    "lenVar": 40
   },
   "kernels_config": {
    "python": {
     "delete_cmd_postfix": "",
     "delete_cmd_prefix": "del ",
     "library": "var_list.py",
     "varRefreshCmd": "print(var_dic_list())"
    },
    "r": {
     "delete_cmd_postfix": ") ",
     "delete_cmd_prefix": "rm(",
     "library": "var_list.r",
     "varRefreshCmd": "cat(var_dic_list()) "
    }
   },
   "types_to_exclude": [
    "module",
    "function",
    "builtin_function_or_method",
    "instance",
    "_Feature"
   ],
   "window_display": false
  }
 },
 "nbformat": 4,
 "nbformat_minor": 4
}
