{
 "cells": [
  {
   "cell_type": "code",
   "execution_count": 121,
   "metadata": {
    "ExecuteTime": {
     "end_time": "2020-05-09T17:15:49.257779Z",
     "start_time": "2020-05-09T17:15:49.172549Z"
    }
   },
   "outputs": [],
   "source": [
    "import requests\n",
    "import bs4\n",
    "from bs4 import BeautifulSoup\n",
    "import pandas as pd\n",
    "import re\n",
    "from tqdm.notebook import tqdm\n",
    "import matplotlib.pyplot as plt\n",
    "import seaborn as sns"
   ]
  },
  {
   "cell_type": "markdown",
   "metadata": {},
   "source": [
    "## Code which scrapes the recently reviews (only 100 pages - 1,400 reviews)"
   ]
  },
  {
   "cell_type": "code",
   "execution_count": 122,
   "metadata": {
    "ExecuteTime": {
     "end_time": "2020-05-09T17:15:49.301489Z",
     "start_time": "2020-05-09T17:15:49.265796Z"
    }
   },
   "outputs": [],
   "source": [
    "\n",
    "def ratebeer_scraper(page_start=1, page_end=2, url_set=None):\n",
    "    \n",
    "    beer_name = []\n",
    "    beer_rating = []\n",
    "    brewery_name = []\n",
    "    brewery_location = []\n",
    "    review_content = []\n",
    "    reviewer_name = []\n",
    " \n",
    "    if url_set == None:\n",
    "        print(\"Need url to run\")\n",
    "        return\n",
    "\n",
    "    for x in tqdm(range(page_start, page_end + 1)):\n",
    "        try:\n",
    "            url_format = url_set.format(x)\n",
    "            r = requests.get(url_format)\n",
    "            soup = BeautifulSoup(r.text, 'html.parser')\n",
    "            table = soup.find('table', attrs={'class': 'table'})\n",
    "            table_rows = table.find_all('tr')\n",
    "\n",
    "            for rows in table_rows:\n",
    "\n",
    "            # Scrape Beer Name    \n",
    "                try:\n",
    "                    beer_name.append(rows.find('a', attrs={'style':'font-size:20px; font-weight:bold;'}).text)\n",
    "                except:\n",
    "                    beer_name.append(None)\n",
    "            # Scrape Review Rating  \n",
    "                try:\n",
    "                    beer_rating.append(rows.find('span', attrs={'class':'uas'}).text)\n",
    "                except:\n",
    "                    beer_rating.append(None)\n",
    "            # Scrape Brewery Name  \n",
    "                try:\n",
    "                    brewery_div = rows.find('div')\n",
    "                    brewery_name.append(brewery_div.a.text)\n",
    "                except:\n",
    "                    brewery_name.append(None)\n",
    "            # Scrape Brewery Location\n",
    "                try:\n",
    "                    brewery_location.append(rows.find('span', attrs={'class':'small'}).text.strip())\n",
    "                except:\n",
    "                    brewery_location.append(None)\n",
    "            # Scrape Reviewer Name\n",
    "                try:\n",
    "                    reviewer_name.append(rows.find('span', attrs={'class':'pull-right'}).text.strip())\n",
    "                except:\n",
    "                    reviewer_name.append(None)\n",
    "            # Scrape content\n",
    "                try:\n",
    "                    review_content.append(rows.find('div', attrs={'style':\"color:#666;\"}).text.strip())\n",
    "                except:\n",
    "                    review_content.append(None)\n",
    "        except:\n",
    "            pass\n",
    "\n",
    "    beerz = pd.DataFrame({'beer_name': beer_name,\n",
    "                         'beer_rating': beer_rating,\n",
    "                        'brewery_name': brewery_name,\n",
    "                         'brewery_location': brewery_location,\n",
    "                        'review_content': review_content,\n",
    "                        'reviewer_name': reviewer_name})\n",
    "    return beerz\n",
    "\n"
   ]
  },
  {
   "cell_type": "code",
   "execution_count": 123,
   "metadata": {
    "ExecuteTime": {
     "end_time": "2020-05-09T17:16:56.448859Z",
     "start_time": "2020-05-09T17:15:49.307286Z"
    }
   },
   "outputs": [
    {
     "data": {
      "application/vnd.jupyter.widget-view+json": {
       "model_id": "726a7b14d38941cd877a3563dbd6a6b9",
       "version_major": 2,
       "version_minor": 0
      },
      "text/plain": [
       "HBox(children=(FloatProgress(value=0.0, max=101.0), HTML(value='')))"
      ]
     },
     "metadata": {},
     "output_type": "display_data"
    },
    {
     "name": "stdout",
     "output_type": "stream",
     "text": [
      "\n"
     ]
    }
   ],
   "source": [
    "# Scraping most recent reviews\n",
    "url = 'https://www.ratebeer.com/beer-ratings/0/{}/'\n",
    "df_recent = ratebeer_scraper(0,10,url)\n",
    "\n",
    "# Scraping new beers\n",
    "url = 'https://www.ratebeer.com/beer-ratings/5/{}/'\n",
    "df_new = ratebeer_scraper(0,50,url)\n",
    "\n",
    "# Scraping fave beers\n",
    "url = 'https://www.ratebeer.com/beer-ratings/4/{}/'\n",
    "df_fave = ratebeer_scraper(0,50,url)\n",
    "\n",
    "# Scraping rave beers\n",
    "url = 'https://www.ratebeer.com/beer-ratings/1/{}/'\n",
    "df_rave = ratebeer_scraper(0,50,url)\n",
    "\n",
    "# Scraping rant beers\n",
    "url = 'https://www.ratebeer.com/beer-ratings/2/{}/'\n",
    "df_rant = ratebeer_scraper(0,50,url)\n",
    "\n",
    "# Scraping anomalous beers\n",
    "url = 'https://www.ratebeer.com/beer-ratings/3/{}/'\n",
    "df_anom = ratebeer_scraper(0,50,url)"
   ]
  },
  {
   "cell_type": "code",
   "execution_count": 124,
   "metadata": {
    "ExecuteTime": {
     "end_time": "2020-05-09T17:16:56.459348Z",
     "start_time": "2020-05-09T17:16:56.452452Z"
    }
   },
   "outputs": [],
   "source": [
    "# getting rid of non-ascii characters from the reviews as it breaks csv\n",
    "try:\n",
    "    df_rave.review_content = df_rave.review_content.apply(lambda x: x.encode('ascii', 'ignore').decode('ascii'))\n",
    "except:\n",
    "    pass"
   ]
  },
  {
   "cell_type": "code",
   "execution_count": 125,
   "metadata": {
    "ExecuteTime": {
     "end_time": "2020-05-09T17:16:56.571527Z",
     "start_time": "2020-05-09T17:16:56.461943Z"
    }
   },
   "outputs": [],
   "source": [
    "# read current data from csv (there is a backup at all_reviews_backup.csv)\n",
    "df = pd.read_csv('all_reviews.csv')"
   ]
  },
  {
   "cell_type": "code",
   "execution_count": 126,
   "metadata": {
    "ExecuteTime": {
     "end_time": "2020-05-09T17:16:56.663835Z",
     "start_time": "2020-05-09T17:16:56.574818Z"
    }
   },
   "outputs": [
    {
     "name": "stdout",
     "output_type": "stream",
     "text": [
      "16171\n",
      "14668\n"
     ]
    }
   ],
   "source": [
    "# concatenating all of the scrapes together with the old df\n",
    "try:\n",
    "    df = pd.concat([df, df_recent, df_new, df_fave, df_rave, df_rant, df_anom])\n",
    "except:\n",
    "    df = pd.concat([df, df_recent])\n",
    "print(len(df))\n",
    "df.drop_duplicates(inplace=True)\n",
    "print(len(df))\n",
    "df.beer_name = df.beer_name.apply(lambda x: x.strip())\n",
    "\n"
   ]
  },
  {
   "cell_type": "code",
   "execution_count": 127,
   "metadata": {
    "ExecuteTime": {
     "end_time": "2020-05-09T17:16:56.695522Z",
     "start_time": "2020-05-09T17:16:56.665794Z"
    }
   },
   "outputs": [
    {
     "data": {
      "text/html": [
       "<div>\n",
       "<style scoped>\n",
       "    .dataframe tbody tr th:only-of-type {\n",
       "        vertical-align: middle;\n",
       "    }\n",
       "\n",
       "    .dataframe tbody tr th {\n",
       "        vertical-align: top;\n",
       "    }\n",
       "\n",
       "    .dataframe thead th {\n",
       "        text-align: right;\n",
       "    }\n",
       "</style>\n",
       "<table border=\"1\" class=\"dataframe\">\n",
       "  <thead>\n",
       "    <tr style=\"text-align: right;\">\n",
       "      <th></th>\n",
       "      <th>beer_name</th>\n",
       "      <th>beer_rating</th>\n",
       "      <th>brewery_location</th>\n",
       "      <th>brewery_name</th>\n",
       "      <th>review_content</th>\n",
       "      <th>reviewer_name</th>\n",
       "    </tr>\n",
       "  </thead>\n",
       "  <tbody>\n",
       "    <tr>\n",
       "      <th>0</th>\n",
       "      <td>St. Peter's Ruby Red Ale</td>\n",
       "      <td>3.3</td>\n",
       "      <td>Bungay, Suffolk</td>\n",
       "      <td>St. Peter's Brewery</td>\n",
       "      <td>Ruby color, offwhite coam. Aroma and taste: fl...</td>\n",
       "      <td>alex_leit</td>\n",
       "    </tr>\n",
       "    <tr>\n",
       "      <th>1</th>\n",
       "      <td>Shepherd Neame Spitfire (Bottle)</td>\n",
       "      <td>2.2</td>\n",
       "      <td>Faversham, Kent</td>\n",
       "      <td>Shepherd Neame</td>\n",
       "      <td>Disappointing show from the lads at ‘Britain’s...</td>\n",
       "      <td>shivermetimber.gray</td>\n",
       "    </tr>\n",
       "    <tr>\n",
       "      <th>2</th>\n",
       "      <td>Arbor Rocketman</td>\n",
       "      <td>3.8</td>\n",
       "      <td>Bristol, Gloucestershire</td>\n",
       "      <td>Arbor Ales</td>\n",
       "      <td>Puszka. Mętne o żółtym kolorze. Piana biała,ob...</td>\n",
       "      <td>MarcinG</td>\n",
       "    </tr>\n",
       "    <tr>\n",
       "      <th>3</th>\n",
       "      <td>Shepherd Neame India Pale Ale (Bottle)</td>\n",
       "      <td>3.4</td>\n",
       "      <td>Faversham, Kent</td>\n",
       "      <td>Shepherd Neame</td>\n",
       "      <td>Bottle. Amber with bronze color and white foam...</td>\n",
       "      <td>alex_leit</td>\n",
       "    </tr>\n",
       "    <tr>\n",
       "      <th>4</th>\n",
       "      <td>Shepherd Neame Christmas Ale</td>\n",
       "      <td>3.3</td>\n",
       "      <td>Faversham, Kent</td>\n",
       "      <td>Shepherd Neame</td>\n",
       "      <td>Bottle. Aroma: English hops and malts with tof...</td>\n",
       "      <td>alex_leit</td>\n",
       "    </tr>\n",
       "    <tr>\n",
       "      <th>...</th>\n",
       "      <td>...</td>\n",
       "      <td>...</td>\n",
       "      <td>...</td>\n",
       "      <td>...</td>\n",
       "      <td>...</td>\n",
       "      <td>...</td>\n",
       "    </tr>\n",
       "    <tr>\n",
       "      <th>1510</th>\n",
       "      <td>Wild Weather Damn Dead Grapefruit</td>\n",
       "      <td>3.5</td>\n",
       "      <td>Aldermaston Stoke, Berkshire</td>\n",
       "      <td>Wild Weather Ales</td>\n",
       "      <td>Pale golden, cloudy with no head or lacing. Ar...</td>\n",
       "      <td>SampleLegion47</td>\n",
       "    </tr>\n",
       "    <tr>\n",
       "      <th>1511</th>\n",
       "      <td>Bas-Canada Petit Chicago</td>\n",
       "      <td>3.5</td>\n",
       "      <td>Gatineau, Quebec</td>\n",
       "      <td>Brasserie du Bas-Canada</td>\n",
       "      <td>Can, 950 ml, purchased at Broue Ha Ha on March...</td>\n",
       "      <td>GRM</td>\n",
       "    </tr>\n",
       "    <tr>\n",
       "      <th>1512</th>\n",
       "      <td>ShinDigger Session</td>\n",
       "      <td>3.0</td>\n",
       "      <td>Salford, Greater Manchester</td>\n",
       "      <td>ShinDigger Brewing</td>\n",
       "      <td>Pale golden, slightly hazy with short-lasting ...</td>\n",
       "      <td>SampleLegion47</td>\n",
       "    </tr>\n",
       "    <tr>\n",
       "      <th>1513</th>\n",
       "      <td>Gallicus Double Aura</td>\n",
       "      <td>3.9</td>\n",
       "      <td>Gatineau, Quebec</td>\n",
       "      <td>Brasserie Artisanale Gallicus</td>\n",
       "      <td>Can: Poured a cloudy/hazy yellow/beige color a...</td>\n",
       "      <td>Boutip</td>\n",
       "    </tr>\n",
       "    <tr>\n",
       "      <th>1514</th>\n",
       "      <td>Liebharts Residenz \"Scotch\" Bier</td>\n",
       "      <td>3.2</td>\n",
       "      <td>Detmold, North Rhine-Westphalia</td>\n",
       "      <td>Liebharts Privatbrauerei Detmold</td>\n",
       "      <td>Bottle 0844/1142. Peated nose. The beer starts...</td>\n",
       "      <td>Erzengel</td>\n",
       "    </tr>\n",
       "  </tbody>\n",
       "</table>\n",
       "<p>14668 rows × 6 columns</p>\n",
       "</div>"
      ],
      "text/plain": [
       "                                   beer_name beer_rating  \\\n",
       "0                   St. Peter's Ruby Red Ale         3.3   \n",
       "1           Shepherd Neame Spitfire (Bottle)         2.2   \n",
       "2                            Arbor Rocketman         3.8   \n",
       "3     Shepherd Neame India Pale Ale (Bottle)         3.4   \n",
       "4               Shepherd Neame Christmas Ale         3.3   \n",
       "...                                      ...         ...   \n",
       "1510       Wild Weather Damn Dead Grapefruit         3.5   \n",
       "1511                Bas-Canada Petit Chicago         3.5   \n",
       "1512                      ShinDigger Session         3.0   \n",
       "1513                    Gallicus Double Aura         3.9   \n",
       "1514        Liebharts Residenz \"Scotch\" Bier         3.2   \n",
       "\n",
       "                     brewery_location                      brewery_name  \\\n",
       "0                     Bungay, Suffolk               St. Peter's Brewery   \n",
       "1                     Faversham, Kent                    Shepherd Neame   \n",
       "2            Bristol, Gloucestershire                        Arbor Ales   \n",
       "3                     Faversham, Kent                    Shepherd Neame   \n",
       "4                     Faversham, Kent                    Shepherd Neame   \n",
       "...                               ...                               ...   \n",
       "1510     Aldermaston Stoke, Berkshire                 Wild Weather Ales   \n",
       "1511                 Gatineau, Quebec           Brasserie du Bas-Canada   \n",
       "1512      Salford, Greater Manchester                ShinDigger Brewing   \n",
       "1513                 Gatineau, Quebec     Brasserie Artisanale Gallicus   \n",
       "1514  Detmold, North Rhine-Westphalia  Liebharts Privatbrauerei Detmold   \n",
       "\n",
       "                                         review_content        reviewer_name  \n",
       "0     Ruby color, offwhite coam. Aroma and taste: fl...            alex_leit  \n",
       "1     Disappointing show from the lads at ‘Britain’s...  shivermetimber.gray  \n",
       "2     Puszka. Mętne o żółtym kolorze. Piana biała,ob...              MarcinG  \n",
       "3     Bottle. Amber with bronze color and white foam...            alex_leit  \n",
       "4     Bottle. Aroma: English hops and malts with tof...            alex_leit  \n",
       "...                                                 ...                  ...  \n",
       "1510  Pale golden, cloudy with no head or lacing. Ar...       SampleLegion47  \n",
       "1511  Can, 950 ml, purchased at Broue Ha Ha on March...                  GRM  \n",
       "1512  Pale golden, slightly hazy with short-lasting ...       SampleLegion47  \n",
       "1513  Can: Poured a cloudy/hazy yellow/beige color a...               Boutip  \n",
       "1514  Bottle 0844/1142. Peated nose. The beer starts...             Erzengel  \n",
       "\n",
       "[14668 rows x 6 columns]"
      ]
     },
     "execution_count": 127,
     "metadata": {},
     "output_type": "execute_result"
    }
   ],
   "source": [
    "df"
   ]
  },
  {
   "cell_type": "code",
   "execution_count": 128,
   "metadata": {
    "ExecuteTime": {
     "end_time": "2020-05-09T17:16:56.975102Z",
     "start_time": "2020-05-09T17:16:56.699647Z"
    }
   },
   "outputs": [],
   "source": [
    "df.to_csv('all_reviews.csv',index=False)\n",
    "# df = pd.read_csv('all_reviews.csv')\n",
    "not_found_df = pd.read_csv(\"not_found.csv\")"
   ]
  },
  {
   "cell_type": "markdown",
   "metadata": {},
   "source": [
    "## Get more information on all of the beers - Selenium"
   ]
  },
  {
   "cell_type": "code",
   "execution_count": 129,
   "metadata": {
    "ExecuteTime": {
     "end_time": "2020-05-09T17:16:56.982610Z",
     "start_time": "2020-05-09T17:16:56.979240Z"
    }
   },
   "outputs": [],
   "source": [
    "from selenium import webdriver\n",
    "import time"
   ]
  },
  {
   "cell_type": "code",
   "execution_count": 130,
   "metadata": {
    "ExecuteTime": {
     "end_time": "2020-05-09T17:16:57.029753Z",
     "start_time": "2020-05-09T17:16:56.986140Z"
    }
   },
   "outputs": [],
   "source": [
    "# extract already scraped data from previous scrapes so don't rescrape\n",
    "beer_df = pd.read_csv('beer_deets.csv')"
   ]
  },
  {
   "cell_type": "code",
   "execution_count": 131,
   "metadata": {
    "ExecuteTime": {
     "end_time": "2020-05-09T17:16:57.045516Z",
     "start_time": "2020-05-09T17:16:57.032791Z"
    }
   },
   "outputs": [
    {
     "name": "stdout",
     "output_type": "stream",
     "text": [
      "There are 769 new beers to search for!\n"
     ]
    }
   ],
   "source": [
    "# compare to the unique list to create a new to-be-scraped list\n",
    "new_beer = df.beer_name[(~df.beer_name.isin(beer_df.name_found))&(~df.beer_name.isin(not_found_df.not_found))].unique()\n",
    "print(\"There are\", len(new_beer), \"new beers to search for!\")"
   ]
  },
  {
   "cell_type": "code",
   "execution_count": 132,
   "metadata": {
    "ExecuteTime": {
     "end_time": "2020-05-09T17:54:33.140054Z",
     "start_time": "2020-05-09T17:16:57.047481Z"
    }
   },
   "outputs": [
    {
     "data": {
      "application/vnd.jupyter.widget-view+json": {
       "model_id": "a4448bfbf7d54b73ac99d2cbfd865bc0",
       "version_major": 2,
       "version_minor": 0
      },
      "text/plain": [
       "HBox(children=(FloatProgress(value=0.0, max=769.0), HTML(value='')))"
      ]
     },
     "metadata": {},
     "output_type": "display_data"
    },
    {
     "name": "stdout",
     "output_type": "stream",
     "text": [
      "\n"
     ]
    }
   ],
   "source": [
    "item_names = []\n",
    "desc_string = []\n",
    "\n",
    "driver = webdriver.Chrome(executable_path='/Users/lukebetham/Downloads/chromedriver')\n",
    "\n",
    "for beer in tqdm(new_beer):\n",
    "    driver.get(\"https://www.ratebeer.com/search?beername={}\".format(beer))\n",
    "    time.sleep(2)\n",
    "    item_tags = driver.find_elements_by_class_name('fg-1')\n",
    "\n",
    "    x=1\n",
    "    beer_temp = []\n",
    "    for item in item_tags:        \n",
    "        if x <2:\n",
    "            try:\n",
    "                item_names.append(item.find_element_by_class_name('fd-r').text)\n",
    "                x+=1\n",
    "            except:\n",
    "                pass\n",
    "            try:\n",
    "                beer_temp.append(item.text)\n",
    "            except:\n",
    "                pass\n",
    "    try:\n",
    "        desc_string.append(beer_temp[4])\n",
    "    except:\n",
    "        desc_string.append(None)\n",
    "\n",
    "driver.quit()"
   ]
  },
  {
   "cell_type": "code",
   "execution_count": 133,
   "metadata": {
    "ExecuteTime": {
     "end_time": "2020-05-09T17:54:33.174072Z",
     "start_time": "2020-05-09T17:54:33.144492Z"
    }
   },
   "outputs": [
    {
     "data": {
      "text/html": [
       "<div>\n",
       "<style scoped>\n",
       "    .dataframe tbody tr th:only-of-type {\n",
       "        vertical-align: middle;\n",
       "    }\n",
       "\n",
       "    .dataframe tbody tr th {\n",
       "        vertical-align: top;\n",
       "    }\n",
       "\n",
       "    .dataframe thead th {\n",
       "        text-align: right;\n",
       "    }\n",
       "</style>\n",
       "<table border=\"1\" class=\"dataframe\">\n",
       "  <thead>\n",
       "    <tr style=\"text-align: right;\">\n",
       "      <th></th>\n",
       "      <th>return_string</th>\n",
       "    </tr>\n",
       "  </thead>\n",
       "  <tbody>\n",
       "    <tr>\n",
       "      <th>0</th>\n",
       "      <td>Outer Range Two Pound Tent\\n🇺🇸 IIPA DIPA - Imp...</td>\n",
       "    </tr>\n",
       "    <tr>\n",
       "      <th>1</th>\n",
       "      <td>Caffrey's Premium Irish Ale\\n🇬🇧 Bitter - Ordin...</td>\n",
       "    </tr>\n",
       "    <tr>\n",
       "      <th>2</th>\n",
       "      <td>Union Bremer Kräusen\\n🇩🇪 Zwickelbier / Kellerb...</td>\n",
       "    </tr>\n",
       "    <tr>\n",
       "      <th>3</th>\n",
       "      <td>Other Half Double Sunset - Ethiopian Yirgz Cof...</td>\n",
       "    </tr>\n",
       "    <tr>\n",
       "      <th>4</th>\n",
       "      <td>Dorking Pilcrow Pale\\n🇬🇧 Blonde Ale / Golden A...</td>\n",
       "    </tr>\n",
       "    <tr>\n",
       "      <th>...</th>\n",
       "      <td>...</td>\n",
       "    </tr>\n",
       "    <tr>\n",
       "      <th>764</th>\n",
       "      <td>Fourpure Nightcap\\n🇬🇧 Stout - Imperial • 9.0%\\...</td>\n",
       "    </tr>\n",
       "    <tr>\n",
       "      <th>765</th>\n",
       "      <td>Früh Radler\\n🇩🇪 Radler / Shandy • 2.5%\\n5\\n65\\...</td>\n",
       "    </tr>\n",
       "    <tr>\n",
       "      <th>766</th>\n",
       "      <td>Vitamin Sea All Together\\n🇺🇸 IPA - Hazy / NEIP...</td>\n",
       "    </tr>\n",
       "    <tr>\n",
       "      <th>767</th>\n",
       "      <td>Vocation Bocktoberfest\\n🇬🇧 Bock - Doppelbock •...</td>\n",
       "    </tr>\n",
       "    <tr>\n",
       "      <th>768</th>\n",
       "      <td>St. Peter's Raven's Orchard\\n🇬🇧 Apple Cider • ...</td>\n",
       "    </tr>\n",
       "  </tbody>\n",
       "</table>\n",
       "<p>769 rows × 1 columns</p>\n",
       "</div>"
      ],
      "text/plain": [
       "                                         return_string\n",
       "0    Outer Range Two Pound Tent\\n🇺🇸 IIPA DIPA - Imp...\n",
       "1    Caffrey's Premium Irish Ale\\n🇬🇧 Bitter - Ordin...\n",
       "2    Union Bremer Kräusen\\n🇩🇪 Zwickelbier / Kellerb...\n",
       "3    Other Half Double Sunset - Ethiopian Yirgz Cof...\n",
       "4    Dorking Pilcrow Pale\\n🇬🇧 Blonde Ale / Golden A...\n",
       "..                                                 ...\n",
       "764  Fourpure Nightcap\\n🇬🇧 Stout - Imperial • 9.0%\\...\n",
       "765  Früh Radler\\n🇩🇪 Radler / Shandy • 2.5%\\n5\\n65\\...\n",
       "766  Vitamin Sea All Together\\n🇺🇸 IPA - Hazy / NEIP...\n",
       "767  Vocation Bocktoberfest\\n🇬🇧 Bock - Doppelbock •...\n",
       "768  St. Peter's Raven's Orchard\\n🇬🇧 Apple Cider • ...\n",
       "\n",
       "[769 rows x 1 columns]"
      ]
     },
     "execution_count": 133,
     "metadata": {},
     "output_type": "execute_result"
    }
   ],
   "source": [
    "beer_deets = pd.DataFrame(desc_string, columns = ['return_string'])\n",
    "beer_deets"
   ]
  },
  {
   "cell_type": "code",
   "execution_count": 134,
   "metadata": {
    "ExecuteTime": {
     "end_time": "2020-05-09T17:54:33.193630Z",
     "start_time": "2020-05-09T17:54:33.176479Z"
    }
   },
   "outputs": [],
   "source": [
    "## cleaning the scraped data\n",
    "beer_deets.dropna(inplace=True)\n",
    "beer_deets = beer_deets[~beer_deets.return_string.str.startswith('Logo\\n')].copy()\n",
    "no_alcohol = beer_deets[~beer_deets.return_string.str.contains('%')].copy()\n",
    "beer_deets = beer_deets[beer_deets.return_string.str.contains('%')].copy()\n"
   ]
  },
  {
   "cell_type": "code",
   "execution_count": 135,
   "metadata": {
    "ExecuteTime": {
     "end_time": "2020-05-09T17:54:33.218621Z",
     "start_time": "2020-05-09T17:54:33.196318Z"
    }
   },
   "outputs": [],
   "source": [
    "# sorting the scraped data into columns\n",
    "beer_deets['name_found'] = beer_deets.return_string.apply(lambda x: x.split('\\n')[0].strip())\n",
    "beer_deets['flag'] = beer_deets.return_string.apply(lambda x: x.split('\\n')[1].split('•')[0].split(\" \")[0])\n",
    "beer_deets['type'] = beer_deets.return_string.apply(lambda x: x.split('\\n')[1].split('•')[0][2:])\n",
    "beer_deets['abv'] = beer_deets.return_string.apply(lambda x: float(x.split('\\n')[1].split('•')[1].replace(\"%\",\"\")))\n",
    "beer_deets['rb_overall_score'] = beer_deets.return_string.apply(lambda x: x.split('\\n')[2])\n",
    "beer_deets['rb_style_score'] = beer_deets.return_string.apply(lambda x: x.split('\\n')[3])\n",
    "beer_deets['rb_user_rating'] = beer_deets.return_string.apply(lambda x: x.split('\\n')[4])\n",
    "beer_deets['rb_rating_number'] = beer_deets.return_string.apply(lambda x: x.split('\\n')[5].replace(\"(\",\"\").replace(\")\",\"\"))\n"
   ]
  },
  {
   "cell_type": "code",
   "execution_count": 136,
   "metadata": {
    "ExecuteTime": {
     "end_time": "2020-05-09T17:54:33.260717Z",
     "start_time": "2020-05-09T17:54:33.220513Z"
    }
   },
   "outputs": [
    {
     "data": {
      "text/html": [
       "<div>\n",
       "<style scoped>\n",
       "    .dataframe tbody tr th:only-of-type {\n",
       "        vertical-align: middle;\n",
       "    }\n",
       "\n",
       "    .dataframe tbody tr th {\n",
       "        vertical-align: top;\n",
       "    }\n",
       "\n",
       "    .dataframe thead th {\n",
       "        text-align: right;\n",
       "    }\n",
       "</style>\n",
       "<table border=\"1\" class=\"dataframe\">\n",
       "  <thead>\n",
       "    <tr style=\"text-align: right;\">\n",
       "      <th></th>\n",
       "      <th>return_string</th>\n",
       "      <th>name_found</th>\n",
       "      <th>flag</th>\n",
       "      <th>type</th>\n",
       "      <th>abv</th>\n",
       "      <th>rb_overall_score</th>\n",
       "      <th>rb_style_score</th>\n",
       "      <th>rb_user_rating</th>\n",
       "      <th>rb_rating_number</th>\n",
       "    </tr>\n",
       "  </thead>\n",
       "  <tbody>\n",
       "    <tr>\n",
       "      <th>9</th>\n",
       "      <td>Hairless Dog N.A. Black Ale\\n🇺🇸 Low / No Alcoh...</td>\n",
       "      <td>Hairless Dog N.A. Black Ale</td>\n",
       "      <td>🇺🇸</td>\n",
       "      <td>Low / No Alcohol Beer - Dark</td>\n",
       "      <td>NaN</td>\n",
       "      <td>-</td>\n",
       "      <td>-</td>\n",
       "      <td>2.00</td>\n",
       "      <td>1</td>\n",
       "    </tr>\n",
       "    <tr>\n",
       "      <th>57</th>\n",
       "      <td>Riedenburger Ur-Helles Alkoholfrei\\n🇩🇪 Low / N...</td>\n",
       "      <td>Riedenburger Ur-Helles Alkoholfrei</td>\n",
       "      <td>🇩🇪</td>\n",
       "      <td>Low / No Alcohol Beer - Pale</td>\n",
       "      <td>NaN</td>\n",
       "      <td>-</td>\n",
       "      <td>-</td>\n",
       "      <td>2.90</td>\n",
       "      <td>1</td>\n",
       "    </tr>\n",
       "    <tr>\n",
       "      <th>127</th>\n",
       "      <td>Singlecut This Ain't No Foolin' Around DDH IPA...</td>\n",
       "      <td>Singlecut This Ain't No Foolin' Around DDH IPA</td>\n",
       "      <td>🇺🇸</td>\n",
       "      <td>IPA - Flavored</td>\n",
       "      <td>NaN</td>\n",
       "      <td>-</td>\n",
       "      <td>-</td>\n",
       "      <td>3.50</td>\n",
       "      <td>1</td>\n",
       "    </tr>\n",
       "    <tr>\n",
       "      <th>208</th>\n",
       "      <td>Urban South Paradise Pork\\n🇺🇸 Pale Lager - Nor...</td>\n",
       "      <td>Urban South Paradise Pork</td>\n",
       "      <td>🇺🇸</td>\n",
       "      <td>Pale Lager - North Am. / Light / Rice</td>\n",
       "      <td>NaN</td>\n",
       "      <td>-</td>\n",
       "      <td>-</td>\n",
       "      <td>3.00</td>\n",
       "      <td>1</td>\n",
       "    </tr>\n",
       "    <tr>\n",
       "      <th>224</th>\n",
       "      <td>Club Beer (Liberia)\\n🇱🇷 Pale Lager - North Am....</td>\n",
       "      <td>Club Beer (Liberia)</td>\n",
       "      <td>🇱🇷</td>\n",
       "      <td>Pale Lager - North Am. / Light / Rice</td>\n",
       "      <td>0.0</td>\n",
       "      <td>2</td>\n",
       "      <td>33</td>\n",
       "      <td>1.78</td>\n",
       "      <td>34</td>\n",
       "    </tr>\n",
       "    <tr>\n",
       "      <th>271</th>\n",
       "      <td>Central Waters Brewer's Reserve Bourbon Barrel...</td>\n",
       "      <td>Central Waters Brewer's Reserve Bourbon Barrel...</td>\n",
       "      <td>🇺🇸</td>\n",
       "      <td>Scotch Ale / Wee Heavy</td>\n",
       "      <td>0.0</td>\n",
       "      <td>99</td>\n",
       "      <td>100</td>\n",
       "      <td>3.95</td>\n",
       "      <td>278</td>\n",
       "    </tr>\n",
       "    <tr>\n",
       "      <th>340</th>\n",
       "      <td>No Boats on Sunday Mixed Berry Cider\\n🇨🇦 Apple...</td>\n",
       "      <td>No Boats on Sunday Mixed Berry Cider</td>\n",
       "      <td>🇨🇦</td>\n",
       "      <td>Apple Cider - Flavored</td>\n",
       "      <td>NaN</td>\n",
       "      <td>-</td>\n",
       "      <td>-</td>\n",
       "      <td>3.10</td>\n",
       "      <td>1</td>\n",
       "    </tr>\n",
       "    <tr>\n",
       "      <th>360</th>\n",
       "      <td>Sawdust City / Block 3 Nouveau Monde Bière de ...</td>\n",
       "      <td>Sawdust City / Block 3 Nouveau Monde Bière de ...</td>\n",
       "      <td>🇨🇦</td>\n",
       "      <td>Saison / Farmhouse / Grisette</td>\n",
       "      <td>0.0</td>\n",
       "      <td>-</td>\n",
       "      <td>-</td>\n",
       "      <td>3.84</td>\n",
       "      <td>5</td>\n",
       "    </tr>\n",
       "    <tr>\n",
       "      <th>432</th>\n",
       "      <td>Wilde Rose Kellerbier\\n🇩🇪 Zwickelbier / Keller...</td>\n",
       "      <td>Wilde Rose Kellerbier</td>\n",
       "      <td>🇩🇪</td>\n",
       "      <td>Zwickelbier / Kellerbier / Landbier</td>\n",
       "      <td>0.0</td>\n",
       "      <td>76</td>\n",
       "      <td>97</td>\n",
       "      <td>3.44</td>\n",
       "      <td>54</td>\n",
       "    </tr>\n",
       "    <tr>\n",
       "      <th>518</th>\n",
       "      <td>New Glarus Thumbprint Series Nectar Ale\\n🇺🇸 La...</td>\n",
       "      <td>New Glarus Thumbprint Series Nectar Ale</td>\n",
       "      <td>🇺🇸</td>\n",
       "      <td>Lambic - Fruited</td>\n",
       "      <td>NaN</td>\n",
       "      <td>-</td>\n",
       "      <td>-</td>\n",
       "      <td>3.78</td>\n",
       "      <td>4</td>\n",
       "    </tr>\n",
       "    <tr>\n",
       "      <th>538</th>\n",
       "      <td>Cycle Thursday - 2020\\n🇺🇸 Stout - Imperial Fla...</td>\n",
       "      <td>Cycle Thursday - 2020</td>\n",
       "      <td>🇺🇸</td>\n",
       "      <td>Stout - Imperial Flavored</td>\n",
       "      <td>NaN</td>\n",
       "      <td>-</td>\n",
       "      <td>-</td>\n",
       "      <td>4.30</td>\n",
       "      <td>1</td>\n",
       "    </tr>\n",
       "    <tr>\n",
       "      <th>655</th>\n",
       "      <td>Freigeist / Stillwater / Weingut Völker Scheur...</td>\n",
       "      <td>Freigeist / Stillwater / Weingut Völker Scheur...</td>\n",
       "      <td>🇩🇪</td>\n",
       "      <td>Sour / Wild Beer</td>\n",
       "      <td>NaN</td>\n",
       "      <td>-</td>\n",
       "      <td>-</td>\n",
       "      <td>3.42</td>\n",
       "      <td>4</td>\n",
       "    </tr>\n",
       "    <tr>\n",
       "      <th>732</th>\n",
       "      <td>Camerons 12 Mile India Pale Lager\\n🇨🇦 Pale Lag...</td>\n",
       "      <td>Camerons 12 Mile India Pale Lager</td>\n",
       "      <td>🇨🇦</td>\n",
       "      <td>Pale Lager - India / Hoppy</td>\n",
       "      <td>0.0</td>\n",
       "      <td>68</td>\n",
       "      <td>60</td>\n",
       "      <td>3.35</td>\n",
       "      <td>41</td>\n",
       "    </tr>\n",
       "  </tbody>\n",
       "</table>\n",
       "</div>"
      ],
      "text/plain": [
       "                                         return_string  \\\n",
       "9    Hairless Dog N.A. Black Ale\\n🇺🇸 Low / No Alcoh...   \n",
       "57   Riedenburger Ur-Helles Alkoholfrei\\n🇩🇪 Low / N...   \n",
       "127  Singlecut This Ain't No Foolin' Around DDH IPA...   \n",
       "208  Urban South Paradise Pork\\n🇺🇸 Pale Lager - Nor...   \n",
       "224  Club Beer (Liberia)\\n🇱🇷 Pale Lager - North Am....   \n",
       "271  Central Waters Brewer's Reserve Bourbon Barrel...   \n",
       "340  No Boats on Sunday Mixed Berry Cider\\n🇨🇦 Apple...   \n",
       "360  Sawdust City / Block 3 Nouveau Monde Bière de ...   \n",
       "432  Wilde Rose Kellerbier\\n🇩🇪 Zwickelbier / Keller...   \n",
       "518  New Glarus Thumbprint Series Nectar Ale\\n🇺🇸 La...   \n",
       "538  Cycle Thursday - 2020\\n🇺🇸 Stout - Imperial Fla...   \n",
       "655  Freigeist / Stillwater / Weingut Völker Scheur...   \n",
       "732  Camerons 12 Mile India Pale Lager\\n🇨🇦 Pale Lag...   \n",
       "\n",
       "                                            name_found flag  \\\n",
       "9                          Hairless Dog N.A. Black Ale   🇺🇸   \n",
       "57                  Riedenburger Ur-Helles Alkoholfrei   🇩🇪   \n",
       "127     Singlecut This Ain't No Foolin' Around DDH IPA   🇺🇸   \n",
       "208                          Urban South Paradise Pork   🇺🇸   \n",
       "224                                Club Beer (Liberia)   🇱🇷   \n",
       "271  Central Waters Brewer's Reserve Bourbon Barrel...   🇺🇸   \n",
       "340               No Boats on Sunday Mixed Berry Cider   🇨🇦   \n",
       "360  Sawdust City / Block 3 Nouveau Monde Bière de ...   🇨🇦   \n",
       "432                              Wilde Rose Kellerbier   🇩🇪   \n",
       "518            New Glarus Thumbprint Series Nectar Ale   🇺🇸   \n",
       "538                              Cycle Thursday - 2020   🇺🇸   \n",
       "655  Freigeist / Stillwater / Weingut Völker Scheur...   🇩🇪   \n",
       "732                  Camerons 12 Mile India Pale Lager   🇨🇦   \n",
       "\n",
       "                                       type  abv rb_overall_score  \\\n",
       "9              Low / No Alcohol Beer - Dark  NaN                -   \n",
       "57             Low / No Alcohol Beer - Pale  NaN                -   \n",
       "127                          IPA - Flavored  NaN                -   \n",
       "208   Pale Lager - North Am. / Light / Rice  NaN                -   \n",
       "224   Pale Lager - North Am. / Light / Rice  0.0                2   \n",
       "271                  Scotch Ale / Wee Heavy  0.0               99   \n",
       "340                  Apple Cider - Flavored  NaN                -   \n",
       "360           Saison / Farmhouse / Grisette  0.0                -   \n",
       "432     Zwickelbier / Kellerbier / Landbier  0.0               76   \n",
       "518                        Lambic - Fruited  NaN                -   \n",
       "538               Stout - Imperial Flavored  NaN                -   \n",
       "655                        Sour / Wild Beer  NaN                -   \n",
       "732              Pale Lager - India / Hoppy  0.0               68   \n",
       "\n",
       "    rb_style_score rb_user_rating rb_rating_number  \n",
       "9                -           2.00                1  \n",
       "57               -           2.90                1  \n",
       "127              -           3.50                1  \n",
       "208              -           3.00                1  \n",
       "224             33           1.78               34  \n",
       "271            100           3.95              278  \n",
       "340              -           3.10                1  \n",
       "360              -           3.84                5  \n",
       "432             97           3.44               54  \n",
       "518              -           3.78                4  \n",
       "538              -           4.30                1  \n",
       "655              -           3.42                4  \n",
       "732             60           3.35               41  "
      ]
     },
     "execution_count": 136,
     "metadata": {},
     "output_type": "execute_result"
    }
   ],
   "source": [
    "# sorting the no alcohol measure\n",
    "no_alcohol['name_found'] = no_alcohol.return_string.apply(lambda x: x.split('\\n')[0].strip())\n",
    "no_alcohol['flag'] = no_alcohol.return_string.apply(lambda x: x.split('\\n')[1].split('•')[0].split(\" \")[0])\n",
    "no_alcohol['type'] = no_alcohol.return_string.apply(lambda x: x.split('\\n')[1].split('•')[0][2:])\n",
    "no_alcohol['abv'] = no_alcohol.type.apply(lambda x: 0 if x[-1] == '0' else None)\n",
    "no_alcohol['type'] = no_alcohol.type.apply(lambda x: x[:-1] if x[-1] == '0' else x)\n",
    "no_alcohol['check'] = no_alcohol.return_string.apply(lambda x: len(x.split('\\n')))\n",
    "no_alcohol = no_alcohol[no_alcohol['check']>4].copy()\n",
    "no_alcohol['rb_overall_score'] = no_alcohol.return_string.apply(lambda x: x.split('\\n')[2])\n",
    "no_alcohol['rb_style_score'] = no_alcohol.return_string.apply(lambda x: x.split('\\n')[3])\n",
    "no_alcohol['rb_user_rating'] = no_alcohol.return_string.apply(lambda x: x.split('\\n')[4])\n",
    "no_alcohol['rb_rating_number'] = no_alcohol.return_string.apply(lambda x: x.split('\\n')[5].replace(\"(\",\"\").replace(\")\",\"\"))\n",
    "no_alcohol.drop('check',inplace=True, axis=1)\n",
    "\n",
    "no_alcohol"
   ]
  },
  {
   "cell_type": "code",
   "execution_count": 137,
   "metadata": {
    "ExecuteTime": {
     "end_time": "2020-05-09T17:54:33.289446Z",
     "start_time": "2020-05-09T17:54:33.262876Z"
    }
   },
   "outputs": [],
   "source": [
    "beer_df = pd.concat([beer_df,beer_deets,no_alcohol])"
   ]
  },
  {
   "cell_type": "code",
   "execution_count": 138,
   "metadata": {
    "ExecuteTime": {
     "end_time": "2020-05-09T17:54:33.314843Z",
     "start_time": "2020-05-09T17:54:33.291231Z"
    }
   },
   "outputs": [
    {
     "data": {
      "text/html": [
       "<div>\n",
       "<style scoped>\n",
       "    .dataframe tbody tr th:only-of-type {\n",
       "        vertical-align: middle;\n",
       "    }\n",
       "\n",
       "    .dataframe tbody tr th {\n",
       "        vertical-align: top;\n",
       "    }\n",
       "\n",
       "    .dataframe thead th {\n",
       "        text-align: right;\n",
       "    }\n",
       "</style>\n",
       "<table border=\"1\" class=\"dataframe\">\n",
       "  <thead>\n",
       "    <tr style=\"text-align: right;\">\n",
       "      <th></th>\n",
       "      <th>return_string</th>\n",
       "      <th>flag</th>\n",
       "      <th>type</th>\n",
       "      <th>abv</th>\n",
       "      <th>rb_overall_score</th>\n",
       "      <th>rb_style_score</th>\n",
       "      <th>rb_user_rating</th>\n",
       "      <th>rb_rating_number</th>\n",
       "      <th>name_found</th>\n",
       "    </tr>\n",
       "  </thead>\n",
       "  <tbody>\n",
       "    <tr>\n",
       "      <th>0</th>\n",
       "      <td>St. Peter's Ruby Red Ale\\n🇬🇧 Bitter - Ordinary...</td>\n",
       "      <td>🇬🇧</td>\n",
       "      <td>Bitter - Ordinary / Best</td>\n",
       "      <td>4.3</td>\n",
       "      <td>49</td>\n",
       "      <td>95</td>\n",
       "      <td>3.25</td>\n",
       "      <td>415</td>\n",
       "      <td>St. Peter's Ruby Red Ale</td>\n",
       "    </tr>\n",
       "    <tr>\n",
       "      <th>1</th>\n",
       "      <td>Shepherd Neame Spitfire (Bottle)\\n🇬🇧 Bitter - ...</td>\n",
       "      <td>🇬🇧</td>\n",
       "      <td>Bitter - Ordinary / Best</td>\n",
       "      <td>4.5</td>\n",
       "      <td>34</td>\n",
       "      <td>59</td>\n",
       "      <td>3.05</td>\n",
       "      <td>1083</td>\n",
       "      <td>Shepherd Neame Spitfire (Bottle)</td>\n",
       "    </tr>\n",
       "    <tr>\n",
       "      <th>2</th>\n",
       "      <td>Arbor Rocketman\\n🇬🇧 IPA • 6.0%\\n95\\n97\\n3.74\\n...</td>\n",
       "      <td>🇬🇧</td>\n",
       "      <td>IPA</td>\n",
       "      <td>6.0</td>\n",
       "      <td>95</td>\n",
       "      <td>97</td>\n",
       "      <td>3.74</td>\n",
       "      <td>59</td>\n",
       "      <td>Arbor Rocketman</td>\n",
       "    </tr>\n",
       "    <tr>\n",
       "      <th>3</th>\n",
       "      <td>Shepherd Neame India Pale Ale (Bottle)\\n🇬🇧 IPA...</td>\n",
       "      <td>🇬🇧</td>\n",
       "      <td>IPA - English</td>\n",
       "      <td>6.1</td>\n",
       "      <td>46</td>\n",
       "      <td>47</td>\n",
       "      <td>3.22</td>\n",
       "      <td>420</td>\n",
       "      <td>Shepherd Neame India Pale Ale (Bottle)</td>\n",
       "    </tr>\n",
       "    <tr>\n",
       "      <th>4</th>\n",
       "      <td>Shepherd Neame Christmas Ale\\n🇬🇧 Strong Ale - ...</td>\n",
       "      <td>🇬🇧</td>\n",
       "      <td>Strong Ale - English</td>\n",
       "      <td>7.0</td>\n",
       "      <td>45</td>\n",
       "      <td>46</td>\n",
       "      <td>3.18</td>\n",
       "      <td>409</td>\n",
       "      <td>Shepherd Neame Christmas Ale</td>\n",
       "    </tr>\n",
       "    <tr>\n",
       "      <th>...</th>\n",
       "      <td>...</td>\n",
       "      <td>...</td>\n",
       "      <td>...</td>\n",
       "      <td>...</td>\n",
       "      <td>...</td>\n",
       "      <td>...</td>\n",
       "      <td>...</td>\n",
       "      <td>...</td>\n",
       "      <td>...</td>\n",
       "    </tr>\n",
       "    <tr>\n",
       "      <th>432</th>\n",
       "      <td>Wilde Rose Kellerbier\\n🇩🇪 Zwickelbier / Keller...</td>\n",
       "      <td>🇩🇪</td>\n",
       "      <td>Zwickelbier / Kellerbier / Landbier</td>\n",
       "      <td>0.0</td>\n",
       "      <td>76</td>\n",
       "      <td>97</td>\n",
       "      <td>3.44</td>\n",
       "      <td>54</td>\n",
       "      <td>Wilde Rose Kellerbier</td>\n",
       "    </tr>\n",
       "    <tr>\n",
       "      <th>518</th>\n",
       "      <td>New Glarus Thumbprint Series Nectar Ale\\n🇺🇸 La...</td>\n",
       "      <td>🇺🇸</td>\n",
       "      <td>Lambic - Fruited</td>\n",
       "      <td>NaN</td>\n",
       "      <td>-</td>\n",
       "      <td>-</td>\n",
       "      <td>3.78</td>\n",
       "      <td>4</td>\n",
       "      <td>New Glarus Thumbprint Series Nectar Ale</td>\n",
       "    </tr>\n",
       "    <tr>\n",
       "      <th>538</th>\n",
       "      <td>Cycle Thursday - 2020\\n🇺🇸 Stout - Imperial Fla...</td>\n",
       "      <td>🇺🇸</td>\n",
       "      <td>Stout - Imperial Flavored</td>\n",
       "      <td>NaN</td>\n",
       "      <td>-</td>\n",
       "      <td>-</td>\n",
       "      <td>4.30</td>\n",
       "      <td>1</td>\n",
       "      <td>Cycle Thursday - 2020</td>\n",
       "    </tr>\n",
       "    <tr>\n",
       "      <th>655</th>\n",
       "      <td>Freigeist / Stillwater / Weingut Völker Scheur...</td>\n",
       "      <td>🇩🇪</td>\n",
       "      <td>Sour / Wild Beer</td>\n",
       "      <td>NaN</td>\n",
       "      <td>-</td>\n",
       "      <td>-</td>\n",
       "      <td>3.42</td>\n",
       "      <td>4</td>\n",
       "      <td>Freigeist / Stillwater / Weingut Völker Scheur...</td>\n",
       "    </tr>\n",
       "    <tr>\n",
       "      <th>732</th>\n",
       "      <td>Camerons 12 Mile India Pale Lager\\n🇨🇦 Pale Lag...</td>\n",
       "      <td>🇨🇦</td>\n",
       "      <td>Pale Lager - India / Hoppy</td>\n",
       "      <td>0.0</td>\n",
       "      <td>68</td>\n",
       "      <td>60</td>\n",
       "      <td>3.35</td>\n",
       "      <td>41</td>\n",
       "      <td>Camerons 12 Mile India Pale Lager</td>\n",
       "    </tr>\n",
       "  </tbody>\n",
       "</table>\n",
       "<p>9757 rows × 9 columns</p>\n",
       "</div>"
      ],
      "text/plain": [
       "                                         return_string flag  \\\n",
       "0    St. Peter's Ruby Red Ale\\n🇬🇧 Bitter - Ordinary...   🇬🇧   \n",
       "1    Shepherd Neame Spitfire (Bottle)\\n🇬🇧 Bitter - ...   🇬🇧   \n",
       "2    Arbor Rocketman\\n🇬🇧 IPA • 6.0%\\n95\\n97\\n3.74\\n...   🇬🇧   \n",
       "3    Shepherd Neame India Pale Ale (Bottle)\\n🇬🇧 IPA...   🇬🇧   \n",
       "4    Shepherd Neame Christmas Ale\\n🇬🇧 Strong Ale - ...   🇬🇧   \n",
       "..                                                 ...  ...   \n",
       "432  Wilde Rose Kellerbier\\n🇩🇪 Zwickelbier / Keller...   🇩🇪   \n",
       "518  New Glarus Thumbprint Series Nectar Ale\\n🇺🇸 La...   🇺🇸   \n",
       "538  Cycle Thursday - 2020\\n🇺🇸 Stout - Imperial Fla...   🇺🇸   \n",
       "655  Freigeist / Stillwater / Weingut Völker Scheur...   🇩🇪   \n",
       "732  Camerons 12 Mile India Pale Lager\\n🇨🇦 Pale Lag...   🇨🇦   \n",
       "\n",
       "                                     type  abv rb_overall_score  \\\n",
       "0               Bitter - Ordinary / Best   4.3               49   \n",
       "1               Bitter - Ordinary / Best   4.5               34   \n",
       "2                                    IPA   6.0               95   \n",
       "3                          IPA - English   6.1               46   \n",
       "4                   Strong Ale - English   7.0               45   \n",
       "..                                    ...  ...              ...   \n",
       "432   Zwickelbier / Kellerbier / Landbier  0.0               76   \n",
       "518                      Lambic - Fruited  NaN                -   \n",
       "538             Stout - Imperial Flavored  NaN                -   \n",
       "655                      Sour / Wild Beer  NaN                -   \n",
       "732            Pale Lager - India / Hoppy  0.0               68   \n",
       "\n",
       "    rb_style_score rb_user_rating rb_rating_number  \\\n",
       "0               95           3.25              415   \n",
       "1               59           3.05             1083   \n",
       "2               97           3.74               59   \n",
       "3               47           3.22              420   \n",
       "4               46           3.18              409   \n",
       "..             ...            ...              ...   \n",
       "432             97           3.44               54   \n",
       "518              -           3.78                4   \n",
       "538              -           4.30                1   \n",
       "655              -           3.42                4   \n",
       "732             60           3.35               41   \n",
       "\n",
       "                                            name_found  \n",
       "0                             St. Peter's Ruby Red Ale  \n",
       "1                     Shepherd Neame Spitfire (Bottle)  \n",
       "2                                      Arbor Rocketman  \n",
       "3               Shepherd Neame India Pale Ale (Bottle)  \n",
       "4                         Shepherd Neame Christmas Ale  \n",
       "..                                                 ...  \n",
       "432                              Wilde Rose Kellerbier  \n",
       "518            New Glarus Thumbprint Series Nectar Ale  \n",
       "538                              Cycle Thursday - 2020  \n",
       "655  Freigeist / Stillwater / Weingut Völker Scheur...  \n",
       "732                  Camerons 12 Mile India Pale Lager  \n",
       "\n",
       "[9757 rows x 9 columns]"
      ]
     },
     "execution_count": 138,
     "metadata": {},
     "output_type": "execute_result"
    }
   ],
   "source": [
    "beer_df"
   ]
  },
  {
   "cell_type": "code",
   "execution_count": 139,
   "metadata": {
    "ExecuteTime": {
     "end_time": "2020-05-09T17:54:33.334603Z",
     "start_time": "2020-05-09T17:54:33.316960Z"
    }
   },
   "outputs": [
    {
     "name": "stdout",
     "output_type": "stream",
     "text": [
      "There are 47 new beers that were not found or returned errors. They will be added to the no search list.\n"
     ]
    }
   ],
   "source": [
    "# compare to the unique list to create a new to-be-scraped list\n",
    "not_found_beer = df.beer_name[~df.beer_name.isin(beer_df.name_found)].unique()\n",
    "print(\"There are\", len(not_found_beer)-len(not_found_df), \"new beers that were not found or returned errors. They will be added to the no search list.\")\n",
    "not_found_df = pd.concat([not_found_df,pd.DataFrame(not_found_beer,columns = [\"not_found\"])])\n",
    "not_found_df.drop_duplicates(inplace=True)"
   ]
  },
  {
   "cell_type": "code",
   "execution_count": 140,
   "metadata": {
    "ExecuteTime": {
     "end_time": "2020-05-09T17:54:33.420345Z",
     "start_time": "2020-05-09T17:54:33.336423Z"
    }
   },
   "outputs": [],
   "source": [
    "beer_df.to_csv('beer_deets.csv',index=False)\n",
    "not_found_df.to_csv(\"not_found.csv\", index=False)"
   ]
  },
  {
   "cell_type": "code",
   "execution_count": null,
   "metadata": {
    "ExecuteTime": {
     "end_time": "2020-05-05T14:04:40.065563Z",
     "start_time": "2020-05-05T14:04:40.053981Z"
    }
   },
   "outputs": [],
   "source": []
  },
  {
   "cell_type": "code",
   "execution_count": null,
   "metadata": {},
   "outputs": [],
   "source": []
  }
 ],
 "metadata": {
  "kernelspec": {
   "display_name": "Python 3",
   "language": "python",
   "name": "python3"
  },
  "language_info": {
   "codemirror_mode": {
    "name": "ipython",
    "version": 3
   },
   "file_extension": ".py",
   "mimetype": "text/x-python",
   "name": "python",
   "nbconvert_exporter": "python",
   "pygments_lexer": "ipython3",
   "version": "3.7.1"
  },
  "toc": {
   "base_numbering": 1,
   "nav_menu": {},
   "number_sections": true,
   "sideBar": true,
   "skip_h1_title": false,
   "title_cell": "Table of Contents",
   "title_sidebar": "Contents",
   "toc_cell": false,
   "toc_position": {},
   "toc_section_display": true,
   "toc_window_display": false
  },
  "varInspector": {
   "cols": {
    "lenName": 16,
    "lenType": 16,
    "lenVar": 40
   },
   "kernels_config": {
    "python": {
     "delete_cmd_postfix": "",
     "delete_cmd_prefix": "del ",
     "library": "var_list.py",
     "varRefreshCmd": "print(var_dic_list())"
    },
    "r": {
     "delete_cmd_postfix": ") ",
     "delete_cmd_prefix": "rm(",
     "library": "var_list.r",
     "varRefreshCmd": "cat(var_dic_list()) "
    }
   },
   "types_to_exclude": [
    "module",
    "function",
    "builtin_function_or_method",
    "instance",
    "_Feature"
   ],
   "window_display": false
  }
 },
 "nbformat": 4,
 "nbformat_minor": 4
}
