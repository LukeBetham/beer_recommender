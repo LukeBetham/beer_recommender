{
 "cells": [
  {
   "cell_type": "code",
   "execution_count": 37,
   "metadata": {
    "ExecuteTime": {
     "end_time": "2020-07-08T08:42:42.420929Z",
     "start_time": "2020-07-08T08:42:42.361756Z"
    }
   },
   "outputs": [],
   "source": [
    "import requests\n",
    "import bs4\n",
    "from bs4 import BeautifulSoup\n",
    "import pandas as pd\n",
    "import re\n",
    "from tqdm.notebook import tqdm\n",
    "import matplotlib.pyplot as plt\n",
    "import seaborn as sns"
   ]
  },
  {
   "cell_type": "markdown",
   "metadata": {},
   "source": [
    "## Code which scrapes the recently reviews (only 100 pages - 1,400 reviews)"
   ]
  },
  {
   "cell_type": "code",
   "execution_count": 38,
   "metadata": {
    "ExecuteTime": {
     "end_time": "2020-07-08T08:42:42.496390Z",
     "start_time": "2020-07-08T08:42:42.425680Z"
    }
   },
   "outputs": [],
   "source": [
    "\n",
    "def ratebeer_scraper(page_start=1, page_end=2, url_set=None):\n",
    "    \n",
    "    beer_name = []\n",
    "    beer_rating = []\n",
    "    brewery_name = []\n",
    "    brewery_location = []\n",
    "    review_content = []\n",
    "    reviewer_name = []\n",
    " \n",
    "    if url_set == None:\n",
    "        print(\"Need url to run\")\n",
    "        return\n",
    "\n",
    "    for x in tqdm(range(page_start, page_end + 1)):\n",
    "        try:\n",
    "            url_format = url_set.format(x)\n",
    "            r = requests.get(url_format)\n",
    "            soup = BeautifulSoup(r.text, 'html.parser')\n",
    "            table = soup.find('table', attrs={'class': 'table'})\n",
    "            table_rows = table.find_all('tr')\n",
    "\n",
    "            for rows in table_rows:\n",
    "\n",
    "            # Scrape Beer Name    \n",
    "                try:\n",
    "                    beer_name.append(rows.find('a', attrs={'style':'font-size:20px; font-weight:bold;'}).text)\n",
    "                except:\n",
    "                    beer_name.append(None)\n",
    "            # Scrape Review Rating  \n",
    "                try:\n",
    "                    beer_rating.append(rows.find('span', attrs={'class':'uas'}).text)\n",
    "                except:\n",
    "                    beer_rating.append(None)\n",
    "            # Scrape Brewery Name  \n",
    "                try:\n",
    "                    brewery_div = rows.find('div')\n",
    "                    brewery_name.append(brewery_div.a.text)\n",
    "                except:\n",
    "                    brewery_name.append(None)\n",
    "            # Scrape Brewery Location\n",
    "                try:\n",
    "                    brewery_location.append(rows.find('span', attrs={'class':'small'}).text.strip())\n",
    "                except:\n",
    "                    brewery_location.append(None)\n",
    "            # Scrape Reviewer Name\n",
    "                try:\n",
    "                    reviewer_name.append(rows.find('span', attrs={'class':'pull-right'}).text.strip())\n",
    "                except:\n",
    "                    reviewer_name.append(None)\n",
    "            # Scrape content\n",
    "                try:\n",
    "                    review_content.append(rows.find('div', attrs={'style':\"color:#666;\"}).text.strip())\n",
    "                except:\n",
    "                    review_content.append(None)\n",
    "        except:\n",
    "            pass\n",
    "\n",
    "    beerz = pd.DataFrame({'beer_name': beer_name,\n",
    "                         'beer_rating': beer_rating,\n",
    "                        'brewery_name': brewery_name,\n",
    "                         'brewery_location': brewery_location,\n",
    "                        'review_content': review_content,\n",
    "                        'reviewer_name': reviewer_name})\n",
    "    return beerz\n",
    "\n"
   ]
  },
  {
   "cell_type": "code",
   "execution_count": 39,
   "metadata": {
    "ExecuteTime": {
     "end_time": "2020-07-08T08:47:38.319085Z",
     "start_time": "2020-07-08T08:42:42.503138Z"
    }
   },
   "outputs": [
    {
     "data": {
      "application/vnd.jupyter.widget-view+json": {
       "model_id": "41f3a3b6c51747818f55251c05c844fc",
       "version_major": 2,
       "version_minor": 0
      },
      "text/plain": [
       "HBox(children=(FloatProgress(value=0.0, max=101.0), HTML(value='')))"
      ]
     },
     "metadata": {},
     "output_type": "display_data"
    },
    {
     "name": "stdout",
     "output_type": "stream",
     "text": [
      "\n"
     ]
    },
    {
     "data": {
      "application/vnd.jupyter.widget-view+json": {
       "model_id": "8a9090276c6b4859ba6e8052e3bf1c2a",
       "version_major": 2,
       "version_minor": 0
      },
      "text/plain": [
       "HBox(children=(FloatProgress(value=0.0, max=11.0), HTML(value='')))"
      ]
     },
     "metadata": {},
     "output_type": "display_data"
    },
    {
     "name": "stdout",
     "output_type": "stream",
     "text": [
      "\n"
     ]
    },
    {
     "data": {
      "application/vnd.jupyter.widget-view+json": {
       "model_id": "4042356887ae4b65b050032711fa8de3",
       "version_major": 2,
       "version_minor": 0
      },
      "text/plain": [
       "HBox(children=(FloatProgress(value=0.0, max=51.0), HTML(value='')))"
      ]
     },
     "metadata": {},
     "output_type": "display_data"
    },
    {
     "name": "stdout",
     "output_type": "stream",
     "text": [
      "\n"
     ]
    },
    {
     "data": {
      "application/vnd.jupyter.widget-view+json": {
       "model_id": "23503720fa0743a3978d87173228f396",
       "version_major": 2,
       "version_minor": 0
      },
      "text/plain": [
       "HBox(children=(FloatProgress(value=0.0, max=51.0), HTML(value='')))"
      ]
     },
     "metadata": {},
     "output_type": "display_data"
    },
    {
     "name": "stdout",
     "output_type": "stream",
     "text": [
      "\n"
     ]
    },
    {
     "data": {
      "application/vnd.jupyter.widget-view+json": {
       "model_id": "324b7c044faa4b7699c1c389db567eae",
       "version_major": 2,
       "version_minor": 0
      },
      "text/plain": [
       "HBox(children=(FloatProgress(value=0.0, max=51.0), HTML(value='')))"
      ]
     },
     "metadata": {},
     "output_type": "display_data"
    },
    {
     "name": "stdout",
     "output_type": "stream",
     "text": [
      "\n"
     ]
    },
    {
     "data": {
      "application/vnd.jupyter.widget-view+json": {
       "model_id": "173ee9f7b632465abb5e2d0b158687ea",
       "version_major": 2,
       "version_minor": 0
      },
      "text/plain": [
       "HBox(children=(FloatProgress(value=0.0, max=51.0), HTML(value='')))"
      ]
     },
     "metadata": {},
     "output_type": "display_data"
    },
    {
     "name": "stdout",
     "output_type": "stream",
     "text": [
      "\n"
     ]
    }
   ],
   "source": [
    "# Scraping most recent reviews\n",
    "url = 'https://www.ratebeer.com/beer-ratings/0/{}/'\n",
    "df_recent = ratebeer_scraper(0,100,url)\n",
    "\n",
    "# Scraping new beers\n",
    "url = 'https://www.ratebeer.com/beer-ratings/5/{}/'\n",
    "df_new = ratebeer_scraper(0,10,url)\n",
    "\n",
    "# Scraping fave beers\n",
    "url = 'https://www.ratebeer.com/beer-ratings/4/{}/'\n",
    "df_fave = ratebeer_scraper(0,50,url)\n",
    "\n",
    "# Scraping rave beers\n",
    "url = 'https://www.ratebeer.com/beer-ratings/1/{}/'\n",
    "df_rave = ratebeer_scraper(0,50,url)\n",
    "\n",
    "# Scraping rant beers\n",
    "url = 'https://www.ratebeer.com/beer-ratings/2/{}/'\n",
    "df_rant = ratebeer_scraper(0,50,url)\n",
    "\n",
    "# Scraping anomalous beers\n",
    "url = 'https://www.ratebeer.com/beer-ratings/3/{}/'\n",
    "df_anom = ratebeer_scraper(0,50,url)"
   ]
  },
  {
   "cell_type": "code",
   "execution_count": 40,
   "metadata": {
    "ExecuteTime": {
     "end_time": "2020-07-08T08:47:38.400982Z",
     "start_time": "2020-07-08T08:47:38.325046Z"
    }
   },
   "outputs": [],
   "source": [
    "# getting rid of non-ascii characters from the reviews as it breaks csv\n",
    "\n",
    "df_recent.review_content = df_recent.review_content.apply(lambda x: x.encode('ascii', 'ignore').decode('ascii'))\n",
    "df_new.review_content = df_new.review_content.apply(lambda x: x.encode('ascii', 'ignore').decode('ascii'))\n",
    "df_rave.review_content = df_rave.review_content.apply(lambda x: x.encode('ascii', 'ignore').decode('ascii'))\n",
    "df_fave.review_content = df_fave.review_content.apply(lambda x: x.encode('ascii', 'ignore').decode('ascii'))\n",
    "df_rant.review_content = df_rant.review_content.apply(lambda x: x.encode('ascii', 'ignore').decode('ascii'))\n",
    "df_anom.review_content = df_anom.review_content.apply(lambda x: x.encode('ascii', 'ignore').decode('ascii'))\n"
   ]
  },
  {
   "cell_type": "code",
   "execution_count": 41,
   "metadata": {
    "ExecuteTime": {
     "end_time": "2020-07-08T08:47:38.723188Z",
     "start_time": "2020-07-08T08:47:38.403784Z"
    }
   },
   "outputs": [],
   "source": [
    "# read current data from csv (there is a backup at all_reviews_backup.csv)\n",
    "df = pd.read_csv('all_reviews.csv')"
   ]
  },
  {
   "cell_type": "code",
   "execution_count": 42,
   "metadata": {
    "ExecuteTime": {
     "end_time": "2020-07-08T08:47:38.972129Z",
     "start_time": "2020-07-08T08:47:38.729160Z"
    }
   },
   "outputs": [
    {
     "name": "stdout",
     "output_type": "stream",
     "text": [
      "51271\n",
      "48174\n"
     ]
    }
   ],
   "source": [
    "# concatenating all of the scrapes together with the old df\n",
    "try:\n",
    "    df = pd.concat([df, df_recent, df_new, df_fave, df_rave, df_rant, df_anom])\n",
    "except:\n",
    "    df = pd.concat([df, df_recent])\n",
    "print(len(df))\n",
    "df.drop_duplicates(inplace=True)\n",
    "print(len(df))\n",
    "df.beer_name = df.beer_name.apply(lambda x: x.strip())\n",
    "\n"
   ]
  },
  {
   "cell_type": "code",
   "execution_count": 43,
   "metadata": {
    "ExecuteTime": {
     "end_time": "2020-07-08T08:47:39.000715Z",
     "start_time": "2020-07-08T08:47:38.976451Z"
    }
   },
   "outputs": [
    {
     "data": {
      "text/html": [
       "<div>\n",
       "<style scoped>\n",
       "    .dataframe tbody tr th:only-of-type {\n",
       "        vertical-align: middle;\n",
       "    }\n",
       "\n",
       "    .dataframe tbody tr th {\n",
       "        vertical-align: top;\n",
       "    }\n",
       "\n",
       "    .dataframe thead th {\n",
       "        text-align: right;\n",
       "    }\n",
       "</style>\n",
       "<table border=\"1\" class=\"dataframe\">\n",
       "  <thead>\n",
       "    <tr style=\"text-align: right;\">\n",
       "      <th></th>\n",
       "      <th>beer_name</th>\n",
       "      <th>beer_rating</th>\n",
       "      <th>brewery_location</th>\n",
       "      <th>brewery_name</th>\n",
       "      <th>review_content</th>\n",
       "      <th>reviewer_name</th>\n",
       "    </tr>\n",
       "  </thead>\n",
       "  <tbody>\n",
       "    <tr>\n",
       "      <th>0</th>\n",
       "      <td>St. Peter's Ruby Red Ale</td>\n",
       "      <td>3.3</td>\n",
       "      <td>Bungay, Suffolk</td>\n",
       "      <td>St. Peter's Brewery</td>\n",
       "      <td>Ruby color, offwhite coam. Aroma and taste: fl...</td>\n",
       "      <td>alex_leit</td>\n",
       "    </tr>\n",
       "    <tr>\n",
       "      <th>1</th>\n",
       "      <td>Shepherd Neame Spitfire (Bottle)</td>\n",
       "      <td>2.2</td>\n",
       "      <td>Faversham, Kent</td>\n",
       "      <td>Shepherd Neame</td>\n",
       "      <td>Disappointing show from the lads at ‘Britain’s...</td>\n",
       "      <td>shivermetimber.gray</td>\n",
       "    </tr>\n",
       "    <tr>\n",
       "      <th>2</th>\n",
       "      <td>Arbor Rocketman</td>\n",
       "      <td>3.8</td>\n",
       "      <td>Bristol, Gloucestershire</td>\n",
       "      <td>Arbor Ales</td>\n",
       "      <td>Puszka. Mętne o żółtym kolorze. Piana biała,ob...</td>\n",
       "      <td>MarcinG</td>\n",
       "    </tr>\n",
       "    <tr>\n",
       "      <th>3</th>\n",
       "      <td>Shepherd Neame India Pale Ale (Bottle)</td>\n",
       "      <td>3.4</td>\n",
       "      <td>Faversham, Kent</td>\n",
       "      <td>Shepherd Neame</td>\n",
       "      <td>Bottle. Amber with bronze color and white foam...</td>\n",
       "      <td>alex_leit</td>\n",
       "    </tr>\n",
       "    <tr>\n",
       "      <th>4</th>\n",
       "      <td>Shepherd Neame Christmas Ale</td>\n",
       "      <td>3.3</td>\n",
       "      <td>Faversham, Kent</td>\n",
       "      <td>Shepherd Neame</td>\n",
       "      <td>Bottle. Aroma: English hops and malts with tof...</td>\n",
       "      <td>alex_leit</td>\n",
       "    </tr>\n",
       "    <tr>\n",
       "      <th>...</th>\n",
       "      <td>...</td>\n",
       "      <td>...</td>\n",
       "      <td>...</td>\n",
       "      <td>...</td>\n",
       "      <td>...</td>\n",
       "      <td>...</td>\n",
       "    </tr>\n",
       "    <tr>\n",
       "      <th>760</th>\n",
       "      <td>Oettinger Pils</td>\n",
       "      <td>0.5</td>\n",
       "      <td>-1.9</td>\n",
       "      <td>Oettinger Bier Gruppe</td>\n",
       "      <td>pours pale straw color thin white head ,aroma ...</td>\n",
       "      <td>rat</td>\n",
       "    </tr>\n",
       "    <tr>\n",
       "      <th>761</th>\n",
       "      <td>Goddards Ducks Folly</td>\n",
       "      <td>5.0</td>\n",
       "      <td>+1.9</td>\n",
       "      <td>Goddards Brewery</td>\n",
       "      <td>Superb strong ale on draught at The Golden Bow...</td>\n",
       "      <td>TrappistScout61</td>\n",
       "    </tr>\n",
       "    <tr>\n",
       "      <th>762</th>\n",
       "      <td>Narragansett Lager Beer</td>\n",
       "      <td>5.0</td>\n",
       "      <td>+2.5</td>\n",
       "      <td>Narragansett Brewing Company</td>\n",
       "      <td>Smooth and refreshing on a hot summer day afte...</td>\n",
       "      <td>cah</td>\n",
       "    </tr>\n",
       "    <tr>\n",
       "      <th>763</th>\n",
       "      <td>Evil Twin Even More Coco Jesus</td>\n",
       "      <td>2.3</td>\n",
       "      <td>-1.6</td>\n",
       "      <td>Evil Twin Brewing</td>\n",
       "      <td>Can, early 2018. Soapy coconut, lots of molass...</td>\n",
       "      <td>ElDesmadre</td>\n",
       "    </tr>\n",
       "    <tr>\n",
       "      <th>764</th>\n",
       "      <td>Lösch-Zwerg Würzig</td>\n",
       "      <td>0.5</td>\n",
       "      <td>-2.2</td>\n",
       "      <td>Privatbrauerei Schimpfle</td>\n",
       "      <td>Genuinely couldn't finish this. Horribly astri...</td>\n",
       "      <td>LocalMuse25</td>\n",
       "    </tr>\n",
       "  </tbody>\n",
       "</table>\n",
       "<p>48174 rows × 6 columns</p>\n",
       "</div>"
      ],
      "text/plain": [
       "                                  beer_name beer_rating  \\\n",
       "0                  St. Peter's Ruby Red Ale         3.3   \n",
       "1          Shepherd Neame Spitfire (Bottle)         2.2   \n",
       "2                           Arbor Rocketman         3.8   \n",
       "3    Shepherd Neame India Pale Ale (Bottle)         3.4   \n",
       "4              Shepherd Neame Christmas Ale         3.3   \n",
       "..                                      ...         ...   \n",
       "760                          Oettinger Pils         0.5   \n",
       "761                    Goddards Ducks Folly         5.0   \n",
       "762                 Narragansett Lager Beer         5.0   \n",
       "763          Evil Twin Even More Coco Jesus         2.3   \n",
       "764                      Lösch-Zwerg Würzig         0.5   \n",
       "\n",
       "             brewery_location                  brewery_name  \\\n",
       "0             Bungay, Suffolk           St. Peter's Brewery   \n",
       "1             Faversham, Kent                Shepherd Neame   \n",
       "2    Bristol, Gloucestershire                    Arbor Ales   \n",
       "3             Faversham, Kent                Shepherd Neame   \n",
       "4             Faversham, Kent                Shepherd Neame   \n",
       "..                        ...                           ...   \n",
       "760                      -1.9         Oettinger Bier Gruppe   \n",
       "761                      +1.9              Goddards Brewery   \n",
       "762                      +2.5  Narragansett Brewing Company   \n",
       "763                      -1.6             Evil Twin Brewing   \n",
       "764                      -2.2      Privatbrauerei Schimpfle   \n",
       "\n",
       "                                        review_content        reviewer_name  \n",
       "0    Ruby color, offwhite coam. Aroma and taste: fl...            alex_leit  \n",
       "1    Disappointing show from the lads at ‘Britain’s...  shivermetimber.gray  \n",
       "2    Puszka. Mętne o żółtym kolorze. Piana biała,ob...              MarcinG  \n",
       "3    Bottle. Amber with bronze color and white foam...            alex_leit  \n",
       "4    Bottle. Aroma: English hops and malts with tof...            alex_leit  \n",
       "..                                                 ...                  ...  \n",
       "760  pours pale straw color thin white head ,aroma ...                  rat  \n",
       "761  Superb strong ale on draught at The Golden Bow...      TrappistScout61  \n",
       "762  Smooth and refreshing on a hot summer day afte...                  cah  \n",
       "763  Can, early 2018. Soapy coconut, lots of molass...           ElDesmadre  \n",
       "764  Genuinely couldn't finish this. Horribly astri...          LocalMuse25  \n",
       "\n",
       "[48174 rows x 6 columns]"
      ]
     },
     "execution_count": 43,
     "metadata": {},
     "output_type": "execute_result"
    }
   ],
   "source": [
    "df"
   ]
  },
  {
   "cell_type": "code",
   "execution_count": 44,
   "metadata": {
    "ExecuteTime": {
     "end_time": "2020-07-08T08:47:39.619785Z",
     "start_time": "2020-07-08T08:47:39.004743Z"
    }
   },
   "outputs": [],
   "source": [
    "df.to_csv('all_reviews.csv',index=False)\n",
    "# df = pd.read_csv('all_reviews.csv')\n",
    "not_found_df = pd.read_csv(\"not_found.csv\")"
   ]
  },
  {
   "cell_type": "markdown",
   "metadata": {},
   "source": [
    "## Get more information on all of the beers - Selenium"
   ]
  },
  {
   "cell_type": "code",
   "execution_count": 45,
   "metadata": {
    "ExecuteTime": {
     "end_time": "2020-07-08T08:47:39.654033Z",
     "start_time": "2020-07-08T08:47:39.651424Z"
    }
   },
   "outputs": [],
   "source": [
    "from selenium import webdriver\n",
    "import time"
   ]
  },
  {
   "cell_type": "code",
   "execution_count": 46,
   "metadata": {
    "ExecuteTime": {
     "end_time": "2020-07-08T08:47:39.779497Z",
     "start_time": "2020-07-08T08:47:39.674160Z"
    }
   },
   "outputs": [],
   "source": [
    "# extract already scraped data from previous scrapes so don't rescrape\n",
    "beer_df = pd.read_csv('beer_deets.csv')"
   ]
  },
  {
   "cell_type": "code",
   "execution_count": 47,
   "metadata": {
    "ExecuteTime": {
     "end_time": "2020-07-08T08:47:39.808658Z",
     "start_time": "2020-07-08T08:47:39.781838Z"
    }
   },
   "outputs": [
    {
     "name": "stdout",
     "output_type": "stream",
     "text": [
      "There are 478 new beers to search for!\n"
     ]
    }
   ],
   "source": [
    "# compare to the unique list to create a new to-be-scraped list\n",
    "new_beer = df.beer_name[(~df.beer_name.isin(beer_df.name_found))&(~df.beer_name.isin(not_found_df.not_found))].unique()\n",
    "print(\"There are\", len(new_beer), \"new beers to search for!\")"
   ]
  },
  {
   "cell_type": "code",
   "execution_count": 48,
   "metadata": {
    "ExecuteTime": {
     "end_time": "2020-07-08T09:11:21.636565Z",
     "start_time": "2020-07-08T08:47:39.810689Z"
    }
   },
   "outputs": [
    {
     "data": {
      "application/vnd.jupyter.widget-view+json": {
       "model_id": "162a460c6bec4628ab382021e22da38c",
       "version_major": 2,
       "version_minor": 0
      },
      "text/plain": [
       "HBox(children=(FloatProgress(value=0.0, max=478.0), HTML(value='')))"
      ]
     },
     "metadata": {},
     "output_type": "display_data"
    },
    {
     "name": "stdout",
     "output_type": "stream",
     "text": [
      "\n"
     ]
    }
   ],
   "source": [
    "item_names = []\n",
    "desc_string = []\n",
    "\n",
    "driver = webdriver.Chrome(executable_path='/Users/lukebetham/Downloads/chromedriver')\n",
    "\n",
    "for beer in tqdm(new_beer):\n",
    "    driver.get(\"https://www.ratebeer.com/search?beername={}\".format(beer))\n",
    "    time.sleep(2)\n",
    "    item_tags = driver.find_elements_by_class_name('fg-1')\n",
    "\n",
    "    x=1\n",
    "    beer_temp = []\n",
    "    for item in item_tags:        \n",
    "        if x <2:\n",
    "            try:\n",
    "                item_names.append(item.find_element_by_class_name('fd-r').text)\n",
    "                x+=1\n",
    "            except:\n",
    "                pass\n",
    "            try:\n",
    "                beer_temp.append(item.text)\n",
    "            except:\n",
    "                pass\n",
    "    try:\n",
    "        desc_string.append(beer_temp[4])\n",
    "    except:\n",
    "        desc_string.append(None)\n",
    "\n",
    "driver.quit()"
   ]
  },
  {
   "cell_type": "code",
   "execution_count": 49,
   "metadata": {
    "ExecuteTime": {
     "end_time": "2020-07-08T09:11:21.773129Z",
     "start_time": "2020-07-08T09:11:21.648750Z"
    }
   },
   "outputs": [
    {
     "data": {
      "text/html": [
       "<div>\n",
       "<style scoped>\n",
       "    .dataframe tbody tr th:only-of-type {\n",
       "        vertical-align: middle;\n",
       "    }\n",
       "\n",
       "    .dataframe tbody tr th {\n",
       "        vertical-align: top;\n",
       "    }\n",
       "\n",
       "    .dataframe thead th {\n",
       "        text-align: right;\n",
       "    }\n",
       "</style>\n",
       "<table border=\"1\" class=\"dataframe\">\n",
       "  <thead>\n",
       "    <tr style=\"text-align: right;\">\n",
       "      <th></th>\n",
       "      <th>return_string</th>\n",
       "    </tr>\n",
       "  </thead>\n",
       "  <tbody>\n",
       "    <tr>\n",
       "      <th>0</th>\n",
       "      <td>Sapporo Yebisu Premium Ale\\n🇯🇵 Red Ale / Intl ...</td>\n",
       "    </tr>\n",
       "    <tr>\n",
       "      <th>1</th>\n",
       "      <td>Andina Jalea Guava Saison\\n🇨🇦 Saison / Farmhou...</td>\n",
       "    </tr>\n",
       "    <tr>\n",
       "      <th>2</th>\n",
       "      <td>Benedictine Haustus\\n🇺🇸 Pale Ale - Belgian • 6...</td>\n",
       "    </tr>\n",
       "    <tr>\n",
       "      <th>3</th>\n",
       "      <td>Wishbone Gumption\\n🇬🇧 Bitter - Ordinary / Best...</td>\n",
       "    </tr>\n",
       "    <tr>\n",
       "      <th>4</th>\n",
       "      <td>Yorkshire Heart Platinum EPA\\n🇬🇧 Blonde Ale / ...</td>\n",
       "    </tr>\n",
       "    <tr>\n",
       "      <th>...</th>\n",
       "      <td>...</td>\n",
       "    </tr>\n",
       "    <tr>\n",
       "      <th>473</th>\n",
       "      <td>Conflux Mountain Thunder IPA\\n🇺🇸 IPA • 7.0%\\n-...</td>\n",
       "    </tr>\n",
       "    <tr>\n",
       "      <th>474</th>\n",
       "      <td>Conflux Fire Fight Irish Red\\n🇺🇸 Red Ale - Iri...</td>\n",
       "    </tr>\n",
       "    <tr>\n",
       "      <th>475</th>\n",
       "      <td>Monkish Ghetto Style Proverbs\\n🇺🇸 IPA • 7.1%\\n...</td>\n",
       "    </tr>\n",
       "    <tr>\n",
       "      <th>476</th>\n",
       "      <td>Dogfish Head World Wide Stout - Bourbon Barrel...</td>\n",
       "    </tr>\n",
       "    <tr>\n",
       "      <th>477</th>\n",
       "      <td>Pips Prestige - Rasperry\\n🇺🇸 Mead - Melomel / ...</td>\n",
       "    </tr>\n",
       "  </tbody>\n",
       "</table>\n",
       "<p>478 rows × 1 columns</p>\n",
       "</div>"
      ],
      "text/plain": [
       "                                         return_string\n",
       "0    Sapporo Yebisu Premium Ale\\n🇯🇵 Red Ale / Intl ...\n",
       "1    Andina Jalea Guava Saison\\n🇨🇦 Saison / Farmhou...\n",
       "2    Benedictine Haustus\\n🇺🇸 Pale Ale - Belgian • 6...\n",
       "3    Wishbone Gumption\\n🇬🇧 Bitter - Ordinary / Best...\n",
       "4    Yorkshire Heart Platinum EPA\\n🇬🇧 Blonde Ale / ...\n",
       "..                                                 ...\n",
       "473  Conflux Mountain Thunder IPA\\n🇺🇸 IPA • 7.0%\\n-...\n",
       "474  Conflux Fire Fight Irish Red\\n🇺🇸 Red Ale - Iri...\n",
       "475  Monkish Ghetto Style Proverbs\\n🇺🇸 IPA • 7.1%\\n...\n",
       "476  Dogfish Head World Wide Stout - Bourbon Barrel...\n",
       "477  Pips Prestige - Rasperry\\n🇺🇸 Mead - Melomel / ...\n",
       "\n",
       "[478 rows x 1 columns]"
      ]
     },
     "execution_count": 49,
     "metadata": {},
     "output_type": "execute_result"
    }
   ],
   "source": [
    "beer_deets = pd.DataFrame(desc_string, columns = ['return_string'])\n",
    "beer_deets"
   ]
  },
  {
   "cell_type": "code",
   "execution_count": 50,
   "metadata": {
    "ExecuteTime": {
     "end_time": "2020-07-08T09:11:21.818869Z",
     "start_time": "2020-07-08T09:11:21.777885Z"
    }
   },
   "outputs": [],
   "source": [
    "## cleaning the scraped data\n",
    "beer_deets.dropna(inplace=True)\n",
    "beer_deets = beer_deets[~beer_deets.return_string.str.startswith('Logo\\n')].copy()\n",
    "no_alcohol = beer_deets[~beer_deets.return_string.str.contains('%')].copy()\n",
    "beer_deets = beer_deets[beer_deets.return_string.str.contains('%')].copy()\n"
   ]
  },
  {
   "cell_type": "code",
   "execution_count": 51,
   "metadata": {
    "ExecuteTime": {
     "end_time": "2020-07-08T09:11:21.869230Z",
     "start_time": "2020-07-08T09:11:21.820927Z"
    }
   },
   "outputs": [],
   "source": [
    "# sorting the scraped data into columns\n",
    "beer_deets['name_found'] = beer_deets.return_string.apply(lambda x: x.split('\\n')[0].strip())\n",
    "beer_deets['flag'] = beer_deets.return_string.apply(lambda x: x.split('\\n')[1].split('•')[0].split(\" \")[0])\n",
    "beer_deets['type'] = beer_deets.return_string.apply(lambda x: x.split('\\n')[1].split('•')[0][2:])\n",
    "beer_deets['abv'] = beer_deets.return_string.apply(lambda x: float(x.split('\\n')[1].split('•')[1].replace(\"%\",\"\")))\n",
    "beer_deets['rb_overall_score'] = beer_deets.return_string.apply(lambda x: x.split('\\n')[2])\n",
    "beer_deets['rb_style_score'] = beer_deets.return_string.apply(lambda x: x.split('\\n')[3])\n",
    "beer_deets['rb_user_rating'] = beer_deets.return_string.apply(lambda x: x.split('\\n')[4])\n",
    "beer_deets['rb_rating_number'] = beer_deets.return_string.apply(lambda x: x.split('\\n')[5].replace(\"(\",\"\").replace(\")\",\"\"))\n"
   ]
  },
  {
   "cell_type": "code",
   "execution_count": 52,
   "metadata": {
    "ExecuteTime": {
     "end_time": "2020-07-08T09:11:21.882128Z",
     "start_time": "2020-07-08T09:11:21.872276Z"
    }
   },
   "outputs": [],
   "source": [
    "# need to add in add check here for price\n"
   ]
  },
  {
   "cell_type": "code",
   "execution_count": null,
   "metadata": {},
   "outputs": [],
   "source": [
    "\n"
   ]
  },
  {
   "cell_type": "code",
   "execution_count": 53,
   "metadata": {
    "ExecuteTime": {
     "end_time": "2020-07-08T09:11:21.959574Z",
     "start_time": "2020-07-08T09:11:21.887759Z"
    },
    "scrolled": true
   },
   "outputs": [
    {
     "data": {
      "text/html": [
       "<div>\n",
       "<style scoped>\n",
       "    .dataframe tbody tr th:only-of-type {\n",
       "        vertical-align: middle;\n",
       "    }\n",
       "\n",
       "    .dataframe tbody tr th {\n",
       "        vertical-align: top;\n",
       "    }\n",
       "\n",
       "    .dataframe thead th {\n",
       "        text-align: right;\n",
       "    }\n",
       "</style>\n",
       "<table border=\"1\" class=\"dataframe\">\n",
       "  <thead>\n",
       "    <tr style=\"text-align: right;\">\n",
       "      <th></th>\n",
       "      <th>return_string</th>\n",
       "      <th>name_found</th>\n",
       "      <th>flag</th>\n",
       "      <th>type</th>\n",
       "      <th>abv</th>\n",
       "      <th>rb_overall_score</th>\n",
       "      <th>rb_style_score</th>\n",
       "      <th>rb_user_rating</th>\n",
       "      <th>rb_rating_number</th>\n",
       "    </tr>\n",
       "  </thead>\n",
       "  <tbody>\n",
       "    <tr>\n",
       "      <th>10</th>\n",
       "      <td>Brasserie Générale 18e Réverbère 9 - Mosaic Si...</td>\n",
       "      <td>Brasserie Générale 18e Réverbère 9 - Mosaic Si...</td>\n",
       "      <td>🇨🇦</td>\n",
       "      <td>IPA - Hazy / NEIPA</td>\n",
       "      <td>NaN</td>\n",
       "      <td>-</td>\n",
       "      <td>-</td>\n",
       "      <td>4.30</td>\n",
       "      <td>1</td>\n",
       "    </tr>\n",
       "    <tr>\n",
       "      <th>13</th>\n",
       "      <td>Zillicoah Double IPA\\n🇺🇸 IIPA DIPA - Hazy / Do...</td>\n",
       "      <td>Zillicoah Double IPA</td>\n",
       "      <td>🇺🇸</td>\n",
       "      <td>IIPA DIPA - Hazy / Double NEIPA</td>\n",
       "      <td>NaN</td>\n",
       "      <td>-</td>\n",
       "      <td>-</td>\n",
       "      <td>3.80</td>\n",
       "      <td>1</td>\n",
       "    </tr>\n",
       "    <tr>\n",
       "      <th>14</th>\n",
       "      <td>Zillicoah Helles\\n🇺🇸 Helles / Dortmunder Expor...</td>\n",
       "      <td>Zillicoah Helles</td>\n",
       "      <td>🇺🇸</td>\n",
       "      <td>Helles / Dortmunder Export</td>\n",
       "      <td>NaN</td>\n",
       "      <td>-</td>\n",
       "      <td>-</td>\n",
       "      <td>3.30</td>\n",
       "      <td>1</td>\n",
       "    </tr>\n",
       "    <tr>\n",
       "      <th>58</th>\n",
       "      <td>Lost Grove Teddy Bear Picnic\\n🇺🇸 ISA - Session...</td>\n",
       "      <td>Lost Grove Teddy Bear Picnic</td>\n",
       "      <td>🇺🇸</td>\n",
       "      <td>ISA - Session IPA</td>\n",
       "      <td>0.0</td>\n",
       "      <td>-</td>\n",
       "      <td>-</td>\n",
       "      <td>3.20</td>\n",
       "      <td>4</td>\n",
       "    </tr>\n",
       "    <tr>\n",
       "      <th>68</th>\n",
       "      <td>True Respite Hogan’s Heroes\\n🇺🇸 IPA\\n-\\n-\\n3.9...</td>\n",
       "      <td>True Respite Hogan’s Heroes</td>\n",
       "      <td>🇺🇸</td>\n",
       "      <td>IPA</td>\n",
       "      <td>NaN</td>\n",
       "      <td>-</td>\n",
       "      <td>-</td>\n",
       "      <td>3.90</td>\n",
       "      <td>1</td>\n",
       "    </tr>\n",
       "    <tr>\n",
       "      <th>93</th>\n",
       "      <td>Bearded Iris Searchlight\\n🇺🇸 IPA - Hazy / NEIP...</td>\n",
       "      <td>Bearded Iris Searchlight</td>\n",
       "      <td>🇺🇸</td>\n",
       "      <td>IPA - Hazy / NEIPA</td>\n",
       "      <td>NaN</td>\n",
       "      <td>-</td>\n",
       "      <td>-</td>\n",
       "      <td>3.50</td>\n",
       "      <td>1</td>\n",
       "    </tr>\n",
       "    <tr>\n",
       "      <th>121</th>\n",
       "      <td>Short Finger True Believer APA\\n🇨🇦 Pale Ale - ...</td>\n",
       "      <td>Short Finger True Believer APA</td>\n",
       "      <td>🇨🇦</td>\n",
       "      <td>Pale Ale - American / APA</td>\n",
       "      <td>0.0</td>\n",
       "      <td>-</td>\n",
       "      <td>-</td>\n",
       "      <td>3.74</td>\n",
       "      <td>5</td>\n",
       "    </tr>\n",
       "    <tr>\n",
       "      <th>126</th>\n",
       "      <td>Amsterdam Adventure Brew Rye IPA\\n🇨🇦 IPA - Rye...</td>\n",
       "      <td>Amsterdam Adventure Brew Rye IPA</td>\n",
       "      <td>🇨🇦</td>\n",
       "      <td>IPA - Rye</td>\n",
       "      <td>NaN</td>\n",
       "      <td>-</td>\n",
       "      <td>-</td>\n",
       "      <td>3.40</td>\n",
       "      <td>1</td>\n",
       "    </tr>\n",
       "    <tr>\n",
       "      <th>130</th>\n",
       "      <td>Red Silo You Mango Me Crazy\\n🇺🇸 Flavored - Fru...</td>\n",
       "      <td>Red Silo You Mango Me Crazy</td>\n",
       "      <td>🇺🇸</td>\n",
       "      <td>Flavored - Fruit</td>\n",
       "      <td>0.0</td>\n",
       "      <td>-</td>\n",
       "      <td>-</td>\n",
       "      <td>3.57</td>\n",
       "      <td>6</td>\n",
       "    </tr>\n",
       "    <tr>\n",
       "      <th>139</th>\n",
       "      <td>Indie Alehouse Tartufo\\n🇨🇦 Stout - Milk / Swee...</td>\n",
       "      <td>Indie Alehouse Tartufo</td>\n",
       "      <td>🇨🇦</td>\n",
       "      <td>Stout - Milk / Sweet</td>\n",
       "      <td>NaN</td>\n",
       "      <td>-</td>\n",
       "      <td>-</td>\n",
       "      <td>3.65</td>\n",
       "      <td>2</td>\n",
       "    </tr>\n",
       "    <tr>\n",
       "      <th>159</th>\n",
       "      <td>Darßer Brauhaus IPA\\n🇩🇪 IPA0\\n-\\n-\\n3.40\\n(4)</td>\n",
       "      <td>Darßer Brauhaus IPA</td>\n",
       "      <td>🇩🇪</td>\n",
       "      <td>IPA</td>\n",
       "      <td>0.0</td>\n",
       "      <td>-</td>\n",
       "      <td>-</td>\n",
       "      <td>3.40</td>\n",
       "      <td>4</td>\n",
       "    </tr>\n",
       "    <tr>\n",
       "      <th>161</th>\n",
       "      <td>Darßer Brauhaus Pils\\n🇩🇪 Pilsener / Pils / Pil...</td>\n",
       "      <td>Darßer Brauhaus Pils</td>\n",
       "      <td>🇩🇪</td>\n",
       "      <td>Pilsener / Pils / Pilsner</td>\n",
       "      <td>0.0</td>\n",
       "      <td>-</td>\n",
       "      <td>-</td>\n",
       "      <td>3.12</td>\n",
       "      <td>5</td>\n",
       "    </tr>\n",
       "    <tr>\n",
       "      <th>216</th>\n",
       "      <td>Black Project Stingray\\n🇺🇸 Sour / Wild Beer - ...</td>\n",
       "      <td>Black Project Stingray</td>\n",
       "      <td>🇺🇸</td>\n",
       "      <td>Sour / Wild Beer - Flavored</td>\n",
       "      <td>NaN</td>\n",
       "      <td>-</td>\n",
       "      <td>-</td>\n",
       "      <td>3.70</td>\n",
       "      <td>1</td>\n",
       "    </tr>\n",
       "    <tr>\n",
       "      <th>236</th>\n",
       "      <td>Great Lakes Brewery Robohop - New England Impe...</td>\n",
       "      <td>Great Lakes Brewery Robohop - New England Impe...</td>\n",
       "      <td>🇨🇦</td>\n",
       "      <td>IIPA DIPA - Hazy / Double NEIPA</td>\n",
       "      <td>NaN</td>\n",
       "      <td>-</td>\n",
       "      <td>-</td>\n",
       "      <td>3.80</td>\n",
       "      <td>6</td>\n",
       "    </tr>\n",
       "    <tr>\n",
       "      <th>245</th>\n",
       "      <td>Stillwater General Gose\\n🇺🇸 Gose - Flavored\\n6...</td>\n",
       "      <td>Stillwater General Gose</td>\n",
       "      <td>🇺🇸</td>\n",
       "      <td>Gose - Flavored</td>\n",
       "      <td>NaN</td>\n",
       "      <td>64</td>\n",
       "      <td>45</td>\n",
       "      <td>3.48</td>\n",
       "      <td>13</td>\n",
       "    </tr>\n",
       "    <tr>\n",
       "      <th>260</th>\n",
       "      <td>Torched Hop Balsamo\\n🇺🇸 IIPA DIPA - Imperial /...</td>\n",
       "      <td>Torched Hop Balsamo</td>\n",
       "      <td>🇺🇸</td>\n",
       "      <td>IIPA DIPA - Imperial / Double IPA</td>\n",
       "      <td>NaN</td>\n",
       "      <td>-</td>\n",
       "      <td>-</td>\n",
       "      <td>3.80</td>\n",
       "      <td>1</td>\n",
       "    </tr>\n",
       "    <tr>\n",
       "      <th>314</th>\n",
       "      <td>Tamarack Rhubarb Sour\\n🇺🇸 Sour / Wild Beer - F...</td>\n",
       "      <td>Tamarack Rhubarb Sour</td>\n",
       "      <td>🇺🇸</td>\n",
       "      <td>Sour / Wild Beer - Flavored</td>\n",
       "      <td>NaN</td>\n",
       "      <td>-</td>\n",
       "      <td>-</td>\n",
       "      <td>3.70</td>\n",
       "      <td>1</td>\n",
       "    </tr>\n",
       "    <tr>\n",
       "      <th>315</th>\n",
       "      <td>Tamarack Montana Herb Spiced Saison\\n🇺🇸 Saison...</td>\n",
       "      <td>Tamarack Montana Herb Spiced Saison</td>\n",
       "      <td>🇺🇸</td>\n",
       "      <td>Saison / Farmhouse - Flavored</td>\n",
       "      <td>NaN</td>\n",
       "      <td>-</td>\n",
       "      <td>-</td>\n",
       "      <td>1.90</td>\n",
       "      <td>1</td>\n",
       "    </tr>\n",
       "    <tr>\n",
       "      <th>403</th>\n",
       "      <td>Sir John Hezekiah - Chapitre 5\\n🇨🇦 IIPA DIPA -...</td>\n",
       "      <td>Sir John Hezekiah - Chapitre 5</td>\n",
       "      <td>🇨🇦</td>\n",
       "      <td>IIPA DIPA - Hazy / Double NEIPA</td>\n",
       "      <td>NaN</td>\n",
       "      <td>-</td>\n",
       "      <td>-</td>\n",
       "      <td>4.20</td>\n",
       "      <td>1</td>\n",
       "    </tr>\n",
       "    <tr>\n",
       "      <th>432</th>\n",
       "      <td>Covered Bridge Six\\n🇨🇦 IIPA DIPA - Imperial / ...</td>\n",
       "      <td>Covered Bridge Six</td>\n",
       "      <td>🇨🇦</td>\n",
       "      <td>IIPA DIPA - Imperial / Double IPA</td>\n",
       "      <td>NaN</td>\n",
       "      <td>-</td>\n",
       "      <td>-</td>\n",
       "      <td>3.50</td>\n",
       "      <td>2</td>\n",
       "    </tr>\n",
       "    <tr>\n",
       "      <th>455</th>\n",
       "      <td>Eckerts Vollbier\\n🇩🇪 Zwickelbier / Kellerbier ...</td>\n",
       "      <td>Eckerts Vollbier</td>\n",
       "      <td>🇩🇪</td>\n",
       "      <td>Zwickelbier / Kellerbier / Landbier</td>\n",
       "      <td>0.0</td>\n",
       "      <td>63</td>\n",
       "      <td>94</td>\n",
       "      <td>3.37</td>\n",
       "      <td>36</td>\n",
       "    </tr>\n",
       "  </tbody>\n",
       "</table>\n",
       "</div>"
      ],
      "text/plain": [
       "                                         return_string  \\\n",
       "10   Brasserie Générale 18e Réverbère 9 - Mosaic Si...   \n",
       "13   Zillicoah Double IPA\\n🇺🇸 IIPA DIPA - Hazy / Do...   \n",
       "14   Zillicoah Helles\\n🇺🇸 Helles / Dortmunder Expor...   \n",
       "58   Lost Grove Teddy Bear Picnic\\n🇺🇸 ISA - Session...   \n",
       "68   True Respite Hogan’s Heroes\\n🇺🇸 IPA\\n-\\n-\\n3.9...   \n",
       "93   Bearded Iris Searchlight\\n🇺🇸 IPA - Hazy / NEIP...   \n",
       "121  Short Finger True Believer APA\\n🇨🇦 Pale Ale - ...   \n",
       "126  Amsterdam Adventure Brew Rye IPA\\n🇨🇦 IPA - Rye...   \n",
       "130  Red Silo You Mango Me Crazy\\n🇺🇸 Flavored - Fru...   \n",
       "139  Indie Alehouse Tartufo\\n🇨🇦 Stout - Milk / Swee...   \n",
       "159      Darßer Brauhaus IPA\\n🇩🇪 IPA0\\n-\\n-\\n3.40\\n(4)   \n",
       "161  Darßer Brauhaus Pils\\n🇩🇪 Pilsener / Pils / Pil...   \n",
       "216  Black Project Stingray\\n🇺🇸 Sour / Wild Beer - ...   \n",
       "236  Great Lakes Brewery Robohop - New England Impe...   \n",
       "245  Stillwater General Gose\\n🇺🇸 Gose - Flavored\\n6...   \n",
       "260  Torched Hop Balsamo\\n🇺🇸 IIPA DIPA - Imperial /...   \n",
       "314  Tamarack Rhubarb Sour\\n🇺🇸 Sour / Wild Beer - F...   \n",
       "315  Tamarack Montana Herb Spiced Saison\\n🇺🇸 Saison...   \n",
       "403  Sir John Hezekiah - Chapitre 5\\n🇨🇦 IIPA DIPA -...   \n",
       "432  Covered Bridge Six\\n🇨🇦 IIPA DIPA - Imperial / ...   \n",
       "455  Eckerts Vollbier\\n🇩🇪 Zwickelbier / Kellerbier ...   \n",
       "\n",
       "                                            name_found flag  \\\n",
       "10   Brasserie Générale 18e Réverbère 9 - Mosaic Si...   🇨🇦   \n",
       "13                                Zillicoah Double IPA   🇺🇸   \n",
       "14                                    Zillicoah Helles   🇺🇸   \n",
       "58                        Lost Grove Teddy Bear Picnic   🇺🇸   \n",
       "68                         True Respite Hogan’s Heroes   🇺🇸   \n",
       "93                            Bearded Iris Searchlight   🇺🇸   \n",
       "121                     Short Finger True Believer APA   🇨🇦   \n",
       "126                   Amsterdam Adventure Brew Rye IPA   🇨🇦   \n",
       "130                        Red Silo You Mango Me Crazy   🇺🇸   \n",
       "139                             Indie Alehouse Tartufo   🇨🇦   \n",
       "159                                Darßer Brauhaus IPA   🇩🇪   \n",
       "161                               Darßer Brauhaus Pils   🇩🇪   \n",
       "216                             Black Project Stingray   🇺🇸   \n",
       "236  Great Lakes Brewery Robohop - New England Impe...   🇨🇦   \n",
       "245                            Stillwater General Gose   🇺🇸   \n",
       "260                                Torched Hop Balsamo   🇺🇸   \n",
       "314                              Tamarack Rhubarb Sour   🇺🇸   \n",
       "315                Tamarack Montana Herb Spiced Saison   🇺🇸   \n",
       "403                     Sir John Hezekiah - Chapitre 5   🇨🇦   \n",
       "432                                 Covered Bridge Six   🇨🇦   \n",
       "455                                   Eckerts Vollbier   🇩🇪   \n",
       "\n",
       "                                     type  abv rb_overall_score  \\\n",
       "10                     IPA - Hazy / NEIPA  NaN                -   \n",
       "13        IIPA DIPA - Hazy / Double NEIPA  NaN                -   \n",
       "14             Helles / Dortmunder Export  NaN                -   \n",
       "58                      ISA - Session IPA  0.0                -   \n",
       "68                                    IPA  NaN                -   \n",
       "93                     IPA - Hazy / NEIPA  NaN                -   \n",
       "121             Pale Ale - American / APA  0.0                -   \n",
       "126                             IPA - Rye  NaN                -   \n",
       "130                      Flavored - Fruit  0.0                -   \n",
       "139                  Stout - Milk / Sweet  NaN                -   \n",
       "159                                   IPA  0.0                -   \n",
       "161             Pilsener / Pils / Pilsner  0.0                -   \n",
       "216           Sour / Wild Beer - Flavored  NaN                -   \n",
       "236       IIPA DIPA - Hazy / Double NEIPA  NaN                -   \n",
       "245                       Gose - Flavored  NaN               64   \n",
       "260     IIPA DIPA - Imperial / Double IPA  NaN                -   \n",
       "314           Sour / Wild Beer - Flavored  NaN                -   \n",
       "315         Saison / Farmhouse - Flavored  NaN                -   \n",
       "403       IIPA DIPA - Hazy / Double NEIPA  NaN                -   \n",
       "432     IIPA DIPA - Imperial / Double IPA  NaN                -   \n",
       "455   Zwickelbier / Kellerbier / Landbier  0.0               63   \n",
       "\n",
       "    rb_style_score rb_user_rating rb_rating_number  \n",
       "10               -           4.30                1  \n",
       "13               -           3.80                1  \n",
       "14               -           3.30                1  \n",
       "58               -           3.20                4  \n",
       "68               -           3.90                1  \n",
       "93               -           3.50                1  \n",
       "121              -           3.74                5  \n",
       "126              -           3.40                1  \n",
       "130              -           3.57                6  \n",
       "139              -           3.65                2  \n",
       "159              -           3.40                4  \n",
       "161              -           3.12                5  \n",
       "216              -           3.70                1  \n",
       "236              -           3.80                6  \n",
       "245             45           3.48               13  \n",
       "260              -           3.80                1  \n",
       "314              -           3.70                1  \n",
       "315              -           1.90                1  \n",
       "403              -           4.20                1  \n",
       "432              -           3.50                2  \n",
       "455             94           3.37               36  "
      ]
     },
     "execution_count": 53,
     "metadata": {},
     "output_type": "execute_result"
    }
   ],
   "source": [
    "# sorting the no alcohol measure\n",
    "no_alcohol['name_found'] = no_alcohol.return_string.apply(lambda x: x.split('\\n')[0].strip())\n",
    "no_alcohol['flag'] = no_alcohol.return_string.apply(lambda x: x.split('\\n')[1].split('•')[0].split(\" \")[0])\n",
    "no_alcohol['type'] = no_alcohol.return_string.apply(lambda x: x.split('\\n')[1].split('•')[0][2:])\n",
    "no_alcohol['abv'] = no_alcohol.type.apply(lambda x: 0 if x[-1] == '0' else None)\n",
    "no_alcohol['type'] = no_alcohol.type.apply(lambda x: x[:-1] if x[-1] == '0' else x)\n",
    "no_alcohol['check'] = no_alcohol.return_string.apply(lambda x: len(x.split('\\n')))\n",
    "no_alcohol = no_alcohol[no_alcohol['check']>4].copy()\n",
    "no_alcohol['rb_overall_score'] = no_alcohol.return_string.apply(lambda x: x.split('\\n')[2])\n",
    "no_alcohol['rb_style_score'] = no_alcohol.return_string.apply(lambda x: x.split('\\n')[3])\n",
    "no_alcohol['rb_user_rating'] = no_alcohol.return_string.apply(lambda x: x.split('\\n')[4])\n",
    "no_alcohol['rb_rating_number'] = no_alcohol.return_string.apply(lambda x: x.split('\\n')[5].replace(\"(\",\"\").replace(\")\",\"\"))\n",
    "no_alcohol.drop('check',inplace=True, axis=1)\n",
    "\n",
    "no_alcohol"
   ]
  },
  {
   "cell_type": "code",
   "execution_count": 54,
   "metadata": {
    "ExecuteTime": {
     "end_time": "2020-07-08T09:11:22.028503Z",
     "start_time": "2020-07-08T09:11:21.962167Z"
    }
   },
   "outputs": [],
   "source": [
    "beer_df = pd.concat([beer_df,beer_deets,no_alcohol])"
   ]
  },
  {
   "cell_type": "code",
   "execution_count": 55,
   "metadata": {
    "ExecuteTime": {
     "end_time": "2020-07-08T09:11:22.060924Z",
     "start_time": "2020-07-08T09:11:22.030663Z"
    }
   },
   "outputs": [
    {
     "data": {
      "text/html": [
       "<div>\n",
       "<style scoped>\n",
       "    .dataframe tbody tr th:only-of-type {\n",
       "        vertical-align: middle;\n",
       "    }\n",
       "\n",
       "    .dataframe tbody tr th {\n",
       "        vertical-align: top;\n",
       "    }\n",
       "\n",
       "    .dataframe thead th {\n",
       "        text-align: right;\n",
       "    }\n",
       "</style>\n",
       "<table border=\"1\" class=\"dataframe\">\n",
       "  <thead>\n",
       "    <tr style=\"text-align: right;\">\n",
       "      <th></th>\n",
       "      <th>return_string</th>\n",
       "      <th>flag</th>\n",
       "      <th>type</th>\n",
       "      <th>abv</th>\n",
       "      <th>rb_overall_score</th>\n",
       "      <th>rb_style_score</th>\n",
       "      <th>rb_user_rating</th>\n",
       "      <th>rb_rating_number</th>\n",
       "      <th>name_found</th>\n",
       "    </tr>\n",
       "  </thead>\n",
       "  <tbody>\n",
       "    <tr>\n",
       "      <th>0</th>\n",
       "      <td>St. Peter's Ruby Red Ale\\n🇬🇧 Bitter - Ordinary...</td>\n",
       "      <td>🇬🇧</td>\n",
       "      <td>Bitter - Ordinary / Best</td>\n",
       "      <td>4.3</td>\n",
       "      <td>49</td>\n",
       "      <td>95</td>\n",
       "      <td>3.25</td>\n",
       "      <td>415</td>\n",
       "      <td>St. Peter's Ruby Red Ale</td>\n",
       "    </tr>\n",
       "    <tr>\n",
       "      <th>1</th>\n",
       "      <td>Shepherd Neame Spitfire (Bottle)\\n🇬🇧 Bitter - ...</td>\n",
       "      <td>🇬🇧</td>\n",
       "      <td>Bitter - Ordinary / Best</td>\n",
       "      <td>4.5</td>\n",
       "      <td>34</td>\n",
       "      <td>59</td>\n",
       "      <td>3.05</td>\n",
       "      <td>1083</td>\n",
       "      <td>Shepherd Neame Spitfire (Bottle)</td>\n",
       "    </tr>\n",
       "    <tr>\n",
       "      <th>2</th>\n",
       "      <td>Arbor Rocketman\\n🇬🇧 IPA • 6.0%\\n95\\n97\\n3.74\\n...</td>\n",
       "      <td>🇬🇧</td>\n",
       "      <td>IPA</td>\n",
       "      <td>6.0</td>\n",
       "      <td>95</td>\n",
       "      <td>97</td>\n",
       "      <td>3.74</td>\n",
       "      <td>59</td>\n",
       "      <td>Arbor Rocketman</td>\n",
       "    </tr>\n",
       "    <tr>\n",
       "      <th>3</th>\n",
       "      <td>Shepherd Neame India Pale Ale (Bottle)\\n🇬🇧 IPA...</td>\n",
       "      <td>🇬🇧</td>\n",
       "      <td>IPA - English</td>\n",
       "      <td>6.1</td>\n",
       "      <td>46</td>\n",
       "      <td>47</td>\n",
       "      <td>3.22</td>\n",
       "      <td>420</td>\n",
       "      <td>Shepherd Neame India Pale Ale (Bottle)</td>\n",
       "    </tr>\n",
       "    <tr>\n",
       "      <th>4</th>\n",
       "      <td>Shepherd Neame Christmas Ale\\n🇬🇧 Strong Ale - ...</td>\n",
       "      <td>🇬🇧</td>\n",
       "      <td>Strong Ale - English</td>\n",
       "      <td>7.0</td>\n",
       "      <td>45</td>\n",
       "      <td>46</td>\n",
       "      <td>3.18</td>\n",
       "      <td>409</td>\n",
       "      <td>Shepherd Neame Christmas Ale</td>\n",
       "    </tr>\n",
       "    <tr>\n",
       "      <th>...</th>\n",
       "      <td>...</td>\n",
       "      <td>...</td>\n",
       "      <td>...</td>\n",
       "      <td>...</td>\n",
       "      <td>...</td>\n",
       "      <td>...</td>\n",
       "      <td>...</td>\n",
       "      <td>...</td>\n",
       "      <td>...</td>\n",
       "    </tr>\n",
       "    <tr>\n",
       "      <th>314</th>\n",
       "      <td>Tamarack Rhubarb Sour\\n🇺🇸 Sour / Wild Beer - F...</td>\n",
       "      <td>🇺🇸</td>\n",
       "      <td>Sour / Wild Beer - Flavored</td>\n",
       "      <td>NaN</td>\n",
       "      <td>-</td>\n",
       "      <td>-</td>\n",
       "      <td>3.70</td>\n",
       "      <td>1</td>\n",
       "      <td>Tamarack Rhubarb Sour</td>\n",
       "    </tr>\n",
       "    <tr>\n",
       "      <th>315</th>\n",
       "      <td>Tamarack Montana Herb Spiced Saison\\n🇺🇸 Saison...</td>\n",
       "      <td>🇺🇸</td>\n",
       "      <td>Saison / Farmhouse - Flavored</td>\n",
       "      <td>NaN</td>\n",
       "      <td>-</td>\n",
       "      <td>-</td>\n",
       "      <td>1.90</td>\n",
       "      <td>1</td>\n",
       "      <td>Tamarack Montana Herb Spiced Saison</td>\n",
       "    </tr>\n",
       "    <tr>\n",
       "      <th>403</th>\n",
       "      <td>Sir John Hezekiah - Chapitre 5\\n🇨🇦 IIPA DIPA -...</td>\n",
       "      <td>🇨🇦</td>\n",
       "      <td>IIPA DIPA - Hazy / Double NEIPA</td>\n",
       "      <td>NaN</td>\n",
       "      <td>-</td>\n",
       "      <td>-</td>\n",
       "      <td>4.20</td>\n",
       "      <td>1</td>\n",
       "      <td>Sir John Hezekiah - Chapitre 5</td>\n",
       "    </tr>\n",
       "    <tr>\n",
       "      <th>432</th>\n",
       "      <td>Covered Bridge Six\\n🇨🇦 IIPA DIPA - Imperial / ...</td>\n",
       "      <td>🇨🇦</td>\n",
       "      <td>IIPA DIPA - Imperial / Double IPA</td>\n",
       "      <td>NaN</td>\n",
       "      <td>-</td>\n",
       "      <td>-</td>\n",
       "      <td>3.50</td>\n",
       "      <td>2</td>\n",
       "      <td>Covered Bridge Six</td>\n",
       "    </tr>\n",
       "    <tr>\n",
       "      <th>455</th>\n",
       "      <td>Eckerts Vollbier\\n🇩🇪 Zwickelbier / Kellerbier ...</td>\n",
       "      <td>🇩🇪</td>\n",
       "      <td>Zwickelbier / Kellerbier / Landbier</td>\n",
       "      <td>0.0</td>\n",
       "      <td>63</td>\n",
       "      <td>94</td>\n",
       "      <td>3.37</td>\n",
       "      <td>36</td>\n",
       "      <td>Eckerts Vollbier</td>\n",
       "    </tr>\n",
       "  </tbody>\n",
       "</table>\n",
       "<p>24958 rows × 9 columns</p>\n",
       "</div>"
      ],
      "text/plain": [
       "                                         return_string flag  \\\n",
       "0    St. Peter's Ruby Red Ale\\n🇬🇧 Bitter - Ordinary...   🇬🇧   \n",
       "1    Shepherd Neame Spitfire (Bottle)\\n🇬🇧 Bitter - ...   🇬🇧   \n",
       "2    Arbor Rocketman\\n🇬🇧 IPA • 6.0%\\n95\\n97\\n3.74\\n...   🇬🇧   \n",
       "3    Shepherd Neame India Pale Ale (Bottle)\\n🇬🇧 IPA...   🇬🇧   \n",
       "4    Shepherd Neame Christmas Ale\\n🇬🇧 Strong Ale - ...   🇬🇧   \n",
       "..                                                 ...  ...   \n",
       "314  Tamarack Rhubarb Sour\\n🇺🇸 Sour / Wild Beer - F...   🇺🇸   \n",
       "315  Tamarack Montana Herb Spiced Saison\\n🇺🇸 Saison...   🇺🇸   \n",
       "403  Sir John Hezekiah - Chapitre 5\\n🇨🇦 IIPA DIPA -...   🇨🇦   \n",
       "432  Covered Bridge Six\\n🇨🇦 IIPA DIPA - Imperial / ...   🇨🇦   \n",
       "455  Eckerts Vollbier\\n🇩🇪 Zwickelbier / Kellerbier ...   🇩🇪   \n",
       "\n",
       "                                     type  abv rb_overall_score  \\\n",
       "0               Bitter - Ordinary / Best   4.3               49   \n",
       "1               Bitter - Ordinary / Best   4.5               34   \n",
       "2                                    IPA   6.0               95   \n",
       "3                          IPA - English   6.1               46   \n",
       "4                   Strong Ale - English   7.0               45   \n",
       "..                                    ...  ...              ...   \n",
       "314           Sour / Wild Beer - Flavored  NaN                -   \n",
       "315         Saison / Farmhouse - Flavored  NaN                -   \n",
       "403       IIPA DIPA - Hazy / Double NEIPA  NaN                -   \n",
       "432     IIPA DIPA - Imperial / Double IPA  NaN                -   \n",
       "455   Zwickelbier / Kellerbier / Landbier  0.0               63   \n",
       "\n",
       "    rb_style_score rb_user_rating rb_rating_number  \\\n",
       "0               95           3.25              415   \n",
       "1               59           3.05             1083   \n",
       "2               97           3.74               59   \n",
       "3               47           3.22              420   \n",
       "4               46           3.18              409   \n",
       "..             ...            ...              ...   \n",
       "314              -           3.70                1   \n",
       "315              -           1.90                1   \n",
       "403              -           4.20                1   \n",
       "432              -           3.50                2   \n",
       "455             94           3.37               36   \n",
       "\n",
       "                                 name_found  \n",
       "0                  St. Peter's Ruby Red Ale  \n",
       "1          Shepherd Neame Spitfire (Bottle)  \n",
       "2                           Arbor Rocketman  \n",
       "3    Shepherd Neame India Pale Ale (Bottle)  \n",
       "4              Shepherd Neame Christmas Ale  \n",
       "..                                      ...  \n",
       "314                   Tamarack Rhubarb Sour  \n",
       "315     Tamarack Montana Herb Spiced Saison  \n",
       "403          Sir John Hezekiah - Chapitre 5  \n",
       "432                      Covered Bridge Six  \n",
       "455                        Eckerts Vollbier  \n",
       "\n",
       "[24958 rows x 9 columns]"
      ]
     },
     "execution_count": 55,
     "metadata": {},
     "output_type": "execute_result"
    }
   ],
   "source": [
    "beer_df"
   ]
  },
  {
   "cell_type": "code",
   "execution_count": 56,
   "metadata": {
    "ExecuteTime": {
     "end_time": "2020-07-08T09:11:22.139992Z",
     "start_time": "2020-07-08T09:11:22.063764Z"
    }
   },
   "outputs": [
    {
     "name": "stdout",
     "output_type": "stream",
     "text": [
      "There are 21 new beers that were not found or returned errors. They will be added to the no search list.\n"
     ]
    }
   ],
   "source": [
    "# compare to the unique list to create a new to-be-scraped list\n",
    "not_found_beer = df.beer_name[~df.beer_name.isin(beer_df.name_found)].unique()\n",
    "print(\"There are\", len(not_found_beer)-len(not_found_df), \"new beers that were not found or returned errors. They will be added to the no search list.\")\n",
    "not_found_df = pd.concat([not_found_df,pd.DataFrame(not_found_beer,columns = [\"not_found\"])])\n",
    "not_found_df.drop_duplicates(inplace=True)"
   ]
  },
  {
   "cell_type": "code",
   "execution_count": 57,
   "metadata": {
    "ExecuteTime": {
     "end_time": "2020-07-08T09:11:22.351489Z",
     "start_time": "2020-07-08T09:11:22.142260Z"
    }
   },
   "outputs": [],
   "source": [
    "beer_df.to_csv('beer_deets.csv',index=False)\n",
    "not_found_df.to_csv(\"not_found.csv\", index=False)"
   ]
  },
  {
   "cell_type": "code",
   "execution_count": null,
   "metadata": {},
   "outputs": [],
   "source": []
  },
  {
   "cell_type": "code",
   "execution_count": null,
   "metadata": {},
   "outputs": [],
   "source": []
  },
  {
   "cell_type": "code",
   "execution_count": null,
   "metadata": {},
   "outputs": [],
   "source": []
  }
 ],
 "metadata": {
  "kernelspec": {
   "display_name": "Python 3",
   "language": "python",
   "name": "python3"
  },
  "language_info": {
   "codemirror_mode": {
    "name": "ipython",
    "version": 3
   },
   "file_extension": ".py",
   "mimetype": "text/x-python",
   "name": "python",
   "nbconvert_exporter": "python",
   "pygments_lexer": "ipython3",
   "version": "3.7.1"
  },
  "toc": {
   "base_numbering": 1,
   "nav_menu": {},
   "number_sections": true,
   "sideBar": true,
   "skip_h1_title": false,
   "title_cell": "Table of Contents",
   "title_sidebar": "Contents",
   "toc_cell": false,
   "toc_position": {},
   "toc_section_display": true,
   "toc_window_display": false
  },
  "varInspector": {
   "cols": {
    "lenName": 16,
    "lenType": 16,
    "lenVar": 40
   },
   "kernels_config": {
    "python": {
     "delete_cmd_postfix": "",
     "delete_cmd_prefix": "del ",
     "library": "var_list.py",
     "varRefreshCmd": "print(var_dic_list())"
    },
    "r": {
     "delete_cmd_postfix": ") ",
     "delete_cmd_prefix": "rm(",
     "library": "var_list.r",
     "varRefreshCmd": "cat(var_dic_list()) "
    }
   },
   "types_to_exclude": [
    "module",
    "function",
    "builtin_function_or_method",
    "instance",
    "_Feature"
   ],
   "window_display": false
  }
 },
 "nbformat": 4,
 "nbformat_minor": 4
}
