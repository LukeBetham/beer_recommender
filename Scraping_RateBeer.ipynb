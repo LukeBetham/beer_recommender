{
 "cells": [
  {
   "cell_type": "code",
   "execution_count": 1,
   "metadata": {
    "ExecuteTime": {
     "end_time": "2020-05-25T21:52:00.249840Z",
     "start_time": "2020-05-25T21:51:58.278905Z"
    }
   },
   "outputs": [],
   "source": [
    "import requests\n",
    "import bs4\n",
    "from bs4 import BeautifulSoup\n",
    "import pandas as pd\n",
    "import re\n",
    "from tqdm.notebook import tqdm\n",
    "import matplotlib.pyplot as plt\n",
    "import seaborn as sns"
   ]
  },
  {
   "cell_type": "markdown",
   "metadata": {},
   "source": [
    "## Code which scrapes the recently reviews (only 100 pages - 1,400 reviews)"
   ]
  },
  {
   "cell_type": "code",
   "execution_count": 2,
   "metadata": {
    "ExecuteTime": {
     "end_time": "2020-05-25T21:52:00.283445Z",
     "start_time": "2020-05-25T21:52:00.252377Z"
    }
   },
   "outputs": [],
   "source": [
    "\n",
    "def ratebeer_scraper(page_start=1, page_end=2, url_set=None):\n",
    "    \n",
    "    beer_name = []\n",
    "    beer_rating = []\n",
    "    brewery_name = []\n",
    "    brewery_location = []\n",
    "    review_content = []\n",
    "    reviewer_name = []\n",
    " \n",
    "    if url_set == None:\n",
    "        print(\"Need url to run\")\n",
    "        return\n",
    "\n",
    "    for x in tqdm(range(page_start, page_end + 1)):\n",
    "        try:\n",
    "            url_format = url_set.format(x)\n",
    "            r = requests.get(url_format)\n",
    "            soup = BeautifulSoup(r.text, 'html.parser')\n",
    "            table = soup.find('table', attrs={'class': 'table'})\n",
    "            table_rows = table.find_all('tr')\n",
    "\n",
    "            for rows in table_rows:\n",
    "\n",
    "            # Scrape Beer Name    \n",
    "                try:\n",
    "                    beer_name.append(rows.find('a', attrs={'style':'font-size:20px; font-weight:bold;'}).text)\n",
    "                except:\n",
    "                    beer_name.append(None)\n",
    "            # Scrape Review Rating  \n",
    "                try:\n",
    "                    beer_rating.append(rows.find('span', attrs={'class':'uas'}).text)\n",
    "                except:\n",
    "                    beer_rating.append(None)\n",
    "            # Scrape Brewery Name  \n",
    "                try:\n",
    "                    brewery_div = rows.find('div')\n",
    "                    brewery_name.append(brewery_div.a.text)\n",
    "                except:\n",
    "                    brewery_name.append(None)\n",
    "            # Scrape Brewery Location\n",
    "                try:\n",
    "                    brewery_location.append(rows.find('span', attrs={'class':'small'}).text.strip())\n",
    "                except:\n",
    "                    brewery_location.append(None)\n",
    "            # Scrape Reviewer Name\n",
    "                try:\n",
    "                    reviewer_name.append(rows.find('span', attrs={'class':'pull-right'}).text.strip())\n",
    "                except:\n",
    "                    reviewer_name.append(None)\n",
    "            # Scrape content\n",
    "                try:\n",
    "                    review_content.append(rows.find('div', attrs={'style':\"color:#666;\"}).text.strip())\n",
    "                except:\n",
    "                    review_content.append(None)\n",
    "        except:\n",
    "            pass\n",
    "\n",
    "    beerz = pd.DataFrame({'beer_name': beer_name,\n",
    "                         'beer_rating': beer_rating,\n",
    "                        'brewery_name': brewery_name,\n",
    "                         'brewery_location': brewery_location,\n",
    "                        'review_content': review_content,\n",
    "                        'reviewer_name': reviewer_name})\n",
    "    return beerz\n",
    "\n"
   ]
  },
  {
   "cell_type": "code",
   "execution_count": 3,
   "metadata": {
    "ExecuteTime": {
     "end_time": "2020-05-25T21:55:56.417837Z",
     "start_time": "2020-05-25T21:52:00.296533Z"
    }
   },
   "outputs": [
    {
     "data": {
      "application/vnd.jupyter.widget-view+json": {
       "model_id": "8b4499e1365b42b0a84aff01450f54fa",
       "version_major": 2,
       "version_minor": 0
      },
      "text/plain": [
       "HBox(children=(FloatProgress(value=0.0, max=101.0), HTML(value='')))"
      ]
     },
     "metadata": {},
     "output_type": "display_data"
    },
    {
     "name": "stdout",
     "output_type": "stream",
     "text": [
      "\n"
     ]
    },
    {
     "data": {
      "application/vnd.jupyter.widget-view+json": {
       "model_id": "f7f6441b75ce4d87851a33150d286c75",
       "version_major": 2,
       "version_minor": 0
      },
      "text/plain": [
       "HBox(children=(FloatProgress(value=0.0, max=11.0), HTML(value='')))"
      ]
     },
     "metadata": {},
     "output_type": "display_data"
    },
    {
     "name": "stdout",
     "output_type": "stream",
     "text": [
      "\n"
     ]
    },
    {
     "data": {
      "application/vnd.jupyter.widget-view+json": {
       "model_id": "1d096cea7c854e83bd4c0877d11cfdfe",
       "version_major": 2,
       "version_minor": 0
      },
      "text/plain": [
       "HBox(children=(FloatProgress(value=0.0, max=51.0), HTML(value='')))"
      ]
     },
     "metadata": {},
     "output_type": "display_data"
    },
    {
     "name": "stdout",
     "output_type": "stream",
     "text": [
      "\n"
     ]
    },
    {
     "data": {
      "application/vnd.jupyter.widget-view+json": {
       "model_id": "ebe23d7718c74d00ad039cafbe3b4f95",
       "version_major": 2,
       "version_minor": 0
      },
      "text/plain": [
       "HBox(children=(FloatProgress(value=0.0, max=51.0), HTML(value='')))"
      ]
     },
     "metadata": {},
     "output_type": "display_data"
    },
    {
     "name": "stdout",
     "output_type": "stream",
     "text": [
      "\n"
     ]
    },
    {
     "data": {
      "application/vnd.jupyter.widget-view+json": {
       "model_id": "b0eed00e63704cce8a0187de540646b2",
       "version_major": 2,
       "version_minor": 0
      },
      "text/plain": [
       "HBox(children=(FloatProgress(value=0.0, max=51.0), HTML(value='')))"
      ]
     },
     "metadata": {},
     "output_type": "display_data"
    },
    {
     "name": "stdout",
     "output_type": "stream",
     "text": [
      "\n"
     ]
    },
    {
     "data": {
      "application/vnd.jupyter.widget-view+json": {
       "model_id": "e76a306dad4e4d1580ec4a87582096c4",
       "version_major": 2,
       "version_minor": 0
      },
      "text/plain": [
       "HBox(children=(FloatProgress(value=0.0, max=51.0), HTML(value='')))"
      ]
     },
     "metadata": {},
     "output_type": "display_data"
    },
    {
     "name": "stdout",
     "output_type": "stream",
     "text": [
      "\n"
     ]
    }
   ],
   "source": [
    "# Scraping most recent reviews\n",
    "url = 'https://www.ratebeer.com/beer-ratings/0/{}/'\n",
    "df_recent = ratebeer_scraper(0,100,url)\n",
    "\n",
    "# Scraping new beers\n",
    "url = 'https://www.ratebeer.com/beer-ratings/5/{}/'\n",
    "df_new = ratebeer_scraper(0,10,url)\n",
    "\n",
    "# Scraping fave beers\n",
    "url = 'https://www.ratebeer.com/beer-ratings/4/{}/'\n",
    "df_fave = ratebeer_scraper(0,50,url)\n",
    "\n",
    "# Scraping rave beers\n",
    "url = 'https://www.ratebeer.com/beer-ratings/1/{}/'\n",
    "df_rave = ratebeer_scraper(0,50,url)\n",
    "\n",
    "# Scraping rant beers\n",
    "url = 'https://www.ratebeer.com/beer-ratings/2/{}/'\n",
    "df_rant = ratebeer_scraper(0,50,url)\n",
    "\n",
    "# Scraping anomalous beers\n",
    "url = 'https://www.ratebeer.com/beer-ratings/3/{}/'\n",
    "df_anom = ratebeer_scraper(0,50,url)"
   ]
  },
  {
   "cell_type": "code",
   "execution_count": 4,
   "metadata": {
    "ExecuteTime": {
     "end_time": "2020-05-25T21:55:56.434059Z",
     "start_time": "2020-05-25T21:55:56.422413Z"
    }
   },
   "outputs": [],
   "source": [
    "# getting rid of non-ascii characters from the reviews as it breaks csv\n",
    "try:\n",
    "    df_rave.review_content = df_rave.review_content.apply(lambda x: x.encode('ascii', 'ignore').decode('ascii'))\n",
    "except:\n",
    "    pass"
   ]
  },
  {
   "cell_type": "code",
   "execution_count": 5,
   "metadata": {
    "ExecuteTime": {
     "end_time": "2020-05-25T21:55:56.545903Z",
     "start_time": "2020-05-25T21:55:56.437257Z"
    }
   },
   "outputs": [],
   "source": [
    "# read current data from csv (there is a backup at all_reviews_backup.csv)\n",
    "df = pd.read_csv('all_reviews.csv')"
   ]
  },
  {
   "cell_type": "code",
   "execution_count": 6,
   "metadata": {
    "ExecuteTime": {
     "end_time": "2020-05-25T21:55:56.647122Z",
     "start_time": "2020-05-25T21:55:56.548097Z"
    }
   },
   "outputs": [
    {
     "name": "stdout",
     "output_type": "stream",
     "text": [
      "30484\n",
      "26371\n"
     ]
    }
   ],
   "source": [
    "# concatenating all of the scrapes together with the old df\n",
    "try:\n",
    "    df = pd.concat([df, df_recent, df_new, df_fave, df_rave, df_rant, df_anom])\n",
    "except:\n",
    "    df = pd.concat([df, df_recent])\n",
    "print(len(df))\n",
    "df.drop_duplicates(inplace=True)\n",
    "print(len(df))\n",
    "df.beer_name = df.beer_name.apply(lambda x: x.strip())\n",
    "\n"
   ]
  },
  {
   "cell_type": "code",
   "execution_count": 7,
   "metadata": {
    "ExecuteTime": {
     "end_time": "2020-05-25T21:55:56.676941Z",
     "start_time": "2020-05-25T21:55:56.651414Z"
    }
   },
   "outputs": [
    {
     "data": {
      "text/html": [
       "<div>\n",
       "<style scoped>\n",
       "    .dataframe tbody tr th:only-of-type {\n",
       "        vertical-align: middle;\n",
       "    }\n",
       "\n",
       "    .dataframe tbody tr th {\n",
       "        vertical-align: top;\n",
       "    }\n",
       "\n",
       "    .dataframe thead th {\n",
       "        text-align: right;\n",
       "    }\n",
       "</style>\n",
       "<table border=\"1\" class=\"dataframe\">\n",
       "  <thead>\n",
       "    <tr style=\"text-align: right;\">\n",
       "      <th></th>\n",
       "      <th>beer_name</th>\n",
       "      <th>beer_rating</th>\n",
       "      <th>brewery_location</th>\n",
       "      <th>brewery_name</th>\n",
       "      <th>review_content</th>\n",
       "      <th>reviewer_name</th>\n",
       "    </tr>\n",
       "  </thead>\n",
       "  <tbody>\n",
       "    <tr>\n",
       "      <th>0</th>\n",
       "      <td>St. Peter's Ruby Red Ale</td>\n",
       "      <td>3.3</td>\n",
       "      <td>Bungay, Suffolk</td>\n",
       "      <td>St. Peter's Brewery</td>\n",
       "      <td>Ruby color, offwhite coam. Aroma and taste: fl...</td>\n",
       "      <td>alex_leit</td>\n",
       "    </tr>\n",
       "    <tr>\n",
       "      <th>1</th>\n",
       "      <td>Shepherd Neame Spitfire (Bottle)</td>\n",
       "      <td>2.2</td>\n",
       "      <td>Faversham, Kent</td>\n",
       "      <td>Shepherd Neame</td>\n",
       "      <td>Disappointing show from the lads at ‘Britain’s...</td>\n",
       "      <td>shivermetimber.gray</td>\n",
       "    </tr>\n",
       "    <tr>\n",
       "      <th>2</th>\n",
       "      <td>Arbor Rocketman</td>\n",
       "      <td>3.8</td>\n",
       "      <td>Bristol, Gloucestershire</td>\n",
       "      <td>Arbor Ales</td>\n",
       "      <td>Puszka. Mętne o żółtym kolorze. Piana biała,ob...</td>\n",
       "      <td>MarcinG</td>\n",
       "    </tr>\n",
       "    <tr>\n",
       "      <th>3</th>\n",
       "      <td>Shepherd Neame India Pale Ale (Bottle)</td>\n",
       "      <td>3.4</td>\n",
       "      <td>Faversham, Kent</td>\n",
       "      <td>Shepherd Neame</td>\n",
       "      <td>Bottle. Amber with bronze color and white foam...</td>\n",
       "      <td>alex_leit</td>\n",
       "    </tr>\n",
       "    <tr>\n",
       "      <th>4</th>\n",
       "      <td>Shepherd Neame Christmas Ale</td>\n",
       "      <td>3.3</td>\n",
       "      <td>Faversham, Kent</td>\n",
       "      <td>Shepherd Neame</td>\n",
       "      <td>Bottle. Aroma: English hops and malts with tof...</td>\n",
       "      <td>alex_leit</td>\n",
       "    </tr>\n",
       "    <tr>\n",
       "      <th>...</th>\n",
       "      <td>...</td>\n",
       "      <td>...</td>\n",
       "      <td>...</td>\n",
       "      <td>...</td>\n",
       "      <td>...</td>\n",
       "      <td>...</td>\n",
       "    </tr>\n",
       "    <tr>\n",
       "      <th>760</th>\n",
       "      <td>Wild Beer Nebula</td>\n",
       "      <td>1.8</td>\n",
       "      <td>-1.7</td>\n",
       "      <td>Wild Beer</td>\n",
       "      <td>Keg at We Brought Beer, Balham.  Hazy straw wi...</td>\n",
       "      <td>Beese</td>\n",
       "    </tr>\n",
       "    <tr>\n",
       "      <th>761</th>\n",
       "      <td>Jester King Le Petit Prince Farmhouse Table Be...</td>\n",
       "      <td>5.0</td>\n",
       "      <td>+1.6</td>\n",
       "      <td>Jester King Brewery</td>\n",
       "      <td>Light yellow liquid. Scent of hay, herbs and y...</td>\n",
       "      <td>SourScout57</td>\n",
       "    </tr>\n",
       "    <tr>\n",
       "      <th>762</th>\n",
       "      <td>Goose Island So-Lo</td>\n",
       "      <td>5.0</td>\n",
       "      <td>+2</td>\n",
       "      <td>Goose Island Beer Company (AB-InBev)</td>\n",
       "      <td>Genius. A delicious light beer that downplays ...</td>\n",
       "      <td>LocalLove53</td>\n",
       "    </tr>\n",
       "    <tr>\n",
       "      <th>763</th>\n",
       "      <td>Wild Beer Epic Saison</td>\n",
       "      <td>1.8</td>\n",
       "      <td>-1.7</td>\n",
       "      <td>Wild Beer</td>\n",
       "      <td>* Bottle 5% Farmhouse Ale.\\n* Appearance is ha...</td>\n",
       "      <td>MrJamesMcEwan</td>\n",
       "    </tr>\n",
       "    <tr>\n",
       "      <th>764</th>\n",
       "      <td>Iron City Light Mango</td>\n",
       "      <td>3.9</td>\n",
       "      <td>+1.6</td>\n",
       "      <td>Pittsburgh Brewing Company</td>\n",
       "      <td>Nice light fruit flavored beer. Only 95 cal an...</td>\n",
       "      <td>LuvMyBeer64</td>\n",
       "    </tr>\n",
       "  </tbody>\n",
       "</table>\n",
       "<p>26371 rows × 6 columns</p>\n",
       "</div>"
      ],
      "text/plain": [
       "                                             beer_name beer_rating  \\\n",
       "0                             St. Peter's Ruby Red Ale         3.3   \n",
       "1                     Shepherd Neame Spitfire (Bottle)         2.2   \n",
       "2                                      Arbor Rocketman         3.8   \n",
       "3               Shepherd Neame India Pale Ale (Bottle)         3.4   \n",
       "4                         Shepherd Neame Christmas Ale         3.3   \n",
       "..                                                 ...         ...   \n",
       "760                                   Wild Beer Nebula         1.8   \n",
       "761  Jester King Le Petit Prince Farmhouse Table Be...         5.0   \n",
       "762                                 Goose Island So-Lo         5.0   \n",
       "763                              Wild Beer Epic Saison         1.8   \n",
       "764                              Iron City Light Mango         3.9   \n",
       "\n",
       "             brewery_location                          brewery_name  \\\n",
       "0             Bungay, Suffolk                   St. Peter's Brewery   \n",
       "1             Faversham, Kent                        Shepherd Neame   \n",
       "2    Bristol, Gloucestershire                            Arbor Ales   \n",
       "3             Faversham, Kent                        Shepherd Neame   \n",
       "4             Faversham, Kent                        Shepherd Neame   \n",
       "..                        ...                                   ...   \n",
       "760                      -1.7                             Wild Beer   \n",
       "761                      +1.6                   Jester King Brewery   \n",
       "762                        +2  Goose Island Beer Company (AB-InBev)   \n",
       "763                      -1.7                             Wild Beer   \n",
       "764                      +1.6            Pittsburgh Brewing Company   \n",
       "\n",
       "                                        review_content        reviewer_name  \n",
       "0    Ruby color, offwhite coam. Aroma and taste: fl...            alex_leit  \n",
       "1    Disappointing show from the lads at ‘Britain’s...  shivermetimber.gray  \n",
       "2    Puszka. Mętne o żółtym kolorze. Piana biała,ob...              MarcinG  \n",
       "3    Bottle. Amber with bronze color and white foam...            alex_leit  \n",
       "4    Bottle. Aroma: English hops and malts with tof...            alex_leit  \n",
       "..                                                 ...                  ...  \n",
       "760  Keg at We Brought Beer, Balham.  Hazy straw wi...                Beese  \n",
       "761  Light yellow liquid. Scent of hay, herbs and y...          SourScout57  \n",
       "762  Genius. A delicious light beer that downplays ...          LocalLove53  \n",
       "763  * Bottle 5% Farmhouse Ale.\\n* Appearance is ha...        MrJamesMcEwan  \n",
       "764  Nice light fruit flavored beer. Only 95 cal an...          LuvMyBeer64  \n",
       "\n",
       "[26371 rows x 6 columns]"
      ]
     },
     "execution_count": 7,
     "metadata": {},
     "output_type": "execute_result"
    }
   ],
   "source": [
    "df"
   ]
  },
  {
   "cell_type": "code",
   "execution_count": 8,
   "metadata": {
    "ExecuteTime": {
     "end_time": "2020-05-25T21:55:56.978351Z",
     "start_time": "2020-05-25T21:55:56.682063Z"
    }
   },
   "outputs": [],
   "source": [
    "df.to_csv('all_reviews.csv',index=False)\n",
    "# df = pd.read_csv('all_reviews.csv')\n",
    "not_found_df = pd.read_csv(\"not_found.csv\")"
   ]
  },
  {
   "cell_type": "markdown",
   "metadata": {},
   "source": [
    "## Get more information on all of the beers - Selenium"
   ]
  },
  {
   "cell_type": "code",
   "execution_count": 9,
   "metadata": {
    "ExecuteTime": {
     "end_time": "2020-05-25T21:55:57.059747Z",
     "start_time": "2020-05-25T21:55:56.982886Z"
    }
   },
   "outputs": [],
   "source": [
    "from selenium import webdriver\n",
    "import time"
   ]
  },
  {
   "cell_type": "code",
   "execution_count": 10,
   "metadata": {
    "ExecuteTime": {
     "end_time": "2020-05-25T21:55:57.121184Z",
     "start_time": "2020-05-25T21:55:57.061912Z"
    }
   },
   "outputs": [],
   "source": [
    "# extract already scraped data from previous scrapes so don't rescrape\n",
    "beer_df = pd.read_csv('beer_deets.csv')"
   ]
  },
  {
   "cell_type": "code",
   "execution_count": 11,
   "metadata": {
    "ExecuteTime": {
     "end_time": "2020-05-25T21:55:57.146477Z",
     "start_time": "2020-05-25T21:55:57.124508Z"
    }
   },
   "outputs": [
    {
     "name": "stdout",
     "output_type": "stream",
     "text": [
      "There are 813 new beers to search for!\n"
     ]
    }
   ],
   "source": [
    "# compare to the unique list to create a new to-be-scraped list\n",
    "new_beer = df.beer_name[(~df.beer_name.isin(beer_df.name_found))&(~df.beer_name.isin(not_found_df.not_found))].unique()\n",
    "print(\"There are\", len(new_beer), \"new beers to search for!\")"
   ]
  },
  {
   "cell_type": "code",
   "execution_count": 12,
   "metadata": {
    "ExecuteTime": {
     "end_time": "2020-05-25T22:34:24.944652Z",
     "start_time": "2020-05-25T21:55:57.154131Z"
    }
   },
   "outputs": [
    {
     "data": {
      "application/vnd.jupyter.widget-view+json": {
       "model_id": "7e0bc561e3a246fca0aac3545bb5bb07",
       "version_major": 2,
       "version_minor": 0
      },
      "text/plain": [
       "HBox(children=(FloatProgress(value=0.0, max=813.0), HTML(value='')))"
      ]
     },
     "metadata": {},
     "output_type": "display_data"
    },
    {
     "name": "stdout",
     "output_type": "stream",
     "text": [
      "\n"
     ]
    }
   ],
   "source": [
    "item_names = []\n",
    "desc_string = []\n",
    "\n",
    "driver = webdriver.Chrome(executable_path='/Users/lukebetham/Downloads/chromedriver')\n",
    "\n",
    "for beer in tqdm(new_beer):\n",
    "    driver.get(\"https://www.ratebeer.com/search?beername={}\".format(beer))\n",
    "    time.sleep(2)\n",
    "    item_tags = driver.find_elements_by_class_name('fg-1')\n",
    "\n",
    "    x=1\n",
    "    beer_temp = []\n",
    "    for item in item_tags:        \n",
    "        if x <2:\n",
    "            try:\n",
    "                item_names.append(item.find_element_by_class_name('fd-r').text)\n",
    "                x+=1\n",
    "            except:\n",
    "                pass\n",
    "            try:\n",
    "                beer_temp.append(item.text)\n",
    "            except:\n",
    "                pass\n",
    "    try:\n",
    "        desc_string.append(beer_temp[4])\n",
    "    except:\n",
    "        desc_string.append(None)\n",
    "\n",
    "driver.quit()"
   ]
  },
  {
   "cell_type": "code",
   "execution_count": 13,
   "metadata": {
    "ExecuteTime": {
     "end_time": "2020-05-25T22:34:24.965559Z",
     "start_time": "2020-05-25T22:34:24.946850Z"
    }
   },
   "outputs": [
    {
     "data": {
      "text/html": [
       "<div>\n",
       "<style scoped>\n",
       "    .dataframe tbody tr th:only-of-type {\n",
       "        vertical-align: middle;\n",
       "    }\n",
       "\n",
       "    .dataframe tbody tr th {\n",
       "        vertical-align: top;\n",
       "    }\n",
       "\n",
       "    .dataframe thead th {\n",
       "        text-align: right;\n",
       "    }\n",
       "</style>\n",
       "<table border=\"1\" class=\"dataframe\">\n",
       "  <thead>\n",
       "    <tr style=\"text-align: right;\">\n",
       "      <th></th>\n",
       "      <th>return_string</th>\n",
       "    </tr>\n",
       "  </thead>\n",
       "  <tbody>\n",
       "    <tr>\n",
       "      <th>0</th>\n",
       "      <td>Beer Tree Brew Lonely Island\\n🇺🇸 IPA • 7.1%\\n-...</td>\n",
       "    </tr>\n",
       "    <tr>\n",
       "      <th>1</th>\n",
       "      <td>Magic Rock Strongman Rye BA\\n🇬🇧 BarleyWine / W...</td>\n",
       "    </tr>\n",
       "    <tr>\n",
       "      <th>2</th>\n",
       "      <td>Beyond the Pale Pale Ale Project\\n🇨🇦 Pale Ale ...</td>\n",
       "    </tr>\n",
       "    <tr>\n",
       "      <th>3</th>\n",
       "      <td>Oliphant Mr. Samurai Karateguy\\n🇺🇸 IPA • 5.8%\\...</td>\n",
       "    </tr>\n",
       "    <tr>\n",
       "      <th>4</th>\n",
       "      <td>Commonwealth Inception\\n🇺🇸 IIPA DIPA - Hazy / ...</td>\n",
       "    </tr>\n",
       "    <tr>\n",
       "      <th>...</th>\n",
       "      <td>...</td>\n",
       "    </tr>\n",
       "    <tr>\n",
       "      <th>808</th>\n",
       "      <td>Silly Pink Killer\\n🇧🇪 Flavored - Fruit • 5.0%\\...</td>\n",
       "    </tr>\n",
       "    <tr>\n",
       "      <th>809</th>\n",
       "      <td>Bitte Schön Puddicombe House\\n🇨🇦 Pale Lager - ...</td>\n",
       "    </tr>\n",
       "    <tr>\n",
       "      <th>810</th>\n",
       "      <td>None</td>\n",
       "    </tr>\n",
       "    <tr>\n",
       "      <th>811</th>\n",
       "      <td>Tuque de Broue Tuque Dorée\\n🇨🇦 Pale Ale - Amer...</td>\n",
       "    </tr>\n",
       "    <tr>\n",
       "      <th>812</th>\n",
       "      <td>Boshkung Kungaroo\\n🇨🇦 IPA • 5.8%\\n-\\n-\\n2.92\\n...</td>\n",
       "    </tr>\n",
       "  </tbody>\n",
       "</table>\n",
       "<p>813 rows × 1 columns</p>\n",
       "</div>"
      ],
      "text/plain": [
       "                                         return_string\n",
       "0    Beer Tree Brew Lonely Island\\n🇺🇸 IPA • 7.1%\\n-...\n",
       "1    Magic Rock Strongman Rye BA\\n🇬🇧 BarleyWine / W...\n",
       "2    Beyond the Pale Pale Ale Project\\n🇨🇦 Pale Ale ...\n",
       "3    Oliphant Mr. Samurai Karateguy\\n🇺🇸 IPA • 5.8%\\...\n",
       "4    Commonwealth Inception\\n🇺🇸 IIPA DIPA - Hazy / ...\n",
       "..                                                 ...\n",
       "808  Silly Pink Killer\\n🇧🇪 Flavored - Fruit • 5.0%\\...\n",
       "809  Bitte Schön Puddicombe House\\n🇨🇦 Pale Lager - ...\n",
       "810                                               None\n",
       "811  Tuque de Broue Tuque Dorée\\n🇨🇦 Pale Ale - Amer...\n",
       "812  Boshkung Kungaroo\\n🇨🇦 IPA • 5.8%\\n-\\n-\\n2.92\\n...\n",
       "\n",
       "[813 rows x 1 columns]"
      ]
     },
     "execution_count": 13,
     "metadata": {},
     "output_type": "execute_result"
    }
   ],
   "source": [
    "beer_deets = pd.DataFrame(desc_string, columns = ['return_string'])\n",
    "beer_deets"
   ]
  },
  {
   "cell_type": "code",
   "execution_count": 14,
   "metadata": {
    "ExecuteTime": {
     "end_time": "2020-05-25T22:34:24.985205Z",
     "start_time": "2020-05-25T22:34:24.967397Z"
    }
   },
   "outputs": [],
   "source": [
    "## cleaning the scraped data\n",
    "beer_deets.dropna(inplace=True)\n",
    "beer_deets = beer_deets[~beer_deets.return_string.str.startswith('Logo\\n')].copy()\n",
    "no_alcohol = beer_deets[~beer_deets.return_string.str.contains('%')].copy()\n",
    "beer_deets = beer_deets[beer_deets.return_string.str.contains('%')].copy()\n"
   ]
  },
  {
   "cell_type": "code",
   "execution_count": 15,
   "metadata": {
    "ExecuteTime": {
     "end_time": "2020-05-25T22:34:25.015788Z",
     "start_time": "2020-05-25T22:34:24.990508Z"
    }
   },
   "outputs": [],
   "source": [
    "# sorting the scraped data into columns\n",
    "beer_deets['name_found'] = beer_deets.return_string.apply(lambda x: x.split('\\n')[0].strip())\n",
    "beer_deets['flag'] = beer_deets.return_string.apply(lambda x: x.split('\\n')[1].split('•')[0].split(\" \")[0])\n",
    "beer_deets['type'] = beer_deets.return_string.apply(lambda x: x.split('\\n')[1].split('•')[0][2:])\n",
    "beer_deets['abv'] = beer_deets.return_string.apply(lambda x: float(x.split('\\n')[1].split('•')[1].replace(\"%\",\"\")))\n",
    "beer_deets['rb_overall_score'] = beer_deets.return_string.apply(lambda x: x.split('\\n')[2])\n",
    "beer_deets['rb_style_score'] = beer_deets.return_string.apply(lambda x: x.split('\\n')[3])\n",
    "beer_deets['rb_user_rating'] = beer_deets.return_string.apply(lambda x: x.split('\\n')[4])\n",
    "beer_deets['rb_rating_number'] = beer_deets.return_string.apply(lambda x: x.split('\\n')[5].replace(\"(\",\"\").replace(\")\",\"\"))\n"
   ]
  },
  {
   "cell_type": "code",
   "execution_count": 16,
   "metadata": {
    "ExecuteTime": {
     "end_time": "2020-05-25T22:34:25.061809Z",
     "start_time": "2020-05-25T22:34:25.017843Z"
    }
   },
   "outputs": [
    {
     "data": {
      "text/html": [
       "<div>\n",
       "<style scoped>\n",
       "    .dataframe tbody tr th:only-of-type {\n",
       "        vertical-align: middle;\n",
       "    }\n",
       "\n",
       "    .dataframe tbody tr th {\n",
       "        vertical-align: top;\n",
       "    }\n",
       "\n",
       "    .dataframe thead th {\n",
       "        text-align: right;\n",
       "    }\n",
       "</style>\n",
       "<table border=\"1\" class=\"dataframe\">\n",
       "  <thead>\n",
       "    <tr style=\"text-align: right;\">\n",
       "      <th></th>\n",
       "      <th>return_string</th>\n",
       "      <th>name_found</th>\n",
       "      <th>flag</th>\n",
       "      <th>type</th>\n",
       "      <th>abv</th>\n",
       "      <th>rb_overall_score</th>\n",
       "      <th>rb_style_score</th>\n",
       "      <th>rb_user_rating</th>\n",
       "      <th>rb_rating_number</th>\n",
       "    </tr>\n",
       "  </thead>\n",
       "  <tbody>\n",
       "    <tr>\n",
       "      <th>15</th>\n",
       "      <td>Thomas Hooker Premier\\n🇺🇸 Pale Lager - Intl / ...</td>\n",
       "      <td>Thomas Hooker Premier</td>\n",
       "      <td>🇺🇸</td>\n",
       "      <td>Pale Lager - Intl / Premium</td>\n",
       "      <td>NaN</td>\n",
       "      <td>-</td>\n",
       "      <td>-</td>\n",
       "      <td>3.50</td>\n",
       "      <td>1</td>\n",
       "    </tr>\n",
       "    <tr>\n",
       "      <th>16</th>\n",
       "      <td>Les Trois Mousquetaires Keller Brett Saaz\\n🇨🇦 ...</td>\n",
       "      <td>Les Trois Mousquetaires Keller Brett Saaz</td>\n",
       "      <td>🇨🇦</td>\n",
       "      <td>Sour / Wild Beer</td>\n",
       "      <td>NaN</td>\n",
       "      <td>-</td>\n",
       "      <td>-</td>\n",
       "      <td>3.20</td>\n",
       "      <td>2</td>\n",
       "    </tr>\n",
       "    <tr>\n",
       "      <th>75</th>\n",
       "      <td>Sideward Audit in Progress\\n🇺🇸 IIPA DIPA - Imp...</td>\n",
       "      <td>Sideward Audit in Progress</td>\n",
       "      <td>🇺🇸</td>\n",
       "      <td>IIPA DIPA - Imperial / Double IPA</td>\n",
       "      <td>NaN</td>\n",
       "      <td>-</td>\n",
       "      <td>-</td>\n",
       "      <td>3.70</td>\n",
       "      <td>1</td>\n",
       "    </tr>\n",
       "    <tr>\n",
       "      <th>84</th>\n",
       "      <td>S43 Juice Cannon\\n🇬🇧 IPA - Hazy / NEIPA\\n-\\n-\\...</td>\n",
       "      <td>S43 Juice Cannon</td>\n",
       "      <td>🇬🇧</td>\n",
       "      <td>IPA - Hazy / NEIPA</td>\n",
       "      <td>NaN</td>\n",
       "      <td>-</td>\n",
       "      <td>-</td>\n",
       "      <td>3.80</td>\n",
       "      <td>1</td>\n",
       "    </tr>\n",
       "    <tr>\n",
       "      <th>173</th>\n",
       "      <td>Lil Beaver Lil Hoppy One\\n🇺🇸 ISA - Session IPA...</td>\n",
       "      <td>Lil Beaver Lil Hoppy One</td>\n",
       "      <td>🇺🇸</td>\n",
       "      <td>ISA - Session IPA</td>\n",
       "      <td>NaN</td>\n",
       "      <td>-</td>\n",
       "      <td>-</td>\n",
       "      <td>3.90</td>\n",
       "      <td>1</td>\n",
       "    </tr>\n",
       "    <tr>\n",
       "      <th>187</th>\n",
       "      <td>Cycle Scotch Barrel-Aged Imperial Stout\\n🇺🇸 St...</td>\n",
       "      <td>Cycle Scotch Barrel-Aged Imperial Stout</td>\n",
       "      <td>🇺🇸</td>\n",
       "      <td>Stout - Imperial</td>\n",
       "      <td>0.0</td>\n",
       "      <td>99</td>\n",
       "      <td>93</td>\n",
       "      <td>4.05</td>\n",
       "      <td>22</td>\n",
       "    </tr>\n",
       "    <tr>\n",
       "      <th>207</th>\n",
       "      <td>Épitaphe MacKveiken Flower\\n🇨🇦 Scotch Ale / We...</td>\n",
       "      <td>Épitaphe MacKveiken Flower</td>\n",
       "      <td>🇨🇦</td>\n",
       "      <td>Scotch Ale / Wee Heavy</td>\n",
       "      <td>NaN</td>\n",
       "      <td>-</td>\n",
       "      <td>-</td>\n",
       "      <td>4.30</td>\n",
       "      <td>3</td>\n",
       "    </tr>\n",
       "    <tr>\n",
       "      <th>252</th>\n",
       "      <td>Lagabière Hoppy Day\\n🇨🇦 IPA - Hazy / NEIPA\\n-\\...</td>\n",
       "      <td>Lagabière Hoppy Day</td>\n",
       "      <td>🇨🇦</td>\n",
       "      <td>IPA - Hazy / NEIPA</td>\n",
       "      <td>NaN</td>\n",
       "      <td>-</td>\n",
       "      <td>-</td>\n",
       "      <td>4.35</td>\n",
       "      <td>2</td>\n",
       "    </tr>\n",
       "    <tr>\n",
       "      <th>302</th>\n",
       "      <td>Siboire Sherbière\\n🇨🇦 Pilsener / Pils / Pilsne...</td>\n",
       "      <td>Siboire Sherbière</td>\n",
       "      <td>🇨🇦</td>\n",
       "      <td>Pilsener / Pils / Pilsner</td>\n",
       "      <td>0.0</td>\n",
       "      <td>-</td>\n",
       "      <td>-</td>\n",
       "      <td>3.50</td>\n",
       "      <td>2</td>\n",
       "    </tr>\n",
       "    <tr>\n",
       "      <th>316</th>\n",
       "      <td>Brasserie Générale 18e JumanSmooth : Terroir A...</td>\n",
       "      <td>Brasserie Générale 18e JumanSmooth : Terroir A...</td>\n",
       "      <td>🇨🇦</td>\n",
       "      <td>Sour / Wild Beer - Flavored</td>\n",
       "      <td>NaN</td>\n",
       "      <td>-</td>\n",
       "      <td>-</td>\n",
       "      <td>3.87</td>\n",
       "      <td>3</td>\n",
       "    </tr>\n",
       "    <tr>\n",
       "      <th>317</th>\n",
       "      <td>Bar Hop Tremelo V\\n🇨🇦 Saison / Farmhouse / Gri...</td>\n",
       "      <td>Bar Hop Tremelo V</td>\n",
       "      <td>🇨🇦</td>\n",
       "      <td>Saison / Farmhouse / Grisette</td>\n",
       "      <td>NaN</td>\n",
       "      <td>-</td>\n",
       "      <td>-</td>\n",
       "      <td>3.52</td>\n",
       "      <td>8</td>\n",
       "    </tr>\n",
       "    <tr>\n",
       "      <th>357</th>\n",
       "      <td>Joe Beef Apocalypse\\n🇨🇦 Flavored - Fruit\\n-\\n-...</td>\n",
       "      <td>Joe Beef Apocalypse</td>\n",
       "      <td>🇨🇦</td>\n",
       "      <td>Flavored - Fruit</td>\n",
       "      <td>NaN</td>\n",
       "      <td>-</td>\n",
       "      <td>-</td>\n",
       "      <td>3.34</td>\n",
       "      <td>9</td>\n",
       "    </tr>\n",
       "    <tr>\n",
       "      <th>376</th>\n",
       "      <td>Cellarmaker Mo' HBC 630\\n🇺🇸 IPA\\n-\\n-\\n3.40\\n(1)</td>\n",
       "      <td>Cellarmaker Mo' HBC 630</td>\n",
       "      <td>🇺🇸</td>\n",
       "      <td>IPA</td>\n",
       "      <td>NaN</td>\n",
       "      <td>-</td>\n",
       "      <td>-</td>\n",
       "      <td>3.40</td>\n",
       "      <td>1</td>\n",
       "    </tr>\n",
       "    <tr>\n",
       "      <th>404</th>\n",
       "      <td>Buck's Porter\\n🇺🇸 Porter0\\n-\\n-\\n3.30\\n(4)</td>\n",
       "      <td>Buck's Porter</td>\n",
       "      <td>🇺🇸</td>\n",
       "      <td>Porter</td>\n",
       "      <td>0.0</td>\n",
       "      <td>-</td>\n",
       "      <td>-</td>\n",
       "      <td>3.30</td>\n",
       "      <td>4</td>\n",
       "    </tr>\n",
       "    <tr>\n",
       "      <th>442</th>\n",
       "      <td>Three Tigers Humble Opinion's\\n🇺🇸 IIPA DIPA - ...</td>\n",
       "      <td>Three Tigers Humble Opinion's</td>\n",
       "      <td>🇺🇸</td>\n",
       "      <td>IIPA DIPA - Hazy / Double NEIPA</td>\n",
       "      <td>NaN</td>\n",
       "      <td>-</td>\n",
       "      <td>-</td>\n",
       "      <td>3.80</td>\n",
       "      <td>1</td>\n",
       "    </tr>\n",
       "    <tr>\n",
       "      <th>509</th>\n",
       "      <td>Stoudts Believer Reserve Tripel Belgian Style ...</td>\n",
       "      <td>Stoudts Believer Reserve Tripel Belgian Style Ale</td>\n",
       "      <td>🇺🇸</td>\n",
       "      <td>Tripel</td>\n",
       "      <td>NaN</td>\n",
       "      <td>-</td>\n",
       "      <td>-</td>\n",
       "      <td>3.85</td>\n",
       "      <td>2</td>\n",
       "    </tr>\n",
       "    <tr>\n",
       "      <th>536</th>\n",
       "      <td>Budweiser Zero\\n🇺🇸 Low / No Alcohol Beer - Pal...</td>\n",
       "      <td>Budweiser Zero</td>\n",
       "      <td>🇺🇸</td>\n",
       "      <td>Low / No Alcohol Beer - Pale</td>\n",
       "      <td>0.0</td>\n",
       "      <td>-</td>\n",
       "      <td>-</td>\n",
       "      <td>3.80</td>\n",
       "      <td>1</td>\n",
       "    </tr>\n",
       "    <tr>\n",
       "      <th>701</th>\n",
       "      <td>Brasseurs du Monde Le Festibière de Sherbrooke...</td>\n",
       "      <td>Brasseurs du Monde Le Festibière de Sherbrooke...</td>\n",
       "      <td>🇨🇦</td>\n",
       "      <td>IPA - Flavored</td>\n",
       "      <td>NaN</td>\n",
       "      <td>-</td>\n",
       "      <td>-</td>\n",
       "      <td>3.40</td>\n",
       "      <td>1</td>\n",
       "    </tr>\n",
       "    <tr>\n",
       "      <th>801</th>\n",
       "      <td>Staffelberg-Bräu Loffelder Alkoholfrei\\n🇩🇪 Low...</td>\n",
       "      <td>Staffelberg-Bräu Loffelder Alkoholfrei</td>\n",
       "      <td>🇩🇪</td>\n",
       "      <td>Low / No Alcohol Beer - Pale</td>\n",
       "      <td>0.0</td>\n",
       "      <td>-</td>\n",
       "      <td>-</td>\n",
       "      <td>1.81</td>\n",
       "      <td>8</td>\n",
       "    </tr>\n",
       "  </tbody>\n",
       "</table>\n",
       "</div>"
      ],
      "text/plain": [
       "                                         return_string  \\\n",
       "15   Thomas Hooker Premier\\n🇺🇸 Pale Lager - Intl / ...   \n",
       "16   Les Trois Mousquetaires Keller Brett Saaz\\n🇨🇦 ...   \n",
       "75   Sideward Audit in Progress\\n🇺🇸 IIPA DIPA - Imp...   \n",
       "84   S43 Juice Cannon\\n🇬🇧 IPA - Hazy / NEIPA\\n-\\n-\\...   \n",
       "173  Lil Beaver Lil Hoppy One\\n🇺🇸 ISA - Session IPA...   \n",
       "187  Cycle Scotch Barrel-Aged Imperial Stout\\n🇺🇸 St...   \n",
       "207  Épitaphe MacKveiken Flower\\n🇨🇦 Scotch Ale / We...   \n",
       "252  Lagabière Hoppy Day\\n🇨🇦 IPA - Hazy / NEIPA\\n-\\...   \n",
       "302  Siboire Sherbière\\n🇨🇦 Pilsener / Pils / Pilsne...   \n",
       "316  Brasserie Générale 18e JumanSmooth : Terroir A...   \n",
       "317  Bar Hop Tremelo V\\n🇨🇦 Saison / Farmhouse / Gri...   \n",
       "357  Joe Beef Apocalypse\\n🇨🇦 Flavored - Fruit\\n-\\n-...   \n",
       "376   Cellarmaker Mo' HBC 630\\n🇺🇸 IPA\\n-\\n-\\n3.40\\n(1)   \n",
       "404         Buck's Porter\\n🇺🇸 Porter0\\n-\\n-\\n3.30\\n(4)   \n",
       "442  Three Tigers Humble Opinion's\\n🇺🇸 IIPA DIPA - ...   \n",
       "509  Stoudts Believer Reserve Tripel Belgian Style ...   \n",
       "536  Budweiser Zero\\n🇺🇸 Low / No Alcohol Beer - Pal...   \n",
       "701  Brasseurs du Monde Le Festibière de Sherbrooke...   \n",
       "801  Staffelberg-Bräu Loffelder Alkoholfrei\\n🇩🇪 Low...   \n",
       "\n",
       "                                            name_found flag  \\\n",
       "15                               Thomas Hooker Premier   🇺🇸   \n",
       "16           Les Trois Mousquetaires Keller Brett Saaz   🇨🇦   \n",
       "75                          Sideward Audit in Progress   🇺🇸   \n",
       "84                                    S43 Juice Cannon   🇬🇧   \n",
       "173                           Lil Beaver Lil Hoppy One   🇺🇸   \n",
       "187            Cycle Scotch Barrel-Aged Imperial Stout   🇺🇸   \n",
       "207                         Épitaphe MacKveiken Flower   🇨🇦   \n",
       "252                                Lagabière Hoppy Day   🇨🇦   \n",
       "302                                  Siboire Sherbière   🇨🇦   \n",
       "316  Brasserie Générale 18e JumanSmooth : Terroir A...   🇨🇦   \n",
       "317                                  Bar Hop Tremelo V   🇨🇦   \n",
       "357                                Joe Beef Apocalypse   🇨🇦   \n",
       "376                            Cellarmaker Mo' HBC 630   🇺🇸   \n",
       "404                                      Buck's Porter   🇺🇸   \n",
       "442                      Three Tigers Humble Opinion's   🇺🇸   \n",
       "509  Stoudts Believer Reserve Tripel Belgian Style Ale   🇺🇸   \n",
       "536                                     Budweiser Zero   🇺🇸   \n",
       "701  Brasseurs du Monde Le Festibière de Sherbrooke...   🇨🇦   \n",
       "801             Staffelberg-Bräu Loffelder Alkoholfrei   🇩🇪   \n",
       "\n",
       "                                   type  abv rb_overall_score rb_style_score  \\\n",
       "15          Pale Lager - Intl / Premium  NaN                -              -   \n",
       "16                     Sour / Wild Beer  NaN                -              -   \n",
       "75    IIPA DIPA - Imperial / Double IPA  NaN                -              -   \n",
       "84                   IPA - Hazy / NEIPA  NaN                -              -   \n",
       "173                   ISA - Session IPA  NaN                -              -   \n",
       "187                    Stout - Imperial  0.0               99             93   \n",
       "207              Scotch Ale / Wee Heavy  NaN                -              -   \n",
       "252                  IPA - Hazy / NEIPA  NaN                -              -   \n",
       "302           Pilsener / Pils / Pilsner  0.0                -              -   \n",
       "316         Sour / Wild Beer - Flavored  NaN                -              -   \n",
       "317       Saison / Farmhouse / Grisette  NaN                -              -   \n",
       "357                    Flavored - Fruit  NaN                -              -   \n",
       "376                                 IPA  NaN                -              -   \n",
       "404                              Porter  0.0                -              -   \n",
       "442     IIPA DIPA - Hazy / Double NEIPA  NaN                -              -   \n",
       "509                              Tripel  NaN                -              -   \n",
       "536        Low / No Alcohol Beer - Pale  0.0                -              -   \n",
       "701                      IPA - Flavored  NaN                -              -   \n",
       "801        Low / No Alcohol Beer - Pale  0.0                -              -   \n",
       "\n",
       "    rb_user_rating rb_rating_number  \n",
       "15            3.50                1  \n",
       "16            3.20                2  \n",
       "75            3.70                1  \n",
       "84            3.80                1  \n",
       "173           3.90                1  \n",
       "187           4.05               22  \n",
       "207           4.30                3  \n",
       "252           4.35                2  \n",
       "302           3.50                2  \n",
       "316           3.87                3  \n",
       "317           3.52                8  \n",
       "357           3.34                9  \n",
       "376           3.40                1  \n",
       "404           3.30                4  \n",
       "442           3.80                1  \n",
       "509           3.85                2  \n",
       "536           3.80                1  \n",
       "701           3.40                1  \n",
       "801           1.81                8  "
      ]
     },
     "execution_count": 16,
     "metadata": {},
     "output_type": "execute_result"
    }
   ],
   "source": [
    "# sorting the no alcohol measure\n",
    "no_alcohol['name_found'] = no_alcohol.return_string.apply(lambda x: x.split('\\n')[0].strip())\n",
    "no_alcohol['flag'] = no_alcohol.return_string.apply(lambda x: x.split('\\n')[1].split('•')[0].split(\" \")[0])\n",
    "no_alcohol['type'] = no_alcohol.return_string.apply(lambda x: x.split('\\n')[1].split('•')[0][2:])\n",
    "no_alcohol['abv'] = no_alcohol.type.apply(lambda x: 0 if x[-1] == '0' else None)\n",
    "no_alcohol['type'] = no_alcohol.type.apply(lambda x: x[:-1] if x[-1] == '0' else x)\n",
    "no_alcohol['check'] = no_alcohol.return_string.apply(lambda x: len(x.split('\\n')))\n",
    "no_alcohol = no_alcohol[no_alcohol['check']>4].copy()\n",
    "no_alcohol['rb_overall_score'] = no_alcohol.return_string.apply(lambda x: x.split('\\n')[2])\n",
    "no_alcohol['rb_style_score'] = no_alcohol.return_string.apply(lambda x: x.split('\\n')[3])\n",
    "no_alcohol['rb_user_rating'] = no_alcohol.return_string.apply(lambda x: x.split('\\n')[4])\n",
    "no_alcohol['rb_rating_number'] = no_alcohol.return_string.apply(lambda x: x.split('\\n')[5].replace(\"(\",\"\").replace(\")\",\"\"))\n",
    "no_alcohol.drop('check',inplace=True, axis=1)\n",
    "\n",
    "no_alcohol"
   ]
  },
  {
   "cell_type": "code",
   "execution_count": 17,
   "metadata": {
    "ExecuteTime": {
     "end_time": "2020-05-25T22:34:25.087134Z",
     "start_time": "2020-05-25T22:34:25.063260Z"
    }
   },
   "outputs": [],
   "source": [
    "beer_df = pd.concat([beer_df,beer_deets,no_alcohol])"
   ]
  },
  {
   "cell_type": "code",
   "execution_count": 18,
   "metadata": {
    "ExecuteTime": {
     "end_time": "2020-05-25T22:34:25.112314Z",
     "start_time": "2020-05-25T22:34:25.090437Z"
    }
   },
   "outputs": [
    {
     "data": {
      "text/html": [
       "<div>\n",
       "<style scoped>\n",
       "    .dataframe tbody tr th:only-of-type {\n",
       "        vertical-align: middle;\n",
       "    }\n",
       "\n",
       "    .dataframe tbody tr th {\n",
       "        vertical-align: top;\n",
       "    }\n",
       "\n",
       "    .dataframe thead th {\n",
       "        text-align: right;\n",
       "    }\n",
       "</style>\n",
       "<table border=\"1\" class=\"dataframe\">\n",
       "  <thead>\n",
       "    <tr style=\"text-align: right;\">\n",
       "      <th></th>\n",
       "      <th>return_string</th>\n",
       "      <th>flag</th>\n",
       "      <th>type</th>\n",
       "      <th>abv</th>\n",
       "      <th>rb_overall_score</th>\n",
       "      <th>rb_style_score</th>\n",
       "      <th>rb_user_rating</th>\n",
       "      <th>rb_rating_number</th>\n",
       "      <th>name_found</th>\n",
       "    </tr>\n",
       "  </thead>\n",
       "  <tbody>\n",
       "    <tr>\n",
       "      <th>0</th>\n",
       "      <td>St. Peter's Ruby Red Ale\\n🇬🇧 Bitter - Ordinary...</td>\n",
       "      <td>🇬🇧</td>\n",
       "      <td>Bitter - Ordinary / Best</td>\n",
       "      <td>4.3</td>\n",
       "      <td>49</td>\n",
       "      <td>95</td>\n",
       "      <td>3.25</td>\n",
       "      <td>415</td>\n",
       "      <td>St. Peter's Ruby Red Ale</td>\n",
       "    </tr>\n",
       "    <tr>\n",
       "      <th>1</th>\n",
       "      <td>Shepherd Neame Spitfire (Bottle)\\n🇬🇧 Bitter - ...</td>\n",
       "      <td>🇬🇧</td>\n",
       "      <td>Bitter - Ordinary / Best</td>\n",
       "      <td>4.5</td>\n",
       "      <td>34</td>\n",
       "      <td>59</td>\n",
       "      <td>3.05</td>\n",
       "      <td>1083</td>\n",
       "      <td>Shepherd Neame Spitfire (Bottle)</td>\n",
       "    </tr>\n",
       "    <tr>\n",
       "      <th>2</th>\n",
       "      <td>Arbor Rocketman\\n🇬🇧 IPA • 6.0%\\n95\\n97\\n3.74\\n...</td>\n",
       "      <td>🇬🇧</td>\n",
       "      <td>IPA</td>\n",
       "      <td>6.0</td>\n",
       "      <td>95</td>\n",
       "      <td>97</td>\n",
       "      <td>3.74</td>\n",
       "      <td>59</td>\n",
       "      <td>Arbor Rocketman</td>\n",
       "    </tr>\n",
       "    <tr>\n",
       "      <th>3</th>\n",
       "      <td>Shepherd Neame India Pale Ale (Bottle)\\n🇬🇧 IPA...</td>\n",
       "      <td>🇬🇧</td>\n",
       "      <td>IPA - English</td>\n",
       "      <td>6.1</td>\n",
       "      <td>46</td>\n",
       "      <td>47</td>\n",
       "      <td>3.22</td>\n",
       "      <td>420</td>\n",
       "      <td>Shepherd Neame India Pale Ale (Bottle)</td>\n",
       "    </tr>\n",
       "    <tr>\n",
       "      <th>4</th>\n",
       "      <td>Shepherd Neame Christmas Ale\\n🇬🇧 Strong Ale - ...</td>\n",
       "      <td>🇬🇧</td>\n",
       "      <td>Strong Ale - English</td>\n",
       "      <td>7.0</td>\n",
       "      <td>45</td>\n",
       "      <td>46</td>\n",
       "      <td>3.18</td>\n",
       "      <td>409</td>\n",
       "      <td>Shepherd Neame Christmas Ale</td>\n",
       "    </tr>\n",
       "    <tr>\n",
       "      <th>...</th>\n",
       "      <td>...</td>\n",
       "      <td>...</td>\n",
       "      <td>...</td>\n",
       "      <td>...</td>\n",
       "      <td>...</td>\n",
       "      <td>...</td>\n",
       "      <td>...</td>\n",
       "      <td>...</td>\n",
       "      <td>...</td>\n",
       "    </tr>\n",
       "    <tr>\n",
       "      <th>442</th>\n",
       "      <td>Three Tigers Humble Opinion's\\n🇺🇸 IIPA DIPA - ...</td>\n",
       "      <td>🇺🇸</td>\n",
       "      <td>IIPA DIPA - Hazy / Double NEIPA</td>\n",
       "      <td>NaN</td>\n",
       "      <td>-</td>\n",
       "      <td>-</td>\n",
       "      <td>3.80</td>\n",
       "      <td>1</td>\n",
       "      <td>Three Tigers Humble Opinion's</td>\n",
       "    </tr>\n",
       "    <tr>\n",
       "      <th>509</th>\n",
       "      <td>Stoudts Believer Reserve Tripel Belgian Style ...</td>\n",
       "      <td>🇺🇸</td>\n",
       "      <td>Tripel</td>\n",
       "      <td>NaN</td>\n",
       "      <td>-</td>\n",
       "      <td>-</td>\n",
       "      <td>3.85</td>\n",
       "      <td>2</td>\n",
       "      <td>Stoudts Believer Reserve Tripel Belgian Style Ale</td>\n",
       "    </tr>\n",
       "    <tr>\n",
       "      <th>536</th>\n",
       "      <td>Budweiser Zero\\n🇺🇸 Low / No Alcohol Beer - Pal...</td>\n",
       "      <td>🇺🇸</td>\n",
       "      <td>Low / No Alcohol Beer - Pale</td>\n",
       "      <td>0.0</td>\n",
       "      <td>-</td>\n",
       "      <td>-</td>\n",
       "      <td>3.80</td>\n",
       "      <td>1</td>\n",
       "      <td>Budweiser Zero</td>\n",
       "    </tr>\n",
       "    <tr>\n",
       "      <th>701</th>\n",
       "      <td>Brasseurs du Monde Le Festibière de Sherbrooke...</td>\n",
       "      <td>🇨🇦</td>\n",
       "      <td>IPA - Flavored</td>\n",
       "      <td>NaN</td>\n",
       "      <td>-</td>\n",
       "      <td>-</td>\n",
       "      <td>3.40</td>\n",
       "      <td>1</td>\n",
       "      <td>Brasseurs du Monde Le Festibière de Sherbrooke...</td>\n",
       "    </tr>\n",
       "    <tr>\n",
       "      <th>801</th>\n",
       "      <td>Staffelberg-Bräu Loffelder Alkoholfrei\\n🇩🇪 Low...</td>\n",
       "      <td>🇩🇪</td>\n",
       "      <td>Low / No Alcohol Beer - Pale</td>\n",
       "      <td>0.0</td>\n",
       "      <td>-</td>\n",
       "      <td>-</td>\n",
       "      <td>1.81</td>\n",
       "      <td>8</td>\n",
       "      <td>Staffelberg-Bräu Loffelder Alkoholfrei</td>\n",
       "    </tr>\n",
       "  </tbody>\n",
       "</table>\n",
       "<p>14764 rows × 9 columns</p>\n",
       "</div>"
      ],
      "text/plain": [
       "                                         return_string flag  \\\n",
       "0    St. Peter's Ruby Red Ale\\n🇬🇧 Bitter - Ordinary...   🇬🇧   \n",
       "1    Shepherd Neame Spitfire (Bottle)\\n🇬🇧 Bitter - ...   🇬🇧   \n",
       "2    Arbor Rocketman\\n🇬🇧 IPA • 6.0%\\n95\\n97\\n3.74\\n...   🇬🇧   \n",
       "3    Shepherd Neame India Pale Ale (Bottle)\\n🇬🇧 IPA...   🇬🇧   \n",
       "4    Shepherd Neame Christmas Ale\\n🇬🇧 Strong Ale - ...   🇬🇧   \n",
       "..                                                 ...  ...   \n",
       "442  Three Tigers Humble Opinion's\\n🇺🇸 IIPA DIPA - ...   🇺🇸   \n",
       "509  Stoudts Believer Reserve Tripel Belgian Style ...   🇺🇸   \n",
       "536  Budweiser Zero\\n🇺🇸 Low / No Alcohol Beer - Pal...   🇺🇸   \n",
       "701  Brasseurs du Monde Le Festibière de Sherbrooke...   🇨🇦   \n",
       "801  Staffelberg-Bräu Loffelder Alkoholfrei\\n🇩🇪 Low...   🇩🇪   \n",
       "\n",
       "                                 type  abv rb_overall_score rb_style_score  \\\n",
       "0           Bitter - Ordinary / Best   4.3               49             95   \n",
       "1           Bitter - Ordinary / Best   4.5               34             59   \n",
       "2                                IPA   6.0               95             97   \n",
       "3                      IPA - English   6.1               46             47   \n",
       "4               Strong Ale - English   7.0               45             46   \n",
       "..                                ...  ...              ...            ...   \n",
       "442   IIPA DIPA - Hazy / Double NEIPA  NaN                -              -   \n",
       "509                            Tripel  NaN                -              -   \n",
       "536      Low / No Alcohol Beer - Pale  0.0                -              -   \n",
       "701                    IPA - Flavored  NaN                -              -   \n",
       "801      Low / No Alcohol Beer - Pale  0.0                -              -   \n",
       "\n",
       "    rb_user_rating rb_rating_number  \\\n",
       "0             3.25              415   \n",
       "1             3.05             1083   \n",
       "2             3.74               59   \n",
       "3             3.22              420   \n",
       "4             3.18              409   \n",
       "..             ...              ...   \n",
       "442           3.80                1   \n",
       "509           3.85                2   \n",
       "536           3.80                1   \n",
       "701           3.40                1   \n",
       "801           1.81                8   \n",
       "\n",
       "                                            name_found  \n",
       "0                             St. Peter's Ruby Red Ale  \n",
       "1                     Shepherd Neame Spitfire (Bottle)  \n",
       "2                                      Arbor Rocketman  \n",
       "3               Shepherd Neame India Pale Ale (Bottle)  \n",
       "4                         Shepherd Neame Christmas Ale  \n",
       "..                                                 ...  \n",
       "442                      Three Tigers Humble Opinion's  \n",
       "509  Stoudts Believer Reserve Tripel Belgian Style Ale  \n",
       "536                                     Budweiser Zero  \n",
       "701  Brasseurs du Monde Le Festibière de Sherbrooke...  \n",
       "801             Staffelberg-Bräu Loffelder Alkoholfrei  \n",
       "\n",
       "[14764 rows x 9 columns]"
      ]
     },
     "execution_count": 18,
     "metadata": {},
     "output_type": "execute_result"
    }
   ],
   "source": [
    "beer_df"
   ]
  },
  {
   "cell_type": "code",
   "execution_count": 19,
   "metadata": {
    "ExecuteTime": {
     "end_time": "2020-05-25T22:34:25.135297Z",
     "start_time": "2020-05-25T22:34:25.114065Z"
    }
   },
   "outputs": [
    {
     "name": "stdout",
     "output_type": "stream",
     "text": [
      "There are 46 new beers that were not found or returned errors. They will be added to the no search list.\n"
     ]
    }
   ],
   "source": [
    "# compare to the unique list to create a new to-be-scraped list\n",
    "not_found_beer = df.beer_name[~df.beer_name.isin(beer_df.name_found)].unique()\n",
    "print(\"There are\", len(not_found_beer)-len(not_found_df), \"new beers that were not found or returned errors. They will be added to the no search list.\")\n",
    "not_found_df = pd.concat([not_found_df,pd.DataFrame(not_found_beer,columns = [\"not_found\"])])\n",
    "not_found_df.drop_duplicates(inplace=True)"
   ]
  },
  {
   "cell_type": "code",
   "execution_count": 20,
   "metadata": {
    "ExecuteTime": {
     "end_time": "2020-05-25T22:34:25.251161Z",
     "start_time": "2020-05-25T22:34:25.138093Z"
    }
   },
   "outputs": [],
   "source": [
    "beer_df.to_csv('beer_deets.csv',index=False)\n",
    "not_found_df.to_csv(\"not_found.csv\", index=False)"
   ]
  },
  {
   "cell_type": "code",
   "execution_count": null,
   "metadata": {
    "ExecuteTime": {
     "end_time": "2020-05-05T14:04:40.065563Z",
     "start_time": "2020-05-05T14:04:40.053981Z"
    }
   },
   "outputs": [],
   "source": []
  },
  {
   "cell_type": "code",
   "execution_count": null,
   "metadata": {},
   "outputs": [],
   "source": []
  }
 ],
 "metadata": {
  "kernelspec": {
   "display_name": "Python 3",
   "language": "python",
   "name": "python3"
  },
  "language_info": {
   "codemirror_mode": {
    "name": "ipython",
    "version": 3
   },
   "file_extension": ".py",
   "mimetype": "text/x-python",
   "name": "python",
   "nbconvert_exporter": "python",
   "pygments_lexer": "ipython3",
   "version": "3.7.1"
  },
  "toc": {
   "base_numbering": 1,
   "nav_menu": {},
   "number_sections": true,
   "sideBar": true,
   "skip_h1_title": false,
   "title_cell": "Table of Contents",
   "title_sidebar": "Contents",
   "toc_cell": false,
   "toc_position": {},
   "toc_section_display": true,
   "toc_window_display": false
  },
  "varInspector": {
   "cols": {
    "lenName": 16,
    "lenType": 16,
    "lenVar": 40
   },
   "kernels_config": {
    "python": {
     "delete_cmd_postfix": "",
     "delete_cmd_prefix": "del ",
     "library": "var_list.py",
     "varRefreshCmd": "print(var_dic_list())"
    },
    "r": {
     "delete_cmd_postfix": ") ",
     "delete_cmd_prefix": "rm(",
     "library": "var_list.r",
     "varRefreshCmd": "cat(var_dic_list()) "
    }
   },
   "types_to_exclude": [
    "module",
    "function",
    "builtin_function_or_method",
    "instance",
    "_Feature"
   ],
   "window_display": false
  }
 },
 "nbformat": 4,
 "nbformat_minor": 4
}
